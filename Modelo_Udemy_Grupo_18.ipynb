{
  "nbformat": 4,
  "nbformat_minor": 0,
  "metadata": {
    "colab": {
      "name": "Modelo Udemy Grupo 18.ipynb",
      "provenance": [],
      "collapsed_sections": [],
      "toc_visible": true
    },
    "kernelspec": {
      "name": "python3",
      "display_name": "Python 3"
    },
    "language_info": {
      "name": "python"
    }
  },
  "cells": [
    {
      "cell_type": "markdown",
      "source": [
        "#Librerías"
      ],
      "metadata": {
        "id": "k5TEDOK3MGzn"
      }
    },
    {
      "cell_type": "markdown",
      "source": [
        "##Librerías básicas"
      ],
      "metadata": {
        "id": "7B_IsR3MMVbG"
      }
    },
    {
      "cell_type": "code",
      "execution_count": null,
      "metadata": {
        "id": "jw8ogMDOpvKP"
      },
      "outputs": [],
      "source": [
        "import pandas as pd\n",
        "import sklearn as sk\n",
        "from sklearn import model_selection\n",
        "from sklearn import ensemble\n",
        "from sklearn import metrics\n",
        "import numpy as np\n",
        "import scipy as sp\n",
        "import random"
      ]
    },
    {
      "cell_type": "markdown",
      "source": [
        "##Gráficos"
      ],
      "metadata": {
        "id": "ks3fubmYMpxO"
      }
    },
    {
      "cell_type": "code",
      "source": [
        "import matplotlib.pyplot as plt\n",
        "import seaborn as sns"
      ],
      "metadata": {
        "id": "NelnVQXFMnSr"
      },
      "execution_count": null,
      "outputs": []
    },
    {
      "cell_type": "markdown",
      "source": [
        "##Imputación"
      ],
      "metadata": {
        "id": "vaujoW_KNJ4m"
      }
    },
    {
      "cell_type": "code",
      "source": [
        "from sklearn.impute import SimpleImputer\n",
        "from sklearn.impute import KNNImputer\n",
        "from sklearn.experimental import enable_iterative_imputer\n",
        "from sklearn.impute import IterativeImputer\n",
        "from sklearn.impute import MissingIndicator"
      ],
      "metadata": {
        "id": "vamF_PsTM8r2"
      },
      "execution_count": null,
      "outputs": []
    },
    {
      "cell_type": "markdown",
      "source": [
        "##Selección de atributos"
      ],
      "metadata": {
        "id": "brtc4hu0MypW"
      }
    },
    {
      "cell_type": "code",
      "source": [
        "from sklearn.feature_selection import chi2, SelectKBest, VarianceThreshold, RFE, SequentialFeatureSelector"
      ],
      "metadata": {
        "id": "IaJsQQVLMvv-"
      },
      "execution_count": null,
      "outputs": []
    },
    {
      "cell_type": "markdown",
      "source": [
        "##Procesamiento de texto"
      ],
      "metadata": {
        "id": "O4c4yLPXMLWj"
      }
    },
    {
      "cell_type": "code",
      "source": [
        "import nltk\n",
        "nltk.download('punkt')\n",
        "nltk.download('stopwords')\n",
        "nltk.download('wordnet')\n",
        "from nltk import word_tokenize\n",
        "from nltk.tokenize import RegexpTokenizer\n",
        "from nltk.corpus import stopwords\n",
        "from nltk.stem import SnowballStemmer\n",
        "from nltk.stem import WordNetLemmatizer\n",
        "\n",
        "from sklearn.feature_extraction.text import CountVectorizer"
      ],
      "metadata": {
        "colab": {
          "base_uri": "https://localhost:8080/"
        },
        "id": "E9N_ghBTkthU",
        "outputId": "8a311e5b-5643-4699-f5fd-7df24751bf7d"
      },
      "execution_count": null,
      "outputs": [
        {
          "output_type": "stream",
          "name": "stderr",
          "text": [
            "[nltk_data] Downloading package punkt to /root/nltk_data...\n",
            "[nltk_data]   Unzipping tokenizers/punkt.zip.\n",
            "[nltk_data] Downloading package stopwords to /root/nltk_data...\n",
            "[nltk_data]   Unzipping corpora/stopwords.zip.\n",
            "[nltk_data] Downloading package wordnet to /root/nltk_data...\n",
            "[nltk_data]   Unzipping corpora/wordnet.zip.\n"
          ]
        }
      ]
    },
    {
      "cell_type": "markdown",
      "source": [
        "##Balanceo"
      ],
      "metadata": {
        "id": "hUP059aYgiQC"
      }
    },
    {
      "cell_type": "code",
      "source": [
        "! pip install -U -q imbalanced-learn"
      ],
      "metadata": {
        "colab": {
          "base_uri": "https://localhost:8080/"
        },
        "id": "1J8fWGrzgk41",
        "outputId": "a2e376a9-cb21-4023-bcbc-f1fc2406b0fe"
      },
      "execution_count": null,
      "outputs": [
        {
          "output_type": "stream",
          "name": "stdout",
          "text": [
            "\u001b[K     |████████████████████████████████| 199 kB 9.8 MB/s \n",
            "\u001b[K     |████████████████████████████████| 199 kB 47.8 MB/s \n",
            "\u001b[?25h"
          ]
        }
      ]
    },
    {
      "cell_type": "code",
      "source": [
        "from imblearn.over_sampling import RandomOverSampler\n",
        "from imblearn.over_sampling import SMOTE\n",
        "from imblearn.over_sampling import ADASYN"
      ],
      "metadata": {
        "id": "cbjBGZkHgtQZ"
      },
      "execution_count": null,
      "outputs": []
    },
    {
      "cell_type": "markdown",
      "source": [
        "# Lectura de datos"
      ],
      "metadata": {
        "id": "20D-m6GPyefp"
      }
    },
    {
      "cell_type": "markdown",
      "source": [
        "##Carga de datos"
      ],
      "metadata": {
        "id": "n74_PtN_OnEl"
      }
    },
    {
      "cell_type": "code",
      "source": [
        "!gdown -q --fuzzy https://drive.google.com/file/d/1W2ZvJq9sOXeAhOScdaY1gUKP_10QZUkI/view?usp=sharing\n",
        "!unzip /content/udemy.zip "
      ],
      "metadata": {
        "colab": {
          "base_uri": "https://localhost:8080/"
        },
        "id": "WzvH-RSxPx0R",
        "outputId": "982f19c0-08a1-4daf-8390-c1888bab1454"
      },
      "execution_count": null,
      "outputs": [
        {
          "output_type": "stream",
          "name": "stdout",
          "text": [
            "Archive:  /content/udemy.zip\n",
            "  inflating: udemy_entrenamiento.xlsx  \n",
            "  inflating: udemy_prueba.xlsx       \n"
          ]
        }
      ]
    },
    {
      "cell_type": "code",
      "source": [
        "df_entrenamiento = pd.read_excel('/content/udemy_entrenamiento.xlsx', index_col=\"id\", parse_dates=['created_date', 'published_date', 'last_update_date'])"
      ],
      "metadata": {
        "id": "CtV0wOGsqJLC"
      },
      "execution_count": null,
      "outputs": []
    },
    {
      "cell_type": "code",
      "source": [
        "df_prueba = pd.read_excel('/content/udemy_prueba.xlsx', index_col=\"id\", parse_dates=['created_date', 'published_date', 'last_update_date'])"
      ],
      "metadata": {
        "id": "mFsXMBPUqTQl"
      },
      "execution_count": null,
      "outputs": []
    },
    {
      "cell_type": "code",
      "source": [
        "df_entrenamiento['bestseller'] = df_entrenamiento['bestseller'].map({'yes': 'si', 'no': 'no'})"
      ],
      "metadata": {
        "id": "tJBpje8QGbrq"
      },
      "execution_count": null,
      "outputs": []
    },
    {
      "cell_type": "markdown",
      "source": [
        "##Un pequeño vistazo"
      ],
      "metadata": {
        "id": "V_Zx3ho8OLY-"
      }
    },
    {
      "cell_type": "code",
      "source": [
        "df_entrenamiento.head()"
      ],
      "metadata": {
        "colab": {
          "base_uri": "https://localhost:8080/",
          "height": 648
        },
        "id": "eq6CtQVHOW_s",
        "outputId": "182956a1-7a52-4325-8872-f35b7b210194"
      },
      "execution_count": null,
      "outputs": [
        {
          "output_type": "execute_result",
          "data": {
            "text/plain": [
              "                                                title  \\\n",
              "id                                                      \n",
              "1   Aprende a tocar Piano o Teclado (Desde nivel b...   \n",
              "2   Curso Hipoterapia y Rehabilitacion Ecuestre On...   \n",
              "3                                    Curso SEO Online   \n",
              "4                              Aprende CSS3 sin dolor   \n",
              "5                    Aprende Javascript, HTML5 y CSS3   \n",
              "\n",
              "                                             headline  \\\n",
              "id                                                      \n",
              "1   Curso completo de Piano con TEORÍA para el fun...   \n",
              "2   Terapias asistidas por Caballos (Hipoterapia, ...   \n",
              "3   Curso SEO práctico. Aprenda a posicionar su si...   \n",
              "4   Realiza animaciones asombrosas, antes imposibl...   \n",
              "5   Aprende los principales lenguajes que dominan ...   \n",
              "\n",
              "    is_practice_test_course bestseller captions    rating  \\\n",
              "id                                                          \n",
              "1                     False         no    es_LA  4.535809   \n",
              "2                     False         no    es_ES  4.133590   \n",
              "3                     False         no    es_ES  3.841912   \n",
              "4                     False         no    es_MX  4.039739   \n",
              "5                     False         si      NaN  4.643154   \n",
              "\n",
              "    num_published_lectures  num_published_practice_tests locale created_date  \\\n",
              "id                                                                             \n",
              "1                       58                             1  es_LA   2012-01-26   \n",
              "2                       32                             0  es_ES   2012-06-10   \n",
              "3                       76                             0  es_ES   2011-06-13   \n",
              "4                       68                             0  es_MX   2012-08-30   \n",
              "5                      550                             0  es_MX   2012-08-30   \n",
              "\n",
              "   instructional_level_simple published_date last_update_date  \\\n",
              "id                                                              \n",
              "1           Todos los niveles     2012-01-26       2021-05-19   \n",
              "2                Principiante     2012-06-10       2015-12-17   \n",
              "3           Todos los niveles     2012-07-03       2020-02-28   \n",
              "4                  Intermedio     2012-08-31       2019-09-08   \n",
              "5           Todos los niveles     2012-09-02       2021-03-04   \n",
              "\n",
              "   content_info_short instructors        category                 subcategory  \\\n",
              "id                                                                              \n",
              "1             4 horas      121211          Música                       Piano   \n",
              "2            10 horas      236127  Estilo de vida  Adiestramiento de mascotas   \n",
              "3           6,5 horas        3851       Marketing                         SEO   \n",
              "4           9,5 horas      171706      Desarrollo                         CSS   \n",
              "5          70,5 horas      171706      Desarrollo                  JavaScript   \n",
              "\n",
              "                                           objectives list_price  \\\n",
              "id                                                                 \n",
              "1   Aprende Piano desde nivel básico. Estudiaras l...     $34.99   \n",
              "2   La Hipoterapia y la Psicología.La Hipoterapia ...     $99.99   \n",
              "3   Entender los fundamentos del SEO.Aprender a ha...     $94.99   \n",
              "4   El alumno conocerá las principales característ...     $19.99   \n",
              "5   Desarrollar páginas dinámicas con JavaScript, ...     $29.99   \n",
              "\n",
              "   discount_price  \n",
              "id                 \n",
              "1             $12  \n",
              "2             NaN  \n",
              "3             $12  \n",
              "4             $12  \n",
              "5             $12  "
            ],
            "text/html": [
              "\n",
              "  <div id=\"df-30b7a687-c3cb-4a17-91ed-b60d8a5c2b5e\">\n",
              "    <div class=\"colab-df-container\">\n",
              "      <div>\n",
              "<style scoped>\n",
              "    .dataframe tbody tr th:only-of-type {\n",
              "        vertical-align: middle;\n",
              "    }\n",
              "\n",
              "    .dataframe tbody tr th {\n",
              "        vertical-align: top;\n",
              "    }\n",
              "\n",
              "    .dataframe thead th {\n",
              "        text-align: right;\n",
              "    }\n",
              "</style>\n",
              "<table border=\"1\" class=\"dataframe\">\n",
              "  <thead>\n",
              "    <tr style=\"text-align: right;\">\n",
              "      <th></th>\n",
              "      <th>title</th>\n",
              "      <th>headline</th>\n",
              "      <th>is_practice_test_course</th>\n",
              "      <th>bestseller</th>\n",
              "      <th>captions</th>\n",
              "      <th>rating</th>\n",
              "      <th>num_published_lectures</th>\n",
              "      <th>num_published_practice_tests</th>\n",
              "      <th>locale</th>\n",
              "      <th>created_date</th>\n",
              "      <th>instructional_level_simple</th>\n",
              "      <th>published_date</th>\n",
              "      <th>last_update_date</th>\n",
              "      <th>content_info_short</th>\n",
              "      <th>instructors</th>\n",
              "      <th>category</th>\n",
              "      <th>subcategory</th>\n",
              "      <th>objectives</th>\n",
              "      <th>list_price</th>\n",
              "      <th>discount_price</th>\n",
              "    </tr>\n",
              "    <tr>\n",
              "      <th>id</th>\n",
              "      <th></th>\n",
              "      <th></th>\n",
              "      <th></th>\n",
              "      <th></th>\n",
              "      <th></th>\n",
              "      <th></th>\n",
              "      <th></th>\n",
              "      <th></th>\n",
              "      <th></th>\n",
              "      <th></th>\n",
              "      <th></th>\n",
              "      <th></th>\n",
              "      <th></th>\n",
              "      <th></th>\n",
              "      <th></th>\n",
              "      <th></th>\n",
              "      <th></th>\n",
              "      <th></th>\n",
              "      <th></th>\n",
              "      <th></th>\n",
              "    </tr>\n",
              "  </thead>\n",
              "  <tbody>\n",
              "    <tr>\n",
              "      <th>1</th>\n",
              "      <td>Aprende a tocar Piano o Teclado (Desde nivel b...</td>\n",
              "      <td>Curso completo de Piano con TEORÍA para el fun...</td>\n",
              "      <td>False</td>\n",
              "      <td>no</td>\n",
              "      <td>es_LA</td>\n",
              "      <td>4.535809</td>\n",
              "      <td>58</td>\n",
              "      <td>1</td>\n",
              "      <td>es_LA</td>\n",
              "      <td>2012-01-26</td>\n",
              "      <td>Todos los niveles</td>\n",
              "      <td>2012-01-26</td>\n",
              "      <td>2021-05-19</td>\n",
              "      <td>4 horas</td>\n",
              "      <td>121211</td>\n",
              "      <td>Música</td>\n",
              "      <td>Piano</td>\n",
              "      <td>Aprende Piano desde nivel básico. Estudiaras l...</td>\n",
              "      <td>$34.99</td>\n",
              "      <td>$12</td>\n",
              "    </tr>\n",
              "    <tr>\n",
              "      <th>2</th>\n",
              "      <td>Curso Hipoterapia y Rehabilitacion Ecuestre On...</td>\n",
              "      <td>Terapias asistidas por Caballos (Hipoterapia, ...</td>\n",
              "      <td>False</td>\n",
              "      <td>no</td>\n",
              "      <td>es_ES</td>\n",
              "      <td>4.133590</td>\n",
              "      <td>32</td>\n",
              "      <td>0</td>\n",
              "      <td>es_ES</td>\n",
              "      <td>2012-06-10</td>\n",
              "      <td>Principiante</td>\n",
              "      <td>2012-06-10</td>\n",
              "      <td>2015-12-17</td>\n",
              "      <td>10 horas</td>\n",
              "      <td>236127</td>\n",
              "      <td>Estilo de vida</td>\n",
              "      <td>Adiestramiento de mascotas</td>\n",
              "      <td>La Hipoterapia y la Psicología.La Hipoterapia ...</td>\n",
              "      <td>$99.99</td>\n",
              "      <td>NaN</td>\n",
              "    </tr>\n",
              "    <tr>\n",
              "      <th>3</th>\n",
              "      <td>Curso SEO Online</td>\n",
              "      <td>Curso SEO práctico. Aprenda a posicionar su si...</td>\n",
              "      <td>False</td>\n",
              "      <td>no</td>\n",
              "      <td>es_ES</td>\n",
              "      <td>3.841912</td>\n",
              "      <td>76</td>\n",
              "      <td>0</td>\n",
              "      <td>es_ES</td>\n",
              "      <td>2011-06-13</td>\n",
              "      <td>Todos los niveles</td>\n",
              "      <td>2012-07-03</td>\n",
              "      <td>2020-02-28</td>\n",
              "      <td>6,5 horas</td>\n",
              "      <td>3851</td>\n",
              "      <td>Marketing</td>\n",
              "      <td>SEO</td>\n",
              "      <td>Entender los fundamentos del SEO.Aprender a ha...</td>\n",
              "      <td>$94.99</td>\n",
              "      <td>$12</td>\n",
              "    </tr>\n",
              "    <tr>\n",
              "      <th>4</th>\n",
              "      <td>Aprende CSS3 sin dolor</td>\n",
              "      <td>Realiza animaciones asombrosas, antes imposibl...</td>\n",
              "      <td>False</td>\n",
              "      <td>no</td>\n",
              "      <td>es_MX</td>\n",
              "      <td>4.039739</td>\n",
              "      <td>68</td>\n",
              "      <td>0</td>\n",
              "      <td>es_MX</td>\n",
              "      <td>2012-08-30</td>\n",
              "      <td>Intermedio</td>\n",
              "      <td>2012-08-31</td>\n",
              "      <td>2019-09-08</td>\n",
              "      <td>9,5 horas</td>\n",
              "      <td>171706</td>\n",
              "      <td>Desarrollo</td>\n",
              "      <td>CSS</td>\n",
              "      <td>El alumno conocerá las principales característ...</td>\n",
              "      <td>$19.99</td>\n",
              "      <td>$12</td>\n",
              "    </tr>\n",
              "    <tr>\n",
              "      <th>5</th>\n",
              "      <td>Aprende Javascript, HTML5 y CSS3</td>\n",
              "      <td>Aprende los principales lenguajes que dominan ...</td>\n",
              "      <td>False</td>\n",
              "      <td>si</td>\n",
              "      <td>NaN</td>\n",
              "      <td>4.643154</td>\n",
              "      <td>550</td>\n",
              "      <td>0</td>\n",
              "      <td>es_MX</td>\n",
              "      <td>2012-08-30</td>\n",
              "      <td>Todos los niveles</td>\n",
              "      <td>2012-09-02</td>\n",
              "      <td>2021-03-04</td>\n",
              "      <td>70,5 horas</td>\n",
              "      <td>171706</td>\n",
              "      <td>Desarrollo</td>\n",
              "      <td>JavaScript</td>\n",
              "      <td>Desarrollar páginas dinámicas con JavaScript, ...</td>\n",
              "      <td>$29.99</td>\n",
              "      <td>$12</td>\n",
              "    </tr>\n",
              "  </tbody>\n",
              "</table>\n",
              "</div>\n",
              "      <button class=\"colab-df-convert\" onclick=\"convertToInteractive('df-30b7a687-c3cb-4a17-91ed-b60d8a5c2b5e')\"\n",
              "              title=\"Convert this dataframe to an interactive table.\"\n",
              "              style=\"display:none;\">\n",
              "        \n",
              "  <svg xmlns=\"http://www.w3.org/2000/svg\" height=\"24px\"viewBox=\"0 0 24 24\"\n",
              "       width=\"24px\">\n",
              "    <path d=\"M0 0h24v24H0V0z\" fill=\"none\"/>\n",
              "    <path d=\"M18.56 5.44l.94 2.06.94-2.06 2.06-.94-2.06-.94-.94-2.06-.94 2.06-2.06.94zm-11 1L8.5 8.5l.94-2.06 2.06-.94-2.06-.94L8.5 2.5l-.94 2.06-2.06.94zm10 10l.94 2.06.94-2.06 2.06-.94-2.06-.94-.94-2.06-.94 2.06-2.06.94z\"/><path d=\"M17.41 7.96l-1.37-1.37c-.4-.4-.92-.59-1.43-.59-.52 0-1.04.2-1.43.59L10.3 9.45l-7.72 7.72c-.78.78-.78 2.05 0 2.83L4 21.41c.39.39.9.59 1.41.59.51 0 1.02-.2 1.41-.59l7.78-7.78 2.81-2.81c.8-.78.8-2.07 0-2.86zM5.41 20L4 18.59l7.72-7.72 1.47 1.35L5.41 20z\"/>\n",
              "  </svg>\n",
              "      </button>\n",
              "      \n",
              "  <style>\n",
              "    .colab-df-container {\n",
              "      display:flex;\n",
              "      flex-wrap:wrap;\n",
              "      gap: 12px;\n",
              "    }\n",
              "\n",
              "    .colab-df-convert {\n",
              "      background-color: #E8F0FE;\n",
              "      border: none;\n",
              "      border-radius: 50%;\n",
              "      cursor: pointer;\n",
              "      display: none;\n",
              "      fill: #1967D2;\n",
              "      height: 32px;\n",
              "      padding: 0 0 0 0;\n",
              "      width: 32px;\n",
              "    }\n",
              "\n",
              "    .colab-df-convert:hover {\n",
              "      background-color: #E2EBFA;\n",
              "      box-shadow: 0px 1px 2px rgba(60, 64, 67, 0.3), 0px 1px 3px 1px rgba(60, 64, 67, 0.15);\n",
              "      fill: #174EA6;\n",
              "    }\n",
              "\n",
              "    [theme=dark] .colab-df-convert {\n",
              "      background-color: #3B4455;\n",
              "      fill: #D2E3FC;\n",
              "    }\n",
              "\n",
              "    [theme=dark] .colab-df-convert:hover {\n",
              "      background-color: #434B5C;\n",
              "      box-shadow: 0px 1px 3px 1px rgba(0, 0, 0, 0.15);\n",
              "      filter: drop-shadow(0px 1px 2px rgba(0, 0, 0, 0.3));\n",
              "      fill: #FFFFFF;\n",
              "    }\n",
              "  </style>\n",
              "\n",
              "      <script>\n",
              "        const buttonEl =\n",
              "          document.querySelector('#df-30b7a687-c3cb-4a17-91ed-b60d8a5c2b5e button.colab-df-convert');\n",
              "        buttonEl.style.display =\n",
              "          google.colab.kernel.accessAllowed ? 'block' : 'none';\n",
              "\n",
              "        async function convertToInteractive(key) {\n",
              "          const element = document.querySelector('#df-30b7a687-c3cb-4a17-91ed-b60d8a5c2b5e');\n",
              "          const dataTable =\n",
              "            await google.colab.kernel.invokeFunction('convertToInteractive',\n",
              "                                                     [key], {});\n",
              "          if (!dataTable) return;\n",
              "\n",
              "          const docLinkHtml = 'Like what you see? Visit the ' +\n",
              "            '<a target=\"_blank\" href=https://colab.research.google.com/notebooks/data_table.ipynb>data table notebook</a>'\n",
              "            + ' to learn more about interactive tables.';\n",
              "          element.innerHTML = '';\n",
              "          dataTable['output_type'] = 'display_data';\n",
              "          await google.colab.output.renderOutput(dataTable, element);\n",
              "          const docLink = document.createElement('div');\n",
              "          docLink.innerHTML = docLinkHtml;\n",
              "          element.appendChild(docLink);\n",
              "        }\n",
              "      </script>\n",
              "    </div>\n",
              "  </div>\n",
              "  "
            ]
          },
          "metadata": {},
          "execution_count": 12
        }
      ]
    },
    {
      "cell_type": "code",
      "source": [
        "df_prueba.head()"
      ],
      "metadata": {
        "colab": {
          "base_uri": "https://localhost:8080/",
          "height": 666
        },
        "id": "jkGzO9b4OYr2",
        "outputId": "d76e46e9-3ee5-458e-a22b-073b5825d3b3"
      },
      "execution_count": null,
      "outputs": [
        {
          "output_type": "execute_result",
          "data": {
            "text/plain": [
              "                                                   title  \\\n",
              "id                                                         \n",
              "11088  Desarrolla Juegos 2D en Unity hasta publicarlo...   \n",
              "11089  React Native: Aplicaciones nativas para IOS y ...   \n",
              "11090  Introducción a Internet de las cosas con Micro...   \n",
              "11091          Identifica y construye a tu cliente ideal   \n",
              "11092  Análisis de Procesos para líderes y jefes de p...   \n",
              "\n",
              "                                                headline  \\\n",
              "id                                                         \n",
              "11088  Juegos 2d todo lo necesario para crear un jueg...   \n",
              "11089  TypeScript, React Native CLI, Google y Apple m...   \n",
              "11090  Aprende como ingresar al mundo del Internet de...   \n",
              "11091  Construir las bases sólidas del perfil de clie...   \n",
              "11092  (Procesos, Decisiones y Costos con Teoría de R...   \n",
              "\n",
              "       is_practice_test_course  bestseller     captions    rating  \\\n",
              "id                                                                  \n",
              "11088                    False         NaN        es_ES  5.000000   \n",
              "11089                    False         NaN        es_LA  4.878622   \n",
              "11090                    False         NaN        es_ES  4.451706   \n",
              "11091                    False         NaN        es_ES  5.000000   \n",
              "11092                    False         NaN  es_MX,en_US  4.672697   \n",
              "\n",
              "       num_published_lectures  num_published_practice_tests locale  \\\n",
              "id                                                                   \n",
              "11088                      21                             0  es_ES   \n",
              "11089                     380                             0  es_LA   \n",
              "11090                      32                             0  es_ES   \n",
              "11091                      31                             0  es_ES   \n",
              "11092                      15                             0  es_MX   \n",
              "\n",
              "      created_date instructional_level_simple published_date last_update_date  \\\n",
              "id                                                                              \n",
              "11088   2021-03-01               Principiante     2021-03-21       2021-03-04   \n",
              "11089   2021-03-01          Todos los niveles     2021-04-04       2021-06-14   \n",
              "11090   2021-03-01               Principiante     2021-04-06       2021-05-27   \n",
              "11091   2021-03-01               Principiante     2021-04-09              NaT   \n",
              "11092   2021-03-01               Principiante     2021-04-14       2021-05-04   \n",
              "\n",
              "      content_info_short instructors                category  \\\n",
              "id                                                             \n",
              "11088            4 horas   116249520  Informática y software   \n",
              "11089         43,5 horas    11767934              Desarrollo   \n",
              "11090          1,5 horas   136827143  Informática y software   \n",
              "11091            4 horas   135011368                Negocios   \n",
              "11092             1 hora    34396906                Negocios   \n",
              "\n",
              "                             subcategory  \\\n",
              "id                                         \n",
              "11088  Desarrollo de juegos para móviles   \n",
              "11089                 API de Google Maps   \n",
              "11090                        MicroPython   \n",
              "11091                           Personas   \n",
              "11092             Gestión de operaciones   \n",
              "\n",
              "                                              objectives list_price  \\\n",
              "id                                                                    \n",
              "11088  Aprenderás todos los conceptos básicos  para u...     $19.99   \n",
              "11089  React Native.Crear aplicaciones móviles nativa...     $89.99   \n",
              "11090  Controlar módulos ESP32 usando el lenguaje de ...     $34.99   \n",
              "11091  ¿Alguna vez te has preguntado cómo empresas co...     $59.99   \n",
              "11092  Analizar a fondo Procesos y Operaciones.Defini...     $24.99   \n",
              "\n",
              "      discount_price  \n",
              "id                    \n",
              "11088            $12  \n",
              "11089            $12  \n",
              "11090            $12  \n",
              "11091            $12  \n",
              "11092            NaN  "
            ],
            "text/html": [
              "\n",
              "  <div id=\"df-3051367f-a9fc-4985-a121-a5fe8c66ed44\">\n",
              "    <div class=\"colab-df-container\">\n",
              "      <div>\n",
              "<style scoped>\n",
              "    .dataframe tbody tr th:only-of-type {\n",
              "        vertical-align: middle;\n",
              "    }\n",
              "\n",
              "    .dataframe tbody tr th {\n",
              "        vertical-align: top;\n",
              "    }\n",
              "\n",
              "    .dataframe thead th {\n",
              "        text-align: right;\n",
              "    }\n",
              "</style>\n",
              "<table border=\"1\" class=\"dataframe\">\n",
              "  <thead>\n",
              "    <tr style=\"text-align: right;\">\n",
              "      <th></th>\n",
              "      <th>title</th>\n",
              "      <th>headline</th>\n",
              "      <th>is_practice_test_course</th>\n",
              "      <th>bestseller</th>\n",
              "      <th>captions</th>\n",
              "      <th>rating</th>\n",
              "      <th>num_published_lectures</th>\n",
              "      <th>num_published_practice_tests</th>\n",
              "      <th>locale</th>\n",
              "      <th>created_date</th>\n",
              "      <th>instructional_level_simple</th>\n",
              "      <th>published_date</th>\n",
              "      <th>last_update_date</th>\n",
              "      <th>content_info_short</th>\n",
              "      <th>instructors</th>\n",
              "      <th>category</th>\n",
              "      <th>subcategory</th>\n",
              "      <th>objectives</th>\n",
              "      <th>list_price</th>\n",
              "      <th>discount_price</th>\n",
              "    </tr>\n",
              "    <tr>\n",
              "      <th>id</th>\n",
              "      <th></th>\n",
              "      <th></th>\n",
              "      <th></th>\n",
              "      <th></th>\n",
              "      <th></th>\n",
              "      <th></th>\n",
              "      <th></th>\n",
              "      <th></th>\n",
              "      <th></th>\n",
              "      <th></th>\n",
              "      <th></th>\n",
              "      <th></th>\n",
              "      <th></th>\n",
              "      <th></th>\n",
              "      <th></th>\n",
              "      <th></th>\n",
              "      <th></th>\n",
              "      <th></th>\n",
              "      <th></th>\n",
              "      <th></th>\n",
              "    </tr>\n",
              "  </thead>\n",
              "  <tbody>\n",
              "    <tr>\n",
              "      <th>11088</th>\n",
              "      <td>Desarrolla Juegos 2D en Unity hasta publicarlo...</td>\n",
              "      <td>Juegos 2d todo lo necesario para crear un jueg...</td>\n",
              "      <td>False</td>\n",
              "      <td>NaN</td>\n",
              "      <td>es_ES</td>\n",
              "      <td>5.000000</td>\n",
              "      <td>21</td>\n",
              "      <td>0</td>\n",
              "      <td>es_ES</td>\n",
              "      <td>2021-03-01</td>\n",
              "      <td>Principiante</td>\n",
              "      <td>2021-03-21</td>\n",
              "      <td>2021-03-04</td>\n",
              "      <td>4 horas</td>\n",
              "      <td>116249520</td>\n",
              "      <td>Informática y software</td>\n",
              "      <td>Desarrollo de juegos para móviles</td>\n",
              "      <td>Aprenderás todos los conceptos básicos  para u...</td>\n",
              "      <td>$19.99</td>\n",
              "      <td>$12</td>\n",
              "    </tr>\n",
              "    <tr>\n",
              "      <th>11089</th>\n",
              "      <td>React Native: Aplicaciones nativas para IOS y ...</td>\n",
              "      <td>TypeScript, React Native CLI, Google y Apple m...</td>\n",
              "      <td>False</td>\n",
              "      <td>NaN</td>\n",
              "      <td>es_LA</td>\n",
              "      <td>4.878622</td>\n",
              "      <td>380</td>\n",
              "      <td>0</td>\n",
              "      <td>es_LA</td>\n",
              "      <td>2021-03-01</td>\n",
              "      <td>Todos los niveles</td>\n",
              "      <td>2021-04-04</td>\n",
              "      <td>2021-06-14</td>\n",
              "      <td>43,5 horas</td>\n",
              "      <td>11767934</td>\n",
              "      <td>Desarrollo</td>\n",
              "      <td>API de Google Maps</td>\n",
              "      <td>React Native.Crear aplicaciones móviles nativa...</td>\n",
              "      <td>$89.99</td>\n",
              "      <td>$12</td>\n",
              "    </tr>\n",
              "    <tr>\n",
              "      <th>11090</th>\n",
              "      <td>Introducción a Internet de las cosas con Micro...</td>\n",
              "      <td>Aprende como ingresar al mundo del Internet de...</td>\n",
              "      <td>False</td>\n",
              "      <td>NaN</td>\n",
              "      <td>es_ES</td>\n",
              "      <td>4.451706</td>\n",
              "      <td>32</td>\n",
              "      <td>0</td>\n",
              "      <td>es_ES</td>\n",
              "      <td>2021-03-01</td>\n",
              "      <td>Principiante</td>\n",
              "      <td>2021-04-06</td>\n",
              "      <td>2021-05-27</td>\n",
              "      <td>1,5 horas</td>\n",
              "      <td>136827143</td>\n",
              "      <td>Informática y software</td>\n",
              "      <td>MicroPython</td>\n",
              "      <td>Controlar módulos ESP32 usando el lenguaje de ...</td>\n",
              "      <td>$34.99</td>\n",
              "      <td>$12</td>\n",
              "    </tr>\n",
              "    <tr>\n",
              "      <th>11091</th>\n",
              "      <td>Identifica y construye a tu cliente ideal</td>\n",
              "      <td>Construir las bases sólidas del perfil de clie...</td>\n",
              "      <td>False</td>\n",
              "      <td>NaN</td>\n",
              "      <td>es_ES</td>\n",
              "      <td>5.000000</td>\n",
              "      <td>31</td>\n",
              "      <td>0</td>\n",
              "      <td>es_ES</td>\n",
              "      <td>2021-03-01</td>\n",
              "      <td>Principiante</td>\n",
              "      <td>2021-04-09</td>\n",
              "      <td>NaT</td>\n",
              "      <td>4 horas</td>\n",
              "      <td>135011368</td>\n",
              "      <td>Negocios</td>\n",
              "      <td>Personas</td>\n",
              "      <td>¿Alguna vez te has preguntado cómo empresas co...</td>\n",
              "      <td>$59.99</td>\n",
              "      <td>$12</td>\n",
              "    </tr>\n",
              "    <tr>\n",
              "      <th>11092</th>\n",
              "      <td>Análisis de Procesos para líderes y jefes de p...</td>\n",
              "      <td>(Procesos, Decisiones y Costos con Teoría de R...</td>\n",
              "      <td>False</td>\n",
              "      <td>NaN</td>\n",
              "      <td>es_MX,en_US</td>\n",
              "      <td>4.672697</td>\n",
              "      <td>15</td>\n",
              "      <td>0</td>\n",
              "      <td>es_MX</td>\n",
              "      <td>2021-03-01</td>\n",
              "      <td>Principiante</td>\n",
              "      <td>2021-04-14</td>\n",
              "      <td>2021-05-04</td>\n",
              "      <td>1 hora</td>\n",
              "      <td>34396906</td>\n",
              "      <td>Negocios</td>\n",
              "      <td>Gestión de operaciones</td>\n",
              "      <td>Analizar a fondo Procesos y Operaciones.Defini...</td>\n",
              "      <td>$24.99</td>\n",
              "      <td>NaN</td>\n",
              "    </tr>\n",
              "  </tbody>\n",
              "</table>\n",
              "</div>\n",
              "      <button class=\"colab-df-convert\" onclick=\"convertToInteractive('df-3051367f-a9fc-4985-a121-a5fe8c66ed44')\"\n",
              "              title=\"Convert this dataframe to an interactive table.\"\n",
              "              style=\"display:none;\">\n",
              "        \n",
              "  <svg xmlns=\"http://www.w3.org/2000/svg\" height=\"24px\"viewBox=\"0 0 24 24\"\n",
              "       width=\"24px\">\n",
              "    <path d=\"M0 0h24v24H0V0z\" fill=\"none\"/>\n",
              "    <path d=\"M18.56 5.44l.94 2.06.94-2.06 2.06-.94-2.06-.94-.94-2.06-.94 2.06-2.06.94zm-11 1L8.5 8.5l.94-2.06 2.06-.94-2.06-.94L8.5 2.5l-.94 2.06-2.06.94zm10 10l.94 2.06.94-2.06 2.06-.94-2.06-.94-.94-2.06-.94 2.06-2.06.94z\"/><path d=\"M17.41 7.96l-1.37-1.37c-.4-.4-.92-.59-1.43-.59-.52 0-1.04.2-1.43.59L10.3 9.45l-7.72 7.72c-.78.78-.78 2.05 0 2.83L4 21.41c.39.39.9.59 1.41.59.51 0 1.02-.2 1.41-.59l7.78-7.78 2.81-2.81c.8-.78.8-2.07 0-2.86zM5.41 20L4 18.59l7.72-7.72 1.47 1.35L5.41 20z\"/>\n",
              "  </svg>\n",
              "      </button>\n",
              "      \n",
              "  <style>\n",
              "    .colab-df-container {\n",
              "      display:flex;\n",
              "      flex-wrap:wrap;\n",
              "      gap: 12px;\n",
              "    }\n",
              "\n",
              "    .colab-df-convert {\n",
              "      background-color: #E8F0FE;\n",
              "      border: none;\n",
              "      border-radius: 50%;\n",
              "      cursor: pointer;\n",
              "      display: none;\n",
              "      fill: #1967D2;\n",
              "      height: 32px;\n",
              "      padding: 0 0 0 0;\n",
              "      width: 32px;\n",
              "    }\n",
              "\n",
              "    .colab-df-convert:hover {\n",
              "      background-color: #E2EBFA;\n",
              "      box-shadow: 0px 1px 2px rgba(60, 64, 67, 0.3), 0px 1px 3px 1px rgba(60, 64, 67, 0.15);\n",
              "      fill: #174EA6;\n",
              "    }\n",
              "\n",
              "    [theme=dark] .colab-df-convert {\n",
              "      background-color: #3B4455;\n",
              "      fill: #D2E3FC;\n",
              "    }\n",
              "\n",
              "    [theme=dark] .colab-df-convert:hover {\n",
              "      background-color: #434B5C;\n",
              "      box-shadow: 0px 1px 3px 1px rgba(0, 0, 0, 0.15);\n",
              "      filter: drop-shadow(0px 1px 2px rgba(0, 0, 0, 0.3));\n",
              "      fill: #FFFFFF;\n",
              "    }\n",
              "  </style>\n",
              "\n",
              "      <script>\n",
              "        const buttonEl =\n",
              "          document.querySelector('#df-3051367f-a9fc-4985-a121-a5fe8c66ed44 button.colab-df-convert');\n",
              "        buttonEl.style.display =\n",
              "          google.colab.kernel.accessAllowed ? 'block' : 'none';\n",
              "\n",
              "        async function convertToInteractive(key) {\n",
              "          const element = document.querySelector('#df-3051367f-a9fc-4985-a121-a5fe8c66ed44');\n",
              "          const dataTable =\n",
              "            await google.colab.kernel.invokeFunction('convertToInteractive',\n",
              "                                                     [key], {});\n",
              "          if (!dataTable) return;\n",
              "\n",
              "          const docLinkHtml = 'Like what you see? Visit the ' +\n",
              "            '<a target=\"_blank\" href=https://colab.research.google.com/notebooks/data_table.ipynb>data table notebook</a>'\n",
              "            + ' to learn more about interactive tables.';\n",
              "          element.innerHTML = '';\n",
              "          dataTable['output_type'] = 'display_data';\n",
              "          await google.colab.output.renderOutput(dataTable, element);\n",
              "          const docLink = document.createElement('div');\n",
              "          docLink.innerHTML = docLinkHtml;\n",
              "          element.appendChild(docLink);\n",
              "        }\n",
              "      </script>\n",
              "    </div>\n",
              "  </div>\n",
              "  "
            ]
          },
          "metadata": {},
          "execution_count": 13
        }
      ]
    },
    {
      "cell_type": "markdown",
      "source": [
        "# Exploración datos originales"
      ],
      "metadata": {
        "id": "byV0dQi-yiEd"
      }
    },
    {
      "cell_type": "markdown",
      "source": [
        "##Tipos de datos y campos no vacíos"
      ],
      "metadata": {
        "id": "Rko3seFVrlq4"
      }
    },
    {
      "cell_type": "markdown",
      "source": [
        "Nota: puede verse columnas con datos faltantes mirando a Non-Null. En este caso, tienen campos vacíos headline, captions, instructional_level_simple, last_update_date, instructors, subcategory, objectives y discount_price."
      ],
      "metadata": {
        "id": "jDiLiIpIqjqK"
      }
    },
    {
      "cell_type": "code",
      "source": [
        "df_entrenamiento.info()"
      ],
      "metadata": {
        "colab": {
          "base_uri": "https://localhost:8080/"
        },
        "id": "u8o3Uh1GkSel",
        "outputId": "faedbb69-c6cd-4824-f46a-55709ee13a93"
      },
      "execution_count": null,
      "outputs": [
        {
          "output_type": "stream",
          "name": "stdout",
          "text": [
            "<class 'pandas.core.frame.DataFrame'>\n",
            "Int64Index: 11087 entries, 1 to 11087\n",
            "Data columns (total 20 columns):\n",
            " #   Column                        Non-Null Count  Dtype         \n",
            "---  ------                        --------------  -----         \n",
            " 0   title                         11087 non-null  object        \n",
            " 1   headline                      11086 non-null  object        \n",
            " 2   is_practice_test_course       11087 non-null  bool          \n",
            " 3   bestseller                    11087 non-null  object        \n",
            " 4   captions                      9142 non-null   object        \n",
            " 5   rating                        11087 non-null  float64       \n",
            " 6   num_published_lectures        11087 non-null  int64         \n",
            " 7   num_published_practice_tests  11087 non-null  int64         \n",
            " 8   locale                        11087 non-null  object        \n",
            " 9   created_date                  11087 non-null  datetime64[ns]\n",
            " 10  instructional_level_simple    11082 non-null  object        \n",
            " 11  published_date                11087 non-null  datetime64[ns]\n",
            " 12  last_update_date              9805 non-null   datetime64[ns]\n",
            " 13  content_info_short            11087 non-null  object        \n",
            " 14  instructors                   11086 non-null  object        \n",
            " 15  category                      11087 non-null  object        \n",
            " 16  subcategory                   11068 non-null  object        \n",
            " 17  objectives                    11086 non-null  object        \n",
            " 18  list_price                    11087 non-null  object        \n",
            " 19  discount_price                10103 non-null  object        \n",
            "dtypes: bool(1), datetime64[ns](3), float64(1), int64(2), object(13)\n",
            "memory usage: 1.7+ MB\n"
          ]
        }
      ]
    },
    {
      "cell_type": "markdown",
      "source": [
        "Tienen campos vacíos captions, last_update_date, subcategory y discount_price."
      ],
      "metadata": {
        "id": "lWzXWaqImEn0"
      }
    },
    {
      "cell_type": "code",
      "source": [
        "df_prueba.info()"
      ],
      "metadata": {
        "colab": {
          "base_uri": "https://localhost:8080/"
        },
        "id": "wy6-n_4N0LVT",
        "outputId": "c35d5f7c-d7af-4b21-ae01-7f8c7d89ef5f"
      },
      "execution_count": null,
      "outputs": [
        {
          "output_type": "stream",
          "name": "stdout",
          "text": [
            "<class 'pandas.core.frame.DataFrame'>\n",
            "Int64Index: 239 entries, 11088 to 11326\n",
            "Data columns (total 20 columns):\n",
            " #   Column                        Non-Null Count  Dtype         \n",
            "---  ------                        --------------  -----         \n",
            " 0   title                         239 non-null    object        \n",
            " 1   headline                      239 non-null    object        \n",
            " 2   is_practice_test_course       239 non-null    bool          \n",
            " 3   bestseller                    0 non-null      float64       \n",
            " 4   captions                      188 non-null    object        \n",
            " 5   rating                        239 non-null    float64       \n",
            " 6   num_published_lectures        239 non-null    int64         \n",
            " 7   num_published_practice_tests  239 non-null    int64         \n",
            " 8   locale                        239 non-null    object        \n",
            " 9   created_date                  239 non-null    datetime64[ns]\n",
            " 10  instructional_level_simple    239 non-null    object        \n",
            " 11  published_date                239 non-null    datetime64[ns]\n",
            " 12  last_update_date              228 non-null    datetime64[ns]\n",
            " 13  content_info_short            239 non-null    object        \n",
            " 14  instructors                   239 non-null    object        \n",
            " 15  category                      239 non-null    object        \n",
            " 16  subcategory                   238 non-null    object        \n",
            " 17  objectives                    239 non-null    object        \n",
            " 18  list_price                    239 non-null    object        \n",
            " 19  discount_price                230 non-null    object        \n",
            "dtypes: bool(1), datetime64[ns](3), float64(2), int64(2), object(12)\n",
            "memory usage: 37.6+ KB\n"
          ]
        }
      ]
    },
    {
      "cell_type": "markdown",
      "source": [
        "##Estadísticas descriptivas básicas"
      ],
      "metadata": {
        "id": "PXTwJPtbr1fx"
      }
    },
    {
      "cell_type": "code",
      "source": [
        "df_entrenamiento.describe(datetime_is_numeric = True)"
      ],
      "metadata": {
        "colab": {
          "base_uri": "https://localhost:8080/",
          "height": 362
        },
        "id": "PDYKpdE7lTH9",
        "outputId": "b63560b7-e515-45be-b81e-f9504f5bc186"
      },
      "execution_count": null,
      "outputs": [
        {
          "output_type": "execute_result",
          "data": {
            "text/plain": [
              "             rating  num_published_lectures  num_published_practice_tests  \\\n",
              "count  11087.000000            11087.000000                  11087.000000   \n",
              "mean       4.288064               43.638676                      0.107062   \n",
              "min        0.500000                0.000000                      0.000000   \n",
              "25%        4.043251               15.000000                      0.000000   \n",
              "50%        4.402418               27.000000                      0.000000   \n",
              "75%        4.641256               50.000000                      0.000000   \n",
              "max        5.000000              800.000000                      6.000000   \n",
              "std        0.554803               56.276290                      0.580201   \n",
              "\n",
              "                        created_date                 published_date  \\\n",
              "count                          11087                          11087   \n",
              "mean   2019-01-04 14:58:07.976909824  2019-03-13 23:26:29.429060864   \n",
              "min              2011-06-13 00:00:00            2012-01-26 00:00:00   \n",
              "25%              2018-02-19 00:00:00            2018-05-04 00:00:00   \n",
              "50%              2019-06-20 00:00:00            2019-09-09 00:00:00   \n",
              "75%              2020-05-31 00:00:00            2020-07-17 00:00:00   \n",
              "max              2021-02-28 00:00:00            2021-06-17 00:00:00   \n",
              "std                              NaN                            NaN   \n",
              "\n",
              "                    last_update_date  \n",
              "count                           9805  \n",
              "mean   2019-12-09 17:57:23.590004992  \n",
              "min              2012-11-19 00:00:00  \n",
              "25%              2019-04-22 00:00:00  \n",
              "50%              2020-06-16 00:00:00  \n",
              "75%              2021-01-13 00:00:00  \n",
              "max              2021-06-22 00:00:00  \n",
              "std                              NaN  "
            ],
            "text/html": [
              "\n",
              "  <div id=\"df-d3dcbe54-2677-4af7-a0d8-10d931669193\">\n",
              "    <div class=\"colab-df-container\">\n",
              "      <div>\n",
              "<style scoped>\n",
              "    .dataframe tbody tr th:only-of-type {\n",
              "        vertical-align: middle;\n",
              "    }\n",
              "\n",
              "    .dataframe tbody tr th {\n",
              "        vertical-align: top;\n",
              "    }\n",
              "\n",
              "    .dataframe thead th {\n",
              "        text-align: right;\n",
              "    }\n",
              "</style>\n",
              "<table border=\"1\" class=\"dataframe\">\n",
              "  <thead>\n",
              "    <tr style=\"text-align: right;\">\n",
              "      <th></th>\n",
              "      <th>rating</th>\n",
              "      <th>num_published_lectures</th>\n",
              "      <th>num_published_practice_tests</th>\n",
              "      <th>created_date</th>\n",
              "      <th>published_date</th>\n",
              "      <th>last_update_date</th>\n",
              "    </tr>\n",
              "  </thead>\n",
              "  <tbody>\n",
              "    <tr>\n",
              "      <th>count</th>\n",
              "      <td>11087.000000</td>\n",
              "      <td>11087.000000</td>\n",
              "      <td>11087.000000</td>\n",
              "      <td>11087</td>\n",
              "      <td>11087</td>\n",
              "      <td>9805</td>\n",
              "    </tr>\n",
              "    <tr>\n",
              "      <th>mean</th>\n",
              "      <td>4.288064</td>\n",
              "      <td>43.638676</td>\n",
              "      <td>0.107062</td>\n",
              "      <td>2019-01-04 14:58:07.976909824</td>\n",
              "      <td>2019-03-13 23:26:29.429060864</td>\n",
              "      <td>2019-12-09 17:57:23.590004992</td>\n",
              "    </tr>\n",
              "    <tr>\n",
              "      <th>min</th>\n",
              "      <td>0.500000</td>\n",
              "      <td>0.000000</td>\n",
              "      <td>0.000000</td>\n",
              "      <td>2011-06-13 00:00:00</td>\n",
              "      <td>2012-01-26 00:00:00</td>\n",
              "      <td>2012-11-19 00:00:00</td>\n",
              "    </tr>\n",
              "    <tr>\n",
              "      <th>25%</th>\n",
              "      <td>4.043251</td>\n",
              "      <td>15.000000</td>\n",
              "      <td>0.000000</td>\n",
              "      <td>2018-02-19 00:00:00</td>\n",
              "      <td>2018-05-04 00:00:00</td>\n",
              "      <td>2019-04-22 00:00:00</td>\n",
              "    </tr>\n",
              "    <tr>\n",
              "      <th>50%</th>\n",
              "      <td>4.402418</td>\n",
              "      <td>27.000000</td>\n",
              "      <td>0.000000</td>\n",
              "      <td>2019-06-20 00:00:00</td>\n",
              "      <td>2019-09-09 00:00:00</td>\n",
              "      <td>2020-06-16 00:00:00</td>\n",
              "    </tr>\n",
              "    <tr>\n",
              "      <th>75%</th>\n",
              "      <td>4.641256</td>\n",
              "      <td>50.000000</td>\n",
              "      <td>0.000000</td>\n",
              "      <td>2020-05-31 00:00:00</td>\n",
              "      <td>2020-07-17 00:00:00</td>\n",
              "      <td>2021-01-13 00:00:00</td>\n",
              "    </tr>\n",
              "    <tr>\n",
              "      <th>max</th>\n",
              "      <td>5.000000</td>\n",
              "      <td>800.000000</td>\n",
              "      <td>6.000000</td>\n",
              "      <td>2021-02-28 00:00:00</td>\n",
              "      <td>2021-06-17 00:00:00</td>\n",
              "      <td>2021-06-22 00:00:00</td>\n",
              "    </tr>\n",
              "    <tr>\n",
              "      <th>std</th>\n",
              "      <td>0.554803</td>\n",
              "      <td>56.276290</td>\n",
              "      <td>0.580201</td>\n",
              "      <td>NaN</td>\n",
              "      <td>NaN</td>\n",
              "      <td>NaN</td>\n",
              "    </tr>\n",
              "  </tbody>\n",
              "</table>\n",
              "</div>\n",
              "      <button class=\"colab-df-convert\" onclick=\"convertToInteractive('df-d3dcbe54-2677-4af7-a0d8-10d931669193')\"\n",
              "              title=\"Convert this dataframe to an interactive table.\"\n",
              "              style=\"display:none;\">\n",
              "        \n",
              "  <svg xmlns=\"http://www.w3.org/2000/svg\" height=\"24px\"viewBox=\"0 0 24 24\"\n",
              "       width=\"24px\">\n",
              "    <path d=\"M0 0h24v24H0V0z\" fill=\"none\"/>\n",
              "    <path d=\"M18.56 5.44l.94 2.06.94-2.06 2.06-.94-2.06-.94-.94-2.06-.94 2.06-2.06.94zm-11 1L8.5 8.5l.94-2.06 2.06-.94-2.06-.94L8.5 2.5l-.94 2.06-2.06.94zm10 10l.94 2.06.94-2.06 2.06-.94-2.06-.94-.94-2.06-.94 2.06-2.06.94z\"/><path d=\"M17.41 7.96l-1.37-1.37c-.4-.4-.92-.59-1.43-.59-.52 0-1.04.2-1.43.59L10.3 9.45l-7.72 7.72c-.78.78-.78 2.05 0 2.83L4 21.41c.39.39.9.59 1.41.59.51 0 1.02-.2 1.41-.59l7.78-7.78 2.81-2.81c.8-.78.8-2.07 0-2.86zM5.41 20L4 18.59l7.72-7.72 1.47 1.35L5.41 20z\"/>\n",
              "  </svg>\n",
              "      </button>\n",
              "      \n",
              "  <style>\n",
              "    .colab-df-container {\n",
              "      display:flex;\n",
              "      flex-wrap:wrap;\n",
              "      gap: 12px;\n",
              "    }\n",
              "\n",
              "    .colab-df-convert {\n",
              "      background-color: #E8F0FE;\n",
              "      border: none;\n",
              "      border-radius: 50%;\n",
              "      cursor: pointer;\n",
              "      display: none;\n",
              "      fill: #1967D2;\n",
              "      height: 32px;\n",
              "      padding: 0 0 0 0;\n",
              "      width: 32px;\n",
              "    }\n",
              "\n",
              "    .colab-df-convert:hover {\n",
              "      background-color: #E2EBFA;\n",
              "      box-shadow: 0px 1px 2px rgba(60, 64, 67, 0.3), 0px 1px 3px 1px rgba(60, 64, 67, 0.15);\n",
              "      fill: #174EA6;\n",
              "    }\n",
              "\n",
              "    [theme=dark] .colab-df-convert {\n",
              "      background-color: #3B4455;\n",
              "      fill: #D2E3FC;\n",
              "    }\n",
              "\n",
              "    [theme=dark] .colab-df-convert:hover {\n",
              "      background-color: #434B5C;\n",
              "      box-shadow: 0px 1px 3px 1px rgba(0, 0, 0, 0.15);\n",
              "      filter: drop-shadow(0px 1px 2px rgba(0, 0, 0, 0.3));\n",
              "      fill: #FFFFFF;\n",
              "    }\n",
              "  </style>\n",
              "\n",
              "      <script>\n",
              "        const buttonEl =\n",
              "          document.querySelector('#df-d3dcbe54-2677-4af7-a0d8-10d931669193 button.colab-df-convert');\n",
              "        buttonEl.style.display =\n",
              "          google.colab.kernel.accessAllowed ? 'block' : 'none';\n",
              "\n",
              "        async function convertToInteractive(key) {\n",
              "          const element = document.querySelector('#df-d3dcbe54-2677-4af7-a0d8-10d931669193');\n",
              "          const dataTable =\n",
              "            await google.colab.kernel.invokeFunction('convertToInteractive',\n",
              "                                                     [key], {});\n",
              "          if (!dataTable) return;\n",
              "\n",
              "          const docLinkHtml = 'Like what you see? Visit the ' +\n",
              "            '<a target=\"_blank\" href=https://colab.research.google.com/notebooks/data_table.ipynb>data table notebook</a>'\n",
              "            + ' to learn more about interactive tables.';\n",
              "          element.innerHTML = '';\n",
              "          dataTable['output_type'] = 'display_data';\n",
              "          await google.colab.output.renderOutput(dataTable, element);\n",
              "          const docLink = document.createElement('div');\n",
              "          docLink.innerHTML = docLinkHtml;\n",
              "          element.appendChild(docLink);\n",
              "        }\n",
              "      </script>\n",
              "    </div>\n",
              "  </div>\n",
              "  "
            ]
          },
          "metadata": {},
          "execution_count": 16
        }
      ]
    },
    {
      "cell_type": "code",
      "source": [
        "df_prueba.describe(datetime_is_numeric = True)"
      ],
      "metadata": {
        "colab": {
          "base_uri": "https://localhost:8080/",
          "height": 362
        },
        "id": "6OcSTQwClZ0k",
        "outputId": "a14d94b4-9c99-4463-cafa-699942895bf0"
      },
      "execution_count": null,
      "outputs": [
        {
          "output_type": "execute_result",
          "data": {
            "text/plain": [
              "       bestseller      rating  num_published_lectures  \\\n",
              "count         0.0  239.000000              239.000000   \n",
              "mean          NaN    4.500996               39.380753   \n",
              "min           NaN    1.000000                0.000000   \n",
              "25%           NaN    4.331971               13.000000   \n",
              "50%           NaN    4.640621               27.000000   \n",
              "75%           NaN    4.947940               48.000000   \n",
              "max           NaN    5.000000              380.000000   \n",
              "std           NaN    0.620871               48.484267   \n",
              "\n",
              "       num_published_practice_tests                   created_date  \\\n",
              "count                    239.000000                            239   \n",
              "mean                       0.259414  2021-03-15 18:16:34.142259456   \n",
              "min                        0.000000            2021-03-01 00:00:00   \n",
              "25%                        0.000000            2021-03-08 12:00:00   \n",
              "50%                        0.000000            2021-03-16 00:00:00   \n",
              "75%                        0.000000            2021-03-24 00:00:00   \n",
              "max                        6.000000            2021-03-31 00:00:00   \n",
              "std                        0.974283                            NaN   \n",
              "\n",
              "                      published_date               last_update_date  \n",
              "count                            239                            228  \n",
              "mean   2021-04-04 00:48:12.050209280  2021-04-18 00:31:34.736841984  \n",
              "min              2021-03-03 00:00:00            2021-03-03 00:00:00  \n",
              "25%              2021-03-19 00:00:00            2021-03-23 00:00:00  \n",
              "50%              2021-03-28 00:00:00            2021-04-11 12:00:00  \n",
              "75%              2021-04-16 00:00:00            2021-05-13 18:00:00  \n",
              "max              2021-06-17 00:00:00            2021-06-20 00:00:00  \n",
              "std                              NaN                            NaN  "
            ],
            "text/html": [
              "\n",
              "  <div id=\"df-7271212e-0f81-43c7-afed-39d7a2bfcd93\">\n",
              "    <div class=\"colab-df-container\">\n",
              "      <div>\n",
              "<style scoped>\n",
              "    .dataframe tbody tr th:only-of-type {\n",
              "        vertical-align: middle;\n",
              "    }\n",
              "\n",
              "    .dataframe tbody tr th {\n",
              "        vertical-align: top;\n",
              "    }\n",
              "\n",
              "    .dataframe thead th {\n",
              "        text-align: right;\n",
              "    }\n",
              "</style>\n",
              "<table border=\"1\" class=\"dataframe\">\n",
              "  <thead>\n",
              "    <tr style=\"text-align: right;\">\n",
              "      <th></th>\n",
              "      <th>bestseller</th>\n",
              "      <th>rating</th>\n",
              "      <th>num_published_lectures</th>\n",
              "      <th>num_published_practice_tests</th>\n",
              "      <th>created_date</th>\n",
              "      <th>published_date</th>\n",
              "      <th>last_update_date</th>\n",
              "    </tr>\n",
              "  </thead>\n",
              "  <tbody>\n",
              "    <tr>\n",
              "      <th>count</th>\n",
              "      <td>0.0</td>\n",
              "      <td>239.000000</td>\n",
              "      <td>239.000000</td>\n",
              "      <td>239.000000</td>\n",
              "      <td>239</td>\n",
              "      <td>239</td>\n",
              "      <td>228</td>\n",
              "    </tr>\n",
              "    <tr>\n",
              "      <th>mean</th>\n",
              "      <td>NaN</td>\n",
              "      <td>4.500996</td>\n",
              "      <td>39.380753</td>\n",
              "      <td>0.259414</td>\n",
              "      <td>2021-03-15 18:16:34.142259456</td>\n",
              "      <td>2021-04-04 00:48:12.050209280</td>\n",
              "      <td>2021-04-18 00:31:34.736841984</td>\n",
              "    </tr>\n",
              "    <tr>\n",
              "      <th>min</th>\n",
              "      <td>NaN</td>\n",
              "      <td>1.000000</td>\n",
              "      <td>0.000000</td>\n",
              "      <td>0.000000</td>\n",
              "      <td>2021-03-01 00:00:00</td>\n",
              "      <td>2021-03-03 00:00:00</td>\n",
              "      <td>2021-03-03 00:00:00</td>\n",
              "    </tr>\n",
              "    <tr>\n",
              "      <th>25%</th>\n",
              "      <td>NaN</td>\n",
              "      <td>4.331971</td>\n",
              "      <td>13.000000</td>\n",
              "      <td>0.000000</td>\n",
              "      <td>2021-03-08 12:00:00</td>\n",
              "      <td>2021-03-19 00:00:00</td>\n",
              "      <td>2021-03-23 00:00:00</td>\n",
              "    </tr>\n",
              "    <tr>\n",
              "      <th>50%</th>\n",
              "      <td>NaN</td>\n",
              "      <td>4.640621</td>\n",
              "      <td>27.000000</td>\n",
              "      <td>0.000000</td>\n",
              "      <td>2021-03-16 00:00:00</td>\n",
              "      <td>2021-03-28 00:00:00</td>\n",
              "      <td>2021-04-11 12:00:00</td>\n",
              "    </tr>\n",
              "    <tr>\n",
              "      <th>75%</th>\n",
              "      <td>NaN</td>\n",
              "      <td>4.947940</td>\n",
              "      <td>48.000000</td>\n",
              "      <td>0.000000</td>\n",
              "      <td>2021-03-24 00:00:00</td>\n",
              "      <td>2021-04-16 00:00:00</td>\n",
              "      <td>2021-05-13 18:00:00</td>\n",
              "    </tr>\n",
              "    <tr>\n",
              "      <th>max</th>\n",
              "      <td>NaN</td>\n",
              "      <td>5.000000</td>\n",
              "      <td>380.000000</td>\n",
              "      <td>6.000000</td>\n",
              "      <td>2021-03-31 00:00:00</td>\n",
              "      <td>2021-06-17 00:00:00</td>\n",
              "      <td>2021-06-20 00:00:00</td>\n",
              "    </tr>\n",
              "    <tr>\n",
              "      <th>std</th>\n",
              "      <td>NaN</td>\n",
              "      <td>0.620871</td>\n",
              "      <td>48.484267</td>\n",
              "      <td>0.974283</td>\n",
              "      <td>NaN</td>\n",
              "      <td>NaN</td>\n",
              "      <td>NaN</td>\n",
              "    </tr>\n",
              "  </tbody>\n",
              "</table>\n",
              "</div>\n",
              "      <button class=\"colab-df-convert\" onclick=\"convertToInteractive('df-7271212e-0f81-43c7-afed-39d7a2bfcd93')\"\n",
              "              title=\"Convert this dataframe to an interactive table.\"\n",
              "              style=\"display:none;\">\n",
              "        \n",
              "  <svg xmlns=\"http://www.w3.org/2000/svg\" height=\"24px\"viewBox=\"0 0 24 24\"\n",
              "       width=\"24px\">\n",
              "    <path d=\"M0 0h24v24H0V0z\" fill=\"none\"/>\n",
              "    <path d=\"M18.56 5.44l.94 2.06.94-2.06 2.06-.94-2.06-.94-.94-2.06-.94 2.06-2.06.94zm-11 1L8.5 8.5l.94-2.06 2.06-.94-2.06-.94L8.5 2.5l-.94 2.06-2.06.94zm10 10l.94 2.06.94-2.06 2.06-.94-2.06-.94-.94-2.06-.94 2.06-2.06.94z\"/><path d=\"M17.41 7.96l-1.37-1.37c-.4-.4-.92-.59-1.43-.59-.52 0-1.04.2-1.43.59L10.3 9.45l-7.72 7.72c-.78.78-.78 2.05 0 2.83L4 21.41c.39.39.9.59 1.41.59.51 0 1.02-.2 1.41-.59l7.78-7.78 2.81-2.81c.8-.78.8-2.07 0-2.86zM5.41 20L4 18.59l7.72-7.72 1.47 1.35L5.41 20z\"/>\n",
              "  </svg>\n",
              "      </button>\n",
              "      \n",
              "  <style>\n",
              "    .colab-df-container {\n",
              "      display:flex;\n",
              "      flex-wrap:wrap;\n",
              "      gap: 12px;\n",
              "    }\n",
              "\n",
              "    .colab-df-convert {\n",
              "      background-color: #E8F0FE;\n",
              "      border: none;\n",
              "      border-radius: 50%;\n",
              "      cursor: pointer;\n",
              "      display: none;\n",
              "      fill: #1967D2;\n",
              "      height: 32px;\n",
              "      padding: 0 0 0 0;\n",
              "      width: 32px;\n",
              "    }\n",
              "\n",
              "    .colab-df-convert:hover {\n",
              "      background-color: #E2EBFA;\n",
              "      box-shadow: 0px 1px 2px rgba(60, 64, 67, 0.3), 0px 1px 3px 1px rgba(60, 64, 67, 0.15);\n",
              "      fill: #174EA6;\n",
              "    }\n",
              "\n",
              "    [theme=dark] .colab-df-convert {\n",
              "      background-color: #3B4455;\n",
              "      fill: #D2E3FC;\n",
              "    }\n",
              "\n",
              "    [theme=dark] .colab-df-convert:hover {\n",
              "      background-color: #434B5C;\n",
              "      box-shadow: 0px 1px 3px 1px rgba(0, 0, 0, 0.15);\n",
              "      filter: drop-shadow(0px 1px 2px rgba(0, 0, 0, 0.3));\n",
              "      fill: #FFFFFF;\n",
              "    }\n",
              "  </style>\n",
              "\n",
              "      <script>\n",
              "        const buttonEl =\n",
              "          document.querySelector('#df-7271212e-0f81-43c7-afed-39d7a2bfcd93 button.colab-df-convert');\n",
              "        buttonEl.style.display =\n",
              "          google.colab.kernel.accessAllowed ? 'block' : 'none';\n",
              "\n",
              "        async function convertToInteractive(key) {\n",
              "          const element = document.querySelector('#df-7271212e-0f81-43c7-afed-39d7a2bfcd93');\n",
              "          const dataTable =\n",
              "            await google.colab.kernel.invokeFunction('convertToInteractive',\n",
              "                                                     [key], {});\n",
              "          if (!dataTable) return;\n",
              "\n",
              "          const docLinkHtml = 'Like what you see? Visit the ' +\n",
              "            '<a target=\"_blank\" href=https://colab.research.google.com/notebooks/data_table.ipynb>data table notebook</a>'\n",
              "            + ' to learn more about interactive tables.';\n",
              "          element.innerHTML = '';\n",
              "          dataTable['output_type'] = 'display_data';\n",
              "          await google.colab.output.renderOutput(dataTable, element);\n",
              "          const docLink = document.createElement('div');\n",
              "          docLink.innerHTML = docLinkHtml;\n",
              "          element.appendChild(docLink);\n",
              "        }\n",
              "      </script>\n",
              "    </div>\n",
              "  </div>\n",
              "  "
            ]
          },
          "metadata": {},
          "execution_count": 17
        }
      ]
    },
    {
      "cell_type": "code",
      "source": [
        "df_entrenamiento.corr()"
      ],
      "metadata": {
        "colab": {
          "base_uri": "https://localhost:8080/",
          "height": 175
        },
        "id": "GBdTZYhqpKxs",
        "outputId": "ad27404f-3a74-4c30-a3bc-531e97e12f75"
      },
      "execution_count": null,
      "outputs": [
        {
          "output_type": "execute_result",
          "data": {
            "text/plain": [
              "                              is_practice_test_course    rating  \\\n",
              "is_practice_test_course                      1.000000 -0.067705   \n",
              "rating                                      -0.067705  1.000000   \n",
              "num_published_lectures                      -0.101295  0.102981   \n",
              "num_published_practice_tests                 0.820798 -0.042436   \n",
              "\n",
              "                              num_published_lectures  \\\n",
              "is_practice_test_course                    -0.101295   \n",
              "rating                                      0.102981   \n",
              "num_published_lectures                      1.000000   \n",
              "num_published_practice_tests               -0.071914   \n",
              "\n",
              "                              num_published_practice_tests  \n",
              "is_practice_test_course                           0.820798  \n",
              "rating                                           -0.042436  \n",
              "num_published_lectures                           -0.071914  \n",
              "num_published_practice_tests                      1.000000  "
            ],
            "text/html": [
              "\n",
              "  <div id=\"df-d9a68169-35e3-48c7-a88b-6b1407449e6c\">\n",
              "    <div class=\"colab-df-container\">\n",
              "      <div>\n",
              "<style scoped>\n",
              "    .dataframe tbody tr th:only-of-type {\n",
              "        vertical-align: middle;\n",
              "    }\n",
              "\n",
              "    .dataframe tbody tr th {\n",
              "        vertical-align: top;\n",
              "    }\n",
              "\n",
              "    .dataframe thead th {\n",
              "        text-align: right;\n",
              "    }\n",
              "</style>\n",
              "<table border=\"1\" class=\"dataframe\">\n",
              "  <thead>\n",
              "    <tr style=\"text-align: right;\">\n",
              "      <th></th>\n",
              "      <th>is_practice_test_course</th>\n",
              "      <th>rating</th>\n",
              "      <th>num_published_lectures</th>\n",
              "      <th>num_published_practice_tests</th>\n",
              "    </tr>\n",
              "  </thead>\n",
              "  <tbody>\n",
              "    <tr>\n",
              "      <th>is_practice_test_course</th>\n",
              "      <td>1.000000</td>\n",
              "      <td>-0.067705</td>\n",
              "      <td>-0.101295</td>\n",
              "      <td>0.820798</td>\n",
              "    </tr>\n",
              "    <tr>\n",
              "      <th>rating</th>\n",
              "      <td>-0.067705</td>\n",
              "      <td>1.000000</td>\n",
              "      <td>0.102981</td>\n",
              "      <td>-0.042436</td>\n",
              "    </tr>\n",
              "    <tr>\n",
              "      <th>num_published_lectures</th>\n",
              "      <td>-0.101295</td>\n",
              "      <td>0.102981</td>\n",
              "      <td>1.000000</td>\n",
              "      <td>-0.071914</td>\n",
              "    </tr>\n",
              "    <tr>\n",
              "      <th>num_published_practice_tests</th>\n",
              "      <td>0.820798</td>\n",
              "      <td>-0.042436</td>\n",
              "      <td>-0.071914</td>\n",
              "      <td>1.000000</td>\n",
              "    </tr>\n",
              "  </tbody>\n",
              "</table>\n",
              "</div>\n",
              "      <button class=\"colab-df-convert\" onclick=\"convertToInteractive('df-d9a68169-35e3-48c7-a88b-6b1407449e6c')\"\n",
              "              title=\"Convert this dataframe to an interactive table.\"\n",
              "              style=\"display:none;\">\n",
              "        \n",
              "  <svg xmlns=\"http://www.w3.org/2000/svg\" height=\"24px\"viewBox=\"0 0 24 24\"\n",
              "       width=\"24px\">\n",
              "    <path d=\"M0 0h24v24H0V0z\" fill=\"none\"/>\n",
              "    <path d=\"M18.56 5.44l.94 2.06.94-2.06 2.06-.94-2.06-.94-.94-2.06-.94 2.06-2.06.94zm-11 1L8.5 8.5l.94-2.06 2.06-.94-2.06-.94L8.5 2.5l-.94 2.06-2.06.94zm10 10l.94 2.06.94-2.06 2.06-.94-2.06-.94-.94-2.06-.94 2.06-2.06.94z\"/><path d=\"M17.41 7.96l-1.37-1.37c-.4-.4-.92-.59-1.43-.59-.52 0-1.04.2-1.43.59L10.3 9.45l-7.72 7.72c-.78.78-.78 2.05 0 2.83L4 21.41c.39.39.9.59 1.41.59.51 0 1.02-.2 1.41-.59l7.78-7.78 2.81-2.81c.8-.78.8-2.07 0-2.86zM5.41 20L4 18.59l7.72-7.72 1.47 1.35L5.41 20z\"/>\n",
              "  </svg>\n",
              "      </button>\n",
              "      \n",
              "  <style>\n",
              "    .colab-df-container {\n",
              "      display:flex;\n",
              "      flex-wrap:wrap;\n",
              "      gap: 12px;\n",
              "    }\n",
              "\n",
              "    .colab-df-convert {\n",
              "      background-color: #E8F0FE;\n",
              "      border: none;\n",
              "      border-radius: 50%;\n",
              "      cursor: pointer;\n",
              "      display: none;\n",
              "      fill: #1967D2;\n",
              "      height: 32px;\n",
              "      padding: 0 0 0 0;\n",
              "      width: 32px;\n",
              "    }\n",
              "\n",
              "    .colab-df-convert:hover {\n",
              "      background-color: #E2EBFA;\n",
              "      box-shadow: 0px 1px 2px rgba(60, 64, 67, 0.3), 0px 1px 3px 1px rgba(60, 64, 67, 0.15);\n",
              "      fill: #174EA6;\n",
              "    }\n",
              "\n",
              "    [theme=dark] .colab-df-convert {\n",
              "      background-color: #3B4455;\n",
              "      fill: #D2E3FC;\n",
              "    }\n",
              "\n",
              "    [theme=dark] .colab-df-convert:hover {\n",
              "      background-color: #434B5C;\n",
              "      box-shadow: 0px 1px 3px 1px rgba(0, 0, 0, 0.15);\n",
              "      filter: drop-shadow(0px 1px 2px rgba(0, 0, 0, 0.3));\n",
              "      fill: #FFFFFF;\n",
              "    }\n",
              "  </style>\n",
              "\n",
              "      <script>\n",
              "        const buttonEl =\n",
              "          document.querySelector('#df-d9a68169-35e3-48c7-a88b-6b1407449e6c button.colab-df-convert');\n",
              "        buttonEl.style.display =\n",
              "          google.colab.kernel.accessAllowed ? 'block' : 'none';\n",
              "\n",
              "        async function convertToInteractive(key) {\n",
              "          const element = document.querySelector('#df-d9a68169-35e3-48c7-a88b-6b1407449e6c');\n",
              "          const dataTable =\n",
              "            await google.colab.kernel.invokeFunction('convertToInteractive',\n",
              "                                                     [key], {});\n",
              "          if (!dataTable) return;\n",
              "\n",
              "          const docLinkHtml = 'Like what you see? Visit the ' +\n",
              "            '<a target=\"_blank\" href=https://colab.research.google.com/notebooks/data_table.ipynb>data table notebook</a>'\n",
              "            + ' to learn more about interactive tables.';\n",
              "          element.innerHTML = '';\n",
              "          dataTable['output_type'] = 'display_data';\n",
              "          await google.colab.output.renderOutput(dataTable, element);\n",
              "          const docLink = document.createElement('div');\n",
              "          docLink.innerHTML = docLinkHtml;\n",
              "          element.appendChild(docLink);\n",
              "        }\n",
              "      </script>\n",
              "    </div>\n",
              "  </div>\n",
              "  "
            ]
          },
          "metadata": {},
          "execution_count": 18
        }
      ]
    },
    {
      "cell_type": "code",
      "source": [
        "df_entrenamiento.describe(include = 'object')"
      ],
      "metadata": {
        "colab": {
          "base_uri": "https://localhost:8080/",
          "height": 291
        },
        "id": "aeMjKPSymkyU",
        "outputId": "8a0ed336-7790-4159-9562-d7b5edaf2def"
      },
      "execution_count": null,
      "outputs": [
        {
          "output_type": "execute_result",
          "data": {
            "text/plain": [
              "                          title    headline bestseller captions locale  \\\n",
              "count                     11087       11086      11087     9142  11087   \n",
              "unique                    11009       10864          2       57      6   \n",
              "top     Curso de Automaquillaje  Soft Skill         no    es_ES  es_ES   \n",
              "freq                          3          12       8887     5312   6575   \n",
              "\n",
              "       instructional_level_simple content_info_short instructors  \\\n",
              "count                       11082              11087       11086   \n",
              "unique                          4                264        5283   \n",
              "top             Todos los niveles             1 hora    31832740   \n",
              "freq                         5119               1246          69   \n",
              "\n",
              "                      category subcategory  \\\n",
              "count                    11087       11068   \n",
              "unique                      13        1867   \n",
              "top     Informática y software       Excel   \n",
              "freq                      1757         149   \n",
              "\n",
              "                                               objectives list_price  \\\n",
              "count                                               11086      11087   \n",
              "unique                                              10895         29   \n",
              "top     Obtener los conocimientos suficientes para abo...     $19.99   \n",
              "freq                                                   17       3776   \n",
              "\n",
              "       discount_price  \n",
              "count           10103  \n",
              "unique             12  \n",
              "top               $12  \n",
              "freq             8787  "
            ],
            "text/html": [
              "\n",
              "  <div id=\"df-491d5166-6c39-401f-94c0-abb131cb96c9\">\n",
              "    <div class=\"colab-df-container\">\n",
              "      <div>\n",
              "<style scoped>\n",
              "    .dataframe tbody tr th:only-of-type {\n",
              "        vertical-align: middle;\n",
              "    }\n",
              "\n",
              "    .dataframe tbody tr th {\n",
              "        vertical-align: top;\n",
              "    }\n",
              "\n",
              "    .dataframe thead th {\n",
              "        text-align: right;\n",
              "    }\n",
              "</style>\n",
              "<table border=\"1\" class=\"dataframe\">\n",
              "  <thead>\n",
              "    <tr style=\"text-align: right;\">\n",
              "      <th></th>\n",
              "      <th>title</th>\n",
              "      <th>headline</th>\n",
              "      <th>bestseller</th>\n",
              "      <th>captions</th>\n",
              "      <th>locale</th>\n",
              "      <th>instructional_level_simple</th>\n",
              "      <th>content_info_short</th>\n",
              "      <th>instructors</th>\n",
              "      <th>category</th>\n",
              "      <th>subcategory</th>\n",
              "      <th>objectives</th>\n",
              "      <th>list_price</th>\n",
              "      <th>discount_price</th>\n",
              "    </tr>\n",
              "  </thead>\n",
              "  <tbody>\n",
              "    <tr>\n",
              "      <th>count</th>\n",
              "      <td>11087</td>\n",
              "      <td>11086</td>\n",
              "      <td>11087</td>\n",
              "      <td>9142</td>\n",
              "      <td>11087</td>\n",
              "      <td>11082</td>\n",
              "      <td>11087</td>\n",
              "      <td>11086</td>\n",
              "      <td>11087</td>\n",
              "      <td>11068</td>\n",
              "      <td>11086</td>\n",
              "      <td>11087</td>\n",
              "      <td>10103</td>\n",
              "    </tr>\n",
              "    <tr>\n",
              "      <th>unique</th>\n",
              "      <td>11009</td>\n",
              "      <td>10864</td>\n",
              "      <td>2</td>\n",
              "      <td>57</td>\n",
              "      <td>6</td>\n",
              "      <td>4</td>\n",
              "      <td>264</td>\n",
              "      <td>5283</td>\n",
              "      <td>13</td>\n",
              "      <td>1867</td>\n",
              "      <td>10895</td>\n",
              "      <td>29</td>\n",
              "      <td>12</td>\n",
              "    </tr>\n",
              "    <tr>\n",
              "      <th>top</th>\n",
              "      <td>Curso de Automaquillaje</td>\n",
              "      <td>Soft Skill</td>\n",
              "      <td>no</td>\n",
              "      <td>es_ES</td>\n",
              "      <td>es_ES</td>\n",
              "      <td>Todos los niveles</td>\n",
              "      <td>1 hora</td>\n",
              "      <td>31832740</td>\n",
              "      <td>Informática y software</td>\n",
              "      <td>Excel</td>\n",
              "      <td>Obtener los conocimientos suficientes para abo...</td>\n",
              "      <td>$19.99</td>\n",
              "      <td>$12</td>\n",
              "    </tr>\n",
              "    <tr>\n",
              "      <th>freq</th>\n",
              "      <td>3</td>\n",
              "      <td>12</td>\n",
              "      <td>8887</td>\n",
              "      <td>5312</td>\n",
              "      <td>6575</td>\n",
              "      <td>5119</td>\n",
              "      <td>1246</td>\n",
              "      <td>69</td>\n",
              "      <td>1757</td>\n",
              "      <td>149</td>\n",
              "      <td>17</td>\n",
              "      <td>3776</td>\n",
              "      <td>8787</td>\n",
              "    </tr>\n",
              "  </tbody>\n",
              "</table>\n",
              "</div>\n",
              "      <button class=\"colab-df-convert\" onclick=\"convertToInteractive('df-491d5166-6c39-401f-94c0-abb131cb96c9')\"\n",
              "              title=\"Convert this dataframe to an interactive table.\"\n",
              "              style=\"display:none;\">\n",
              "        \n",
              "  <svg xmlns=\"http://www.w3.org/2000/svg\" height=\"24px\"viewBox=\"0 0 24 24\"\n",
              "       width=\"24px\">\n",
              "    <path d=\"M0 0h24v24H0V0z\" fill=\"none\"/>\n",
              "    <path d=\"M18.56 5.44l.94 2.06.94-2.06 2.06-.94-2.06-.94-.94-2.06-.94 2.06-2.06.94zm-11 1L8.5 8.5l.94-2.06 2.06-.94-2.06-.94L8.5 2.5l-.94 2.06-2.06.94zm10 10l.94 2.06.94-2.06 2.06-.94-2.06-.94-.94-2.06-.94 2.06-2.06.94z\"/><path d=\"M17.41 7.96l-1.37-1.37c-.4-.4-.92-.59-1.43-.59-.52 0-1.04.2-1.43.59L10.3 9.45l-7.72 7.72c-.78.78-.78 2.05 0 2.83L4 21.41c.39.39.9.59 1.41.59.51 0 1.02-.2 1.41-.59l7.78-7.78 2.81-2.81c.8-.78.8-2.07 0-2.86zM5.41 20L4 18.59l7.72-7.72 1.47 1.35L5.41 20z\"/>\n",
              "  </svg>\n",
              "      </button>\n",
              "      \n",
              "  <style>\n",
              "    .colab-df-container {\n",
              "      display:flex;\n",
              "      flex-wrap:wrap;\n",
              "      gap: 12px;\n",
              "    }\n",
              "\n",
              "    .colab-df-convert {\n",
              "      background-color: #E8F0FE;\n",
              "      border: none;\n",
              "      border-radius: 50%;\n",
              "      cursor: pointer;\n",
              "      display: none;\n",
              "      fill: #1967D2;\n",
              "      height: 32px;\n",
              "      padding: 0 0 0 0;\n",
              "      width: 32px;\n",
              "    }\n",
              "\n",
              "    .colab-df-convert:hover {\n",
              "      background-color: #E2EBFA;\n",
              "      box-shadow: 0px 1px 2px rgba(60, 64, 67, 0.3), 0px 1px 3px 1px rgba(60, 64, 67, 0.15);\n",
              "      fill: #174EA6;\n",
              "    }\n",
              "\n",
              "    [theme=dark] .colab-df-convert {\n",
              "      background-color: #3B4455;\n",
              "      fill: #D2E3FC;\n",
              "    }\n",
              "\n",
              "    [theme=dark] .colab-df-convert:hover {\n",
              "      background-color: #434B5C;\n",
              "      box-shadow: 0px 1px 3px 1px rgba(0, 0, 0, 0.15);\n",
              "      filter: drop-shadow(0px 1px 2px rgba(0, 0, 0, 0.3));\n",
              "      fill: #FFFFFF;\n",
              "    }\n",
              "  </style>\n",
              "\n",
              "      <script>\n",
              "        const buttonEl =\n",
              "          document.querySelector('#df-491d5166-6c39-401f-94c0-abb131cb96c9 button.colab-df-convert');\n",
              "        buttonEl.style.display =\n",
              "          google.colab.kernel.accessAllowed ? 'block' : 'none';\n",
              "\n",
              "        async function convertToInteractive(key) {\n",
              "          const element = document.querySelector('#df-491d5166-6c39-401f-94c0-abb131cb96c9');\n",
              "          const dataTable =\n",
              "            await google.colab.kernel.invokeFunction('convertToInteractive',\n",
              "                                                     [key], {});\n",
              "          if (!dataTable) return;\n",
              "\n",
              "          const docLinkHtml = 'Like what you see? Visit the ' +\n",
              "            '<a target=\"_blank\" href=https://colab.research.google.com/notebooks/data_table.ipynb>data table notebook</a>'\n",
              "            + ' to learn more about interactive tables.';\n",
              "          element.innerHTML = '';\n",
              "          dataTable['output_type'] = 'display_data';\n",
              "          await google.colab.output.renderOutput(dataTable, element);\n",
              "          const docLink = document.createElement('div');\n",
              "          docLink.innerHTML = docLinkHtml;\n",
              "          element.appendChild(docLink);\n",
              "        }\n",
              "      </script>\n",
              "    </div>\n",
              "  </div>\n",
              "  "
            ]
          },
          "metadata": {},
          "execution_count": 19
        }
      ]
    },
    {
      "cell_type": "code",
      "source": [
        "df_prueba.describe(include = 'object')"
      ],
      "metadata": {
        "colab": {
          "base_uri": "https://localhost:8080/",
          "height": 343
        },
        "id": "Cqh8XyBgmrsb",
        "outputId": "249107c2-1a8a-4145-c9ca-723e0a0e0284"
      },
      "execution_count": null,
      "outputs": [
        {
          "output_type": "execute_result",
          "data": {
            "text/plain": [
              "                           title  \\\n",
              "count                        239   \n",
              "unique                       236   \n",
              "top     Lengua de señas mexicana   \n",
              "freq                           2   \n",
              "\n",
              "                                                 headline captions locale  \\\n",
              "count                                                 239      188    239   \n",
              "unique                                                234       11      6   \n",
              "top     ¡Su Hij@ Puede Hablar Inglés Con Confianza de ...    es_ES  es_ES   \n",
              "freq                                                    3      113    150   \n",
              "\n",
              "       instructional_level_simple content_info_short instructors  \\\n",
              "count                         239                239         239   \n",
              "unique                          4                 63         212   \n",
              "top             Todos los niveles            2 horas    46081654   \n",
              "freq                          114                 22           3   \n",
              "\n",
              "                      category    subcategory  \\\n",
              "count                      239            238   \n",
              "unique                      13            197   \n",
              "top     Informática y software  Idioma inglés   \n",
              "freq                        62              8   \n",
              "\n",
              "                                               objectives list_price  \\\n",
              "count                                                 239        239   \n",
              "unique                                                236         15   \n",
              "top     Conocer y aprender la lengua de señas mexicana...     $19.99   \n",
              "freq                                                    2         89   \n",
              "\n",
              "       discount_price  \n",
              "count             230  \n",
              "unique              2  \n",
              "top               $12  \n",
              "freq              229  "
            ],
            "text/html": [
              "\n",
              "  <div id=\"df-ecdafb87-de9b-428b-b948-134b7b50f481\">\n",
              "    <div class=\"colab-df-container\">\n",
              "      <div>\n",
              "<style scoped>\n",
              "    .dataframe tbody tr th:only-of-type {\n",
              "        vertical-align: middle;\n",
              "    }\n",
              "\n",
              "    .dataframe tbody tr th {\n",
              "        vertical-align: top;\n",
              "    }\n",
              "\n",
              "    .dataframe thead th {\n",
              "        text-align: right;\n",
              "    }\n",
              "</style>\n",
              "<table border=\"1\" class=\"dataframe\">\n",
              "  <thead>\n",
              "    <tr style=\"text-align: right;\">\n",
              "      <th></th>\n",
              "      <th>title</th>\n",
              "      <th>headline</th>\n",
              "      <th>captions</th>\n",
              "      <th>locale</th>\n",
              "      <th>instructional_level_simple</th>\n",
              "      <th>content_info_short</th>\n",
              "      <th>instructors</th>\n",
              "      <th>category</th>\n",
              "      <th>subcategory</th>\n",
              "      <th>objectives</th>\n",
              "      <th>list_price</th>\n",
              "      <th>discount_price</th>\n",
              "    </tr>\n",
              "  </thead>\n",
              "  <tbody>\n",
              "    <tr>\n",
              "      <th>count</th>\n",
              "      <td>239</td>\n",
              "      <td>239</td>\n",
              "      <td>188</td>\n",
              "      <td>239</td>\n",
              "      <td>239</td>\n",
              "      <td>239</td>\n",
              "      <td>239</td>\n",
              "      <td>239</td>\n",
              "      <td>238</td>\n",
              "      <td>239</td>\n",
              "      <td>239</td>\n",
              "      <td>230</td>\n",
              "    </tr>\n",
              "    <tr>\n",
              "      <th>unique</th>\n",
              "      <td>236</td>\n",
              "      <td>234</td>\n",
              "      <td>11</td>\n",
              "      <td>6</td>\n",
              "      <td>4</td>\n",
              "      <td>63</td>\n",
              "      <td>212</td>\n",
              "      <td>13</td>\n",
              "      <td>197</td>\n",
              "      <td>236</td>\n",
              "      <td>15</td>\n",
              "      <td>2</td>\n",
              "    </tr>\n",
              "    <tr>\n",
              "      <th>top</th>\n",
              "      <td>Lengua de señas mexicana</td>\n",
              "      <td>¡Su Hij@ Puede Hablar Inglés Con Confianza de ...</td>\n",
              "      <td>es_ES</td>\n",
              "      <td>es_ES</td>\n",
              "      <td>Todos los niveles</td>\n",
              "      <td>2 horas</td>\n",
              "      <td>46081654</td>\n",
              "      <td>Informática y software</td>\n",
              "      <td>Idioma inglés</td>\n",
              "      <td>Conocer y aprender la lengua de señas mexicana...</td>\n",
              "      <td>$19.99</td>\n",
              "      <td>$12</td>\n",
              "    </tr>\n",
              "    <tr>\n",
              "      <th>freq</th>\n",
              "      <td>2</td>\n",
              "      <td>3</td>\n",
              "      <td>113</td>\n",
              "      <td>150</td>\n",
              "      <td>114</td>\n",
              "      <td>22</td>\n",
              "      <td>3</td>\n",
              "      <td>62</td>\n",
              "      <td>8</td>\n",
              "      <td>2</td>\n",
              "      <td>89</td>\n",
              "      <td>229</td>\n",
              "    </tr>\n",
              "  </tbody>\n",
              "</table>\n",
              "</div>\n",
              "      <button class=\"colab-df-convert\" onclick=\"convertToInteractive('df-ecdafb87-de9b-428b-b948-134b7b50f481')\"\n",
              "              title=\"Convert this dataframe to an interactive table.\"\n",
              "              style=\"display:none;\">\n",
              "        \n",
              "  <svg xmlns=\"http://www.w3.org/2000/svg\" height=\"24px\"viewBox=\"0 0 24 24\"\n",
              "       width=\"24px\">\n",
              "    <path d=\"M0 0h24v24H0V0z\" fill=\"none\"/>\n",
              "    <path d=\"M18.56 5.44l.94 2.06.94-2.06 2.06-.94-2.06-.94-.94-2.06-.94 2.06-2.06.94zm-11 1L8.5 8.5l.94-2.06 2.06-.94-2.06-.94L8.5 2.5l-.94 2.06-2.06.94zm10 10l.94 2.06.94-2.06 2.06-.94-2.06-.94-.94-2.06-.94 2.06-2.06.94z\"/><path d=\"M17.41 7.96l-1.37-1.37c-.4-.4-.92-.59-1.43-.59-.52 0-1.04.2-1.43.59L10.3 9.45l-7.72 7.72c-.78.78-.78 2.05 0 2.83L4 21.41c.39.39.9.59 1.41.59.51 0 1.02-.2 1.41-.59l7.78-7.78 2.81-2.81c.8-.78.8-2.07 0-2.86zM5.41 20L4 18.59l7.72-7.72 1.47 1.35L5.41 20z\"/>\n",
              "  </svg>\n",
              "      </button>\n",
              "      \n",
              "  <style>\n",
              "    .colab-df-container {\n",
              "      display:flex;\n",
              "      flex-wrap:wrap;\n",
              "      gap: 12px;\n",
              "    }\n",
              "\n",
              "    .colab-df-convert {\n",
              "      background-color: #E8F0FE;\n",
              "      border: none;\n",
              "      border-radius: 50%;\n",
              "      cursor: pointer;\n",
              "      display: none;\n",
              "      fill: #1967D2;\n",
              "      height: 32px;\n",
              "      padding: 0 0 0 0;\n",
              "      width: 32px;\n",
              "    }\n",
              "\n",
              "    .colab-df-convert:hover {\n",
              "      background-color: #E2EBFA;\n",
              "      box-shadow: 0px 1px 2px rgba(60, 64, 67, 0.3), 0px 1px 3px 1px rgba(60, 64, 67, 0.15);\n",
              "      fill: #174EA6;\n",
              "    }\n",
              "\n",
              "    [theme=dark] .colab-df-convert {\n",
              "      background-color: #3B4455;\n",
              "      fill: #D2E3FC;\n",
              "    }\n",
              "\n",
              "    [theme=dark] .colab-df-convert:hover {\n",
              "      background-color: #434B5C;\n",
              "      box-shadow: 0px 1px 3px 1px rgba(0, 0, 0, 0.15);\n",
              "      filter: drop-shadow(0px 1px 2px rgba(0, 0, 0, 0.3));\n",
              "      fill: #FFFFFF;\n",
              "    }\n",
              "  </style>\n",
              "\n",
              "      <script>\n",
              "        const buttonEl =\n",
              "          document.querySelector('#df-ecdafb87-de9b-428b-b948-134b7b50f481 button.colab-df-convert');\n",
              "        buttonEl.style.display =\n",
              "          google.colab.kernel.accessAllowed ? 'block' : 'none';\n",
              "\n",
              "        async function convertToInteractive(key) {\n",
              "          const element = document.querySelector('#df-ecdafb87-de9b-428b-b948-134b7b50f481');\n",
              "          const dataTable =\n",
              "            await google.colab.kernel.invokeFunction('convertToInteractive',\n",
              "                                                     [key], {});\n",
              "          if (!dataTable) return;\n",
              "\n",
              "          const docLinkHtml = 'Like what you see? Visit the ' +\n",
              "            '<a target=\"_blank\" href=https://colab.research.google.com/notebooks/data_table.ipynb>data table notebook</a>'\n",
              "            + ' to learn more about interactive tables.';\n",
              "          element.innerHTML = '';\n",
              "          dataTable['output_type'] = 'display_data';\n",
              "          await google.colab.output.renderOutput(dataTable, element);\n",
              "          const docLink = document.createElement('div');\n",
              "          docLink.innerHTML = docLinkHtml;\n",
              "          element.appendChild(docLink);\n",
              "        }\n",
              "      </script>\n",
              "    </div>\n",
              "  </div>\n",
              "  "
            ]
          },
          "metadata": {},
          "execution_count": 20
        }
      ]
    },
    {
      "cell_type": "markdown",
      "source": [
        "##Exploración de repetidos"
      ],
      "metadata": {
        "id": "eF-ps03Iw6on"
      }
    },
    {
      "cell_type": "code",
      "source": [
        "# Veo si hay duplicados\n",
        "print(df_entrenamiento.duplicated().value_counts()) # 53 duplicados\n",
        "print(df_prueba.duplicated().value_counts()) # 3 duplicados"
      ],
      "metadata": {
        "colab": {
          "base_uri": "https://localhost:8080/"
        },
        "id": "meJa03UHxBzA",
        "outputId": "f8420b1c-5917-4400-e0cc-ae4062fe4efc"
      },
      "execution_count": null,
      "outputs": [
        {
          "output_type": "stream",
          "name": "stdout",
          "text": [
            "False    11034\n",
            "True        53\n",
            "dtype: int64\n",
            "False    236\n",
            "True       3\n",
            "dtype: int64\n"
          ]
        }
      ]
    },
    {
      "cell_type": "markdown",
      "source": [
        "Pendiente: analizar si los repetidos alteran el balance de bestseller para peor\n",
        "\n"
      ],
      "metadata": {
        "id": "Taz26NQPxw7p"
      }
    },
    {
      "cell_type": "markdown",
      "source": [
        "##Exploración de variables"
      ],
      "metadata": {
        "id": "FZBH3tpcsqAB"
      }
    },
    {
      "cell_type": "markdown",
      "source": [
        "###Rating"
      ],
      "metadata": {
        "id": "SPwFYyQsu6Rg"
      }
    },
    {
      "cell_type": "code",
      "source": [
        "df_entrenamiento['rating'].hist(bins = 40);"
      ],
      "metadata": {
        "colab": {
          "base_uri": "https://localhost:8080/",
          "height": 265
        },
        "id": "gI-w5qjDoZuo",
        "outputId": "dc5087d1-e329-4ec8-b5e5-f7792be27b26"
      },
      "execution_count": null,
      "outputs": [
        {
          "output_type": "display_data",
          "data": {
            "text/plain": [
              "<Figure size 432x288 with 1 Axes>"
            ],
            "image/png": "[encoded data removed]"
          },
          "metadata": {
            "needs_background": "light"
          }
        }
      ]
    },
    {
      "cell_type": "code",
      "source": [
        "for i in [2.5,3,3.5]:\n",
        "  print((df_entrenamiento.rating < i).sum())"
      ],
      "metadata": {
        "colab": {
          "base_uri": "https://localhost:8080/"
        },
        "id": "tKBpmoL7QrG8",
        "outputId": "f3513fae-6d9e-47ee-9ac4-401ce268ef2b"
      },
      "execution_count": null,
      "outputs": [
        {
          "output_type": "stream",
          "name": "stdout",
          "text": [
            "135\n",
            "302\n",
            "830\n"
          ]
        }
      ]
    },
    {
      "cell_type": "code",
      "source": [
        "df_prueba.rating.hist(bins = 40);"
      ],
      "metadata": {
        "colab": {
          "base_uri": "https://localhost:8080/",
          "height": 265
        },
        "id": "PuV6RnN7sueY",
        "outputId": "699348f7-4877-4b71-eb32-40c82787f932"
      },
      "execution_count": null,
      "outputs": [
        {
          "output_type": "display_data",
          "data": {
            "text/plain": [
              "<Figure size 432x288 with 1 Axes>"
            ],
            "image/png": "[encoded data removed]"
          },
          "metadata": {
            "needs_background": "light"
          }
        }
      ]
    },
    {
      "cell_type": "markdown",
      "source": [
        "Hay pocos puntajes debajo de ciertos umbrales, quizás puede filtrarse un poco el conjunto de entrenamiento"
      ],
      "metadata": {
        "id": "Id8LIzW1SYOs"
      }
    },
    {
      "cell_type": "code",
      "source": [
        "for i in [2.5,3,3.5]:\n",
        "  print((df_prueba.rating < i).sum())"
      ],
      "metadata": {
        "colab": {
          "base_uri": "https://localhost:8080/"
        },
        "id": "J5CjB8__QGec",
        "outputId": "7beb127c-c714-4538-ad1c-745b58fbd0ac"
      },
      "execution_count": null,
      "outputs": [
        {
          "output_type": "stream",
          "name": "stdout",
          "text": [
            "5\n",
            "6\n",
            "12\n"
          ]
        }
      ]
    },
    {
      "cell_type": "code",
      "source": [
        "for i in [4,4.5]:\n",
        "  print((df_prueba.rating > i).sum())"
      ],
      "metadata": {
        "colab": {
          "base_uri": "https://localhost:8080/"
        },
        "id": "iqUtp3pVkB8s",
        "outputId": "26495d9c-971f-4dac-cc49-d6fc8d075006"
      },
      "execution_count": null,
      "outputs": [
        {
          "output_type": "stream",
          "name": "stdout",
          "text": [
            "206\n",
            "153\n"
          ]
        }
      ]
    },
    {
      "cell_type": "code",
      "source": [
        "ax = df_entrenamiento.loc[df_entrenamiento['bestseller'] == 'no','rating'].hist(bins = 100);\n",
        "df_entrenamiento.loc[df_entrenamiento['bestseller'] == 'si','rating'].hist(bins = 100, ax = ax);"
      ],
      "metadata": {
        "colab": {
          "base_uri": "https://localhost:8080/",
          "height": 265
        },
        "id": "Y6Ju-R_0GZTK",
        "outputId": "31bb9391-65ef-4b4d-a341-65852ca0d9c5"
      },
      "execution_count": null,
      "outputs": [
        {
          "output_type": "display_data",
          "data": {
            "text/plain": [
              "<Figure size 432x288 with 1 Axes>"
            ],
            "image/png": "[encoded data removed]"
          },
          "metadata": {
            "needs_background": "light"
          }
        }
      ]
    },
    {
      "cell_type": "markdown",
      "source": [
        "Las distribuciones para bestsellers y no bestsellers son diferentes."
      ],
      "metadata": {
        "id": "RgJ9bhgtWXfn"
      }
    },
    {
      "cell_type": "code",
      "source": [
        "U,p = sp.stats.mannwhitneyu(df_entrenamiento.loc[df_entrenamiento['bestseller'] == 'no','rating'], df_entrenamiento.loc[df_entrenamiento['bestseller'] == 'si','rating'])\n",
        "print('p-valor es ',p)"
      ],
      "metadata": {
        "colab": {
          "base_uri": "https://localhost:8080/"
        },
        "id": "mq9wcSHbQxMB",
        "outputId": "7033cdf6-12ec-404e-805e-c7bf2f9c27d0"
      },
      "execution_count": null,
      "outputs": [
        {
          "output_type": "stream",
          "name": "stdout",
          "text": [
            "p-valor es  0.0015628527138570963\n"
          ]
        }
      ]
    },
    {
      "cell_type": "code",
      "source": [
        "df_entrenamiento.loc[df_entrenamiento['bestseller'] == 'si','rating'].min()"
      ],
      "metadata": {
        "colab": {
          "base_uri": "https://localhost:8080/"
        },
        "id": "17mHdWgqG3Yj",
        "outputId": "ba07c40f-4dd2-4c3c-98c5-dc30bec75171"
      },
      "execution_count": null,
      "outputs": [
        {
          "output_type": "execute_result",
          "data": {
            "text/plain": [
              "1.5302486"
            ]
          },
          "metadata": {},
          "execution_count": 29
        }
      ]
    },
    {
      "cell_type": "code",
      "source": [
        "for i in [2.5,3,3.5]:\n",
        "  print(((df_entrenamiento['bestseller'] == 'si') & (df_entrenamiento.rating < i)).sum())"
      ],
      "metadata": {
        "colab": {
          "base_uri": "https://localhost:8080/"
        },
        "id": "-Ll1o2pcQ1mM",
        "outputId": "7f0fce7c-f597-4bf1-bcdb-a140f1099aa0"
      },
      "execution_count": null,
      "outputs": [
        {
          "output_type": "stream",
          "name": "stdout",
          "text": [
            "3\n",
            "23\n",
            "72\n"
          ]
        }
      ]
    },
    {
      "cell_type": "markdown",
      "source": [
        "Probabilidad de ser bestseller dependiendo del rating"
      ],
      "metadata": {
        "id": "2FVseZQ4SIZR"
      }
    },
    {
      "cell_type": "code",
      "source": [
        "for i in [2.5,3,3.5,4,4.5]:\n",
        "  print(((df_entrenamiento['bestseller'] == 'si') & (df_entrenamiento.rating < i)).sum()/(df_entrenamiento.rating < i).sum())"
      ],
      "metadata": {
        "colab": {
          "base_uri": "https://localhost:8080/"
        },
        "id": "o8NpZKc4Ryjj",
        "outputId": "39b1841c-ec6a-4266-fc44-4319011145a8"
      },
      "execution_count": null,
      "outputs": [
        {
          "output_type": "stream",
          "name": "stdout",
          "text": [
            "0.022222222222222223\n",
            "0.076158940397351\n",
            "0.08674698795180723\n",
            "0.13442622950819672\n",
            "0.1962588625735405\n"
          ]
        }
      ]
    },
    {
      "cell_type": "markdown",
      "source": [
        "Muchos de los que tienen puntaje igual a 5 no son bestsellers, eso quizás arruina el modelo."
      ],
      "metadata": {
        "id": "Zt4vQm5gxvD4"
      }
    },
    {
      "cell_type": "code",
      "source": [
        "ax = df_entrenamiento.loc[df_entrenamiento['bestseller'] == 'no','rating'].hist(bins = 100, range = (4.75,4.99));\n",
        "df_entrenamiento.loc[df_entrenamiento['bestseller'] == 'si','rating'].hist(bins = 100, ax = ax, range = (4.75,4.99));"
      ],
      "metadata": {
        "colab": {
          "base_uri": "https://localhost:8080/",
          "height": 265
        },
        "id": "pkS2gWdewf0V",
        "outputId": "b5fb7534-2b74-452f-d587-f3a9de0d4f19"
      },
      "execution_count": null,
      "outputs": [
        {
          "output_type": "display_data",
          "data": {
            "text/plain": [
              "<Figure size 432x288 with 1 Axes>"
            ],
            "image/png": "[encoded data removed]"
          },
          "metadata": {
            "needs_background": "light"
          }
        }
      ]
    },
    {
      "cell_type": "code",
      "source": [
        "(df_entrenamiento.rating == 5).sum()"
      ],
      "metadata": {
        "colab": {
          "base_uri": "https://localhost:8080/"
        },
        "id": "713xM6U2wyEb",
        "outputId": "bb7b69cc-b6ff-46c2-ffcb-e7d4c3e3ac27"
      },
      "execution_count": null,
      "outputs": [
        {
          "output_type": "execute_result",
          "data": {
            "text/plain": [
              "779"
            ]
          },
          "metadata": {},
          "execution_count": 33
        }
      ]
    },
    {
      "cell_type": "code",
      "source": [
        "((df_entrenamiento.rating == 5) & (df_entrenamiento.bestseller == 'si')).sum()"
      ],
      "metadata": {
        "colab": {
          "base_uri": "https://localhost:8080/"
        },
        "id": "tpUMofYXx8a2",
        "outputId": "47659f66-6130-4192-deab-23f14036ae1e"
      },
      "execution_count": null,
      "outputs": [
        {
          "output_type": "execute_result",
          "data": {
            "text/plain": [
              "3"
            ]
          },
          "metadata": {},
          "execution_count": 34
        }
      ]
    },
    {
      "cell_type": "code",
      "source": [
        "df_prueba.rating.hist(bins = 100, range = (4.9,5));"
      ],
      "metadata": {
        "colab": {
          "base_uri": "https://localhost:8080/",
          "height": 265
        },
        "id": "FxyLkgXxxaa5",
        "outputId": "2b4e57bc-13f0-42f3-8e21-b94c1725538c"
      },
      "execution_count": null,
      "outputs": [
        {
          "output_type": "display_data",
          "data": {
            "text/plain": [
              "<Figure size 432x288 with 1 Axes>"
            ],
            "image/png": "[encoded data removed]"
          },
          "metadata": {
            "needs_background": "light"
          }
        }
      ]
    },
    {
      "cell_type": "code",
      "source": [
        "(df_prueba.rating == 5).sum()"
      ],
      "metadata": {
        "colab": {
          "base_uri": "https://localhost:8080/"
        },
        "id": "cYn6_c6zyZlb",
        "outputId": "f7d3fccc-78d6-4299-afc0-101628e5e79b"
      },
      "execution_count": null,
      "outputs": [
        {
          "output_type": "execute_result",
          "data": {
            "text/plain": [
              "57"
            ]
          },
          "metadata": {},
          "execution_count": 36
        }
      ]
    },
    {
      "cell_type": "markdown",
      "source": [
        "###Precios"
      ],
      "metadata": {
        "id": "0S-rIdWfvAmY"
      }
    },
    {
      "cell_type": "markdown",
      "source": [
        "Conviene explorar precios tras limpiarlos (ver sección de exploración de datos procesados)"
      ],
      "metadata": {
        "id": "K-sOYD3HvLqR"
      }
    },
    {
      "cell_type": "code",
      "source": [
        "df_entrenamiento['list_price'].hist();"
      ],
      "metadata": {
        "colab": {
          "base_uri": "https://localhost:8080/",
          "height": 268
        },
        "id": "2KKtgYzgonvL",
        "outputId": "41e45986-3834-4093-e577-acda9209073f"
      },
      "execution_count": null,
      "outputs": [
        {
          "output_type": "display_data",
          "data": {
            "text/plain": [
              "<Figure size 432x288 with 1 Axes>"
            ],
            "image/png": "[encoded data removed]"
          },
          "metadata": {
            "needs_background": "light"
          }
        }
      ]
    },
    {
      "cell_type": "code",
      "source": [
        "df_prueba.list_price.hist();"
      ],
      "metadata": {
        "colab": {
          "base_uri": "https://localhost:8080/",
          "height": 265
        },
        "id": "rFJ8gXd4s77h",
        "outputId": "eac5d839-f2df-46cc-8a3b-ca694a83bdde"
      },
      "execution_count": null,
      "outputs": [
        {
          "output_type": "display_data",
          "data": {
            "text/plain": [
              "<Figure size 432x288 with 1 Axes>"
            ],
            "image/png": "[encoded data removed]"
          },
          "metadata": {
            "needs_background": "light"
          }
        }
      ]
    },
    {
      "cell_type": "code",
      "source": [
        "df_entrenamiento['discount_price'].hist();"
      ],
      "metadata": {
        "colab": {
          "base_uri": "https://localhost:8080/",
          "height": 268
        },
        "id": "23xVXiHoos9L",
        "outputId": "d77427f3-6dbe-464d-f2d1-6b68d0b232ee"
      },
      "execution_count": null,
      "outputs": [
        {
          "output_type": "display_data",
          "data": {
            "text/plain": [
              "<Figure size 432x288 with 1 Axes>"
            ],
            "image/png": "[encoded data removed]"
          },
          "metadata": {
            "needs_background": "light"
          }
        }
      ]
    },
    {
      "cell_type": "code",
      "source": [
        "df_prueba.discount_price.hist();"
      ],
      "metadata": {
        "colab": {
          "base_uri": "https://localhost:8080/",
          "height": 265
        },
        "id": "ZCQfYZo1tG_h",
        "outputId": "29a6d70a-939e-4824-d869-06622a41f876"
      },
      "execution_count": null,
      "outputs": [
        {
          "output_type": "display_data",
          "data": {
            "text/plain": [
              "<Figure size 432x288 with 1 Axes>"
            ],
            "image/png": "[encoded data removed]"
          },
          "metadata": {
            "needs_background": "light"
          }
        }
      ]
    },
    {
      "cell_type": "markdown",
      "source": [
        "###Locale"
      ],
      "metadata": {
        "id": "CB6BoTtWveEp"
      }
    },
    {
      "cell_type": "markdown",
      "source": [
        "(esto no está considerando aquellos casos en los que locale está vacío)"
      ],
      "metadata": {
        "id": "YYHauwFWJzNK"
      }
    },
    {
      "cell_type": "code",
      "source": [
        "df_entrenamiento['locale'].value_counts()"
      ],
      "metadata": {
        "colab": {
          "base_uri": "https://localhost:8080/"
        },
        "id": "0sYKQMDvoyLC",
        "outputId": "9c421fd8-1ddc-46ee-b227-7b474347cbc2"
      },
      "execution_count": null,
      "outputs": [
        {
          "output_type": "execute_result",
          "data": {
            "text/plain": [
              "es_ES    6575\n",
              "es_LA    2381\n",
              "es_MX    1444\n",
              "es_CO     430\n",
              "es_VE     156\n",
              "es_CL     101\n",
              "Name: locale, dtype: int64"
            ]
          },
          "metadata": {},
          "execution_count": 41
        }
      ]
    },
    {
      "cell_type": "code",
      "source": [
        "df_prueba.locale.value_counts()"
      ],
      "metadata": {
        "colab": {
          "base_uri": "https://localhost:8080/"
        },
        "id": "DcVceoz9ozqT",
        "outputId": "5035e919-7982-4865-8746-122f3145ba32"
      },
      "execution_count": null,
      "outputs": [
        {
          "output_type": "execute_result",
          "data": {
            "text/plain": [
              "es_ES    150\n",
              "es_LA     51\n",
              "es_MX     27\n",
              "es_VE      5\n",
              "es_CO      5\n",
              "es_CL      1\n",
              "Name: locale, dtype: int64"
            ]
          },
          "metadata": {},
          "execution_count": 42
        }
      ]
    },
    {
      "cell_type": "code",
      "source": [
        "df_entrenamiento.loc[df_entrenamiento.bestseller == 'si','locale'].value_counts()"
      ],
      "metadata": {
        "colab": {
          "base_uri": "https://localhost:8080/"
        },
        "id": "2MghnQycIA2w",
        "outputId": "8c86ca1b-843f-4735-c1f1-9986507dbd83"
      },
      "execution_count": null,
      "outputs": [
        {
          "output_type": "execute_result",
          "data": {
            "text/plain": [
              "es_ES    1221\n",
              "es_LA     560\n",
              "es_MX     290\n",
              "es_CO      81\n",
              "es_VE      34\n",
              "es_CL      14\n",
              "Name: locale, dtype: int64"
            ]
          },
          "metadata": {},
          "execution_count": 43
        }
      ]
    },
    {
      "cell_type": "markdown",
      "source": [
        "###Captions"
      ],
      "metadata": {
        "id": "98EH3dfX6fek"
      }
    },
    {
      "cell_type": "markdown",
      "source": [
        "Puede verse como solo alguna de las posibilidades concentran la mayoría de los cursos."
      ],
      "metadata": {
        "id": "KQpM-d2lWxPs"
      }
    },
    {
      "cell_type": "code",
      "source": [
        "df_entrenamiento.captions.value_counts()"
      ],
      "metadata": {
        "colab": {
          "base_uri": "https://localhost:8080/"
        },
        "id": "YAvwDf9f6j7G",
        "outputId": "53e08535-b37a-40e7-fbb4-460a5f43ce41"
      },
      "execution_count": null,
      "outputs": [
        {
          "output_type": "execute_result",
          "data": {
            "text/plain": [
              "es_ES                                                                                                                5312\n",
              "es_LA                                                                                                                1946\n",
              "es_MX                                                                                                                1198\n",
              "es_CO                                                                                                                 375\n",
              "es_VE                                                                                                                 123\n",
              "es_CL                                                                                                                  81\n",
              "es_ES,en_US                                                                                                            15\n",
              "en_US                                                                                                                   9\n",
              "es_LA,en_US                                                                                                             7\n",
              "en_US,es_ES                                                                                                             5\n",
              "es_CO,en_GB                                                                                                             5\n",
              "es_CO,es_ES                                                                                                             4\n",
              "es_ES,en_GB                                                                                                             4\n",
              "en_US,es_LA                                                                                                             4\n",
              "en_GB                                                                                                                   4\n",
              "es_LA,en_GB                                                                                                             4\n",
              "es_MX,en_US                                                                                                             2\n",
              "es_ES,es_VE                                                                                                             2\n",
              "es_LA,pt_BR                                                                                                             2\n",
              "pt_BR,es_ES,en_US                                                                                                       2\n",
              "en_US,es_MX                                                                                                             2\n",
              "pt_BR,es_MX,en_US                                                                                                       1\n",
              "es_ES,pt_BR,en_US                                                                                                       1\n",
              "es_ES,pt_BR,en_US,it_IT                                                                                                 1\n",
              "en_GB,es_ES                                                                                                             1\n",
              "en_GB,zh_CN,es_LA,ru_RU,pl_PL,fr_FR,nl_NL,de_DE,pt_PT,ja_JP,it_IT                                                       1\n",
              "es_LA,de_DE                                                                                                             1\n",
              "en_US,es_CO                                                                                                             1\n",
              "es_ES,it_IT                                                                                                             1\n",
              "pt_BR,es_MX                                                                                                             1\n",
              "en_US,it_IT,es_LA,pt_BR                                                                                                 1\n",
              "it_IT,en_US,es_ES                                                                                                       1\n",
              "es_CO,es_CL,pt_BR,en_US,en_IN,pt_PT,en_GB,es_ES,es_LA,es_MX,es_VE                                                       1\n",
              "de_DE                                                                                                                   1\n",
              "en_GB,es_LA                                                                                                             1\n",
              "es_LA,de_DE,en_US                                                                                                       1\n",
              "en_US,de_DE,es_LA                                                                                                       1\n",
              "es_ES,it_IT,en_GB                                                                                                       1\n",
              "es_ES,en_US,pt_BR                                                                                                       1\n",
              "en_US,pt_BR,es_LA                                                                                                       1\n",
              "it_IT,sv_SE,pt_BR,zh_HK,pl_PL,he_IL,da_DK,ru_RU,ko_KR,ja_JP,es_ES,de_DE,nl_NL,fr_FR,el_GR,ar_AR,fa_IR,id_ID,th_TH       1\n",
              "en_US,it_IT                                                                                                             1\n",
              "en_IN                                                                                                                   1\n",
              "it_IT,ru_RU,pt_BR,ko_KR,de_DE,en_US,es_ES,fr_FR                                                                         1\n",
              "en_US,pt_BR,es_CL                                                                                                       1\n",
              "en_US,es_LA,pt_BR                                                                                                       1\n",
              "es_CO,es_LA                                                                                                             1\n",
              "es_LA,en_US,ro_RO,fr_FR                                                                                                 1\n",
              "de_DE,en_US                                                                                                             1\n",
              "zh_CN,pt_BR,ja_JP,it_IT,es_LA,ar_AR,fr_FR,en_US                                                                         1\n",
              "it_IT,es_ES                                                                                                             1\n",
              "es_ES,en_GB,en_US                                                                                                       1\n",
              "es_VE,es_ES                                                                                                             1\n",
              "pt_PT,en_US,es_MX,es_CL,pt_BR,es_LA,en_IN,en_GB,es_VE,es_CO,es_ES                                                       1\n",
              "en_US,es_CL                                                                                                             1\n",
              "es_ES,fr_FR,en_US                                                                                                       1\n",
              "en_US,es_LA,de_DE                                                                                                       1\n",
              "Name: captions, dtype: int64"
            ]
          },
          "metadata": {},
          "execution_count": 44
        }
      ]
    },
    {
      "cell_type": "code",
      "source": [
        "df_prueba.captions.value_counts()"
      ],
      "metadata": {
        "colab": {
          "base_uri": "https://localhost:8080/"
        },
        "id": "XqxWWEG-64s6",
        "outputId": "6e45ad40-1275-4638-af01-7e56a65da348"
      },
      "execution_count": null,
      "outputs": [
        {
          "output_type": "execute_result",
          "data": {
            "text/plain": [
              "es_ES                113\n",
              "es_LA                 40\n",
              "es_MX                 23\n",
              "es_CO                  4\n",
              "es_VE                  2\n",
              "es_MX,en_US            1\n",
              "en_US,es_CO            1\n",
              "en_US,es_ES,pt_BR      1\n",
              "en_US,es_LA            1\n",
              "es_ES,en_US            1\n",
              "es_CL                  1\n",
              "Name: captions, dtype: int64"
            ]
          },
          "metadata": {},
          "execution_count": 45
        }
      ]
    },
    {
      "cell_type": "code",
      "source": [
        "set(df_prueba.captions.unique())-set(df_entrenamiento.captions.unique())"
      ],
      "metadata": {
        "colab": {
          "base_uri": "https://localhost:8080/"
        },
        "id": "xOhSmBb57G_f",
        "outputId": "d491d887-f4ba-48e4-85e4-2eca060bac6c"
      },
      "execution_count": null,
      "outputs": [
        {
          "output_type": "execute_result",
          "data": {
            "text/plain": [
              "{'en_US,es_ES,pt_BR'}"
            ]
          },
          "metadata": {},
          "execution_count": 46
        }
      ]
    },
    {
      "cell_type": "markdown",
      "source": [
        "###Content_info_short"
      ],
      "metadata": {
        "id": "SVR7gkRrvgfB"
      }
    },
    {
      "cell_type": "markdown",
      "source": [
        "Conviene desagregar en dos columnas para horas y preguntas."
      ],
      "metadata": {
        "id": "9wif6lMVXNHI"
      }
    },
    {
      "cell_type": "code",
      "source": [
        "df_entrenamiento.content_info_short.value_counts()"
      ],
      "metadata": {
        "colab": {
          "base_uri": "https://localhost:8080/"
        },
        "id": "PygTNOt9nS4r",
        "outputId": "602f4c3d-4dc5-400e-c38f-497413841086"
      },
      "execution_count": null,
      "outputs": [
        {
          "output_type": "execute_result",
          "data": {
            "text/plain": [
              "1 hora           1246\n",
              "1,5 horas        1209\n",
              "2 horas          1071\n",
              "2,5 horas         892\n",
              "3 horas           722\n",
              "                 ... \n",
              "59 horas            1\n",
              "175 preguntas       1\n",
              "168 preguntas       1\n",
              "81,5 horas          1\n",
              "28 minutos          1\n",
              "Name: content_info_short, Length: 264, dtype: int64"
            ]
          },
          "metadata": {},
          "execution_count": 47
        }
      ]
    },
    {
      "cell_type": "code",
      "source": [
        "df_entrenamiento.content_info_short.unique()"
      ],
      "metadata": {
        "id": "ADPXdfdsYqVh",
        "colab": {
          "base_uri": "https://localhost:8080/"
        },
        "outputId": "5b33032b-223a-4e53-a9a6-5fac972c61e7"
      },
      "execution_count": null,
      "outputs": [
        {
          "output_type": "execute_result",
          "data": {
            "text/plain": [
              "array(['4 horas', '10 horas', '6,5 horas', '9,5 horas', '70,5 horas',\n",
              "       '20,5 horas', '2 horas', '63,5 horas', '6 horas', '25 horas',\n",
              "       '8 horas', '7,5 horas', '2,5 horas', '3 horas', '3,5 horas',\n",
              "       '26,5 horas', '1,5 horas', '7 horas', '4,5 horas', '42 minutos',\n",
              "       '5,5 horas', '9 horas', '5 horas', '1 hora', '15 horas',\n",
              "       '34 minutos', '14,5 horas', '39 minutos', '12 horas', '11 horas',\n",
              "       '43 minutos', '14 horas', '28,5 horas', '13 horas', '15,5 horas',\n",
              "       '8,5 horas', '30 minutos', '19 horas', '32 minutos', '36 minutos',\n",
              "       '31 minutos', '38 minutos', '13,5 horas', '29,5 horas',\n",
              "       '21,5 horas', '17,5 horas', '12,5 horas', '16,5 horas',\n",
              "       '10,5 horas', '19,5 horas', '35 minutos', '20 horas', '61 horas',\n",
              "       '37 minutos', '28 horas', '18,5 horas', '41 minutos', '35,5 horas',\n",
              "       '32,5 horas', '17 horas', '11,5 horas', '45,5 horas', '23 horas',\n",
              "       '24 horas', '31,5 horas', '40 minutos', '25,5 horas', '29 horas',\n",
              "       '41 horas', '102 horas', '44,5 horas', '40 horas', '41,5 horas',\n",
              "       '35 horas', '50 horas', '21 horas', '48,5 horas', '18 horas',\n",
              "       '26 horas', '44 minutos', '22 horas', '52 horas', '42,5 horas',\n",
              "       '89 horas', '30 horas', '62 horas', '16 horas', '37,5 horas',\n",
              "       '30,5 horas', '56 horas', '106 horas', '33 minutos', '27 horas',\n",
              "       '36 horas', '23,5 horas', '70 horas', '34,5 horas', '55 horas',\n",
              "       '45 horas', '24,5 horas', '81,5 horas', '49 horas', '39 horas',\n",
              "       '51 horas', '47,5 horas', '48 horas', '33,5 horas', '49,5 horas',\n",
              "       '34 horas', '32 horas', '80,5 horas', '47 horas', '54 horas',\n",
              "       '22,5 horas', '120 preguntas', '31 horas', '82 horas',\n",
              "       '43,5 horas', '110 horas', '22 minutos', '57,5 horas',\n",
              "       '39,5 horas', '56,5 horas', '27,5 horas', '3 preguntas',\n",
              "       '17 preguntas', '57 horas', '46,5 horas', '70 preguntas',\n",
              "       '4 preguntas', '33 horas', '20 preguntas', '68,5 horas',\n",
              "       '610 preguntas', '44 horas', '640 preguntas', '51,5 horas',\n",
              "       '66,5 horas', '342 preguntas', '150 preguntas', '50 preguntas',\n",
              "       '160 preguntas', '36,5 horas', '269 preguntas', '170 preguntas',\n",
              "       '100 preguntas', '96,5 horas', '55,5 horas', '38 horas',\n",
              "       '35 preguntas', '46 preguntas', '69 horas', '83 horas',\n",
              "       '15 preguntas', '200 preguntas', '321 preguntas', '30 preguntas',\n",
              "       '40 preguntas', '358 preguntas', '60 preguntas', '80 preguntas',\n",
              "       '24 preguntas', '612 preguntas', '359 preguntas', '230 preguntas',\n",
              "       '271 preguntas', '137 preguntas', '299 preguntas', '224 preguntas',\n",
              "       '40,5 horas', '344 preguntas', '37 horas', '400 preguntas',\n",
              "       '210 preguntas', '168 preguntas', '175 preguntas', '59 horas',\n",
              "       '75 preguntas', '215 preguntas', '220 preguntas', '424 preguntas',\n",
              "       '301 preguntas', '61,5 horas', '240 preguntas', '74 horas',\n",
              "       '38,5 horas', '268 preguntas', '194 preguntas', '275 preguntas',\n",
              "       '378 preguntas', '71 preguntas', '300 preguntas', '103 preguntas',\n",
              "       '42 preguntas', '114 preguntas', '307 preguntas', '85 horas',\n",
              "       '495 preguntas', '750 preguntas', '90 preguntas', '85 preguntas',\n",
              "       '125 preguntas', '140 preguntas', '139 horas', '169 preguntas',\n",
              "       '72 preguntas', '112 preguntas', '62 preguntas', '196 preguntas',\n",
              "       '65 horas', '21 preguntas', '93 horas', '42 horas', '83 preguntas',\n",
              "       '310 preguntas', '232 preguntas', '144 preguntas', '8 preguntas',\n",
              "       '370 preguntas', '54,5 horas', '78,5 horas', '64,5 horas',\n",
              "       '260 preguntas', '685 preguntas', '55 preguntas', '411 preguntas',\n",
              "       '62,5 horas', '110 preguntas', '244 preguntas', '130 preguntas',\n",
              "       '53 preguntas', '63 preguntas', '152 preguntas', '16 preguntas',\n",
              "       '211 preguntas', '107 preguntas', '188 preguntas', '18 preguntas',\n",
              "       '92,5 horas', '141 preguntas', '43 horas', '239 preguntas',\n",
              "       '250 preguntas', '192 preguntas', '659 preguntas', '95 preguntas',\n",
              "       '138,5 horas', '1168 preguntas', '185 preguntas', '327 preguntas',\n",
              "       '162 preguntas', '529 preguntas', '163 preguntas', '523 preguntas',\n",
              "       '390 preguntas', '65 preguntas', '165 preguntas', '66 preguntas',\n",
              "       '600 preguntas', '451 preguntas', '58 horas', '71,5 horas',\n",
              "       '225 preguntas', '28 minutos'], dtype=object)"
            ]
          },
          "metadata": {},
          "execution_count": 48
        }
      ]
    },
    {
      "cell_type": "code",
      "source": [
        "df_prueba.content_info_short.value_counts()"
      ],
      "metadata": {
        "colab": {
          "base_uri": "https://localhost:8080/"
        },
        "id": "ADTxgddfnS3D",
        "outputId": "d5cef0c2-6930-4359-fd4a-429ffa016a7a"
      },
      "execution_count": null,
      "outputs": [
        {
          "output_type": "execute_result",
          "data": {
            "text/plain": [
              "2 horas          22\n",
              "1,5 horas        21\n",
              "3,5 horas        21\n",
              "1 hora           20\n",
              "2,5 horas        16\n",
              "                 ..\n",
              "310 preguntas     1\n",
              "64 preguntas      1\n",
              "107 preguntas     1\n",
              "28 horas          1\n",
              "309 preguntas     1\n",
              "Name: content_info_short, Length: 63, dtype: int64"
            ]
          },
          "metadata": {},
          "execution_count": 49
        }
      ]
    },
    {
      "cell_type": "code",
      "source": [
        "df_prueba.content_info_short.unique()"
      ],
      "metadata": {
        "id": "UXSmGIwYYwzY",
        "colab": {
          "base_uri": "https://localhost:8080/"
        },
        "outputId": "40213080-1f49-492a-da91-beb3e5c5b404"
      },
      "execution_count": null,
      "outputs": [
        {
          "output_type": "execute_result",
          "data": {
            "text/plain": [
              "array(['4 horas', '43,5 horas', '1,5 horas', '1 hora', '3 horas',\n",
              "       '5,5 horas', '4,5 horas', '3,5 horas', '20,5 horas', '2,5 horas',\n",
              "       '43 minutos', '12,5 horas', '2 horas', '9,5 horas', '22,5 horas',\n",
              "       '7,5 horas', '39 minutos', '42 minutos', '5 horas', '30 minutos',\n",
              "       '600 preguntas', '8,5 horas', '30,5 horas', '13,5 horas',\n",
              "       '41 minutos', '250 preguntas', '28,5 horas', '6 horas',\n",
              "       '6,5 horas', '10 horas', '934 preguntas', '80 preguntas',\n",
              "       '9 horas', '36 horas', '7 horas', '11,5 horas', '16 horas',\n",
              "       '17,5 horas', '310 preguntas', '38 minutos', '64 preguntas',\n",
              "       '107 preguntas', '28 horas', '15,5 horas', '60 preguntas',\n",
              "       '8 horas', '21 horas', '40 preguntas', '27 horas', '22 horas',\n",
              "       '34 minutos', '61 horas', '325 preguntas', '17 horas', '15 horas',\n",
              "       '33 minutos', '14,5 horas', '19 horas', '44 minutos', '32 minutos',\n",
              "       '12 horas', '10,5 horas', '309 preguntas'], dtype=object)"
            ]
          },
          "metadata": {},
          "execution_count": 50
        }
      ]
    },
    {
      "cell_type": "markdown",
      "source": [
        "Valores que están en prueba pero no en entrenamiento"
      ],
      "metadata": {
        "id": "tAAUE3DPZbf_"
      }
    },
    {
      "cell_type": "code",
      "source": [
        "set(df_prueba.content_info_short.unique()) - set(df_entrenamiento.content_info_short.unique())"
      ],
      "metadata": {
        "colab": {
          "base_uri": "https://localhost:8080/"
        },
        "id": "iufsESImZPDy",
        "outputId": "09c019ba-c3cc-4a53-c7ae-74da37598813"
      },
      "execution_count": null,
      "outputs": [
        {
          "output_type": "execute_result",
          "data": {
            "text/plain": [
              "{'309 preguntas', '325 preguntas', '64 preguntas', '934 preguntas'}"
            ]
          },
          "metadata": {},
          "execution_count": 51
        }
      ]
    },
    {
      "cell_type": "markdown",
      "source": [
        "###is_practice_test_course"
      ],
      "metadata": {
        "id": "W1si4xvOdVL2"
      }
    },
    {
      "cell_type": "code",
      "source": [
        "(df_entrenamiento.is_practice_test_course == True).sum()"
      ],
      "metadata": {
        "colab": {
          "base_uri": "https://localhost:8080/"
        },
        "id": "sduF-if5EXz6",
        "outputId": "c67e24a2-dfc2-4e99-9e5f-d75861c6e96c"
      },
      "execution_count": null,
      "outputs": [
        {
          "output_type": "execute_result",
          "data": {
            "text/plain": [
              "186"
            ]
          },
          "metadata": {},
          "execution_count": 52
        }
      ]
    },
    {
      "cell_type": "code",
      "source": [
        "(df_entrenamiento.is_practice_test_course == False).sum()"
      ],
      "metadata": {
        "colab": {
          "base_uri": "https://localhost:8080/"
        },
        "id": "CyVxXUESEqzP",
        "outputId": "e4edafb8-a853-45db-fbc5-ed5ac8891747"
      },
      "execution_count": null,
      "outputs": [
        {
          "output_type": "execute_result",
          "data": {
            "text/plain": [
              "10901"
            ]
          },
          "metadata": {},
          "execution_count": 53
        }
      ]
    },
    {
      "cell_type": "code",
      "source": [
        "(df_prueba.is_practice_test_course == True).sum()"
      ],
      "metadata": {
        "colab": {
          "base_uri": "https://localhost:8080/"
        },
        "outputId": "50ab12dc-dfb6-4c14-ee48-8d1da252e198",
        "id": "F2sFG2T5EvdS"
      },
      "execution_count": null,
      "outputs": [
        {
          "output_type": "execute_result",
          "data": {
            "text/plain": [
              "12"
            ]
          },
          "metadata": {},
          "execution_count": 54
        }
      ]
    },
    {
      "cell_type": "code",
      "source": [
        "(df_prueba.is_practice_test_course == False).sum()"
      ],
      "metadata": {
        "colab": {
          "base_uri": "https://localhost:8080/"
        },
        "outputId": "ca69aa09-b113-455c-81db-baa6d9126772",
        "id": "Hr3NT9LZEvdS"
      },
      "execution_count": null,
      "outputs": [
        {
          "output_type": "execute_result",
          "data": {
            "text/plain": [
              "227"
            ]
          },
          "metadata": {},
          "execution_count": 55
        }
      ]
    },
    {
      "cell_type": "code",
      "source": [
        "((df_entrenamiento.is_practice_test_course == True) & (df_entrenamiento.bestseller == 'si')).sum()"
      ],
      "metadata": {
        "colab": {
          "base_uri": "https://localhost:8080/"
        },
        "outputId": "1ed8da58-be7b-467c-9c56-87778e4f390a",
        "id": "lYi1GMT8uSlm"
      },
      "execution_count": null,
      "outputs": [
        {
          "output_type": "execute_result",
          "data": {
            "text/plain": [
              "32"
            ]
          },
          "metadata": {},
          "execution_count": 56
        }
      ]
    },
    {
      "cell_type": "code",
      "source": [
        "((df_entrenamiento.is_practice_test_course == False) & (df_entrenamiento.bestseller == 'si')).sum()"
      ],
      "metadata": {
        "colab": {
          "base_uri": "https://localhost:8080/"
        },
        "outputId": "ed33e6f3-bd22-4563-cb37-93653903a316",
        "id": "bF-c87TXuSln"
      },
      "execution_count": null,
      "outputs": [
        {
          "output_type": "execute_result",
          "data": {
            "text/plain": [
              "2168"
            ]
          },
          "metadata": {},
          "execution_count": 57
        }
      ]
    },
    {
      "cell_type": "code",
      "source": [
        "df_entrenamiento.loc[df_entrenamiento.is_practice_test_course, ['content_info_short', 'is_practice_test_course']]\n",
        "# content_info_short esta en preguntas"
      ],
      "metadata": {
        "colab": {
          "base_uri": "https://localhost:8080/",
          "height": 455
        },
        "id": "obRco4BOdbnn",
        "outputId": "09afa45d-c935-4a91-af2d-8b08ab3f1df1"
      },
      "execution_count": null,
      "outputs": [
        {
          "output_type": "execute_result",
          "data": {
            "text/plain": [
              "      content_info_short  is_practice_test_course\n",
              "id                                               \n",
              "2820       120 preguntas                     True\n",
              "3577         3 preguntas                     True\n",
              "3581        17 preguntas                     True\n",
              "3752        70 preguntas                     True\n",
              "3829         4 preguntas                     True\n",
              "...                  ...                      ...\n",
              "10812      600 preguntas                     True\n",
              "10839      451 preguntas                     True\n",
              "10897       85 preguntas                     True\n",
              "10987      225 preguntas                     True\n",
              "11037      125 preguntas                     True\n",
              "\n",
              "[186 rows x 2 columns]"
            ],
            "text/html": [
              "\n",
              "  <div id=\"df-2d5e5a70-e2b9-458f-bdad-f4d246262346\">\n",
              "    <div class=\"colab-df-container\">\n",
              "      <div>\n",
              "<style scoped>\n",
              "    .dataframe tbody tr th:only-of-type {\n",
              "        vertical-align: middle;\n",
              "    }\n",
              "\n",
              "    .dataframe tbody tr th {\n",
              "        vertical-align: top;\n",
              "    }\n",
              "\n",
              "    .dataframe thead th {\n",
              "        text-align: right;\n",
              "    }\n",
              "</style>\n",
              "<table border=\"1\" class=\"dataframe\">\n",
              "  <thead>\n",
              "    <tr style=\"text-align: right;\">\n",
              "      <th></th>\n",
              "      <th>content_info_short</th>\n",
              "      <th>is_practice_test_course</th>\n",
              "    </tr>\n",
              "    <tr>\n",
              "      <th>id</th>\n",
              "      <th></th>\n",
              "      <th></th>\n",
              "    </tr>\n",
              "  </thead>\n",
              "  <tbody>\n",
              "    <tr>\n",
              "      <th>2820</th>\n",
              "      <td>120 preguntas</td>\n",
              "      <td>True</td>\n",
              "    </tr>\n",
              "    <tr>\n",
              "      <th>3577</th>\n",
              "      <td>3 preguntas</td>\n",
              "      <td>True</td>\n",
              "    </tr>\n",
              "    <tr>\n",
              "      <th>3581</th>\n",
              "      <td>17 preguntas</td>\n",
              "      <td>True</td>\n",
              "    </tr>\n",
              "    <tr>\n",
              "      <th>3752</th>\n",
              "      <td>70 preguntas</td>\n",
              "      <td>True</td>\n",
              "    </tr>\n",
              "    <tr>\n",
              "      <th>3829</th>\n",
              "      <td>4 preguntas</td>\n",
              "      <td>True</td>\n",
              "    </tr>\n",
              "    <tr>\n",
              "      <th>...</th>\n",
              "      <td>...</td>\n",
              "      <td>...</td>\n",
              "    </tr>\n",
              "    <tr>\n",
              "      <th>10812</th>\n",
              "      <td>600 preguntas</td>\n",
              "      <td>True</td>\n",
              "    </tr>\n",
              "    <tr>\n",
              "      <th>10839</th>\n",
              "      <td>451 preguntas</td>\n",
              "      <td>True</td>\n",
              "    </tr>\n",
              "    <tr>\n",
              "      <th>10897</th>\n",
              "      <td>85 preguntas</td>\n",
              "      <td>True</td>\n",
              "    </tr>\n",
              "    <tr>\n",
              "      <th>10987</th>\n",
              "      <td>225 preguntas</td>\n",
              "      <td>True</td>\n",
              "    </tr>\n",
              "    <tr>\n",
              "      <th>11037</th>\n",
              "      <td>125 preguntas</td>\n",
              "      <td>True</td>\n",
              "    </tr>\n",
              "  </tbody>\n",
              "</table>\n",
              "<p>186 rows × 2 columns</p>\n",
              "</div>\n",
              "      <button class=\"colab-df-convert\" onclick=\"convertToInteractive('df-2d5e5a70-e2b9-458f-bdad-f4d246262346')\"\n",
              "              title=\"Convert this dataframe to an interactive table.\"\n",
              "              style=\"display:none;\">\n",
              "        \n",
              "  <svg xmlns=\"http://www.w3.org/2000/svg\" height=\"24px\"viewBox=\"0 0 24 24\"\n",
              "       width=\"24px\">\n",
              "    <path d=\"M0 0h24v24H0V0z\" fill=\"none\"/>\n",
              "    <path d=\"M18.56 5.44l.94 2.06.94-2.06 2.06-.94-2.06-.94-.94-2.06-.94 2.06-2.06.94zm-11 1L8.5 8.5l.94-2.06 2.06-.94-2.06-.94L8.5 2.5l-.94 2.06-2.06.94zm10 10l.94 2.06.94-2.06 2.06-.94-2.06-.94-.94-2.06-.94 2.06-2.06.94z\"/><path d=\"M17.41 7.96l-1.37-1.37c-.4-.4-.92-.59-1.43-.59-.52 0-1.04.2-1.43.59L10.3 9.45l-7.72 7.72c-.78.78-.78 2.05 0 2.83L4 21.41c.39.39.9.59 1.41.59.51 0 1.02-.2 1.41-.59l7.78-7.78 2.81-2.81c.8-.78.8-2.07 0-2.86zM5.41 20L4 18.59l7.72-7.72 1.47 1.35L5.41 20z\"/>\n",
              "  </svg>\n",
              "      </button>\n",
              "      \n",
              "  <style>\n",
              "    .colab-df-container {\n",
              "      display:flex;\n",
              "      flex-wrap:wrap;\n",
              "      gap: 12px;\n",
              "    }\n",
              "\n",
              "    .colab-df-convert {\n",
              "      background-color: #E8F0FE;\n",
              "      border: none;\n",
              "      border-radius: 50%;\n",
              "      cursor: pointer;\n",
              "      display: none;\n",
              "      fill: #1967D2;\n",
              "      height: 32px;\n",
              "      padding: 0 0 0 0;\n",
              "      width: 32px;\n",
              "    }\n",
              "\n",
              "    .colab-df-convert:hover {\n",
              "      background-color: #E2EBFA;\n",
              "      box-shadow: 0px 1px 2px rgba(60, 64, 67, 0.3), 0px 1px 3px 1px rgba(60, 64, 67, 0.15);\n",
              "      fill: #174EA6;\n",
              "    }\n",
              "\n",
              "    [theme=dark] .colab-df-convert {\n",
              "      background-color: #3B4455;\n",
              "      fill: #D2E3FC;\n",
              "    }\n",
              "\n",
              "    [theme=dark] .colab-df-convert:hover {\n",
              "      background-color: #434B5C;\n",
              "      box-shadow: 0px 1px 3px 1px rgba(0, 0, 0, 0.15);\n",
              "      filter: drop-shadow(0px 1px 2px rgba(0, 0, 0, 0.3));\n",
              "      fill: #FFFFFF;\n",
              "    }\n",
              "  </style>\n",
              "\n",
              "      <script>\n",
              "        const buttonEl =\n",
              "          document.querySelector('#df-2d5e5a70-e2b9-458f-bdad-f4d246262346 button.colab-df-convert');\n",
              "        buttonEl.style.display =\n",
              "          google.colab.kernel.accessAllowed ? 'block' : 'none';\n",
              "\n",
              "        async function convertToInteractive(key) {\n",
              "          const element = document.querySelector('#df-2d5e5a70-e2b9-458f-bdad-f4d246262346');\n",
              "          const dataTable =\n",
              "            await google.colab.kernel.invokeFunction('convertToInteractive',\n",
              "                                                     [key], {});\n",
              "          if (!dataTable) return;\n",
              "\n",
              "          const docLinkHtml = 'Like what you see? Visit the ' +\n",
              "            '<a target=\"_blank\" href=https://colab.research.google.com/notebooks/data_table.ipynb>data table notebook</a>'\n",
              "            + ' to learn more about interactive tables.';\n",
              "          element.innerHTML = '';\n",
              "          dataTable['output_type'] = 'display_data';\n",
              "          await google.colab.output.renderOutput(dataTable, element);\n",
              "          const docLink = document.createElement('div');\n",
              "          docLink.innerHTML = docLinkHtml;\n",
              "          element.appendChild(docLink);\n",
              "        }\n",
              "      </script>\n",
              "    </div>\n",
              "  </div>\n",
              "  "
            ]
          },
          "metadata": {},
          "execution_count": 58
        }
      ]
    },
    {
      "cell_type": "markdown",
      "source": [
        "Reviso rigurosamente hay una relación entre preguntas y el valor True"
      ],
      "metadata": {
        "id": "gW2Z_qpXfecu"
      }
    },
    {
      "cell_type": "code",
      "source": [
        "df_entrenamiento.content_info_short.str.contains('pregunta').equals(df_entrenamiento.is_practice_test_course)"
      ],
      "metadata": {
        "colab": {
          "base_uri": "https://localhost:8080/"
        },
        "id": "E8sGjpzFeuI-",
        "outputId": "26504d4f-1cd5-495c-c7a1-7c96c39ffa7a"
      },
      "execution_count": null,
      "outputs": [
        {
          "output_type": "execute_result",
          "data": {
            "text/plain": [
              "True"
            ]
          },
          "metadata": {},
          "execution_count": 59
        }
      ]
    },
    {
      "cell_type": "code",
      "source": [
        "df_prueba.content_info_short.str.contains('pregunta').equals(df_prueba.is_practice_test_course)"
      ],
      "metadata": {
        "colab": {
          "base_uri": "https://localhost:8080/"
        },
        "id": "774keC35FEOx",
        "outputId": "eb37036c-45a1-4d0e-ac16-632849b31ab9"
      },
      "execution_count": null,
      "outputs": [
        {
          "output_type": "execute_result",
          "data": {
            "text/plain": [
              "True"
            ]
          },
          "metadata": {},
          "execution_count": 60
        }
      ]
    },
    {
      "cell_type": "code",
      "source": [
        "df_entrenamiento.loc[df_entrenamiento.is_practice_test_course == False, ['content_info_short', 'is_practice_test_course']]"
      ],
      "metadata": {
        "colab": {
          "base_uri": "https://localhost:8080/",
          "height": 455
        },
        "id": "-q881B_heiPm",
        "outputId": "51ff4192-ad96-4ba2-dd84-e44f313e0ab1"
      },
      "execution_count": null,
      "outputs": [
        {
          "output_type": "execute_result",
          "data": {
            "text/plain": [
              "      content_info_short  is_practice_test_course\n",
              "id                                               \n",
              "1                4 horas                    False\n",
              "2               10 horas                    False\n",
              "3              6,5 horas                    False\n",
              "4              9,5 horas                    False\n",
              "5             70,5 horas                    False\n",
              "...                  ...                      ...\n",
              "11083          7,5 horas                    False\n",
              "11084         13,5 horas                    False\n",
              "11085            4 horas                    False\n",
              "11086             1 hora                    False\n",
              "11087             1 hora                    False\n",
              "\n",
              "[10901 rows x 2 columns]"
            ],
            "text/html": [
              "\n",
              "  <div id=\"df-d0a0e5fe-8466-4907-949c-6f7766bc65f1\">\n",
              "    <div class=\"colab-df-container\">\n",
              "      <div>\n",
              "<style scoped>\n",
              "    .dataframe tbody tr th:only-of-type {\n",
              "        vertical-align: middle;\n",
              "    }\n",
              "\n",
              "    .dataframe tbody tr th {\n",
              "        vertical-align: top;\n",
              "    }\n",
              "\n",
              "    .dataframe thead th {\n",
              "        text-align: right;\n",
              "    }\n",
              "</style>\n",
              "<table border=\"1\" class=\"dataframe\">\n",
              "  <thead>\n",
              "    <tr style=\"text-align: right;\">\n",
              "      <th></th>\n",
              "      <th>content_info_short</th>\n",
              "      <th>is_practice_test_course</th>\n",
              "    </tr>\n",
              "    <tr>\n",
              "      <th>id</th>\n",
              "      <th></th>\n",
              "      <th></th>\n",
              "    </tr>\n",
              "  </thead>\n",
              "  <tbody>\n",
              "    <tr>\n",
              "      <th>1</th>\n",
              "      <td>4 horas</td>\n",
              "      <td>False</td>\n",
              "    </tr>\n",
              "    <tr>\n",
              "      <th>2</th>\n",
              "      <td>10 horas</td>\n",
              "      <td>False</td>\n",
              "    </tr>\n",
              "    <tr>\n",
              "      <th>3</th>\n",
              "      <td>6,5 horas</td>\n",
              "      <td>False</td>\n",
              "    </tr>\n",
              "    <tr>\n",
              "      <th>4</th>\n",
              "      <td>9,5 horas</td>\n",
              "      <td>False</td>\n",
              "    </tr>\n",
              "    <tr>\n",
              "      <th>5</th>\n",
              "      <td>70,5 horas</td>\n",
              "      <td>False</td>\n",
              "    </tr>\n",
              "    <tr>\n",
              "      <th>...</th>\n",
              "      <td>...</td>\n",
              "      <td>...</td>\n",
              "    </tr>\n",
              "    <tr>\n",
              "      <th>11083</th>\n",
              "      <td>7,5 horas</td>\n",
              "      <td>False</td>\n",
              "    </tr>\n",
              "    <tr>\n",
              "      <th>11084</th>\n",
              "      <td>13,5 horas</td>\n",
              "      <td>False</td>\n",
              "    </tr>\n",
              "    <tr>\n",
              "      <th>11085</th>\n",
              "      <td>4 horas</td>\n",
              "      <td>False</td>\n",
              "    </tr>\n",
              "    <tr>\n",
              "      <th>11086</th>\n",
              "      <td>1 hora</td>\n",
              "      <td>False</td>\n",
              "    </tr>\n",
              "    <tr>\n",
              "      <th>11087</th>\n",
              "      <td>1 hora</td>\n",
              "      <td>False</td>\n",
              "    </tr>\n",
              "  </tbody>\n",
              "</table>\n",
              "<p>10901 rows × 2 columns</p>\n",
              "</div>\n",
              "      <button class=\"colab-df-convert\" onclick=\"convertToInteractive('df-d0a0e5fe-8466-4907-949c-6f7766bc65f1')\"\n",
              "              title=\"Convert this dataframe to an interactive table.\"\n",
              "              style=\"display:none;\">\n",
              "        \n",
              "  <svg xmlns=\"http://www.w3.org/2000/svg\" height=\"24px\"viewBox=\"0 0 24 24\"\n",
              "       width=\"24px\">\n",
              "    <path d=\"M0 0h24v24H0V0z\" fill=\"none\"/>\n",
              "    <path d=\"M18.56 5.44l.94 2.06.94-2.06 2.06-.94-2.06-.94-.94-2.06-.94 2.06-2.06.94zm-11 1L8.5 8.5l.94-2.06 2.06-.94-2.06-.94L8.5 2.5l-.94 2.06-2.06.94zm10 10l.94 2.06.94-2.06 2.06-.94-2.06-.94-.94-2.06-.94 2.06-2.06.94z\"/><path d=\"M17.41 7.96l-1.37-1.37c-.4-.4-.92-.59-1.43-.59-.52 0-1.04.2-1.43.59L10.3 9.45l-7.72 7.72c-.78.78-.78 2.05 0 2.83L4 21.41c.39.39.9.59 1.41.59.51 0 1.02-.2 1.41-.59l7.78-7.78 2.81-2.81c.8-.78.8-2.07 0-2.86zM5.41 20L4 18.59l7.72-7.72 1.47 1.35L5.41 20z\"/>\n",
              "  </svg>\n",
              "      </button>\n",
              "      \n",
              "  <style>\n",
              "    .colab-df-container {\n",
              "      display:flex;\n",
              "      flex-wrap:wrap;\n",
              "      gap: 12px;\n",
              "    }\n",
              "\n",
              "    .colab-df-convert {\n",
              "      background-color: #E8F0FE;\n",
              "      border: none;\n",
              "      border-radius: 50%;\n",
              "      cursor: pointer;\n",
              "      display: none;\n",
              "      fill: #1967D2;\n",
              "      height: 32px;\n",
              "      padding: 0 0 0 0;\n",
              "      width: 32px;\n",
              "    }\n",
              "\n",
              "    .colab-df-convert:hover {\n",
              "      background-color: #E2EBFA;\n",
              "      box-shadow: 0px 1px 2px rgba(60, 64, 67, 0.3), 0px 1px 3px 1px rgba(60, 64, 67, 0.15);\n",
              "      fill: #174EA6;\n",
              "    }\n",
              "\n",
              "    [theme=dark] .colab-df-convert {\n",
              "      background-color: #3B4455;\n",
              "      fill: #D2E3FC;\n",
              "    }\n",
              "\n",
              "    [theme=dark] .colab-df-convert:hover {\n",
              "      background-color: #434B5C;\n",
              "      box-shadow: 0px 1px 3px 1px rgba(0, 0, 0, 0.15);\n",
              "      filter: drop-shadow(0px 1px 2px rgba(0, 0, 0, 0.3));\n",
              "      fill: #FFFFFF;\n",
              "    }\n",
              "  </style>\n",
              "\n",
              "      <script>\n",
              "        const buttonEl =\n",
              "          document.querySelector('#df-d0a0e5fe-8466-4907-949c-6f7766bc65f1 button.colab-df-convert');\n",
              "        buttonEl.style.display =\n",
              "          google.colab.kernel.accessAllowed ? 'block' : 'none';\n",
              "\n",
              "        async function convertToInteractive(key) {\n",
              "          const element = document.querySelector('#df-d0a0e5fe-8466-4907-949c-6f7766bc65f1');\n",
              "          const dataTable =\n",
              "            await google.colab.kernel.invokeFunction('convertToInteractive',\n",
              "                                                     [key], {});\n",
              "          if (!dataTable) return;\n",
              "\n",
              "          const docLinkHtml = 'Like what you see? Visit the ' +\n",
              "            '<a target=\"_blank\" href=https://colab.research.google.com/notebooks/data_table.ipynb>data table notebook</a>'\n",
              "            + ' to learn more about interactive tables.';\n",
              "          element.innerHTML = '';\n",
              "          dataTable['output_type'] = 'display_data';\n",
              "          await google.colab.output.renderOutput(dataTable, element);\n",
              "          const docLink = document.createElement('div');\n",
              "          docLink.innerHTML = docLinkHtml;\n",
              "          element.appendChild(docLink);\n",
              "        }\n",
              "      </script>\n",
              "    </div>\n",
              "  </div>\n",
              "  "
            ]
          },
          "metadata": {},
          "execution_count": 61
        }
      ]
    },
    {
      "cell_type": "markdown",
      "source": [
        "Reviso rigurosamente si hay una relación entre la cantidad de tiempo y False"
      ],
      "metadata": {
        "id": "baC7TzK0fn_W"
      }
    },
    {
      "cell_type": "code",
      "source": [
        "(df_entrenamiento.content_info_short.str.contains('hora|minuto')).equals(df_entrenamiento.is_practice_test_course == False)"
      ],
      "metadata": {
        "colab": {
          "base_uri": "https://localhost:8080/"
        },
        "id": "JhCJ-njHFa_4",
        "outputId": "40feb579-38d5-486e-9c7c-8143d7fbf8ae"
      },
      "execution_count": null,
      "outputs": [
        {
          "output_type": "execute_result",
          "data": {
            "text/plain": [
              "True"
            ]
          },
          "metadata": {},
          "execution_count": 62
        }
      ]
    },
    {
      "cell_type": "code",
      "source": [
        "(df_prueba.content_info_short.str.contains('hora|minuto')).equals(df_prueba.is_practice_test_course == False)"
      ],
      "metadata": {
        "colab": {
          "base_uri": "https://localhost:8080/"
        },
        "id": "mhm8VrIDFLHw",
        "outputId": "5ae53b4a-f0f4-4362-cf8b-e410cd83936c"
      },
      "execution_count": null,
      "outputs": [
        {
          "output_type": "execute_result",
          "data": {
            "text/plain": [
              "True"
            ]
          },
          "metadata": {},
          "execution_count": 63
        }
      ]
    },
    {
      "cell_type": "code",
      "source": [
        "df_entrenamiento.loc[df_entrenamiento.is_practice_test_course, ['num_published_practice_tests', 'is_practice_test_course']]"
      ],
      "metadata": {
        "colab": {
          "base_uri": "https://localhost:8080/",
          "height": 455
        },
        "id": "HbFYrRD7f_eM",
        "outputId": "baaf91d7-7a09-4d85-b161-7b516e261fcb"
      },
      "execution_count": null,
      "outputs": [
        {
          "output_type": "execute_result",
          "data": {
            "text/plain": [
              "       num_published_practice_tests  is_practice_test_course\n",
              "id                                                          \n",
              "2820                              6                     True\n",
              "3577                              2                     True\n",
              "3581                              2                     True\n",
              "3752                              2                     True\n",
              "3829                              2                     True\n",
              "...                             ...                      ...\n",
              "10812                             4                     True\n",
              "10839                             6                     True\n",
              "10897                             3                     True\n",
              "10987                             5                     True\n",
              "11037                             3                     True\n",
              "\n",
              "[186 rows x 2 columns]"
            ],
            "text/html": [
              "\n",
              "  <div id=\"df-626c6e7d-13b6-4520-9380-b93bed86d2c1\">\n",
              "    <div class=\"colab-df-container\">\n",
              "      <div>\n",
              "<style scoped>\n",
              "    .dataframe tbody tr th:only-of-type {\n",
              "        vertical-align: middle;\n",
              "    }\n",
              "\n",
              "    .dataframe tbody tr th {\n",
              "        vertical-align: top;\n",
              "    }\n",
              "\n",
              "    .dataframe thead th {\n",
              "        text-align: right;\n",
              "    }\n",
              "</style>\n",
              "<table border=\"1\" class=\"dataframe\">\n",
              "  <thead>\n",
              "    <tr style=\"text-align: right;\">\n",
              "      <th></th>\n",
              "      <th>num_published_practice_tests</th>\n",
              "      <th>is_practice_test_course</th>\n",
              "    </tr>\n",
              "    <tr>\n",
              "      <th>id</th>\n",
              "      <th></th>\n",
              "      <th></th>\n",
              "    </tr>\n",
              "  </thead>\n",
              "  <tbody>\n",
              "    <tr>\n",
              "      <th>2820</th>\n",
              "      <td>6</td>\n",
              "      <td>True</td>\n",
              "    </tr>\n",
              "    <tr>\n",
              "      <th>3577</th>\n",
              "      <td>2</td>\n",
              "      <td>True</td>\n",
              "    </tr>\n",
              "    <tr>\n",
              "      <th>3581</th>\n",
              "      <td>2</td>\n",
              "      <td>True</td>\n",
              "    </tr>\n",
              "    <tr>\n",
              "      <th>3752</th>\n",
              "      <td>2</td>\n",
              "      <td>True</td>\n",
              "    </tr>\n",
              "    <tr>\n",
              "      <th>3829</th>\n",
              "      <td>2</td>\n",
              "      <td>True</td>\n",
              "    </tr>\n",
              "    <tr>\n",
              "      <th>...</th>\n",
              "      <td>...</td>\n",
              "      <td>...</td>\n",
              "    </tr>\n",
              "    <tr>\n",
              "      <th>10812</th>\n",
              "      <td>4</td>\n",
              "      <td>True</td>\n",
              "    </tr>\n",
              "    <tr>\n",
              "      <th>10839</th>\n",
              "      <td>6</td>\n",
              "      <td>True</td>\n",
              "    </tr>\n",
              "    <tr>\n",
              "      <th>10897</th>\n",
              "      <td>3</td>\n",
              "      <td>True</td>\n",
              "    </tr>\n",
              "    <tr>\n",
              "      <th>10987</th>\n",
              "      <td>5</td>\n",
              "      <td>True</td>\n",
              "    </tr>\n",
              "    <tr>\n",
              "      <th>11037</th>\n",
              "      <td>3</td>\n",
              "      <td>True</td>\n",
              "    </tr>\n",
              "  </tbody>\n",
              "</table>\n",
              "<p>186 rows × 2 columns</p>\n",
              "</div>\n",
              "      <button class=\"colab-df-convert\" onclick=\"convertToInteractive('df-626c6e7d-13b6-4520-9380-b93bed86d2c1')\"\n",
              "              title=\"Convert this dataframe to an interactive table.\"\n",
              "              style=\"display:none;\">\n",
              "        \n",
              "  <svg xmlns=\"http://www.w3.org/2000/svg\" height=\"24px\"viewBox=\"0 0 24 24\"\n",
              "       width=\"24px\">\n",
              "    <path d=\"M0 0h24v24H0V0z\" fill=\"none\"/>\n",
              "    <path d=\"M18.56 5.44l.94 2.06.94-2.06 2.06-.94-2.06-.94-.94-2.06-.94 2.06-2.06.94zm-11 1L8.5 8.5l.94-2.06 2.06-.94-2.06-.94L8.5 2.5l-.94 2.06-2.06.94zm10 10l.94 2.06.94-2.06 2.06-.94-2.06-.94-.94-2.06-.94 2.06-2.06.94z\"/><path d=\"M17.41 7.96l-1.37-1.37c-.4-.4-.92-.59-1.43-.59-.52 0-1.04.2-1.43.59L10.3 9.45l-7.72 7.72c-.78.78-.78 2.05 0 2.83L4 21.41c.39.39.9.59 1.41.59.51 0 1.02-.2 1.41-.59l7.78-7.78 2.81-2.81c.8-.78.8-2.07 0-2.86zM5.41 20L4 18.59l7.72-7.72 1.47 1.35L5.41 20z\"/>\n",
              "  </svg>\n",
              "      </button>\n",
              "      \n",
              "  <style>\n",
              "    .colab-df-container {\n",
              "      display:flex;\n",
              "      flex-wrap:wrap;\n",
              "      gap: 12px;\n",
              "    }\n",
              "\n",
              "    .colab-df-convert {\n",
              "      background-color: #E8F0FE;\n",
              "      border: none;\n",
              "      border-radius: 50%;\n",
              "      cursor: pointer;\n",
              "      display: none;\n",
              "      fill: #1967D2;\n",
              "      height: 32px;\n",
              "      padding: 0 0 0 0;\n",
              "      width: 32px;\n",
              "    }\n",
              "\n",
              "    .colab-df-convert:hover {\n",
              "      background-color: #E2EBFA;\n",
              "      box-shadow: 0px 1px 2px rgba(60, 64, 67, 0.3), 0px 1px 3px 1px rgba(60, 64, 67, 0.15);\n",
              "      fill: #174EA6;\n",
              "    }\n",
              "\n",
              "    [theme=dark] .colab-df-convert {\n",
              "      background-color: #3B4455;\n",
              "      fill: #D2E3FC;\n",
              "    }\n",
              "\n",
              "    [theme=dark] .colab-df-convert:hover {\n",
              "      background-color: #434B5C;\n",
              "      box-shadow: 0px 1px 3px 1px rgba(0, 0, 0, 0.15);\n",
              "      filter: drop-shadow(0px 1px 2px rgba(0, 0, 0, 0.3));\n",
              "      fill: #FFFFFF;\n",
              "    }\n",
              "  </style>\n",
              "\n",
              "      <script>\n",
              "        const buttonEl =\n",
              "          document.querySelector('#df-626c6e7d-13b6-4520-9380-b93bed86d2c1 button.colab-df-convert');\n",
              "        buttonEl.style.display =\n",
              "          google.colab.kernel.accessAllowed ? 'block' : 'none';\n",
              "\n",
              "        async function convertToInteractive(key) {\n",
              "          const element = document.querySelector('#df-626c6e7d-13b6-4520-9380-b93bed86d2c1');\n",
              "          const dataTable =\n",
              "            await google.colab.kernel.invokeFunction('convertToInteractive',\n",
              "                                                     [key], {});\n",
              "          if (!dataTable) return;\n",
              "\n",
              "          const docLinkHtml = 'Like what you see? Visit the ' +\n",
              "            '<a target=\"_blank\" href=https://colab.research.google.com/notebooks/data_table.ipynb>data table notebook</a>'\n",
              "            + ' to learn more about interactive tables.';\n",
              "          element.innerHTML = '';\n",
              "          dataTable['output_type'] = 'display_data';\n",
              "          await google.colab.output.renderOutput(dataTable, element);\n",
              "          const docLink = document.createElement('div');\n",
              "          docLink.innerHTML = docLinkHtml;\n",
              "          element.appendChild(docLink);\n",
              "        }\n",
              "      </script>\n",
              "    </div>\n",
              "  </div>\n",
              "  "
            ]
          },
          "metadata": {},
          "execution_count": 64
        }
      ]
    },
    {
      "cell_type": "markdown",
      "source": [
        "Reviso rigurosamente si hay una relación entre test de práctica publicados y el valor True"
      ],
      "metadata": {
        "id": "xH5YAAZRjpMk"
      }
    },
    {
      "cell_type": "code",
      "source": [
        "(df_entrenamiento.num_published_practice_tests > 0).equals(df_entrenamiento.is_practice_test_course)"
      ],
      "metadata": {
        "colab": {
          "base_uri": "https://localhost:8080/"
        },
        "id": "iuDfBwi3gS6u",
        "outputId": "be98b483-6ec2-48b6-ab38-50f303f92d5f"
      },
      "execution_count": null,
      "outputs": [
        {
          "output_type": "execute_result",
          "data": {
            "text/plain": [
              "False"
            ]
          },
          "metadata": {},
          "execution_count": 65
        }
      ]
    },
    {
      "cell_type": "code",
      "source": [
        "(df_prueba.num_published_practice_tests > 0).equals(df_prueba.is_practice_test_course)"
      ],
      "metadata": {
        "colab": {
          "base_uri": "https://localhost:8080/"
        },
        "id": "5_WnA8sIFnZh",
        "outputId": "344c2197-9c1a-4b8d-f2ff-8227259ef736"
      },
      "execution_count": null,
      "outputs": [
        {
          "output_type": "execute_result",
          "data": {
            "text/plain": [
              "False"
            ]
          },
          "metadata": {},
          "execution_count": 66
        }
      ]
    },
    {
      "cell_type": "markdown",
      "source": [
        "Conclusión: Puede haber tests de práctica en cursos que no son de prácticas"
      ],
      "metadata": {
        "id": "SW4iJZ_ajwB1"
      }
    },
    {
      "cell_type": "code",
      "source": [
        "df_entrenamiento.loc[(df_entrenamiento.is_practice_test_course == False) & (df_entrenamiento.num_published_practice_tests > 0), ['num_published_practice_tests', 'is_practice_test_course']]"
      ],
      "metadata": {
        "colab": {
          "base_uri": "https://localhost:8080/",
          "height": 455
        },
        "id": "Lzzik7qziS6N",
        "outputId": "83b24dd8-f679-4b7e-9a65-835c8ee69386"
      },
      "execution_count": null,
      "outputs": [
        {
          "output_type": "execute_result",
          "data": {
            "text/plain": [
              "       num_published_practice_tests  is_practice_test_course\n",
              "id                                                          \n",
              "1                                 1                    False\n",
              "303                               1                    False\n",
              "443                               2                    False\n",
              "512                               1                    False\n",
              "871                               1                    False\n",
              "...                             ...                      ...\n",
              "11010                             1                    False\n",
              "11031                             2                    False\n",
              "11058                             1                    False\n",
              "11069                             1                    False\n",
              "11081                             2                    False\n",
              "\n",
              "[363 rows x 2 columns]"
            ],
            "text/html": [
              "\n",
              "  <div id=\"df-056df7b3-bcff-4de3-8a86-da34bd19bae5\">\n",
              "    <div class=\"colab-df-container\">\n",
              "      <div>\n",
              "<style scoped>\n",
              "    .dataframe tbody tr th:only-of-type {\n",
              "        vertical-align: middle;\n",
              "    }\n",
              "\n",
              "    .dataframe tbody tr th {\n",
              "        vertical-align: top;\n",
              "    }\n",
              "\n",
              "    .dataframe thead th {\n",
              "        text-align: right;\n",
              "    }\n",
              "</style>\n",
              "<table border=\"1\" class=\"dataframe\">\n",
              "  <thead>\n",
              "    <tr style=\"text-align: right;\">\n",
              "      <th></th>\n",
              "      <th>num_published_practice_tests</th>\n",
              "      <th>is_practice_test_course</th>\n",
              "    </tr>\n",
              "    <tr>\n",
              "      <th>id</th>\n",
              "      <th></th>\n",
              "      <th></th>\n",
              "    </tr>\n",
              "  </thead>\n",
              "  <tbody>\n",
              "    <tr>\n",
              "      <th>1</th>\n",
              "      <td>1</td>\n",
              "      <td>False</td>\n",
              "    </tr>\n",
              "    <tr>\n",
              "      <th>303</th>\n",
              "      <td>1</td>\n",
              "      <td>False</td>\n",
              "    </tr>\n",
              "    <tr>\n",
              "      <th>443</th>\n",
              "      <td>2</td>\n",
              "      <td>False</td>\n",
              "    </tr>\n",
              "    <tr>\n",
              "      <th>512</th>\n",
              "      <td>1</td>\n",
              "      <td>False</td>\n",
              "    </tr>\n",
              "    <tr>\n",
              "      <th>871</th>\n",
              "      <td>1</td>\n",
              "      <td>False</td>\n",
              "    </tr>\n",
              "    <tr>\n",
              "      <th>...</th>\n",
              "      <td>...</td>\n",
              "      <td>...</td>\n",
              "    </tr>\n",
              "    <tr>\n",
              "      <th>11010</th>\n",
              "      <td>1</td>\n",
              "      <td>False</td>\n",
              "    </tr>\n",
              "    <tr>\n",
              "      <th>11031</th>\n",
              "      <td>2</td>\n",
              "      <td>False</td>\n",
              "    </tr>\n",
              "    <tr>\n",
              "      <th>11058</th>\n",
              "      <td>1</td>\n",
              "      <td>False</td>\n",
              "    </tr>\n",
              "    <tr>\n",
              "      <th>11069</th>\n",
              "      <td>1</td>\n",
              "      <td>False</td>\n",
              "    </tr>\n",
              "    <tr>\n",
              "      <th>11081</th>\n",
              "      <td>2</td>\n",
              "      <td>False</td>\n",
              "    </tr>\n",
              "  </tbody>\n",
              "</table>\n",
              "<p>363 rows × 2 columns</p>\n",
              "</div>\n",
              "      <button class=\"colab-df-convert\" onclick=\"convertToInteractive('df-056df7b3-bcff-4de3-8a86-da34bd19bae5')\"\n",
              "              title=\"Convert this dataframe to an interactive table.\"\n",
              "              style=\"display:none;\">\n",
              "        \n",
              "  <svg xmlns=\"http://www.w3.org/2000/svg\" height=\"24px\"viewBox=\"0 0 24 24\"\n",
              "       width=\"24px\">\n",
              "    <path d=\"M0 0h24v24H0V0z\" fill=\"none\"/>\n",
              "    <path d=\"M18.56 5.44l.94 2.06.94-2.06 2.06-.94-2.06-.94-.94-2.06-.94 2.06-2.06.94zm-11 1L8.5 8.5l.94-2.06 2.06-.94-2.06-.94L8.5 2.5l-.94 2.06-2.06.94zm10 10l.94 2.06.94-2.06 2.06-.94-2.06-.94-.94-2.06-.94 2.06-2.06.94z\"/><path d=\"M17.41 7.96l-1.37-1.37c-.4-.4-.92-.59-1.43-.59-.52 0-1.04.2-1.43.59L10.3 9.45l-7.72 7.72c-.78.78-.78 2.05 0 2.83L4 21.41c.39.39.9.59 1.41.59.51 0 1.02-.2 1.41-.59l7.78-7.78 2.81-2.81c.8-.78.8-2.07 0-2.86zM5.41 20L4 18.59l7.72-7.72 1.47 1.35L5.41 20z\"/>\n",
              "  </svg>\n",
              "      </button>\n",
              "      \n",
              "  <style>\n",
              "    .colab-df-container {\n",
              "      display:flex;\n",
              "      flex-wrap:wrap;\n",
              "      gap: 12px;\n",
              "    }\n",
              "\n",
              "    .colab-df-convert {\n",
              "      background-color: #E8F0FE;\n",
              "      border: none;\n",
              "      border-radius: 50%;\n",
              "      cursor: pointer;\n",
              "      display: none;\n",
              "      fill: #1967D2;\n",
              "      height: 32px;\n",
              "      padding: 0 0 0 0;\n",
              "      width: 32px;\n",
              "    }\n",
              "\n",
              "    .colab-df-convert:hover {\n",
              "      background-color: #E2EBFA;\n",
              "      box-shadow: 0px 1px 2px rgba(60, 64, 67, 0.3), 0px 1px 3px 1px rgba(60, 64, 67, 0.15);\n",
              "      fill: #174EA6;\n",
              "    }\n",
              "\n",
              "    [theme=dark] .colab-df-convert {\n",
              "      background-color: #3B4455;\n",
              "      fill: #D2E3FC;\n",
              "    }\n",
              "\n",
              "    [theme=dark] .colab-df-convert:hover {\n",
              "      background-color: #434B5C;\n",
              "      box-shadow: 0px 1px 3px 1px rgba(0, 0, 0, 0.15);\n",
              "      filter: drop-shadow(0px 1px 2px rgba(0, 0, 0, 0.3));\n",
              "      fill: #FFFFFF;\n",
              "    }\n",
              "  </style>\n",
              "\n",
              "      <script>\n",
              "        const buttonEl =\n",
              "          document.querySelector('#df-056df7b3-bcff-4de3-8a86-da34bd19bae5 button.colab-df-convert');\n",
              "        buttonEl.style.display =\n",
              "          google.colab.kernel.accessAllowed ? 'block' : 'none';\n",
              "\n",
              "        async function convertToInteractive(key) {\n",
              "          const element = document.querySelector('#df-056df7b3-bcff-4de3-8a86-da34bd19bae5');\n",
              "          const dataTable =\n",
              "            await google.colab.kernel.invokeFunction('convertToInteractive',\n",
              "                                                     [key], {});\n",
              "          if (!dataTable) return;\n",
              "\n",
              "          const docLinkHtml = 'Like what you see? Visit the ' +\n",
              "            '<a target=\"_blank\" href=https://colab.research.google.com/notebooks/data_table.ipynb>data table notebook</a>'\n",
              "            + ' to learn more about interactive tables.';\n",
              "          element.innerHTML = '';\n",
              "          dataTable['output_type'] = 'display_data';\n",
              "          await google.colab.output.renderOutput(dataTable, element);\n",
              "          const docLink = document.createElement('div');\n",
              "          docLink.innerHTML = docLinkHtml;\n",
              "          element.appendChild(docLink);\n",
              "        }\n",
              "      </script>\n",
              "    </div>\n",
              "  </div>\n",
              "  "
            ]
          },
          "metadata": {},
          "execution_count": 67
        }
      ]
    },
    {
      "cell_type": "code",
      "source": [
        "df_entrenamiento.loc[df_entrenamiento.is_practice_test_course == False, ['num_published_lectures', 'is_practice_test_course']]"
      ],
      "metadata": {
        "colab": {
          "base_uri": "https://localhost:8080/",
          "height": 455
        },
        "id": "mnrwgNVKgn8m",
        "outputId": "8242d821-9f06-479a-a2dd-7cfa060cc86a"
      },
      "execution_count": null,
      "outputs": [
        {
          "output_type": "execute_result",
          "data": {
            "text/plain": [
              "       num_published_lectures  is_practice_test_course\n",
              "id                                                    \n",
              "1                          58                    False\n",
              "2                          32                    False\n",
              "3                          76                    False\n",
              "4                          68                    False\n",
              "5                         550                    False\n",
              "...                       ...                      ...\n",
              "11083                      32                    False\n",
              "11084                      44                    False\n",
              "11085                      40                    False\n",
              "11086                      18                    False\n",
              "11087                      11                    False\n",
              "\n",
              "[10901 rows x 2 columns]"
            ],
            "text/html": [
              "\n",
              "  <div id=\"df-4b598cdd-fd01-42cb-b669-8e9fbfb12b39\">\n",
              "    <div class=\"colab-df-container\">\n",
              "      <div>\n",
              "<style scoped>\n",
              "    .dataframe tbody tr th:only-of-type {\n",
              "        vertical-align: middle;\n",
              "    }\n",
              "\n",
              "    .dataframe tbody tr th {\n",
              "        vertical-align: top;\n",
              "    }\n",
              "\n",
              "    .dataframe thead th {\n",
              "        text-align: right;\n",
              "    }\n",
              "</style>\n",
              "<table border=\"1\" class=\"dataframe\">\n",
              "  <thead>\n",
              "    <tr style=\"text-align: right;\">\n",
              "      <th></th>\n",
              "      <th>num_published_lectures</th>\n",
              "      <th>is_practice_test_course</th>\n",
              "    </tr>\n",
              "    <tr>\n",
              "      <th>id</th>\n",
              "      <th></th>\n",
              "      <th></th>\n",
              "    </tr>\n",
              "  </thead>\n",
              "  <tbody>\n",
              "    <tr>\n",
              "      <th>1</th>\n",
              "      <td>58</td>\n",
              "      <td>False</td>\n",
              "    </tr>\n",
              "    <tr>\n",
              "      <th>2</th>\n",
              "      <td>32</td>\n",
              "      <td>False</td>\n",
              "    </tr>\n",
              "    <tr>\n",
              "      <th>3</th>\n",
              "      <td>76</td>\n",
              "      <td>False</td>\n",
              "    </tr>\n",
              "    <tr>\n",
              "      <th>4</th>\n",
              "      <td>68</td>\n",
              "      <td>False</td>\n",
              "    </tr>\n",
              "    <tr>\n",
              "      <th>5</th>\n",
              "      <td>550</td>\n",
              "      <td>False</td>\n",
              "    </tr>\n",
              "    <tr>\n",
              "      <th>...</th>\n",
              "      <td>...</td>\n",
              "      <td>...</td>\n",
              "    </tr>\n",
              "    <tr>\n",
              "      <th>11083</th>\n",
              "      <td>32</td>\n",
              "      <td>False</td>\n",
              "    </tr>\n",
              "    <tr>\n",
              "      <th>11084</th>\n",
              "      <td>44</td>\n",
              "      <td>False</td>\n",
              "    </tr>\n",
              "    <tr>\n",
              "      <th>11085</th>\n",
              "      <td>40</td>\n",
              "      <td>False</td>\n",
              "    </tr>\n",
              "    <tr>\n",
              "      <th>11086</th>\n",
              "      <td>18</td>\n",
              "      <td>False</td>\n",
              "    </tr>\n",
              "    <tr>\n",
              "      <th>11087</th>\n",
              "      <td>11</td>\n",
              "      <td>False</td>\n",
              "    </tr>\n",
              "  </tbody>\n",
              "</table>\n",
              "<p>10901 rows × 2 columns</p>\n",
              "</div>\n",
              "      <button class=\"colab-df-convert\" onclick=\"convertToInteractive('df-4b598cdd-fd01-42cb-b669-8e9fbfb12b39')\"\n",
              "              title=\"Convert this dataframe to an interactive table.\"\n",
              "              style=\"display:none;\">\n",
              "        \n",
              "  <svg xmlns=\"http://www.w3.org/2000/svg\" height=\"24px\"viewBox=\"0 0 24 24\"\n",
              "       width=\"24px\">\n",
              "    <path d=\"M0 0h24v24H0V0z\" fill=\"none\"/>\n",
              "    <path d=\"M18.56 5.44l.94 2.06.94-2.06 2.06-.94-2.06-.94-.94-2.06-.94 2.06-2.06.94zm-11 1L8.5 8.5l.94-2.06 2.06-.94-2.06-.94L8.5 2.5l-.94 2.06-2.06.94zm10 10l.94 2.06.94-2.06 2.06-.94-2.06-.94-.94-2.06-.94 2.06-2.06.94z\"/><path d=\"M17.41 7.96l-1.37-1.37c-.4-.4-.92-.59-1.43-.59-.52 0-1.04.2-1.43.59L10.3 9.45l-7.72 7.72c-.78.78-.78 2.05 0 2.83L4 21.41c.39.39.9.59 1.41.59.51 0 1.02-.2 1.41-.59l7.78-7.78 2.81-2.81c.8-.78.8-2.07 0-2.86zM5.41 20L4 18.59l7.72-7.72 1.47 1.35L5.41 20z\"/>\n",
              "  </svg>\n",
              "      </button>\n",
              "      \n",
              "  <style>\n",
              "    .colab-df-container {\n",
              "      display:flex;\n",
              "      flex-wrap:wrap;\n",
              "      gap: 12px;\n",
              "    }\n",
              "\n",
              "    .colab-df-convert {\n",
              "      background-color: #E8F0FE;\n",
              "      border: none;\n",
              "      border-radius: 50%;\n",
              "      cursor: pointer;\n",
              "      display: none;\n",
              "      fill: #1967D2;\n",
              "      height: 32px;\n",
              "      padding: 0 0 0 0;\n",
              "      width: 32px;\n",
              "    }\n",
              "\n",
              "    .colab-df-convert:hover {\n",
              "      background-color: #E2EBFA;\n",
              "      box-shadow: 0px 1px 2px rgba(60, 64, 67, 0.3), 0px 1px 3px 1px rgba(60, 64, 67, 0.15);\n",
              "      fill: #174EA6;\n",
              "    }\n",
              "\n",
              "    [theme=dark] .colab-df-convert {\n",
              "      background-color: #3B4455;\n",
              "      fill: #D2E3FC;\n",
              "    }\n",
              "\n",
              "    [theme=dark] .colab-df-convert:hover {\n",
              "      background-color: #434B5C;\n",
              "      box-shadow: 0px 1px 3px 1px rgba(0, 0, 0, 0.15);\n",
              "      filter: drop-shadow(0px 1px 2px rgba(0, 0, 0, 0.3));\n",
              "      fill: #FFFFFF;\n",
              "    }\n",
              "  </style>\n",
              "\n",
              "      <script>\n",
              "        const buttonEl =\n",
              "          document.querySelector('#df-4b598cdd-fd01-42cb-b669-8e9fbfb12b39 button.colab-df-convert');\n",
              "        buttonEl.style.display =\n",
              "          google.colab.kernel.accessAllowed ? 'block' : 'none';\n",
              "\n",
              "        async function convertToInteractive(key) {\n",
              "          const element = document.querySelector('#df-4b598cdd-fd01-42cb-b669-8e9fbfb12b39');\n",
              "          const dataTable =\n",
              "            await google.colab.kernel.invokeFunction('convertToInteractive',\n",
              "                                                     [key], {});\n",
              "          if (!dataTable) return;\n",
              "\n",
              "          const docLinkHtml = 'Like what you see? Visit the ' +\n",
              "            '<a target=\"_blank\" href=https://colab.research.google.com/notebooks/data_table.ipynb>data table notebook</a>'\n",
              "            + ' to learn more about interactive tables.';\n",
              "          element.innerHTML = '';\n",
              "          dataTable['output_type'] = 'display_data';\n",
              "          await google.colab.output.renderOutput(dataTable, element);\n",
              "          const docLink = document.createElement('div');\n",
              "          docLink.innerHTML = docLinkHtml;\n",
              "          element.appendChild(docLink);\n",
              "        }\n",
              "      </script>\n",
              "    </div>\n",
              "  </div>\n",
              "  "
            ]
          },
          "metadata": {},
          "execution_count": 68
        }
      ]
    },
    {
      "cell_type": "markdown",
      "source": [
        "Reviso rigurosamente si hay una relación entre alguna lectura publicada y el valor False"
      ],
      "metadata": {
        "id": "jKg9BX0fixst"
      }
    },
    {
      "cell_type": "code",
      "source": [
        "(df_entrenamiento.num_published_lectures > 0).equals(df_entrenamiento.is_practice_test_course == False)"
      ],
      "metadata": {
        "colab": {
          "base_uri": "https://localhost:8080/"
        },
        "id": "RSMWrXtBgwm2",
        "outputId": "9a1cd370-98f3-4be3-9e0b-03bb496a1484"
      },
      "execution_count": null,
      "outputs": [
        {
          "output_type": "execute_result",
          "data": {
            "text/plain": [
              "True"
            ]
          },
          "metadata": {},
          "execution_count": 69
        }
      ]
    },
    {
      "cell_type": "code",
      "source": [
        "(df_prueba.num_published_lectures > 0).equals(df_prueba.is_practice_test_course == False)"
      ],
      "metadata": {
        "colab": {
          "base_uri": "https://localhost:8080/"
        },
        "id": "pRNg0hDIFuYR",
        "outputId": "2e3ca2f1-1422-49db-a563-4eb89f2cf4c8"
      },
      "execution_count": null,
      "outputs": [
        {
          "output_type": "execute_result",
          "data": {
            "text/plain": [
              "True"
            ]
          },
          "metadata": {},
          "execution_count": 70
        }
      ]
    },
    {
      "cell_type": "markdown",
      "source": [
        "###Número de lecturas publicadas"
      ],
      "metadata": {
        "id": "i2q4SrihI-i7"
      }
    },
    {
      "cell_type": "markdown",
      "source": [
        "(solo para cursos que no son de prácticas)"
      ],
      "metadata": {
        "id": "L4C7GG3gAvwa"
      }
    },
    {
      "cell_type": "code",
      "source": [
        "df_entrenamiento.num_published_lectures.hist(bins = 40);"
      ],
      "metadata": {
        "colab": {
          "base_uri": "https://localhost:8080/",
          "height": 265
        },
        "id": "qoITUoyPJM_t",
        "outputId": "e625170a-e24e-4abd-bc97-65a79060629c"
      },
      "execution_count": null,
      "outputs": [
        {
          "output_type": "display_data",
          "data": {
            "text/plain": [
              "<Figure size 432x288 with 1 Axes>"
            ],
            "image/png": "[encoded data removed]"
          },
          "metadata": {
            "needs_background": "light"
          }
        }
      ]
    },
    {
      "cell_type": "code",
      "source": [
        "(df_entrenamiento.num_published_lectures > 400).sum()"
      ],
      "metadata": {
        "colab": {
          "base_uri": "https://localhost:8080/"
        },
        "id": "dWnlfnTIJfjw",
        "outputId": "bb805f37-72ab-4b67-8691-5249031ae889"
      },
      "execution_count": null,
      "outputs": [
        {
          "output_type": "execute_result",
          "data": {
            "text/plain": [
              "42"
            ]
          },
          "metadata": {},
          "execution_count": 72
        }
      ]
    },
    {
      "cell_type": "code",
      "source": [
        "df_prueba.num_published_lectures.hist(bins = 40);"
      ],
      "metadata": {
        "colab": {
          "base_uri": "https://localhost:8080/",
          "height": 265
        },
        "id": "1SJvqjJsJTol",
        "outputId": "360ceea7-fe5f-40da-c076-5933d7f1c46f"
      },
      "execution_count": null,
      "outputs": [
        {
          "output_type": "display_data",
          "data": {
            "text/plain": [
              "<Figure size 432x288 with 1 Axes>"
            ],
            "image/png": "[encoded data removed]"
          },
          "metadata": {
            "needs_background": "light"
          }
        }
      ]
    },
    {
      "cell_type": "code",
      "source": [
        "ax = df_entrenamiento.loc[df_entrenamiento['bestseller'] == 'no','num_published_lectures'].hist(bins = 40)\n",
        "df_entrenamiento.loc[df_entrenamiento['bestseller'] == 'si','num_published_lectures'].hist(bins = 40, ax = ax);"
      ],
      "metadata": {
        "colab": {
          "base_uri": "https://localhost:8080/",
          "height": 265
        },
        "id": "MAIw3Rc5ADCx",
        "outputId": "c5c0d6bf-1a93-44e2-ce1e-af7760caf65b"
      },
      "execution_count": null,
      "outputs": [
        {
          "output_type": "display_data",
          "data": {
            "text/plain": [
              "<Figure size 432x288 with 1 Axes>"
            ],
            "image/png": "[encoded data removed]"
          },
          "metadata": {
            "needs_background": "light"
          }
        }
      ]
    },
    {
      "cell_type": "code",
      "source": [
        "((df_entrenamiento['bestseller'] == 'si')  & (df_entrenamiento.num_published_lectures > 450)).sum()"
      ],
      "metadata": {
        "colab": {
          "base_uri": "https://localhost:8080/"
        },
        "id": "VY1xRcwTAQuZ",
        "outputId": "cfbb06b1-15b1-4055-fee3-ef46f184b9b3"
      },
      "execution_count": null,
      "outputs": [
        {
          "output_type": "execute_result",
          "data": {
            "text/plain": [
              "19"
            ]
          },
          "metadata": {},
          "execution_count": 75
        }
      ]
    },
    {
      "cell_type": "markdown",
      "source": [
        "###Número de tests publicados"
      ],
      "metadata": {
        "id": "65slUJ3xIf8u"
      }
    },
    {
      "cell_type": "markdown",
      "source": [
        "(no importa si es de práctica)"
      ],
      "metadata": {
        "id": "G9-X89HMA6hR"
      }
    },
    {
      "cell_type": "code",
      "source": [
        "df_entrenamiento.num_published_practice_tests.hist();"
      ],
      "metadata": {
        "colab": {
          "base_uri": "https://localhost:8080/",
          "height": 265
        },
        "id": "jbEtG64_Irpt",
        "outputId": "d128e3fd-03f4-4e6f-f511-6634445617b2"
      },
      "execution_count": null,
      "outputs": [
        {
          "output_type": "display_data",
          "data": {
            "text/plain": [
              "<Figure size 432x288 with 1 Axes>"
            ],
            "image/png": "[encoded data removed]"
          },
          "metadata": {
            "needs_background": "light"
          }
        }
      ]
    },
    {
      "cell_type": "code",
      "source": [
        "df_prueba.num_published_practice_tests.hist();"
      ],
      "metadata": {
        "colab": {
          "base_uri": "https://localhost:8080/",
          "height": 265
        },
        "id": "Gs2RTB5aIzTu",
        "outputId": "5a3d57dc-0565-4a2b-9a2a-74bea6278024"
      },
      "execution_count": null,
      "outputs": [
        {
          "output_type": "display_data",
          "data": {
            "text/plain": [
              "<Figure size 432x288 with 1 Axes>"
            ],
            "image/png": "[encoded data removed]"
          },
          "metadata": {
            "needs_background": "light"
          }
        }
      ]
    },
    {
      "cell_type": "code",
      "source": [
        "ax = df_entrenamiento.loc[df_entrenamiento['bestseller'] == 'no','num_published_practice_tests'].hist()\n",
        "df_entrenamiento.loc[df_entrenamiento['bestseller'] == 'si','num_published_practice_tests'].hist(ax = ax);"
      ],
      "metadata": {
        "colab": {
          "base_uri": "https://localhost:8080/",
          "height": 265
        },
        "id": "vaMua-O1_DL6",
        "outputId": "04a0903d-0b2d-4625-8067-847bbaebf76b"
      },
      "execution_count": null,
      "outputs": [
        {
          "output_type": "display_data",
          "data": {
            "text/plain": [
              "<Figure size 432x288 with 1 Axes>"
            ],
            "image/png": "[encoded data removed]"
          },
          "metadata": {
            "needs_background": "light"
          }
        }
      ]
    },
    {
      "cell_type": "code",
      "source": [
        "((df_entrenamiento['bestseller'] == 'si')  & (df_entrenamiento.num_published_practice_tests > 2)).sum()"
      ],
      "metadata": {
        "colab": {
          "base_uri": "https://localhost:8080/"
        },
        "id": "kJvkD71B_lRJ",
        "outputId": "91342ec0-b60e-4013-d5ef-8cab6765b791"
      },
      "execution_count": null,
      "outputs": [
        {
          "output_type": "execute_result",
          "data": {
            "text/plain": [
              "28"
            ]
          },
          "metadata": {},
          "execution_count": 79
        }
      ]
    },
    {
      "cell_type": "markdown",
      "source": [
        "###Niveles de instrucción"
      ],
      "metadata": {
        "id": "QZbRNX5DrnnL"
      }
    },
    {
      "cell_type": "markdown",
      "source": [
        "No hay diferencias distribucionales importantes."
      ],
      "metadata": {
        "id": "IsJ876tAXskl"
      }
    },
    {
      "cell_type": "code",
      "source": [
        "df_entrenamiento['instructional_level_simple'].value_counts()"
      ],
      "metadata": {
        "colab": {
          "base_uri": "https://localhost:8080/"
        },
        "id": "ommV-9kqrm2I",
        "outputId": "51ce79b4-2a31-4b35-8ce6-8b57e7c76b58"
      },
      "execution_count": null,
      "outputs": [
        {
          "output_type": "execute_result",
          "data": {
            "text/plain": [
              "Todos los niveles    5119\n",
              "Principiante         3751\n",
              "Intermedio           1824\n",
              "Experto               388\n",
              "Name: instructional_level_simple, dtype: int64"
            ]
          },
          "metadata": {},
          "execution_count": 80
        }
      ]
    },
    {
      "cell_type": "code",
      "source": [
        "df_prueba.instructional_level_simple.value_counts()"
      ],
      "metadata": {
        "colab": {
          "base_uri": "https://localhost:8080/"
        },
        "id": "oKM-o3cNrx7C",
        "outputId": "39abb61f-1134-4a59-afa4-067ce553fa18"
      },
      "execution_count": null,
      "outputs": [
        {
          "output_type": "execute_result",
          "data": {
            "text/plain": [
              "Todos los niveles    114\n",
              "Principiante          79\n",
              "Intermedio            39\n",
              "Experto                7\n",
              "Name: instructional_level_simple, dtype: int64"
            ]
          },
          "metadata": {},
          "execution_count": 81
        }
      ]
    },
    {
      "cell_type": "code",
      "source": [
        "df_entrenamiento.loc[df_entrenamiento.bestseller == 'si','instructional_level_simple'].value_counts()"
      ],
      "metadata": {
        "colab": {
          "base_uri": "https://localhost:8080/"
        },
        "id": "On11V81wLOQL",
        "outputId": "a283a918-7363-43bf-bba3-d29550b1b28b"
      },
      "execution_count": null,
      "outputs": [
        {
          "output_type": "execute_result",
          "data": {
            "text/plain": [
              "Todos los niveles    1154\n",
              "Principiante          696\n",
              "Intermedio            297\n",
              "Experto                52\n",
              "Name: instructional_level_simple, dtype: int64"
            ]
          },
          "metadata": {},
          "execution_count": 82
        }
      ]
    },
    {
      "cell_type": "markdown",
      "source": [
        "###Categorías"
      ],
      "metadata": {
        "id": "355vxnF8vnxg"
      }
    },
    {
      "cell_type": "markdown",
      "source": [
        "Parecen similares en composición. Entonces, supongo que no es necesario sacar categorias de df_entrenamiento."
      ],
      "metadata": {
        "id": "DFGkXzwWu0be"
      }
    },
    {
      "cell_type": "code",
      "source": [
        "df_entrenamiento['category'].value_counts()"
      ],
      "metadata": {
        "colab": {
          "base_uri": "https://localhost:8080/"
        },
        "id": "3OGVtkEHuoOI",
        "outputId": "826bb148-0ff9-4091-9f38-9532ce4d399d"
      },
      "execution_count": null,
      "outputs": [
        {
          "output_type": "execute_result",
          "data": {
            "text/plain": [
              "Informática y software                 1757\n",
              "Desarrollo                             1582\n",
              "Enseñanzas y disciplinas académicas    1230\n",
              "Negocios                               1167\n",
              "Diseño                                 1108\n",
              "Desarrollo personal                    1103\n",
              "Marketing                               588\n",
              "Salud y fitness                         557\n",
              "Estilo de vida                          537\n",
              "Finanzas y contabilidad                 478\n",
              "Música                                  431\n",
              "Productividad en la oficina             364\n",
              "Fotografía y vídeo                      185\n",
              "Name: category, dtype: int64"
            ]
          },
          "metadata": {},
          "execution_count": 83
        }
      ]
    },
    {
      "cell_type": "code",
      "source": [
        "df_prueba['category'].value_counts()"
      ],
      "metadata": {
        "colab": {
          "base_uri": "https://localhost:8080/"
        },
        "id": "aPMSkVyDupua",
        "outputId": "ce33333d-8b4a-4245-df19-f8d93f1e1d32"
      },
      "execution_count": null,
      "outputs": [
        {
          "output_type": "execute_result",
          "data": {
            "text/plain": [
              "Informática y software                 62\n",
              "Enseñanzas y disciplinas académicas    36\n",
              "Desarrollo personal                    26\n",
              "Desarrollo                             24\n",
              "Negocios                               24\n",
              "Diseño                                 16\n",
              "Marketing                              12\n",
              "Estilo de vida                         10\n",
              "Finanzas y contabilidad                 9\n",
              "Salud y fitness                         8\n",
              "Música                                  5\n",
              "Productividad en la oficina             4\n",
              "Fotografía y vídeo                      3\n",
              "Name: category, dtype: int64"
            ]
          },
          "metadata": {},
          "execution_count": 84
        }
      ]
    },
    {
      "cell_type": "code",
      "source": [
        "set(df_prueba.category.unique()) - set(df_entrenamiento.category.unique())"
      ],
      "metadata": {
        "colab": {
          "base_uri": "https://localhost:8080/"
        },
        "id": "TpOytc2wbth2",
        "outputId": "29823c3c-5846-47fd-c904-2e8e98d2f67d"
      },
      "execution_count": null,
      "outputs": [
        {
          "output_type": "execute_result",
          "data": {
            "text/plain": [
              "set()"
            ]
          },
          "metadata": {},
          "execution_count": 85
        }
      ]
    },
    {
      "cell_type": "markdown",
      "source": [
        "Quizás si hay que hacer un mapa habría que usar este orden"
      ],
      "metadata": {
        "id": "sjeRorwECGrH"
      }
    },
    {
      "cell_type": "code",
      "source": [
        "df_entrenamiento.loc[df_entrenamiento.bestseller == 'si','category'].value_counts()"
      ],
      "metadata": {
        "colab": {
          "base_uri": "https://localhost:8080/"
        },
        "id": "7YYR_FJOB8aw",
        "outputId": "36d0d6c4-1787-47b7-db8b-a195d35c53c5"
      },
      "execution_count": null,
      "outputs": [
        {
          "output_type": "execute_result",
          "data": {
            "text/plain": [
              "Desarrollo                             633\n",
              "Informática y software                 450\n",
              "Diseño                                 206\n",
              "Negocios                               199\n",
              "Enseñanzas y disciplinas académicas    144\n",
              "Marketing                              133\n",
              "Desarrollo personal                    127\n",
              "Productividad en la oficina             87\n",
              "Finanzas y contabilidad                 68\n",
              "Música                                  54\n",
              "Estilo de vida                          45\n",
              "Salud y fitness                         29\n",
              "Fotografía y vídeo                      25\n",
              "Name: category, dtype: int64"
            ]
          },
          "metadata": {},
          "execution_count": 86
        }
      ]
    },
    {
      "cell_type": "markdown",
      "source": [
        "###Subcategorías"
      ],
      "metadata": {
        "id": "5N_1RK8OCUzp"
      }
    },
    {
      "cell_type": "code",
      "source": [
        "df_entrenamiento['subcategory'].value_counts()"
      ],
      "metadata": {
        "colab": {
          "base_uri": "https://localhost:8080/"
        },
        "outputId": "23e3c08c-fb5c-42cd-ccc5-89cee8a2db76",
        "id": "U171T7TbvPzX"
      },
      "execution_count": null,
      "outputs": [
        {
          "output_type": "execute_result",
          "data": {
            "text/plain": [
              "Excel                 149\n",
              "Idioma inglés         106\n",
              "WordPress             101\n",
              "Python                 98\n",
              "Photoshop              91\n",
              "                     ... \n",
              "Gestión energética      1\n",
              "ownCloud                1\n",
              "Pintura digital         1\n",
              "Krita                   1\n",
              "Hidráulica              1\n",
              "Name: subcategory, Length: 1867, dtype: int64"
            ]
          },
          "metadata": {},
          "execution_count": 87
        }
      ]
    },
    {
      "cell_type": "code",
      "source": [
        "df_prueba['subcategory'].value_counts()"
      ],
      "metadata": {
        "colab": {
          "base_uri": "https://localhost:8080/"
        },
        "outputId": "938208f2-74ce-47b7-e291-196a93ad9a55",
        "id": "Uq_7CvnyvPzX"
      },
      "execution_count": null,
      "outputs": [
        {
          "output_type": "execute_result",
          "data": {
            "text/plain": [
              "Idioma inglés                           8\n",
              "Excel                                   3\n",
              "Desarrollo web                          3\n",
              "Comercio bursátil                       3\n",
              "Redacción de textos publicitarios       3\n",
              "                                       ..\n",
              "Admisión a la universidad               1\n",
              "Bioquímica                              1\n",
              "Photoshop                               1\n",
              "Blender                                 1\n",
              "Superación de traumas de la infancia    1\n",
              "Name: subcategory, Length: 197, dtype: int64"
            ]
          },
          "metadata": {},
          "execution_count": 88
        }
      ]
    },
    {
      "cell_type": "code",
      "source": [
        "set(df_prueba.subcategory.unique()) - set(df_entrenamiento.subcategory.unique())"
      ],
      "metadata": {
        "colab": {
          "base_uri": "https://localhost:8080/"
        },
        "outputId": "4f4afa76-f736-45c2-db9a-df29f0fb383c",
        "id": "LqhfddvhvPzY"
      },
      "execution_count": null,
      "outputs": [
        {
          "output_type": "execute_result",
          "data": {
            "text/plain": [
              "{'Analítica de sistemas',\n",
              " 'Análisis modal de fallos y efectos (AMFE)',\n",
              " 'Bugzilla',\n",
              " 'C empotrado',\n",
              " 'CISA',\n",
              " 'Certificación de CyberArk',\n",
              " 'Dibujo a lápiz de color',\n",
              " 'Disciplined Agile Scrum Master (DASM)',\n",
              " 'Gestión de operaciones',\n",
              " 'ISTQB',\n",
              " 'Informática distribuida',\n",
              " 'Jiu-jitsu brasileño',\n",
              " 'MicroPython',\n",
              " 'Personas',\n",
              " 'Programación con redes de Python',\n",
              " 'Reiki para animales',\n",
              " 'Servidor de correo electrónico',\n",
              " 'Termodinámica',\n",
              " 'UiPath Certified RPA Associate (UiRPA)',\n",
              " 'Wing Chun'}"
            ]
          },
          "metadata": {},
          "execution_count": 89
        }
      ]
    },
    {
      "cell_type": "code",
      "source": [
        "set(df_entrenamiento.subcategory.unique()) - set(df_prueba.subcategory.unique())"
      ],
      "metadata": {
        "colab": {
          "base_uri": "https://localhost:8080/"
        },
        "id": "3mn7OJJC1gnL",
        "outputId": "4cb81a59-8a99-43b6-9580-f7ec9c3ec2d7"
      },
      "execution_count": null,
      "outputs": [
        {
          "output_type": "execute_result",
          "data": {
            "text/plain": [
              "{'Go (lenguaje de programación)',\n",
              " 'Reiki',\n",
              " 'Correr',\n",
              " 'Creación de libros electrónicos',\n",
              " 'Microsoft Azure DevOps',\n",
              " 'Auditoría SEO',\n",
              " 'Hipnoterapia',\n",
              " 'AWS Certified Cloud Practitioner',\n",
              " 'Telecomunicaciones',\n",
              " 'Idioma coreano',\n",
              " 'Astronomía',\n",
              " 'Certified ScrumMaster (CSM)',\n",
              " 'Aplicaciones de consola',\n",
              " 'Microsoft Dynamics',\n",
              " 'Sublime Text',\n",
              " 'Aspen Plus',\n",
              " 'Orden y organización',\n",
              " 'Sistemas de información',\n",
              " 'Servicios de Windows',\n",
              " 'Impresión en 3D',\n",
              " 'Visión computacional',\n",
              " 'Microsoft 77-727',\n",
              " 'Editor de texto Vim',\n",
              " 'Adobe Flash',\n",
              " 'Vuforia',\n",
              " 'Pérdida de peso',\n",
              " 'Gestión de base de datos',\n",
              " 'TensorFlow',\n",
              " 'CodeIgniter',\n",
              " 'Microsoft AZ-900',\n",
              " 'Bacula',\n",
              " 'Salud intestinal',\n",
              " 'Punto de venta',\n",
              " 'Expresiones lambda',\n",
              " 'Instrucción musical',\n",
              " 'Idioma danés',\n",
              " 'Herbología',\n",
              " 'Gestión logística',\n",
              " 'Embudo de ventas',\n",
              " 'Investigación de mercado',\n",
              " 'Cinema 4D',\n",
              " 'Aprende a leer',\n",
              " 'Editor de partituras Sibelius',\n",
              " 'Fracciones',\n",
              " 'Salud mental',\n",
              " 'Geoespacial',\n",
              " 'Idioma noruego',\n",
              " 'Reasignación',\n",
              " 'Proyección astral',\n",
              " 'Macros en Excel',\n",
              " 'Terapia con ventosas (cupping)',\n",
              " 'Desarrollo de juegos Android',\n",
              " 'Gestión de redes sociales',\n",
              " 'Arquitectura de software',\n",
              " 'Apuestas deportivas',\n",
              " 'Fotografía con iPhone',\n",
              " 'Fundamentos de desarrollo de juegos',\n",
              " 'Flujo de trabajo SAP',\n",
              " 'Hornear',\n",
              " 'Wireshark',\n",
              " 'Pixel Art',\n",
              " 'Jenkins',\n",
              " 'Diseño de iconos',\n",
              " 'Fotografía de alimentos',\n",
              " 'Desarrollo móvil',\n",
              " 'Ansible',\n",
              " 'Automatización',\n",
              " 'Ingeniería de software',\n",
              " 'SonarQube',\n",
              " 'CMS',\n",
              " 'Propósito en la vida',\n",
              " 'AWS Certified Security - Specialty',\n",
              " 'Buzuki',\n",
              " 'Diseño de anuncios',\n",
              " 'Synology: NAS',\n",
              " 'Qlikview',\n",
              " 'Pagos',\n",
              " 'Enfermería',\n",
              " 'Negociación de opciones',\n",
              " 'V-Ray',\n",
              " 'Apple Motion',\n",
              " 'Algoritmo genético',\n",
              " 'Menstruación',\n",
              " 'Desarrollo para Apple TV',\n",
              " 'Swift',\n",
              " 'Gráficos de Excel',\n",
              " 'Diseño de moda',\n",
              " 'Facebook Marketplace',\n",
              " 'Weebly',\n",
              " 'ISO 9001',\n",
              " 'Java SE',\n",
              " 'Álbumes de fotos',\n",
              " 'Animación en Stop Motion',\n",
              " 'Mindset',\n",
              " 'Amazon Kindle Direct Publishing (KDP)',\n",
              " 'Ventas B2B',\n",
              " 'Firebase',\n",
              " 'Negocio de fotografía',\n",
              " 'Humanidades',\n",
              " 'Coaching',\n",
              " 'Spring Cloud',\n",
              " 'Baterías',\n",
              " 'Crecimiento de la iglesia',\n",
              " 'Modelado de datos',\n",
              " 'SAP Cloud Platform',\n",
              " 'Lectura de música',\n",
              " 'Productividad en la oficina',\n",
              " 'Electrónica de potencia',\n",
              " 'Natación',\n",
              " 'Probióticos',\n",
              " 'Apache Struts',\n",
              " 'Storyboard',\n",
              " 'Aplicaciones de productividad',\n",
              " 'Visual Studio',\n",
              " 'Flujo entre cuerpo y mente',\n",
              " 'Pilates',\n",
              " 'Diseño de aplicaciones móviles',\n",
              " 'Divi',\n",
              " 'AWS Certified DevOps Engineer - Professional',\n",
              " 'Modelos de moda',\n",
              " 'Marketing para WhatsApp',\n",
              " 'La Biblia',\n",
              " 'Apple iBooks',\n",
              " 'Bachata',\n",
              " 'Mentalidad de crecimiento',\n",
              " 'Mercado de futuros',\n",
              " 'Retrofit',\n",
              " 'Aplicación de las leyes',\n",
              " 'Stata',\n",
              " 'Fotografía nocturna',\n",
              " 'Oficio de camarero',\n",
              " 'Electromagnetismo',\n",
              " 'IPv6',\n",
              " 'Química',\n",
              " 'Escritura',\n",
              " 'Framework de inyección Dagger',\n",
              " 'Etiqueta',\n",
              " 'Análisis de precios',\n",
              " 'API',\n",
              " 'Creación de miniaturas',\n",
              " 'Minitab',\n",
              " 'VMware Horizon',\n",
              " 'Cerámica',\n",
              " 'Figma',\n",
              " 'COBOL',\n",
              " 'IELTS',\n",
              " 'Red Hat Enterprise Linux (RHEL)',\n",
              " 'UiPath',\n",
              " 'Apache Tomcat',\n",
              " 'Ciencias de la computación',\n",
              " 'Escritura en inglés',\n",
              " 'Análisis de sentimiento',\n",
              " 'CSSLP - Certified Secure Software Lifecycle Professional',\n",
              " 'MongoDB',\n",
              " 'GitHub',\n",
              " 'Metodología Lean',\n",
              " 'SAP Certified Development Specialist - ABAP for HANA',\n",
              " 'Seguridad de la red',\n",
              " 'Auditoría interna',\n",
              " 'Robot Structural Analysis Professional',\n",
              " 'Reparación de automóviles',\n",
              " 'Administración de Salesforce',\n",
              " 'Fisiología',\n",
              " 'Cardio',\n",
              " 'Apache Maven',\n",
              " 'Entrenador deportivo',\n",
              " 'Iluminación',\n",
              " 'Operaciones financieras',\n",
              " 'Cuidado de niños',\n",
              " 'Teoría del color',\n",
              " 'Concurrencia',\n",
              " 'Flujo de efectivo',\n",
              " 'Dejar de fumar',\n",
              " 'Diabetes',\n",
              " 'Resolución de problemas',\n",
              " 'Citas de Google Business',\n",
              " 'Fibromialgia',\n",
              " 'Arte con resina',\n",
              " 'Documentos de Google',\n",
              " 'Flujo de trabajo',\n",
              " 'Selenium Testing Framework',\n",
              " 'GameMaker Studio',\n",
              " 'Clones de Flappy Bird',\n",
              " 'Solidity',\n",
              " 'RxJs',\n",
              " 'Shopify',\n",
              " 'Álgebra',\n",
              " 'Ecualización de audio',\n",
              " 'Substance Designer',\n",
              " 'ISO 14001',\n",
              " 'Mendeley',\n",
              " 'TIA Portal de Siemens',\n",
              " 'Microsoft 77-725',\n",
              " 'Jardinería',\n",
              " 'Masaje de bebés',\n",
              " 'Lógica',\n",
              " 'Traducción',\n",
              " 'Ecuaciones diferenciales',\n",
              " 'C (lenguaje de programación)',\n",
              " '5G',\n",
              " 'Odontología',\n",
              " 'Éxito personal',\n",
              " 'Terapia para trastornos de la alimentación',\n",
              " 'Diseño de tarjetas de visita',\n",
              " 'Six Sigma Yellow Belt',\n",
              " 'Gestión de almacenes',\n",
              " 'Ingeniería eléctrica',\n",
              " 'Tally.ERP',\n",
              " 'Modelado en 3D',\n",
              " 'NGINX',\n",
              " 'Biotecnología',\n",
              " 'Informática básica',\n",
              " 'Cábala',\n",
              " 'Cerrajería',\n",
              " 'Google Earth',\n",
              " 'Importation',\n",
              " 'LINQ',\n",
              " 'Venta al descubierto',\n",
              " 'Dynamics',\n",
              " 'Trucos de magia',\n",
              " 'Pronóstico de ventas',\n",
              " 'Gestión de residuos',\n",
              " 'Recaudación de fondos',\n",
              " 'Kinesiotaping',\n",
              " 'Investigación clínica',\n",
              " 'Mockito',\n",
              " 'VirtualBox',\n",
              " 'Seguridad informática',\n",
              " 'Visualización de datos',\n",
              " 'Habilidades de conversación',\n",
              " 'PMP',\n",
              " 'Marketing en Internet',\n",
              " 'Radiestesia',\n",
              " 'Pensamiento crítico',\n",
              " 'Diseño estructural',\n",
              " 'Alimentos fermentados',\n",
              " 'AWS CloudFormation',\n",
              " 'Trello',\n",
              " 'Idioma árabe',\n",
              " 'Terapia física',\n",
              " 'Fotografía de productos',\n",
              " 'PowerPoint',\n",
              " 'Habilidades de auxiliar administrativo',\n",
              " 'LEED',\n",
              " 'Cálculo',\n",
              " 'Tai Chi',\n",
              " 'AdSense',\n",
              " 'Edge Animate',\n",
              " 'Dreamweaver',\n",
              " 'Graduación de color',\n",
              " 'Diseño de jardines',\n",
              " 'Canva',\n",
              " 'Periodismo',\n",
              " 'Redacción de documentos de investigación',\n",
              " 'Línea de comandos de Windows',\n",
              " 'Big data',\n",
              " 'Plugins de WordPress',\n",
              " 'Consecución de metas',\n",
              " 'Twitch',\n",
              " 'Físicoquímica',\n",
              " 'Especificación de OpenAPI',\n",
              " 'Indicadores clave de rendimiento (KPI)',\n",
              " 'Palo Alto Networks Certified Network Security Administrator (PCNSA)',\n",
              " 'Fabricación',\n",
              " 'Bash Shell',\n",
              " 'Desarrollo de Salesforce',\n",
              " 'Trabajo en equipo',\n",
              " 'Inversión en valores',\n",
              " 'Entrenamiento de intervalos de alta intensidad (HIIT)',\n",
              " 'Videografía',\n",
              " 'Arbitraje en línea',\n",
              " 'Lectura rápida',\n",
              " 'VideoScribe',\n",
              " 'Entrenamiento de fuerza',\n",
              " 'Odoo',\n",
              " 'Autoconciencia',\n",
              " 'Gestión del negocio de la música',\n",
              " 'ISO/IEC 27001',\n",
              " 'Seguridad de la información',\n",
              " 'Supervisión de redes',\n",
              " 'Proxmox VE',\n",
              " 'Framework Entity',\n",
              " 'Pesca con mosca',\n",
              " 'Análisis de mercado de capitales',\n",
              " 'Cumplimiento de normas (RR. HH.)',\n",
              " 'ISTQB Agile Tester Foundation Extension (CTFL-AT)',\n",
              " 'Carrera musical',\n",
              " 'Bioestadística',\n",
              " 'Brujería',\n",
              " 'DJ',\n",
              " 'Swing Trading',\n",
              " 'Cocina y panadería sin gluten',\n",
              " 'Microsoft AI-900',\n",
              " 'Imagen médica',\n",
              " 'Interpretación de los sueños',\n",
              " 'API web',\n",
              " 'Gestión de servicios de TI',\n",
              " 'Node.Js',\n",
              " 'Hábitos',\n",
              " 'Fiverr',\n",
              " 'Atracción',\n",
              " 'Fotografía',\n",
              " 'Afrontamiento de relaciones tóxicas',\n",
              " 'Baile de tango',\n",
              " 'Visual Studio Code',\n",
              " 'Hadoop',\n",
              " 'TIBCO Jaspersoft',\n",
              " 'Adobe Camera Raw',\n",
              " 'T-SQL',\n",
              " 'Productividad de Gmail',\n",
              " 'Gráficos vectoriales',\n",
              " 'Palo Alto Networks Certified Network Security Engineer (PCNSE)',\n",
              " 'Dirección de música',\n",
              " 'Advance Steel',\n",
              " 'Psicología del marketing',\n",
              " 'Empresas emergentes',\n",
              " 'Wolfram Mathematica',\n",
              " 'Té',\n",
              " 'Asterisk',\n",
              " 'Improvisación',\n",
              " 'Seguridad de TI',\n",
              " 'Windows Presentation Foundation',\n",
              " 'Microbiología',\n",
              " 'Cómo fabricar jabón',\n",
              " 'ISTQB Advanced Level Test Manager (CTAL-TM)',\n",
              " 'Cálculo de nóminas',\n",
              " 'GraphQL',\n",
              " 'jQuery',\n",
              " 'Seguridad contra incendios',\n",
              " 'Escritura de guiones de películas',\n",
              " 'Confianza',\n",
              " 'Cambio de carrera',\n",
              " 'Redis',\n",
              " 'LabVIEW',\n",
              " 'Seguridad de Check Point',\n",
              " 'Matemáticas discretas',\n",
              " 'BERT',\n",
              " 'Concienciación sobre la seguridad informática',\n",
              " 'Lectura facial',\n",
              " 'SAP para empresas',\n",
              " 'Desarrollo de juegos en Python',\n",
              " 'Virtualización de VMware',\n",
              " 'Facturación médica',\n",
              " 'Minería de textos',\n",
              " 'Marketing por correo electrónico',\n",
              " 'Cuadrícula CSS',\n",
              " 'Industria 4.0',\n",
              " 'Microsoft Dynamics 365',\n",
              " 'Terminal de Mac',\n",
              " 'Expansión internacional',\n",
              " 'Cisco',\n",
              " 'Farmacia',\n",
              " 'SQL',\n",
              " 'Uber',\n",
              " 'InVideo',\n",
              " 'CAPM',\n",
              " 'Planificación de armarios',\n",
              " 'Construcción',\n",
              " 'Gestión de marketing',\n",
              " 'DIALux',\n",
              " 'Liferay',\n",
              " 'Idioma japonés',\n",
              " 'Diseño de personajes',\n",
              " 'Historia del arte',\n",
              " 'Medicina de emergencia',\n",
              " 'Ética',\n",
              " 'LPIC-1: Administrador de Linux',\n",
              " 'Seguridad alimentaria',\n",
              " 'Ingeniería aeroespacial',\n",
              " 'Python Security',\n",
              " 'Scrivener',\n",
              " 'WebLogic',\n",
              " 'Análisis fundamental',\n",
              " 'Escritura de un libro',\n",
              " 'Capital de riesgo',\n",
              " 'Substance Painter',\n",
              " 'Economía',\n",
              " 'Kotlin',\n",
              " 'Lenguaje ensamblador',\n",
              " 'Entrenamiento en los medios de comunicación',\n",
              " 'Cocina tailandesa',\n",
              " 'Audio digital',\n",
              " 'Hablar en público',\n",
              " 'Retoque en Photoshop',\n",
              " 'Caligrafía',\n",
              " 'GNU',\n",
              " 'Framework Meteor',\n",
              " 'Derecho penal',\n",
              " 'Medición de terrenos con drones',\n",
              " 'Comprensión lectora',\n",
              " 'Refactorización',\n",
              " 'GMAT',\n",
              " 'Selenium WebDriver',\n",
              " 'Análisis de negocios',\n",
              " 'Gramática inglesa',\n",
              " 'Microservicios',\n",
              " 'Procesamiento del lenguaje natural',\n",
              " 'Moda',\n",
              " 'Modelo de negocios',\n",
              " 'Infoproductos',\n",
              " 'Deuda',\n",
              " 'SPSS',\n",
              " 'Divorcio',\n",
              " 'Formación de Facebook',\n",
              " 'Energía renovable',\n",
              " 'Affinity Designer',\n",
              " 'Banca de inversiones',\n",
              " 'Análisis financiero',\n",
              " 'Tenis',\n",
              " 'Google Apps',\n",
              " 'Hojas de cálculo de Google',\n",
              " 'Hidráulica',\n",
              " 'Redacción de Curriculum Vitae',\n",
              " 'Nutrición',\n",
              " 'Examen de conducir',\n",
              " 'Microsoft Office',\n",
              " 'Bordado',\n",
              " 'Comercio electrónico',\n",
              " 'Tailwind CSS',\n",
              " 'Diseño de camisetas',\n",
              " 'Fundamentos de programación',\n",
              " 'Configuración de Cuenta',\n",
              " 'Certificación de Huawei',\n",
              " 'Rutina matinal',\n",
              " 'Armónica',\n",
              " 'Árboles de decisión',\n",
              " 'Presentaciones de Google',\n",
              " 'Modelado de personajes',\n",
              " 'Microsoft Exchange Server',\n",
              " 'SAP Lumira',\n",
              " 'Ayuno',\n",
              " 'Bajo',\n",
              " 'CRM',\n",
              " 'Axure RP',\n",
              " 'Estadística',\n",
              " 'Sector minorista',\n",
              " 'Transformación digital',\n",
              " 'Dropbox',\n",
              " 'Hacking con Python',\n",
              " 'Cocina italiana',\n",
              " 'Negocios desde casa',\n",
              " 'DELF',\n",
              " 'Automatización del hogar',\n",
              " 'Dibujo de figuras',\n",
              " 'Desarrollo guiado por pruebas (TDD)',\n",
              " 'Rigging de criaturas',\n",
              " 'Anuncios de Facebook',\n",
              " 'Método 5S',\n",
              " 'Siemens',\n",
              " 'Frameworks Web',\n",
              " 'Hipnosis',\n",
              " 'Cuidado de personas',\n",
              " 'Formación de coaching de vida',\n",
              " 'Microsoft Visio',\n",
              " 'FortiGate',\n",
              " 'ISO 22301',\n",
              " 'Encuadernación de libros',\n",
              " 'Negociación intradía',\n",
              " 'Creación de cursos en línea',\n",
              " 'Cocina',\n",
              " 'ArcGIS',\n",
              " 'JavaFX',\n",
              " 'Salud sexual',\n",
              " 'Mecenazgo',\n",
              " 'Memoria',\n",
              " 'PCI DSS',\n",
              " 'Gestión de la ansiedad',\n",
              " 'CakePHP',\n",
              " 'Escalas pentatónicas',\n",
              " 'Edición de imágenes',\n",
              " 'Ingeniería mecánica',\n",
              " 'Kung Fu',\n",
              " 'Consejos para viajar',\n",
              " 'Ingeniería inversa',\n",
              " 'Kundalini',\n",
              " 'Derecho',\n",
              " 'Ejercicios de estiramientos',\n",
              " 'Reparación de equipos informáticos',\n",
              " 'Subredes',\n",
              " 'PowToon',\n",
              " 'Postura',\n",
              " 'Editor de código',\n",
              " 'Tráfico de sitio web',\n",
              " 'Minecraft',\n",
              " 'VMware Vsphere',\n",
              " 'Blueprints de Unreal Engine',\n",
              " 'Análisis de fraude',\n",
              " 'Programación en Scratch',\n",
              " 'Tinkercad',\n",
              " 'Mecánica de fluidos',\n",
              " 'HVAC',\n",
              " 'Educación de los hijos',\n",
              " 'Construcción de relaciones',\n",
              " 'Asesoramiento',\n",
              " 'Automatización de marketing',\n",
              " 'Estrategias de influencia',\n",
              " 'Amor',\n",
              " 'C#',\n",
              " 'Java',\n",
              " 'Insomnio',\n",
              " 'MQL',\n",
              " 'Microsoft Access',\n",
              " 'Marvelous Designer',\n",
              " 'MySQL',\n",
              " 'App Inventor 2',\n",
              " 'Embarazo',\n",
              " 'ClickBank',\n",
              " 'Diseño de interiores',\n",
              " 'Peinados',\n",
              " 'Montessori',\n",
              " 'Adobe Premiere',\n",
              " 'MBSR',\n",
              " 'Gestión de acceso e identidad',\n",
              " 'Adiestramiento de perros',\n",
              " 'App Engine',\n",
              " 'Ejercicios visuales',\n",
              " 'Diseño de sonido',\n",
              " 'Sacerdocio',\n",
              " 'Empoderamiento',\n",
              " 'Hornear magdalenas',\n",
              " 'AJAX',\n",
              " 'PLC',\n",
              " 'Google Drive',\n",
              " 'Marketing de aplicaciones',\n",
              " 'Biología',\n",
              " 'Gestión del tiempo',\n",
              " 'Idioma hebreo',\n",
              " 'Armonía',\n",
              " 'Diseño visual',\n",
              " 'Software Sketch',\n",
              " 'Motivación',\n",
              " 'LLC',\n",
              " 'Temas de WordPress',\n",
              " 'PanelView Plus',\n",
              " 'Control de calidad',\n",
              " 'Virtualización de almacenamiento',\n",
              " 'Stencyl',\n",
              " 'AutoCAD Electrical',\n",
              " 'TLE (Técnica de libertad emocional)',\n",
              " \"Ho'oponopono\",\n",
              " 'Contratación de talento',\n",
              " 'Cuidado de mascotas',\n",
              " 'Fotografía de Instagram',\n",
              " 'Salud y nutrición',\n",
              " 'GIMP',\n",
              " 'Fotografía paisajística',\n",
              " 'Postman',\n",
              " 'Hipoteca',\n",
              " 'Lenguaje corporal',\n",
              " 'Administrador de etiquetas de Google',\n",
              " 'Home Staging',\n",
              " 'Pentaho',\n",
              " 'ECMAscript',\n",
              " 'Entrenamiento cerebral',\n",
              " 'Adobe Acrobat',\n",
              " 'Seguridad en la nube',\n",
              " 'Presencia en Internet',\n",
              " 'Oracle Data Guard',\n",
              " 'Detección de mentiras',\n",
              " 'Siemens SIMATIC S7-1200',\n",
              " 'SAS',\n",
              " 'Principios SOLID',\n",
              " 'Autoaceptación',\n",
              " 'Narración',\n",
              " 'Oracle SQL',\n",
              " 'Creación de enlaces',\n",
              " 'Dibujo técnico',\n",
              " 'FileMaker',\n",
              " 'Finanzas algorítmicas',\n",
              " 'PrestaShop',\n",
              " 'Gestión de experiencia de clientes',\n",
              " 'SAP MM',\n",
              " 'Radio por Internet',\n",
              " 'Grupos de Facebook',\n",
              " 'ANSYS',\n",
              " 'CNC',\n",
              " 'Escultura en arcilla',\n",
              " 'Fundamentos empresariales',\n",
              " 'PHP',\n",
              " 'Pronunciación en inglés',\n",
              " '3ds Max',\n",
              " 'Pérdida de grasa',\n",
              " 'Joomla',\n",
              " 'Valoración de empresas',\n",
              " 'Cuidado de perros',\n",
              " 'Pintura acrílica',\n",
              " 'Geometric Dimensioning and Tolerancing (GD&T)',\n",
              " 'Vidas pasadas',\n",
              " 'Prevención de blanqueo de capitales',\n",
              " 'Modelado de procesos de negocios',\n",
              " 'Katalon Studio',\n",
              " 'Grafana',\n",
              " 'Diagramas de flujo',\n",
              " 'Fundamentos de finanzas',\n",
              " 'Motor de juego Construct',\n",
              " 'Vídeo promocional',\n",
              " 'Meditación',\n",
              " 'Ransomware',\n",
              " 'Base de datos Oracle',\n",
              " 'Diseño adaptable',\n",
              " 'Microsoft AZ-303',\n",
              " 'Notificación push',\n",
              " 'Grabación de música',\n",
              " 'Títulos de renta fija',\n",
              " 'Coaching ejecutivo',\n",
              " 'CISM',\n",
              " 'Trabajo como autónomo',\n",
              " 'WooCommerce',\n",
              " 'DevOps',\n",
              " 'Digestión',\n",
              " 'Preparación de impuestos',\n",
              " 'Industria petrolífera y del gas',\n",
              " 'CCNP Routing and Switching',\n",
              " 'Lumion',\n",
              " 'Implementación',\n",
              " 'Navegación marítima',\n",
              " 'Macroeconomía',\n",
              " 'Dropshipping de eBay',\n",
              " 'Airtable',\n",
              " 'Neuromarketing',\n",
              " 'JDBC',\n",
              " 'JSF',\n",
              " 'Inglés empresarial',\n",
              " 'Software Cucumber',\n",
              " 'Estudios de vídeo domésticos',\n",
              " 'Weka',\n",
              " 'NetApp',\n",
              " 'Psicoterapia',\n",
              " 'MEAN Stack',\n",
              " 'Gatsby.js',\n",
              " 'FL Studio',\n",
              " 'Programación neurolingüística',\n",
              " 'Salesforce Apex',\n",
              " 'Yellow Belt de Lean Six Sigma',\n",
              " 'Fotografía con drones',\n",
              " 'Marketing de cursos en línea',\n",
              " 'WebService',\n",
              " 'ASP.NET',\n",
              " 'Escritura de guiones',\n",
              " 'VB.NET',\n",
              " 'Defensa personal',\n",
              " 'Creo',\n",
              " 'Felicidad',\n",
              " 'Voz en OFF',\n",
              " 'Trucos de productividad con correo electrónico',\n",
              " 'Programación de sistemas',\n",
              " 'Formularios de Google',\n",
              " 'Autodisciplina',\n",
              " 'Habilidades blandas',\n",
              " 'Marketing en vídeo',\n",
              " 'KiCad',\n",
              " 'Persuasión',\n",
              " 'AutoCAD Civil 3D',\n",
              " 'Idioma francés',\n",
              " 'Optimización del rendimiento',\n",
              " 'Calculadora',\n",
              " 'Psicología positiva',\n",
              " 'DigitalOcean',\n",
              " 'SketchUp',\n",
              " 'LTE 4G',\n",
              " 'Idioma ruso',\n",
              " 'Lifting facial',\n",
              " 'Enseñanza en línea',\n",
              " 'Cristianismo',\n",
              " 'React Native',\n",
              " 'Logic Pro X',\n",
              " 'Gestión de costes de proyectos',\n",
              " 'Flask',\n",
              " 'Lección de vida',\n",
              " 'Business Intelligence',\n",
              " 'Creación de contenido',\n",
              " 'NetWeaver',\n",
              " 'Ayurveda',\n",
              " 'Animación',\n",
              " 'ISO/IEC 17025',\n",
              " 'Analítica de negocios',\n",
              " 'Operaciones bursátiles',\n",
              " 'Miedo a volar',\n",
              " 'Dynamo BIM',\n",
              " 'Planificación estratégica',\n",
              " 'SAP Fiori',\n",
              " 'Raspberry Pi',\n",
              " 'Vela',\n",
              " 'SAP Basis',\n",
              " 'Microsoft Bot Framework',\n",
              " 'Edición de audio',\n",
              " 'Salud y seguridad en el lugar de trabajo',\n",
              " 'Arte para juegos',\n",
              " 'Diseño de fuentes',\n",
              " 'Certified Bitcoin Professional (CBP)',\n",
              " 'Vino y enología',\n",
              " 'ISO 31000',\n",
              " 'Guitarra de rock',\n",
              " 'Idioma español',\n",
              " 'Animación en 2D',\n",
              " 'HTML5',\n",
              " 'Análisis espacial',\n",
              " 'Cocina vegana',\n",
              " 'Anime',\n",
              " 'KNIME',\n",
              " 'Marca registrada',\n",
              " 'Software de reconocimiento',\n",
              " 'Postres',\n",
              " 'Acordeón',\n",
              " 'Numbers para Mac',\n",
              " 'Cambio climático',\n",
              " 'Spring MVC',\n",
              " 'Vagrant',\n",
              " 'Gestión de ventas',\n",
              " 'Apple Keynote',\n",
              " 'Botánica',\n",
              " 'Derecho empresarial',\n",
              " 'Coleccionismo',\n",
              " 'Dolor de espalda',\n",
              " 'Herramientas para desarrolladores',\n",
              " 'Mapa de viaje del cliente',\n",
              " 'Aviación',\n",
              " 'Redes neuronales',\n",
              " 'Expresiones regulares',\n",
              " 'Modelo de previsión',\n",
              " 'SIP',\n",
              " 'Shiny',\n",
              " 'Trabajo en madera',\n",
              " 'Circuit Bending',\n",
              " 'PhoneGap',\n",
              " 'Finanzas cuantitativas',\n",
              " 'Spark AR Studio',\n",
              " 'AWS CodePipeline',\n",
              " 'Taekwondo',\n",
              " 'Bienes inmuebles',\n",
              " 'Pastelería',\n",
              " 'Pro Tools',\n",
              " 'Adquisición',\n",
              " 'Educación de la primera infancia',\n",
              " 'Fabricación de cerveza',\n",
              " 'VEGAS Pro',\n",
              " 'GNS3',\n",
              " 'Microcontrolador',\n",
              " 'Auriculoterapia',\n",
              " 'Administración de Linux',\n",
              " 'Power Query',\n",
              " 'Relaciones públicas',\n",
              " 'Inkscape',\n",
              " 'Comercio',\n",
              " 'Oficina de gestión de proyectos',\n",
              " 'Computación en la nube',\n",
              " 'MonoGame',\n",
              " 'Ubuntu',\n",
              " 'Interfaz de usuario',\n",
              " 'Vender en Amazon',\n",
              " 'Implementación de aplicaciones',\n",
              " 'Propiedad intelectual',\n",
              " 'Desarrollador certificado por Blue Prism',\n",
              " 'Idioma alemán',\n",
              " 'Videoconferencia',\n",
              " 'Google Workspace (G Suite)',\n",
              " 'Administración de Oracle',\n",
              " 'Centro de llamadas',\n",
              " 'Antienvejecimiento',\n",
              " 'Guitarra flamenca',\n",
              " 'Emprendimiento social',\n",
              " 'AdMob',\n",
              " 'Apache Kafka',\n",
              " 'Gradle',\n",
              " 'Cristaloterapia',\n",
              " 'Fotografía digital',\n",
              " 'Relajación',\n",
              " 'Recolección de plantas comestibles',\n",
              " 'Modo',\n",
              " 'Camtasia',\n",
              " 'Arduino',\n",
              " 'Redes inalámbricas',\n",
              " 'Organización de eventos',\n",
              " 'Azure SQL Database',\n",
              " 'RapidMiner',\n",
              " 'Oracle 1Z0-062',\n",
              " 'VMware Esx',\n",
              " 'Autoestima',\n",
              " 'Sociología',\n",
              " 'RStudio',\n",
              " 'Desarrollo rápido de aplicaciones',\n",
              " 'Abdominales',\n",
              " 'Lean Startup',\n",
              " 'Presentación para inversores',\n",
              " 'Codificación para niños',\n",
              " 'Cámaras',\n",
              " 'QuickBooks',\n",
              " 'Conciencia cultural',\n",
              " 'Administración de sistemas',\n",
              " 'Qlik Sense',\n",
              " 'Express Framework',\n",
              " 'DAX',\n",
              " 'GitLab',\n",
              " 'Electrónica digital',\n",
              " 'Lua',\n",
              " 'Medicina natural',\n",
              " 'Compra de casas',\n",
              " 'Comedia en vivo',\n",
              " 'Intuición',\n",
              " 'Esqueletos 3D',\n",
              " 'Animación en 3D',\n",
              " 'After Effects',\n",
              " 'Videovigilancia',\n",
              " 'Tatuajes',\n",
              " 'Negocio de tutoría',\n",
              " 'Ángeles',\n",
              " 'Álgebra lineal',\n",
              " 'Oración',\n",
              " 'Certificación de Google Ads (AdWords)',\n",
              " 'Habilidades de gestión',\n",
              " 'Vocabulario en inglés',\n",
              " 'Farmacia natural',\n",
              " 'Asesoría freelance',\n",
              " 'CSS Flexbox',\n",
              " 'Pensamiento positivo',\n",
              " 'Doblaje',\n",
              " 'Sanación energética',\n",
              " 'Slack',\n",
              " 'Crystal Report',\n",
              " 'Comportamiento organizacional',\n",
              " 'TDAH',\n",
              " 'Gráficos animados',\n",
              " 'Moxibustión',\n",
              " 'Desarrollo de productos',\n",
              " 'Masaje deportivo',\n",
              " 'Cubo de Rubik',\n",
              " 'Gestión de marca',\n",
              " 'Apache Airflow',\n",
              " 'Apache Spark',\n",
              " 'Mercadotecnia de afiliados de Amazon',\n",
              " 'Alibaba',\n",
              " 'Microsoft Word',\n",
              " 'DCF',\n",
              " 'Toma de decisiones',\n",
              " 'Trabajo social',\n",
              " 'Grasshopper 3d',\n",
              " 'Fotografía inmobiliaria',\n",
              " 'Métodos de investigación',\n",
              " 'Oracle 1Z0-071',\n",
              " 'Mercado de divisas',\n",
              " 'Cuidado de la piel',\n",
              " 'Comunicación no verbal',\n",
              " 'Carpintería',\n",
              " 'Probabilidad',\n",
              " 'CATIA',\n",
              " 'Masaje con piedras',\n",
              " 'SSL/TLS',\n",
              " 'Tekla Structures',\n",
              " 'SSIS',\n",
              " 'Computadoras centrales',\n",
              " 'Calistenia',\n",
              " 'Diseño de circuitos',\n",
              " 'Análisis web',\n",
              " 'Publicidad de pago por clic de Amazon',\n",
              " 'Desarrollo empresarial',\n",
              " 'Lienzo de modelo de negocio',\n",
              " 'Redacción de ensayos',\n",
              " 'Adobe Dimension',\n",
              " 'Enfermedad del tiroides',\n",
              " 'Senderismo',\n",
              " 'Google BigQuery',\n",
              " 'Citrix',\n",
              " 'Costura',\n",
              " 'Registro akásico',\n",
              " 'Equipos virtuales',\n",
              " 'Avid',\n",
              " 'Egiptología',\n",
              " 'Producto digital',\n",
              " 'Yoga facial',\n",
              " 'Técnicas de preparación para exámenes',\n",
              " 'Adobe Muse',\n",
              " 'Circuitos eléctricos',\n",
              " 'Decoración de pasteles',\n",
              " 'Solid Edge',\n",
              " 'Patrocinio',\n",
              " 'SharePoint',\n",
              " 'Gráficos',\n",
              " 'Gestión de recursos humanos',\n",
              " 'Conciencia',\n",
              " 'MERN Stack',\n",
              " 'Ganchillo',\n",
              " 'ownCloud',\n",
              " 'Texturas 3D',\n",
              " 'CompTIA A+',\n",
              " 'Cisco OSPF',\n",
              " 'Mailchimp',\n",
              " 'Arquitectura de la información',\n",
              " 'Automatización de procesos con robots',\n",
              " 'SAP SD',\n",
              " 'Desarrollo del Asistente de Google',\n",
              " 'Diseño de propuestas de valor',\n",
              " 'Planificación de transporte',\n",
              " 'Symfony',\n",
              " 'Formación para pilotos privados',\n",
              " 'Matemáticas mentales',\n",
              " 'Open Broadcaster',\n",
              " 'Unreal Engine',\n",
              " 'Configuración',\n",
              " 'Química analítica',\n",
              " 'Habilidades de escucha',\n",
              " 'Instalaciones eléctricas',\n",
              " 'AWS Certified Developer - Associate',\n",
              " 'Mapeado UV',\n",
              " 'Mecánica',\n",
              " 'Línea de comandos',\n",
              " 'Asignación de costes de productos',\n",
              " 'Ciencias políticas',\n",
              " 'Formación de profesorado',\n",
              " 'Marketing móvil',\n",
              " 'Software Audacity',\n",
              " 'Numerología',\n",
              " 'Animación de personajes',\n",
              " 'PfMP',\n",
              " 'gRPC',\n",
              " 'Propiedad de productos',\n",
              " 'Filosofía',\n",
              " 'Sistemas de control',\n",
              " 'Desarrollo de videojuegos en 3D',\n",
              " 'Tecnologías de aprendizaje',\n",
              " 'Desarrollo de videojuegos en iOS',\n",
              " 'Mitología',\n",
              " 'Ballet',\n",
              " 'Lengua de signos estadounidense',\n",
              " 'ARM Cortex-M',\n",
              " 'Six Sigma',\n",
              " 'Prevención de lesiones',\n",
              " 'Ruby',\n",
              " 'MySQLi',\n",
              " 'Oracle RAC',\n",
              " 'Jazz',\n",
              " 'Efectos visuales',\n",
              " 'Teletrabajo',\n",
              " 'SAP FICO',\n",
              " 'Hardware informático',\n",
              " 'Kodu',\n",
              " 'Yoga para niños',\n",
              " 'Mule ESB',\n",
              " 'Pensamiento visual',\n",
              " 'Marketing musical',\n",
              " 'Zoho',\n",
              " 'Cantar',\n",
              " 'Alojamiento con Airbnb',\n",
              " 'Negociación salarial',\n",
              " 'JBoss',\n",
              " 'Final Cut Pro',\n",
              " 'Gestión de la ira',\n",
              " 'Cocina japonesa',\n",
              " 'RHCE',\n",
              " 'Green Belt de Lean Six Sigma',\n",
              " 'CouchDB',\n",
              " 'Gestión del conocimiento',\n",
              " 'DynamoDB',\n",
              " 'Educación para adultos',\n",
              " 'Idioma tailandés',\n",
              " 'Control de inventario',\n",
              " 'Criptografía',\n",
              " 'Producción de audio',\n",
              " 'Flauta',\n",
              " 'Guía turístico',\n",
              " 'Estrategia publicitaria',\n",
              " 'Blogger',\n",
              " 'Trucos para viajar',\n",
              " 'Cortafuegos',\n",
              " 'PowerShell',\n",
              " 'GetResponse',\n",
              " 'Geometría',\n",
              " 'Programación dinámica',\n",
              " 'Actuación',\n",
              " 'Precálculo',\n",
              " 'Geotecnia',\n",
              " 'Colaboración empresarial',\n",
              " 'Grabado',\n",
              " 'League of Legends',\n",
              " 'Material Design',\n",
              " 'Fabricación de productos',\n",
              " 'Gestión de crisis',\n",
              " 'Escritura técnica',\n",
              " 'Química orgánica',\n",
              " 'Física cuántica',\n",
              " 'SQLite',\n",
              " 'Entrenamiento del oído',\n",
              " 'Sistema operativo robótico (ROS)',\n",
              " 'EDM',\n",
              " 'Manga',\n",
              " 'Operaciones basadas en Fibonacci',\n",
              " 'Zabbix',\n",
              " 'Blogs',\n",
              " 'UML',\n",
              " 'Idioma sánscrito',\n",
              " 'RHCSA',\n",
              " 'Certificación de seguridad',\n",
              " 'Bricolaje',\n",
              " 'Espacio de trabajo Notion',\n",
              " 'BIM',\n",
              " 'Mapeo mental',\n",
              " 'Análisis de datos',\n",
              " 'Infografía',\n",
              " 'Sistemas complejos',\n",
              " 'Análisis de series temporales',\n",
              " 'Analista financiero certificado',\n",
              " ...}"
            ]
          },
          "metadata": {},
          "execution_count": 90
        }
      ]
    },
    {
      "cell_type": "code",
      "source": [
        "df_entrenamiento.loc[df_entrenamiento.bestseller == 'si','subcategory'].value_counts().head(50)"
      ],
      "metadata": {
        "colab": {
          "base_uri": "https://localhost:8080/"
        },
        "id": "69rzaDTyt40k",
        "outputId": "ed011510-051c-4ff2-e53a-f18b9b887b2b"
      },
      "execution_count": null,
      "outputs": [
        {
          "output_type": "execute_result",
          "data": {
            "text/plain": [
              "Excel                              47\n",
              "Python                             44\n",
              "WordPress                          40\n",
              "PHP                                33\n",
              "Java                               30\n",
              "JavaScript                         28\n",
              "Idioma inglés                      24\n",
              "C#                                 24\n",
              "Photoshop                          22\n",
              "Desarrollo web                     22\n",
              "Linux                              20\n",
              "SQL                                19\n",
              "Diseño web                         18\n",
              "Liderazgo                          17\n",
              "Desarrollo en Android              17\n",
              "React                              16\n",
              "Angular                            15\n",
              "Laravel                            15\n",
              "Power BI de Microsoft              15\n",
              "SQL Server                         15\n",
              "CSS                                14\n",
              "Inversión                          14\n",
              "Diseño de interiores               14\n",
              "Dibujo                             13\n",
              "Hacking ético                      13\n",
              "Marketing en Facebook              12\n",
              "Estrategia de marketing            12\n",
              "Análisis de datos                  12\n",
              "Guitarra                           10\n",
              "Framework Spring                   10\n",
              "Diseño gráfico                     10\n",
              "Bootstrap                          10\n",
              "Unity                              10\n",
              "Swift                              10\n",
              "Gestión de proyectos                9\n",
              "Seguridad informática               9\n",
              "Habilidades de comunicación         9\n",
              "Fundamentos de programación         9\n",
              "Node.Js                             9\n",
              "Vue JS                              9\n",
              "Scrum                               9\n",
              "Programación neurolingüística       9\n",
              "Desarrollo personal                 9\n",
              "Revit                               8\n",
              "Desarrollo de videojuegos en 2D     8\n",
              "Matemáticas                         8\n",
              "Google Ads (Adwords)                8\n",
              "Adobe Illustrator                   8\n",
              "Arduino                             8\n",
              "MySQL                               8\n",
              "Name: subcategory, dtype: int64"
            ]
          },
          "metadata": {},
          "execution_count": 91
        }
      ]
    },
    {
      "cell_type": "markdown",
      "source": [
        "###Instructores"
      ],
      "metadata": {
        "id": "4ETF2GBN47O0"
      }
    },
    {
      "cell_type": "markdown",
      "source": [
        "Conviene analizarlo tras imputarlo y procesarlo porque hay varios instructores (es un tipo object, tiene listas separadas por comas)."
      ],
      "metadata": {
        "id": "5uKxniSAEyMh"
      }
    },
    {
      "cell_type": "code",
      "source": [
        "df_entrenamiento.instructors.head(15)"
      ],
      "metadata": {
        "colab": {
          "base_uri": "https://localhost:8080/"
        },
        "id": "uTC-8NT246vK",
        "outputId": "cbeb8d9f-36b8-4e0a-9c1b-41bf3d671df0"
      },
      "execution_count": null,
      "outputs": [
        {
          "output_type": "execute_result",
          "data": {
            "text/plain": [
              "id\n",
              "1                      121211\n",
              "2                      236127\n",
              "3                        3851\n",
              "4                      171706\n",
              "5                      171706\n",
              "6                       35921\n",
              "7                      171706\n",
              "8                      330224\n",
              "9                      171706\n",
              "10    269206,73216490,3311510\n",
              "11                     288131\n",
              "12                     398428\n",
              "13                     378331\n",
              "14                       3851\n",
              "15                     171706\n",
              "Name: instructors, dtype: object"
            ]
          },
          "metadata": {},
          "execution_count": 92
        }
      ]
    },
    {
      "cell_type": "markdown",
      "source": [
        "###Titulares"
      ],
      "metadata": {
        "id": "McS4QsR38a-r"
      }
    },
    {
      "cell_type": "code",
      "source": [
        "df_entrenamiento[df_entrenamiento.headline.isna()]"
      ],
      "metadata": {
        "colab": {
          "base_uri": "https://localhost:8080/",
          "height": 263
        },
        "id": "KH2luRxZ8dJM",
        "outputId": "e4a1433c-c3c2-4c83-f36e-9cc9b96b8973"
      },
      "execution_count": null,
      "outputs": [
        {
          "output_type": "execute_result",
          "data": {
            "text/plain": [
              "                             title headline  is_practice_test_course  \\\n",
              "id                                                                     \n",
              "2192  Querying Data y Transact SQL      NaN                    False   \n",
              "\n",
              "     bestseller captions    rating  num_published_lectures  \\\n",
              "id                                                           \n",
              "2192         no    es_ES  3.881303                      47   \n",
              "\n",
              "      num_published_practice_tests locale created_date  \\\n",
              "id                                                       \n",
              "2192                             0  es_ES   2017-12-19   \n",
              "\n",
              "     instructional_level_simple published_date last_update_date  \\\n",
              "id                                                                \n",
              "2192               Principiante     2018-01-02       2017-12-23   \n",
              "\n",
              "     content_info_short instructors    category subcategory  \\\n",
              "id                                                            \n",
              "2192          4,5 horas    31175256  Desarrollo         SQL   \n",
              "\n",
              "                                             objectives list_price  \\\n",
              "id                                                                   \n",
              "2192  Crear consultas SQL desde las mas simples hast...     $89.99   \n",
              "\n",
              "     discount_price  \n",
              "id                   \n",
              "2192            $12  "
            ],
            "text/html": [
              "\n",
              "  <div id=\"df-52f5c06f-b6c4-4de5-863e-dd62297861d1\">\n",
              "    <div class=\"colab-df-container\">\n",
              "      <div>\n",
              "<style scoped>\n",
              "    .dataframe tbody tr th:only-of-type {\n",
              "        vertical-align: middle;\n",
              "    }\n",
              "\n",
              "    .dataframe tbody tr th {\n",
              "        vertical-align: top;\n",
              "    }\n",
              "\n",
              "    .dataframe thead th {\n",
              "        text-align: right;\n",
              "    }\n",
              "</style>\n",
              "<table border=\"1\" class=\"dataframe\">\n",
              "  <thead>\n",
              "    <tr style=\"text-align: right;\">\n",
              "      <th></th>\n",
              "      <th>title</th>\n",
              "      <th>headline</th>\n",
              "      <th>is_practice_test_course</th>\n",
              "      <th>bestseller</th>\n",
              "      <th>captions</th>\n",
              "      <th>rating</th>\n",
              "      <th>num_published_lectures</th>\n",
              "      <th>num_published_practice_tests</th>\n",
              "      <th>locale</th>\n",
              "      <th>created_date</th>\n",
              "      <th>instructional_level_simple</th>\n",
              "      <th>published_date</th>\n",
              "      <th>last_update_date</th>\n",
              "      <th>content_info_short</th>\n",
              "      <th>instructors</th>\n",
              "      <th>category</th>\n",
              "      <th>subcategory</th>\n",
              "      <th>objectives</th>\n",
              "      <th>list_price</th>\n",
              "      <th>discount_price</th>\n",
              "    </tr>\n",
              "    <tr>\n",
              "      <th>id</th>\n",
              "      <th></th>\n",
              "      <th></th>\n",
              "      <th></th>\n",
              "      <th></th>\n",
              "      <th></th>\n",
              "      <th></th>\n",
              "      <th></th>\n",
              "      <th></th>\n",
              "      <th></th>\n",
              "      <th></th>\n",
              "      <th></th>\n",
              "      <th></th>\n",
              "      <th></th>\n",
              "      <th></th>\n",
              "      <th></th>\n",
              "      <th></th>\n",
              "      <th></th>\n",
              "      <th></th>\n",
              "      <th></th>\n",
              "      <th></th>\n",
              "    </tr>\n",
              "  </thead>\n",
              "  <tbody>\n",
              "    <tr>\n",
              "      <th>2192</th>\n",
              "      <td>Querying Data y Transact SQL</td>\n",
              "      <td>NaN</td>\n",
              "      <td>False</td>\n",
              "      <td>no</td>\n",
              "      <td>es_ES</td>\n",
              "      <td>3.881303</td>\n",
              "      <td>47</td>\n",
              "      <td>0</td>\n",
              "      <td>es_ES</td>\n",
              "      <td>2017-12-19</td>\n",
              "      <td>Principiante</td>\n",
              "      <td>2018-01-02</td>\n",
              "      <td>2017-12-23</td>\n",
              "      <td>4,5 horas</td>\n",
              "      <td>31175256</td>\n",
              "      <td>Desarrollo</td>\n",
              "      <td>SQL</td>\n",
              "      <td>Crear consultas SQL desde las mas simples hast...</td>\n",
              "      <td>$89.99</td>\n",
              "      <td>$12</td>\n",
              "    </tr>\n",
              "  </tbody>\n",
              "</table>\n",
              "</div>\n",
              "      <button class=\"colab-df-convert\" onclick=\"convertToInteractive('df-52f5c06f-b6c4-4de5-863e-dd62297861d1')\"\n",
              "              title=\"Convert this dataframe to an interactive table.\"\n",
              "              style=\"display:none;\">\n",
              "        \n",
              "  <svg xmlns=\"http://www.w3.org/2000/svg\" height=\"24px\"viewBox=\"0 0 24 24\"\n",
              "       width=\"24px\">\n",
              "    <path d=\"M0 0h24v24H0V0z\" fill=\"none\"/>\n",
              "    <path d=\"M18.56 5.44l.94 2.06.94-2.06 2.06-.94-2.06-.94-.94-2.06-.94 2.06-2.06.94zm-11 1L8.5 8.5l.94-2.06 2.06-.94-2.06-.94L8.5 2.5l-.94 2.06-2.06.94zm10 10l.94 2.06.94-2.06 2.06-.94-2.06-.94-.94-2.06-.94 2.06-2.06.94z\"/><path d=\"M17.41 7.96l-1.37-1.37c-.4-.4-.92-.59-1.43-.59-.52 0-1.04.2-1.43.59L10.3 9.45l-7.72 7.72c-.78.78-.78 2.05 0 2.83L4 21.41c.39.39.9.59 1.41.59.51 0 1.02-.2 1.41-.59l7.78-7.78 2.81-2.81c.8-.78.8-2.07 0-2.86zM5.41 20L4 18.59l7.72-7.72 1.47 1.35L5.41 20z\"/>\n",
              "  </svg>\n",
              "      </button>\n",
              "      \n",
              "  <style>\n",
              "    .colab-df-container {\n",
              "      display:flex;\n",
              "      flex-wrap:wrap;\n",
              "      gap: 12px;\n",
              "    }\n",
              "\n",
              "    .colab-df-convert {\n",
              "      background-color: #E8F0FE;\n",
              "      border: none;\n",
              "      border-radius: 50%;\n",
              "      cursor: pointer;\n",
              "      display: none;\n",
              "      fill: #1967D2;\n",
              "      height: 32px;\n",
              "      padding: 0 0 0 0;\n",
              "      width: 32px;\n",
              "    }\n",
              "\n",
              "    .colab-df-convert:hover {\n",
              "      background-color: #E2EBFA;\n",
              "      box-shadow: 0px 1px 2px rgba(60, 64, 67, 0.3), 0px 1px 3px 1px rgba(60, 64, 67, 0.15);\n",
              "      fill: #174EA6;\n",
              "    }\n",
              "\n",
              "    [theme=dark] .colab-df-convert {\n",
              "      background-color: #3B4455;\n",
              "      fill: #D2E3FC;\n",
              "    }\n",
              "\n",
              "    [theme=dark] .colab-df-convert:hover {\n",
              "      background-color: #434B5C;\n",
              "      box-shadow: 0px 1px 3px 1px rgba(0, 0, 0, 0.15);\n",
              "      filter: drop-shadow(0px 1px 2px rgba(0, 0, 0, 0.3));\n",
              "      fill: #FFFFFF;\n",
              "    }\n",
              "  </style>\n",
              "\n",
              "      <script>\n",
              "        const buttonEl =\n",
              "          document.querySelector('#df-52f5c06f-b6c4-4de5-863e-dd62297861d1 button.colab-df-convert');\n",
              "        buttonEl.style.display =\n",
              "          google.colab.kernel.accessAllowed ? 'block' : 'none';\n",
              "\n",
              "        async function convertToInteractive(key) {\n",
              "          const element = document.querySelector('#df-52f5c06f-b6c4-4de5-863e-dd62297861d1');\n",
              "          const dataTable =\n",
              "            await google.colab.kernel.invokeFunction('convertToInteractive',\n",
              "                                                     [key], {});\n",
              "          if (!dataTable) return;\n",
              "\n",
              "          const docLinkHtml = 'Like what you see? Visit the ' +\n",
              "            '<a target=\"_blank\" href=https://colab.research.google.com/notebooks/data_table.ipynb>data table notebook</a>'\n",
              "            + ' to learn more about interactive tables.';\n",
              "          element.innerHTML = '';\n",
              "          dataTable['output_type'] = 'display_data';\n",
              "          await google.colab.output.renderOutput(dataTable, element);\n",
              "          const docLink = document.createElement('div');\n",
              "          docLink.innerHTML = docLinkHtml;\n",
              "          element.appendChild(docLink);\n",
              "        }\n",
              "      </script>\n",
              "    </div>\n",
              "  </div>\n",
              "  "
            ]
          },
          "metadata": {},
          "execution_count": 93
        }
      ]
    },
    {
      "cell_type": "markdown",
      "source": [
        "###Objetivos"
      ],
      "metadata": {
        "id": "9Z5u3s2Q84Ry"
      }
    },
    {
      "cell_type": "code",
      "source": [
        "df_entrenamiento[df_entrenamiento.objectives.isna()]"
      ],
      "metadata": {
        "colab": {
          "base_uri": "https://localhost:8080/",
          "height": 245
        },
        "id": "XkETMBhP86x8",
        "outputId": "b49bd299-2f2c-4495-895d-083a4c2ddc12"
      },
      "execution_count": null,
      "outputs": [
        {
          "output_type": "execute_result",
          "data": {
            "text/plain": [
              "                              title  \\\n",
              "id                                    \n",
              "6   Aprende a Crear un Curso Online   \n",
              "\n",
              "                                             headline  \\\n",
              "id                                                      \n",
              "6   Miguel uno de los más exitosos instructores en...   \n",
              "\n",
              "    is_practice_test_course bestseller captions    rating  \\\n",
              "id                                                          \n",
              "6                     False         si    es_ES  4.626789   \n",
              "\n",
              "    num_published_lectures  num_published_practice_tests locale created_date  \\\n",
              "id                                                                             \n",
              "6                       76                             0  es_ES   2012-08-30   \n",
              "\n",
              "   instructional_level_simple published_date last_update_date  \\\n",
              "id                                                              \n",
              "6           Todos los niveles     2012-09-03       2016-09-07   \n",
              "\n",
              "   content_info_short instructors                             category  \\\n",
              "id                                                                       \n",
              "6           6,5 horas       35921  Enseñanzas y disciplinas académicas   \n",
              "\n",
              "                    subcategory objectives list_price discount_price  \n",
              "id                                                                    \n",
              "6   Creación de cursos en línea        NaN     $44.99            $13  "
            ],
            "text/html": [
              "\n",
              "  <div id=\"df-7228960c-08a4-47fe-95a4-0b853de020b4\">\n",
              "    <div class=\"colab-df-container\">\n",
              "      <div>\n",
              "<style scoped>\n",
              "    .dataframe tbody tr th:only-of-type {\n",
              "        vertical-align: middle;\n",
              "    }\n",
              "\n",
              "    .dataframe tbody tr th {\n",
              "        vertical-align: top;\n",
              "    }\n",
              "\n",
              "    .dataframe thead th {\n",
              "        text-align: right;\n",
              "    }\n",
              "</style>\n",
              "<table border=\"1\" class=\"dataframe\">\n",
              "  <thead>\n",
              "    <tr style=\"text-align: right;\">\n",
              "      <th></th>\n",
              "      <th>title</th>\n",
              "      <th>headline</th>\n",
              "      <th>is_practice_test_course</th>\n",
              "      <th>bestseller</th>\n",
              "      <th>captions</th>\n",
              "      <th>rating</th>\n",
              "      <th>num_published_lectures</th>\n",
              "      <th>num_published_practice_tests</th>\n",
              "      <th>locale</th>\n",
              "      <th>created_date</th>\n",
              "      <th>instructional_level_simple</th>\n",
              "      <th>published_date</th>\n",
              "      <th>last_update_date</th>\n",
              "      <th>content_info_short</th>\n",
              "      <th>instructors</th>\n",
              "      <th>category</th>\n",
              "      <th>subcategory</th>\n",
              "      <th>objectives</th>\n",
              "      <th>list_price</th>\n",
              "      <th>discount_price</th>\n",
              "    </tr>\n",
              "    <tr>\n",
              "      <th>id</th>\n",
              "      <th></th>\n",
              "      <th></th>\n",
              "      <th></th>\n",
              "      <th></th>\n",
              "      <th></th>\n",
              "      <th></th>\n",
              "      <th></th>\n",
              "      <th></th>\n",
              "      <th></th>\n",
              "      <th></th>\n",
              "      <th></th>\n",
              "      <th></th>\n",
              "      <th></th>\n",
              "      <th></th>\n",
              "      <th></th>\n",
              "      <th></th>\n",
              "      <th></th>\n",
              "      <th></th>\n",
              "      <th></th>\n",
              "      <th></th>\n",
              "    </tr>\n",
              "  </thead>\n",
              "  <tbody>\n",
              "    <tr>\n",
              "      <th>6</th>\n",
              "      <td>Aprende a Crear un Curso Online</td>\n",
              "      <td>Miguel uno de los más exitosos instructores en...</td>\n",
              "      <td>False</td>\n",
              "      <td>si</td>\n",
              "      <td>es_ES</td>\n",
              "      <td>4.626789</td>\n",
              "      <td>76</td>\n",
              "      <td>0</td>\n",
              "      <td>es_ES</td>\n",
              "      <td>2012-08-30</td>\n",
              "      <td>Todos los niveles</td>\n",
              "      <td>2012-09-03</td>\n",
              "      <td>2016-09-07</td>\n",
              "      <td>6,5 horas</td>\n",
              "      <td>35921</td>\n",
              "      <td>Enseñanzas y disciplinas académicas</td>\n",
              "      <td>Creación de cursos en línea</td>\n",
              "      <td>NaN</td>\n",
              "      <td>$44.99</td>\n",
              "      <td>$13</td>\n",
              "    </tr>\n",
              "  </tbody>\n",
              "</table>\n",
              "</div>\n",
              "      <button class=\"colab-df-convert\" onclick=\"convertToInteractive('df-7228960c-08a4-47fe-95a4-0b853de020b4')\"\n",
              "              title=\"Convert this dataframe to an interactive table.\"\n",
              "              style=\"display:none;\">\n",
              "        \n",
              "  <svg xmlns=\"http://www.w3.org/2000/svg\" height=\"24px\"viewBox=\"0 0 24 24\"\n",
              "       width=\"24px\">\n",
              "    <path d=\"M0 0h24v24H0V0z\" fill=\"none\"/>\n",
              "    <path d=\"M18.56 5.44l.94 2.06.94-2.06 2.06-.94-2.06-.94-.94-2.06-.94 2.06-2.06.94zm-11 1L8.5 8.5l.94-2.06 2.06-.94-2.06-.94L8.5 2.5l-.94 2.06-2.06.94zm10 10l.94 2.06.94-2.06 2.06-.94-2.06-.94-.94-2.06-.94 2.06-2.06.94z\"/><path d=\"M17.41 7.96l-1.37-1.37c-.4-.4-.92-.59-1.43-.59-.52 0-1.04.2-1.43.59L10.3 9.45l-7.72 7.72c-.78.78-.78 2.05 0 2.83L4 21.41c.39.39.9.59 1.41.59.51 0 1.02-.2 1.41-.59l7.78-7.78 2.81-2.81c.8-.78.8-2.07 0-2.86zM5.41 20L4 18.59l7.72-7.72 1.47 1.35L5.41 20z\"/>\n",
              "  </svg>\n",
              "      </button>\n",
              "      \n",
              "  <style>\n",
              "    .colab-df-container {\n",
              "      display:flex;\n",
              "      flex-wrap:wrap;\n",
              "      gap: 12px;\n",
              "    }\n",
              "\n",
              "    .colab-df-convert {\n",
              "      background-color: #E8F0FE;\n",
              "      border: none;\n",
              "      border-radius: 50%;\n",
              "      cursor: pointer;\n",
              "      display: none;\n",
              "      fill: #1967D2;\n",
              "      height: 32px;\n",
              "      padding: 0 0 0 0;\n",
              "      width: 32px;\n",
              "    }\n",
              "\n",
              "    .colab-df-convert:hover {\n",
              "      background-color: #E2EBFA;\n",
              "      box-shadow: 0px 1px 2px rgba(60, 64, 67, 0.3), 0px 1px 3px 1px rgba(60, 64, 67, 0.15);\n",
              "      fill: #174EA6;\n",
              "    }\n",
              "\n",
              "    [theme=dark] .colab-df-convert {\n",
              "      background-color: #3B4455;\n",
              "      fill: #D2E3FC;\n",
              "    }\n",
              "\n",
              "    [theme=dark] .colab-df-convert:hover {\n",
              "      background-color: #434B5C;\n",
              "      box-shadow: 0px 1px 3px 1px rgba(0, 0, 0, 0.15);\n",
              "      filter: drop-shadow(0px 1px 2px rgba(0, 0, 0, 0.3));\n",
              "      fill: #FFFFFF;\n",
              "    }\n",
              "  </style>\n",
              "\n",
              "      <script>\n",
              "        const buttonEl =\n",
              "          document.querySelector('#df-7228960c-08a4-47fe-95a4-0b853de020b4 button.colab-df-convert');\n",
              "        buttonEl.style.display =\n",
              "          google.colab.kernel.accessAllowed ? 'block' : 'none';\n",
              "\n",
              "        async function convertToInteractive(key) {\n",
              "          const element = document.querySelector('#df-7228960c-08a4-47fe-95a4-0b853de020b4');\n",
              "          const dataTable =\n",
              "            await google.colab.kernel.invokeFunction('convertToInteractive',\n",
              "                                                     [key], {});\n",
              "          if (!dataTable) return;\n",
              "\n",
              "          const docLinkHtml = 'Like what you see? Visit the ' +\n",
              "            '<a target=\"_blank\" href=https://colab.research.google.com/notebooks/data_table.ipynb>data table notebook</a>'\n",
              "            + ' to learn more about interactive tables.';\n",
              "          element.innerHTML = '';\n",
              "          dataTable['output_type'] = 'display_data';\n",
              "          await google.colab.output.renderOutput(dataTable, element);\n",
              "          const docLink = document.createElement('div');\n",
              "          docLink.innerHTML = docLinkHtml;\n",
              "          element.appendChild(docLink);\n",
              "        }\n",
              "      </script>\n",
              "    </div>\n",
              "  </div>\n",
              "  "
            ]
          },
          "metadata": {},
          "execution_count": 94
        }
      ]
    },
    {
      "cell_type": "markdown",
      "source": [
        "###Bestsellers"
      ],
      "metadata": {
        "id": "dQR3q44TpyBW"
      }
    },
    {
      "cell_type": "markdown",
      "source": [
        "Probabilidad de ser bestseller"
      ],
      "metadata": {
        "id": "DfTc6ozZqLfd"
      }
    },
    {
      "cell_type": "code",
      "source": [
        "df_entrenamiento.bestseller.value_counts() / len(df_entrenamiento)"
      ],
      "metadata": {
        "colab": {
          "base_uri": "https://localhost:8080/"
        },
        "id": "IZL-lm3qpwvi",
        "outputId": "69242782-f768-4530-e590-13e8ff4075d4"
      },
      "execution_count": null,
      "outputs": [
        {
          "output_type": "execute_result",
          "data": {
            "text/plain": [
              "no    0.801569\n",
              "si    0.198431\n",
              "Name: bestseller, dtype: float64"
            ]
          },
          "metadata": {},
          "execution_count": 95
        }
      ]
    },
    {
      "cell_type": "markdown",
      "source": [
        "# Limpieza de datos\n",
        "\n"
      ],
      "metadata": {
        "id": "zjaTnfxkyvo8"
      }
    },
    {
      "cell_type": "markdown",
      "source": [
        "##Copia de datos"
      ],
      "metadata": {
        "id": "SkT2Z7G8PVs7"
      }
    },
    {
      "cell_type": "markdown",
      "source": [
        "Hago copias de los dataframes originales para no tener que cargarlos cada vez que quiero correr el código de nuevo"
      ],
      "metadata": {
        "id": "J7Zfbw8yGThB"
      }
    },
    {
      "cell_type": "code",
      "source": [
        "df_train = df_entrenamiento.copy()\n",
        "df_test = df_prueba.copy()"
      ],
      "metadata": {
        "id": "4nNRy_JjGKCA"
      },
      "execution_count": null,
      "outputs": []
    },
    {
      "cell_type": "markdown",
      "source": [
        "##Parámetros (útil para correr la notebook entera en vez de bloque por bloque)"
      ],
      "metadata": {
        "id": "4TmVOZidF2SX"
      }
    },
    {
      "cell_type": "code",
      "source": [
        "remove_duplicates = True\n",
        "discount_price_imputer = 'median' #puede ser 'median', 'list_price' o 'bfill'\n",
        "#remove_todos_los_niveles = False"
      ],
      "metadata": {
        "id": "5Y7jHewmFxKA"
      },
      "execution_count": null,
      "outputs": []
    },
    {
      "cell_type": "markdown",
      "source": [
        "##Eliminación de duplicados de entrenamiento "
      ],
      "metadata": {
        "id": "YWpEmZTLv00q"
      }
    },
    {
      "cell_type": "code",
      "source": [
        "# Saco duplicados (creo nuevo dataframe para no tener que cargar el original de nuevo si quiero empezar de cero sin remover duplicados)\n",
        "if (remove_duplicates):\n",
        "  df_train = df_train.drop_duplicates()"
      ],
      "metadata": {
        "id": "BEyzEnjdv4w5"
      },
      "execution_count": null,
      "outputs": []
    },
    {
      "cell_type": "markdown",
      "source": [
        "##Combinación de dataframes"
      ],
      "metadata": {
        "id": "qSgAXfh5uXz5"
      }
    },
    {
      "cell_type": "code",
      "source": [
        "def glue(dftrain,dftest):\n",
        "  df = pd.concat([dftrain,dftest], axis = 0)\n",
        "  return df\n",
        "\n",
        "def unglue(df):\n",
        "  dftrain = df.loc[df['bestseller'].notna()]\n",
        "  dftest = df.loc[df['bestseller'].isna()]\n",
        "  return dftrain, dftest"
      ],
      "metadata": {
        "id": "6KHCqha1udiA"
      },
      "execution_count": null,
      "outputs": []
    },
    {
      "cell_type": "code",
      "source": [
        "df = glue(df_train,df_test)"
      ],
      "metadata": {
        "id": "TPuAS6ey2Jx-"
      },
      "execution_count": null,
      "outputs": []
    },
    {
      "cell_type": "markdown",
      "source": [
        "##Transformación/imputación de atributos"
      ],
      "metadata": {
        "id": "8rtxQQnw4rAF"
      }
    },
    {
      "cell_type": "markdown",
      "source": [
        "###Desagregar content_info_short"
      ],
      "metadata": {
        "id": "bVF7XLOQndVM"
      }
    },
    {
      "cell_type": "markdown",
      "source": [
        "* Columna content_info_questions: número de preguntas. A aquellos cursos que no tienen preguntas (tienen horas/minutos) se los llena con 0.\n",
        "* Columna content_info_time: pongo el tiempo expresado en horas. Aquellos cursos que estan expresados en minutos los convierto a horas. Aquellos cursos que no tienen tiempo (tienen preguntas) reciben 0."
      ],
      "metadata": {
        "id": "7R-meRk6owts"
      }
    },
    {
      "cell_type": "code",
      "source": [
        "df['content_info_questions'] = df.loc[df.is_practice_test_course, 'content_info_short']\n",
        "df['content_info_questions'] = df['content_info_questions'].str.split(\" \").str[0]\n",
        "df['content_info_questions'] = df['content_info_questions'].fillna(0)\n",
        "df['content_info_questions'] = df['content_info_questions'].astype(int)"
      ],
      "metadata": {
        "id": "KfMJoVMwoJI2"
      },
      "execution_count": null,
      "outputs": []
    },
    {
      "cell_type": "code",
      "source": [
        "df['content_info_time'] = df.loc[df.is_practice_test_course == False, 'content_info_short']\n",
        "df['content_info_time_unit'] = df['content_info_time'].str.split(\" \").str[1]\n",
        "df['content_info_time'] = df['content_info_time'].str.split(\" \").str[0]\n",
        "df['content_info_time'] = df['content_info_time'].str.replace(',', '.').astype(float)\n",
        "df['content_info_time'] = df['content_info_time'].fillna(0)\n"
      ],
      "metadata": {
        "id": "5O7wS_TCoJI3"
      },
      "execution_count": null,
      "outputs": []
    },
    {
      "cell_type": "code",
      "source": [
        "# Convierto a horas los valores que estaban en minutos\n",
        "# con .loc selecciono los cursos en minutos y los divido por 60\n",
        "\n",
        "df.loc[df['content_info_time_unit'] == 'minutos', 'content_info_time'] = df['content_info_time'] / 60\n"
      ],
      "metadata": {
        "id": "ylCyCA1GoJI3"
      },
      "execution_count": null,
      "outputs": []
    },
    {
      "cell_type": "markdown",
      "source": [
        "###Imputar last_update_date"
      ],
      "metadata": {
        "id": "qmJO0V8xpUBy"
      }
    },
    {
      "cell_type": "markdown",
      "source": [
        "Se imputa en base a la fecha de publicación"
      ],
      "metadata": {
        "id": "xF5ci0-rYnpH"
      }
    },
    {
      "cell_type": "code",
      "source": [
        "mask = df['last_update_date'].isna()"
      ],
      "metadata": {
        "id": "XCwAx6t5OEA_"
      },
      "execution_count": null,
      "outputs": []
    },
    {
      "cell_type": "code",
      "source": [
        "df['last_update_date_imp'] = np.where(mask, True, False)"
      ],
      "metadata": {
        "id": "cGbuw3BjN9r1"
      },
      "execution_count": null,
      "outputs": []
    },
    {
      "cell_type": "code",
      "source": [
        "df.loc[mask,'last_update_date'] = df.loc[mask,'published_date']"
      ],
      "metadata": {
        "id": "GVvwUfgytajK"
      },
      "execution_count": null,
      "outputs": []
    },
    {
      "cell_type": "markdown",
      "source": [
        "###Convertir precios a numéricos e imputar"
      ],
      "metadata": {
        "id": "iJ2F8DWl4_lV"
      }
    },
    {
      "cell_type": "code",
      "source": [
        "df['list_price'] = df['list_price'].str.strip('$').astype(float)\n",
        "df['discount_price'] = df['discount_price'].str.strip('$').astype(float)"
      ],
      "metadata": {
        "id": "LwjS0Oor5pXU"
      },
      "execution_count": null,
      "outputs": []
    },
    {
      "cell_type": "markdown",
      "source": [
        "Indicación de si se imputó el descuento\n",
        "\n",
        "\n",
        "\n"
      ],
      "metadata": {
        "id": "JEcQrizsQ1BU"
      }
    },
    {
      "cell_type": "code",
      "source": [
        "mask = df['discount_price'].isna()\n",
        "df['discount_imp'] = np.where(mask, True, False)"
      ],
      "metadata": {
        "id": "7wtEMScJWvxU"
      },
      "execution_count": null,
      "outputs": []
    },
    {
      "cell_type": "markdown",
      "source": [
        "Considerar añadir un indicador de imputación o KNN (para hacer eso, primero obtener tantos atributos numéricos como sea posible por transformación). Hay tres tipos de imputador: en base al precio de lista, backfill y por la mediana."
      ],
      "metadata": {
        "id": "07tndmuXX0bb"
      }
    },
    {
      "cell_type": "code",
      "source": [
        "if (discount_price_imputer == 'list_price'):\n",
        "  # Si discount price es 0, pongo el mismo valor que list_price\n",
        "  mask = df['discount_price'].isna()\n",
        "  df.loc[mask, 'discount_price'] = df.loc[mask, 'list_price']\n",
        "elif (discount_price_imputer == 'median'):\n",
        "  imp = SimpleImputer(strategy='median')\n",
        "  #el fit_transform requiere un array con cierta forma, por eso uso [] dos veces\n",
        "  #puede verse comparando df['discount_price'].shape y df[['discount_price']].shape\n",
        "  df['discount_price'] = imp.fit_transform(df[['discount_price']])\n",
        "elif (discount_price_imputer == 'bfill'):\n",
        "  df['discount_price'] = df.discount_price.fillna(method='bfill')"
      ],
      "metadata": {
        "id": "GA9Oyf1MHu-P"
      },
      "execution_count": null,
      "outputs": []
    },
    {
      "cell_type": "markdown",
      "source": [
        "###Imputar/preparar Instructores"
      ],
      "metadata": {
        "id": "Q2axBv2UE51x"
      }
    },
    {
      "cell_type": "markdown",
      "source": [
        "Preparo para analizar el texto luego"
      ],
      "metadata": {
        "id": "FulI1FWuY5tT"
      }
    },
    {
      "cell_type": "code",
      "source": [
        "df['instructors_copy'] = df['instructors']"
      ],
      "metadata": {
        "id": "8ARerq05t9t6"
      },
      "execution_count": null,
      "outputs": []
    },
    {
      "cell_type": "code",
      "source": [
        "df['instructors_copy'].fillna('None', inplace = True)\n",
        "regexp = RegexpTokenizer('\\w+')\n",
        "df[\"instructors_copy\"] = df[\"instructors_copy\"].apply(regexp.tokenize)"
      ],
      "metadata": {
        "id": "9VBG3lssE9eY"
      },
      "execution_count": null,
      "outputs": []
    },
    {
      "cell_type": "code",
      "source": [
        "df[\"instructors_copy\"] = df[\"instructors_copy\"].str.join(' ')"
      ],
      "metadata": {
        "id": "z3IkDGt3F6ix"
      },
      "execution_count": null,
      "outputs": []
    },
    {
      "cell_type": "code",
      "source": [
        "vectorizer = CountVectorizer(analyzer='word', ngram_range=(1, 1), strip_accents='ascii', lowercase = False)\n",
        "vectorized_data = vectorizer.fit_transform(df['instructors_copy'])"
      ],
      "metadata": {
        "id": "FWJdBkhwFh_z"
      },
      "execution_count": null,
      "outputs": []
    },
    {
      "cell_type": "code",
      "source": [
        "instructors_df = pd.DataFrame(vectorized_data.toarray(), columns=vectorizer.get_feature_names_out(), index = df.index)"
      ],
      "metadata": {
        "id": "FIHHxMiyFoR6"
      },
      "execution_count": null,
      "outputs": []
    },
    {
      "cell_type": "markdown",
      "source": [
        "###Imputar/preparar Captions"
      ],
      "metadata": {
        "id": "wkfmlFbyAVO8"
      }
    },
    {
      "cell_type": "markdown",
      "source": [
        "Hago copias de la columna para realizar dos análisis diferentes de Captions."
      ],
      "metadata": {
        "id": "tn-NilYTAwej"
      }
    },
    {
      "cell_type": "code",
      "source": [
        "df['captions1'] = df.captions\n",
        "df['captions2'] = df.captions"
      ],
      "metadata": {
        "id": "FYy8iFeQAsVc"
      },
      "execution_count": null,
      "outputs": []
    },
    {
      "cell_type": "markdown",
      "source": [
        "El primer análisis es sin separar lenguaje y localización"
      ],
      "metadata": {
        "id": "oa_kyLpcA9Lb"
      }
    },
    {
      "cell_type": "code",
      "source": [
        "df['captions1'].fillna('None', inplace = True)\n",
        "regexp = RegexpTokenizer('\\w+')\n",
        "df[\"captions1\"] = df[\"captions1\"].apply(regexp.tokenize)"
      ],
      "metadata": {
        "id": "abbUmpDAAm_z"
      },
      "execution_count": null,
      "outputs": []
    },
    {
      "cell_type": "code",
      "source": [
        "df[\"captions1\"] = df[\"captions1\"].str.join(' ')"
      ],
      "metadata": {
        "id": "JV4RNkuxJ12h"
      },
      "execution_count": null,
      "outputs": []
    },
    {
      "cell_type": "code",
      "source": [
        "vectorizer = CountVectorizer(analyzer='word', ngram_range=(1, 1), strip_accents='ascii', max_features=2000, lowercase = False)\n",
        "vectorized_data = vectorizer.fit_transform(df['captions1'])"
      ],
      "metadata": {
        "id": "3NF8Z6tSMiry"
      },
      "execution_count": null,
      "outputs": []
    },
    {
      "cell_type": "code",
      "source": [
        "captions_df = pd.DataFrame(vectorized_data.toarray(), columns=vectorizer.get_feature_names_out(), index = df.index)"
      ],
      "metadata": {
        "id": "bgmtfpwFMirz"
      },
      "execution_count": null,
      "outputs": []
    },
    {
      "cell_type": "markdown",
      "source": [
        "El segundo los separa (la expresión regular ignora guión bajo)"
      ],
      "metadata": {
        "id": "8VLBTx38BISR"
      }
    },
    {
      "cell_type": "code",
      "source": [
        "df['captions2'].fillna('None', inplace = True)\n",
        "regexp = RegexpTokenizer('[a-zA-Z0-9]+')\n",
        "df[\"captions2\"] = df[\"captions2\"].apply(regexp.tokenize)"
      ],
      "metadata": {
        "id": "UtYjoMmrKhyb"
      },
      "execution_count": null,
      "outputs": []
    },
    {
      "cell_type": "code",
      "source": [
        "df[\"captions2\"] = df[\"captions2\"].str.join(' ')"
      ],
      "metadata": {
        "id": "6TJDOsaMKhyc"
      },
      "execution_count": null,
      "outputs": []
    },
    {
      "cell_type": "code",
      "source": [
        "vectorizer = CountVectorizer(analyzer='word', ngram_range=(1, 1), strip_accents='ascii', max_features=2000, lowercase = False)\n",
        "vectorized_data = vectorizer.fit_transform(df['captions2'])"
      ],
      "metadata": {
        "id": "JWP06rA7MwTk"
      },
      "execution_count": null,
      "outputs": []
    },
    {
      "cell_type": "code",
      "source": [
        "captions2_df = pd.DataFrame(vectorized_data.toarray(), columns=vectorizer.get_feature_names_out(), index = df.index)"
      ],
      "metadata": {
        "id": "OW5BAVypMwTl"
      },
      "execution_count": null,
      "outputs": []
    },
    {
      "cell_type": "markdown",
      "source": [
        "###Imputar/preparar Titulares"
      ],
      "metadata": {
        "id": "Iz7U_1Or9wUi"
      }
    },
    {
      "cell_type": "code",
      "source": [
        "df['headline_copy'] = df.headline"
      ],
      "metadata": {
        "id": "9odMOMgp9732"
      },
      "execution_count": null,
      "outputs": []
    },
    {
      "cell_type": "code",
      "source": [
        "df['headline_copy'].fillna('None', inplace = True)\n",
        "df['headline_copy'] = df.headline_copy.str.lower()"
      ],
      "metadata": {
        "id": "go9MB8V6AtHl"
      },
      "execution_count": null,
      "outputs": []
    },
    {
      "cell_type": "code",
      "source": [
        "regexp = RegexpTokenizer('\\w+')\n",
        "df[\"headline_copy\"] = df.headline_copy.apply(regexp.tokenize)"
      ],
      "metadata": {
        "id": "EYkpOGvvAxPw"
      },
      "execution_count": null,
      "outputs": []
    },
    {
      "cell_type": "code",
      "source": [
        "stopwords = nltk.corpus.stopwords.words(\"spanish\")\n",
        "stopwords.extend(['es', 'osea', 'sólo'])\n",
        "\n",
        "df[\"headline_copy\"] = df.headline_copy.apply(lambda texto: [token for token in texto if token not in stopwords])"
      ],
      "metadata": {
        "id": "p4aiDRUR973-"
      },
      "execution_count": null,
      "outputs": []
    },
    {
      "cell_type": "code",
      "source": [
        "df[\"headline_copy\"] = df.headline_copy.str.join(' ')"
      ],
      "metadata": {
        "id": "UoX20fge974B"
      },
      "execution_count": null,
      "outputs": []
    },
    {
      "cell_type": "code",
      "source": [
        "vectorizer = CountVectorizer(analyzer='word', ngram_range=(1, 2), min_df=0.005, max_df=0.7, strip_accents='ascii', max_features=2000, lowercase = False)\n",
        "vectorized_data = vectorizer.fit_transform(df.headline_copy)"
      ],
      "metadata": {
        "id": "I5ZH9SzG974D"
      },
      "execution_count": null,
      "outputs": []
    },
    {
      "cell_type": "code",
      "source": [
        "headline_df = pd.DataFrame(vectorized_data.toarray(), columns=vectorizer.get_feature_names_out(), index = df.index)"
      ],
      "metadata": {
        "id": "c9ni9eZz974G"
      },
      "execution_count": null,
      "outputs": []
    },
    {
      "cell_type": "markdown",
      "source": [
        "##Exploración datos procesados"
      ],
      "metadata": {
        "id": "asPFQuWpVBGn"
      }
    },
    {
      "cell_type": "markdown",
      "source": [
        "###Precios"
      ],
      "metadata": {
        "id": "q2v0dNTZFNLp"
      }
    },
    {
      "cell_type": "markdown",
      "source": [
        "Quizás sea posible recortar un poco entrenamiento para que tenga un rango similar al conjunto a predecir."
      ],
      "metadata": {
        "id": "GhFfSpcPZi9j"
      }
    },
    {
      "cell_type": "code",
      "source": [
        "df_train, df_test = unglue(df)"
      ],
      "metadata": {
        "id": "1xunb2fWVThY"
      },
      "execution_count": null,
      "outputs": []
    },
    {
      "cell_type": "code",
      "source": [
        "df_train.list_price.hist();"
      ],
      "metadata": {
        "colab": {
          "base_uri": "https://localhost:8080/",
          "height": 265
        },
        "id": "Fd0-Y0OUVsH6",
        "outputId": "af6ba337-7c84-474c-c0d5-4f519651a7e9"
      },
      "execution_count": null,
      "outputs": [
        {
          "output_type": "display_data",
          "data": {
            "text/plain": [
              "<Figure size 432x288 with 1 Axes>"
            ],
            "image/png": "[encoded data removed]"
          },
          "metadata": {
            "needs_background": "light"
          }
        }
      ]
    },
    {
      "cell_type": "code",
      "source": [
        "df_train.loc[(df_train.list_price > 95),'list_price'].count()"
      ],
      "metadata": {
        "colab": {
          "base_uri": "https://localhost:8080/"
        },
        "id": "Nk-mPVKCxLj7",
        "outputId": "a2103e8d-e9e5-4c64-9669-c7e374188355"
      },
      "execution_count": null,
      "outputs": [
        {
          "output_type": "execute_result",
          "data": {
            "text/plain": [
              "500"
            ]
          },
          "metadata": {},
          "execution_count": 133
        }
      ]
    },
    {
      "cell_type": "code",
      "source": [
        "df_test.list_price.hist();"
      ],
      "metadata": {
        "colab": {
          "base_uri": "https://localhost:8080/",
          "height": 266
        },
        "id": "lpAW-SgtVzIa",
        "outputId": "8efa0181-e90e-41a3-9a91-8c3a789f7dd4"
      },
      "execution_count": null,
      "outputs": [
        {
          "output_type": "display_data",
          "data": {
            "text/plain": [
              "<Figure size 432x288 with 1 Axes>"
            ],
            "image/png": "[encoded data removed]"
          },
          "metadata": {
            "needs_background": "light"
          }
        }
      ]
    },
    {
      "cell_type": "code",
      "source": [
        "df_test.list_price.max()"
      ],
      "metadata": {
        "colab": {
          "base_uri": "https://localhost:8080/"
        },
        "id": "H0r8I_pJxZjK",
        "outputId": "30fe1fbf-fd69-4588-b688-32440113210d"
      },
      "execution_count": null,
      "outputs": [
        {
          "output_type": "execute_result",
          "data": {
            "text/plain": [
              "94.99"
            ]
          },
          "metadata": {},
          "execution_count": 135
        }
      ]
    },
    {
      "cell_type": "code",
      "source": [
        "df_train.discount_price.hist();"
      ],
      "metadata": {
        "colab": {
          "base_uri": "https://localhost:8080/",
          "height": 265
        },
        "id": "i3ak1t2LWRjC",
        "outputId": "40669e61-4981-4fa2-c824-4622b6ab3016"
      },
      "execution_count": null,
      "outputs": [
        {
          "output_type": "display_data",
          "data": {
            "text/plain": [
              "<Figure size 432x288 with 1 Axes>"
            ],
            "image/png": "[encoded data removed]"
          },
          "metadata": {
            "needs_background": "light"
          }
        }
      ]
    },
    {
      "cell_type": "code",
      "source": [
        "df_test.discount_price.hist();"
      ],
      "metadata": {
        "colab": {
          "base_uri": "https://localhost:8080/",
          "height": 265
        },
        "id": "RlUbTv76WWsb",
        "outputId": "88fb5c5d-bfc6-4537-e3ea-c2e53261bfb9"
      },
      "execution_count": null,
      "outputs": [
        {
          "output_type": "display_data",
          "data": {
            "text/plain": [
              "<Figure size 432x288 with 1 Axes>"
            ],
            "image/png": "[encoded data removed]"
          },
          "metadata": {
            "needs_background": "light"
          }
        }
      ]
    },
    {
      "cell_type": "code",
      "source": [
        "ax = df.loc[df['bestseller'] == 'no','list_price'].hist(bins = 40)\n",
        "df.loc[df['bestseller'] == 'si','list_price'].hist(bins = 40, ax = ax);"
      ],
      "metadata": {
        "colab": {
          "base_uri": "https://localhost:8080/",
          "height": 265
        },
        "id": "KuVpsMBLDQn7",
        "outputId": "bfb2776f-1814-4911-df67-19f9d7d839ee"
      },
      "execution_count": null,
      "outputs": [
        {
          "output_type": "display_data",
          "data": {
            "text/plain": [
              "<Figure size 432x288 with 1 Axes>"
            ],
            "image/png": "[encoded data removed]"
          },
          "metadata": {
            "needs_background": "light"
          }
        }
      ]
    },
    {
      "cell_type": "code",
      "source": [
        "ax = df.loc[df['bestseller'] == 'no','discount_price'].hist(bins = 40)\n",
        "df.loc[df['bestseller'] == 'si','discount_price'].hist(bins = 40, ax = ax);"
      ],
      "metadata": {
        "colab": {
          "base_uri": "https://localhost:8080/",
          "height": 265
        },
        "id": "vbQLhLTtDnh3",
        "outputId": "87000388-7542-4be4-bc97-3d35bbe1a6d7"
      },
      "execution_count": null,
      "outputs": [
        {
          "output_type": "display_data",
          "data": {
            "text/plain": [
              "<Figure size 432x288 with 1 Axes>"
            ],
            "image/png": "[encoded data removed]"
          },
          "metadata": {
            "needs_background": "light"
          }
        }
      ]
    },
    {
      "cell_type": "code",
      "source": [
        "df[['discount_price','list_price']].corr()"
      ],
      "metadata": {
        "colab": {
          "base_uri": "https://localhost:8080/",
          "height": 112
        },
        "id": "THqno5wuxjuT",
        "outputId": "0b021914-fa6f-4058-a229-ccc7ee833cd7"
      },
      "execution_count": null,
      "outputs": [
        {
          "output_type": "execute_result",
          "data": {
            "text/plain": [
              "                discount_price  list_price\n",
              "discount_price         1.00000     0.16415\n",
              "list_price             0.16415     1.00000"
            ],
            "text/html": [
              "\n",
              "  <div id=\"df-45351be9-9a21-46b4-9403-4214bf1d27d8\">\n",
              "    <div class=\"colab-df-container\">\n",
              "      <div>\n",
              "<style scoped>\n",
              "    .dataframe tbody tr th:only-of-type {\n",
              "        vertical-align: middle;\n",
              "    }\n",
              "\n",
              "    .dataframe tbody tr th {\n",
              "        vertical-align: top;\n",
              "    }\n",
              "\n",
              "    .dataframe thead th {\n",
              "        text-align: right;\n",
              "    }\n",
              "</style>\n",
              "<table border=\"1\" class=\"dataframe\">\n",
              "  <thead>\n",
              "    <tr style=\"text-align: right;\">\n",
              "      <th></th>\n",
              "      <th>discount_price</th>\n",
              "      <th>list_price</th>\n",
              "    </tr>\n",
              "  </thead>\n",
              "  <tbody>\n",
              "    <tr>\n",
              "      <th>discount_price</th>\n",
              "      <td>1.00000</td>\n",
              "      <td>0.16415</td>\n",
              "    </tr>\n",
              "    <tr>\n",
              "      <th>list_price</th>\n",
              "      <td>0.16415</td>\n",
              "      <td>1.00000</td>\n",
              "    </tr>\n",
              "  </tbody>\n",
              "</table>\n",
              "</div>\n",
              "      <button class=\"colab-df-convert\" onclick=\"convertToInteractive('df-45351be9-9a21-46b4-9403-4214bf1d27d8')\"\n",
              "              title=\"Convert this dataframe to an interactive table.\"\n",
              "              style=\"display:none;\">\n",
              "        \n",
              "  <svg xmlns=\"http://www.w3.org/2000/svg\" height=\"24px\"viewBox=\"0 0 24 24\"\n",
              "       width=\"24px\">\n",
              "    <path d=\"M0 0h24v24H0V0z\" fill=\"none\"/>\n",
              "    <path d=\"M18.56 5.44l.94 2.06.94-2.06 2.06-.94-2.06-.94-.94-2.06-.94 2.06-2.06.94zm-11 1L8.5 8.5l.94-2.06 2.06-.94-2.06-.94L8.5 2.5l-.94 2.06-2.06.94zm10 10l.94 2.06.94-2.06 2.06-.94-2.06-.94-.94-2.06-.94 2.06-2.06.94z\"/><path d=\"M17.41 7.96l-1.37-1.37c-.4-.4-.92-.59-1.43-.59-.52 0-1.04.2-1.43.59L10.3 9.45l-7.72 7.72c-.78.78-.78 2.05 0 2.83L4 21.41c.39.39.9.59 1.41.59.51 0 1.02-.2 1.41-.59l7.78-7.78 2.81-2.81c.8-.78.8-2.07 0-2.86zM5.41 20L4 18.59l7.72-7.72 1.47 1.35L5.41 20z\"/>\n",
              "  </svg>\n",
              "      </button>\n",
              "      \n",
              "  <style>\n",
              "    .colab-df-container {\n",
              "      display:flex;\n",
              "      flex-wrap:wrap;\n",
              "      gap: 12px;\n",
              "    }\n",
              "\n",
              "    .colab-df-convert {\n",
              "      background-color: #E8F0FE;\n",
              "      border: none;\n",
              "      border-radius: 50%;\n",
              "      cursor: pointer;\n",
              "      display: none;\n",
              "      fill: #1967D2;\n",
              "      height: 32px;\n",
              "      padding: 0 0 0 0;\n",
              "      width: 32px;\n",
              "    }\n",
              "\n",
              "    .colab-df-convert:hover {\n",
              "      background-color: #E2EBFA;\n",
              "      box-shadow: 0px 1px 2px rgba(60, 64, 67, 0.3), 0px 1px 3px 1px rgba(60, 64, 67, 0.15);\n",
              "      fill: #174EA6;\n",
              "    }\n",
              "\n",
              "    [theme=dark] .colab-df-convert {\n",
              "      background-color: #3B4455;\n",
              "      fill: #D2E3FC;\n",
              "    }\n",
              "\n",
              "    [theme=dark] .colab-df-convert:hover {\n",
              "      background-color: #434B5C;\n",
              "      box-shadow: 0px 1px 3px 1px rgba(0, 0, 0, 0.15);\n",
              "      filter: drop-shadow(0px 1px 2px rgba(0, 0, 0, 0.3));\n",
              "      fill: #FFFFFF;\n",
              "    }\n",
              "  </style>\n",
              "\n",
              "      <script>\n",
              "        const buttonEl =\n",
              "          document.querySelector('#df-45351be9-9a21-46b4-9403-4214bf1d27d8 button.colab-df-convert');\n",
              "        buttonEl.style.display =\n",
              "          google.colab.kernel.accessAllowed ? 'block' : 'none';\n",
              "\n",
              "        async function convertToInteractive(key) {\n",
              "          const element = document.querySelector('#df-45351be9-9a21-46b4-9403-4214bf1d27d8');\n",
              "          const dataTable =\n",
              "            await google.colab.kernel.invokeFunction('convertToInteractive',\n",
              "                                                     [key], {});\n",
              "          if (!dataTable) return;\n",
              "\n",
              "          const docLinkHtml = 'Like what you see? Visit the ' +\n",
              "            '<a target=\"_blank\" href=https://colab.research.google.com/notebooks/data_table.ipynb>data table notebook</a>'\n",
              "            + ' to learn more about interactive tables.';\n",
              "          element.innerHTML = '';\n",
              "          dataTable['output_type'] = 'display_data';\n",
              "          await google.colab.output.renderOutput(dataTable, element);\n",
              "          const docLink = document.createElement('div');\n",
              "          docLink.innerHTML = docLinkHtml;\n",
              "          element.appendChild(docLink);\n",
              "        }\n",
              "      </script>\n",
              "    </div>\n",
              "  </div>\n",
              "  "
            ]
          },
          "metadata": {},
          "execution_count": 140
        }
      ]
    },
    {
      "cell_type": "markdown",
      "source": [
        "###Instructores"
      ],
      "metadata": {
        "id": "BwkK_GCiFWjS"
      }
    },
    {
      "cell_type": "markdown",
      "source": [
        "Instructores más frecuentes, explorar relación con bestsellers también."
      ],
      "metadata": {
        "id": "_QOaV5fFGtWR"
      }
    },
    {
      "cell_type": "code",
      "source": [
        "instructors_df.sum().sort_values(ascending = False).head(25)"
      ],
      "metadata": {
        "id": "DcYbgTMSGKYh",
        "colab": {
          "base_uri": "https://localhost:8080/"
        },
        "outputId": "4d472bea-d41f-45e9-ab5e-cbea72e4c0dc"
      },
      "execution_count": null,
      "outputs": [
        {
          "output_type": "execute_result",
          "data": {
            "text/plain": [
              "3311510      97\n",
              "21023336     81\n",
              "44966978     74\n",
              "115981390    70\n",
              "31832740     69\n",
              "171706       58\n",
              "15958398     43\n",
              "18013970     38\n",
              "7454352      37\n",
              "16454728     35\n",
              "11005030     35\n",
              "114656560    34\n",
              "16661812     34\n",
              "48969372     33\n",
              "25193680     32\n",
              "38434392     31\n",
              "82598714     30\n",
              "23191974     28\n",
              "20757364     28\n",
              "5989196      28\n",
              "26468880     27\n",
              "11767934     27\n",
              "24055080     26\n",
              "9350182      26\n",
              "83016206     26\n",
              "dtype: int64"
            ]
          },
          "metadata": {},
          "execution_count": 141
        }
      ]
    },
    {
      "cell_type": "code",
      "source": [
        "#df_train, df_test = unglue(df)"
      ],
      "metadata": {
        "id": "X5jTxVI0H8n5"
      },
      "execution_count": null,
      "outputs": []
    },
    {
      "cell_type": "markdown",
      "source": [
        "Se analiza solo df_train"
      ],
      "metadata": {
        "id": "AIDGO_qiLSwa"
      }
    },
    {
      "cell_type": "code",
      "source": [
        "#vectorizer = CountVectorizer(analyzer='word', ngram_range=(1, 1), strip_accents='ascii', max_features=2000, lowercase = False)\n",
        "#vectorized_data = vectorizer.fit_transform(df_train.instructors_copy)"
      ],
      "metadata": {
        "id": "KkBGvDoHHqZC"
      },
      "execution_count": null,
      "outputs": []
    },
    {
      "cell_type": "code",
      "source": [
        "#instructors_df_train = pd.DataFrame(vectorized_data.toarray(), columns=vectorizer.get_feature_names_out(), index = df_train.index)"
      ],
      "metadata": {
        "id": "sbeA5uEnIZIR"
      },
      "execution_count": null,
      "outputs": []
    },
    {
      "cell_type": "code",
      "source": [
        "instructors_df_train = instructors_df.loc[df_train.index]"
      ],
      "metadata": {
        "id": "NKwKBcr2oU-J"
      },
      "execution_count": null,
      "outputs": []
    },
    {
      "cell_type": "markdown",
      "source": [
        "Lista de instructores con más bestsellers para df_train. El truco para hacer esto es que los índices de instructors_df_train son los mismos que df_train."
      ],
      "metadata": {
        "id": "NHFQVilaJOth"
      }
    },
    {
      "cell_type": "code",
      "source": [
        "instructors_df_train.loc[df_train.bestseller == 'si'].sum().sort_values(ascending = False).head(25)"
      ],
      "metadata": {
        "colab": {
          "base_uri": "https://localhost:8080/"
        },
        "id": "jx6JF5GeIjNR",
        "outputId": "7bb6f56f-099c-4bf0-8d03-c5fb3bf10aa7"
      },
      "execution_count": null,
      "outputs": [
        {
          "output_type": "execute_result",
          "data": {
            "text/plain": [
              "21023336     62\n",
              "44966978     57\n",
              "115981390    55\n",
              "3311510      55\n",
              "15958398     38\n",
              "16661812     31\n",
              "11767934     26\n",
              "11005030     26\n",
              "114656560    25\n",
              "16080882     25\n",
              "24645730     20\n",
              "68383616     20\n",
              "171706       19\n",
              "82598714     19\n",
              "19669210     16\n",
              "23191974     15\n",
              "1435594      15\n",
              "4748648      15\n",
              "20757364     14\n",
              "81115304     13\n",
              "317821       13\n",
              "62411504     13\n",
              "38066470     13\n",
              "19701574     13\n",
              "21221400     11\n",
              "dtype: int64"
            ]
          },
          "metadata": {},
          "execution_count": 146
        }
      ]
    },
    {
      "cell_type": "code",
      "source": [
        "instructors_df_train.loc[df_train.bestseller == 'si'].sum().sort_values(ascending = False).hist(bins = 20, range = (1,63));"
      ],
      "metadata": {
        "colab": {
          "base_uri": "https://localhost:8080/",
          "height": 265
        },
        "id": "tpocZI5HpSEd",
        "outputId": "a320fcc9-23d2-42ac-d4a7-7157f73eb708"
      },
      "execution_count": null,
      "outputs": [
        {
          "output_type": "display_data",
          "data": {
            "text/plain": [
              "<Figure size 432x288 with 1 Axes>"
            ],
            "image/png": "[encoded data removed]"
          },
          "metadata": {
            "needs_background": "light"
          }
        }
      ]
    },
    {
      "cell_type": "code",
      "source": [
        "instructors_test = sk.feature_selection.SelectKBest(chi2, k=10).fit(instructors_df_train, df_train.bestseller) \n",
        "instructors_test.get_feature_names_out()#el orden dado no es por score, ver tabla de scores/p-valores"
      ],
      "metadata": {
        "colab": {
          "base_uri": "https://localhost:8080/"
        },
        "id": "qblKMPoMp39N",
        "outputId": "f4380f20-4b9f-4d7b-8535-4d4fbb51d5bd"
      },
      "execution_count": null,
      "outputs": [
        {
          "output_type": "execute_result",
          "data": {
            "text/plain": [
              "array(['11005030', '115981390', '11767934', '15958398', '16080882',\n",
              "       '16661812', '21023336', '3311510', '44966978', '68383616'],\n",
              "      dtype=object)"
            ]
          },
          "metadata": {},
          "execution_count": 148
        }
      ]
    },
    {
      "cell_type": "markdown",
      "source": [
        "Scores y p-valores. Muchos instructores asociados a bestsellers (aunque probablemente no generen mucha ganancia de información como dummies)"
      ],
      "metadata": {
        "id": "psWi4EHsqVPy"
      }
    },
    {
      "cell_type": "code",
      "source": [
        "instructors_test_df = pd.DataFrame({'Scores': instructors_test.scores_,'p-values':instructors_test.pvalues_},index = instructors_test.feature_names_in_)\n",
        "instructors_test_df.sort_values(by = 'Scores', ascending = False).head(10)"
      ],
      "metadata": {
        "colab": {
          "base_uri": "https://localhost:8080/",
          "height": 363
        },
        "id": "iPTza4KeqJM9",
        "outputId": "5698022c-4ad5-40e7-e1d5-0065c21ad881"
      },
      "execution_count": null,
      "outputs": [
        {
          "output_type": "execute_result",
          "data": {
            "text/plain": [
              "               Scores      p-values\n",
              "21023336   162.799389  2.767245e-37\n",
              "44966978   154.804389  1.545044e-35\n",
              "115981390  150.950356  1.074580e-34\n",
              "15958398   126.305236  2.636471e-29\n",
              "16661812   108.219891  2.405534e-25\n",
              "11767934   104.520473  1.555775e-24\n",
              "16080882   100.500455  1.183698e-23\n",
              "3311510     85.879613  1.912302e-20\n",
              "68383616    69.500105  7.641046e-17\n",
              "11005030    68.160371  1.507246e-16"
            ],
            "text/html": [
              "\n",
              "  <div id=\"df-6a73ba99-d087-474b-8827-b0634c8d5a06\">\n",
              "    <div class=\"colab-df-container\">\n",
              "      <div>\n",
              "<style scoped>\n",
              "    .dataframe tbody tr th:only-of-type {\n",
              "        vertical-align: middle;\n",
              "    }\n",
              "\n",
              "    .dataframe tbody tr th {\n",
              "        vertical-align: top;\n",
              "    }\n",
              "\n",
              "    .dataframe thead th {\n",
              "        text-align: right;\n",
              "    }\n",
              "</style>\n",
              "<table border=\"1\" class=\"dataframe\">\n",
              "  <thead>\n",
              "    <tr style=\"text-align: right;\">\n",
              "      <th></th>\n",
              "      <th>Scores</th>\n",
              "      <th>p-values</th>\n",
              "    </tr>\n",
              "  </thead>\n",
              "  <tbody>\n",
              "    <tr>\n",
              "      <th>21023336</th>\n",
              "      <td>162.799389</td>\n",
              "      <td>2.767245e-37</td>\n",
              "    </tr>\n",
              "    <tr>\n",
              "      <th>44966978</th>\n",
              "      <td>154.804389</td>\n",
              "      <td>1.545044e-35</td>\n",
              "    </tr>\n",
              "    <tr>\n",
              "      <th>115981390</th>\n",
              "      <td>150.950356</td>\n",
              "      <td>1.074580e-34</td>\n",
              "    </tr>\n",
              "    <tr>\n",
              "      <th>15958398</th>\n",
              "      <td>126.305236</td>\n",
              "      <td>2.636471e-29</td>\n",
              "    </tr>\n",
              "    <tr>\n",
              "      <th>16661812</th>\n",
              "      <td>108.219891</td>\n",
              "      <td>2.405534e-25</td>\n",
              "    </tr>\n",
              "    <tr>\n",
              "      <th>11767934</th>\n",
              "      <td>104.520473</td>\n",
              "      <td>1.555775e-24</td>\n",
              "    </tr>\n",
              "    <tr>\n",
              "      <th>16080882</th>\n",
              "      <td>100.500455</td>\n",
              "      <td>1.183698e-23</td>\n",
              "    </tr>\n",
              "    <tr>\n",
              "      <th>3311510</th>\n",
              "      <td>85.879613</td>\n",
              "      <td>1.912302e-20</td>\n",
              "    </tr>\n",
              "    <tr>\n",
              "      <th>68383616</th>\n",
              "      <td>69.500105</td>\n",
              "      <td>7.641046e-17</td>\n",
              "    </tr>\n",
              "    <tr>\n",
              "      <th>11005030</th>\n",
              "      <td>68.160371</td>\n",
              "      <td>1.507246e-16</td>\n",
              "    </tr>\n",
              "  </tbody>\n",
              "</table>\n",
              "</div>\n",
              "      <button class=\"colab-df-convert\" onclick=\"convertToInteractive('df-6a73ba99-d087-474b-8827-b0634c8d5a06')\"\n",
              "              title=\"Convert this dataframe to an interactive table.\"\n",
              "              style=\"display:none;\">\n",
              "        \n",
              "  <svg xmlns=\"http://www.w3.org/2000/svg\" height=\"24px\"viewBox=\"0 0 24 24\"\n",
              "       width=\"24px\">\n",
              "    <path d=\"M0 0h24v24H0V0z\" fill=\"none\"/>\n",
              "    <path d=\"M18.56 5.44l.94 2.06.94-2.06 2.06-.94-2.06-.94-.94-2.06-.94 2.06-2.06.94zm-11 1L8.5 8.5l.94-2.06 2.06-.94-2.06-.94L8.5 2.5l-.94 2.06-2.06.94zm10 10l.94 2.06.94-2.06 2.06-.94-2.06-.94-.94-2.06-.94 2.06-2.06.94z\"/><path d=\"M17.41 7.96l-1.37-1.37c-.4-.4-.92-.59-1.43-.59-.52 0-1.04.2-1.43.59L10.3 9.45l-7.72 7.72c-.78.78-.78 2.05 0 2.83L4 21.41c.39.39.9.59 1.41.59.51 0 1.02-.2 1.41-.59l7.78-7.78 2.81-2.81c.8-.78.8-2.07 0-2.86zM5.41 20L4 18.59l7.72-7.72 1.47 1.35L5.41 20z\"/>\n",
              "  </svg>\n",
              "      </button>\n",
              "      \n",
              "  <style>\n",
              "    .colab-df-container {\n",
              "      display:flex;\n",
              "      flex-wrap:wrap;\n",
              "      gap: 12px;\n",
              "    }\n",
              "\n",
              "    .colab-df-convert {\n",
              "      background-color: #E8F0FE;\n",
              "      border: none;\n",
              "      border-radius: 50%;\n",
              "      cursor: pointer;\n",
              "      display: none;\n",
              "      fill: #1967D2;\n",
              "      height: 32px;\n",
              "      padding: 0 0 0 0;\n",
              "      width: 32px;\n",
              "    }\n",
              "\n",
              "    .colab-df-convert:hover {\n",
              "      background-color: #E2EBFA;\n",
              "      box-shadow: 0px 1px 2px rgba(60, 64, 67, 0.3), 0px 1px 3px 1px rgba(60, 64, 67, 0.15);\n",
              "      fill: #174EA6;\n",
              "    }\n",
              "\n",
              "    [theme=dark] .colab-df-convert {\n",
              "      background-color: #3B4455;\n",
              "      fill: #D2E3FC;\n",
              "    }\n",
              "\n",
              "    [theme=dark] .colab-df-convert:hover {\n",
              "      background-color: #434B5C;\n",
              "      box-shadow: 0px 1px 3px 1px rgba(0, 0, 0, 0.15);\n",
              "      filter: drop-shadow(0px 1px 2px rgba(0, 0, 0, 0.3));\n",
              "      fill: #FFFFFF;\n",
              "    }\n",
              "  </style>\n",
              "\n",
              "      <script>\n",
              "        const buttonEl =\n",
              "          document.querySelector('#df-6a73ba99-d087-474b-8827-b0634c8d5a06 button.colab-df-convert');\n",
              "        buttonEl.style.display =\n",
              "          google.colab.kernel.accessAllowed ? 'block' : 'none';\n",
              "\n",
              "        async function convertToInteractive(key) {\n",
              "          const element = document.querySelector('#df-6a73ba99-d087-474b-8827-b0634c8d5a06');\n",
              "          const dataTable =\n",
              "            await google.colab.kernel.invokeFunction('convertToInteractive',\n",
              "                                                     [key], {});\n",
              "          if (!dataTable) return;\n",
              "\n",
              "          const docLinkHtml = 'Like what you see? Visit the ' +\n",
              "            '<a target=\"_blank\" href=https://colab.research.google.com/notebooks/data_table.ipynb>data table notebook</a>'\n",
              "            + ' to learn more about interactive tables.';\n",
              "          element.innerHTML = '';\n",
              "          dataTable['output_type'] = 'display_data';\n",
              "          await google.colab.output.renderOutput(dataTable, element);\n",
              "          const docLink = document.createElement('div');\n",
              "          docLink.innerHTML = docLinkHtml;\n",
              "          element.appendChild(docLink);\n",
              "        }\n",
              "      </script>\n",
              "    </div>\n",
              "  </div>\n",
              "  "
            ]
          },
          "metadata": {},
          "execution_count": 149
        }
      ]
    },
    {
      "cell_type": "code",
      "source": [
        "#instructors_test_df['p-values'].sort_values().to_csv('p-valores instructores.csv')"
      ],
      "metadata": {
        "id": "BorquU-eRQH5"
      },
      "execution_count": null,
      "outputs": []
    },
    {
      "cell_type": "markdown",
      "source": [
        "Probabilidad de ser bestseller para los instructores."
      ],
      "metadata": {
        "id": "dD2-qIVZZ5YF"
      }
    },
    {
      "cell_type": "code",
      "source": [
        "n_bestseller = instructors_df_train.loc[df_train.bestseller == 'si'].sum()  \n",
        "n_courses = instructors_df_train[list(n_bestseller.index)].sum() #los índices de n_bestseller son instructores que a su vez son las columnas de la bolsa de palabras\n",
        "instructor_bestseller_likelihood = n_bestseller / n_courses\n",
        "instructor_bestseller_likelihood"
      ],
      "metadata": {
        "colab": {
          "base_uri": "https://localhost:8080/"
        },
        "id": "_INxrnyc1RLW",
        "outputId": "5bde2fe2-def1-4243-e2b8-9a142a69f90f"
      },
      "execution_count": null,
      "outputs": [
        {
          "output_type": "execute_result",
          "data": {
            "text/plain": [
              "100001456    0.000000\n",
              "100012850    0.000000\n",
              "100020762    0.000000\n",
              "100085110    0.000000\n",
              "100089936    0.000000\n",
              "               ...   \n",
              "99877810     0.500000\n",
              "99941110     0.000000\n",
              "99966694     0.333333\n",
              "99969530     1.000000\n",
              "None         1.000000\n",
              "Length: 5459, dtype: float64"
            ]
          },
          "metadata": {},
          "execution_count": 151
        }
      ]
    },
    {
      "cell_type": "code",
      "source": [
        "n_courses['None']"
      ],
      "metadata": {
        "colab": {
          "base_uri": "https://localhost:8080/"
        },
        "id": "zsQbUt-L8Muu",
        "outputId": "ccb619b0-5928-41bd-eaac-70c2d3efb334"
      },
      "execution_count": null,
      "outputs": [
        {
          "output_type": "execute_result",
          "data": {
            "text/plain": [
              "1"
            ]
          },
          "metadata": {},
          "execution_count": 152
        }
      ]
    },
    {
      "cell_type": "code",
      "source": [
        "(instructor_bestseller_likelihood > 0).sum()"
      ],
      "metadata": {
        "colab": {
          "base_uri": "https://localhost:8080/"
        },
        "id": "DlIX-XwY76cQ",
        "outputId": "bfe763c0-c882-433f-f01b-cb5e0e0176f0"
      },
      "execution_count": null,
      "outputs": [
        {
          "output_type": "execute_result",
          "data": {
            "text/plain": [
              "1165"
            ]
          },
          "metadata": {},
          "execution_count": 153
        }
      ]
    },
    {
      "cell_type": "code",
      "source": [
        "(n_courses > 1).sum()"
      ],
      "metadata": {
        "colab": {
          "base_uri": "https://localhost:8080/"
        },
        "id": "TolX8yvf8XIl",
        "outputId": "6aeffff2-4cf1-4163-adc3-9c91a3802443"
      },
      "execution_count": null,
      "outputs": [
        {
          "output_type": "execute_result",
          "data": {
            "text/plain": [
              "1933"
            ]
          },
          "metadata": {},
          "execution_count": 154
        }
      ]
    },
    {
      "cell_type": "code",
      "source": [
        "((instructor_bestseller_likelihood > 0) & (n_courses > 1)).sum()"
      ],
      "metadata": {
        "colab": {
          "base_uri": "https://localhost:8080/"
        },
        "id": "yEOCxPFZ8iPt",
        "outputId": "e18b4f0f-59fd-40e8-f395-d16669a0f176"
      },
      "execution_count": null,
      "outputs": [
        {
          "output_type": "execute_result",
          "data": {
            "text/plain": [
              "773"
            ]
          },
          "metadata": {},
          "execution_count": 155
        }
      ]
    },
    {
      "cell_type": "code",
      "source": [
        "instructor_bestseller_likelihood[((instructor_bestseller_likelihood > 0) & (n_courses > 1))].mean()"
      ],
      "metadata": {
        "colab": {
          "base_uri": "https://localhost:8080/"
        },
        "id": "b98tlZe286vX",
        "outputId": "f1e244ff-b9fd-45ec-d544-063b3435d317"
      },
      "execution_count": null,
      "outputs": [
        {
          "output_type": "execute_result",
          "data": {
            "text/plain": [
              "0.54056750420485"
            ]
          },
          "metadata": {},
          "execution_count": 156
        }
      ]
    },
    {
      "cell_type": "code",
      "source": [
        "((instructor_bestseller_likelihood == 1) & (n_courses == 1)).sum()"
      ],
      "metadata": {
        "colab": {
          "base_uri": "https://localhost:8080/"
        },
        "id": "zX-vQ8BIsUAX",
        "outputId": "10f42ea9-d289-4966-e201-9e4bb34b0566"
      },
      "execution_count": null,
      "outputs": [
        {
          "output_type": "execute_result",
          "data": {
            "text/plain": [
              "392"
            ]
          },
          "metadata": {},
          "execution_count": 157
        }
      ]
    },
    {
      "cell_type": "code",
      "source": [
        "instructor_bestseller_likelihood.hist(bins = 40);"
      ],
      "metadata": {
        "colab": {
          "base_uri": "https://localhost:8080/",
          "height": 265
        },
        "id": "CP23xjV2tV7M",
        "outputId": "e093ccf3-307d-4e91-e83e-4b21715d92bf"
      },
      "execution_count": null,
      "outputs": [
        {
          "output_type": "display_data",
          "data": {
            "text/plain": [
              "<Figure size 432x288 with 1 Axes>"
            ],
            "image/png": "[encoded data removed]"
          },
          "metadata": {
            "needs_background": "light"
          }
        }
      ]
    },
    {
      "cell_type": "code",
      "source": [
        "instructor_bestseller_likelihood.hist(bins = 40, range = (0.01,0.99));"
      ],
      "metadata": {
        "colab": {
          "base_uri": "https://localhost:8080/",
          "height": 269
        },
        "id": "VD_AQtjBr5pj",
        "outputId": "f4b4b9f2-9da5-42c4-f7f7-7ee58abeb746"
      },
      "execution_count": null,
      "outputs": [
        {
          "output_type": "display_data",
          "data": {
            "text/plain": [
              "<Figure size 432x288 with 1 Axes>"
            ],
            "image/png": "[encoded data removed]"
          },
          "metadata": {
            "needs_background": "light"
          }
        }
      ]
    },
    {
      "cell_type": "code",
      "source": [
        "instructor_bestseller_likelihood.loc[(n_courses > 1)].hist(bins = 40, range = (0.01,0.99));"
      ],
      "metadata": {
        "colab": {
          "base_uri": "https://localhost:8080/",
          "height": 269
        },
        "id": "-di4dsZNt3VA",
        "outputId": "5f7a3057-1969-4e89-949d-ed667db522df"
      },
      "execution_count": null,
      "outputs": [
        {
          "output_type": "display_data",
          "data": {
            "text/plain": [
              "<Figure size 432x288 with 1 Axes>"
            ],
            "image/png": "[encoded data removed]"
          },
          "metadata": {
            "needs_background": "light"
          }
        }
      ]
    },
    {
      "cell_type": "code",
      "source": [
        "#prueba de concepto de asignar a cada curso la probabilidad del instructor con mayor probabilidad\n",
        "#(instructors_df_train*instructor_bestseller_likelihood).max(axis = 'columns')"
      ],
      "metadata": {
        "id": "GctHOC9-6MLh"
      },
      "execution_count": null,
      "outputs": []
    },
    {
      "cell_type": "markdown",
      "source": [
        "###Captions"
      ],
      "metadata": {
        "id": "Kb-N5MIcUrXx"
      }
    },
    {
      "cell_type": "markdown",
      "source": [
        "El primer análisis es sin separar lenguaje y localización"
      ],
      "metadata": {
        "id": "ZsB6nmPIU4JU"
      }
    },
    {
      "cell_type": "code",
      "source": [
        "captions_df.sum().sort_values(ascending = False).head(25)"
      ],
      "metadata": {
        "colab": {
          "base_uri": "https://localhost:8080/"
        },
        "id": "08a1YW9eU0Mf",
        "outputId": "cc76c138-78c2-463a-d082-67ede933dd01"
      },
      "execution_count": null,
      "outputs": [
        {
          "output_type": "execute_result",
          "data": {
            "text/plain": [
              "es_ES    5450\n",
              "es_LA    2010\n",
              "None     1986\n",
              "es_MX    1221\n",
              "es_CO     393\n",
              "es_VE     130\n",
              "es_CL      84\n",
              "en_US      74\n",
              "en_GB      23\n",
              "pt_BR      19\n",
              "it_IT      11\n",
              "de_DE       9\n",
              "fr_FR       6\n",
              "en_IN       3\n",
              "ru_RU       3\n",
              "pt_PT       3\n",
              "ja_JP       3\n",
              "ko_KR       2\n",
              "zh_CN       2\n",
              "nl_NL       2\n",
              "pl_PL       2\n",
              "ar_AR       2\n",
              "el_GR       1\n",
              "fa_IR       1\n",
              "da_DK       1\n",
              "dtype: int64"
            ]
          },
          "metadata": {},
          "execution_count": 162
        }
      ]
    },
    {
      "cell_type": "code",
      "source": [
        "df_train, df_test = unglue(df)"
      ],
      "metadata": {
        "id": "YKrIil7-VNu3"
      },
      "execution_count": null,
      "outputs": []
    },
    {
      "cell_type": "code",
      "source": [
        "vectorizer = CountVectorizer(analyzer='word', ngram_range=(1, 1), strip_accents='ascii', max_features=2000, lowercase = False)\n",
        "vectorized_data = vectorizer.fit_transform(df_train.captions1)"
      ],
      "metadata": {
        "id": "dGoAo3ccVSOg"
      },
      "execution_count": null,
      "outputs": []
    },
    {
      "cell_type": "code",
      "source": [
        "captions_df_train = pd.DataFrame(vectorized_data.toarray(), columns=vectorizer.get_feature_names_out(), index = df_train.index)"
      ],
      "metadata": {
        "id": "jksK0zY2VSOg"
      },
      "execution_count": null,
      "outputs": []
    },
    {
      "cell_type": "markdown",
      "source": [
        "Parece que la mayoría de los bestsellers son de habla española o inglesa"
      ],
      "metadata": {
        "id": "WEV1uukfVSOh"
      }
    },
    {
      "cell_type": "code",
      "source": [
        "captions_df_train.loc[df_train.bestseller == 'si'].sum().sort_values(ascending = False).head(15)"
      ],
      "metadata": {
        "colab": {
          "base_uri": "https://localhost:8080/"
        },
        "outputId": "819880b5-1276-4e81-85d7-8a4ad3478a51",
        "id": "7pRIi3yeVSOh"
      },
      "execution_count": null,
      "outputs": [
        {
          "output_type": "execute_result",
          "data": {
            "text/plain": [
              "es_ES    1036\n",
              "es_LA     469\n",
              "None      347\n",
              "es_MX     228\n",
              "es_CO      77\n",
              "es_VE      27\n",
              "es_CL      13\n",
              "en_US       9\n",
              "en_GB       6\n",
              "it_IT       2\n",
              "pt_BR       1\n",
              "th_TH       0\n",
              "pt_PT       0\n",
              "pl_PL       0\n",
              "zh_CN       0\n",
              "dtype: int64"
            ]
          },
          "metadata": {},
          "execution_count": 166
        }
      ]
    },
    {
      "cell_type": "code",
      "source": [
        "cap_test = sk.feature_selection.SelectKBest(chi2, k=10).fit(captions_df_train, df_train.bestseller) \n",
        "cap_test.get_feature_names_out()#el orden dado no es por score, ver tabla de scores/p-valores"
      ],
      "metadata": {
        "colab": {
          "base_uri": "https://localhost:8080/"
        },
        "id": "6_-nRemkgzK9",
        "outputId": "392099e4-1bb8-4207-8ec4-0c9cd2048bda"
      },
      "execution_count": null,
      "outputs": [
        {
          "output_type": "execute_result",
          "data": {
            "text/plain": [
              "array(['None', 'de_DE', 'en_US', 'es_CL', 'es_ES', 'es_LA', 'fr_FR',\n",
              "       'pt_BR', 'pt_PT', 'ru_RU'], dtype=object)"
            ]
          },
          "metadata": {},
          "execution_count": 167
        }
      ]
    },
    {
      "cell_type": "markdown",
      "source": [
        "Viendo los p-valores, solo puedo rechazar la independencia para es_LA y None (!)"
      ],
      "metadata": {
        "id": "GJFUhCuknKll"
      }
    },
    {
      "cell_type": "code",
      "source": [
        "cap_test_df = pd.DataFrame({'Scores': cap_test.scores_,'p-values':cap_test.pvalues_},index = cap_test.feature_names_in_)\n",
        "cap_test_df.sort_values(by = 'Scores', ascending = False).head()"
      ],
      "metadata": {
        "colab": {
          "base_uri": "https://localhost:8080/",
          "height": 206
        },
        "id": "48lIGdvojz2W",
        "outputId": "dd0f96ea-8642-4904-808d-8b7bd646e3a2"
      },
      "execution_count": null,
      "outputs": [
        {
          "output_type": "execute_result",
          "data": {
            "text/plain": [
              "          Scores  p-values\n",
              "es_LA  18.763932  0.000015\n",
              "None    4.791232  0.028605\n",
              "pt_BR   2.328347  0.127037\n",
              "de_DE   2.238796  0.134586\n",
              "en_US   2.045504  0.152656"
            ],
            "text/html": [
              "\n",
              "  <div id=\"df-a3766517-1982-4312-9a43-81af90f02d98\">\n",
              "    <div class=\"colab-df-container\">\n",
              "      <div>\n",
              "<style scoped>\n",
              "    .dataframe tbody tr th:only-of-type {\n",
              "        vertical-align: middle;\n",
              "    }\n",
              "\n",
              "    .dataframe tbody tr th {\n",
              "        vertical-align: top;\n",
              "    }\n",
              "\n",
              "    .dataframe thead th {\n",
              "        text-align: right;\n",
              "    }\n",
              "</style>\n",
              "<table border=\"1\" class=\"dataframe\">\n",
              "  <thead>\n",
              "    <tr style=\"text-align: right;\">\n",
              "      <th></th>\n",
              "      <th>Scores</th>\n",
              "      <th>p-values</th>\n",
              "    </tr>\n",
              "  </thead>\n",
              "  <tbody>\n",
              "    <tr>\n",
              "      <th>es_LA</th>\n",
              "      <td>18.763932</td>\n",
              "      <td>0.000015</td>\n",
              "    </tr>\n",
              "    <tr>\n",
              "      <th>None</th>\n",
              "      <td>4.791232</td>\n",
              "      <td>0.028605</td>\n",
              "    </tr>\n",
              "    <tr>\n",
              "      <th>pt_BR</th>\n",
              "      <td>2.328347</td>\n",
              "      <td>0.127037</td>\n",
              "    </tr>\n",
              "    <tr>\n",
              "      <th>de_DE</th>\n",
              "      <td>2.238796</td>\n",
              "      <td>0.134586</td>\n",
              "    </tr>\n",
              "    <tr>\n",
              "      <th>en_US</th>\n",
              "      <td>2.045504</td>\n",
              "      <td>0.152656</td>\n",
              "    </tr>\n",
              "  </tbody>\n",
              "</table>\n",
              "</div>\n",
              "      <button class=\"colab-df-convert\" onclick=\"convertToInteractive('df-a3766517-1982-4312-9a43-81af90f02d98')\"\n",
              "              title=\"Convert this dataframe to an interactive table.\"\n",
              "              style=\"display:none;\">\n",
              "        \n",
              "  <svg xmlns=\"http://www.w3.org/2000/svg\" height=\"24px\"viewBox=\"0 0 24 24\"\n",
              "       width=\"24px\">\n",
              "    <path d=\"M0 0h24v24H0V0z\" fill=\"none\"/>\n",
              "    <path d=\"M18.56 5.44l.94 2.06.94-2.06 2.06-.94-2.06-.94-.94-2.06-.94 2.06-2.06.94zm-11 1L8.5 8.5l.94-2.06 2.06-.94-2.06-.94L8.5 2.5l-.94 2.06-2.06.94zm10 10l.94 2.06.94-2.06 2.06-.94-2.06-.94-.94-2.06-.94 2.06-2.06.94z\"/><path d=\"M17.41 7.96l-1.37-1.37c-.4-.4-.92-.59-1.43-.59-.52 0-1.04.2-1.43.59L10.3 9.45l-7.72 7.72c-.78.78-.78 2.05 0 2.83L4 21.41c.39.39.9.59 1.41.59.51 0 1.02-.2 1.41-.59l7.78-7.78 2.81-2.81c.8-.78.8-2.07 0-2.86zM5.41 20L4 18.59l7.72-7.72 1.47 1.35L5.41 20z\"/>\n",
              "  </svg>\n",
              "      </button>\n",
              "      \n",
              "  <style>\n",
              "    .colab-df-container {\n",
              "      display:flex;\n",
              "      flex-wrap:wrap;\n",
              "      gap: 12px;\n",
              "    }\n",
              "\n",
              "    .colab-df-convert {\n",
              "      background-color: #E8F0FE;\n",
              "      border: none;\n",
              "      border-radius: 50%;\n",
              "      cursor: pointer;\n",
              "      display: none;\n",
              "      fill: #1967D2;\n",
              "      height: 32px;\n",
              "      padding: 0 0 0 0;\n",
              "      width: 32px;\n",
              "    }\n",
              "\n",
              "    .colab-df-convert:hover {\n",
              "      background-color: #E2EBFA;\n",
              "      box-shadow: 0px 1px 2px rgba(60, 64, 67, 0.3), 0px 1px 3px 1px rgba(60, 64, 67, 0.15);\n",
              "      fill: #174EA6;\n",
              "    }\n",
              "\n",
              "    [theme=dark] .colab-df-convert {\n",
              "      background-color: #3B4455;\n",
              "      fill: #D2E3FC;\n",
              "    }\n",
              "\n",
              "    [theme=dark] .colab-df-convert:hover {\n",
              "      background-color: #434B5C;\n",
              "      box-shadow: 0px 1px 3px 1px rgba(0, 0, 0, 0.15);\n",
              "      filter: drop-shadow(0px 1px 2px rgba(0, 0, 0, 0.3));\n",
              "      fill: #FFFFFF;\n",
              "    }\n",
              "  </style>\n",
              "\n",
              "      <script>\n",
              "        const buttonEl =\n",
              "          document.querySelector('#df-a3766517-1982-4312-9a43-81af90f02d98 button.colab-df-convert');\n",
              "        buttonEl.style.display =\n",
              "          google.colab.kernel.accessAllowed ? 'block' : 'none';\n",
              "\n",
              "        async function convertToInteractive(key) {\n",
              "          const element = document.querySelector('#df-a3766517-1982-4312-9a43-81af90f02d98');\n",
              "          const dataTable =\n",
              "            await google.colab.kernel.invokeFunction('convertToInteractive',\n",
              "                                                     [key], {});\n",
              "          if (!dataTable) return;\n",
              "\n",
              "          const docLinkHtml = 'Like what you see? Visit the ' +\n",
              "            '<a target=\"_blank\" href=https://colab.research.google.com/notebooks/data_table.ipynb>data table notebook</a>'\n",
              "            + ' to learn more about interactive tables.';\n",
              "          element.innerHTML = '';\n",
              "          dataTable['output_type'] = 'display_data';\n",
              "          await google.colab.output.renderOutput(dataTable, element);\n",
              "          const docLink = document.createElement('div');\n",
              "          docLink.innerHTML = docLinkHtml;\n",
              "          element.appendChild(docLink);\n",
              "        }\n",
              "      </script>\n",
              "    </div>\n",
              "  </div>\n",
              "  "
            ]
          },
          "metadata": {},
          "execution_count": 168
        }
      ]
    },
    {
      "cell_type": "markdown",
      "source": [
        "El segundo análisis los separa"
      ],
      "metadata": {
        "id": "zT7jkxjZV9Vo"
      }
    },
    {
      "cell_type": "code",
      "source": [
        "captions2_df.sum().sort_values(ascending = False).head(25)"
      ],
      "metadata": {
        "colab": {
          "base_uri": "https://localhost:8080/"
        },
        "id": "RR2M1KfXV_8w",
        "outputId": "83bc7908-5e03-409b-b14a-2296a73255a8"
      },
      "execution_count": null,
      "outputs": [
        {
          "output_type": "execute_result",
          "data": {
            "text/plain": [
              "es      9288\n",
              "ES      5450\n",
              "LA      2010\n",
              "None    1986\n",
              "MX      1221\n",
              "CO       393\n",
              "VE       130\n",
              "en       100\n",
              "CL        84\n",
              "US        74\n",
              "GB        23\n",
              "pt        22\n",
              "BR        19\n",
              "IT        11\n",
              "it        11\n",
              "de         9\n",
              "DE         9\n",
              "fr         6\n",
              "FR         6\n",
              "PT         3\n",
              "ja         3\n",
              "ru         3\n",
              "RU         3\n",
              "zh         3\n",
              "IN         3\n",
              "dtype: int64"
            ]
          },
          "metadata": {},
          "execution_count": 169
        }
      ]
    },
    {
      "cell_type": "code",
      "source": [
        "df_train, df_test = unglue(df)"
      ],
      "metadata": {
        "id": "daj-z2NxWmz4"
      },
      "execution_count": null,
      "outputs": []
    },
    {
      "cell_type": "code",
      "source": [
        "vectorizer = CountVectorizer(analyzer='word', ngram_range=(1, 1), strip_accents='ascii', max_features=2000, lowercase = False)\n",
        "vectorized_data = vectorizer.fit_transform(df_train.captions2)"
      ],
      "metadata": {
        "id": "t3HRhZjkWmz4"
      },
      "execution_count": null,
      "outputs": []
    },
    {
      "cell_type": "code",
      "source": [
        "captions2_df_train = pd.DataFrame(vectorized_data.toarray(), columns=vectorizer.get_feature_names_out(), index = df_train.index)"
      ],
      "metadata": {
        "id": "mOMkPmJbWmz4"
      },
      "execution_count": null,
      "outputs": []
    },
    {
      "cell_type": "code",
      "source": [
        "captions2_df_train.loc[df_train.bestseller == 'si'].sum().sort_values(ascending = False).head(15)"
      ],
      "metadata": {
        "colab": {
          "base_uri": "https://localhost:8080/"
        },
        "id": "4yl3FOB-Wul3",
        "outputId": "4f4718f4-f104-42e8-ef0a-8689b1b64ae9"
      },
      "execution_count": null,
      "outputs": [
        {
          "output_type": "execute_result",
          "data": {
            "text/plain": [
              "es      1850\n",
              "ES      1036\n",
              "LA       469\n",
              "None     347\n",
              "MX       228\n",
              "CO        77\n",
              "VE        27\n",
              "en        15\n",
              "CL        13\n",
              "US         9\n",
              "GB         6\n",
              "IT         2\n",
              "it         2\n",
              "BR         1\n",
              "pt         1\n",
              "dtype: int64"
            ]
          },
          "metadata": {},
          "execution_count": 173
        }
      ]
    },
    {
      "cell_type": "code",
      "source": [
        "cap2_test = sk.feature_selection.SelectKBest(chi2, k=10).fit(captions2_df_train, df_train.bestseller) \n",
        "cap2_test.get_feature_names_out()#el orden dado no es por score, ver tabla de scores/p-valores"
      ],
      "metadata": {
        "colab": {
          "base_uri": "https://localhost:8080/"
        },
        "outputId": "b21ee740-4e12-4242-c7c9-1d1300ef3229",
        "id": "BP1GT9oEn_Q-"
      },
      "execution_count": null,
      "outputs": [
        {
          "output_type": "execute_result",
          "data": {
            "text/plain": [
              "array(['BR', 'DE', 'FR', 'LA', 'None', 'US', 'de', 'en', 'fr', 'pt'],\n",
              "      dtype=object)"
            ]
          },
          "metadata": {},
          "execution_count": 174
        }
      ]
    },
    {
      "cell_type": "markdown",
      "source": [
        "Viendo los p-valores, solo puedo rechazar la independencia para LA y None"
      ],
      "metadata": {
        "id": "npH8MPIqn_Q-"
      }
    },
    {
      "cell_type": "code",
      "source": [
        "cap2_test_df = pd.DataFrame({'Scores': cap2_test.scores_,'p-values':cap2_test.pvalues_},index = cap2_test.feature_names_in_)\n",
        "cap2_test_df.sort_values(by = 'Scores', ascending = False).head()"
      ],
      "metadata": {
        "colab": {
          "base_uri": "https://localhost:8080/",
          "height": 206
        },
        "outputId": "90392885-a865-4155-edd8-84d5b77ee571",
        "id": "Ha-B19xNn_Q-"
      },
      "execution_count": null,
      "outputs": [
        {
          "output_type": "execute_result",
          "data": {
            "text/plain": [
              "         Scores  p-values\n",
              "LA    18.763932  0.000015\n",
              "None   4.791232  0.028605\n",
              "pt     3.024860  0.081997\n",
              "BR     2.328347  0.127037\n",
              "DE     2.238796  0.134586"
            ],
            "text/html": [
              "\n",
              "  <div id=\"df-29faaf6d-6553-4e44-a104-e23fe97f68b6\">\n",
              "    <div class=\"colab-df-container\">\n",
              "      <div>\n",
              "<style scoped>\n",
              "    .dataframe tbody tr th:only-of-type {\n",
              "        vertical-align: middle;\n",
              "    }\n",
              "\n",
              "    .dataframe tbody tr th {\n",
              "        vertical-align: top;\n",
              "    }\n",
              "\n",
              "    .dataframe thead th {\n",
              "        text-align: right;\n",
              "    }\n",
              "</style>\n",
              "<table border=\"1\" class=\"dataframe\">\n",
              "  <thead>\n",
              "    <tr style=\"text-align: right;\">\n",
              "      <th></th>\n",
              "      <th>Scores</th>\n",
              "      <th>p-values</th>\n",
              "    </tr>\n",
              "  </thead>\n",
              "  <tbody>\n",
              "    <tr>\n",
              "      <th>LA</th>\n",
              "      <td>18.763932</td>\n",
              "      <td>0.000015</td>\n",
              "    </tr>\n",
              "    <tr>\n",
              "      <th>None</th>\n",
              "      <td>4.791232</td>\n",
              "      <td>0.028605</td>\n",
              "    </tr>\n",
              "    <tr>\n",
              "      <th>pt</th>\n",
              "      <td>3.024860</td>\n",
              "      <td>0.081997</td>\n",
              "    </tr>\n",
              "    <tr>\n",
              "      <th>BR</th>\n",
              "      <td>2.328347</td>\n",
              "      <td>0.127037</td>\n",
              "    </tr>\n",
              "    <tr>\n",
              "      <th>DE</th>\n",
              "      <td>2.238796</td>\n",
              "      <td>0.134586</td>\n",
              "    </tr>\n",
              "  </tbody>\n",
              "</table>\n",
              "</div>\n",
              "      <button class=\"colab-df-convert\" onclick=\"convertToInteractive('df-29faaf6d-6553-4e44-a104-e23fe97f68b6')\"\n",
              "              title=\"Convert this dataframe to an interactive table.\"\n",
              "              style=\"display:none;\">\n",
              "        \n",
              "  <svg xmlns=\"http://www.w3.org/2000/svg\" height=\"24px\"viewBox=\"0 0 24 24\"\n",
              "       width=\"24px\">\n",
              "    <path d=\"M0 0h24v24H0V0z\" fill=\"none\"/>\n",
              "    <path d=\"M18.56 5.44l.94 2.06.94-2.06 2.06-.94-2.06-.94-.94-2.06-.94 2.06-2.06.94zm-11 1L8.5 8.5l.94-2.06 2.06-.94-2.06-.94L8.5 2.5l-.94 2.06-2.06.94zm10 10l.94 2.06.94-2.06 2.06-.94-2.06-.94-.94-2.06-.94 2.06-2.06.94z\"/><path d=\"M17.41 7.96l-1.37-1.37c-.4-.4-.92-.59-1.43-.59-.52 0-1.04.2-1.43.59L10.3 9.45l-7.72 7.72c-.78.78-.78 2.05 0 2.83L4 21.41c.39.39.9.59 1.41.59.51 0 1.02-.2 1.41-.59l7.78-7.78 2.81-2.81c.8-.78.8-2.07 0-2.86zM5.41 20L4 18.59l7.72-7.72 1.47 1.35L5.41 20z\"/>\n",
              "  </svg>\n",
              "      </button>\n",
              "      \n",
              "  <style>\n",
              "    .colab-df-container {\n",
              "      display:flex;\n",
              "      flex-wrap:wrap;\n",
              "      gap: 12px;\n",
              "    }\n",
              "\n",
              "    .colab-df-convert {\n",
              "      background-color: #E8F0FE;\n",
              "      border: none;\n",
              "      border-radius: 50%;\n",
              "      cursor: pointer;\n",
              "      display: none;\n",
              "      fill: #1967D2;\n",
              "      height: 32px;\n",
              "      padding: 0 0 0 0;\n",
              "      width: 32px;\n",
              "    }\n",
              "\n",
              "    .colab-df-convert:hover {\n",
              "      background-color: #E2EBFA;\n",
              "      box-shadow: 0px 1px 2px rgba(60, 64, 67, 0.3), 0px 1px 3px 1px rgba(60, 64, 67, 0.15);\n",
              "      fill: #174EA6;\n",
              "    }\n",
              "\n",
              "    [theme=dark] .colab-df-convert {\n",
              "      background-color: #3B4455;\n",
              "      fill: #D2E3FC;\n",
              "    }\n",
              "\n",
              "    [theme=dark] .colab-df-convert:hover {\n",
              "      background-color: #434B5C;\n",
              "      box-shadow: 0px 1px 3px 1px rgba(0, 0, 0, 0.15);\n",
              "      filter: drop-shadow(0px 1px 2px rgba(0, 0, 0, 0.3));\n",
              "      fill: #FFFFFF;\n",
              "    }\n",
              "  </style>\n",
              "\n",
              "      <script>\n",
              "        const buttonEl =\n",
              "          document.querySelector('#df-29faaf6d-6553-4e44-a104-e23fe97f68b6 button.colab-df-convert');\n",
              "        buttonEl.style.display =\n",
              "          google.colab.kernel.accessAllowed ? 'block' : 'none';\n",
              "\n",
              "        async function convertToInteractive(key) {\n",
              "          const element = document.querySelector('#df-29faaf6d-6553-4e44-a104-e23fe97f68b6');\n",
              "          const dataTable =\n",
              "            await google.colab.kernel.invokeFunction('convertToInteractive',\n",
              "                                                     [key], {});\n",
              "          if (!dataTable) return;\n",
              "\n",
              "          const docLinkHtml = 'Like what you see? Visit the ' +\n",
              "            '<a target=\"_blank\" href=https://colab.research.google.com/notebooks/data_table.ipynb>data table notebook</a>'\n",
              "            + ' to learn more about interactive tables.';\n",
              "          element.innerHTML = '';\n",
              "          dataTable['output_type'] = 'display_data';\n",
              "          await google.colab.output.renderOutput(dataTable, element);\n",
              "          const docLink = document.createElement('div');\n",
              "          docLink.innerHTML = docLinkHtml;\n",
              "          element.appendChild(docLink);\n",
              "        }\n",
              "      </script>\n",
              "    </div>\n",
              "  </div>\n",
              "  "
            ]
          },
          "metadata": {},
          "execution_count": 175
        }
      ]
    },
    {
      "cell_type": "markdown",
      "source": [
        "###Titulares"
      ],
      "metadata": {
        "id": "mMKKypUsAFBn"
      }
    },
    {
      "cell_type": "code",
      "source": [
        "headline_df.sum().sort_values(ascending = False).head(30)"
      ],
      "metadata": {
        "colab": {
          "base_uri": "https://localhost:8080/"
        },
        "id": "BLCFM1YoAIGM",
        "outputId": "3cc587ec-bc07-43d3-de7d-80ad07836472"
      },
      "execution_count": null,
      "outputs": [
        {
          "output_type": "execute_result",
          "data": {
            "text/plain": [
              "aprende          2890\n",
              "curso            1329\n",
              "crear             782\n",
              "paso              734\n",
              "cero              670\n",
              "web               575\n",
              "como              449\n",
              "forma             412\n",
              "profesional       394\n",
              "crea              392\n",
              "datos             386\n",
              "paso paso         355\n",
              "tecnicas          325\n",
              "aprende crear     316\n",
              "aplicaciones      307\n",
              "aprender          303\n",
              "programacion      301\n",
              "herramientas      297\n",
              "nivel             296\n",
              "basico            269\n",
              "proyectos         265\n",
              "manera            264\n",
              "experto           263\n",
              "practica          261\n",
              "diseno            259\n",
              "completo          252\n",
              "vida              243\n",
              "negocio           241\n",
              "guia              240\n",
              "excel             238\n",
              "dtype: int64"
            ]
          },
          "metadata": {},
          "execution_count": 176
        }
      ]
    },
    {
      "cell_type": "code",
      "source": [
        "headline_df_train = headline_df.loc[df_train.index]"
      ],
      "metadata": {
        "id": "VVeKQ45KCU_q"
      },
      "execution_count": null,
      "outputs": []
    },
    {
      "cell_type": "code",
      "source": [
        "headline_df_train.loc[df_train.bestseller == 'si'].sum().sort_values(ascending = False).head(30)"
      ],
      "metadata": {
        "colab": {
          "base_uri": "https://localhost:8080/"
        },
        "id": "W_-TEPopCush",
        "outputId": "ca1eca81-9dde-4a19-bcf4-cceb8ad2fc55"
      },
      "execution_count": null,
      "outputs": [
        {
          "output_type": "execute_result",
          "data": {
            "text/plain": [
              "aprende          735\n",
              "curso            332\n",
              "web              213\n",
              "cero             207\n",
              "paso             207\n",
              "crear            198\n",
              "datos            125\n",
              "aplicaciones     116\n",
              "crea             110\n",
              "profesional      106\n",
              "forma            104\n",
              "paso paso        103\n",
              "programacion      99\n",
              "experto           87\n",
              "como              86\n",
              "bases             83\n",
              "proyectos         75\n",
              "excel             75\n",
              "sql               75\n",
              "aprender          74\n",
              "aprende crear     74\n",
              "programar         73\n",
              "diseno            72\n",
              "completo          72\n",
              "python            66\n",
              "mundo             66\n",
              "desarrollo        65\n",
              "guia              60\n",
              "basico            59\n",
              "java              58\n",
              "dtype: int64"
            ]
          },
          "metadata": {},
          "execution_count": 178
        }
      ]
    },
    {
      "cell_type": "code",
      "source": [
        "headline_df_train.loc[df_train.bestseller == 'si','python'].sum()"
      ],
      "metadata": {
        "colab": {
          "base_uri": "https://localhost:8080/"
        },
        "id": "QqjF_RC8F86J",
        "outputId": "e45e76d6-15d7-4e7f-8ea5-83a3b9fc5aa4"
      },
      "execution_count": null,
      "outputs": [
        {
          "output_type": "execute_result",
          "data": {
            "text/plain": [
              "66"
            ]
          },
          "metadata": {},
          "execution_count": 179
        }
      ]
    },
    {
      "cell_type": "code",
      "source": [
        "headline_test = sk.feature_selection.SelectKBest(chi2, k=10).fit(headline_df_train, df_train.bestseller) \n",
        "headline_test.get_feature_names_out()#el orden dado no es por score, ver tabla de scores/p-valores"
      ],
      "metadata": {
        "colab": {
          "base_uri": "https://localhost:8080/"
        },
        "outputId": "8d4aff69-88ef-4a15-eec7-cd6fce1ee4ae",
        "id": "a43qoLbYDlWF"
      },
      "execution_count": null,
      "outputs": [
        {
          "output_type": "execute_result",
          "data": {
            "text/plain": [
              "array(['angular', 'aplicaciones', 'aprende', 'cero', 'framework', 'java',\n",
              "       'programar', 'react', 'sql', 'web'], dtype=object)"
            ]
          },
          "metadata": {},
          "execution_count": 180
        }
      ]
    },
    {
      "cell_type": "code",
      "source": [
        "headline_test_df = pd.DataFrame({'Scores': headline_test.scores_,'p-values':headline_test.pvalues_},index = headline_test.feature_names_in_)\n",
        "headline_test_df.sort_values(by = 'Scores', ascending = False).head(30)"
      ],
      "metadata": {
        "colab": {
          "base_uri": "https://localhost:8080/",
          "height": 990
        },
        "outputId": "00d90a0f-9ebc-4845-a799-b4bc5e3e5903",
        "id": "9MeNd2u_DlWP"
      },
      "execution_count": null,
      "outputs": [
        {
          "output_type": "execute_result",
          "data": {
            "text/plain": [
              "                      Scores      p-values\n",
              "web               111.953906  3.657148e-26\n",
              "sql                86.407955  1.463949e-20\n",
              "programar          69.515241  7.582630e-17\n",
              "angular            68.487690  1.276721e-16\n",
              "aprende            65.315799  6.380774e-16\n",
              "aplicaciones       64.053075  1.211121e-15\n",
              "cero               56.801115  4.821930e-14\n",
              "react              52.935305  3.447174e-13\n",
              "framework          51.627694  6.708853e-13\n",
              "java               47.738819  4.869535e-12\n",
              "linux              46.713742  8.215091e-12\n",
              "javascript         44.911815  2.061105e-11\n",
              "aws                44.669243  2.332935e-11\n",
              "bases              42.459921  7.214552e-11\n",
              "python             40.956327  1.556693e-10\n",
              "server             40.463704  2.003026e-10\n",
              "api                40.400226  2.069172e-10\n",
              "datos              39.672436  3.003346e-10\n",
              "aplicaciones web   39.273120  3.684792e-10\n",
              "net                38.120934  6.649289e-10\n",
              "mysql              37.702203  8.241145e-10\n",
              "lenguaje           36.923234  1.228730e-09\n",
              "power              35.941434  2.033384e-09\n",
              "bootstrap          35.165986  3.027658e-09\n",
              "wordpress          34.638529  3.969709e-09\n",
              "programacion       33.946401  5.665137e-09\n",
              "php                33.869028  5.894972e-09\n",
              "sql server         32.519222  1.180194e-08\n",
              "paso               31.556217  1.937491e-08\n",
              "experto            29.886573  4.580741e-08"
            ],
            "text/html": [
              "\n",
              "  <div id=\"df-547de629-0c89-4b66-9986-40548e0eae84\">\n",
              "    <div class=\"colab-df-container\">\n",
              "      <div>\n",
              "<style scoped>\n",
              "    .dataframe tbody tr th:only-of-type {\n",
              "        vertical-align: middle;\n",
              "    }\n",
              "\n",
              "    .dataframe tbody tr th {\n",
              "        vertical-align: top;\n",
              "    }\n",
              "\n",
              "    .dataframe thead th {\n",
              "        text-align: right;\n",
              "    }\n",
              "</style>\n",
              "<table border=\"1\" class=\"dataframe\">\n",
              "  <thead>\n",
              "    <tr style=\"text-align: right;\">\n",
              "      <th></th>\n",
              "      <th>Scores</th>\n",
              "      <th>p-values</th>\n",
              "    </tr>\n",
              "  </thead>\n",
              "  <tbody>\n",
              "    <tr>\n",
              "      <th>web</th>\n",
              "      <td>111.953906</td>\n",
              "      <td>3.657148e-26</td>\n",
              "    </tr>\n",
              "    <tr>\n",
              "      <th>sql</th>\n",
              "      <td>86.407955</td>\n",
              "      <td>1.463949e-20</td>\n",
              "    </tr>\n",
              "    <tr>\n",
              "      <th>programar</th>\n",
              "      <td>69.515241</td>\n",
              "      <td>7.582630e-17</td>\n",
              "    </tr>\n",
              "    <tr>\n",
              "      <th>angular</th>\n",
              "      <td>68.487690</td>\n",
              "      <td>1.276721e-16</td>\n",
              "    </tr>\n",
              "    <tr>\n",
              "      <th>aprende</th>\n",
              "      <td>65.315799</td>\n",
              "      <td>6.380774e-16</td>\n",
              "    </tr>\n",
              "    <tr>\n",
              "      <th>aplicaciones</th>\n",
              "      <td>64.053075</td>\n",
              "      <td>1.211121e-15</td>\n",
              "    </tr>\n",
              "    <tr>\n",
              "      <th>cero</th>\n",
              "      <td>56.801115</td>\n",
              "      <td>4.821930e-14</td>\n",
              "    </tr>\n",
              "    <tr>\n",
              "      <th>react</th>\n",
              "      <td>52.935305</td>\n",
              "      <td>3.447174e-13</td>\n",
              "    </tr>\n",
              "    <tr>\n",
              "      <th>framework</th>\n",
              "      <td>51.627694</td>\n",
              "      <td>6.708853e-13</td>\n",
              "    </tr>\n",
              "    <tr>\n",
              "      <th>java</th>\n",
              "      <td>47.738819</td>\n",
              "      <td>4.869535e-12</td>\n",
              "    </tr>\n",
              "    <tr>\n",
              "      <th>linux</th>\n",
              "      <td>46.713742</td>\n",
              "      <td>8.215091e-12</td>\n",
              "    </tr>\n",
              "    <tr>\n",
              "      <th>javascript</th>\n",
              "      <td>44.911815</td>\n",
              "      <td>2.061105e-11</td>\n",
              "    </tr>\n",
              "    <tr>\n",
              "      <th>aws</th>\n",
              "      <td>44.669243</td>\n",
              "      <td>2.332935e-11</td>\n",
              "    </tr>\n",
              "    <tr>\n",
              "      <th>bases</th>\n",
              "      <td>42.459921</td>\n",
              "      <td>7.214552e-11</td>\n",
              "    </tr>\n",
              "    <tr>\n",
              "      <th>python</th>\n",
              "      <td>40.956327</td>\n",
              "      <td>1.556693e-10</td>\n",
              "    </tr>\n",
              "    <tr>\n",
              "      <th>server</th>\n",
              "      <td>40.463704</td>\n",
              "      <td>2.003026e-10</td>\n",
              "    </tr>\n",
              "    <tr>\n",
              "      <th>api</th>\n",
              "      <td>40.400226</td>\n",
              "      <td>2.069172e-10</td>\n",
              "    </tr>\n",
              "    <tr>\n",
              "      <th>datos</th>\n",
              "      <td>39.672436</td>\n",
              "      <td>3.003346e-10</td>\n",
              "    </tr>\n",
              "    <tr>\n",
              "      <th>aplicaciones web</th>\n",
              "      <td>39.273120</td>\n",
              "      <td>3.684792e-10</td>\n",
              "    </tr>\n",
              "    <tr>\n",
              "      <th>net</th>\n",
              "      <td>38.120934</td>\n",
              "      <td>6.649289e-10</td>\n",
              "    </tr>\n",
              "    <tr>\n",
              "      <th>mysql</th>\n",
              "      <td>37.702203</td>\n",
              "      <td>8.241145e-10</td>\n",
              "    </tr>\n",
              "    <tr>\n",
              "      <th>lenguaje</th>\n",
              "      <td>36.923234</td>\n",
              "      <td>1.228730e-09</td>\n",
              "    </tr>\n",
              "    <tr>\n",
              "      <th>power</th>\n",
              "      <td>35.941434</td>\n",
              "      <td>2.033384e-09</td>\n",
              "    </tr>\n",
              "    <tr>\n",
              "      <th>bootstrap</th>\n",
              "      <td>35.165986</td>\n",
              "      <td>3.027658e-09</td>\n",
              "    </tr>\n",
              "    <tr>\n",
              "      <th>wordpress</th>\n",
              "      <td>34.638529</td>\n",
              "      <td>3.969709e-09</td>\n",
              "    </tr>\n",
              "    <tr>\n",
              "      <th>programacion</th>\n",
              "      <td>33.946401</td>\n",
              "      <td>5.665137e-09</td>\n",
              "    </tr>\n",
              "    <tr>\n",
              "      <th>php</th>\n",
              "      <td>33.869028</td>\n",
              "      <td>5.894972e-09</td>\n",
              "    </tr>\n",
              "    <tr>\n",
              "      <th>sql server</th>\n",
              "      <td>32.519222</td>\n",
              "      <td>1.180194e-08</td>\n",
              "    </tr>\n",
              "    <tr>\n",
              "      <th>paso</th>\n",
              "      <td>31.556217</td>\n",
              "      <td>1.937491e-08</td>\n",
              "    </tr>\n",
              "    <tr>\n",
              "      <th>experto</th>\n",
              "      <td>29.886573</td>\n",
              "      <td>4.580741e-08</td>\n",
              "    </tr>\n",
              "  </tbody>\n",
              "</table>\n",
              "</div>\n",
              "      <button class=\"colab-df-convert\" onclick=\"convertToInteractive('df-547de629-0c89-4b66-9986-40548e0eae84')\"\n",
              "              title=\"Convert this dataframe to an interactive table.\"\n",
              "              style=\"display:none;\">\n",
              "        \n",
              "  <svg xmlns=\"http://www.w3.org/2000/svg\" height=\"24px\"viewBox=\"0 0 24 24\"\n",
              "       width=\"24px\">\n",
              "    <path d=\"M0 0h24v24H0V0z\" fill=\"none\"/>\n",
              "    <path d=\"M18.56 5.44l.94 2.06.94-2.06 2.06-.94-2.06-.94-.94-2.06-.94 2.06-2.06.94zm-11 1L8.5 8.5l.94-2.06 2.06-.94-2.06-.94L8.5 2.5l-.94 2.06-2.06.94zm10 10l.94 2.06.94-2.06 2.06-.94-2.06-.94-.94-2.06-.94 2.06-2.06.94z\"/><path d=\"M17.41 7.96l-1.37-1.37c-.4-.4-.92-.59-1.43-.59-.52 0-1.04.2-1.43.59L10.3 9.45l-7.72 7.72c-.78.78-.78 2.05 0 2.83L4 21.41c.39.39.9.59 1.41.59.51 0 1.02-.2 1.41-.59l7.78-7.78 2.81-2.81c.8-.78.8-2.07 0-2.86zM5.41 20L4 18.59l7.72-7.72 1.47 1.35L5.41 20z\"/>\n",
              "  </svg>\n",
              "      </button>\n",
              "      \n",
              "  <style>\n",
              "    .colab-df-container {\n",
              "      display:flex;\n",
              "      flex-wrap:wrap;\n",
              "      gap: 12px;\n",
              "    }\n",
              "\n",
              "    .colab-df-convert {\n",
              "      background-color: #E8F0FE;\n",
              "      border: none;\n",
              "      border-radius: 50%;\n",
              "      cursor: pointer;\n",
              "      display: none;\n",
              "      fill: #1967D2;\n",
              "      height: 32px;\n",
              "      padding: 0 0 0 0;\n",
              "      width: 32px;\n",
              "    }\n",
              "\n",
              "    .colab-df-convert:hover {\n",
              "      background-color: #E2EBFA;\n",
              "      box-shadow: 0px 1px 2px rgba(60, 64, 67, 0.3), 0px 1px 3px 1px rgba(60, 64, 67, 0.15);\n",
              "      fill: #174EA6;\n",
              "    }\n",
              "\n",
              "    [theme=dark] .colab-df-convert {\n",
              "      background-color: #3B4455;\n",
              "      fill: #D2E3FC;\n",
              "    }\n",
              "\n",
              "    [theme=dark] .colab-df-convert:hover {\n",
              "      background-color: #434B5C;\n",
              "      box-shadow: 0px 1px 3px 1px rgba(0, 0, 0, 0.15);\n",
              "      filter: drop-shadow(0px 1px 2px rgba(0, 0, 0, 0.3));\n",
              "      fill: #FFFFFF;\n",
              "    }\n",
              "  </style>\n",
              "\n",
              "      <script>\n",
              "        const buttonEl =\n",
              "          document.querySelector('#df-547de629-0c89-4b66-9986-40548e0eae84 button.colab-df-convert');\n",
              "        buttonEl.style.display =\n",
              "          google.colab.kernel.accessAllowed ? 'block' : 'none';\n",
              "\n",
              "        async function convertToInteractive(key) {\n",
              "          const element = document.querySelector('#df-547de629-0c89-4b66-9986-40548e0eae84');\n",
              "          const dataTable =\n",
              "            await google.colab.kernel.invokeFunction('convertToInteractive',\n",
              "                                                     [key], {});\n",
              "          if (!dataTable) return;\n",
              "\n",
              "          const docLinkHtml = 'Like what you see? Visit the ' +\n",
              "            '<a target=\"_blank\" href=https://colab.research.google.com/notebooks/data_table.ipynb>data table notebook</a>'\n",
              "            + ' to learn more about interactive tables.';\n",
              "          element.innerHTML = '';\n",
              "          dataTable['output_type'] = 'display_data';\n",
              "          await google.colab.output.renderOutput(dataTable, element);\n",
              "          const docLink = document.createElement('div');\n",
              "          docLink.innerHTML = docLinkHtml;\n",
              "          element.appendChild(docLink);\n",
              "        }\n",
              "      </script>\n",
              "    </div>\n",
              "  </div>\n",
              "  "
            ]
          },
          "metadata": {},
          "execution_count": 181
        }
      ]
    },
    {
      "cell_type": "markdown",
      "source": [
        "Quizás chi2 no ayuda mucho en combinación con una bolsa de palabras."
      ],
      "metadata": {
        "id": "7e7fWInLafOq"
      }
    },
    {
      "cell_type": "markdown",
      "source": [
        "###Preguntas"
      ],
      "metadata": {
        "id": "hM2zyU912Pmw"
      }
    },
    {
      "cell_type": "code",
      "source": [
        "df_train, df_test = unglue(df)"
      ],
      "metadata": {
        "id": "d56G_8iM2TS8"
      },
      "execution_count": null,
      "outputs": []
    },
    {
      "cell_type": "code",
      "source": [
        "df_train.content_info_questions.hist(bins = 40, range = (1,1200));"
      ],
      "metadata": {
        "colab": {
          "base_uri": "https://localhost:8080/",
          "height": 265
        },
        "id": "PLdhpsL32bZs",
        "outputId": "fc6f0e41-8fb3-4a01-93c1-12a98ad27cb9"
      },
      "execution_count": null,
      "outputs": [
        {
          "output_type": "display_data",
          "data": {
            "text/plain": [
              "<Figure size 432x288 with 1 Axes>"
            ],
            "image/png": "[encoded data removed]"
          },
          "metadata": {
            "needs_background": "light"
          }
        }
      ]
    },
    {
      "cell_type": "code",
      "source": [
        "(df_train.content_info_questions > 200).sum()"
      ],
      "metadata": {
        "colab": {
          "base_uri": "https://localhost:8080/"
        },
        "id": "jm2oM3p026-z",
        "outputId": "bdf2a108-d56a-4ab9-b210-bb76284663e3"
      },
      "execution_count": null,
      "outputs": [
        {
          "output_type": "execute_result",
          "data": {
            "text/plain": [
              "62"
            ]
          },
          "metadata": {},
          "execution_count": 184
        }
      ]
    },
    {
      "cell_type": "code",
      "source": [
        "((df_train.content_info_questions > 200) & (df_train.bestseller == 'si')).sum()"
      ],
      "metadata": {
        "colab": {
          "base_uri": "https://localhost:8080/"
        },
        "id": "2ZH9dPrE3LOR",
        "outputId": "738c8b32-c379-41f0-96ad-adc59109ebb8"
      },
      "execution_count": null,
      "outputs": [
        {
          "output_type": "execute_result",
          "data": {
            "text/plain": [
              "19"
            ]
          },
          "metadata": {},
          "execution_count": 185
        }
      ]
    },
    {
      "cell_type": "code",
      "source": [
        "df_test.content_info_questions.hist(bins = 40, range = (1,900));"
      ],
      "metadata": {
        "colab": {
          "base_uri": "https://localhost:8080/",
          "height": 265
        },
        "id": "TaeEUHss2nTi",
        "outputId": "3a3f2f5d-15a5-40b5-9986-5faaad7f1cbe"
      },
      "execution_count": null,
      "outputs": [
        {
          "output_type": "display_data",
          "data": {
            "text/plain": [
              "<Figure size 432x288 with 1 Axes>"
            ],
            "image/png": "[encoded data removed]"
          },
          "metadata": {
            "needs_background": "light"
          }
        }
      ]
    },
    {
      "cell_type": "code",
      "source": [
        "(df_test.content_info_questions > 200).sum()"
      ],
      "metadata": {
        "colab": {
          "base_uri": "https://localhost:8080/"
        },
        "id": "hA6NP1yA3D4E",
        "outputId": "53a58c14-4f00-4b1d-ff2b-5c5a156e3de7"
      },
      "execution_count": null,
      "outputs": [
        {
          "output_type": "execute_result",
          "data": {
            "text/plain": [
              "6"
            ]
          },
          "metadata": {},
          "execution_count": 187
        }
      ]
    },
    {
      "cell_type": "markdown",
      "source": [
        "###Tiempo"
      ],
      "metadata": {
        "id": "NbGqk6bh330Z"
      }
    },
    {
      "cell_type": "code",
      "source": [
        "df_train, df_test = unglue(df)"
      ],
      "metadata": {
        "id": "IZvSNBxA3-XE"
      },
      "execution_count": null,
      "outputs": []
    },
    {
      "cell_type": "code",
      "source": [
        "df_train.content_info_time.hist(bins = 40);"
      ],
      "metadata": {
        "colab": {
          "base_uri": "https://localhost:8080/",
          "height": 266
        },
        "outputId": "e1dafbe8-3899-4bf0-e206-f75de7593967",
        "id": "FiHNZ2M93-XE"
      },
      "execution_count": null,
      "outputs": [
        {
          "output_type": "display_data",
          "data": {
            "text/plain": [
              "<Figure size 432x288 with 1 Axes>"
            ],
            "image/png": "[encoded data removed]"
          },
          "metadata": {
            "needs_background": "light"
          }
        }
      ]
    },
    {
      "cell_type": "code",
      "source": [
        "(df_train.content_info_time > 60).sum()"
      ],
      "metadata": {
        "colab": {
          "base_uri": "https://localhost:8080/"
        },
        "id": "DfECLjzt4PDh",
        "outputId": "72cd02b6-09d8-42db-b42c-2a00e7e62405"
      },
      "execution_count": null,
      "outputs": [
        {
          "output_type": "execute_result",
          "data": {
            "text/plain": [
              "35"
            ]
          },
          "metadata": {},
          "execution_count": 190
        }
      ]
    },
    {
      "cell_type": "code",
      "source": [
        "((df_train.content_info_time > 60) & (df_train.bestseller == 'si')).sum()"
      ],
      "metadata": {
        "colab": {
          "base_uri": "https://localhost:8080/"
        },
        "id": "hrM1PW5-4YbQ",
        "outputId": "e96d1d78-bb19-4bb3-b0da-0dfc362862b7"
      },
      "execution_count": null,
      "outputs": [
        {
          "output_type": "execute_result",
          "data": {
            "text/plain": [
              "27"
            ]
          },
          "metadata": {},
          "execution_count": 191
        }
      ]
    },
    {
      "cell_type": "code",
      "source": [
        "df_test.content_info_time.hist(bins = 40);"
      ],
      "metadata": {
        "colab": {
          "base_uri": "https://localhost:8080/",
          "height": 268
        },
        "id": "_Qs-wMFY4ErD",
        "outputId": "b65760ad-5d19-4b25-c982-6b90c868e76b"
      },
      "execution_count": null,
      "outputs": [
        {
          "output_type": "display_data",
          "data": {
            "text/plain": [
              "<Figure size 432x288 with 1 Axes>"
            ],
            "image/png": "[encoded data removed]"
          },
          "metadata": {
            "needs_background": "light"
          }
        }
      ]
    },
    {
      "cell_type": "code",
      "source": [
        "df_test.content_info_time.max()"
      ],
      "metadata": {
        "colab": {
          "base_uri": "https://localhost:8080/"
        },
        "id": "rE2RCbXD5D3R",
        "outputId": "3a3a19d0-6e2a-400d-9d40-a31702b4d2ca"
      },
      "execution_count": null,
      "outputs": [
        {
          "output_type": "execute_result",
          "data": {
            "text/plain": [
              "61.0"
            ]
          },
          "metadata": {},
          "execution_count": 193
        }
      ]
    },
    {
      "cell_type": "markdown",
      "source": [
        "###Correlaciones"
      ],
      "metadata": {
        "id": "yM0qXNvn2RLD"
      }
    },
    {
      "cell_type": "code",
      "source": [
        "df.corr()"
      ],
      "metadata": {
        "id": "puw6fqI12UMr",
        "colab": {
          "base_uri": "https://localhost:8080/",
          "height": 427
        },
        "outputId": "4fb58e41-c664-4407-b512-3e747b28208c"
      },
      "execution_count": null,
      "outputs": [
        {
          "output_type": "execute_result",
          "data": {
            "text/plain": [
              "                              is_practice_test_course    rating  \\\n",
              "is_practice_test_course                      1.000000 -0.070526   \n",
              "rating                                      -0.070526  1.000000   \n",
              "num_published_lectures                      -0.103739  0.102297   \n",
              "num_published_practice_tests                 0.825220 -0.048138   \n",
              "list_price                                  -0.067069  0.041749   \n",
              "discount_price                              -0.001827 -0.058612   \n",
              "content_info_questions                       0.730286 -0.062564   \n",
              "content_info_time                           -0.092836  0.117020   \n",
              "last_update_date_imp                        -0.007481 -0.139699   \n",
              "discount_imp                                -0.024725  0.074097   \n",
              "\n",
              "                              num_published_lectures  \\\n",
              "is_practice_test_course                    -0.103739   \n",
              "rating                                      0.102297   \n",
              "num_published_lectures                      1.000000   \n",
              "num_published_practice_tests               -0.075471   \n",
              "list_price                                  0.212796   \n",
              "discount_price                              0.040687   \n",
              "content_info_questions                     -0.075759   \n",
              "content_info_time                           0.815799   \n",
              "last_update_date_imp                       -0.126146   \n",
              "discount_imp                               -0.047493   \n",
              "\n",
              "                              num_published_practice_tests  list_price  \\\n",
              "is_practice_test_course                           0.825220   -0.067069   \n",
              "rating                                           -0.048138    0.041749   \n",
              "num_published_lectures                           -0.075471    0.212796   \n",
              "num_published_practice_tests                      1.000000   -0.053294   \n",
              "list_price                                       -0.053294    1.000000   \n",
              "discount_price                                    0.008233    0.164150   \n",
              "content_info_questions                            0.763917   -0.053522   \n",
              "content_info_time                                -0.068866    0.198431   \n",
              "last_update_date_imp                             -0.010703   -0.078848   \n",
              "discount_imp                                     -0.024460    0.073036   \n",
              "\n",
              "                              discount_price  content_info_questions  \\\n",
              "is_practice_test_course            -0.001827                0.730286   \n",
              "rating                             -0.058612               -0.062564   \n",
              "num_published_lectures              0.040687               -0.075759   \n",
              "num_published_practice_tests        0.008233                0.763917   \n",
              "list_price                          0.164150               -0.053522   \n",
              "discount_price                      1.000000                0.001495   \n",
              "content_info_questions              0.001495                1.000000   \n",
              "content_info_time                   0.023534               -0.067797   \n",
              "last_update_date_imp               -0.064101               -0.008144   \n",
              "discount_imp                       -0.084606               -0.022024   \n",
              "\n",
              "                              content_info_time  last_update_date_imp  \\\n",
              "is_practice_test_course               -0.092836             -0.007481   \n",
              "rating                                 0.117020             -0.139699   \n",
              "num_published_lectures                 0.815799             -0.126146   \n",
              "num_published_practice_tests          -0.068866             -0.010703   \n",
              "list_price                             0.198431             -0.078848   \n",
              "discount_price                         0.023534             -0.064101   \n",
              "content_info_questions                -0.067797             -0.008144   \n",
              "content_info_time                      1.000000             -0.126674   \n",
              "last_update_date_imp                  -0.126674              1.000000   \n",
              "discount_imp                          -0.011802              0.102411   \n",
              "\n",
              "                              discount_imp  \n",
              "is_practice_test_course          -0.024725  \n",
              "rating                            0.074097  \n",
              "num_published_lectures           -0.047493  \n",
              "num_published_practice_tests     -0.024460  \n",
              "list_price                        0.073036  \n",
              "discount_price                   -0.084606  \n",
              "content_info_questions           -0.022024  \n",
              "content_info_time                -0.011802  \n",
              "last_update_date_imp              0.102411  \n",
              "discount_imp                      1.000000  "
            ],
            "text/html": [
              "\n",
              "  <div id=\"df-a06584e9-9ad6-4a8d-ba4c-46078f99e94e\">\n",
              "    <div class=\"colab-df-container\">\n",
              "      <div>\n",
              "<style scoped>\n",
              "    .dataframe tbody tr th:only-of-type {\n",
              "        vertical-align: middle;\n",
              "    }\n",
              "\n",
              "    .dataframe tbody tr th {\n",
              "        vertical-align: top;\n",
              "    }\n",
              "\n",
              "    .dataframe thead th {\n",
              "        text-align: right;\n",
              "    }\n",
              "</style>\n",
              "<table border=\"1\" class=\"dataframe\">\n",
              "  <thead>\n",
              "    <tr style=\"text-align: right;\">\n",
              "      <th></th>\n",
              "      <th>is_practice_test_course</th>\n",
              "      <th>rating</th>\n",
              "      <th>num_published_lectures</th>\n",
              "      <th>num_published_practice_tests</th>\n",
              "      <th>list_price</th>\n",
              "      <th>discount_price</th>\n",
              "      <th>content_info_questions</th>\n",
              "      <th>content_info_time</th>\n",
              "      <th>last_update_date_imp</th>\n",
              "      <th>discount_imp</th>\n",
              "    </tr>\n",
              "  </thead>\n",
              "  <tbody>\n",
              "    <tr>\n",
              "      <th>is_practice_test_course</th>\n",
              "      <td>1.000000</td>\n",
              "      <td>-0.070526</td>\n",
              "      <td>-0.103739</td>\n",
              "      <td>0.825220</td>\n",
              "      <td>-0.067069</td>\n",
              "      <td>-0.001827</td>\n",
              "      <td>0.730286</td>\n",
              "      <td>-0.092836</td>\n",
              "      <td>-0.007481</td>\n",
              "      <td>-0.024725</td>\n",
              "    </tr>\n",
              "    <tr>\n",
              "      <th>rating</th>\n",
              "      <td>-0.070526</td>\n",
              "      <td>1.000000</td>\n",
              "      <td>0.102297</td>\n",
              "      <td>-0.048138</td>\n",
              "      <td>0.041749</td>\n",
              "      <td>-0.058612</td>\n",
              "      <td>-0.062564</td>\n",
              "      <td>0.117020</td>\n",
              "      <td>-0.139699</td>\n",
              "      <td>0.074097</td>\n",
              "    </tr>\n",
              "    <tr>\n",
              "      <th>num_published_lectures</th>\n",
              "      <td>-0.103739</td>\n",
              "      <td>0.102297</td>\n",
              "      <td>1.000000</td>\n",
              "      <td>-0.075471</td>\n",
              "      <td>0.212796</td>\n",
              "      <td>0.040687</td>\n",
              "      <td>-0.075759</td>\n",
              "      <td>0.815799</td>\n",
              "      <td>-0.126146</td>\n",
              "      <td>-0.047493</td>\n",
              "    </tr>\n",
              "    <tr>\n",
              "      <th>num_published_practice_tests</th>\n",
              "      <td>0.825220</td>\n",
              "      <td>-0.048138</td>\n",
              "      <td>-0.075471</td>\n",
              "      <td>1.000000</td>\n",
              "      <td>-0.053294</td>\n",
              "      <td>0.008233</td>\n",
              "      <td>0.763917</td>\n",
              "      <td>-0.068866</td>\n",
              "      <td>-0.010703</td>\n",
              "      <td>-0.024460</td>\n",
              "    </tr>\n",
              "    <tr>\n",
              "      <th>list_price</th>\n",
              "      <td>-0.067069</td>\n",
              "      <td>0.041749</td>\n",
              "      <td>0.212796</td>\n",
              "      <td>-0.053294</td>\n",
              "      <td>1.000000</td>\n",
              "      <td>0.164150</td>\n",
              "      <td>-0.053522</td>\n",
              "      <td>0.198431</td>\n",
              "      <td>-0.078848</td>\n",
              "      <td>0.073036</td>\n",
              "    </tr>\n",
              "    <tr>\n",
              "      <th>discount_price</th>\n",
              "      <td>-0.001827</td>\n",
              "      <td>-0.058612</td>\n",
              "      <td>0.040687</td>\n",
              "      <td>0.008233</td>\n",
              "      <td>0.164150</td>\n",
              "      <td>1.000000</td>\n",
              "      <td>0.001495</td>\n",
              "      <td>0.023534</td>\n",
              "      <td>-0.064101</td>\n",
              "      <td>-0.084606</td>\n",
              "    </tr>\n",
              "    <tr>\n",
              "      <th>content_info_questions</th>\n",
              "      <td>0.730286</td>\n",
              "      <td>-0.062564</td>\n",
              "      <td>-0.075759</td>\n",
              "      <td>0.763917</td>\n",
              "      <td>-0.053522</td>\n",
              "      <td>0.001495</td>\n",
              "      <td>1.000000</td>\n",
              "      <td>-0.067797</td>\n",
              "      <td>-0.008144</td>\n",
              "      <td>-0.022024</td>\n",
              "    </tr>\n",
              "    <tr>\n",
              "      <th>content_info_time</th>\n",
              "      <td>-0.092836</td>\n",
              "      <td>0.117020</td>\n",
              "      <td>0.815799</td>\n",
              "      <td>-0.068866</td>\n",
              "      <td>0.198431</td>\n",
              "      <td>0.023534</td>\n",
              "      <td>-0.067797</td>\n",
              "      <td>1.000000</td>\n",
              "      <td>-0.126674</td>\n",
              "      <td>-0.011802</td>\n",
              "    </tr>\n",
              "    <tr>\n",
              "      <th>last_update_date_imp</th>\n",
              "      <td>-0.007481</td>\n",
              "      <td>-0.139699</td>\n",
              "      <td>-0.126146</td>\n",
              "      <td>-0.010703</td>\n",
              "      <td>-0.078848</td>\n",
              "      <td>-0.064101</td>\n",
              "      <td>-0.008144</td>\n",
              "      <td>-0.126674</td>\n",
              "      <td>1.000000</td>\n",
              "      <td>0.102411</td>\n",
              "    </tr>\n",
              "    <tr>\n",
              "      <th>discount_imp</th>\n",
              "      <td>-0.024725</td>\n",
              "      <td>0.074097</td>\n",
              "      <td>-0.047493</td>\n",
              "      <td>-0.024460</td>\n",
              "      <td>0.073036</td>\n",
              "      <td>-0.084606</td>\n",
              "      <td>-0.022024</td>\n",
              "      <td>-0.011802</td>\n",
              "      <td>0.102411</td>\n",
              "      <td>1.000000</td>\n",
              "    </tr>\n",
              "  </tbody>\n",
              "</table>\n",
              "</div>\n",
              "      <button class=\"colab-df-convert\" onclick=\"convertToInteractive('df-a06584e9-9ad6-4a8d-ba4c-46078f99e94e')\"\n",
              "              title=\"Convert this dataframe to an interactive table.\"\n",
              "              style=\"display:none;\">\n",
              "        \n",
              "  <svg xmlns=\"http://www.w3.org/2000/svg\" height=\"24px\"viewBox=\"0 0 24 24\"\n",
              "       width=\"24px\">\n",
              "    <path d=\"M0 0h24v24H0V0z\" fill=\"none\"/>\n",
              "    <path d=\"M18.56 5.44l.94 2.06.94-2.06 2.06-.94-2.06-.94-.94-2.06-.94 2.06-2.06.94zm-11 1L8.5 8.5l.94-2.06 2.06-.94-2.06-.94L8.5 2.5l-.94 2.06-2.06.94zm10 10l.94 2.06.94-2.06 2.06-.94-2.06-.94-.94-2.06-.94 2.06-2.06.94z\"/><path d=\"M17.41 7.96l-1.37-1.37c-.4-.4-.92-.59-1.43-.59-.52 0-1.04.2-1.43.59L10.3 9.45l-7.72 7.72c-.78.78-.78 2.05 0 2.83L4 21.41c.39.39.9.59 1.41.59.51 0 1.02-.2 1.41-.59l7.78-7.78 2.81-2.81c.8-.78.8-2.07 0-2.86zM5.41 20L4 18.59l7.72-7.72 1.47 1.35L5.41 20z\"/>\n",
              "  </svg>\n",
              "      </button>\n",
              "      \n",
              "  <style>\n",
              "    .colab-df-container {\n",
              "      display:flex;\n",
              "      flex-wrap:wrap;\n",
              "      gap: 12px;\n",
              "    }\n",
              "\n",
              "    .colab-df-convert {\n",
              "      background-color: #E8F0FE;\n",
              "      border: none;\n",
              "      border-radius: 50%;\n",
              "      cursor: pointer;\n",
              "      display: none;\n",
              "      fill: #1967D2;\n",
              "      height: 32px;\n",
              "      padding: 0 0 0 0;\n",
              "      width: 32px;\n",
              "    }\n",
              "\n",
              "    .colab-df-convert:hover {\n",
              "      background-color: #E2EBFA;\n",
              "      box-shadow: 0px 1px 2px rgba(60, 64, 67, 0.3), 0px 1px 3px 1px rgba(60, 64, 67, 0.15);\n",
              "      fill: #174EA6;\n",
              "    }\n",
              "\n",
              "    [theme=dark] .colab-df-convert {\n",
              "      background-color: #3B4455;\n",
              "      fill: #D2E3FC;\n",
              "    }\n",
              "\n",
              "    [theme=dark] .colab-df-convert:hover {\n",
              "      background-color: #434B5C;\n",
              "      box-shadow: 0px 1px 3px 1px rgba(0, 0, 0, 0.15);\n",
              "      filter: drop-shadow(0px 1px 2px rgba(0, 0, 0, 0.3));\n",
              "      fill: #FFFFFF;\n",
              "    }\n",
              "  </style>\n",
              "\n",
              "      <script>\n",
              "        const buttonEl =\n",
              "          document.querySelector('#df-a06584e9-9ad6-4a8d-ba4c-46078f99e94e button.colab-df-convert');\n",
              "        buttonEl.style.display =\n",
              "          google.colab.kernel.accessAllowed ? 'block' : 'none';\n",
              "\n",
              "        async function convertToInteractive(key) {\n",
              "          const element = document.querySelector('#df-a06584e9-9ad6-4a8d-ba4c-46078f99e94e');\n",
              "          const dataTable =\n",
              "            await google.colab.kernel.invokeFunction('convertToInteractive',\n",
              "                                                     [key], {});\n",
              "          if (!dataTable) return;\n",
              "\n",
              "          const docLinkHtml = 'Like what you see? Visit the ' +\n",
              "            '<a target=\"_blank\" href=https://colab.research.google.com/notebooks/data_table.ipynb>data table notebook</a>'\n",
              "            + ' to learn more about interactive tables.';\n",
              "          element.innerHTML = '';\n",
              "          dataTable['output_type'] = 'display_data';\n",
              "          await google.colab.output.renderOutput(dataTable, element);\n",
              "          const docLink = document.createElement('div');\n",
              "          docLink.innerHTML = docLinkHtml;\n",
              "          element.appendChild(docLink);\n",
              "        }\n",
              "      </script>\n",
              "    </div>\n",
              "  </div>\n",
              "  "
            ]
          },
          "metadata": {},
          "execution_count": 194
        }
      ]
    },
    {
      "cell_type": "markdown",
      "source": [
        "##Nuevos atributos"
      ],
      "metadata": {
        "id": "onljrWAG4gst"
      }
    },
    {
      "cell_type": "markdown",
      "source": [
        "### Derivados de precios\n",
        "\n"
      ],
      "metadata": {
        "id": "pB_ZjmFz70PB"
      }
    },
    {
      "cell_type": "code",
      "source": [
        "df['discount'] = df['list_price'] - df['discount_price']"
      ],
      "metadata": {
        "id": "VJUBlkgdJpi9"
      },
      "execution_count": null,
      "outputs": []
    },
    {
      "cell_type": "code",
      "source": [
        "df['pctdiscount'] = 100 * (df['list_price'] - df['discount_price']) / df['list_price']"
      ],
      "metadata": {
        "id": "R1KGl_SV5e5e"
      },
      "execution_count": null,
      "outputs": []
    },
    {
      "cell_type": "code",
      "source": [
        "df = df.assign(log_list_price = np.log(df['list_price']),\n",
        "                sqrt_list_price = np.sqrt(df['list_price']),\n",
        "                invsqrt_list_price = lambda x: 1/np.sqrt(x['list_price']),\n",
        "                log_discount_price = np.log(df['discount_price']),\n",
        "                sqrt_discount_price = np.sqrt(df['discount_price']),\n",
        "                invsqrt_discount_price = lambda x: 1/np.sqrt(x['discount_price']))"
      ],
      "metadata": {
        "id": "l2qLSJtZ-OD6"
      },
      "execution_count": null,
      "outputs": []
    },
    {
      "cell_type": "markdown",
      "source": [
        "###Derivados de locale"
      ],
      "metadata": {
        "id": "sUGefj-NQK_7"
      }
    },
    {
      "cell_type": "markdown",
      "source": [
        "Mapa en base a proporción de bestsellers."
      ],
      "metadata": {
        "id": "Lq-UwR_Das1c"
      }
    },
    {
      "cell_type": "code",
      "source": [
        "df['locale_map'] = df.locale.map({'es_ES':16, 'es_LA':20, 'es_MX':17, 'es_CO':16, 'es_VE':19, 'es_CL':12})"
      ],
      "metadata": {
        "id": "2MI5ZAZHlqSB"
      },
      "execution_count": null,
      "outputs": []
    },
    {
      "cell_type": "code",
      "source": [
        "df['locale_copy'] = df.locale\n",
        "df = pd.get_dummies(df, columns=['locale_copy'], prefix='loc')"
      ],
      "metadata": {
        "id": "MDFVbOKLQN8I"
      },
      "execution_count": null,
      "outputs": []
    },
    {
      "cell_type": "markdown",
      "source": [
        "###Derivados de niveles de instrucción"
      ],
      "metadata": {
        "id": "5M6xh6Entmiw"
      }
    },
    {
      "cell_type": "code",
      "source": [
        "#si es necesario agregar parámetro prefix\n",
        "def less_instructional_levels(row):\n",
        "  if(row['ils2_Todos los niveles'] == 1):\n",
        "    row['ils2_Experto'] = 1\n",
        "    row['ils2_Intermedio'] = 1\n",
        "    row['ils2_Principiante'] = 1\n",
        "  return row"
      ],
      "metadata": {
        "id": "42vVGV_eTZoY"
      },
      "execution_count": null,
      "outputs": []
    },
    {
      "cell_type": "code",
      "source": [
        "df['instructional_level_simple_copy'] = df.instructional_level_simple\n",
        "df = pd.get_dummies(df, columns=['instructional_level_simple_copy'], prefix = 'ils1')"
      ],
      "metadata": {
        "id": "8GjvWf8CFOsq"
      },
      "execution_count": null,
      "outputs": []
    },
    {
      "cell_type": "markdown",
      "source": [
        "Dummies con Todos los niveles eliminado"
      ],
      "metadata": {
        "id": "UMOf3hfda-jz"
      }
    },
    {
      "cell_type": "code",
      "source": [
        "df['instructional_level_simple_copy'] = df.instructional_level_simple\n",
        "df = pd.get_dummies(df, columns=['instructional_level_simple_copy'], prefix = 'ils2')\n",
        "df = df.apply(less_instructional_levels, axis = 1)\n",
        "df.drop('ils2_Todos los niveles', axis = 1, inplace = True)"
      ],
      "metadata": {
        "id": "djGuIZxnSZXY"
      },
      "execution_count": null,
      "outputs": []
    },
    {
      "cell_type": "markdown",
      "source": [
        "###Derivados de captions"
      ],
      "metadata": {
        "id": "3Tmr8X_LxUnD"
      }
    },
    {
      "cell_type": "markdown",
      "source": [
        "Añade las dos variantes de dummies con prefijos diferentes"
      ],
      "metadata": {
        "id": "T9W3q7GAvQ2k"
      }
    },
    {
      "cell_type": "code",
      "source": [
        "df = pd.concat([df, captions_df.add_prefix('cap_'), captions2_df.add_prefix('cap2_')], axis=1)"
      ],
      "metadata": {
        "id": "SwPQhmw_bU8X"
      },
      "execution_count": null,
      "outputs": []
    },
    {
      "cell_type": "markdown",
      "source": [
        "Sumo filas de bolsa de palabras para calcular el número de subtítulos."
      ],
      "metadata": {
        "id": "dL-QblHh3FtL"
      }
    },
    {
      "cell_type": "code",
      "source": [
        "df['n_captions'] = captions_df.sum(axis = 'columns')"
      ],
      "metadata": {
        "id": "yZlEeCp1w93T"
      },
      "execution_count": null,
      "outputs": []
    },
    {
      "cell_type": "markdown",
      "source": [
        "### Derivados de las fechas"
      ],
      "metadata": {
        "id": "hyaFwhIi7_BZ"
      }
    },
    {
      "cell_type": "markdown",
      "source": [
        "Antiguedad del curso (ojo que puede sobreajustar porque los rangos de fechas de test y train son diferentes)"
      ],
      "metadata": {
        "id": "vqyyToRMzYv8"
      }
    },
    {
      "cell_type": "code",
      "source": [
        "df['time_since_creation'] = pd.to_datetime('now') - df['created_date']\n",
        "df['time_since_creation'] = df['time_since_creation'].dt.days"
      ],
      "metadata": {
        "id": "T8rzMBFs9X8v"
      },
      "execution_count": null,
      "outputs": []
    },
    {
      "cell_type": "code",
      "source": [
        "df['time_since_publication'] = pd.to_datetime('now') - df['published_date']\n",
        "df['time_since_publication'] = df['time_since_publication'].dt.days"
      ],
      "metadata": {
        "id": "ewy_wngRu64-"
      },
      "execution_count": null,
      "outputs": []
    },
    {
      "cell_type": "code",
      "source": [
        "df['time_since_update'] = pd.to_datetime('now') - df['last_update_date']\n",
        "df['time_since_update'] = df['time_since_update'].dt.days"
      ],
      "metadata": {
        "id": "zfWndGeePGbo"
      },
      "execution_count": null,
      "outputs": []
    },
    {
      "cell_type": "markdown",
      "source": [
        "Año, mes y trimestre"
      ],
      "metadata": {
        "id": "2j6AIA5PzqXs"
      }
    },
    {
      "cell_type": "code",
      "source": [
        "df['creation_month'] = df.created_date.dt.month\n",
        "df['creation_year'] = df.created_date.dt.year\n",
        "df['creation_quarter'] = df.created_date.dt.quarter\n",
        "df['publication_month'] = df.published_date.dt.month\n",
        "df['publication_year'] = df.published_date.dt.year\n",
        "df['publication_quarter'] = df.published_date.dt.quarter\n",
        "df['update_month'] = df.last_update_date.dt.month\n",
        "df['update_year'] = df.last_update_date.dt.year\n",
        "df['update_quarter'] = df.last_update_date.dt.quarter"
      ],
      "metadata": {
        "id": "4IFzl6Hszv26"
      },
      "execution_count": null,
      "outputs": []
    },
    {
      "cell_type": "markdown",
      "source": [
        "###Derivados de instructores"
      ],
      "metadata": {
        "id": "UGdu4Ifv8RcU"
      }
    },
    {
      "cell_type": "markdown",
      "source": [
        "Sumo filas de bolsa de palabras para calcular número de instructores."
      ],
      "metadata": {
        "id": "Ue7X2nyy3LwL"
      }
    },
    {
      "cell_type": "code",
      "source": [
        "df['n_instructors'] = instructors_df.sum(axis = 'columns')"
      ],
      "metadata": {
        "id": "OLOGlLZA9GFS"
      },
      "execution_count": null,
      "outputs": []
    },
    {
      "cell_type": "markdown",
      "source": [
        "Esta función marca si un instructors es uno de los n mejores bestsellers. Se calcula al momento de entrenar el modelo."
      ],
      "metadata": {
        "id": "WDyAG889bZ0x"
      }
    },
    {
      "cell_type": "code",
      "source": [
        "def bestseller_instructor(Xtrain,Xtest,ytrain,bag,df_instructors,n):\n",
        "  instructor_list = list(bag.loc[Xtrain.index].loc[ytrain == 'si'].sum().sort_values(ascending = False).head(n).index)\n",
        "  exp = ''\n",
        "  for s in instructor_list:\n",
        "    exp = exp + '|' +  s\n",
        "  exp = exp[1:len(exp)]\n",
        "  #print(exp)\n",
        "  Xtrain['bestseller_instructor'] = df_instructors.loc[Xtrain.index].str.contains(exp, na = False)\n",
        "  Xtest['bestseller_instructor'] = df_instructors.loc[Xtest.index].str.contains(exp, na = False)\n",
        "  return Xtrain,Xtest"
      ],
      "metadata": {
        "id": "4EwtIzFk3fUN"
      },
      "execution_count": null,
      "outputs": []
    },
    {
      "cell_type": "markdown",
      "source": [
        "Instructores famosos (variable mágica creada por César)"
      ],
      "metadata": {
        "id": "0WF6L6rJblQF"
      }
    },
    {
      "cell_type": "code",
      "source": [
        "df[\"instructors_fam\"] = df[\"instructors\"].str.contains(\"3311510|150405524|317821|44966978|115981390|15958398|5868708|21023336|19701574|11005030|114656560|53628100|24645730\", na = False)"
      ],
      "metadata": {
        "id": "_bRe88VdwJKq"
      },
      "execution_count": null,
      "outputs": []
    },
    {
      "cell_type": "markdown",
      "source": [
        "Esta función hace algo parecido a la anterior pero para instructores con p-valor que rechaze la hipótesis de independencia, podría hacerse otra función en base a cantidad de bestsellers también."
      ],
      "metadata": {
        "id": "DiEr0khkVY1K"
      }
    },
    {
      "cell_type": "code",
      "source": [
        "def instructors_significant(Xtrain,Xtest,ytrain,bag,df_instructors,significance_level):\n",
        "  instructors_test = sk.feature_selection.SelectKBest(chi2, k=10).fit(bag.loc[Xtrain.index], ytrain) \n",
        "  instructors_test_df = pd.DataFrame({'p-values':instructors_test.pvalues_},index = instructors_test.feature_names_in_)\n",
        "  instructor_list = list((instructors_test_df['p-values'] < significance_level).index)\n",
        "  exp = ''\n",
        "  for s in instructor_list:\n",
        "    exp = exp + '|' +  s\n",
        "  exp = exp[1:len(exp)]\n",
        "  #print(exp)\n",
        "  Xtrain['instructors_significant'] = df_instructors.loc[Xtrain.index].str.contains(exp, na = False)\n",
        "  Xtest['instructors_significant'] = df_instructors.loc[Xtest.index].str.contains(exp, na = False)\n",
        "  return Xtrain,Xtest"
      ],
      "metadata": {
        "id": "JsbduAswRKmz"
      },
      "execution_count": null,
      "outputs": []
    },
    {
      "cell_type": "code",
      "source": [
        "#n_bestseller = instructors_df_train.loc[df_train.bestseller == 'si'].sum()  \n",
        "#n_courses = instructors_df_train[list(n_bestseller.index)].sum() #los índices de n_bestseller son instructores que a su vez son las columnas de la bolsa de palabras\n",
        "#instructor_bestseller_likelihood = n_bestseller / n_courses\n",
        "#instructor_bestseller_likelihood"
      ],
      "metadata": {
        "id": "kCGx415s19oA"
      },
      "execution_count": null,
      "outputs": []
    },
    {
      "cell_type": "code",
      "source": [
        "#(instructors_df_train*instructor_bestseller_likelihood).max(axis = 'columns')"
      ],
      "metadata": {
        "id": "iOp0xgUi8QO5"
      },
      "execution_count": null,
      "outputs": []
    },
    {
      "cell_type": "markdown",
      "source": [
        "Asigno probabilidad de bestseller del mejor instructor. Posee un umbral por número de cursos."
      ],
      "metadata": {
        "id": "fq5ZMTT_b-rc"
      }
    },
    {
      "cell_type": "code",
      "source": [
        "def instructors_likelihood(Xtrain,Xtest,ytrain,bag,course_threshold = 2,fill = 0.2):\n",
        "  n_bestseller = bag.loc[Xtrain.index].loc[ytrain == 'si'].sum() \n",
        "  n_courses = bag.loc[Xtrain.index, list(n_bestseller.index)].sum()\n",
        "  instructor_bestseller_likelihood = n_bestseller / n_courses\n",
        "  instructor_bestseller_likelihood[n_courses <= course_threshold] = fill\n",
        "  Xtrain['instructors_likelihood'] = (bag.loc[Xtrain.index] * instructor_bestseller_likelihood).max(axis = 'columns')\n",
        "  Xtest['instructors_likelihood'] = (bag.loc[Xtest.index] * instructor_bestseller_likelihood).max(axis = 'columns')\n",
        "  return Xtrain,Xtest"
      ],
      "metadata": {
        "id": "j2ebqJJgzncu"
      },
      "execution_count": null,
      "outputs": []
    },
    {
      "cell_type": "markdown",
      "source": [
        "###Derivados de subcategorías"
      ],
      "metadata": {
        "id": "95tH8-GidGTO"
      }
    },
    {
      "cell_type": "markdown",
      "source": [
        "Similar a lo hecho con instructores"
      ],
      "metadata": {
        "id": "rMub3XkOcIAq"
      }
    },
    {
      "cell_type": "code",
      "source": [
        "#obtener subcategory de algun lado\n",
        "def bestseller_subcategory(Xtrain,Xtest,ytrain,df_subcategory,n):\n",
        "  subcategory_list = list(df_subcategory.loc[Xtrain.index].loc[ytrain == 'si'].value_counts().head(n).index)\n",
        "  exp = ''\n",
        "  for s in subcategory_list:\n",
        "    exp = exp + '|' +  s\n",
        "  exp = exp[1:len(exp)]\n",
        "  #print(exp)\n",
        "  Xtrain['bestseller_subcategory'] = df_subcategory.loc[Xtrain.index].isin(subcategory_list)\n",
        "  Xtest['bestseller_subcategory'] = df_subcategory.loc[Xtest.index].isin(subcategory_list)\n",
        "  return Xtrain,Xtest"
      ],
      "metadata": {
        "id": "dAPEMBuRvU6B"
      },
      "execution_count": null,
      "outputs": []
    },
    {
      "cell_type": "code",
      "source": [
        "def subcategory_likelihood(Xtrain,Xtest,ytrain,df_subcategory,course_threshold = 2,fill = 0.2):\n",
        "  bag = pd.get_dummies(df_subcategory)\n",
        "  n_bestseller = bag.loc[Xtrain.index].loc[ytrain == 'si'].sum() \n",
        "  n_courses = bag.loc[Xtrain.index, list(n_bestseller.index)].sum()\n",
        "  subcategory_bestseller_likelihood = n_bestseller / n_courses\n",
        "  subcategory_bestseller_likelihood[n_courses <= course_threshold] = fill\n",
        "  Xtrain['subcategory_likelihood'] = (bag.loc[Xtrain.index] * subcategory_bestseller_likelihood).max(axis = 'columns')\n",
        "  Xtest['subcategory_likelihood'] = (bag.loc[Xtest.index] * subcategory_bestseller_likelihood).max(axis = 'columns')\n",
        "  return Xtrain,Xtest"
      ],
      "metadata": {
        "id": "XquN1caTSgwO"
      },
      "execution_count": null,
      "outputs": []
    },
    {
      "cell_type": "markdown",
      "source": [
        "###Derivados de categorías"
      ],
      "metadata": {
        "id": "ptsZgAeKnfVk"
      }
    },
    {
      "cell_type": "markdown",
      "source": [
        "Mapa de categoría, indica el orden original."
      ],
      "metadata": {
        "id": "YuQGPlCicL4Z"
      }
    },
    {
      "cell_type": "code",
      "source": [
        "df['category_map'] = df['category'].map({'Desarrollo':1, 'Desarrollo personal':2, 'Diseño':3, 'Enseñanzas y disciplinas académicas':4, 'Estilo de vida':5, 'Finanzas y contabilidad':6, 'Fotografía y vídeo':7, 'Informática y software':8, 'Marketing':9, 'Música':10, 'Negocios':11,'Productividad en la oficina':12, 'Salud y fitness':13 })"
      ],
      "metadata": {
        "id": "Agdx0keYnkZx"
      },
      "execution_count": null,
      "outputs": []
    },
    {
      "cell_type": "markdown",
      "source": [
        "Supercategorías."
      ],
      "metadata": {
        "id": "_A3_surycTe4"
      }
    },
    {
      "cell_type": "code",
      "source": [
        "df['category_map2'] = df['category'].map({'Desarrollo':1, 'Desarrollo personal':1, 'Diseño':3, 'Enseñanzas y disciplinas académicas':2, 'Estilo de vida':3, 'Finanzas y contabilidad':3, 'Fotografía y vídeo':3, 'Informática y software':2, 'Marketing':3, 'Música':3, 'Negocios':1,'Productividad en la oficina':3, 'Salud y fitness':3 })"
      ],
      "metadata": {
        "id": "5znKDmO5tlFS"
      },
      "execution_count": null,
      "outputs": []
    },
    {
      "cell_type": "code",
      "source": [
        "df['category_copy'] = df.category\n",
        "df = pd.get_dummies(df, columns=['category_copy'], prefix='cat')"
      ],
      "metadata": {
        "id": "ZcA19pb6F-iS"
      },
      "execution_count": null,
      "outputs": []
    },
    {
      "cell_type": "markdown",
      "source": [
        "###Derivados de titular"
      ],
      "metadata": {
        "id": "v-4wjleowy2y"
      }
    },
    {
      "cell_type": "code",
      "source": [
        "df[\"headline_fam\"] = (df[\"headline\"].str.count(\"de|y|para|aprende\") >= 1)"
      ],
      "metadata": {
        "id": "xFabQd9cwyA6"
      },
      "execution_count": null,
      "outputs": []
    },
    {
      "cell_type": "code",
      "source": [
        "df[\"title_fam\"] = (df[\"headline\"].str.count(\"curso\") >= 1)"
      ],
      "metadata": {
        "id": "METmkIOPxwhp"
      },
      "execution_count": null,
      "outputs": []
    },
    {
      "cell_type": "markdown",
      "source": [
        "###Derivado de título"
      ],
      "metadata": {
        "id": "x5QC_qBuz_QX"
      }
    },
    {
      "cell_type": "code",
      "source": [
        "df['2019to2021'] = df['title'].str.contains(\"2019|2020|2021\")"
      ],
      "metadata": {
        "id": "udJ4Og_Vz9wN"
      },
      "execution_count": null,
      "outputs": []
    },
    {
      "cell_type": "code",
      "source": [
        "df['2020'] = df['title'].str.contains(\"2020|2021\")"
      ],
      "metadata": {
        "id": "CE8C5ViS1ImS"
      },
      "execution_count": null,
      "outputs": []
    },
    {
      "cell_type": "code",
      "source": [
        "df['Power_BI'] = df['title'].str.lower().str.contains('power bi')"
      ],
      "metadata": {
        "id": "W08b5MN91-KE"
      },
      "execution_count": null,
      "outputs": []
    },
    {
      "cell_type": "markdown",
      "source": [
        "###Derivados de content_info_short"
      ],
      "metadata": {
        "id": "A_b7KwcgyQbh"
      }
    },
    {
      "cell_type": "code",
      "source": [
        "df['content_info_time_min'] = df.content_info_time * 60"
      ],
      "metadata": {
        "id": "T99Xc-58yfRR"
      },
      "execution_count": null,
      "outputs": []
    },
    {
      "cell_type": "markdown",
      "source": [
        "###Derivados de content_info_short y precios"
      ],
      "metadata": {
        "id": "zANfqfkyyrzI"
      }
    },
    {
      "cell_type": "code",
      "source": [
        "df = df.assign(timeperUSD1 = df.content_info_time/df.list_price, \n",
        "                questionsperUSD1 = df.content_info_questions/df.list_price,\n",
        "                timeperUSD2 = df.content_info_time/df.discount_price, \n",
        "                questionsperUSD2 = df.content_info_questions/df.discount_price)"
      ],
      "metadata": {
        "id": "PgS_kCUk8-lb"
      },
      "execution_count": null,
      "outputs": []
    },
    {
      "cell_type": "markdown",
      "source": [
        "#Exploración antes de entrenar el modelo"
      ],
      "metadata": {
        "id": "th7vrMCDqGBi"
      }
    },
    {
      "cell_type": "markdown",
      "source": [
        "##Exploración nuevos atributos"
      ],
      "metadata": {
        "id": "R_JhohlAHVsv"
      }
    },
    {
      "cell_type": "markdown",
      "source": [
        "###Dummies de locale"
      ],
      "metadata": {
        "id": "UpO6cKNxI0gA"
      }
    },
    {
      "cell_type": "code",
      "source": [
        "df_train, df_test = unglue(df)"
      ],
      "metadata": {
        "id": "GViBpcUTI7mR"
      },
      "execution_count": null,
      "outputs": []
    },
    {
      "cell_type": "code",
      "source": [
        "locale_test = sk.feature_selection.SelectKBest(chi2, k=6).fit(df_train[[s for s in list(df.columns) if 'loc_' in s]], df_train.bestseller) \n",
        "locale_test.get_feature_names_out()#el orden dado no es por score, ver tabla de scores/p-valores"
      ],
      "metadata": {
        "colab": {
          "base_uri": "https://localhost:8080/"
        },
        "outputId": "aa2752ca-f03f-4fcb-aaec-cf8f9250ee61",
        "id": "sJvh4J6lI5o6"
      },
      "execution_count": null,
      "outputs": [
        {
          "output_type": "execute_result",
          "data": {
            "text/plain": [
              "array(['loc_es_CL', 'loc_es_CO', 'loc_es_ES', 'loc_es_LA', 'loc_es_MX',\n",
              "       'loc_es_VE'], dtype=object)"
            ]
          },
          "metadata": {},
          "execution_count": 231
        }
      ]
    },
    {
      "cell_type": "markdown",
      "source": [
        "Viendo los p-valores, solo puedo rechazar la independencia para es_LA y es_ES"
      ],
      "metadata": {
        "id": "ZSTpFL_8I5o6"
      }
    },
    {
      "cell_type": "code",
      "source": [
        "locale_test_df = pd.DataFrame({'Scores': locale_test.scores_,'p-values':locale_test.pvalues_},index = locale_test.feature_names_in_)\n",
        "locale_test_df.sort_values(by = 'Scores', ascending = False).head(6)"
      ],
      "metadata": {
        "colab": {
          "base_uri": "https://localhost:8080/",
          "height": 237
        },
        "outputId": "c08f81c2-3517-4173-aa23-f6f14149e691",
        "id": "uqwAjPvxI5o6"
      },
      "execution_count": null,
      "outputs": [
        {
          "output_type": "execute_result",
          "data": {
            "text/plain": [
              "              Scores  p-values\n",
              "loc_es_LA  20.331088  0.000007\n",
              "loc_es_ES   6.691965  0.009685\n",
              "loc_es_CL   2.072516  0.149974\n",
              "loc_es_VE   0.343666  0.557721\n",
              "loc_es_CO   0.290387  0.589972\n",
              "loc_es_MX   0.043194  0.835360"
            ],
            "text/html": [
              "\n",
              "  <div id=\"df-e97d9842-b946-4ad9-97e4-aaafb2a005c5\">\n",
              "    <div class=\"colab-df-container\">\n",
              "      <div>\n",
              "<style scoped>\n",
              "    .dataframe tbody tr th:only-of-type {\n",
              "        vertical-align: middle;\n",
              "    }\n",
              "\n",
              "    .dataframe tbody tr th {\n",
              "        vertical-align: top;\n",
              "    }\n",
              "\n",
              "    .dataframe thead th {\n",
              "        text-align: right;\n",
              "    }\n",
              "</style>\n",
              "<table border=\"1\" class=\"dataframe\">\n",
              "  <thead>\n",
              "    <tr style=\"text-align: right;\">\n",
              "      <th></th>\n",
              "      <th>Scores</th>\n",
              "      <th>p-values</th>\n",
              "    </tr>\n",
              "  </thead>\n",
              "  <tbody>\n",
              "    <tr>\n",
              "      <th>loc_es_LA</th>\n",
              "      <td>20.331088</td>\n",
              "      <td>0.000007</td>\n",
              "    </tr>\n",
              "    <tr>\n",
              "      <th>loc_es_ES</th>\n",
              "      <td>6.691965</td>\n",
              "      <td>0.009685</td>\n",
              "    </tr>\n",
              "    <tr>\n",
              "      <th>loc_es_CL</th>\n",
              "      <td>2.072516</td>\n",
              "      <td>0.149974</td>\n",
              "    </tr>\n",
              "    <tr>\n",
              "      <th>loc_es_VE</th>\n",
              "      <td>0.343666</td>\n",
              "      <td>0.557721</td>\n",
              "    </tr>\n",
              "    <tr>\n",
              "      <th>loc_es_CO</th>\n",
              "      <td>0.290387</td>\n",
              "      <td>0.589972</td>\n",
              "    </tr>\n",
              "    <tr>\n",
              "      <th>loc_es_MX</th>\n",
              "      <td>0.043194</td>\n",
              "      <td>0.835360</td>\n",
              "    </tr>\n",
              "  </tbody>\n",
              "</table>\n",
              "</div>\n",
              "      <button class=\"colab-df-convert\" onclick=\"convertToInteractive('df-e97d9842-b946-4ad9-97e4-aaafb2a005c5')\"\n",
              "              title=\"Convert this dataframe to an interactive table.\"\n",
              "              style=\"display:none;\">\n",
              "        \n",
              "  <svg xmlns=\"http://www.w3.org/2000/svg\" height=\"24px\"viewBox=\"0 0 24 24\"\n",
              "       width=\"24px\">\n",
              "    <path d=\"M0 0h24v24H0V0z\" fill=\"none\"/>\n",
              "    <path d=\"M18.56 5.44l.94 2.06.94-2.06 2.06-.94-2.06-.94-.94-2.06-.94 2.06-2.06.94zm-11 1L8.5 8.5l.94-2.06 2.06-.94-2.06-.94L8.5 2.5l-.94 2.06-2.06.94zm10 10l.94 2.06.94-2.06 2.06-.94-2.06-.94-.94-2.06-.94 2.06-2.06.94z\"/><path d=\"M17.41 7.96l-1.37-1.37c-.4-.4-.92-.59-1.43-.59-.52 0-1.04.2-1.43.59L10.3 9.45l-7.72 7.72c-.78.78-.78 2.05 0 2.83L4 21.41c.39.39.9.59 1.41.59.51 0 1.02-.2 1.41-.59l7.78-7.78 2.81-2.81c.8-.78.8-2.07 0-2.86zM5.41 20L4 18.59l7.72-7.72 1.47 1.35L5.41 20z\"/>\n",
              "  </svg>\n",
              "      </button>\n",
              "      \n",
              "  <style>\n",
              "    .colab-df-container {\n",
              "      display:flex;\n",
              "      flex-wrap:wrap;\n",
              "      gap: 12px;\n",
              "    }\n",
              "\n",
              "    .colab-df-convert {\n",
              "      background-color: #E8F0FE;\n",
              "      border: none;\n",
              "      border-radius: 50%;\n",
              "      cursor: pointer;\n",
              "      display: none;\n",
              "      fill: #1967D2;\n",
              "      height: 32px;\n",
              "      padding: 0 0 0 0;\n",
              "      width: 32px;\n",
              "    }\n",
              "\n",
              "    .colab-df-convert:hover {\n",
              "      background-color: #E2EBFA;\n",
              "      box-shadow: 0px 1px 2px rgba(60, 64, 67, 0.3), 0px 1px 3px 1px rgba(60, 64, 67, 0.15);\n",
              "      fill: #174EA6;\n",
              "    }\n",
              "\n",
              "    [theme=dark] .colab-df-convert {\n",
              "      background-color: #3B4455;\n",
              "      fill: #D2E3FC;\n",
              "    }\n",
              "\n",
              "    [theme=dark] .colab-df-convert:hover {\n",
              "      background-color: #434B5C;\n",
              "      box-shadow: 0px 1px 3px 1px rgba(0, 0, 0, 0.15);\n",
              "      filter: drop-shadow(0px 1px 2px rgba(0, 0, 0, 0.3));\n",
              "      fill: #FFFFFF;\n",
              "    }\n",
              "  </style>\n",
              "\n",
              "      <script>\n",
              "        const buttonEl =\n",
              "          document.querySelector('#df-e97d9842-b946-4ad9-97e4-aaafb2a005c5 button.colab-df-convert');\n",
              "        buttonEl.style.display =\n",
              "          google.colab.kernel.accessAllowed ? 'block' : 'none';\n",
              "\n",
              "        async function convertToInteractive(key) {\n",
              "          const element = document.querySelector('#df-e97d9842-b946-4ad9-97e4-aaafb2a005c5');\n",
              "          const dataTable =\n",
              "            await google.colab.kernel.invokeFunction('convertToInteractive',\n",
              "                                                     [key], {});\n",
              "          if (!dataTable) return;\n",
              "\n",
              "          const docLinkHtml = 'Like what you see? Visit the ' +\n",
              "            '<a target=\"_blank\" href=https://colab.research.google.com/notebooks/data_table.ipynb>data table notebook</a>'\n",
              "            + ' to learn more about interactive tables.';\n",
              "          element.innerHTML = '';\n",
              "          dataTable['output_type'] = 'display_data';\n",
              "          await google.colab.output.renderOutput(dataTable, element);\n",
              "          const docLink = document.createElement('div');\n",
              "          docLink.innerHTML = docLinkHtml;\n",
              "          element.appendChild(docLink);\n",
              "        }\n",
              "      </script>\n",
              "    </div>\n",
              "  </div>\n",
              "  "
            ]
          },
          "metadata": {},
          "execution_count": 232
        }
      ]
    },
    {
      "cell_type": "markdown",
      "source": [
        "###Dummies de niveles de instrucción"
      ],
      "metadata": {
        "id": "_RWoPAq2KUhx"
      }
    },
    {
      "cell_type": "code",
      "source": [
        "df_train, df_test = unglue(df)"
      ],
      "metadata": {
        "id": "3CO__VzJKn8_"
      },
      "execution_count": null,
      "outputs": []
    },
    {
      "cell_type": "code",
      "source": [
        "ils1_test = sk.feature_selection.SelectKBest(chi2, k=4).fit(df_train[[s for s in list(df.columns) if 'ils1_' in s]], df_train.bestseller) \n",
        "ils1_test.get_feature_names_out()#el orden dado no es por score, ver tabla de scores/p-valores"
      ],
      "metadata": {
        "colab": {
          "base_uri": "https://localhost:8080/"
        },
        "outputId": "506f1360-4c84-40f0-b317-aa5635268092",
        "id": "yM8_jVxZKn8_"
      },
      "execution_count": null,
      "outputs": [
        {
          "output_type": "execute_result",
          "data": {
            "text/plain": [
              "array(['ils1_Experto', 'ils1_Intermedio', 'ils1_Principiante',\n",
              "       'ils1_Todos los niveles'], dtype=object)"
            ]
          },
          "metadata": {},
          "execution_count": 234
        }
      ]
    },
    {
      "cell_type": "markdown",
      "source": [
        "Todos parecen tener relación en alguna forma u otra"
      ],
      "metadata": {
        "id": "w_YyPNMNKn8_"
      }
    },
    {
      "cell_type": "code",
      "source": [
        "ils1_test_df = pd.DataFrame({'Scores': ils1_test.scores_,'p-values':ils1_test.pvalues_},index = ils1_test.feature_names_in_)\n",
        "ils1_test_df.sort_values(by = 'Scores', ascending = False).head()"
      ],
      "metadata": {
        "colab": {
          "base_uri": "https://localhost:8080/",
          "height": 175
        },
        "outputId": "b1ae538d-0656-4bf5-a3d4-3a7db751a701",
        "id": "ZJmXxOGWKn8_"
      },
      "execution_count": null,
      "outputs": [
        {
          "output_type": "execute_result",
          "data": {
            "text/plain": [
              "                           Scores  p-values\n",
              "ils1_Todos los niveles  23.359073  0.000001\n",
              "ils1_Intermedio         14.392350  0.000148\n",
              "ils1_Experto            10.333980  0.001306\n",
              "ils1_Principiante        3.882100  0.048803"
            ],
            "text/html": [
              "\n",
              "  <div id=\"df-df787378-a2d9-4817-ac04-021c1c7e517c\">\n",
              "    <div class=\"colab-df-container\">\n",
              "      <div>\n",
              "<style scoped>\n",
              "    .dataframe tbody tr th:only-of-type {\n",
              "        vertical-align: middle;\n",
              "    }\n",
              "\n",
              "    .dataframe tbody tr th {\n",
              "        vertical-align: top;\n",
              "    }\n",
              "\n",
              "    .dataframe thead th {\n",
              "        text-align: right;\n",
              "    }\n",
              "</style>\n",
              "<table border=\"1\" class=\"dataframe\">\n",
              "  <thead>\n",
              "    <tr style=\"text-align: right;\">\n",
              "      <th></th>\n",
              "      <th>Scores</th>\n",
              "      <th>p-values</th>\n",
              "    </tr>\n",
              "  </thead>\n",
              "  <tbody>\n",
              "    <tr>\n",
              "      <th>ils1_Todos los niveles</th>\n",
              "      <td>23.359073</td>\n",
              "      <td>0.000001</td>\n",
              "    </tr>\n",
              "    <tr>\n",
              "      <th>ils1_Intermedio</th>\n",
              "      <td>14.392350</td>\n",
              "      <td>0.000148</td>\n",
              "    </tr>\n",
              "    <tr>\n",
              "      <th>ils1_Experto</th>\n",
              "      <td>10.333980</td>\n",
              "      <td>0.001306</td>\n",
              "    </tr>\n",
              "    <tr>\n",
              "      <th>ils1_Principiante</th>\n",
              "      <td>3.882100</td>\n",
              "      <td>0.048803</td>\n",
              "    </tr>\n",
              "  </tbody>\n",
              "</table>\n",
              "</div>\n",
              "      <button class=\"colab-df-convert\" onclick=\"convertToInteractive('df-df787378-a2d9-4817-ac04-021c1c7e517c')\"\n",
              "              title=\"Convert this dataframe to an interactive table.\"\n",
              "              style=\"display:none;\">\n",
              "        \n",
              "  <svg xmlns=\"http://www.w3.org/2000/svg\" height=\"24px\"viewBox=\"0 0 24 24\"\n",
              "       width=\"24px\">\n",
              "    <path d=\"M0 0h24v24H0V0z\" fill=\"none\"/>\n",
              "    <path d=\"M18.56 5.44l.94 2.06.94-2.06 2.06-.94-2.06-.94-.94-2.06-.94 2.06-2.06.94zm-11 1L8.5 8.5l.94-2.06 2.06-.94-2.06-.94L8.5 2.5l-.94 2.06-2.06.94zm10 10l.94 2.06.94-2.06 2.06-.94-2.06-.94-.94-2.06-.94 2.06-2.06.94z\"/><path d=\"M17.41 7.96l-1.37-1.37c-.4-.4-.92-.59-1.43-.59-.52 0-1.04.2-1.43.59L10.3 9.45l-7.72 7.72c-.78.78-.78 2.05 0 2.83L4 21.41c.39.39.9.59 1.41.59.51 0 1.02-.2 1.41-.59l7.78-7.78 2.81-2.81c.8-.78.8-2.07 0-2.86zM5.41 20L4 18.59l7.72-7.72 1.47 1.35L5.41 20z\"/>\n",
              "  </svg>\n",
              "      </button>\n",
              "      \n",
              "  <style>\n",
              "    .colab-df-container {\n",
              "      display:flex;\n",
              "      flex-wrap:wrap;\n",
              "      gap: 12px;\n",
              "    }\n",
              "\n",
              "    .colab-df-convert {\n",
              "      background-color: #E8F0FE;\n",
              "      border: none;\n",
              "      border-radius: 50%;\n",
              "      cursor: pointer;\n",
              "      display: none;\n",
              "      fill: #1967D2;\n",
              "      height: 32px;\n",
              "      padding: 0 0 0 0;\n",
              "      width: 32px;\n",
              "    }\n",
              "\n",
              "    .colab-df-convert:hover {\n",
              "      background-color: #E2EBFA;\n",
              "      box-shadow: 0px 1px 2px rgba(60, 64, 67, 0.3), 0px 1px 3px 1px rgba(60, 64, 67, 0.15);\n",
              "      fill: #174EA6;\n",
              "    }\n",
              "\n",
              "    [theme=dark] .colab-df-convert {\n",
              "      background-color: #3B4455;\n",
              "      fill: #D2E3FC;\n",
              "    }\n",
              "\n",
              "    [theme=dark] .colab-df-convert:hover {\n",
              "      background-color: #434B5C;\n",
              "      box-shadow: 0px 1px 3px 1px rgba(0, 0, 0, 0.15);\n",
              "      filter: drop-shadow(0px 1px 2px rgba(0, 0, 0, 0.3));\n",
              "      fill: #FFFFFF;\n",
              "    }\n",
              "  </style>\n",
              "\n",
              "      <script>\n",
              "        const buttonEl =\n",
              "          document.querySelector('#df-df787378-a2d9-4817-ac04-021c1c7e517c button.colab-df-convert');\n",
              "        buttonEl.style.display =\n",
              "          google.colab.kernel.accessAllowed ? 'block' : 'none';\n",
              "\n",
              "        async function convertToInteractive(key) {\n",
              "          const element = document.querySelector('#df-df787378-a2d9-4817-ac04-021c1c7e517c');\n",
              "          const dataTable =\n",
              "            await google.colab.kernel.invokeFunction('convertToInteractive',\n",
              "                                                     [key], {});\n",
              "          if (!dataTable) return;\n",
              "\n",
              "          const docLinkHtml = 'Like what you see? Visit the ' +\n",
              "            '<a target=\"_blank\" href=https://colab.research.google.com/notebooks/data_table.ipynb>data table notebook</a>'\n",
              "            + ' to learn more about interactive tables.';\n",
              "          element.innerHTML = '';\n",
              "          dataTable['output_type'] = 'display_data';\n",
              "          await google.colab.output.renderOutput(dataTable, element);\n",
              "          const docLink = document.createElement('div');\n",
              "          docLink.innerHTML = docLinkHtml;\n",
              "          element.appendChild(docLink);\n",
              "        }\n",
              "      </script>\n",
              "    </div>\n",
              "  </div>\n",
              "  "
            ]
          },
          "metadata": {},
          "execution_count": 235
        }
      ]
    },
    {
      "cell_type": "code",
      "source": [
        "ils2_test = sk.feature_selection.SelectKBest(chi2, k=3).fit(df_train[[s for s in list(df.columns) if 'ils2_' in s]], df_train.bestseller) \n",
        "ils2_test.get_feature_names_out()#el orden dado no es por score, ver tabla de scores/p-valores"
      ],
      "metadata": {
        "colab": {
          "base_uri": "https://localhost:8080/"
        },
        "outputId": "fd587531-3daf-4e31-807f-b34b5b023995",
        "id": "wEcVXa4uK9Kq"
      },
      "execution_count": null,
      "outputs": [
        {
          "output_type": "execute_result",
          "data": {
            "text/plain": [
              "array(['ils2_Experto', 'ils2_Intermedio', 'ils2_Principiante'],\n",
              "      dtype=object)"
            ]
          },
          "metadata": {},
          "execution_count": 236
        }
      ]
    },
    {
      "cell_type": "markdown",
      "source": [
        "Similar al anterior\n",
        "\n"
      ],
      "metadata": {
        "id": "C1R-dxyuK9Kq"
      }
    },
    {
      "cell_type": "code",
      "source": [
        "ils2_test_df = pd.DataFrame({'Scores': ils2_test.scores_,'p-values':ils2_test.pvalues_},index = ils2_test.feature_names_in_)\n",
        "ils2_test_df.sort_values(by = 'Scores', ascending = False).head()"
      ],
      "metadata": {
        "colab": {
          "base_uri": "https://localhost:8080/",
          "height": 143
        },
        "outputId": "11c8e654-96f3-46fe-b745-33c10dce1b0e",
        "id": "BDZa81-aK9Kq"
      },
      "execution_count": null,
      "outputs": [
        {
          "output_type": "execute_result",
          "data": {
            "text/plain": [
              "                      Scores  p-values\n",
              "ils2_Experto       14.474176  0.000142\n",
              "ils2_Principiante   5.732564  0.016653\n",
              "ils2_Intermedio     4.872167  0.027293"
            ],
            "text/html": [
              "\n",
              "  <div id=\"df-2db4ea45-8132-4495-84a1-d10e8fbc7cb5\">\n",
              "    <div class=\"colab-df-container\">\n",
              "      <div>\n",
              "<style scoped>\n",
              "    .dataframe tbody tr th:only-of-type {\n",
              "        vertical-align: middle;\n",
              "    }\n",
              "\n",
              "    .dataframe tbody tr th {\n",
              "        vertical-align: top;\n",
              "    }\n",
              "\n",
              "    .dataframe thead th {\n",
              "        text-align: right;\n",
              "    }\n",
              "</style>\n",
              "<table border=\"1\" class=\"dataframe\">\n",
              "  <thead>\n",
              "    <tr style=\"text-align: right;\">\n",
              "      <th></th>\n",
              "      <th>Scores</th>\n",
              "      <th>p-values</th>\n",
              "    </tr>\n",
              "  </thead>\n",
              "  <tbody>\n",
              "    <tr>\n",
              "      <th>ils2_Experto</th>\n",
              "      <td>14.474176</td>\n",
              "      <td>0.000142</td>\n",
              "    </tr>\n",
              "    <tr>\n",
              "      <th>ils2_Principiante</th>\n",
              "      <td>5.732564</td>\n",
              "      <td>0.016653</td>\n",
              "    </tr>\n",
              "    <tr>\n",
              "      <th>ils2_Intermedio</th>\n",
              "      <td>4.872167</td>\n",
              "      <td>0.027293</td>\n",
              "    </tr>\n",
              "  </tbody>\n",
              "</table>\n",
              "</div>\n",
              "      <button class=\"colab-df-convert\" onclick=\"convertToInteractive('df-2db4ea45-8132-4495-84a1-d10e8fbc7cb5')\"\n",
              "              title=\"Convert this dataframe to an interactive table.\"\n",
              "              style=\"display:none;\">\n",
              "        \n",
              "  <svg xmlns=\"http://www.w3.org/2000/svg\" height=\"24px\"viewBox=\"0 0 24 24\"\n",
              "       width=\"24px\">\n",
              "    <path d=\"M0 0h24v24H0V0z\" fill=\"none\"/>\n",
              "    <path d=\"M18.56 5.44l.94 2.06.94-2.06 2.06-.94-2.06-.94-.94-2.06-.94 2.06-2.06.94zm-11 1L8.5 8.5l.94-2.06 2.06-.94-2.06-.94L8.5 2.5l-.94 2.06-2.06.94zm10 10l.94 2.06.94-2.06 2.06-.94-2.06-.94-.94-2.06-.94 2.06-2.06.94z\"/><path d=\"M17.41 7.96l-1.37-1.37c-.4-.4-.92-.59-1.43-.59-.52 0-1.04.2-1.43.59L10.3 9.45l-7.72 7.72c-.78.78-.78 2.05 0 2.83L4 21.41c.39.39.9.59 1.41.59.51 0 1.02-.2 1.41-.59l7.78-7.78 2.81-2.81c.8-.78.8-2.07 0-2.86zM5.41 20L4 18.59l7.72-7.72 1.47 1.35L5.41 20z\"/>\n",
              "  </svg>\n",
              "      </button>\n",
              "      \n",
              "  <style>\n",
              "    .colab-df-container {\n",
              "      display:flex;\n",
              "      flex-wrap:wrap;\n",
              "      gap: 12px;\n",
              "    }\n",
              "\n",
              "    .colab-df-convert {\n",
              "      background-color: #E8F0FE;\n",
              "      border: none;\n",
              "      border-radius: 50%;\n",
              "      cursor: pointer;\n",
              "      display: none;\n",
              "      fill: #1967D2;\n",
              "      height: 32px;\n",
              "      padding: 0 0 0 0;\n",
              "      width: 32px;\n",
              "    }\n",
              "\n",
              "    .colab-df-convert:hover {\n",
              "      background-color: #E2EBFA;\n",
              "      box-shadow: 0px 1px 2px rgba(60, 64, 67, 0.3), 0px 1px 3px 1px rgba(60, 64, 67, 0.15);\n",
              "      fill: #174EA6;\n",
              "    }\n",
              "\n",
              "    [theme=dark] .colab-df-convert {\n",
              "      background-color: #3B4455;\n",
              "      fill: #D2E3FC;\n",
              "    }\n",
              "\n",
              "    [theme=dark] .colab-df-convert:hover {\n",
              "      background-color: #434B5C;\n",
              "      box-shadow: 0px 1px 3px 1px rgba(0, 0, 0, 0.15);\n",
              "      filter: drop-shadow(0px 1px 2px rgba(0, 0, 0, 0.3));\n",
              "      fill: #FFFFFF;\n",
              "    }\n",
              "  </style>\n",
              "\n",
              "      <script>\n",
              "        const buttonEl =\n",
              "          document.querySelector('#df-2db4ea45-8132-4495-84a1-d10e8fbc7cb5 button.colab-df-convert');\n",
              "        buttonEl.style.display =\n",
              "          google.colab.kernel.accessAllowed ? 'block' : 'none';\n",
              "\n",
              "        async function convertToInteractive(key) {\n",
              "          const element = document.querySelector('#df-2db4ea45-8132-4495-84a1-d10e8fbc7cb5');\n",
              "          const dataTable =\n",
              "            await google.colab.kernel.invokeFunction('convertToInteractive',\n",
              "                                                     [key], {});\n",
              "          if (!dataTable) return;\n",
              "\n",
              "          const docLinkHtml = 'Like what you see? Visit the ' +\n",
              "            '<a target=\"_blank\" href=https://colab.research.google.com/notebooks/data_table.ipynb>data table notebook</a>'\n",
              "            + ' to learn more about interactive tables.';\n",
              "          element.innerHTML = '';\n",
              "          dataTable['output_type'] = 'display_data';\n",
              "          await google.colab.output.renderOutput(dataTable, element);\n",
              "          const docLink = document.createElement('div');\n",
              "          docLink.innerHTML = docLinkHtml;\n",
              "          element.appendChild(docLink);\n",
              "        }\n",
              "      </script>\n",
              "    </div>\n",
              "  </div>\n",
              "  "
            ]
          },
          "metadata": {},
          "execution_count": 237
        }
      ]
    },
    {
      "cell_type": "markdown",
      "source": [
        "##Correlación entre columnas"
      ],
      "metadata": {
        "id": "la47iFPj3YR8"
      }
    },
    {
      "cell_type": "code",
      "source": [
        "df.corr()"
      ],
      "metadata": {
        "colab": {
          "base_uri": "https://localhost:8080/",
          "height": 488
        },
        "id": "0njhoY7Xwcxk",
        "outputId": "30d9b8d6-9495-4448-991c-f01c25391d22"
      },
      "execution_count": null,
      "outputs": [
        {
          "output_type": "execute_result",
          "data": {
            "text/plain": [
              "                              is_practice_test_course    rating  \\\n",
              "is_practice_test_course                      1.000000 -0.070526   \n",
              "rating                                      -0.070526  1.000000   \n",
              "num_published_lectures                      -0.103739  0.102297   \n",
              "num_published_practice_tests                 0.825220 -0.048138   \n",
              "list_price                                  -0.067069  0.041749   \n",
              "...                                               ...       ...   \n",
              "content_info_time_min                       -0.092836  0.117020   \n",
              "timeperUSD1                                 -0.081098  0.077322   \n",
              "questionsperUSD1                             0.703780 -0.049190   \n",
              "timeperUSD2                                 -0.092593  0.119612   \n",
              "questionsperUSD2                             0.725894 -0.060886   \n",
              "\n",
              "                              num_published_lectures  \\\n",
              "is_practice_test_course                    -0.103739   \n",
              "rating                                      0.102297   \n",
              "num_published_lectures                      1.000000   \n",
              "num_published_practice_tests               -0.075471   \n",
              "list_price                                  0.212796   \n",
              "...                                              ...   \n",
              "content_info_time_min                       0.815799   \n",
              "timeperUSD1                                 0.597520   \n",
              "questionsperUSD1                           -0.073010   \n",
              "timeperUSD2                                 0.811565   \n",
              "questionsperUSD2                           -0.075304   \n",
              "\n",
              "                              num_published_practice_tests  list_price  \\\n",
              "is_practice_test_course                           0.825220   -0.067069   \n",
              "rating                                           -0.048138    0.041749   \n",
              "num_published_lectures                           -0.075471    0.212796   \n",
              "num_published_practice_tests                      1.000000   -0.053294   \n",
              "list_price                                       -0.053294    1.000000   \n",
              "...                                                    ...         ...   \n",
              "content_info_time_min                            -0.068866    0.198431   \n",
              "timeperUSD1                                      -0.057467   -0.206934   \n",
              "questionsperUSD1                                  0.737714   -0.070176   \n",
              "timeperUSD2                                      -0.068946    0.191212   \n",
              "questionsperUSD2                                  0.758986   -0.053329   \n",
              "\n",
              "                              discount_price  content_info_questions  \\\n",
              "is_practice_test_course            -0.001827                0.730286   \n",
              "rating                             -0.058612               -0.062564   \n",
              "num_published_lectures              0.040687               -0.075759   \n",
              "num_published_practice_tests        0.008233                0.763917   \n",
              "list_price                          0.164150               -0.053522   \n",
              "...                                      ...                     ...   \n",
              "content_info_time_min               0.023534               -0.067797   \n",
              "timeperUSD1                        -0.026036               -0.059225   \n",
              "questionsperUSD1                   -0.001523                0.947565   \n",
              "timeperUSD2                        -0.019816               -0.067620   \n",
              "questionsperUSD2                   -0.004960                0.998581   \n",
              "\n",
              "                              content_info_time  last_update_date_imp  \\\n",
              "is_practice_test_course               -0.092836             -0.007481   \n",
              "rating                                 0.117020             -0.139699   \n",
              "num_published_lectures                 0.815799             -0.126146   \n",
              "num_published_practice_tests          -0.068866             -0.010703   \n",
              "list_price                             0.198431             -0.078848   \n",
              "...                                         ...                   ...   \n",
              "content_info_time_min                  1.000000             -0.126674   \n",
              "timeperUSD1                            0.744905             -0.092416   \n",
              "questionsperUSD1                      -0.065336             -0.006791   \n",
              "timeperUSD2                            0.997224             -0.125268   \n",
              "questionsperUSD2                      -0.067389             -0.007919   \n",
              "\n",
              "                              discount_imp  ...  headline_fam  title_fam  \\\n",
              "is_practice_test_course          -0.024725  ...     -0.033246  -0.031268   \n",
              "rating                            0.074097  ...      0.007002   0.006277   \n",
              "num_published_lectures           -0.047493  ...      0.073042   0.043431   \n",
              "num_published_practice_tests     -0.024460  ...     -0.025237  -0.029419   \n",
              "list_price                        0.073036  ...      0.052733  -0.015840   \n",
              "...                                    ...  ...           ...        ...   \n",
              "content_info_time_min            -0.011802  ...      0.058901   0.043390   \n",
              "timeperUSD1                      -0.012339  ...      0.038650   0.044114   \n",
              "questionsperUSD1                 -0.020712  ...     -0.010400  -0.023644   \n",
              "timeperUSD2                      -0.008070  ...      0.058716   0.042984   \n",
              "questionsperUSD2                 -0.021756  ...     -0.007841  -0.024297   \n",
              "\n",
              "                              2019to2021      2020  Power_BI  \\\n",
              "is_practice_test_course         0.186508  0.195332 -0.000011   \n",
              "rating                         -0.016151 -0.002432  0.001836   \n",
              "num_published_lectures          0.062317  0.058727  0.036252   \n",
              "num_published_practice_tests    0.155138  0.168521  0.001477   \n",
              "list_price                      0.016870  0.015929 -0.001042   \n",
              "...                                  ...       ...       ...   \n",
              "content_info_time_min           0.049069  0.045605  0.029181   \n",
              "timeperUSD1                     0.041316  0.044426  0.022591   \n",
              "questionsperUSD1                0.146342  0.158495 -0.002541   \n",
              "timeperUSD2                     0.049903  0.047086  0.029623   \n",
              "questionsperUSD2                0.137370  0.149065 -0.003327   \n",
              "\n",
              "                              content_info_time_min  timeperUSD1  \\\n",
              "is_practice_test_course                   -0.092836    -0.081098   \n",
              "rating                                     0.117020     0.077322   \n",
              "num_published_lectures                     0.815799     0.597520   \n",
              "num_published_practice_tests              -0.068866    -0.057467   \n",
              "list_price                                 0.198431    -0.206934   \n",
              "...                                             ...          ...   \n",
              "content_info_time_min                      1.000000     0.744905   \n",
              "timeperUSD1                                0.744905     1.000000   \n",
              "questionsperUSD1                          -0.065336    -0.057075   \n",
              "timeperUSD2                                0.997224     0.746741   \n",
              "questionsperUSD2                          -0.067389    -0.058869   \n",
              "\n",
              "                              questionsperUSD1  timeperUSD2  questionsperUSD2  \n",
              "is_practice_test_course               0.703780    -0.092593          0.725894  \n",
              "rating                               -0.049190     0.119612         -0.060886  \n",
              "num_published_lectures               -0.073010     0.811565         -0.075304  \n",
              "num_published_practice_tests          0.737714    -0.068946          0.758986  \n",
              "list_price                           -0.070176     0.191212         -0.053329  \n",
              "...                                        ...          ...               ...  \n",
              "content_info_time_min                -0.065336     0.997224         -0.067389  \n",
              "timeperUSD1                          -0.057075     0.746741         -0.058869  \n",
              "questionsperUSD1                      1.000000    -0.065165          0.946828  \n",
              "timeperUSD2                          -0.065165     1.000000         -0.067213  \n",
              "questionsperUSD2                      0.946828    -0.067213          1.000000  \n",
              "\n",
              "[155 rows x 155 columns]"
            ],
            "text/html": [
              "\n",
              "  <div id=\"df-14cbf3a3-cfeb-4b6b-8390-3e6f95d10f5b\">\n",
              "    <div class=\"colab-df-container\">\n",
              "      <div>\n",
              "<style scoped>\n",
              "    .dataframe tbody tr th:only-of-type {\n",
              "        vertical-align: middle;\n",
              "    }\n",
              "\n",
              "    .dataframe tbody tr th {\n",
              "        vertical-align: top;\n",
              "    }\n",
              "\n",
              "    .dataframe thead th {\n",
              "        text-align: right;\n",
              "    }\n",
              "</style>\n",
              "<table border=\"1\" class=\"dataframe\">\n",
              "  <thead>\n",
              "    <tr style=\"text-align: right;\">\n",
              "      <th></th>\n",
              "      <th>is_practice_test_course</th>\n",
              "      <th>rating</th>\n",
              "      <th>num_published_lectures</th>\n",
              "      <th>num_published_practice_tests</th>\n",
              "      <th>list_price</th>\n",
              "      <th>discount_price</th>\n",
              "      <th>content_info_questions</th>\n",
              "      <th>content_info_time</th>\n",
              "      <th>last_update_date_imp</th>\n",
              "      <th>discount_imp</th>\n",
              "      <th>...</th>\n",
              "      <th>headline_fam</th>\n",
              "      <th>title_fam</th>\n",
              "      <th>2019to2021</th>\n",
              "      <th>2020</th>\n",
              "      <th>Power_BI</th>\n",
              "      <th>content_info_time_min</th>\n",
              "      <th>timeperUSD1</th>\n",
              "      <th>questionsperUSD1</th>\n",
              "      <th>timeperUSD2</th>\n",
              "      <th>questionsperUSD2</th>\n",
              "    </tr>\n",
              "  </thead>\n",
              "  <tbody>\n",
              "    <tr>\n",
              "      <th>is_practice_test_course</th>\n",
              "      <td>1.000000</td>\n",
              "      <td>-0.070526</td>\n",
              "      <td>-0.103739</td>\n",
              "      <td>0.825220</td>\n",
              "      <td>-0.067069</td>\n",
              "      <td>-0.001827</td>\n",
              "      <td>0.730286</td>\n",
              "      <td>-0.092836</td>\n",
              "      <td>-0.007481</td>\n",
              "      <td>-0.024725</td>\n",
              "      <td>...</td>\n",
              "      <td>-0.033246</td>\n",
              "      <td>-0.031268</td>\n",
              "      <td>0.186508</td>\n",
              "      <td>0.195332</td>\n",
              "      <td>-0.000011</td>\n",
              "      <td>-0.092836</td>\n",
              "      <td>-0.081098</td>\n",
              "      <td>0.703780</td>\n",
              "      <td>-0.092593</td>\n",
              "      <td>0.725894</td>\n",
              "    </tr>\n",
              "    <tr>\n",
              "      <th>rating</th>\n",
              "      <td>-0.070526</td>\n",
              "      <td>1.000000</td>\n",
              "      <td>0.102297</td>\n",
              "      <td>-0.048138</td>\n",
              "      <td>0.041749</td>\n",
              "      <td>-0.058612</td>\n",
              "      <td>-0.062564</td>\n",
              "      <td>0.117020</td>\n",
              "      <td>-0.139699</td>\n",
              "      <td>0.074097</td>\n",
              "      <td>...</td>\n",
              "      <td>0.007002</td>\n",
              "      <td>0.006277</td>\n",
              "      <td>-0.016151</td>\n",
              "      <td>-0.002432</td>\n",
              "      <td>0.001836</td>\n",
              "      <td>0.117020</td>\n",
              "      <td>0.077322</td>\n",
              "      <td>-0.049190</td>\n",
              "      <td>0.119612</td>\n",
              "      <td>-0.060886</td>\n",
              "    </tr>\n",
              "    <tr>\n",
              "      <th>num_published_lectures</th>\n",
              "      <td>-0.103739</td>\n",
              "      <td>0.102297</td>\n",
              "      <td>1.000000</td>\n",
              "      <td>-0.075471</td>\n",
              "      <td>0.212796</td>\n",
              "      <td>0.040687</td>\n",
              "      <td>-0.075759</td>\n",
              "      <td>0.815799</td>\n",
              "      <td>-0.126146</td>\n",
              "      <td>-0.047493</td>\n",
              "      <td>...</td>\n",
              "      <td>0.073042</td>\n",
              "      <td>0.043431</td>\n",
              "      <td>0.062317</td>\n",
              "      <td>0.058727</td>\n",
              "      <td>0.036252</td>\n",
              "      <td>0.815799</td>\n",
              "      <td>0.597520</td>\n",
              "      <td>-0.073010</td>\n",
              "      <td>0.811565</td>\n",
              "      <td>-0.075304</td>\n",
              "    </tr>\n",
              "    <tr>\n",
              "      <th>num_published_practice_tests</th>\n",
              "      <td>0.825220</td>\n",
              "      <td>-0.048138</td>\n",
              "      <td>-0.075471</td>\n",
              "      <td>1.000000</td>\n",
              "      <td>-0.053294</td>\n",
              "      <td>0.008233</td>\n",
              "      <td>0.763917</td>\n",
              "      <td>-0.068866</td>\n",
              "      <td>-0.010703</td>\n",
              "      <td>-0.024460</td>\n",
              "      <td>...</td>\n",
              "      <td>-0.025237</td>\n",
              "      <td>-0.029419</td>\n",
              "      <td>0.155138</td>\n",
              "      <td>0.168521</td>\n",
              "      <td>0.001477</td>\n",
              "      <td>-0.068866</td>\n",
              "      <td>-0.057467</td>\n",
              "      <td>0.737714</td>\n",
              "      <td>-0.068946</td>\n",
              "      <td>0.758986</td>\n",
              "    </tr>\n",
              "    <tr>\n",
              "      <th>list_price</th>\n",
              "      <td>-0.067069</td>\n",
              "      <td>0.041749</td>\n",
              "      <td>0.212796</td>\n",
              "      <td>-0.053294</td>\n",
              "      <td>1.000000</td>\n",
              "      <td>0.164150</td>\n",
              "      <td>-0.053522</td>\n",
              "      <td>0.198431</td>\n",
              "      <td>-0.078848</td>\n",
              "      <td>0.073036</td>\n",
              "      <td>...</td>\n",
              "      <td>0.052733</td>\n",
              "      <td>-0.015840</td>\n",
              "      <td>0.016870</td>\n",
              "      <td>0.015929</td>\n",
              "      <td>-0.001042</td>\n",
              "      <td>0.198431</td>\n",
              "      <td>-0.206934</td>\n",
              "      <td>-0.070176</td>\n",
              "      <td>0.191212</td>\n",
              "      <td>-0.053329</td>\n",
              "    </tr>\n",
              "    <tr>\n",
              "      <th>...</th>\n",
              "      <td>...</td>\n",
              "      <td>...</td>\n",
              "      <td>...</td>\n",
              "      <td>...</td>\n",
              "      <td>...</td>\n",
              "      <td>...</td>\n",
              "      <td>...</td>\n",
              "      <td>...</td>\n",
              "      <td>...</td>\n",
              "      <td>...</td>\n",
              "      <td>...</td>\n",
              "      <td>...</td>\n",
              "      <td>...</td>\n",
              "      <td>...</td>\n",
              "      <td>...</td>\n",
              "      <td>...</td>\n",
              "      <td>...</td>\n",
              "      <td>...</td>\n",
              "      <td>...</td>\n",
              "      <td>...</td>\n",
              "      <td>...</td>\n",
              "    </tr>\n",
              "    <tr>\n",
              "      <th>content_info_time_min</th>\n",
              "      <td>-0.092836</td>\n",
              "      <td>0.117020</td>\n",
              "      <td>0.815799</td>\n",
              "      <td>-0.068866</td>\n",
              "      <td>0.198431</td>\n",
              "      <td>0.023534</td>\n",
              "      <td>-0.067797</td>\n",
              "      <td>1.000000</td>\n",
              "      <td>-0.126674</td>\n",
              "      <td>-0.011802</td>\n",
              "      <td>...</td>\n",
              "      <td>0.058901</td>\n",
              "      <td>0.043390</td>\n",
              "      <td>0.049069</td>\n",
              "      <td>0.045605</td>\n",
              "      <td>0.029181</td>\n",
              "      <td>1.000000</td>\n",
              "      <td>0.744905</td>\n",
              "      <td>-0.065336</td>\n",
              "      <td>0.997224</td>\n",
              "      <td>-0.067389</td>\n",
              "    </tr>\n",
              "    <tr>\n",
              "      <th>timeperUSD1</th>\n",
              "      <td>-0.081098</td>\n",
              "      <td>0.077322</td>\n",
              "      <td>0.597520</td>\n",
              "      <td>-0.057467</td>\n",
              "      <td>-0.206934</td>\n",
              "      <td>-0.026036</td>\n",
              "      <td>-0.059225</td>\n",
              "      <td>0.744905</td>\n",
              "      <td>-0.092416</td>\n",
              "      <td>-0.012339</td>\n",
              "      <td>...</td>\n",
              "      <td>0.038650</td>\n",
              "      <td>0.044114</td>\n",
              "      <td>0.041316</td>\n",
              "      <td>0.044426</td>\n",
              "      <td>0.022591</td>\n",
              "      <td>0.744905</td>\n",
              "      <td>1.000000</td>\n",
              "      <td>-0.057075</td>\n",
              "      <td>0.746741</td>\n",
              "      <td>-0.058869</td>\n",
              "    </tr>\n",
              "    <tr>\n",
              "      <th>questionsperUSD1</th>\n",
              "      <td>0.703780</td>\n",
              "      <td>-0.049190</td>\n",
              "      <td>-0.073010</td>\n",
              "      <td>0.737714</td>\n",
              "      <td>-0.070176</td>\n",
              "      <td>-0.001523</td>\n",
              "      <td>0.947565</td>\n",
              "      <td>-0.065336</td>\n",
              "      <td>-0.006791</td>\n",
              "      <td>-0.020712</td>\n",
              "      <td>...</td>\n",
              "      <td>-0.010400</td>\n",
              "      <td>-0.023644</td>\n",
              "      <td>0.146342</td>\n",
              "      <td>0.158495</td>\n",
              "      <td>-0.002541</td>\n",
              "      <td>-0.065336</td>\n",
              "      <td>-0.057075</td>\n",
              "      <td>1.000000</td>\n",
              "      <td>-0.065165</td>\n",
              "      <td>0.946828</td>\n",
              "    </tr>\n",
              "    <tr>\n",
              "      <th>timeperUSD2</th>\n",
              "      <td>-0.092593</td>\n",
              "      <td>0.119612</td>\n",
              "      <td>0.811565</td>\n",
              "      <td>-0.068946</td>\n",
              "      <td>0.191212</td>\n",
              "      <td>-0.019816</td>\n",
              "      <td>-0.067620</td>\n",
              "      <td>0.997224</td>\n",
              "      <td>-0.125268</td>\n",
              "      <td>-0.008070</td>\n",
              "      <td>...</td>\n",
              "      <td>0.058716</td>\n",
              "      <td>0.042984</td>\n",
              "      <td>0.049903</td>\n",
              "      <td>0.047086</td>\n",
              "      <td>0.029623</td>\n",
              "      <td>0.997224</td>\n",
              "      <td>0.746741</td>\n",
              "      <td>-0.065165</td>\n",
              "      <td>1.000000</td>\n",
              "      <td>-0.067213</td>\n",
              "    </tr>\n",
              "    <tr>\n",
              "      <th>questionsperUSD2</th>\n",
              "      <td>0.725894</td>\n",
              "      <td>-0.060886</td>\n",
              "      <td>-0.075304</td>\n",
              "      <td>0.758986</td>\n",
              "      <td>-0.053329</td>\n",
              "      <td>-0.004960</td>\n",
              "      <td>0.998581</td>\n",
              "      <td>-0.067389</td>\n",
              "      <td>-0.007919</td>\n",
              "      <td>-0.021756</td>\n",
              "      <td>...</td>\n",
              "      <td>-0.007841</td>\n",
              "      <td>-0.024297</td>\n",
              "      <td>0.137370</td>\n",
              "      <td>0.149065</td>\n",
              "      <td>-0.003327</td>\n",
              "      <td>-0.067389</td>\n",
              "      <td>-0.058869</td>\n",
              "      <td>0.946828</td>\n",
              "      <td>-0.067213</td>\n",
              "      <td>1.000000</td>\n",
              "    </tr>\n",
              "  </tbody>\n",
              "</table>\n",
              "<p>155 rows × 155 columns</p>\n",
              "</div>\n",
              "      <button class=\"colab-df-convert\" onclick=\"convertToInteractive('df-14cbf3a3-cfeb-4b6b-8390-3e6f95d10f5b')\"\n",
              "              title=\"Convert this dataframe to an interactive table.\"\n",
              "              style=\"display:none;\">\n",
              "        \n",
              "  <svg xmlns=\"http://www.w3.org/2000/svg\" height=\"24px\"viewBox=\"0 0 24 24\"\n",
              "       width=\"24px\">\n",
              "    <path d=\"M0 0h24v24H0V0z\" fill=\"none\"/>\n",
              "    <path d=\"M18.56 5.44l.94 2.06.94-2.06 2.06-.94-2.06-.94-.94-2.06-.94 2.06-2.06.94zm-11 1L8.5 8.5l.94-2.06 2.06-.94-2.06-.94L8.5 2.5l-.94 2.06-2.06.94zm10 10l.94 2.06.94-2.06 2.06-.94-2.06-.94-.94-2.06-.94 2.06-2.06.94z\"/><path d=\"M17.41 7.96l-1.37-1.37c-.4-.4-.92-.59-1.43-.59-.52 0-1.04.2-1.43.59L10.3 9.45l-7.72 7.72c-.78.78-.78 2.05 0 2.83L4 21.41c.39.39.9.59 1.41.59.51 0 1.02-.2 1.41-.59l7.78-7.78 2.81-2.81c.8-.78.8-2.07 0-2.86zM5.41 20L4 18.59l7.72-7.72 1.47 1.35L5.41 20z\"/>\n",
              "  </svg>\n",
              "      </button>\n",
              "      \n",
              "  <style>\n",
              "    .colab-df-container {\n",
              "      display:flex;\n",
              "      flex-wrap:wrap;\n",
              "      gap: 12px;\n",
              "    }\n",
              "\n",
              "    .colab-df-convert {\n",
              "      background-color: #E8F0FE;\n",
              "      border: none;\n",
              "      border-radius: 50%;\n",
              "      cursor: pointer;\n",
              "      display: none;\n",
              "      fill: #1967D2;\n",
              "      height: 32px;\n",
              "      padding: 0 0 0 0;\n",
              "      width: 32px;\n",
              "    }\n",
              "\n",
              "    .colab-df-convert:hover {\n",
              "      background-color: #E2EBFA;\n",
              "      box-shadow: 0px 1px 2px rgba(60, 64, 67, 0.3), 0px 1px 3px 1px rgba(60, 64, 67, 0.15);\n",
              "      fill: #174EA6;\n",
              "    }\n",
              "\n",
              "    [theme=dark] .colab-df-convert {\n",
              "      background-color: #3B4455;\n",
              "      fill: #D2E3FC;\n",
              "    }\n",
              "\n",
              "    [theme=dark] .colab-df-convert:hover {\n",
              "      background-color: #434B5C;\n",
              "      box-shadow: 0px 1px 3px 1px rgba(0, 0, 0, 0.15);\n",
              "      filter: drop-shadow(0px 1px 2px rgba(0, 0, 0, 0.3));\n",
              "      fill: #FFFFFF;\n",
              "    }\n",
              "  </style>\n",
              "\n",
              "      <script>\n",
              "        const buttonEl =\n",
              "          document.querySelector('#df-14cbf3a3-cfeb-4b6b-8390-3e6f95d10f5b button.colab-df-convert');\n",
              "        buttonEl.style.display =\n",
              "          google.colab.kernel.accessAllowed ? 'block' : 'none';\n",
              "\n",
              "        async function convertToInteractive(key) {\n",
              "          const element = document.querySelector('#df-14cbf3a3-cfeb-4b6b-8390-3e6f95d10f5b');\n",
              "          const dataTable =\n",
              "            await google.colab.kernel.invokeFunction('convertToInteractive',\n",
              "                                                     [key], {});\n",
              "          if (!dataTable) return;\n",
              "\n",
              "          const docLinkHtml = 'Like what you see? Visit the ' +\n",
              "            '<a target=\"_blank\" href=https://colab.research.google.com/notebooks/data_table.ipynb>data table notebook</a>'\n",
              "            + ' to learn more about interactive tables.';\n",
              "          element.innerHTML = '';\n",
              "          dataTable['output_type'] = 'display_data';\n",
              "          await google.colab.output.renderOutput(dataTable, element);\n",
              "          const docLink = document.createElement('div');\n",
              "          docLink.innerHTML = docLinkHtml;\n",
              "          element.appendChild(docLink);\n",
              "        }\n",
              "      </script>\n",
              "    </div>\n",
              "  </div>\n",
              "  "
            ]
          },
          "metadata": {},
          "execution_count": 238
        }
      ]
    },
    {
      "cell_type": "code",
      "source": [
        "c = df[df.columns.drop('bestseller')].corr().abs()\n",
        "c = c.unstack().sort_values(ascending = False)\n",
        "c[c < 1.0].head(50)"
      ],
      "metadata": {
        "id": "wm4tukVA3Vom",
        "colab": {
          "base_uri": "https://localhost:8080/"
        },
        "outputId": "25232380-b2b1-4da2-d7d7-b46854d7e86c"
      },
      "execution_count": null,
      "outputs": [
        {
          "output_type": "execute_result",
          "data": {
            "text/plain": [
              "list_price              discount                  0.999653\n",
              "discount                list_price                0.999653\n",
              "invsqrt_discount_price  log_discount_price        0.999406\n",
              "log_discount_price      invsqrt_discount_price    0.999406\n",
              "sqrt_discount_price     log_discount_price        0.999324\n",
              "log_discount_price      sqrt_discount_price       0.999324\n",
              "sqrt_discount_price     discount_price            0.999229\n",
              "discount_price          sqrt_discount_price       0.999229\n",
              "content_info_questions  questionsperUSD2          0.998581\n",
              "questionsperUSD2        content_info_questions    0.998581\n",
              "invsqrt_discount_price  sqrt_discount_price       0.997466\n",
              "sqrt_discount_price     invsqrt_discount_price    0.997466\n",
              "content_info_time       timeperUSD2               0.997224\n",
              "timeperUSD2             content_info_time         0.997224\n",
              "                        content_info_time_min     0.997224\n",
              "content_info_time_min   timeperUSD2               0.997224\n",
              "discount_price          log_discount_price        0.997115\n",
              "log_discount_price      discount_price            0.997115\n",
              "log_list_price          invsqrt_list_price        0.994310\n",
              "invsqrt_list_price      log_list_price            0.994310\n",
              "invsqrt_discount_price  discount_price            0.993919\n",
              "discount_price          invsqrt_discount_price    0.993919\n",
              "sqrt_list_price         log_list_price            0.992869\n",
              "log_list_price          sqrt_list_price           0.992869\n",
              "pctdiscount             invsqrt_list_price        0.990960\n",
              "invsqrt_list_price      pctdiscount               0.990960\n",
              "list_price              sqrt_list_price           0.990760\n",
              "sqrt_list_price         list_price                0.990760\n",
              "                        discount                  0.990628\n",
              "discount                sqrt_list_price           0.990628\n",
              "time_since_creation     creation_year             0.987659\n",
              "creation_year           time_since_creation       0.987659\n",
              "publication_year        time_since_publication    0.987240\n",
              "time_since_publication  publication_year          0.987240\n",
              "update_year             time_since_update         0.986617\n",
              "time_since_update       update_year               0.986617\n",
              "cap_None                cap2_es                   0.977844\n",
              "cap2_es                 cap_None                  0.977844\n",
              "                        cap2_None                 0.977844\n",
              "cap2_None               cap2_es                   0.977844\n",
              "pctdiscount             log_list_price            0.975344\n",
              "log_list_price          pctdiscount               0.975344\n",
              "sqrt_list_price         invsqrt_list_price        0.974857\n",
              "invsqrt_list_price      sqrt_list_price           0.974857\n",
              "time_since_creation     time_since_publication    0.973126\n",
              "time_since_publication  time_since_creation       0.973126\n",
              "publication_quarter     publication_month         0.971623\n",
              "publication_month       publication_quarter       0.971623\n",
              "creation_month          creation_quarter          0.971566\n",
              "creation_quarter        creation_month            0.971566\n",
              "dtype: float64"
            ]
          },
          "metadata": {},
          "execution_count": 239
        }
      ]
    },
    {
      "cell_type": "markdown",
      "source": [
        "#Filtrado de variables"
      ],
      "metadata": {
        "id": "gvPWz9TpwjQB"
      }
    },
    {
      "cell_type": "code",
      "source": [
        "df.columns"
      ],
      "metadata": {
        "id": "MpV2Nxadtvmg",
        "colab": {
          "base_uri": "https://localhost:8080/"
        },
        "outputId": "a8d6bc26-440d-46aa-d66b-2633ae1d5f61"
      },
      "execution_count": null,
      "outputs": [
        {
          "output_type": "execute_result",
          "data": {
            "text/plain": [
              "Index(['title', 'headline', 'is_practice_test_course', 'bestseller',\n",
              "       'captions', 'rating', 'num_published_lectures',\n",
              "       'num_published_practice_tests', 'locale', 'created_date',\n",
              "       ...\n",
              "       'headline_fam', 'title_fam', '2019to2021', '2020', 'Power_BI',\n",
              "       'content_info_time_min', 'timeperUSD1', 'questionsperUSD1',\n",
              "       'timeperUSD2', 'questionsperUSD2'],\n",
              "      dtype='object', length=174)"
            ]
          },
          "metadata": {},
          "execution_count": 240
        }
      ]
    },
    {
      "cell_type": "markdown",
      "source": [
        "###Selector manual"
      ],
      "metadata": {
        "id": "P2-u9xXbeRNV"
      }
    },
    {
      "cell_type": "code",
      "source": [
        "columnlist = list(df.columns)\n",
        "#columnas numéricas originales\n",
        "base = ['is_practice_test_course', 'rating','num_published_lectures','num_published_practice_tests'] \n",
        "#columnas relevantes dependiendo de si es curso de práctica o no (sirve si se hace split), \n",
        "#recordar que 'num_published_practice_tests' puede ser para cualquiera\n",
        "practice_course = ['content_info_questions','questionsperUSD1','questionsperUSD2'] \n",
        "non_practice_course = ['num_published_lectures','content_info_time','timeperUSD1','timeperUSD2']  \n",
        "#otras listas útiles\n",
        "price = ['list_price','discount_price']\n",
        "price_derivatives = ['discount','pctdiscount']\n",
        "price_derivatives2 = ['log_list_price','sqrt_list_price','invsqrt_list_price','log_discount_price','sqrt_discount_price','invsqrt_discount_price'] \n",
        "discounts = ['discount_price','discount']\n",
        "instructor = ['instructor_number']\n",
        "info = ['content_info_questions','content_info_time']\n",
        "info_derivatives = ['timeperUSD1','timeperUSD2','questionsperUSD1','questionsperUSD2']\n",
        "instruction_level1 = [s for s in columnlist if 'ils1_' in s]\n",
        "instruction_level2 = [s for s in columnlist if 'ils2_' in s]\n",
        "locale = [s for s in columnlist if 'loc_' in s]\n",
        "category = [s for s in columnlist if 'cat_' in s]\n",
        "captions = [s for s in columnlist if 'cap_' in s]\n",
        "captions2 = [s for s in columnlist if 'cap2_' in s]\n",
        "n_captions = ['n_captions']\n",
        "fam = [\"instructors_fam\",\"headline_fam\",\"title_fam\"]\n",
        "maps = ['locale_map','category_map']\n",
        "cap_sig = ['cap_None','cap_es_LA']\n",
        "locale_sig = ['loc_es_LA','loc_es_ES']\n",
        "columns = base + info + maps + fam + discounts + ['ils1_Todos los niveles'] + ['creation_year'] + cap_sig#+ ['2019to2021','2020','Power_BI']\n",
        "#columns = base + info + maps + fam + ['discount_price','discount'] + ['ils1_Todos los niveles'] + ['creation_year'] + ['cap_None','cap_es_LA']\n",
        "#mejor combinación de César, aunque ratings no está redondeado y no uso tiempo en minutos:\n",
        "# base + info + maps + fam + ['discount_price','discount'] + ['ils1_Todos los niveles'] + ['creation_year']"
      ],
      "metadata": {
        "id": "MQk583ORcadu"
      },
      "execution_count": null,
      "outputs": []
    },
    {
      "cell_type": "markdown",
      "source": [
        "###Selector automático"
      ],
      "metadata": {
        "id": "T-kZOZa0eUmd"
      }
    },
    {
      "cell_type": "code",
      "source": [
        "#mover al loop principal en algún punto, va a requerir algo de trabajo\n",
        "#X = df[df['bestseller'].notna()]\n",
        "#X = X[X.columns.drop('bestseller')]\n",
        "#X = X[columns]\n",
        "#y = df['bestseller']\n",
        "#y = y[y.notna()]\n",
        "#clf = sk.ensemble.RandomForestClassifier(n_estimators=3000, criterion='gini', max_depth=5, n_jobs=-1, random_state=None)\n",
        "#clf.fit(X, y)\n",
        "#\n",
        "#pd.DataFrame({'atributo': clf.feature_names_in_, 'importancia': clf.feature_importances_}).plot.bar(x=\"atributo\", y=\"importancia\");"
      ],
      "metadata": {
        "id": "qbfvK2dcCCbG"
      },
      "execution_count": null,
      "outputs": []
    },
    {
      "cell_type": "code",
      "source": [
        "#%time sfs_backward = sk.feature_selection.SequentialFeatureSelector(clf, n_features_to_select=4, direction=\"forward\").fit(X, y)\n",
        "#support = sfs_backward.get_support()\n",
        "#columns = list(X.columns[support])"
      ],
      "metadata": {
        "id": "qkJ1cY-yD8Fu"
      },
      "execution_count": null,
      "outputs": []
    },
    {
      "cell_type": "markdown",
      "source": [
        "###Aplicación de filtros, separación en prueba y entrenamiento"
      ],
      "metadata": {
        "id": "OCQNtvCKeZS9"
      }
    },
    {
      "cell_type": "code",
      "source": [
        "#df = df[columns + bestseller]"
      ],
      "metadata": {
        "id": "tJQSYk_VdpTN"
      },
      "execution_count": null,
      "outputs": []
    },
    {
      "cell_type": "code",
      "source": [
        "df_train, df_test = unglue(df)"
      ],
      "metadata": {
        "id": "wD1SiUjIws3P"
      },
      "execution_count": null,
      "outputs": []
    },
    {
      "cell_type": "markdown",
      "source": [
        "#Recorte del conjunto de entrenamiento"
      ],
      "metadata": {
        "id": "to49DdR1yHsL"
      }
    },
    {
      "cell_type": "code",
      "source": [
        "is_practice_test_course_filter = None #puede ser ninguno, 'practice', 'non_practice'"
      ],
      "metadata": {
        "id": "1y1u0DNkRKZG"
      },
      "execution_count": null,
      "outputs": []
    },
    {
      "cell_type": "code",
      "source": [
        "development_filter = None #puede ser ninguno, 1, 2, 3"
      ],
      "metadata": {
        "id": "eV3XkAfpqIpj"
      },
      "execution_count": null,
      "outputs": []
    },
    {
      "cell_type": "code",
      "source": [
        "#df_train = df_train[df_train.list_price < 95]\n",
        "#df_train.shape"
      ],
      "metadata": {
        "id": "JG3OwnXoyOmD"
      },
      "execution_count": null,
      "outputs": []
    },
    {
      "cell_type": "code",
      "source": [
        "#df_train = df_train[df_train.content_info_time < 62]\n",
        "#df_train.shape"
      ],
      "metadata": {
        "id": "JtlVUJVd4kXZ"
      },
      "execution_count": null,
      "outputs": []
    },
    {
      "cell_type": "code",
      "source": [
        "#df_train = df_train[df_train.num_published_lectures < 400]\n",
        "#df_train.shape"
      ],
      "metadata": {
        "id": "Z9pcXKFoJplM"
      },
      "execution_count": null,
      "outputs": []
    },
    {
      "cell_type": "code",
      "source": [
        "#df_train = df_train[df_train.content_info_questions < 200] #recorte no conservativo, puede introducir sesgo\n",
        "#df_train.shape"
      ],
      "metadata": {
        "id": "d04Ug0xxKamr"
      },
      "execution_count": null,
      "outputs": []
    },
    {
      "cell_type": "code",
      "source": [
        "#df_train = df_train[df_train.rating > 2.5] #recorte no conservativo, puede introducir sesgo aunque lo considero poco probable\n",
        "#df_train.shape"
      ],
      "metadata": {
        "id": "vkRlRh-OSiYM"
      },
      "execution_count": null,
      "outputs": []
    },
    {
      "cell_type": "code",
      "source": [
        "#df_train = df_train[df_train.rating < 4.9] #ojo, no parece mejorar demasiado el resto\n",
        "#df_train.shape"
      ],
      "metadata": {
        "id": "uOLTaCHOysQE"
      },
      "execution_count": null,
      "outputs": []
    },
    {
      "cell_type": "markdown",
      "source": [
        "Esta parte es por si se quiere correr un modelo para los casos con preguntas y otro para los casos con tiempo, escribiendo is_practice_test_course_filter = None basta para que ignore esta sección"
      ],
      "metadata": {
        "id": "aYoJGhx2RxLt"
      }
    },
    {
      "cell_type": "code",
      "source": [
        "if(is_practice_test_course_filter == 'practice'):\n",
        "  df_train = df_train[df_train.is_practice_test_course]\n",
        "  df_test = df_test[df_test.is_practice_test_course]\n",
        "  #df_train.drop(non_practice_course,axis = 'columns', inplace = True)\n",
        "  columns = list(set(columns) - set(non_practice_course + ['is_practice_test_course']))\n",
        "  #falta remover las columnas de la lista al filtrar para automatizarlo\n",
        "elif(is_practice_test_course_filter == 'non_practice'):\n",
        "  df_train = df_train[df_train.is_practice_test_course == False]\n",
        "  df_test = df_test[df_test.is_practice_test_course == False]\n",
        "  columns = list(set(columns) - set(practice_course + ['is_practice_test_course']))\n",
        "  #df_train.drop(practice_course,axis = 'columns', inplace = True)"
      ],
      "metadata": {
        "id": "afq5AQ_5RJiW"
      },
      "execution_count": null,
      "outputs": []
    },
    {
      "cell_type": "markdown",
      "source": [
        "Este filtro es por si se quiere correr un modelo para el caso de desarrollo (que posee más bestsellers) y el resto."
      ],
      "metadata": {
        "id": "VCEH86Zlq0__"
      }
    },
    {
      "cell_type": "code",
      "source": [
        "if(development_filter == 1):\n",
        "  df_train = df_train[df_train.category_map2 == 1]\n",
        "  df_test = df_test[df_test.category_map2 == 1]\n",
        "elif(development_filter == 2):\n",
        "  df_train = df_train[df_train.category_map2 == 2]\n",
        "  df_test = df_test[df_test.category_map2 == 2]\n",
        "elif(development_filter == 3):\n",
        "  df_train = df_train[df_train.category_map2 == 3]\n",
        "  df_test = df_test[df_test.category_map2 == 3]"
      ],
      "metadata": {
        "id": "I2_0KxLzqz-1"
      },
      "execution_count": null,
      "outputs": []
    },
    {
      "cell_type": "markdown",
      "source": [
        "# Entrenamiento y predicción"
      ],
      "metadata": {
        "id": "i2jRJmQ-tD4Z"
      }
    },
    {
      "cell_type": "markdown",
      "source": [
        "##Entrenamiento"
      ],
      "metadata": {
        "id": "E6THMfBO__zz"
      }
    },
    {
      "cell_type": "code",
      "source": [
        "#configurar en cero para que no se ejecute la función correspondiente\n",
        "significance_level = 0#0.05\n",
        "n_best_instructors = 0#20\n",
        "n_best_subcategories = 0#50"
      ],
      "metadata": {
        "id": "3OAhlCHdse-S"
      },
      "execution_count": null,
      "outputs": []
    },
    {
      "cell_type": "code",
      "source": [
        "balance = False#solo balancea el conjunto de desarrollo para ver si mejora holdout, parece que no mejora mucho (aunque el cv mejora considerablemente)\n",
        "#no usar en conjunto con aprendizaje supervisado porque las funciones usan los ids originales"
      ],
      "metadata": {
        "id": "jRckFz1WhLxP"
      },
      "execution_count": null,
      "outputs": []
    },
    {
      "cell_type": "code",
      "source": [
        "add_instructor_odds = False\n",
        "add_subcategory_odds = False"
      ],
      "metadata": {
        "id": "W8z7loxgNcHm"
      },
      "execution_count": null,
      "outputs": []
    },
    {
      "cell_type": "code",
      "source": [
        "accuracy_list = []\n",
        "X = df_train[columns]#df_train.columns.drop('bestseller')]\n",
        "y = df_train['bestseller']\n",
        "X_dev, X_holdout, y_dev, y_holdout = sk.model_selection.train_test_split(X, y, test_size=0.2, random_state=None, shuffle=True)\n",
        "\n",
        "if(balance):\n",
        "  ros = RandomOverSampler(random_state=0, shrinkage=0.1)\n",
        "  X_dev, y_dev = ros.fit_resample(X_dev, y_dev)\n",
        "  #smote = SMOTE()\n",
        "  #smote = ADASYN()\n",
        "  #X_dev, y_dev = smote.fit_resample(X_dev, y_dev)\n",
        "\n",
        "#hago el kfold manualmente porque necesito hacer cosas en el medio\n",
        "for i in range(5):\n",
        "\n",
        "  # Partimos en entrenamiento y prueba \n",
        "  X_train, X_val, y_train, y_val = sk.model_selection.train_test_split(X_dev, y_dev, test_size=0.2, random_state=None, shuffle=True)\n",
        "\n",
        "  #espacio de aprendizaje supervisado (por ejemplo, para analizar instructores y subcategorías)\n",
        "  if(significance_level):\n",
        "    X_train, X_val = instructors_significant(X_train,X_val,y_train, instructors_df_train,df.instructors, significance_level)\n",
        "  if(n_best_instructors):\n",
        "    X_train, X_val = bestseller_instructor(X_train,X_val,y_train, instructors_df_train,df.instructors, n_best_instructors)\n",
        "  if(n_best_subcategories):\n",
        "    X_train, X_val = bestseller_subcategory(X_train,X_val,y_train, df.subcategory, n_best_subcategories)\n",
        "  if(add_instructor_odds):\n",
        "    X_train, X_val= instructors_likelihood(X_train,X_val,y_train,instructors_df)\n",
        "  if(add_subcategory_odds):\n",
        "    X_train, X_val= subcategory_likelihood(X_train,X_val,y_train,df.subcategory)\n",
        "\n",
        "  # Creamos el objeto del modelo\n",
        "  clf = sk.ensemble.RandomForestClassifier(n_estimators=3000, criterion='gini', max_depth=5, n_jobs=-1, random_state=None)\n",
        "\n",
        "  # Entrenamos el modelo\n",
        "  clf.fit(X_train, y_train)\n",
        "\n",
        "  # Predecimos\n",
        "  y_pred = clf.predict(X_val)\n",
        "\n",
        "  # Medimos la performance de la predicción\n",
        "  accuracy_list.append(sk.metrics.accuracy_score(y_val, y_pred))\n",
        "\n",
        "print(np.mean(accuracy_list),' ',np.std(accuracy_list))"
      ],
      "metadata": {
        "colab": {
          "base_uri": "https://localhost:8080/"
        },
        "id": "PoAhfAjlr-rp",
        "outputId": "8d2bcad0-d6ee-443a-987b-c87499a76d13"
      },
      "execution_count": null,
      "outputs": [
        {
          "output_type": "stream",
          "name": "stdout",
          "text": [
            "0.8204983012457532   0.004444262031789039\n"
          ]
        }
      ]
    },
    {
      "cell_type": "code",
      "source": [
        "#espacio de aprendizaje supervisado (por ejemplo, para analizar instructores y subcategorías)\n",
        "if(significance_level):\n",
        "  X_dev, X_holdout = instructors_significant(X_dev,X_holdout,y_dev, instructors_df,df.instructors, significance_level)\n",
        "if(n_best_instructors):\n",
        "  X_dev, X_holdout = bestseller_instructor(X_dev,X_holdout,y_dev, instructors_df,df.instructors, n_best_instructors)\n",
        "if(n_best_subcategories):\n",
        "  X_dev, X_holdout = bestseller_subcategory(X_dev,X_holdout,y_dev,df.subcategory, n_best_subcategories)\n",
        "if(add_instructor_odds):\n",
        "  X_dev, X_holdout = instructors_likelihood(X_dev,X_holdout,y_dev,instructors_df)\n",
        "if(add_subcategory_odds):\n",
        "  X_dev, X_holdout = subcategory_likelihood(X_dev,X_holdout,y_dev,df.subcategory)\n",
        "\n",
        "clf.fit(X_dev, y_dev)\n",
        "\n",
        "y_pred = clf.predict(X_holdout)\n",
        "\n",
        "print(sk.metrics.accuracy_score(y_holdout, y_pred))\n",
        "print(sk.metrics.classification_report(y_holdout, y_pred))"
      ],
      "metadata": {
        "colab": {
          "base_uri": "https://localhost:8080/"
        },
        "id": "Nl2xG7Obkf37",
        "outputId": "e6fec574-8ec7-41ca-94a7-148a9f93e30d"
      },
      "execution_count": null,
      "outputs": [
        {
          "output_type": "stream",
          "name": "stdout",
          "text": [
            "0.828726778432261\n",
            "              precision    recall  f1-score   support\n",
            "\n",
            "          no       0.83      0.99      0.90      1775\n",
            "          si       0.81      0.16      0.27       432\n",
            "\n",
            "    accuracy                           0.83      2207\n",
            "   macro avg       0.82      0.58      0.59      2207\n",
            "weighted avg       0.83      0.83      0.78      2207\n",
            "\n"
          ]
        }
      ]
    },
    {
      "cell_type": "code",
      "source": [
        "pd.DataFrame({'atributo': clf.feature_names_in_, 'importancia': clf.feature_importances_}).plot.bar(x=\"atributo\", y=\"importancia\");"
      ],
      "metadata": {
        "id": "mjLvndHlm1X8",
        "outputId": "f133b88a-f21a-43ed-af1c-107e8532fba5",
        "colab": {
          "base_uri": "https://localhost:8080/"
        }
      },
      "execution_count": null,
      "outputs": [
        {
          "output_type": "display_data",
          "data": {
            "text/plain": [
              "<Figure size 432x288 with 1 Axes>"
            ],
            "image/png": "[encoded data removed]"
          },
          "metadata": {
            "needs_background": "light"
          }
        }
      ]
    },
    {
      "cell_type": "markdown",
      "source": [
        "###Diagnóstico"
      ],
      "metadata": {
        "id": "dNL_JJgFsWue"
      }
    },
    {
      "cell_type": "markdown",
      "source": [
        "Parece que siempre queda como bestseller == 'no'"
      ],
      "metadata": {
        "id": "5lAIabqEtxHH"
      }
    },
    {
      "cell_type": "code",
      "source": [
        "s_pred = pd.Series(y_pred, index = y_holdout.index)\n",
        "print((s_pred == 'si').sum(),(y_holdout == 'si').sum())\n",
        "if(not is_practice_test_course_filter in ['practice','non_practice']):  \n",
        "  mask = X_holdout.is_practice_test_course\n",
        "  print(sk.metrics.accuracy_score(y_holdout.loc[mask], s_pred.loc[mask]))\n",
        "  print((s_pred.loc[mask] == 'si').sum(),(y_holdout.loc[mask] == 'si').sum())\n",
        "  #print(sk.metrics.classification_report(y_holdout.loc[mask], s_pred.loc[mask]))"
      ],
      "metadata": {
        "id": "WndSo2Hbq3QA",
        "colab": {
          "base_uri": "https://localhost:8080/"
        },
        "outputId": "225105fa-c7bf-48d5-d34f-6fa5b462aaa4"
      },
      "execution_count": null,
      "outputs": [
        {
          "output_type": "stream",
          "name": "stdout",
          "text": [
            "86 432\n",
            "0.8148148148148148\n",
            "0 5\n"
          ]
        }
      ]
    },
    {
      "cell_type": "code",
      "source": [
        "mask = X_holdout.rating < 5\n",
        "print(sk.metrics.accuracy_score(y_holdout.loc[mask], s_pred.loc[mask]))\n",
        "print((s_pred.loc[mask] == 'si').sum(),(y_holdout.loc[mask] == 'si').sum())"
      ],
      "metadata": {
        "colab": {
          "base_uri": "https://localhost:8080/"
        },
        "id": "ru8YupgRcVDj",
        "outputId": "ad29e792-8a1c-4803-a906-17283df4b5f5"
      },
      "execution_count": null,
      "outputs": [
        {
          "output_type": "stream",
          "name": "stdout",
          "text": [
            "0.8160975609756097\n",
            "86 431\n"
          ]
        }
      ]
    },
    {
      "cell_type": "code",
      "source": [
        "y_holdout.value_counts()"
      ],
      "metadata": {
        "colab": {
          "base_uri": "https://localhost:8080/"
        },
        "id": "4elxGtWIwbxv",
        "outputId": "d304c086-56e5-4ac5-b682-9cb2075c3f77"
      },
      "execution_count": null,
      "outputs": [
        {
          "output_type": "execute_result",
          "data": {
            "text/plain": [
              "no    1775\n",
              "si     432\n",
              "Name: bestseller, dtype: int64"
            ]
          },
          "metadata": {},
          "execution_count": 274
        }
      ]
    },
    {
      "cell_type": "code",
      "source": [
        "s_pred.value_counts()"
      ],
      "metadata": {
        "colab": {
          "base_uri": "https://localhost:8080/"
        },
        "id": "vvmkdLoSwjuH",
        "outputId": "96237cd4-9f70-43ae-cdee-38a1a4ce1526"
      },
      "execution_count": null,
      "outputs": [
        {
          "output_type": "execute_result",
          "data": {
            "text/plain": [
              "no    2121\n",
              "si      86\n",
              "dtype: int64"
            ]
          },
          "metadata": {},
          "execution_count": 275
        }
      ]
    },
    {
      "cell_type": "markdown",
      "source": [
        "##Predicción"
      ],
      "metadata": {
        "id": "iU3VLpZxACkb"
      }
    },
    {
      "cell_type": "code",
      "source": [
        "X_prueba = df_test.copy()\n",
        "\n",
        "#espacio de aprendizaje supervisado (por ejemplo, para analizar instructores y subcategorías)\n",
        "if(significance_level):  \n",
        "  X, X_prueba = instructors_significant(X,X_prueba,y, instructors_df,df.instructors, significance_level)\n",
        "if(n_best_instructors):\n",
        "  X, X_prueba = bestseller_instructor(X,X_prueba,y, instructors_df,df.instructors, n_best_instructors)\n",
        "if(n_best_subcategories):\n",
        "  X, X_prueba = bestseller_subcategory(X,X_prueba,y,df.subcategory, n_best_subcategories)\n",
        "if(add_instructor_odds):\n",
        "  X, X_prueba = instructors_likelihood(X,X_prueba,y,instructors_df)\n",
        "if(add_subcategory_odds):\n",
        "  X, X_prueba = subcategory_likelihood(X,X_prueba,y,df.subcategory)\n",
        "\n",
        "\n",
        "# Datos a predecir \n",
        "X_prueba = X_prueba[X.columns]#df_test.columns.drop('bestseller')]\n",
        "\n",
        "# Entrenamos el modelo con todos los datos\n",
        "clf.fit(X, y)\n",
        "\n",
        "# Predecimos\n",
        "X_prueba['bestseller'] = clf.predict(X_prueba)\n",
        "\n",
        "# Grabamos\n",
        "if(is_practice_test_course_filter == 'practice'):\n",
        "  X_prueba['bestseller'].to_csv('/content/solucion_preguntas.csv')\n",
        "elif(is_practice_test_course_filter == 'practice'):\n",
        "  X_prueba['bestseller'].to_csv('/content/solucion_tiempo.csv')\n",
        "elif(development_filter == 1):\n",
        "  X_prueba['bestseller'].to_csv('/content/solucion_1.csv')\n",
        "elif(development_filter == 2):\n",
        "  X_prueba['bestseller'].to_csv('/content/solucion_2.csv')\n",
        "elif(development_filter == 3):\n",
        "  X_prueba['bestseller'].to_csv('/content/solucion_3.csv')\n",
        "else:\n",
        "  X_prueba['bestseller'].to_csv('/content/solucion.csv')"
      ],
      "metadata": {
        "id": "XiLRQP0qt9og"
      },
      "execution_count": null,
      "outputs": []
    },
    {
      "cell_type": "code",
      "source": [
        "X_prueba[X_prueba['bestseller'] == \"si\"]"
      ],
      "metadata": {
        "colab": {
          "base_uri": "https://localhost:8080/"
        },
        "id": "S67H4vIcoq5n",
        "outputId": "3cb21f52-3cbb-471e-f901-d5cb0f56e5ec"
      },
      "execution_count": null,
      "outputs": [
        {
          "output_type": "execute_result",
          "data": {
            "text/plain": [
              "       is_practice_test_course    rating  num_published_lectures  \\\n",
              "id                                                                 \n",
              "11089                    False  4.878622                     380   \n",
              "11139                    False  4.789487                     314   \n",
              "11155                    False  4.497955                     284   \n",
              "11239                    False  4.626189                      34   \n",
              "11248                    False  4.657339                      89   \n",
              "\n",
              "       num_published_practice_tests  content_info_questions  \\\n",
              "id                                                            \n",
              "11089                             0                       0   \n",
              "11139                             0                       0   \n",
              "11155                             0                       0   \n",
              "11239                             0                       0   \n",
              "11248                             0                       0   \n",
              "\n",
              "       content_info_time  locale_map  category_map  instructors_fam  \\\n",
              "id                                                                    \n",
              "11089               43.5          20             1            False   \n",
              "11139               30.5          20             1            False   \n",
              "11155               30.5          16             1            False   \n",
              "11239                5.0          16             2             True   \n",
              "11248               10.0          16             8             True   \n",
              "\n",
              "       headline_fam  title_fam  discount_price  discount  \\\n",
              "id                                                         \n",
              "11089          True      False            12.0     77.99   \n",
              "11139          True       True            12.0      7.99   \n",
              "11155          True      False            12.0     77.99   \n",
              "11239          True      False            12.0     27.99   \n",
              "11248          True      False            12.0     82.99   \n",
              "\n",
              "       ils1_Todos los niveles  creation_year  cap_None  cap_es_LA bestseller  \n",
              "id                                                                            \n",
              "11089                       1           2021         0          1         si  \n",
              "11139                       1           2021         0          1         si  \n",
              "11155                       1           2021         0          0         si  \n",
              "11239                       1           2021         0          0         si  \n",
              "11248                       1           2021         0          0         si  "
            ],
            "text/html": [
              "\n",
              "  <div id=\"df-7d401c49-099a-420f-b469-5a1ec4baa21c\">\n",
              "    <div class=\"colab-df-container\">\n",
              "      <div>\n",
              "<style scoped>\n",
              "    .dataframe tbody tr th:only-of-type {\n",
              "        vertical-align: middle;\n",
              "    }\n",
              "\n",
              "    .dataframe tbody tr th {\n",
              "        vertical-align: top;\n",
              "    }\n",
              "\n",
              "    .dataframe thead th {\n",
              "        text-align: right;\n",
              "    }\n",
              "</style>\n",
              "<table border=\"1\" class=\"dataframe\">\n",
              "  <thead>\n",
              "    <tr style=\"text-align: right;\">\n",
              "      <th></th>\n",
              "      <th>is_practice_test_course</th>\n",
              "      <th>rating</th>\n",
              "      <th>num_published_lectures</th>\n",
              "      <th>num_published_practice_tests</th>\n",
              "      <th>content_info_questions</th>\n",
              "      <th>content_info_time</th>\n",
              "      <th>locale_map</th>\n",
              "      <th>category_map</th>\n",
              "      <th>instructors_fam</th>\n",
              "      <th>headline_fam</th>\n",
              "      <th>title_fam</th>\n",
              "      <th>discount_price</th>\n",
              "      <th>discount</th>\n",
              "      <th>ils1_Todos los niveles</th>\n",
              "      <th>creation_year</th>\n",
              "      <th>cap_None</th>\n",
              "      <th>cap_es_LA</th>\n",
              "      <th>bestseller</th>\n",
              "    </tr>\n",
              "    <tr>\n",
              "      <th>id</th>\n",
              "      <th></th>\n",
              "      <th></th>\n",
              "      <th></th>\n",
              "      <th></th>\n",
              "      <th></th>\n",
              "      <th></th>\n",
              "      <th></th>\n",
              "      <th></th>\n",
              "      <th></th>\n",
              "      <th></th>\n",
              "      <th></th>\n",
              "      <th></th>\n",
              "      <th></th>\n",
              "      <th></th>\n",
              "      <th></th>\n",
              "      <th></th>\n",
              "      <th></th>\n",
              "      <th></th>\n",
              "    </tr>\n",
              "  </thead>\n",
              "  <tbody>\n",
              "    <tr>\n",
              "      <th>11089</th>\n",
              "      <td>False</td>\n",
              "      <td>4.878622</td>\n",
              "      <td>380</td>\n",
              "      <td>0</td>\n",
              "      <td>0</td>\n",
              "      <td>43.5</td>\n",
              "      <td>20</td>\n",
              "      <td>1</td>\n",
              "      <td>False</td>\n",
              "      <td>True</td>\n",
              "      <td>False</td>\n",
              "      <td>12.0</td>\n",
              "      <td>77.99</td>\n",
              "      <td>1</td>\n",
              "      <td>2021</td>\n",
              "      <td>0</td>\n",
              "      <td>1</td>\n",
              "      <td>si</td>\n",
              "    </tr>\n",
              "    <tr>\n",
              "      <th>11139</th>\n",
              "      <td>False</td>\n",
              "      <td>4.789487</td>\n",
              "      <td>314</td>\n",
              "      <td>0</td>\n",
              "      <td>0</td>\n",
              "      <td>30.5</td>\n",
              "      <td>20</td>\n",
              "      <td>1</td>\n",
              "      <td>False</td>\n",
              "      <td>True</td>\n",
              "      <td>True</td>\n",
              "      <td>12.0</td>\n",
              "      <td>7.99</td>\n",
              "      <td>1</td>\n",
              "      <td>2021</td>\n",
              "      <td>0</td>\n",
              "      <td>1</td>\n",
              "      <td>si</td>\n",
              "    </tr>\n",
              "    <tr>\n",
              "      <th>11155</th>\n",
              "      <td>False</td>\n",
              "      <td>4.497955</td>\n",
              "      <td>284</td>\n",
              "      <td>0</td>\n",
              "      <td>0</td>\n",
              "      <td>30.5</td>\n",
              "      <td>16</td>\n",
              "      <td>1</td>\n",
              "      <td>False</td>\n",
              "      <td>True</td>\n",
              "      <td>False</td>\n",
              "      <td>12.0</td>\n",
              "      <td>77.99</td>\n",
              "      <td>1</td>\n",
              "      <td>2021</td>\n",
              "      <td>0</td>\n",
              "      <td>0</td>\n",
              "      <td>si</td>\n",
              "    </tr>\n",
              "    <tr>\n",
              "      <th>11239</th>\n",
              "      <td>False</td>\n",
              "      <td>4.626189</td>\n",
              "      <td>34</td>\n",
              "      <td>0</td>\n",
              "      <td>0</td>\n",
              "      <td>5.0</td>\n",
              "      <td>16</td>\n",
              "      <td>2</td>\n",
              "      <td>True</td>\n",
              "      <td>True</td>\n",
              "      <td>False</td>\n",
              "      <td>12.0</td>\n",
              "      <td>27.99</td>\n",
              "      <td>1</td>\n",
              "      <td>2021</td>\n",
              "      <td>0</td>\n",
              "      <td>0</td>\n",
              "      <td>si</td>\n",
              "    </tr>\n",
              "    <tr>\n",
              "      <th>11248</th>\n",
              "      <td>False</td>\n",
              "      <td>4.657339</td>\n",
              "      <td>89</td>\n",
              "      <td>0</td>\n",
              "      <td>0</td>\n",
              "      <td>10.0</td>\n",
              "      <td>16</td>\n",
              "      <td>8</td>\n",
              "      <td>True</td>\n",
              "      <td>True</td>\n",
              "      <td>False</td>\n",
              "      <td>12.0</td>\n",
              "      <td>82.99</td>\n",
              "      <td>1</td>\n",
              "      <td>2021</td>\n",
              "      <td>0</td>\n",
              "      <td>0</td>\n",
              "      <td>si</td>\n",
              "    </tr>\n",
              "  </tbody>\n",
              "</table>\n",
              "</div>\n",
              "      <button class=\"colab-df-convert\" onclick=\"convertToInteractive('df-7d401c49-099a-420f-b469-5a1ec4baa21c')\"\n",
              "              title=\"Convert this dataframe to an interactive table.\"\n",
              "              style=\"display:none;\">\n",
              "        \n",
              "  <svg xmlns=\"http://www.w3.org/2000/svg\" height=\"24px\"viewBox=\"0 0 24 24\"\n",
              "       width=\"24px\">\n",
              "    <path d=\"M0 0h24v24H0V0z\" fill=\"none\"/>\n",
              "    <path d=\"M18.56 5.44l.94 2.06.94-2.06 2.06-.94-2.06-.94-.94-2.06-.94 2.06-2.06.94zm-11 1L8.5 8.5l.94-2.06 2.06-.94-2.06-.94L8.5 2.5l-.94 2.06-2.06.94zm10 10l.94 2.06.94-2.06 2.06-.94-2.06-.94-.94-2.06-.94 2.06-2.06.94z\"/><path d=\"M17.41 7.96l-1.37-1.37c-.4-.4-.92-.59-1.43-.59-.52 0-1.04.2-1.43.59L10.3 9.45l-7.72 7.72c-.78.78-.78 2.05 0 2.83L4 21.41c.39.39.9.59 1.41.59.51 0 1.02-.2 1.41-.59l7.78-7.78 2.81-2.81c.8-.78.8-2.07 0-2.86zM5.41 20L4 18.59l7.72-7.72 1.47 1.35L5.41 20z\"/>\n",
              "  </svg>\n",
              "      </button>\n",
              "      \n",
              "  <style>\n",
              "    .colab-df-container {\n",
              "      display:flex;\n",
              "      flex-wrap:wrap;\n",
              "      gap: 12px;\n",
              "    }\n",
              "\n",
              "    .colab-df-convert {\n",
              "      background-color: #E8F0FE;\n",
              "      border: none;\n",
              "      border-radius: 50%;\n",
              "      cursor: pointer;\n",
              "      display: none;\n",
              "      fill: #1967D2;\n",
              "      height: 32px;\n",
              "      padding: 0 0 0 0;\n",
              "      width: 32px;\n",
              "    }\n",
              "\n",
              "    .colab-df-convert:hover {\n",
              "      background-color: #E2EBFA;\n",
              "      box-shadow: 0px 1px 2px rgba(60, 64, 67, 0.3), 0px 1px 3px 1px rgba(60, 64, 67, 0.15);\n",
              "      fill: #174EA6;\n",
              "    }\n",
              "\n",
              "    [theme=dark] .colab-df-convert {\n",
              "      background-color: #3B4455;\n",
              "      fill: #D2E3FC;\n",
              "    }\n",
              "\n",
              "    [theme=dark] .colab-df-convert:hover {\n",
              "      background-color: #434B5C;\n",
              "      box-shadow: 0px 1px 3px 1px rgba(0, 0, 0, 0.15);\n",
              "      filter: drop-shadow(0px 1px 2px rgba(0, 0, 0, 0.3));\n",
              "      fill: #FFFFFF;\n",
              "    }\n",
              "  </style>\n",
              "\n",
              "      <script>\n",
              "        const buttonEl =\n",
              "          document.querySelector('#df-7d401c49-099a-420f-b469-5a1ec4baa21c button.colab-df-convert');\n",
              "        buttonEl.style.display =\n",
              "          google.colab.kernel.accessAllowed ? 'block' : 'none';\n",
              "\n",
              "        async function convertToInteractive(key) {\n",
              "          const element = document.querySelector('#df-7d401c49-099a-420f-b469-5a1ec4baa21c');\n",
              "          const dataTable =\n",
              "            await google.colab.kernel.invokeFunction('convertToInteractive',\n",
              "                                                     [key], {});\n",
              "          if (!dataTable) return;\n",
              "\n",
              "          const docLinkHtml = 'Like what you see? Visit the ' +\n",
              "            '<a target=\"_blank\" href=https://colab.research.google.com/notebooks/data_table.ipynb>data table notebook</a>'\n",
              "            + ' to learn more about interactive tables.';\n",
              "          element.innerHTML = '';\n",
              "          dataTable['output_type'] = 'display_data';\n",
              "          await google.colab.output.renderOutput(dataTable, element);\n",
              "          const docLink = document.createElement('div');\n",
              "          docLink.innerHTML = docLinkHtml;\n",
              "          element.appendChild(docLink);\n",
              "        }\n",
              "      </script>\n",
              "    </div>\n",
              "  </div>\n",
              "  "
            ]
          },
          "metadata": {},
          "execution_count": 277
        }
      ]
    }
  ]
}