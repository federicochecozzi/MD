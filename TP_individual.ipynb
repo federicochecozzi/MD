{
  "nbformat": 4,
  "nbformat_minor": 0,
  "metadata": {
    "colab": {
      "name": "TP individual.ipynb",
      "provenance": [],
      "collapsed_sections": [
        "XeCK2HakE4LM",
        "0Ot2dVE1ozU_"
      ],
      "toc_visible": true
    },
    "kernelspec": {
      "name": "python3",
      "display_name": "Python 3"
    },
    "language_info": {
      "name": "python"
    }
  },
  "cells": [
    {
      "cell_type": "markdown",
      "source": [
        "#Descarga de archivos y carga de librerías"
      ],
      "metadata": {
        "id": "NJdU_MReFA99"
      }
    },
    {
      "cell_type": "code",
      "source": [
        "# https://www.properati.com.ar/data\n",
        "! wget -O ar_properties.csv.gz -q https://storage.googleapis.com/properati-data-public/ar_properties.csv.gz\n",
        "! gzip -d -f /content/ar_properties.csv.gz"
      ],
      "metadata": {
        "id": "A7BBykw5oQNl"
      },
      "execution_count": 1,
      "outputs": []
    },
    {
      "cell_type": "code",
      "source": [
        "!gdown -q --fuzzy https://drive.google.com/file/d/1dQYr7i2DMiW3nKUe7ZOjspcDHSJeXU7-/view\n",
        "!unzip -q /content/usdpersqm.zip "
      ],
      "metadata": {
        "id": "jizR4CndnC4Q"
      },
      "execution_count": 2,
      "outputs": []
    },
    {
      "cell_type": "code",
      "source": [
        "!gdown -q --fuzzy https://drive.google.com/file/d/1kO11Na-ZKOg7y86wc2E6xWKvLFEk20M8/view\n",
        "!unzip -q /content/a_predecir.zip "
      ],
      "metadata": {
        "id": "ml5x7NyEZlg9"
      },
      "execution_count": 3,
      "outputs": []
    },
    {
      "cell_type": "code",
      "execution_count": 4,
      "metadata": {
        "id": "jw8ogMDOpvKP"
      },
      "outputs": [],
      "source": [
        "import pandas as pd\n",
        "import numpy as np\n",
        "import scipy as sp\n",
        "import math\n",
        "import sklearn as sk\n",
        "from sklearn import model_selection\n",
        "from sklearn import ensemble\n",
        "from sklearn import metrics\n",
        "import seaborn as sns\n",
        "from sklearn.preprocessing import StandardScaler\n",
        "from sklearn.impute import KNNImputer\n",
        "from sklearn.model_selection import train_test_split\n",
        "from sklearn.metrics import mean_squared_error"
      ]
    },
    {
      "cell_type": "code",
      "source": [
        "import nltk\n",
        "nltk.download('punkt')\n",
        "nltk.download('stopwords')\n",
        "nltk.download('wordnet')\n",
        "from nltk import word_tokenize\n",
        "from nltk.tokenize import RegexpTokenizer\n",
        "from nltk.corpus import stopwords\n",
        "from nltk.stem import SnowballStemmer\n",
        "from nltk.stem import WordNetLemmatizer\n",
        "\n",
        "from sklearn.feature_extraction.text import CountVectorizer"
      ],
      "metadata": {
        "colab": {
          "base_uri": "https://localhost:8080/"
        },
        "id": "RBKjijX2V5Wv",
        "outputId": "62824bce-dfe6-489d-ddff-d37b744e79b0"
      },
      "execution_count": 5,
      "outputs": [
        {
          "output_type": "stream",
          "name": "stderr",
          "text": [
            "[nltk_data] Downloading package punkt to /root/nltk_data...\n",
            "[nltk_data]   Unzipping tokenizers/punkt.zip.\n",
            "[nltk_data] Downloading package stopwords to /root/nltk_data...\n",
            "[nltk_data]   Unzipping corpora/stopwords.zip.\n",
            "[nltk_data] Downloading package wordnet to /root/nltk_data...\n",
            "[nltk_data]   Unzipping corpora/wordnet.zip.\n"
          ]
        }
      ]
    },
    {
      "cell_type": "markdown",
      "source": [
        "# Lectura de datos"
      ],
      "metadata": {
        "id": "20D-m6GPyefp"
      }
    },
    {
      "cell_type": "markdown",
      "source": [
        "##Carga"
      ],
      "metadata": {
        "id": "XeCK2HakE4LM"
      }
    },
    {
      "cell_type": "code",
      "source": [
        "df_train = pd.read_csv('/content/ar_properties.csv', index_col=\"id\", parse_dates = ['start_date','end_date','created_on','end_date'])  "
      ],
      "metadata": {
        "id": "CtV0wOGsqJLC"
      },
      "execution_count": 6,
      "outputs": []
    },
    {
      "cell_type": "code",
      "source": [
        "df_pred = pd.read_csv('/content/a_predecir.csv', index_col=\"id\", parse_dates = ['start_date','end_date','created_on'])"
      ],
      "metadata": {
        "id": "sxWUY_9jE8vJ"
      },
      "execution_count": 7,
      "outputs": []
    },
    {
      "cell_type": "markdown",
      "source": [
        "Archivo con precios por metro cuadrado extraído de los blogs de Properati. Algunos meses no estaban presentes y se llenaron mediante interpolación lineal con un script."
      ],
      "metadata": {
        "id": "B7yegU1Tb7w7"
      }
    },
    {
      "cell_type": "code",
      "source": [
        "df_usdpersqm = pd.read_csv('/content/usdpersqm.csv', index_col=['Barrio','Año','Mes'])"
      ],
      "metadata": {
        "id": "oSDtfqtjoMxf"
      },
      "execution_count": 8,
      "outputs": []
    },
    {
      "cell_type": "markdown",
      "source": [
        "##Un pequeño vistazo..."
      ],
      "metadata": {
        "id": "0Ot2dVE1ozU_"
      }
    },
    {
      "cell_type": "code",
      "source": [
        "df_train.head()"
      ],
      "metadata": {
        "id": "thKYxfNuulgB",
        "colab": {
          "base_uri": "https://localhost:8080/",
          "height": 0
        },
        "outputId": "cc55387f-7673-40c2-cac0-bf8c6f777860"
      },
      "execution_count": 9,
      "outputs": [
        {
          "output_type": "execute_result",
          "data": {
            "text/plain": [
              "                            ad_type start_date    end_date created_on  \\\n",
              "id                                                                      \n",
              "DyVXfkpKygVBKuUk5olH+A==  Propiedad 2020-08-22  2020-09-03 2020-08-22   \n",
              "9naojilaMecJN4jlQiTkGg==  Propiedad 2020-08-22  2020-09-04 2020-08-22   \n",
              "tlCPRJPjoDEUzuuCelemAQ==  Propiedad 2020-08-22  2020-08-31 2020-08-22   \n",
              "Zw3b91glQUO3HNrM5fPYlQ==  Propiedad 2020-08-22  2020-09-04 2020-08-22   \n",
              "bsU81gm9JEgtZCbTYgvykg==  Propiedad 2020-08-22  2020-09-04 2020-08-22   \n",
              "\n",
              "                                lat        lon         l1  \\\n",
              "id                                                          \n",
              "DyVXfkpKygVBKuUk5olH+A== -34.407468 -58.957367  Argentina   \n",
              "9naojilaMecJN4jlQiTkGg== -37.996039 -57.542509  Argentina   \n",
              "tlCPRJPjoDEUzuuCelemAQ== -31.380187 -58.009182  Argentina   \n",
              "Zw3b91glQUO3HNrM5fPYlQ== -27.494106 -55.123455  Argentina   \n",
              "bsU81gm9JEgtZCbTYgvykg== -32.948856 -60.630464  Argentina   \n",
              "\n",
              "                                                    l2             l3   l4  \\\n",
              "id                                                                           \n",
              "DyVXfkpKygVBKuUk5olH+A==      Bs.As. G.B.A. Zona Norte          Pilar  NaN   \n",
              "9naojilaMecJN4jlQiTkGg==  Buenos Aires Costa Atlántica  Mar del Plata  NaN   \n",
              "tlCPRJPjoDEUzuuCelemAQ==                    Entre Ríos      Concordia  NaN   \n",
              "Zw3b91glQUO3HNrM5fPYlQ==                      Misiones          Oberá  NaN   \n",
              "bsU81gm9JEgtZCbTYgvykg==                      Santa Fe        Rosario  NaN   \n",
              "\n",
              "                          ... bathrooms  surface_total  surface_covered  \\\n",
              "id                        ...                                             \n",
              "DyVXfkpKygVBKuUk5olH+A==  ...       NaN       133139.0              NaN   \n",
              "9naojilaMecJN4jlQiTkGg==  ...       NaN          687.0            687.0   \n",
              "tlCPRJPjoDEUzuuCelemAQ==  ...       1.0           80.0             80.0   \n",
              "Zw3b91glQUO3HNrM5fPYlQ==  ...       1.0            NaN              NaN   \n",
              "bsU81gm9JEgtZCbTYgvykg==  ...       1.0           76.0             66.0   \n",
              "\n",
              "                          price  currency  price_period  \\\n",
              "id                                                        \n",
              "DyVXfkpKygVBKuUk5olH+A==    NaN       NaN       Mensual   \n",
              "9naojilaMecJN4jlQiTkGg==    NaN       NaN       Mensual   \n",
              "tlCPRJPjoDEUzuuCelemAQ==    NaN       NaN       Mensual   \n",
              "Zw3b91glQUO3HNrM5fPYlQ==    NaN       NaN       Mensual   \n",
              "bsU81gm9JEgtZCbTYgvykg==    NaN       NaN       Mensual   \n",
              "\n",
              "                                                                      title  \\\n",
              "id                                                                            \n",
              "DyVXfkpKygVBKuUk5olH+A==  VENTA - Lote Industrial 130.000m2 - Parque Ind...   \n",
              "9naojilaMecJN4jlQiTkGg==                               Casa - Santa Cecilia   \n",
              "tlCPRJPjoDEUzuuCelemAQ==                                   Casa - Concordia   \n",
              "Zw3b91glQUO3HNrM5fPYlQ==                                    Terreno - Obera   \n",
              "bsU81gm9JEgtZCbTYgvykg==                             Departamento - Rosario   \n",
              "\n",
              "                                                                description  \\\n",
              "id                                                                            \n",
              "DyVXfkpKygVBKuUk5olH+A==  Lote (Nro.50) mide 133.139 m2\\n<br>Valor: U$S ...   \n",
              "9naojilaMecJN4jlQiTkGg==  Conjunto edilicio de casa y departamentos en b...   \n",
              "tlCPRJPjoDEUzuuCelemAQ==  Casa de un dormitorio, cocina, baño, living co...   \n",
              "Zw3b91glQUO3HNrM5fPYlQ==  IMPORTANTE PROPIEDAD EN VENTA EN OBERA MISIONE...   \n",
              "bsU81gm9JEgtZCbTYgvykg==  PORTAL DE LOS MARINOS<br>Es un complejo de viv...   \n",
              "\n",
              "                         property_type operation_type  \n",
              "id                                                     \n",
              "DyVXfkpKygVBKuUk5olH+A==          Lote          Venta  \n",
              "9naojilaMecJN4jlQiTkGg==          Otro          Venta  \n",
              "tlCPRJPjoDEUzuuCelemAQ==          Casa       Alquiler  \n",
              "Zw3b91glQUO3HNrM5fPYlQ==          Lote          Venta  \n",
              "bsU81gm9JEgtZCbTYgvykg==  Departamento          Venta  \n",
              "\n",
              "[5 rows x 24 columns]"
            ],
            "text/html": [
              "\n",
              "  <div id=\"df-1daa07e4-8660-4c90-bfc8-4173b9e6a54e\">\n",
              "    <div class=\"colab-df-container\">\n",
              "      <div>\n",
              "<style scoped>\n",
              "    .dataframe tbody tr th:only-of-type {\n",
              "        vertical-align: middle;\n",
              "    }\n",
              "\n",
              "    .dataframe tbody tr th {\n",
              "        vertical-align: top;\n",
              "    }\n",
              "\n",
              "    .dataframe thead th {\n",
              "        text-align: right;\n",
              "    }\n",
              "</style>\n",
              "<table border=\"1\" class=\"dataframe\">\n",
              "  <thead>\n",
              "    <tr style=\"text-align: right;\">\n",
              "      <th></th>\n",
              "      <th>ad_type</th>\n",
              "      <th>start_date</th>\n",
              "      <th>end_date</th>\n",
              "      <th>created_on</th>\n",
              "      <th>lat</th>\n",
              "      <th>lon</th>\n",
              "      <th>l1</th>\n",
              "      <th>l2</th>\n",
              "      <th>l3</th>\n",
              "      <th>l4</th>\n",
              "      <th>...</th>\n",
              "      <th>bathrooms</th>\n",
              "      <th>surface_total</th>\n",
              "      <th>surface_covered</th>\n",
              "      <th>price</th>\n",
              "      <th>currency</th>\n",
              "      <th>price_period</th>\n",
              "      <th>title</th>\n",
              "      <th>description</th>\n",
              "      <th>property_type</th>\n",
              "      <th>operation_type</th>\n",
              "    </tr>\n",
              "    <tr>\n",
              "      <th>id</th>\n",
              "      <th></th>\n",
              "      <th></th>\n",
              "      <th></th>\n",
              "      <th></th>\n",
              "      <th></th>\n",
              "      <th></th>\n",
              "      <th></th>\n",
              "      <th></th>\n",
              "      <th></th>\n",
              "      <th></th>\n",
              "      <th></th>\n",
              "      <th></th>\n",
              "      <th></th>\n",
              "      <th></th>\n",
              "      <th></th>\n",
              "      <th></th>\n",
              "      <th></th>\n",
              "      <th></th>\n",
              "      <th></th>\n",
              "      <th></th>\n",
              "      <th></th>\n",
              "    </tr>\n",
              "  </thead>\n",
              "  <tbody>\n",
              "    <tr>\n",
              "      <th>DyVXfkpKygVBKuUk5olH+A==</th>\n",
              "      <td>Propiedad</td>\n",
              "      <td>2020-08-22</td>\n",
              "      <td>2020-09-03</td>\n",
              "      <td>2020-08-22</td>\n",
              "      <td>-34.407468</td>\n",
              "      <td>-58.957367</td>\n",
              "      <td>Argentina</td>\n",
              "      <td>Bs.As. G.B.A. Zona Norte</td>\n",
              "      <td>Pilar</td>\n",
              "      <td>NaN</td>\n",
              "      <td>...</td>\n",
              "      <td>NaN</td>\n",
              "      <td>133139.0</td>\n",
              "      <td>NaN</td>\n",
              "      <td>NaN</td>\n",
              "      <td>NaN</td>\n",
              "      <td>Mensual</td>\n",
              "      <td>VENTA - Lote Industrial 130.000m2 - Parque Ind...</td>\n",
              "      <td>Lote (Nro.50) mide 133.139 m2\\n&lt;br&gt;Valor: U$S ...</td>\n",
              "      <td>Lote</td>\n",
              "      <td>Venta</td>\n",
              "    </tr>\n",
              "    <tr>\n",
              "      <th>9naojilaMecJN4jlQiTkGg==</th>\n",
              "      <td>Propiedad</td>\n",
              "      <td>2020-08-22</td>\n",
              "      <td>2020-09-04</td>\n",
              "      <td>2020-08-22</td>\n",
              "      <td>-37.996039</td>\n",
              "      <td>-57.542509</td>\n",
              "      <td>Argentina</td>\n",
              "      <td>Buenos Aires Costa Atlántica</td>\n",
              "      <td>Mar del Plata</td>\n",
              "      <td>NaN</td>\n",
              "      <td>...</td>\n",
              "      <td>NaN</td>\n",
              "      <td>687.0</td>\n",
              "      <td>687.0</td>\n",
              "      <td>NaN</td>\n",
              "      <td>NaN</td>\n",
              "      <td>Mensual</td>\n",
              "      <td>Casa - Santa Cecilia</td>\n",
              "      <td>Conjunto edilicio de casa y departamentos en b...</td>\n",
              "      <td>Otro</td>\n",
              "      <td>Venta</td>\n",
              "    </tr>\n",
              "    <tr>\n",
              "      <th>tlCPRJPjoDEUzuuCelemAQ==</th>\n",
              "      <td>Propiedad</td>\n",
              "      <td>2020-08-22</td>\n",
              "      <td>2020-08-31</td>\n",
              "      <td>2020-08-22</td>\n",
              "      <td>-31.380187</td>\n",
              "      <td>-58.009182</td>\n",
              "      <td>Argentina</td>\n",
              "      <td>Entre Ríos</td>\n",
              "      <td>Concordia</td>\n",
              "      <td>NaN</td>\n",
              "      <td>...</td>\n",
              "      <td>1.0</td>\n",
              "      <td>80.0</td>\n",
              "      <td>80.0</td>\n",
              "      <td>NaN</td>\n",
              "      <td>NaN</td>\n",
              "      <td>Mensual</td>\n",
              "      <td>Casa - Concordia</td>\n",
              "      <td>Casa de un dormitorio, cocina, baño, living co...</td>\n",
              "      <td>Casa</td>\n",
              "      <td>Alquiler</td>\n",
              "    </tr>\n",
              "    <tr>\n",
              "      <th>Zw3b91glQUO3HNrM5fPYlQ==</th>\n",
              "      <td>Propiedad</td>\n",
              "      <td>2020-08-22</td>\n",
              "      <td>2020-09-04</td>\n",
              "      <td>2020-08-22</td>\n",
              "      <td>-27.494106</td>\n",
              "      <td>-55.123455</td>\n",
              "      <td>Argentina</td>\n",
              "      <td>Misiones</td>\n",
              "      <td>Oberá</td>\n",
              "      <td>NaN</td>\n",
              "      <td>...</td>\n",
              "      <td>1.0</td>\n",
              "      <td>NaN</td>\n",
              "      <td>NaN</td>\n",
              "      <td>NaN</td>\n",
              "      <td>NaN</td>\n",
              "      <td>Mensual</td>\n",
              "      <td>Terreno - Obera</td>\n",
              "      <td>IMPORTANTE PROPIEDAD EN VENTA EN OBERA MISIONE...</td>\n",
              "      <td>Lote</td>\n",
              "      <td>Venta</td>\n",
              "    </tr>\n",
              "    <tr>\n",
              "      <th>bsU81gm9JEgtZCbTYgvykg==</th>\n",
              "      <td>Propiedad</td>\n",
              "      <td>2020-08-22</td>\n",
              "      <td>2020-09-04</td>\n",
              "      <td>2020-08-22</td>\n",
              "      <td>-32.948856</td>\n",
              "      <td>-60.630464</td>\n",
              "      <td>Argentina</td>\n",
              "      <td>Santa Fe</td>\n",
              "      <td>Rosario</td>\n",
              "      <td>NaN</td>\n",
              "      <td>...</td>\n",
              "      <td>1.0</td>\n",
              "      <td>76.0</td>\n",
              "      <td>66.0</td>\n",
              "      <td>NaN</td>\n",
              "      <td>NaN</td>\n",
              "      <td>Mensual</td>\n",
              "      <td>Departamento - Rosario</td>\n",
              "      <td>PORTAL DE LOS MARINOS&lt;br&gt;Es un complejo de viv...</td>\n",
              "      <td>Departamento</td>\n",
              "      <td>Venta</td>\n",
              "    </tr>\n",
              "  </tbody>\n",
              "</table>\n",
              "<p>5 rows × 24 columns</p>\n",
              "</div>\n",
              "      <button class=\"colab-df-convert\" onclick=\"convertToInteractive('df-1daa07e4-8660-4c90-bfc8-4173b9e6a54e')\"\n",
              "              title=\"Convert this dataframe to an interactive table.\"\n",
              "              style=\"display:none;\">\n",
              "        \n",
              "  <svg xmlns=\"http://www.w3.org/2000/svg\" height=\"24px\"viewBox=\"0 0 24 24\"\n",
              "       width=\"24px\">\n",
              "    <path d=\"M0 0h24v24H0V0z\" fill=\"none\"/>\n",
              "    <path d=\"M18.56 5.44l.94 2.06.94-2.06 2.06-.94-2.06-.94-.94-2.06-.94 2.06-2.06.94zm-11 1L8.5 8.5l.94-2.06 2.06-.94-2.06-.94L8.5 2.5l-.94 2.06-2.06.94zm10 10l.94 2.06.94-2.06 2.06-.94-2.06-.94-.94-2.06-.94 2.06-2.06.94z\"/><path d=\"M17.41 7.96l-1.37-1.37c-.4-.4-.92-.59-1.43-.59-.52 0-1.04.2-1.43.59L10.3 9.45l-7.72 7.72c-.78.78-.78 2.05 0 2.83L4 21.41c.39.39.9.59 1.41.59.51 0 1.02-.2 1.41-.59l7.78-7.78 2.81-2.81c.8-.78.8-2.07 0-2.86zM5.41 20L4 18.59l7.72-7.72 1.47 1.35L5.41 20z\"/>\n",
              "  </svg>\n",
              "      </button>\n",
              "      \n",
              "  <style>\n",
              "    .colab-df-container {\n",
              "      display:flex;\n",
              "      flex-wrap:wrap;\n",
              "      gap: 12px;\n",
              "    }\n",
              "\n",
              "    .colab-df-convert {\n",
              "      background-color: #E8F0FE;\n",
              "      border: none;\n",
              "      border-radius: 50%;\n",
              "      cursor: pointer;\n",
              "      display: none;\n",
              "      fill: #1967D2;\n",
              "      height: 32px;\n",
              "      padding: 0 0 0 0;\n",
              "      width: 32px;\n",
              "    }\n",
              "\n",
              "    .colab-df-convert:hover {\n",
              "      background-color: #E2EBFA;\n",
              "      box-shadow: 0px 1px 2px rgba(60, 64, 67, 0.3), 0px 1px 3px 1px rgba(60, 64, 67, 0.15);\n",
              "      fill: #174EA6;\n",
              "    }\n",
              "\n",
              "    [theme=dark] .colab-df-convert {\n",
              "      background-color: #3B4455;\n",
              "      fill: #D2E3FC;\n",
              "    }\n",
              "\n",
              "    [theme=dark] .colab-df-convert:hover {\n",
              "      background-color: #434B5C;\n",
              "      box-shadow: 0px 1px 3px 1px rgba(0, 0, 0, 0.15);\n",
              "      filter: drop-shadow(0px 1px 2px rgba(0, 0, 0, 0.3));\n",
              "      fill: #FFFFFF;\n",
              "    }\n",
              "  </style>\n",
              "\n",
              "      <script>\n",
              "        const buttonEl =\n",
              "          document.querySelector('#df-1daa07e4-8660-4c90-bfc8-4173b9e6a54e button.colab-df-convert');\n",
              "        buttonEl.style.display =\n",
              "          google.colab.kernel.accessAllowed ? 'block' : 'none';\n",
              "\n",
              "        async function convertToInteractive(key) {\n",
              "          const element = document.querySelector('#df-1daa07e4-8660-4c90-bfc8-4173b9e6a54e');\n",
              "          const dataTable =\n",
              "            await google.colab.kernel.invokeFunction('convertToInteractive',\n",
              "                                                     [key], {});\n",
              "          if (!dataTable) return;\n",
              "\n",
              "          const docLinkHtml = 'Like what you see? Visit the ' +\n",
              "            '<a target=\"_blank\" href=https://colab.research.google.com/notebooks/data_table.ipynb>data table notebook</a>'\n",
              "            + ' to learn more about interactive tables.';\n",
              "          element.innerHTML = '';\n",
              "          dataTable['output_type'] = 'display_data';\n",
              "          await google.colab.output.renderOutput(dataTable, element);\n",
              "          const docLink = document.createElement('div');\n",
              "          docLink.innerHTML = docLinkHtml;\n",
              "          element.appendChild(docLink);\n",
              "        }\n",
              "      </script>\n",
              "    </div>\n",
              "  </div>\n",
              "  "
            ]
          },
          "metadata": {},
          "execution_count": 9
        }
      ]
    },
    {
      "cell_type": "code",
      "source": [
        "df_pred.head()"
      ],
      "metadata": {
        "id": "w640ni66FaMW",
        "colab": {
          "base_uri": "https://localhost:8080/",
          "height": 0
        },
        "outputId": "dce85a9c-6610-4245-e986-7bf517cf756b"
      },
      "execution_count": 10,
      "outputs": [
        {
          "output_type": "execute_result",
          "data": {
            "text/plain": [
              "      ad_type start_date   end_date created_on        lat        lon  \\\n",
              "id                                                                     \n",
              "1   Propiedad 2022-04-01 2022-04-01 2022-04-01 -58.407908 -34.601266   \n",
              "2   Propiedad 2022-04-01 2022-04-01 2022-04-01 -58.487296 -34.570272   \n",
              "3   Propiedad 2022-04-01 2022-04-01 2022-04-01 -58.414550 -34.585000   \n",
              "4   Propiedad 2022-04-01 2022-04-01 2022-04-01 -58.399793 -34.600414   \n",
              "5   Propiedad 2022-04-01 2022-04-01 2022-04-01 -58.426532 -34.578066   \n",
              "\n",
              "           l1               l2             l3  rooms  ...  \\\n",
              "id                                                    ...   \n",
              "1   Argentina  Capital Federal      Balvanera    3.0  ...   \n",
              "2   Argentina  Capital Federal  Villa Urquiza    3.0  ...   \n",
              "3   Argentina  Capital Federal        Palermo    5.0  ...   \n",
              "4   Argentina  Capital Federal      Balvanera    2.0  ...   \n",
              "5   Argentina  Capital Federal        Palermo    2.0  ...   \n",
              "\n",
              "                                                title  \\\n",
              "id                                                      \n",
              "1   Jean Jaures 700 - Departamento en Venta en Bal...   \n",
              "2   Nahuel Huapi Al 4900 - Departamento en Venta e...   \n",
              "3   Arenales Al 3700 - Departamento en Venta en Pa...   \n",
              "4   Pasteur 800 - Departamento en Venta en Balvane...   \n",
              "5   Medrano Al 1200 - Departamento en Venta en Pal...   \n",
              "\n",
              "                                          description  property_type  \\\n",
              "id                                                                     \n",
              "1   Descripción básica:<br>- ¡Gran oportunidad, de...   Departamento   \n",
              "2   Edificio de Nivel Superior en la zona! - Detal...   Departamento   \n",
              "3   Excelente piso con palier privado y entrada de...   Departamento   \n",
              "4   ¡Dos ambientes con dependencia en zona Faculta...   Departamento   \n",
              "5   40% de Anticipo, Saldo en 28 Cuotas<br><br>Air...   Departamento   \n",
              "\n",
              "    operation_type                                            details  \\\n",
              "id                                                                      \n",
              "1            Venta  Superficie 48.6m2, Ambientes 3, Baños 1, Dormi...   \n",
              "2            Venta  Superficie 86m2, Ambientes 3, Baños 2, Cochera...   \n",
              "3            Venta  Superficie 172m2, Ambientes 5, Baños 2, Cocher...   \n",
              "4            Venta  Superficie 61.05m2, Ambientes 2, Baños 1, Dorm...   \n",
              "5            Venta  Superficie 52m2, Ambientes 2, Baños 2, Dormito...   \n",
              "\n",
              "                                         additionals  services  l4  l5  l6  \n",
              "id                                                                          \n",
              "1                          Aceptan Mascotas, Terraza  Gas, Luz NaN NaN NaN  \n",
              "2   Pileta, Seguridad, SUM, Laundry, Balcón, Terraza  Gas, Luz NaN NaN NaN  \n",
              "3                           Aceptan Mascotas, Balcón  Gas, Luz NaN NaN NaN  \n",
              "4                                                NaN  Gas, Luz NaN NaN NaN  \n",
              "5   Pileta, SUM, Gimnasio, Aceptan Mascotas, Terraza       NaN NaN NaN NaN  \n",
              "\n",
              "[5 rows x 27 columns]"
            ],
            "text/html": [
              "\n",
              "  <div id=\"df-8b36a4e3-19d6-4748-8cce-a478231d8866\">\n",
              "    <div class=\"colab-df-container\">\n",
              "      <div>\n",
              "<style scoped>\n",
              "    .dataframe tbody tr th:only-of-type {\n",
              "        vertical-align: middle;\n",
              "    }\n",
              "\n",
              "    .dataframe tbody tr th {\n",
              "        vertical-align: top;\n",
              "    }\n",
              "\n",
              "    .dataframe thead th {\n",
              "        text-align: right;\n",
              "    }\n",
              "</style>\n",
              "<table border=\"1\" class=\"dataframe\">\n",
              "  <thead>\n",
              "    <tr style=\"text-align: right;\">\n",
              "      <th></th>\n",
              "      <th>ad_type</th>\n",
              "      <th>start_date</th>\n",
              "      <th>end_date</th>\n",
              "      <th>created_on</th>\n",
              "      <th>lat</th>\n",
              "      <th>lon</th>\n",
              "      <th>l1</th>\n",
              "      <th>l2</th>\n",
              "      <th>l3</th>\n",
              "      <th>rooms</th>\n",
              "      <th>...</th>\n",
              "      <th>title</th>\n",
              "      <th>description</th>\n",
              "      <th>property_type</th>\n",
              "      <th>operation_type</th>\n",
              "      <th>details</th>\n",
              "      <th>additionals</th>\n",
              "      <th>services</th>\n",
              "      <th>l4</th>\n",
              "      <th>l5</th>\n",
              "      <th>l6</th>\n",
              "    </tr>\n",
              "    <tr>\n",
              "      <th>id</th>\n",
              "      <th></th>\n",
              "      <th></th>\n",
              "      <th></th>\n",
              "      <th></th>\n",
              "      <th></th>\n",
              "      <th></th>\n",
              "      <th></th>\n",
              "      <th></th>\n",
              "      <th></th>\n",
              "      <th></th>\n",
              "      <th></th>\n",
              "      <th></th>\n",
              "      <th></th>\n",
              "      <th></th>\n",
              "      <th></th>\n",
              "      <th></th>\n",
              "      <th></th>\n",
              "      <th></th>\n",
              "      <th></th>\n",
              "      <th></th>\n",
              "      <th></th>\n",
              "    </tr>\n",
              "  </thead>\n",
              "  <tbody>\n",
              "    <tr>\n",
              "      <th>1</th>\n",
              "      <td>Propiedad</td>\n",
              "      <td>2022-04-01</td>\n",
              "      <td>2022-04-01</td>\n",
              "      <td>2022-04-01</td>\n",
              "      <td>-58.407908</td>\n",
              "      <td>-34.601266</td>\n",
              "      <td>Argentina</td>\n",
              "      <td>Capital Federal</td>\n",
              "      <td>Balvanera</td>\n",
              "      <td>3.0</td>\n",
              "      <td>...</td>\n",
              "      <td>Jean Jaures 700 - Departamento en Venta en Bal...</td>\n",
              "      <td>Descripción básica:&lt;br&gt;- ¡Gran oportunidad, de...</td>\n",
              "      <td>Departamento</td>\n",
              "      <td>Venta</td>\n",
              "      <td>Superficie 48.6m2, Ambientes 3, Baños 1, Dormi...</td>\n",
              "      <td>Aceptan Mascotas, Terraza</td>\n",
              "      <td>Gas, Luz</td>\n",
              "      <td>NaN</td>\n",
              "      <td>NaN</td>\n",
              "      <td>NaN</td>\n",
              "    </tr>\n",
              "    <tr>\n",
              "      <th>2</th>\n",
              "      <td>Propiedad</td>\n",
              "      <td>2022-04-01</td>\n",
              "      <td>2022-04-01</td>\n",
              "      <td>2022-04-01</td>\n",
              "      <td>-58.487296</td>\n",
              "      <td>-34.570272</td>\n",
              "      <td>Argentina</td>\n",
              "      <td>Capital Federal</td>\n",
              "      <td>Villa Urquiza</td>\n",
              "      <td>3.0</td>\n",
              "      <td>...</td>\n",
              "      <td>Nahuel Huapi Al 4900 - Departamento en Venta e...</td>\n",
              "      <td>Edificio de Nivel Superior en la zona! - Detal...</td>\n",
              "      <td>Departamento</td>\n",
              "      <td>Venta</td>\n",
              "      <td>Superficie 86m2, Ambientes 3, Baños 2, Cochera...</td>\n",
              "      <td>Pileta, Seguridad, SUM, Laundry, Balcón, Terraza</td>\n",
              "      <td>Gas, Luz</td>\n",
              "      <td>NaN</td>\n",
              "      <td>NaN</td>\n",
              "      <td>NaN</td>\n",
              "    </tr>\n",
              "    <tr>\n",
              "      <th>3</th>\n",
              "      <td>Propiedad</td>\n",
              "      <td>2022-04-01</td>\n",
              "      <td>2022-04-01</td>\n",
              "      <td>2022-04-01</td>\n",
              "      <td>-58.414550</td>\n",
              "      <td>-34.585000</td>\n",
              "      <td>Argentina</td>\n",
              "      <td>Capital Federal</td>\n",
              "      <td>Palermo</td>\n",
              "      <td>5.0</td>\n",
              "      <td>...</td>\n",
              "      <td>Arenales Al 3700 - Departamento en Venta en Pa...</td>\n",
              "      <td>Excelente piso con palier privado y entrada de...</td>\n",
              "      <td>Departamento</td>\n",
              "      <td>Venta</td>\n",
              "      <td>Superficie 172m2, Ambientes 5, Baños 2, Cocher...</td>\n",
              "      <td>Aceptan Mascotas, Balcón</td>\n",
              "      <td>Gas, Luz</td>\n",
              "      <td>NaN</td>\n",
              "      <td>NaN</td>\n",
              "      <td>NaN</td>\n",
              "    </tr>\n",
              "    <tr>\n",
              "      <th>4</th>\n",
              "      <td>Propiedad</td>\n",
              "      <td>2022-04-01</td>\n",
              "      <td>2022-04-01</td>\n",
              "      <td>2022-04-01</td>\n",
              "      <td>-58.399793</td>\n",
              "      <td>-34.600414</td>\n",
              "      <td>Argentina</td>\n",
              "      <td>Capital Federal</td>\n",
              "      <td>Balvanera</td>\n",
              "      <td>2.0</td>\n",
              "      <td>...</td>\n",
              "      <td>Pasteur 800 - Departamento en Venta en Balvane...</td>\n",
              "      <td>¡Dos ambientes con dependencia en zona Faculta...</td>\n",
              "      <td>Departamento</td>\n",
              "      <td>Venta</td>\n",
              "      <td>Superficie 61.05m2, Ambientes 2, Baños 1, Dorm...</td>\n",
              "      <td>NaN</td>\n",
              "      <td>Gas, Luz</td>\n",
              "      <td>NaN</td>\n",
              "      <td>NaN</td>\n",
              "      <td>NaN</td>\n",
              "    </tr>\n",
              "    <tr>\n",
              "      <th>5</th>\n",
              "      <td>Propiedad</td>\n",
              "      <td>2022-04-01</td>\n",
              "      <td>2022-04-01</td>\n",
              "      <td>2022-04-01</td>\n",
              "      <td>-58.426532</td>\n",
              "      <td>-34.578066</td>\n",
              "      <td>Argentina</td>\n",
              "      <td>Capital Federal</td>\n",
              "      <td>Palermo</td>\n",
              "      <td>2.0</td>\n",
              "      <td>...</td>\n",
              "      <td>Medrano Al 1200 - Departamento en Venta en Pal...</td>\n",
              "      <td>40% de Anticipo, Saldo en 28 Cuotas&lt;br&gt;&lt;br&gt;Air...</td>\n",
              "      <td>Departamento</td>\n",
              "      <td>Venta</td>\n",
              "      <td>Superficie 52m2, Ambientes 2, Baños 2, Dormito...</td>\n",
              "      <td>Pileta, SUM, Gimnasio, Aceptan Mascotas, Terraza</td>\n",
              "      <td>NaN</td>\n",
              "      <td>NaN</td>\n",
              "      <td>NaN</td>\n",
              "      <td>NaN</td>\n",
              "    </tr>\n",
              "  </tbody>\n",
              "</table>\n",
              "<p>5 rows × 27 columns</p>\n",
              "</div>\n",
              "      <button class=\"colab-df-convert\" onclick=\"convertToInteractive('df-8b36a4e3-19d6-4748-8cce-a478231d8866')\"\n",
              "              title=\"Convert this dataframe to an interactive table.\"\n",
              "              style=\"display:none;\">\n",
              "        \n",
              "  <svg xmlns=\"http://www.w3.org/2000/svg\" height=\"24px\"viewBox=\"0 0 24 24\"\n",
              "       width=\"24px\">\n",
              "    <path d=\"M0 0h24v24H0V0z\" fill=\"none\"/>\n",
              "    <path d=\"M18.56 5.44l.94 2.06.94-2.06 2.06-.94-2.06-.94-.94-2.06-.94 2.06-2.06.94zm-11 1L8.5 8.5l.94-2.06 2.06-.94-2.06-.94L8.5 2.5l-.94 2.06-2.06.94zm10 10l.94 2.06.94-2.06 2.06-.94-2.06-.94-.94-2.06-.94 2.06-2.06.94z\"/><path d=\"M17.41 7.96l-1.37-1.37c-.4-.4-.92-.59-1.43-.59-.52 0-1.04.2-1.43.59L10.3 9.45l-7.72 7.72c-.78.78-.78 2.05 0 2.83L4 21.41c.39.39.9.59 1.41.59.51 0 1.02-.2 1.41-.59l7.78-7.78 2.81-2.81c.8-.78.8-2.07 0-2.86zM5.41 20L4 18.59l7.72-7.72 1.47 1.35L5.41 20z\"/>\n",
              "  </svg>\n",
              "      </button>\n",
              "      \n",
              "  <style>\n",
              "    .colab-df-container {\n",
              "      display:flex;\n",
              "      flex-wrap:wrap;\n",
              "      gap: 12px;\n",
              "    }\n",
              "\n",
              "    .colab-df-convert {\n",
              "      background-color: #E8F0FE;\n",
              "      border: none;\n",
              "      border-radius: 50%;\n",
              "      cursor: pointer;\n",
              "      display: none;\n",
              "      fill: #1967D2;\n",
              "      height: 32px;\n",
              "      padding: 0 0 0 0;\n",
              "      width: 32px;\n",
              "    }\n",
              "\n",
              "    .colab-df-convert:hover {\n",
              "      background-color: #E2EBFA;\n",
              "      box-shadow: 0px 1px 2px rgba(60, 64, 67, 0.3), 0px 1px 3px 1px rgba(60, 64, 67, 0.15);\n",
              "      fill: #174EA6;\n",
              "    }\n",
              "\n",
              "    [theme=dark] .colab-df-convert {\n",
              "      background-color: #3B4455;\n",
              "      fill: #D2E3FC;\n",
              "    }\n",
              "\n",
              "    [theme=dark] .colab-df-convert:hover {\n",
              "      background-color: #434B5C;\n",
              "      box-shadow: 0px 1px 3px 1px rgba(0, 0, 0, 0.15);\n",
              "      filter: drop-shadow(0px 1px 2px rgba(0, 0, 0, 0.3));\n",
              "      fill: #FFFFFF;\n",
              "    }\n",
              "  </style>\n",
              "\n",
              "      <script>\n",
              "        const buttonEl =\n",
              "          document.querySelector('#df-8b36a4e3-19d6-4748-8cce-a478231d8866 button.colab-df-convert');\n",
              "        buttonEl.style.display =\n",
              "          google.colab.kernel.accessAllowed ? 'block' : 'none';\n",
              "\n",
              "        async function convertToInteractive(key) {\n",
              "          const element = document.querySelector('#df-8b36a4e3-19d6-4748-8cce-a478231d8866');\n",
              "          const dataTable =\n",
              "            await google.colab.kernel.invokeFunction('convertToInteractive',\n",
              "                                                     [key], {});\n",
              "          if (!dataTable) return;\n",
              "\n",
              "          const docLinkHtml = 'Like what you see? Visit the ' +\n",
              "            '<a target=\"_blank\" href=https://colab.research.google.com/notebooks/data_table.ipynb>data table notebook</a>'\n",
              "            + ' to learn more about interactive tables.';\n",
              "          element.innerHTML = '';\n",
              "          dataTable['output_type'] = 'display_data';\n",
              "          await google.colab.output.renderOutput(dataTable, element);\n",
              "          const docLink = document.createElement('div');\n",
              "          docLink.innerHTML = docLinkHtml;\n",
              "          element.appendChild(docLink);\n",
              "        }\n",
              "      </script>\n",
              "    </div>\n",
              "  </div>\n",
              "  "
            ]
          },
          "metadata": {},
          "execution_count": 10
        }
      ]
    },
    {
      "cell_type": "code",
      "source": [
        "df_usdpersqm.head()"
      ],
      "metadata": {
        "colab": {
          "base_uri": "https://localhost:8080/",
          "height": 0
        },
        "id": "v1VarteIo-bf",
        "outputId": "07d0cf57-02b6-4ebf-a1c8-3f1d6bfcd98f"
      },
      "execution_count": 11,
      "outputs": [
        {
          "output_type": "execute_result",
          "data": {
            "text/plain": [
              "                        Precio m² (USD)\n",
              "Barrio        Año  Mes                 \n",
              "Puerto Madero 2020 5        6423.487964\n",
              "                   6        6559.166353\n",
              "                   7        6568.884547\n",
              "                   8        6254.178423\n",
              "                   9        5939.472299"
            ],
            "text/html": [
              "\n",
              "  <div id=\"df-0e5b9445-c856-4403-a5a3-668a4b985a88\">\n",
              "    <div class=\"colab-df-container\">\n",
              "      <div>\n",
              "<style scoped>\n",
              "    .dataframe tbody tr th:only-of-type {\n",
              "        vertical-align: middle;\n",
              "    }\n",
              "\n",
              "    .dataframe tbody tr th {\n",
              "        vertical-align: top;\n",
              "    }\n",
              "\n",
              "    .dataframe thead th {\n",
              "        text-align: right;\n",
              "    }\n",
              "</style>\n",
              "<table border=\"1\" class=\"dataframe\">\n",
              "  <thead>\n",
              "    <tr style=\"text-align: right;\">\n",
              "      <th></th>\n",
              "      <th></th>\n",
              "      <th></th>\n",
              "      <th>Precio m² (USD)</th>\n",
              "    </tr>\n",
              "    <tr>\n",
              "      <th>Barrio</th>\n",
              "      <th>Año</th>\n",
              "      <th>Mes</th>\n",
              "      <th></th>\n",
              "    </tr>\n",
              "  </thead>\n",
              "  <tbody>\n",
              "    <tr>\n",
              "      <th rowspan=\"5\" valign=\"top\">Puerto Madero</th>\n",
              "      <th rowspan=\"5\" valign=\"top\">2020</th>\n",
              "      <th>5</th>\n",
              "      <td>6423.487964</td>\n",
              "    </tr>\n",
              "    <tr>\n",
              "      <th>6</th>\n",
              "      <td>6559.166353</td>\n",
              "    </tr>\n",
              "    <tr>\n",
              "      <th>7</th>\n",
              "      <td>6568.884547</td>\n",
              "    </tr>\n",
              "    <tr>\n",
              "      <th>8</th>\n",
              "      <td>6254.178423</td>\n",
              "    </tr>\n",
              "    <tr>\n",
              "      <th>9</th>\n",
              "      <td>5939.472299</td>\n",
              "    </tr>\n",
              "  </tbody>\n",
              "</table>\n",
              "</div>\n",
              "      <button class=\"colab-df-convert\" onclick=\"convertToInteractive('df-0e5b9445-c856-4403-a5a3-668a4b985a88')\"\n",
              "              title=\"Convert this dataframe to an interactive table.\"\n",
              "              style=\"display:none;\">\n",
              "        \n",
              "  <svg xmlns=\"http://www.w3.org/2000/svg\" height=\"24px\"viewBox=\"0 0 24 24\"\n",
              "       width=\"24px\">\n",
              "    <path d=\"M0 0h24v24H0V0z\" fill=\"none\"/>\n",
              "    <path d=\"M18.56 5.44l.94 2.06.94-2.06 2.06-.94-2.06-.94-.94-2.06-.94 2.06-2.06.94zm-11 1L8.5 8.5l.94-2.06 2.06-.94-2.06-.94L8.5 2.5l-.94 2.06-2.06.94zm10 10l.94 2.06.94-2.06 2.06-.94-2.06-.94-.94-2.06-.94 2.06-2.06.94z\"/><path d=\"M17.41 7.96l-1.37-1.37c-.4-.4-.92-.59-1.43-.59-.52 0-1.04.2-1.43.59L10.3 9.45l-7.72 7.72c-.78.78-.78 2.05 0 2.83L4 21.41c.39.39.9.59 1.41.59.51 0 1.02-.2 1.41-.59l7.78-7.78 2.81-2.81c.8-.78.8-2.07 0-2.86zM5.41 20L4 18.59l7.72-7.72 1.47 1.35L5.41 20z\"/>\n",
              "  </svg>\n",
              "      </button>\n",
              "      \n",
              "  <style>\n",
              "    .colab-df-container {\n",
              "      display:flex;\n",
              "      flex-wrap:wrap;\n",
              "      gap: 12px;\n",
              "    }\n",
              "\n",
              "    .colab-df-convert {\n",
              "      background-color: #E8F0FE;\n",
              "      border: none;\n",
              "      border-radius: 50%;\n",
              "      cursor: pointer;\n",
              "      display: none;\n",
              "      fill: #1967D2;\n",
              "      height: 32px;\n",
              "      padding: 0 0 0 0;\n",
              "      width: 32px;\n",
              "    }\n",
              "\n",
              "    .colab-df-convert:hover {\n",
              "      background-color: #E2EBFA;\n",
              "      box-shadow: 0px 1px 2px rgba(60, 64, 67, 0.3), 0px 1px 3px 1px rgba(60, 64, 67, 0.15);\n",
              "      fill: #174EA6;\n",
              "    }\n",
              "\n",
              "    [theme=dark] .colab-df-convert {\n",
              "      background-color: #3B4455;\n",
              "      fill: #D2E3FC;\n",
              "    }\n",
              "\n",
              "    [theme=dark] .colab-df-convert:hover {\n",
              "      background-color: #434B5C;\n",
              "      box-shadow: 0px 1px 3px 1px rgba(0, 0, 0, 0.15);\n",
              "      filter: drop-shadow(0px 1px 2px rgba(0, 0, 0, 0.3));\n",
              "      fill: #FFFFFF;\n",
              "    }\n",
              "  </style>\n",
              "\n",
              "      <script>\n",
              "        const buttonEl =\n",
              "          document.querySelector('#df-0e5b9445-c856-4403-a5a3-668a4b985a88 button.colab-df-convert');\n",
              "        buttonEl.style.display =\n",
              "          google.colab.kernel.accessAllowed ? 'block' : 'none';\n",
              "\n",
              "        async function convertToInteractive(key) {\n",
              "          const element = document.querySelector('#df-0e5b9445-c856-4403-a5a3-668a4b985a88');\n",
              "          const dataTable =\n",
              "            await google.colab.kernel.invokeFunction('convertToInteractive',\n",
              "                                                     [key], {});\n",
              "          if (!dataTable) return;\n",
              "\n",
              "          const docLinkHtml = 'Like what you see? Visit the ' +\n",
              "            '<a target=\"_blank\" href=https://colab.research.google.com/notebooks/data_table.ipynb>data table notebook</a>'\n",
              "            + ' to learn more about interactive tables.';\n",
              "          element.innerHTML = '';\n",
              "          dataTable['output_type'] = 'display_data';\n",
              "          await google.colab.output.renderOutput(dataTable, element);\n",
              "          const docLink = document.createElement('div');\n",
              "          docLink.innerHTML = docLinkHtml;\n",
              "          element.appendChild(docLink);\n",
              "        }\n",
              "      </script>\n",
              "    </div>\n",
              "  </div>\n",
              "  "
            ]
          },
          "metadata": {},
          "execution_count": 11
        }
      ]
    },
    {
      "cell_type": "markdown",
      "source": [
        "# Análisis del conjunto de datos"
      ],
      "metadata": {
        "id": "byV0dQi-yiEd"
      }
    },
    {
      "cell_type": "markdown",
      "source": [
        "##Estadísticas descriptivas"
      ],
      "metadata": {
        "id": "Zkt8Q4Mya0c9"
      }
    },
    {
      "cell_type": "markdown",
      "source": [
        "Algunos valores de end_date son anómalos (ver Describe) por eso no se convierte a fecha adecuadamente."
      ],
      "metadata": {
        "id": "n3RXXqkYNq5S"
      }
    },
    {
      "cell_type": "code",
      "source": [
        "df_train.info()"
      ],
      "metadata": {
        "colab": {
          "base_uri": "https://localhost:8080/"
        },
        "id": "3OwPrsPhf90m",
        "outputId": "bfd65237-ad23-43ea-a60b-3e1f2eb9067e"
      },
      "execution_count": 12,
      "outputs": [
        {
          "output_type": "stream",
          "name": "stdout",
          "text": [
            "<class 'pandas.core.frame.DataFrame'>\n",
            "Index: 1000000 entries, DyVXfkpKygVBKuUk5olH+A== to rEynGyGrrsxNeG0ib5vUBA==\n",
            "Data columns (total 24 columns):\n",
            " #   Column           Non-Null Count    Dtype         \n",
            "---  ------           --------------    -----         \n",
            " 0   ad_type          1000000 non-null  object        \n",
            " 1   start_date       1000000 non-null  datetime64[ns]\n",
            " 2   end_date         1000000 non-null  object        \n",
            " 3   created_on       1000000 non-null  datetime64[ns]\n",
            " 4   lat              894233 non-null   float64       \n",
            " 5   lon              894191 non-null   float64       \n",
            " 6   l1               1000000 non-null  object        \n",
            " 7   l2               1000000 non-null  object        \n",
            " 8   l3               965273 non-null   object        \n",
            " 9   l4               306162 non-null   object        \n",
            " 10  l5               5530 non-null     object        \n",
            " 11  l6               0 non-null        float64       \n",
            " 12  rooms            714179 non-null   float64       \n",
            " 13  bedrooms         649933 non-null   float64       \n",
            " 14  bathrooms        765122 non-null   float64       \n",
            " 15  surface_total    477831 non-null   float64       \n",
            " 16  surface_covered  487756 non-null   float64       \n",
            " 17  price            958243 non-null   float64       \n",
            " 18  currency         955491 non-null   object        \n",
            " 19  price_period     429870 non-null   object        \n",
            " 20  title            999999 non-null   object        \n",
            " 21  description      999958 non-null   object        \n",
            " 22  property_type    1000000 non-null  object        \n",
            " 23  operation_type   1000000 non-null  object        \n",
            "dtypes: datetime64[ns](2), float64(9), object(13)\n",
            "memory usage: 190.7+ MB\n"
          ]
        }
      ]
    },
    {
      "cell_type": "markdown",
      "source": [
        "price_period, l4, l5 y l6 puede que sean irrelevantes para predecir (aunque convendría filtrar precios no mensuales de df dependiendo de qué signifique la columna). Details, additionals y services solo están en los datos a predecir, aunque algo de la información textual puede llegar a ser útil."
      ],
      "metadata": {
        "id": "Udu8oQVKPUBT"
      }
    },
    {
      "cell_type": "code",
      "source": [
        "df_pred.info()"
      ],
      "metadata": {
        "colab": {
          "base_uri": "https://localhost:8080/"
        },
        "id": "_9idB5a0LJIk",
        "outputId": "d827dd82-53f8-4129-8181-bc7815cb1b58"
      },
      "execution_count": 13,
      "outputs": [
        {
          "output_type": "stream",
          "name": "stdout",
          "text": [
            "<class 'pandas.core.frame.DataFrame'>\n",
            "Int64Index: 1087 entries, 1 to 1087\n",
            "Data columns (total 27 columns):\n",
            " #   Column           Non-Null Count  Dtype         \n",
            "---  ------           --------------  -----         \n",
            " 0   ad_type          1087 non-null   object        \n",
            " 1   start_date       1087 non-null   datetime64[ns]\n",
            " 2   end_date         1087 non-null   datetime64[ns]\n",
            " 3   created_on       1087 non-null   datetime64[ns]\n",
            " 4   lat              1087 non-null   float64       \n",
            " 5   lon              1087 non-null   float64       \n",
            " 6   l1               1087 non-null   object        \n",
            " 7   l2               1087 non-null   object        \n",
            " 8   l3               1087 non-null   object        \n",
            " 9   rooms            1083 non-null   float64       \n",
            " 10  bedrooms         958 non-null    float64       \n",
            " 11  bathrooms        1083 non-null   float64       \n",
            " 12  surface_total    1087 non-null   float64       \n",
            " 13  surface_covered  1087 non-null   float64       \n",
            " 14  price            0 non-null      float64       \n",
            " 15  currency         1087 non-null   object        \n",
            " 16  price_period     0 non-null      float64       \n",
            " 17  title            1087 non-null   object        \n",
            " 18  description      1083 non-null   object        \n",
            " 19  property_type    1087 non-null   object        \n",
            " 20  operation_type   1087 non-null   object        \n",
            " 21  details          1087 non-null   object        \n",
            " 22  additionals      955 non-null    object        \n",
            " 23  services         842 non-null    object        \n",
            " 24  l4               0 non-null      float64       \n",
            " 25  l5               0 non-null      float64       \n",
            " 26  l6               0 non-null      float64       \n",
            "dtypes: datetime64[ns](3), float64(12), object(12)\n",
            "memory usage: 237.8+ KB\n"
          ]
        }
      ]
    },
    {
      "cell_type": "markdown",
      "source": [
        "Los avisos cubren un año entero."
      ],
      "metadata": {
        "id": "bnGYdoizcs14"
      }
    },
    {
      "cell_type": "code",
      "source": [
        "df_train.describe(datetime_is_numeric = True)"
      ],
      "metadata": {
        "colab": {
          "base_uri": "https://localhost:8080/",
          "height": 468
        },
        "id": "YD_nHobug6i_",
        "outputId": "d0613dbe-aa69-4f8f-d5ff-88afc0529240"
      },
      "execution_count": 14,
      "outputs": [
        {
          "output_type": "execute_result",
          "data": {
            "text/plain": [
              "                          start_date                     created_on  \\\n",
              "count                        1000000                        1000000   \n",
              "mean   2020-11-29 05:41:56.025599744  2020-11-29 05:41:56.025599744   \n",
              "min              2020-05-24 00:00:00            2020-05-24 00:00:00   \n",
              "25%              2020-08-28 00:00:00            2020-08-28 00:00:00   \n",
              "50%              2020-11-14 00:00:00            2020-11-14 00:00:00   \n",
              "75%              2021-03-11 00:00:00            2021-03-11 00:00:00   \n",
              "max              2021-06-17 00:00:00            2021-06-17 00:00:00   \n",
              "std                              NaN                            NaN   \n",
              "\n",
              "                 lat            lon   l6          rooms       bedrooms  \\\n",
              "count  894233.000000  894191.000000  0.0  714179.000000  649933.000000   \n",
              "mean      -34.377500     -59.491698  NaN       2.916567       2.097815   \n",
              "min       -54.841484    -122.538399  NaN       1.000000     -16.000000   \n",
              "25%       -34.723328     -58.876930  NaN       2.000000       1.000000   \n",
              "50%       -34.593014     -58.493790  NaN       3.000000       2.000000   \n",
              "75%       -34.415841     -58.397472  NaN       4.000000       3.000000   \n",
              "max        49.633731     180.000000  NaN      40.000000     900.000000   \n",
              "std         3.035987       2.800543  NaN       1.739685       2.079008   \n",
              "\n",
              "           bathrooms  surface_total  surface_covered         price  \n",
              "count  765122.000000  477831.000000     4.877560e+05  9.582430e+05  \n",
              "mean        1.708581     513.760752     1.165622e+04  3.460940e+05  \n",
              "min         1.000000    -136.000000    -1.300000e+02  0.000000e+00  \n",
              "25%         1.000000      50.000000     4.500000e+01  3.800000e+04  \n",
              "50%         1.000000      95.000000     7.800000e+01  9.700000e+04  \n",
              "75%         2.000000     250.000000     1.680000e+02  2.100000e+05  \n",
              "max        20.000000  200000.000000     2.147484e+09  3.100000e+09  \n",
              "std         1.092221    4297.241604     4.443191e+06  5.713690e+06  "
            ],
            "text/html": [
              "\n",
              "  <div id=\"df-a3fde3a4-5af1-4d3b-bc2a-ccc4e4d13997\">\n",
              "    <div class=\"colab-df-container\">\n",
              "      <div>\n",
              "<style scoped>\n",
              "    .dataframe tbody tr th:only-of-type {\n",
              "        vertical-align: middle;\n",
              "    }\n",
              "\n",
              "    .dataframe tbody tr th {\n",
              "        vertical-align: top;\n",
              "    }\n",
              "\n",
              "    .dataframe thead th {\n",
              "        text-align: right;\n",
              "    }\n",
              "</style>\n",
              "<table border=\"1\" class=\"dataframe\">\n",
              "  <thead>\n",
              "    <tr style=\"text-align: right;\">\n",
              "      <th></th>\n",
              "      <th>start_date</th>\n",
              "      <th>created_on</th>\n",
              "      <th>lat</th>\n",
              "      <th>lon</th>\n",
              "      <th>l6</th>\n",
              "      <th>rooms</th>\n",
              "      <th>bedrooms</th>\n",
              "      <th>bathrooms</th>\n",
              "      <th>surface_total</th>\n",
              "      <th>surface_covered</th>\n",
              "      <th>price</th>\n",
              "    </tr>\n",
              "  </thead>\n",
              "  <tbody>\n",
              "    <tr>\n",
              "      <th>count</th>\n",
              "      <td>1000000</td>\n",
              "      <td>1000000</td>\n",
              "      <td>894233.000000</td>\n",
              "      <td>894191.000000</td>\n",
              "      <td>0.0</td>\n",
              "      <td>714179.000000</td>\n",
              "      <td>649933.000000</td>\n",
              "      <td>765122.000000</td>\n",
              "      <td>477831.000000</td>\n",
              "      <td>4.877560e+05</td>\n",
              "      <td>9.582430e+05</td>\n",
              "    </tr>\n",
              "    <tr>\n",
              "      <th>mean</th>\n",
              "      <td>2020-11-29 05:41:56.025599744</td>\n",
              "      <td>2020-11-29 05:41:56.025599744</td>\n",
              "      <td>-34.377500</td>\n",
              "      <td>-59.491698</td>\n",
              "      <td>NaN</td>\n",
              "      <td>2.916567</td>\n",
              "      <td>2.097815</td>\n",
              "      <td>1.708581</td>\n",
              "      <td>513.760752</td>\n",
              "      <td>1.165622e+04</td>\n",
              "      <td>3.460940e+05</td>\n",
              "    </tr>\n",
              "    <tr>\n",
              "      <th>min</th>\n",
              "      <td>2020-05-24 00:00:00</td>\n",
              "      <td>2020-05-24 00:00:00</td>\n",
              "      <td>-54.841484</td>\n",
              "      <td>-122.538399</td>\n",
              "      <td>NaN</td>\n",
              "      <td>1.000000</td>\n",
              "      <td>-16.000000</td>\n",
              "      <td>1.000000</td>\n",
              "      <td>-136.000000</td>\n",
              "      <td>-1.300000e+02</td>\n",
              "      <td>0.000000e+00</td>\n",
              "    </tr>\n",
              "    <tr>\n",
              "      <th>25%</th>\n",
              "      <td>2020-08-28 00:00:00</td>\n",
              "      <td>2020-08-28 00:00:00</td>\n",
              "      <td>-34.723328</td>\n",
              "      <td>-58.876930</td>\n",
              "      <td>NaN</td>\n",
              "      <td>2.000000</td>\n",
              "      <td>1.000000</td>\n",
              "      <td>1.000000</td>\n",
              "      <td>50.000000</td>\n",
              "      <td>4.500000e+01</td>\n",
              "      <td>3.800000e+04</td>\n",
              "    </tr>\n",
              "    <tr>\n",
              "      <th>50%</th>\n",
              "      <td>2020-11-14 00:00:00</td>\n",
              "      <td>2020-11-14 00:00:00</td>\n",
              "      <td>-34.593014</td>\n",
              "      <td>-58.493790</td>\n",
              "      <td>NaN</td>\n",
              "      <td>3.000000</td>\n",
              "      <td>2.000000</td>\n",
              "      <td>1.000000</td>\n",
              "      <td>95.000000</td>\n",
              "      <td>7.800000e+01</td>\n",
              "      <td>9.700000e+04</td>\n",
              "    </tr>\n",
              "    <tr>\n",
              "      <th>75%</th>\n",
              "      <td>2021-03-11 00:00:00</td>\n",
              "      <td>2021-03-11 00:00:00</td>\n",
              "      <td>-34.415841</td>\n",
              "      <td>-58.397472</td>\n",
              "      <td>NaN</td>\n",
              "      <td>4.000000</td>\n",
              "      <td>3.000000</td>\n",
              "      <td>2.000000</td>\n",
              "      <td>250.000000</td>\n",
              "      <td>1.680000e+02</td>\n",
              "      <td>2.100000e+05</td>\n",
              "    </tr>\n",
              "    <tr>\n",
              "      <th>max</th>\n",
              "      <td>2021-06-17 00:00:00</td>\n",
              "      <td>2021-06-17 00:00:00</td>\n",
              "      <td>49.633731</td>\n",
              "      <td>180.000000</td>\n",
              "      <td>NaN</td>\n",
              "      <td>40.000000</td>\n",
              "      <td>900.000000</td>\n",
              "      <td>20.000000</td>\n",
              "      <td>200000.000000</td>\n",
              "      <td>2.147484e+09</td>\n",
              "      <td>3.100000e+09</td>\n",
              "    </tr>\n",
              "    <tr>\n",
              "      <th>std</th>\n",
              "      <td>NaN</td>\n",
              "      <td>NaN</td>\n",
              "      <td>3.035987</td>\n",
              "      <td>2.800543</td>\n",
              "      <td>NaN</td>\n",
              "      <td>1.739685</td>\n",
              "      <td>2.079008</td>\n",
              "      <td>1.092221</td>\n",
              "      <td>4297.241604</td>\n",
              "      <td>4.443191e+06</td>\n",
              "      <td>5.713690e+06</td>\n",
              "    </tr>\n",
              "  </tbody>\n",
              "</table>\n",
              "</div>\n",
              "      <button class=\"colab-df-convert\" onclick=\"convertToInteractive('df-a3fde3a4-5af1-4d3b-bc2a-ccc4e4d13997')\"\n",
              "              title=\"Convert this dataframe to an interactive table.\"\n",
              "              style=\"display:none;\">\n",
              "        \n",
              "  <svg xmlns=\"http://www.w3.org/2000/svg\" height=\"24px\"viewBox=\"0 0 24 24\"\n",
              "       width=\"24px\">\n",
              "    <path d=\"M0 0h24v24H0V0z\" fill=\"none\"/>\n",
              "    <path d=\"M18.56 5.44l.94 2.06.94-2.06 2.06-.94-2.06-.94-.94-2.06-.94 2.06-2.06.94zm-11 1L8.5 8.5l.94-2.06 2.06-.94-2.06-.94L8.5 2.5l-.94 2.06-2.06.94zm10 10l.94 2.06.94-2.06 2.06-.94-2.06-.94-.94-2.06-.94 2.06-2.06.94z\"/><path d=\"M17.41 7.96l-1.37-1.37c-.4-.4-.92-.59-1.43-.59-.52 0-1.04.2-1.43.59L10.3 9.45l-7.72 7.72c-.78.78-.78 2.05 0 2.83L4 21.41c.39.39.9.59 1.41.59.51 0 1.02-.2 1.41-.59l7.78-7.78 2.81-2.81c.8-.78.8-2.07 0-2.86zM5.41 20L4 18.59l7.72-7.72 1.47 1.35L5.41 20z\"/>\n",
              "  </svg>\n",
              "      </button>\n",
              "      \n",
              "  <style>\n",
              "    .colab-df-container {\n",
              "      display:flex;\n",
              "      flex-wrap:wrap;\n",
              "      gap: 12px;\n",
              "    }\n",
              "\n",
              "    .colab-df-convert {\n",
              "      background-color: #E8F0FE;\n",
              "      border: none;\n",
              "      border-radius: 50%;\n",
              "      cursor: pointer;\n",
              "      display: none;\n",
              "      fill: #1967D2;\n",
              "      height: 32px;\n",
              "      padding: 0 0 0 0;\n",
              "      width: 32px;\n",
              "    }\n",
              "\n",
              "    .colab-df-convert:hover {\n",
              "      background-color: #E2EBFA;\n",
              "      box-shadow: 0px 1px 2px rgba(60, 64, 67, 0.3), 0px 1px 3px 1px rgba(60, 64, 67, 0.15);\n",
              "      fill: #174EA6;\n",
              "    }\n",
              "\n",
              "    [theme=dark] .colab-df-convert {\n",
              "      background-color: #3B4455;\n",
              "      fill: #D2E3FC;\n",
              "    }\n",
              "\n",
              "    [theme=dark] .colab-df-convert:hover {\n",
              "      background-color: #434B5C;\n",
              "      box-shadow: 0px 1px 3px 1px rgba(0, 0, 0, 0.15);\n",
              "      filter: drop-shadow(0px 1px 2px rgba(0, 0, 0, 0.3));\n",
              "      fill: #FFFFFF;\n",
              "    }\n",
              "  </style>\n",
              "\n",
              "      <script>\n",
              "        const buttonEl =\n",
              "          document.querySelector('#df-a3fde3a4-5af1-4d3b-bc2a-ccc4e4d13997 button.colab-df-convert');\n",
              "        buttonEl.style.display =\n",
              "          google.colab.kernel.accessAllowed ? 'block' : 'none';\n",
              "\n",
              "        async function convertToInteractive(key) {\n",
              "          const element = document.querySelector('#df-a3fde3a4-5af1-4d3b-bc2a-ccc4e4d13997');\n",
              "          const dataTable =\n",
              "            await google.colab.kernel.invokeFunction('convertToInteractive',\n",
              "                                                     [key], {});\n",
              "          if (!dataTable) return;\n",
              "\n",
              "          const docLinkHtml = 'Like what you see? Visit the ' +\n",
              "            '<a target=\"_blank\" href=https://colab.research.google.com/notebooks/data_table.ipynb>data table notebook</a>'\n",
              "            + ' to learn more about interactive tables.';\n",
              "          element.innerHTML = '';\n",
              "          dataTable['output_type'] = 'display_data';\n",
              "          await google.colab.output.renderOutput(dataTable, element);\n",
              "          const docLink = document.createElement('div');\n",
              "          docLink.innerHTML = docLinkHtml;\n",
              "          element.appendChild(docLink);\n",
              "        }\n",
              "      </script>\n",
              "    </div>\n",
              "  </div>\n",
              "  "
            ]
          },
          "metadata": {},
          "execution_count": 14
        }
      ]
    },
    {
      "cell_type": "markdown",
      "source": [
        "Todas las entradas a predecir son de abril de 2022. La utilidad de las fechas en df_train es más para arreglar precios que para alimentárselo al algoritmo."
      ],
      "metadata": {
        "id": "NvEYP-o6c008"
      }
    },
    {
      "cell_type": "code",
      "source": [
        "df_pred.describe(datetime_is_numeric = True)"
      ],
      "metadata": {
        "colab": {
          "base_uri": "https://localhost:8080/",
          "height": 572
        },
        "id": "zyq85znVKWbR",
        "outputId": "3a64594a-c36f-4279-ae9d-0818f8bf28ad"
      },
      "execution_count": 15,
      "outputs": [
        {
          "output_type": "execute_result",
          "data": {
            "text/plain": [
              "                start_date             end_date           created_on  \\\n",
              "count                 1087                 1087                 1087   \n",
              "mean   2022-04-01 00:00:00  2022-04-01 00:00:00  2022-04-01 00:00:00   \n",
              "min    2022-04-01 00:00:00  2022-04-01 00:00:00  2022-04-01 00:00:00   \n",
              "25%    2022-04-01 00:00:00  2022-04-01 00:00:00  2022-04-01 00:00:00   \n",
              "50%    2022-04-01 00:00:00  2022-04-01 00:00:00  2022-04-01 00:00:00   \n",
              "75%    2022-04-01 00:00:00  2022-04-01 00:00:00  2022-04-01 00:00:00   \n",
              "max    2022-04-01 00:00:00  2022-04-01 00:00:00  2022-04-01 00:00:00   \n",
              "std                    NaN                  NaN                  NaN   \n",
              "\n",
              "               lat          lon        rooms    bedrooms    bathrooms  \\\n",
              "count  1087.000000  1087.000000  1083.000000  958.000000  1083.000000   \n",
              "mean    -58.224783   -34.464554     2.838412    2.070981     1.417359   \n",
              "min     -65.217590   -38.015202     0.000000    0.000000     0.000000   \n",
              "25%     -58.457974   -34.614796     2.000000    1.000000     1.000000   \n",
              "50%     -58.433815   -34.595959     3.000000    2.000000     1.000000   \n",
              "75%     -58.409390   -34.578911     4.000000    3.000000     2.000000   \n",
              "max      58.594000    34.819000    13.000000   12.000000     7.000000   \n",
              "std       5.022201     2.987259     1.498219    1.226311     0.757802   \n",
              "\n",
              "       surface_total  surface_covered  price  price_period   l4   l5   l6  \n",
              "count    1087.000000      1087.000000    0.0           0.0  0.0  0.0  0.0  \n",
              "mean       89.930230        89.930230    NaN           NaN  NaN  NaN  NaN  \n",
              "min        16.620000        16.620000    NaN           NaN  NaN  NaN  NaN  \n",
              "25%        42.245000        42.245000    NaN           NaN  NaN  NaN  NaN  \n",
              "50%        66.000000        66.000000    NaN           NaN  NaN  NaN  NaN  \n",
              "75%       102.000000       102.000000    NaN           NaN  NaN  NaN  NaN  \n",
              "max       551.520000       551.520000    NaN           NaN  NaN  NaN  NaN  \n",
              "std        76.687828        76.687828    NaN           NaN  NaN  NaN  NaN  "
            ],
            "text/html": [
              "\n",
              "  <div id=\"df-5727c14a-ea81-481e-91ba-3b2b244897c9\">\n",
              "    <div class=\"colab-df-container\">\n",
              "      <div>\n",
              "<style scoped>\n",
              "    .dataframe tbody tr th:only-of-type {\n",
              "        vertical-align: middle;\n",
              "    }\n",
              "\n",
              "    .dataframe tbody tr th {\n",
              "        vertical-align: top;\n",
              "    }\n",
              "\n",
              "    .dataframe thead th {\n",
              "        text-align: right;\n",
              "    }\n",
              "</style>\n",
              "<table border=\"1\" class=\"dataframe\">\n",
              "  <thead>\n",
              "    <tr style=\"text-align: right;\">\n",
              "      <th></th>\n",
              "      <th>start_date</th>\n",
              "      <th>end_date</th>\n",
              "      <th>created_on</th>\n",
              "      <th>lat</th>\n",
              "      <th>lon</th>\n",
              "      <th>rooms</th>\n",
              "      <th>bedrooms</th>\n",
              "      <th>bathrooms</th>\n",
              "      <th>surface_total</th>\n",
              "      <th>surface_covered</th>\n",
              "      <th>price</th>\n",
              "      <th>price_period</th>\n",
              "      <th>l4</th>\n",
              "      <th>l5</th>\n",
              "      <th>l6</th>\n",
              "    </tr>\n",
              "  </thead>\n",
              "  <tbody>\n",
              "    <tr>\n",
              "      <th>count</th>\n",
              "      <td>1087</td>\n",
              "      <td>1087</td>\n",
              "      <td>1087</td>\n",
              "      <td>1087.000000</td>\n",
              "      <td>1087.000000</td>\n",
              "      <td>1083.000000</td>\n",
              "      <td>958.000000</td>\n",
              "      <td>1083.000000</td>\n",
              "      <td>1087.000000</td>\n",
              "      <td>1087.000000</td>\n",
              "      <td>0.0</td>\n",
              "      <td>0.0</td>\n",
              "      <td>0.0</td>\n",
              "      <td>0.0</td>\n",
              "      <td>0.0</td>\n",
              "    </tr>\n",
              "    <tr>\n",
              "      <th>mean</th>\n",
              "      <td>2022-04-01 00:00:00</td>\n",
              "      <td>2022-04-01 00:00:00</td>\n",
              "      <td>2022-04-01 00:00:00</td>\n",
              "      <td>-58.224783</td>\n",
              "      <td>-34.464554</td>\n",
              "      <td>2.838412</td>\n",
              "      <td>2.070981</td>\n",
              "      <td>1.417359</td>\n",
              "      <td>89.930230</td>\n",
              "      <td>89.930230</td>\n",
              "      <td>NaN</td>\n",
              "      <td>NaN</td>\n",
              "      <td>NaN</td>\n",
              "      <td>NaN</td>\n",
              "      <td>NaN</td>\n",
              "    </tr>\n",
              "    <tr>\n",
              "      <th>min</th>\n",
              "      <td>2022-04-01 00:00:00</td>\n",
              "      <td>2022-04-01 00:00:00</td>\n",
              "      <td>2022-04-01 00:00:00</td>\n",
              "      <td>-65.217590</td>\n",
              "      <td>-38.015202</td>\n",
              "      <td>0.000000</td>\n",
              "      <td>0.000000</td>\n",
              "      <td>0.000000</td>\n",
              "      <td>16.620000</td>\n",
              "      <td>16.620000</td>\n",
              "      <td>NaN</td>\n",
              "      <td>NaN</td>\n",
              "      <td>NaN</td>\n",
              "      <td>NaN</td>\n",
              "      <td>NaN</td>\n",
              "    </tr>\n",
              "    <tr>\n",
              "      <th>25%</th>\n",
              "      <td>2022-04-01 00:00:00</td>\n",
              "      <td>2022-04-01 00:00:00</td>\n",
              "      <td>2022-04-01 00:00:00</td>\n",
              "      <td>-58.457974</td>\n",
              "      <td>-34.614796</td>\n",
              "      <td>2.000000</td>\n",
              "      <td>1.000000</td>\n",
              "      <td>1.000000</td>\n",
              "      <td>42.245000</td>\n",
              "      <td>42.245000</td>\n",
              "      <td>NaN</td>\n",
              "      <td>NaN</td>\n",
              "      <td>NaN</td>\n",
              "      <td>NaN</td>\n",
              "      <td>NaN</td>\n",
              "    </tr>\n",
              "    <tr>\n",
              "      <th>50%</th>\n",
              "      <td>2022-04-01 00:00:00</td>\n",
              "      <td>2022-04-01 00:00:00</td>\n",
              "      <td>2022-04-01 00:00:00</td>\n",
              "      <td>-58.433815</td>\n",
              "      <td>-34.595959</td>\n",
              "      <td>3.000000</td>\n",
              "      <td>2.000000</td>\n",
              "      <td>1.000000</td>\n",
              "      <td>66.000000</td>\n",
              "      <td>66.000000</td>\n",
              "      <td>NaN</td>\n",
              "      <td>NaN</td>\n",
              "      <td>NaN</td>\n",
              "      <td>NaN</td>\n",
              "      <td>NaN</td>\n",
              "    </tr>\n",
              "    <tr>\n",
              "      <th>75%</th>\n",
              "      <td>2022-04-01 00:00:00</td>\n",
              "      <td>2022-04-01 00:00:00</td>\n",
              "      <td>2022-04-01 00:00:00</td>\n",
              "      <td>-58.409390</td>\n",
              "      <td>-34.578911</td>\n",
              "      <td>4.000000</td>\n",
              "      <td>3.000000</td>\n",
              "      <td>2.000000</td>\n",
              "      <td>102.000000</td>\n",
              "      <td>102.000000</td>\n",
              "      <td>NaN</td>\n",
              "      <td>NaN</td>\n",
              "      <td>NaN</td>\n",
              "      <td>NaN</td>\n",
              "      <td>NaN</td>\n",
              "    </tr>\n",
              "    <tr>\n",
              "      <th>max</th>\n",
              "      <td>2022-04-01 00:00:00</td>\n",
              "      <td>2022-04-01 00:00:00</td>\n",
              "      <td>2022-04-01 00:00:00</td>\n",
              "      <td>58.594000</td>\n",
              "      <td>34.819000</td>\n",
              "      <td>13.000000</td>\n",
              "      <td>12.000000</td>\n",
              "      <td>7.000000</td>\n",
              "      <td>551.520000</td>\n",
              "      <td>551.520000</td>\n",
              "      <td>NaN</td>\n",
              "      <td>NaN</td>\n",
              "      <td>NaN</td>\n",
              "      <td>NaN</td>\n",
              "      <td>NaN</td>\n",
              "    </tr>\n",
              "    <tr>\n",
              "      <th>std</th>\n",
              "      <td>NaN</td>\n",
              "      <td>NaN</td>\n",
              "      <td>NaN</td>\n",
              "      <td>5.022201</td>\n",
              "      <td>2.987259</td>\n",
              "      <td>1.498219</td>\n",
              "      <td>1.226311</td>\n",
              "      <td>0.757802</td>\n",
              "      <td>76.687828</td>\n",
              "      <td>76.687828</td>\n",
              "      <td>NaN</td>\n",
              "      <td>NaN</td>\n",
              "      <td>NaN</td>\n",
              "      <td>NaN</td>\n",
              "      <td>NaN</td>\n",
              "    </tr>\n",
              "  </tbody>\n",
              "</table>\n",
              "</div>\n",
              "      <button class=\"colab-df-convert\" onclick=\"convertToInteractive('df-5727c14a-ea81-481e-91ba-3b2b244897c9')\"\n",
              "              title=\"Convert this dataframe to an interactive table.\"\n",
              "              style=\"display:none;\">\n",
              "        \n",
              "  <svg xmlns=\"http://www.w3.org/2000/svg\" height=\"24px\"viewBox=\"0 0 24 24\"\n",
              "       width=\"24px\">\n",
              "    <path d=\"M0 0h24v24H0V0z\" fill=\"none\"/>\n",
              "    <path d=\"M18.56 5.44l.94 2.06.94-2.06 2.06-.94-2.06-.94-.94-2.06-.94 2.06-2.06.94zm-11 1L8.5 8.5l.94-2.06 2.06-.94-2.06-.94L8.5 2.5l-.94 2.06-2.06.94zm10 10l.94 2.06.94-2.06 2.06-.94-2.06-.94-.94-2.06-.94 2.06-2.06.94z\"/><path d=\"M17.41 7.96l-1.37-1.37c-.4-.4-.92-.59-1.43-.59-.52 0-1.04.2-1.43.59L10.3 9.45l-7.72 7.72c-.78.78-.78 2.05 0 2.83L4 21.41c.39.39.9.59 1.41.59.51 0 1.02-.2 1.41-.59l7.78-7.78 2.81-2.81c.8-.78.8-2.07 0-2.86zM5.41 20L4 18.59l7.72-7.72 1.47 1.35L5.41 20z\"/>\n",
              "  </svg>\n",
              "      </button>\n",
              "      \n",
              "  <style>\n",
              "    .colab-df-container {\n",
              "      display:flex;\n",
              "      flex-wrap:wrap;\n",
              "      gap: 12px;\n",
              "    }\n",
              "\n",
              "    .colab-df-convert {\n",
              "      background-color: #E8F0FE;\n",
              "      border: none;\n",
              "      border-radius: 50%;\n",
              "      cursor: pointer;\n",
              "      display: none;\n",
              "      fill: #1967D2;\n",
              "      height: 32px;\n",
              "      padding: 0 0 0 0;\n",
              "      width: 32px;\n",
              "    }\n",
              "\n",
              "    .colab-df-convert:hover {\n",
              "      background-color: #E2EBFA;\n",
              "      box-shadow: 0px 1px 2px rgba(60, 64, 67, 0.3), 0px 1px 3px 1px rgba(60, 64, 67, 0.15);\n",
              "      fill: #174EA6;\n",
              "    }\n",
              "\n",
              "    [theme=dark] .colab-df-convert {\n",
              "      background-color: #3B4455;\n",
              "      fill: #D2E3FC;\n",
              "    }\n",
              "\n",
              "    [theme=dark] .colab-df-convert:hover {\n",
              "      background-color: #434B5C;\n",
              "      box-shadow: 0px 1px 3px 1px rgba(0, 0, 0, 0.15);\n",
              "      filter: drop-shadow(0px 1px 2px rgba(0, 0, 0, 0.3));\n",
              "      fill: #FFFFFF;\n",
              "    }\n",
              "  </style>\n",
              "\n",
              "      <script>\n",
              "        const buttonEl =\n",
              "          document.querySelector('#df-5727c14a-ea81-481e-91ba-3b2b244897c9 button.colab-df-convert');\n",
              "        buttonEl.style.display =\n",
              "          google.colab.kernel.accessAllowed ? 'block' : 'none';\n",
              "\n",
              "        async function convertToInteractive(key) {\n",
              "          const element = document.querySelector('#df-5727c14a-ea81-481e-91ba-3b2b244897c9');\n",
              "          const dataTable =\n",
              "            await google.colab.kernel.invokeFunction('convertToInteractive',\n",
              "                                                     [key], {});\n",
              "          if (!dataTable) return;\n",
              "\n",
              "          const docLinkHtml = 'Like what you see? Visit the ' +\n",
              "            '<a target=\"_blank\" href=https://colab.research.google.com/notebooks/data_table.ipynb>data table notebook</a>'\n",
              "            + ' to learn more about interactive tables.';\n",
              "          element.innerHTML = '';\n",
              "          dataTable['output_type'] = 'display_data';\n",
              "          await google.colab.output.renderOutput(dataTable, element);\n",
              "          const docLink = document.createElement('div');\n",
              "          docLink.innerHTML = docLinkHtml;\n",
              "          element.appendChild(docLink);\n",
              "        }\n",
              "      </script>\n",
              "    </div>\n",
              "  </div>\n",
              "  "
            ]
          },
          "metadata": {},
          "execution_count": 15
        }
      ]
    },
    {
      "cell_type": "markdown",
      "source": [
        "Los tipos de aviso de la base de datos son todos de propiedad. El valor más común de end_date es \"hasta el final de los tiempos\"."
      ],
      "metadata": {
        "id": "t41vtKZTO3wM"
      }
    },
    {
      "cell_type": "code",
      "source": [
        "df_train.describe(include = 'object')"
      ],
      "metadata": {
        "colab": {
          "base_uri": "https://localhost:8080/",
          "height": 291
        },
        "id": "kqGZmrv-flkO",
        "outputId": "9087bb59-466a-43fc-c0ee-36bd653ec2dc"
      },
      "execution_count": 16,
      "outputs": [
        {
          "output_type": "execute_result",
          "data": {
            "text/plain": [
              "          ad_type    end_date         l1               l2       l3        l4  \\\n",
              "count     1000000     1000000    1000000          1000000   965273    306162   \n",
              "unique          1         450          4               43     1367      1070   \n",
              "top     Propiedad  9999-12-31  Argentina  Capital Federal  Rosario  Nordelta   \n",
              "freq      1000000      208960     983115           265125    61746     19479   \n",
              "\n",
              "                      l5 currency price_period       title  \\\n",
              "count               5530   955491       429870      999999   \n",
              "unique                21        5            3      548833   \n",
              "top     BarrioPortezuelo      USD      Mensual  casa-venta   \n",
              "freq                 735   738157       429842        3338   \n",
              "\n",
              "                                           description property_type  \\\n",
              "count                                           999958       1000000   \n",
              "unique                                          817449            10   \n",
              "top     Departamento en Alquiler de 1 dorm. en Cordoba  Departamento   \n",
              "freq                                              1980        457907   \n",
              "\n",
              "       operation_type  \n",
              "count         1000000  \n",
              "unique              3  \n",
              "top             Venta  \n",
              "freq           750831  "
            ],
            "text/html": [
              "\n",
              "  <div id=\"df-12660c56-4620-4282-a42c-7fdc0b0f0b97\">\n",
              "    <div class=\"colab-df-container\">\n",
              "      <div>\n",
              "<style scoped>\n",
              "    .dataframe tbody tr th:only-of-type {\n",
              "        vertical-align: middle;\n",
              "    }\n",
              "\n",
              "    .dataframe tbody tr th {\n",
              "        vertical-align: top;\n",
              "    }\n",
              "\n",
              "    .dataframe thead th {\n",
              "        text-align: right;\n",
              "    }\n",
              "</style>\n",
              "<table border=\"1\" class=\"dataframe\">\n",
              "  <thead>\n",
              "    <tr style=\"text-align: right;\">\n",
              "      <th></th>\n",
              "      <th>ad_type</th>\n",
              "      <th>end_date</th>\n",
              "      <th>l1</th>\n",
              "      <th>l2</th>\n",
              "      <th>l3</th>\n",
              "      <th>l4</th>\n",
              "      <th>l5</th>\n",
              "      <th>currency</th>\n",
              "      <th>price_period</th>\n",
              "      <th>title</th>\n",
              "      <th>description</th>\n",
              "      <th>property_type</th>\n",
              "      <th>operation_type</th>\n",
              "    </tr>\n",
              "  </thead>\n",
              "  <tbody>\n",
              "    <tr>\n",
              "      <th>count</th>\n",
              "      <td>1000000</td>\n",
              "      <td>1000000</td>\n",
              "      <td>1000000</td>\n",
              "      <td>1000000</td>\n",
              "      <td>965273</td>\n",
              "      <td>306162</td>\n",
              "      <td>5530</td>\n",
              "      <td>955491</td>\n",
              "      <td>429870</td>\n",
              "      <td>999999</td>\n",
              "      <td>999958</td>\n",
              "      <td>1000000</td>\n",
              "      <td>1000000</td>\n",
              "    </tr>\n",
              "    <tr>\n",
              "      <th>unique</th>\n",
              "      <td>1</td>\n",
              "      <td>450</td>\n",
              "      <td>4</td>\n",
              "      <td>43</td>\n",
              "      <td>1367</td>\n",
              "      <td>1070</td>\n",
              "      <td>21</td>\n",
              "      <td>5</td>\n",
              "      <td>3</td>\n",
              "      <td>548833</td>\n",
              "      <td>817449</td>\n",
              "      <td>10</td>\n",
              "      <td>3</td>\n",
              "    </tr>\n",
              "    <tr>\n",
              "      <th>top</th>\n",
              "      <td>Propiedad</td>\n",
              "      <td>9999-12-31</td>\n",
              "      <td>Argentina</td>\n",
              "      <td>Capital Federal</td>\n",
              "      <td>Rosario</td>\n",
              "      <td>Nordelta</td>\n",
              "      <td>BarrioPortezuelo</td>\n",
              "      <td>USD</td>\n",
              "      <td>Mensual</td>\n",
              "      <td>casa-venta</td>\n",
              "      <td>Departamento en Alquiler de 1 dorm. en Cordoba</td>\n",
              "      <td>Departamento</td>\n",
              "      <td>Venta</td>\n",
              "    </tr>\n",
              "    <tr>\n",
              "      <th>freq</th>\n",
              "      <td>1000000</td>\n",
              "      <td>208960</td>\n",
              "      <td>983115</td>\n",
              "      <td>265125</td>\n",
              "      <td>61746</td>\n",
              "      <td>19479</td>\n",
              "      <td>735</td>\n",
              "      <td>738157</td>\n",
              "      <td>429842</td>\n",
              "      <td>3338</td>\n",
              "      <td>1980</td>\n",
              "      <td>457907</td>\n",
              "      <td>750831</td>\n",
              "    </tr>\n",
              "  </tbody>\n",
              "</table>\n",
              "</div>\n",
              "      <button class=\"colab-df-convert\" onclick=\"convertToInteractive('df-12660c56-4620-4282-a42c-7fdc0b0f0b97')\"\n",
              "              title=\"Convert this dataframe to an interactive table.\"\n",
              "              style=\"display:none;\">\n",
              "        \n",
              "  <svg xmlns=\"http://www.w3.org/2000/svg\" height=\"24px\"viewBox=\"0 0 24 24\"\n",
              "       width=\"24px\">\n",
              "    <path d=\"M0 0h24v24H0V0z\" fill=\"none\"/>\n",
              "    <path d=\"M18.56 5.44l.94 2.06.94-2.06 2.06-.94-2.06-.94-.94-2.06-.94 2.06-2.06.94zm-11 1L8.5 8.5l.94-2.06 2.06-.94-2.06-.94L8.5 2.5l-.94 2.06-2.06.94zm10 10l.94 2.06.94-2.06 2.06-.94-2.06-.94-.94-2.06-.94 2.06-2.06.94z\"/><path d=\"M17.41 7.96l-1.37-1.37c-.4-.4-.92-.59-1.43-.59-.52 0-1.04.2-1.43.59L10.3 9.45l-7.72 7.72c-.78.78-.78 2.05 0 2.83L4 21.41c.39.39.9.59 1.41.59.51 0 1.02-.2 1.41-.59l7.78-7.78 2.81-2.81c.8-.78.8-2.07 0-2.86zM5.41 20L4 18.59l7.72-7.72 1.47 1.35L5.41 20z\"/>\n",
              "  </svg>\n",
              "      </button>\n",
              "      \n",
              "  <style>\n",
              "    .colab-df-container {\n",
              "      display:flex;\n",
              "      flex-wrap:wrap;\n",
              "      gap: 12px;\n",
              "    }\n",
              "\n",
              "    .colab-df-convert {\n",
              "      background-color: #E8F0FE;\n",
              "      border: none;\n",
              "      border-radius: 50%;\n",
              "      cursor: pointer;\n",
              "      display: none;\n",
              "      fill: #1967D2;\n",
              "      height: 32px;\n",
              "      padding: 0 0 0 0;\n",
              "      width: 32px;\n",
              "    }\n",
              "\n",
              "    .colab-df-convert:hover {\n",
              "      background-color: #E2EBFA;\n",
              "      box-shadow: 0px 1px 2px rgba(60, 64, 67, 0.3), 0px 1px 3px 1px rgba(60, 64, 67, 0.15);\n",
              "      fill: #174EA6;\n",
              "    }\n",
              "\n",
              "    [theme=dark] .colab-df-convert {\n",
              "      background-color: #3B4455;\n",
              "      fill: #D2E3FC;\n",
              "    }\n",
              "\n",
              "    [theme=dark] .colab-df-convert:hover {\n",
              "      background-color: #434B5C;\n",
              "      box-shadow: 0px 1px 3px 1px rgba(0, 0, 0, 0.15);\n",
              "      filter: drop-shadow(0px 1px 2px rgba(0, 0, 0, 0.3));\n",
              "      fill: #FFFFFF;\n",
              "    }\n",
              "  </style>\n",
              "\n",
              "      <script>\n",
              "        const buttonEl =\n",
              "          document.querySelector('#df-12660c56-4620-4282-a42c-7fdc0b0f0b97 button.colab-df-convert');\n",
              "        buttonEl.style.display =\n",
              "          google.colab.kernel.accessAllowed ? 'block' : 'none';\n",
              "\n",
              "        async function convertToInteractive(key) {\n",
              "          const element = document.querySelector('#df-12660c56-4620-4282-a42c-7fdc0b0f0b97');\n",
              "          const dataTable =\n",
              "            await google.colab.kernel.invokeFunction('convertToInteractive',\n",
              "                                                     [key], {});\n",
              "          if (!dataTable) return;\n",
              "\n",
              "          const docLinkHtml = 'Like what you see? Visit the ' +\n",
              "            '<a target=\"_blank\" href=https://colab.research.google.com/notebooks/data_table.ipynb>data table notebook</a>'\n",
              "            + ' to learn more about interactive tables.';\n",
              "          element.innerHTML = '';\n",
              "          dataTable['output_type'] = 'display_data';\n",
              "          await google.colab.output.renderOutput(dataTable, element);\n",
              "          const docLink = document.createElement('div');\n",
              "          docLink.innerHTML = docLinkHtml;\n",
              "          element.appendChild(docLink);\n",
              "        }\n",
              "      </script>\n",
              "    </div>\n",
              "  </div>\n",
              "  "
            ]
          },
          "metadata": {},
          "execution_count": 16
        }
      ]
    },
    {
      "cell_type": "markdown",
      "source": [
        "Los datos a predecir fueron extraídos de Capital Federal y son todos en USD. Quizás los precios en otras monedas todavía sirven. El tipo de operación es venta."
      ],
      "metadata": {
        "id": "0RpR-kNlPCi4"
      }
    },
    {
      "cell_type": "code",
      "source": [
        "df_pred.describe(include = 'object')"
      ],
      "metadata": {
        "colab": {
          "base_uri": "https://localhost:8080/",
          "height": 308
        },
        "id": "Zw76MhGwK7Bt",
        "outputId": "98afe424-f265-4003-8512-845e495b946a"
      },
      "execution_count": 17,
      "outputs": [
        {
          "output_type": "execute_result",
          "data": {
            "text/plain": [
              "          ad_type         l1               l2       l3 currency  \\\n",
              "count        1087       1087             1087     1087     1087   \n",
              "unique          1          1                1       48        1   \n",
              "top     Propiedad  Argentina  Capital Federal  Palermo      USD   \n",
              "freq         1087       1087             1087      205     1087   \n",
              "\n",
              "                                                    title  \\\n",
              "count                                                1087   \n",
              "unique                                                996   \n",
              "top     Arevalo Al 1400 - Departamento en Venta en Pal...   \n",
              "freq                                                    6   \n",
              "\n",
              "                                              description property_type  \\\n",
              "count                                                1083          1087   \n",
              "unique                                                962             2   \n",
              "top     En el corazón de Colegiales<br>Distrito Colegi...  Departamento   \n",
              "freq                                                   36           823   \n",
              "\n",
              "       operation_type                                            details  \\\n",
              "count            1087                                               1087   \n",
              "unique              1                                                981   \n",
              "top             Venta  Superficie 35.7m2, Ambientes 1, Baños 1, Sup. ...   \n",
              "freq             1087                                                  6   \n",
              "\n",
              "       additionals  services  \n",
              "count          955       842  \n",
              "unique         210         3  \n",
              "top         Balcón  Gas, Luz  \n",
              "freq           122       584  "
            ],
            "text/html": [
              "\n",
              "  <div id=\"df-ad0b503b-6fad-4184-bbde-17ffc1b38700\">\n",
              "    <div class=\"colab-df-container\">\n",
              "      <div>\n",
              "<style scoped>\n",
              "    .dataframe tbody tr th:only-of-type {\n",
              "        vertical-align: middle;\n",
              "    }\n",
              "\n",
              "    .dataframe tbody tr th {\n",
              "        vertical-align: top;\n",
              "    }\n",
              "\n",
              "    .dataframe thead th {\n",
              "        text-align: right;\n",
              "    }\n",
              "</style>\n",
              "<table border=\"1\" class=\"dataframe\">\n",
              "  <thead>\n",
              "    <tr style=\"text-align: right;\">\n",
              "      <th></th>\n",
              "      <th>ad_type</th>\n",
              "      <th>l1</th>\n",
              "      <th>l2</th>\n",
              "      <th>l3</th>\n",
              "      <th>currency</th>\n",
              "      <th>title</th>\n",
              "      <th>description</th>\n",
              "      <th>property_type</th>\n",
              "      <th>operation_type</th>\n",
              "      <th>details</th>\n",
              "      <th>additionals</th>\n",
              "      <th>services</th>\n",
              "    </tr>\n",
              "  </thead>\n",
              "  <tbody>\n",
              "    <tr>\n",
              "      <th>count</th>\n",
              "      <td>1087</td>\n",
              "      <td>1087</td>\n",
              "      <td>1087</td>\n",
              "      <td>1087</td>\n",
              "      <td>1087</td>\n",
              "      <td>1087</td>\n",
              "      <td>1083</td>\n",
              "      <td>1087</td>\n",
              "      <td>1087</td>\n",
              "      <td>1087</td>\n",
              "      <td>955</td>\n",
              "      <td>842</td>\n",
              "    </tr>\n",
              "    <tr>\n",
              "      <th>unique</th>\n",
              "      <td>1</td>\n",
              "      <td>1</td>\n",
              "      <td>1</td>\n",
              "      <td>48</td>\n",
              "      <td>1</td>\n",
              "      <td>996</td>\n",
              "      <td>962</td>\n",
              "      <td>2</td>\n",
              "      <td>1</td>\n",
              "      <td>981</td>\n",
              "      <td>210</td>\n",
              "      <td>3</td>\n",
              "    </tr>\n",
              "    <tr>\n",
              "      <th>top</th>\n",
              "      <td>Propiedad</td>\n",
              "      <td>Argentina</td>\n",
              "      <td>Capital Federal</td>\n",
              "      <td>Palermo</td>\n",
              "      <td>USD</td>\n",
              "      <td>Arevalo Al 1400 - Departamento en Venta en Pal...</td>\n",
              "      <td>En el corazón de Colegiales&lt;br&gt;Distrito Colegi...</td>\n",
              "      <td>Departamento</td>\n",
              "      <td>Venta</td>\n",
              "      <td>Superficie 35.7m2, Ambientes 1, Baños 1, Sup. ...</td>\n",
              "      <td>Balcón</td>\n",
              "      <td>Gas, Luz</td>\n",
              "    </tr>\n",
              "    <tr>\n",
              "      <th>freq</th>\n",
              "      <td>1087</td>\n",
              "      <td>1087</td>\n",
              "      <td>1087</td>\n",
              "      <td>205</td>\n",
              "      <td>1087</td>\n",
              "      <td>6</td>\n",
              "      <td>36</td>\n",
              "      <td>823</td>\n",
              "      <td>1087</td>\n",
              "      <td>6</td>\n",
              "      <td>122</td>\n",
              "      <td>584</td>\n",
              "    </tr>\n",
              "  </tbody>\n",
              "</table>\n",
              "</div>\n",
              "      <button class=\"colab-df-convert\" onclick=\"convertToInteractive('df-ad0b503b-6fad-4184-bbde-17ffc1b38700')\"\n",
              "              title=\"Convert this dataframe to an interactive table.\"\n",
              "              style=\"display:none;\">\n",
              "        \n",
              "  <svg xmlns=\"http://www.w3.org/2000/svg\" height=\"24px\"viewBox=\"0 0 24 24\"\n",
              "       width=\"24px\">\n",
              "    <path d=\"M0 0h24v24H0V0z\" fill=\"none\"/>\n",
              "    <path d=\"M18.56 5.44l.94 2.06.94-2.06 2.06-.94-2.06-.94-.94-2.06-.94 2.06-2.06.94zm-11 1L8.5 8.5l.94-2.06 2.06-.94-2.06-.94L8.5 2.5l-.94 2.06-2.06.94zm10 10l.94 2.06.94-2.06 2.06-.94-2.06-.94-.94-2.06-.94 2.06-2.06.94z\"/><path d=\"M17.41 7.96l-1.37-1.37c-.4-.4-.92-.59-1.43-.59-.52 0-1.04.2-1.43.59L10.3 9.45l-7.72 7.72c-.78.78-.78 2.05 0 2.83L4 21.41c.39.39.9.59 1.41.59.51 0 1.02-.2 1.41-.59l7.78-7.78 2.81-2.81c.8-.78.8-2.07 0-2.86zM5.41 20L4 18.59l7.72-7.72 1.47 1.35L5.41 20z\"/>\n",
              "  </svg>\n",
              "      </button>\n",
              "      \n",
              "  <style>\n",
              "    .colab-df-container {\n",
              "      display:flex;\n",
              "      flex-wrap:wrap;\n",
              "      gap: 12px;\n",
              "    }\n",
              "\n",
              "    .colab-df-convert {\n",
              "      background-color: #E8F0FE;\n",
              "      border: none;\n",
              "      border-radius: 50%;\n",
              "      cursor: pointer;\n",
              "      display: none;\n",
              "      fill: #1967D2;\n",
              "      height: 32px;\n",
              "      padding: 0 0 0 0;\n",
              "      width: 32px;\n",
              "    }\n",
              "\n",
              "    .colab-df-convert:hover {\n",
              "      background-color: #E2EBFA;\n",
              "      box-shadow: 0px 1px 2px rgba(60, 64, 67, 0.3), 0px 1px 3px 1px rgba(60, 64, 67, 0.15);\n",
              "      fill: #174EA6;\n",
              "    }\n",
              "\n",
              "    [theme=dark] .colab-df-convert {\n",
              "      background-color: #3B4455;\n",
              "      fill: #D2E3FC;\n",
              "    }\n",
              "\n",
              "    [theme=dark] .colab-df-convert:hover {\n",
              "      background-color: #434B5C;\n",
              "      box-shadow: 0px 1px 3px 1px rgba(0, 0, 0, 0.15);\n",
              "      filter: drop-shadow(0px 1px 2px rgba(0, 0, 0, 0.3));\n",
              "      fill: #FFFFFF;\n",
              "    }\n",
              "  </style>\n",
              "\n",
              "      <script>\n",
              "        const buttonEl =\n",
              "          document.querySelector('#df-ad0b503b-6fad-4184-bbde-17ffc1b38700 button.colab-df-convert');\n",
              "        buttonEl.style.display =\n",
              "          google.colab.kernel.accessAllowed ? 'block' : 'none';\n",
              "\n",
              "        async function convertToInteractive(key) {\n",
              "          const element = document.querySelector('#df-ad0b503b-6fad-4184-bbde-17ffc1b38700');\n",
              "          const dataTable =\n",
              "            await google.colab.kernel.invokeFunction('convertToInteractive',\n",
              "                                                     [key], {});\n",
              "          if (!dataTable) return;\n",
              "\n",
              "          const docLinkHtml = 'Like what you see? Visit the ' +\n",
              "            '<a target=\"_blank\" href=https://colab.research.google.com/notebooks/data_table.ipynb>data table notebook</a>'\n",
              "            + ' to learn more about interactive tables.';\n",
              "          element.innerHTML = '';\n",
              "          dataTable['output_type'] = 'display_data';\n",
              "          await google.colab.output.renderOutput(dataTable, element);\n",
              "          const docLink = document.createElement('div');\n",
              "          docLink.innerHTML = docLinkHtml;\n",
              "          element.appendChild(docLink);\n",
              "        }\n",
              "      </script>\n",
              "    </div>\n",
              "  </div>\n",
              "  "
            ]
          },
          "metadata": {},
          "execution_count": 17
        }
      ]
    },
    {
      "cell_type": "code",
      "source": [
        "df_train.corr()"
      ],
      "metadata": {
        "id": "2BX_faxbbAfZ",
        "colab": {
          "base_uri": "https://localhost:8080/",
          "height": 332
        },
        "outputId": "68a88984-f806-40aa-8bf4-e50e910bb823"
      },
      "execution_count": 18,
      "outputs": [
        {
          "output_type": "execute_result",
          "data": {
            "text/plain": [
              "                      lat       lon  l6     rooms  bedrooms  bathrooms  \\\n",
              "lat              1.000000 -0.270927 NaN  0.031453  0.023322  -0.001712   \n",
              "lon             -0.270927  1.000000 NaN -0.050640 -0.016150   0.023620   \n",
              "l6                    NaN       NaN NaN       NaN       NaN        NaN   \n",
              "rooms            0.031453 -0.050640 NaN  1.000000  0.806428   0.632832   \n",
              "bedrooms         0.023322 -0.016150 NaN  0.806428  1.000000   0.504256   \n",
              "bathrooms       -0.001712  0.023620 NaN  0.632832  0.504256   1.000000   \n",
              "surface_total    0.006127 -0.057315 NaN  0.066967  0.054696   0.095156   \n",
              "surface_covered  0.000948 -0.006137 NaN -0.000790  0.000475   0.000386   \n",
              "price            0.013864 -0.017480 NaN  0.011621  0.010950   0.018241   \n",
              "\n",
              "                 surface_total  surface_covered     price  \n",
              "lat                   0.006127         0.000948  0.013864  \n",
              "lon                  -0.057315        -0.006137 -0.017480  \n",
              "l6                         NaN              NaN       NaN  \n",
              "rooms                 0.066967        -0.000790  0.011621  \n",
              "bedrooms              0.054696         0.000475  0.010950  \n",
              "bathrooms             0.095156         0.000386  0.018241  \n",
              "surface_total         1.000000         0.428868  0.010015  \n",
              "surface_covered       0.428868         1.000000  0.000123  \n",
              "price                 0.010015         0.000123  1.000000  "
            ],
            "text/html": [
              "\n",
              "  <div id=\"df-a38dc339-2294-4df2-a87c-61bf6c80f194\">\n",
              "    <div class=\"colab-df-container\">\n",
              "      <div>\n",
              "<style scoped>\n",
              "    .dataframe tbody tr th:only-of-type {\n",
              "        vertical-align: middle;\n",
              "    }\n",
              "\n",
              "    .dataframe tbody tr th {\n",
              "        vertical-align: top;\n",
              "    }\n",
              "\n",
              "    .dataframe thead th {\n",
              "        text-align: right;\n",
              "    }\n",
              "</style>\n",
              "<table border=\"1\" class=\"dataframe\">\n",
              "  <thead>\n",
              "    <tr style=\"text-align: right;\">\n",
              "      <th></th>\n",
              "      <th>lat</th>\n",
              "      <th>lon</th>\n",
              "      <th>l6</th>\n",
              "      <th>rooms</th>\n",
              "      <th>bedrooms</th>\n",
              "      <th>bathrooms</th>\n",
              "      <th>surface_total</th>\n",
              "      <th>surface_covered</th>\n",
              "      <th>price</th>\n",
              "    </tr>\n",
              "  </thead>\n",
              "  <tbody>\n",
              "    <tr>\n",
              "      <th>lat</th>\n",
              "      <td>1.000000</td>\n",
              "      <td>-0.270927</td>\n",
              "      <td>NaN</td>\n",
              "      <td>0.031453</td>\n",
              "      <td>0.023322</td>\n",
              "      <td>-0.001712</td>\n",
              "      <td>0.006127</td>\n",
              "      <td>0.000948</td>\n",
              "      <td>0.013864</td>\n",
              "    </tr>\n",
              "    <tr>\n",
              "      <th>lon</th>\n",
              "      <td>-0.270927</td>\n",
              "      <td>1.000000</td>\n",
              "      <td>NaN</td>\n",
              "      <td>-0.050640</td>\n",
              "      <td>-0.016150</td>\n",
              "      <td>0.023620</td>\n",
              "      <td>-0.057315</td>\n",
              "      <td>-0.006137</td>\n",
              "      <td>-0.017480</td>\n",
              "    </tr>\n",
              "    <tr>\n",
              "      <th>l6</th>\n",
              "      <td>NaN</td>\n",
              "      <td>NaN</td>\n",
              "      <td>NaN</td>\n",
              "      <td>NaN</td>\n",
              "      <td>NaN</td>\n",
              "      <td>NaN</td>\n",
              "      <td>NaN</td>\n",
              "      <td>NaN</td>\n",
              "      <td>NaN</td>\n",
              "    </tr>\n",
              "    <tr>\n",
              "      <th>rooms</th>\n",
              "      <td>0.031453</td>\n",
              "      <td>-0.050640</td>\n",
              "      <td>NaN</td>\n",
              "      <td>1.000000</td>\n",
              "      <td>0.806428</td>\n",
              "      <td>0.632832</td>\n",
              "      <td>0.066967</td>\n",
              "      <td>-0.000790</td>\n",
              "      <td>0.011621</td>\n",
              "    </tr>\n",
              "    <tr>\n",
              "      <th>bedrooms</th>\n",
              "      <td>0.023322</td>\n",
              "      <td>-0.016150</td>\n",
              "      <td>NaN</td>\n",
              "      <td>0.806428</td>\n",
              "      <td>1.000000</td>\n",
              "      <td>0.504256</td>\n",
              "      <td>0.054696</td>\n",
              "      <td>0.000475</td>\n",
              "      <td>0.010950</td>\n",
              "    </tr>\n",
              "    <tr>\n",
              "      <th>bathrooms</th>\n",
              "      <td>-0.001712</td>\n",
              "      <td>0.023620</td>\n",
              "      <td>NaN</td>\n",
              "      <td>0.632832</td>\n",
              "      <td>0.504256</td>\n",
              "      <td>1.000000</td>\n",
              "      <td>0.095156</td>\n",
              "      <td>0.000386</td>\n",
              "      <td>0.018241</td>\n",
              "    </tr>\n",
              "    <tr>\n",
              "      <th>surface_total</th>\n",
              "      <td>0.006127</td>\n",
              "      <td>-0.057315</td>\n",
              "      <td>NaN</td>\n",
              "      <td>0.066967</td>\n",
              "      <td>0.054696</td>\n",
              "      <td>0.095156</td>\n",
              "      <td>1.000000</td>\n",
              "      <td>0.428868</td>\n",
              "      <td>0.010015</td>\n",
              "    </tr>\n",
              "    <tr>\n",
              "      <th>surface_covered</th>\n",
              "      <td>0.000948</td>\n",
              "      <td>-0.006137</td>\n",
              "      <td>NaN</td>\n",
              "      <td>-0.000790</td>\n",
              "      <td>0.000475</td>\n",
              "      <td>0.000386</td>\n",
              "      <td>0.428868</td>\n",
              "      <td>1.000000</td>\n",
              "      <td>0.000123</td>\n",
              "    </tr>\n",
              "    <tr>\n",
              "      <th>price</th>\n",
              "      <td>0.013864</td>\n",
              "      <td>-0.017480</td>\n",
              "      <td>NaN</td>\n",
              "      <td>0.011621</td>\n",
              "      <td>0.010950</td>\n",
              "      <td>0.018241</td>\n",
              "      <td>0.010015</td>\n",
              "      <td>0.000123</td>\n",
              "      <td>1.000000</td>\n",
              "    </tr>\n",
              "  </tbody>\n",
              "</table>\n",
              "</div>\n",
              "      <button class=\"colab-df-convert\" onclick=\"convertToInteractive('df-a38dc339-2294-4df2-a87c-61bf6c80f194')\"\n",
              "              title=\"Convert this dataframe to an interactive table.\"\n",
              "              style=\"display:none;\">\n",
              "        \n",
              "  <svg xmlns=\"http://www.w3.org/2000/svg\" height=\"24px\"viewBox=\"0 0 24 24\"\n",
              "       width=\"24px\">\n",
              "    <path d=\"M0 0h24v24H0V0z\" fill=\"none\"/>\n",
              "    <path d=\"M18.56 5.44l.94 2.06.94-2.06 2.06-.94-2.06-.94-.94-2.06-.94 2.06-2.06.94zm-11 1L8.5 8.5l.94-2.06 2.06-.94-2.06-.94L8.5 2.5l-.94 2.06-2.06.94zm10 10l.94 2.06.94-2.06 2.06-.94-2.06-.94-.94-2.06-.94 2.06-2.06.94z\"/><path d=\"M17.41 7.96l-1.37-1.37c-.4-.4-.92-.59-1.43-.59-.52 0-1.04.2-1.43.59L10.3 9.45l-7.72 7.72c-.78.78-.78 2.05 0 2.83L4 21.41c.39.39.9.59 1.41.59.51 0 1.02-.2 1.41-.59l7.78-7.78 2.81-2.81c.8-.78.8-2.07 0-2.86zM5.41 20L4 18.59l7.72-7.72 1.47 1.35L5.41 20z\"/>\n",
              "  </svg>\n",
              "      </button>\n",
              "      \n",
              "  <style>\n",
              "    .colab-df-container {\n",
              "      display:flex;\n",
              "      flex-wrap:wrap;\n",
              "      gap: 12px;\n",
              "    }\n",
              "\n",
              "    .colab-df-convert {\n",
              "      background-color: #E8F0FE;\n",
              "      border: none;\n",
              "      border-radius: 50%;\n",
              "      cursor: pointer;\n",
              "      display: none;\n",
              "      fill: #1967D2;\n",
              "      height: 32px;\n",
              "      padding: 0 0 0 0;\n",
              "      width: 32px;\n",
              "    }\n",
              "\n",
              "    .colab-df-convert:hover {\n",
              "      background-color: #E2EBFA;\n",
              "      box-shadow: 0px 1px 2px rgba(60, 64, 67, 0.3), 0px 1px 3px 1px rgba(60, 64, 67, 0.15);\n",
              "      fill: #174EA6;\n",
              "    }\n",
              "\n",
              "    [theme=dark] .colab-df-convert {\n",
              "      background-color: #3B4455;\n",
              "      fill: #D2E3FC;\n",
              "    }\n",
              "\n",
              "    [theme=dark] .colab-df-convert:hover {\n",
              "      background-color: #434B5C;\n",
              "      box-shadow: 0px 1px 3px 1px rgba(0, 0, 0, 0.15);\n",
              "      filter: drop-shadow(0px 1px 2px rgba(0, 0, 0, 0.3));\n",
              "      fill: #FFFFFF;\n",
              "    }\n",
              "  </style>\n",
              "\n",
              "      <script>\n",
              "        const buttonEl =\n",
              "          document.querySelector('#df-a38dc339-2294-4df2-a87c-61bf6c80f194 button.colab-df-convert');\n",
              "        buttonEl.style.display =\n",
              "          google.colab.kernel.accessAllowed ? 'block' : 'none';\n",
              "\n",
              "        async function convertToInteractive(key) {\n",
              "          const element = document.querySelector('#df-a38dc339-2294-4df2-a87c-61bf6c80f194');\n",
              "          const dataTable =\n",
              "            await google.colab.kernel.invokeFunction('convertToInteractive',\n",
              "                                                     [key], {});\n",
              "          if (!dataTable) return;\n",
              "\n",
              "          const docLinkHtml = 'Like what you see? Visit the ' +\n",
              "            '<a target=\"_blank\" href=https://colab.research.google.com/notebooks/data_table.ipynb>data table notebook</a>'\n",
              "            + ' to learn more about interactive tables.';\n",
              "          element.innerHTML = '';\n",
              "          dataTable['output_type'] = 'display_data';\n",
              "          await google.colab.output.renderOutput(dataTable, element);\n",
              "          const docLink = document.createElement('div');\n",
              "          docLink.innerHTML = docLinkHtml;\n",
              "          element.appendChild(docLink);\n",
              "        }\n",
              "      </script>\n",
              "    </div>\n",
              "  </div>\n",
              "  "
            ]
          },
          "metadata": {},
          "execution_count": 18
        }
      ]
    },
    {
      "cell_type": "markdown",
      "source": [
        "Ambientes y dormitorios están fuertemente correlacionados, y hay una correlación entre superficie y ambientes/dormitorios/baños."
      ],
      "metadata": {
        "id": "q1ZvWcBgzLhc"
      }
    },
    {
      "cell_type": "code",
      "source": [
        "df_pred.corr()"
      ],
      "metadata": {
        "id": "V_BPyATmbC1C",
        "colab": {
          "base_uri": "https://localhost:8080/",
          "height": 426
        },
        "outputId": "a958650f-c35f-40bb-c355-e06e17179a30"
      },
      "execution_count": 19,
      "outputs": [
        {
          "output_type": "execute_result",
          "data": {
            "text/plain": [
              "                      lat       lon     rooms  bedrooms  bathrooms  \\\n",
              "lat              1.000000  0.991909  0.005422 -0.001136   0.033697   \n",
              "lon              0.991909  1.000000  0.003085 -0.004191   0.032677   \n",
              "rooms            0.005422  0.003085  1.000000  0.907339   0.639972   \n",
              "bedrooms        -0.001136 -0.004191  0.907339  1.000000   0.641267   \n",
              "bathrooms        0.033697  0.032677  0.639972  0.641267   1.000000   \n",
              "surface_total    0.012501  0.009869  0.756343  0.729785   0.710921   \n",
              "surface_covered  0.012501  0.009869  0.756343  0.729785   0.710921   \n",
              "price                 NaN       NaN       NaN       NaN        NaN   \n",
              "price_period          NaN       NaN       NaN       NaN        NaN   \n",
              "l4                    NaN       NaN       NaN       NaN        NaN   \n",
              "l5                    NaN       NaN       NaN       NaN        NaN   \n",
              "l6                    NaN       NaN       NaN       NaN        NaN   \n",
              "\n",
              "                 surface_total  surface_covered  price  price_period  l4  l5  \\\n",
              "lat                   0.012501         0.012501    NaN           NaN NaN NaN   \n",
              "lon                   0.009869         0.009869    NaN           NaN NaN NaN   \n",
              "rooms                 0.756343         0.756343    NaN           NaN NaN NaN   \n",
              "bedrooms              0.729785         0.729785    NaN           NaN NaN NaN   \n",
              "bathrooms             0.710921         0.710921    NaN           NaN NaN NaN   \n",
              "surface_total         1.000000         1.000000    NaN           NaN NaN NaN   \n",
              "surface_covered       1.000000         1.000000    NaN           NaN NaN NaN   \n",
              "price                      NaN              NaN    NaN           NaN NaN NaN   \n",
              "price_period               NaN              NaN    NaN           NaN NaN NaN   \n",
              "l4                         NaN              NaN    NaN           NaN NaN NaN   \n",
              "l5                         NaN              NaN    NaN           NaN NaN NaN   \n",
              "l6                         NaN              NaN    NaN           NaN NaN NaN   \n",
              "\n",
              "                 l6  \n",
              "lat             NaN  \n",
              "lon             NaN  \n",
              "rooms           NaN  \n",
              "bedrooms        NaN  \n",
              "bathrooms       NaN  \n",
              "surface_total   NaN  \n",
              "surface_covered NaN  \n",
              "price           NaN  \n",
              "price_period    NaN  \n",
              "l4              NaN  \n",
              "l5              NaN  \n",
              "l6              NaN  "
            ],
            "text/html": [
              "\n",
              "  <div id=\"df-507990f8-88de-4889-af53-23ea8a5c459a\">\n",
              "    <div class=\"colab-df-container\">\n",
              "      <div>\n",
              "<style scoped>\n",
              "    .dataframe tbody tr th:only-of-type {\n",
              "        vertical-align: middle;\n",
              "    }\n",
              "\n",
              "    .dataframe tbody tr th {\n",
              "        vertical-align: top;\n",
              "    }\n",
              "\n",
              "    .dataframe thead th {\n",
              "        text-align: right;\n",
              "    }\n",
              "</style>\n",
              "<table border=\"1\" class=\"dataframe\">\n",
              "  <thead>\n",
              "    <tr style=\"text-align: right;\">\n",
              "      <th></th>\n",
              "      <th>lat</th>\n",
              "      <th>lon</th>\n",
              "      <th>rooms</th>\n",
              "      <th>bedrooms</th>\n",
              "      <th>bathrooms</th>\n",
              "      <th>surface_total</th>\n",
              "      <th>surface_covered</th>\n",
              "      <th>price</th>\n",
              "      <th>price_period</th>\n",
              "      <th>l4</th>\n",
              "      <th>l5</th>\n",
              "      <th>l6</th>\n",
              "    </tr>\n",
              "  </thead>\n",
              "  <tbody>\n",
              "    <tr>\n",
              "      <th>lat</th>\n",
              "      <td>1.000000</td>\n",
              "      <td>0.991909</td>\n",
              "      <td>0.005422</td>\n",
              "      <td>-0.001136</td>\n",
              "      <td>0.033697</td>\n",
              "      <td>0.012501</td>\n",
              "      <td>0.012501</td>\n",
              "      <td>NaN</td>\n",
              "      <td>NaN</td>\n",
              "      <td>NaN</td>\n",
              "      <td>NaN</td>\n",
              "      <td>NaN</td>\n",
              "    </tr>\n",
              "    <tr>\n",
              "      <th>lon</th>\n",
              "      <td>0.991909</td>\n",
              "      <td>1.000000</td>\n",
              "      <td>0.003085</td>\n",
              "      <td>-0.004191</td>\n",
              "      <td>0.032677</td>\n",
              "      <td>0.009869</td>\n",
              "      <td>0.009869</td>\n",
              "      <td>NaN</td>\n",
              "      <td>NaN</td>\n",
              "      <td>NaN</td>\n",
              "      <td>NaN</td>\n",
              "      <td>NaN</td>\n",
              "    </tr>\n",
              "    <tr>\n",
              "      <th>rooms</th>\n",
              "      <td>0.005422</td>\n",
              "      <td>0.003085</td>\n",
              "      <td>1.000000</td>\n",
              "      <td>0.907339</td>\n",
              "      <td>0.639972</td>\n",
              "      <td>0.756343</td>\n",
              "      <td>0.756343</td>\n",
              "      <td>NaN</td>\n",
              "      <td>NaN</td>\n",
              "      <td>NaN</td>\n",
              "      <td>NaN</td>\n",
              "      <td>NaN</td>\n",
              "    </tr>\n",
              "    <tr>\n",
              "      <th>bedrooms</th>\n",
              "      <td>-0.001136</td>\n",
              "      <td>-0.004191</td>\n",
              "      <td>0.907339</td>\n",
              "      <td>1.000000</td>\n",
              "      <td>0.641267</td>\n",
              "      <td>0.729785</td>\n",
              "      <td>0.729785</td>\n",
              "      <td>NaN</td>\n",
              "      <td>NaN</td>\n",
              "      <td>NaN</td>\n",
              "      <td>NaN</td>\n",
              "      <td>NaN</td>\n",
              "    </tr>\n",
              "    <tr>\n",
              "      <th>bathrooms</th>\n",
              "      <td>0.033697</td>\n",
              "      <td>0.032677</td>\n",
              "      <td>0.639972</td>\n",
              "      <td>0.641267</td>\n",
              "      <td>1.000000</td>\n",
              "      <td>0.710921</td>\n",
              "      <td>0.710921</td>\n",
              "      <td>NaN</td>\n",
              "      <td>NaN</td>\n",
              "      <td>NaN</td>\n",
              "      <td>NaN</td>\n",
              "      <td>NaN</td>\n",
              "    </tr>\n",
              "    <tr>\n",
              "      <th>surface_total</th>\n",
              "      <td>0.012501</td>\n",
              "      <td>0.009869</td>\n",
              "      <td>0.756343</td>\n",
              "      <td>0.729785</td>\n",
              "      <td>0.710921</td>\n",
              "      <td>1.000000</td>\n",
              "      <td>1.000000</td>\n",
              "      <td>NaN</td>\n",
              "      <td>NaN</td>\n",
              "      <td>NaN</td>\n",
              "      <td>NaN</td>\n",
              "      <td>NaN</td>\n",
              "    </tr>\n",
              "    <tr>\n",
              "      <th>surface_covered</th>\n",
              "      <td>0.012501</td>\n",
              "      <td>0.009869</td>\n",
              "      <td>0.756343</td>\n",
              "      <td>0.729785</td>\n",
              "      <td>0.710921</td>\n",
              "      <td>1.000000</td>\n",
              "      <td>1.000000</td>\n",
              "      <td>NaN</td>\n",
              "      <td>NaN</td>\n",
              "      <td>NaN</td>\n",
              "      <td>NaN</td>\n",
              "      <td>NaN</td>\n",
              "    </tr>\n",
              "    <tr>\n",
              "      <th>price</th>\n",
              "      <td>NaN</td>\n",
              "      <td>NaN</td>\n",
              "      <td>NaN</td>\n",
              "      <td>NaN</td>\n",
              "      <td>NaN</td>\n",
              "      <td>NaN</td>\n",
              "      <td>NaN</td>\n",
              "      <td>NaN</td>\n",
              "      <td>NaN</td>\n",
              "      <td>NaN</td>\n",
              "      <td>NaN</td>\n",
              "      <td>NaN</td>\n",
              "    </tr>\n",
              "    <tr>\n",
              "      <th>price_period</th>\n",
              "      <td>NaN</td>\n",
              "      <td>NaN</td>\n",
              "      <td>NaN</td>\n",
              "      <td>NaN</td>\n",
              "      <td>NaN</td>\n",
              "      <td>NaN</td>\n",
              "      <td>NaN</td>\n",
              "      <td>NaN</td>\n",
              "      <td>NaN</td>\n",
              "      <td>NaN</td>\n",
              "      <td>NaN</td>\n",
              "      <td>NaN</td>\n",
              "    </tr>\n",
              "    <tr>\n",
              "      <th>l4</th>\n",
              "      <td>NaN</td>\n",
              "      <td>NaN</td>\n",
              "      <td>NaN</td>\n",
              "      <td>NaN</td>\n",
              "      <td>NaN</td>\n",
              "      <td>NaN</td>\n",
              "      <td>NaN</td>\n",
              "      <td>NaN</td>\n",
              "      <td>NaN</td>\n",
              "      <td>NaN</td>\n",
              "      <td>NaN</td>\n",
              "      <td>NaN</td>\n",
              "    </tr>\n",
              "    <tr>\n",
              "      <th>l5</th>\n",
              "      <td>NaN</td>\n",
              "      <td>NaN</td>\n",
              "      <td>NaN</td>\n",
              "      <td>NaN</td>\n",
              "      <td>NaN</td>\n",
              "      <td>NaN</td>\n",
              "      <td>NaN</td>\n",
              "      <td>NaN</td>\n",
              "      <td>NaN</td>\n",
              "      <td>NaN</td>\n",
              "      <td>NaN</td>\n",
              "      <td>NaN</td>\n",
              "    </tr>\n",
              "    <tr>\n",
              "      <th>l6</th>\n",
              "      <td>NaN</td>\n",
              "      <td>NaN</td>\n",
              "      <td>NaN</td>\n",
              "      <td>NaN</td>\n",
              "      <td>NaN</td>\n",
              "      <td>NaN</td>\n",
              "      <td>NaN</td>\n",
              "      <td>NaN</td>\n",
              "      <td>NaN</td>\n",
              "      <td>NaN</td>\n",
              "      <td>NaN</td>\n",
              "      <td>NaN</td>\n",
              "    </tr>\n",
              "  </tbody>\n",
              "</table>\n",
              "</div>\n",
              "      <button class=\"colab-df-convert\" onclick=\"convertToInteractive('df-507990f8-88de-4889-af53-23ea8a5c459a')\"\n",
              "              title=\"Convert this dataframe to an interactive table.\"\n",
              "              style=\"display:none;\">\n",
              "        \n",
              "  <svg xmlns=\"http://www.w3.org/2000/svg\" height=\"24px\"viewBox=\"0 0 24 24\"\n",
              "       width=\"24px\">\n",
              "    <path d=\"M0 0h24v24H0V0z\" fill=\"none\"/>\n",
              "    <path d=\"M18.56 5.44l.94 2.06.94-2.06 2.06-.94-2.06-.94-.94-2.06-.94 2.06-2.06.94zm-11 1L8.5 8.5l.94-2.06 2.06-.94-2.06-.94L8.5 2.5l-.94 2.06-2.06.94zm10 10l.94 2.06.94-2.06 2.06-.94-2.06-.94-.94-2.06-.94 2.06-2.06.94z\"/><path d=\"M17.41 7.96l-1.37-1.37c-.4-.4-.92-.59-1.43-.59-.52 0-1.04.2-1.43.59L10.3 9.45l-7.72 7.72c-.78.78-.78 2.05 0 2.83L4 21.41c.39.39.9.59 1.41.59.51 0 1.02-.2 1.41-.59l7.78-7.78 2.81-2.81c.8-.78.8-2.07 0-2.86zM5.41 20L4 18.59l7.72-7.72 1.47 1.35L5.41 20z\"/>\n",
              "  </svg>\n",
              "      </button>\n",
              "      \n",
              "  <style>\n",
              "    .colab-df-container {\n",
              "      display:flex;\n",
              "      flex-wrap:wrap;\n",
              "      gap: 12px;\n",
              "    }\n",
              "\n",
              "    .colab-df-convert {\n",
              "      background-color: #E8F0FE;\n",
              "      border: none;\n",
              "      border-radius: 50%;\n",
              "      cursor: pointer;\n",
              "      display: none;\n",
              "      fill: #1967D2;\n",
              "      height: 32px;\n",
              "      padding: 0 0 0 0;\n",
              "      width: 32px;\n",
              "    }\n",
              "\n",
              "    .colab-df-convert:hover {\n",
              "      background-color: #E2EBFA;\n",
              "      box-shadow: 0px 1px 2px rgba(60, 64, 67, 0.3), 0px 1px 3px 1px rgba(60, 64, 67, 0.15);\n",
              "      fill: #174EA6;\n",
              "    }\n",
              "\n",
              "    [theme=dark] .colab-df-convert {\n",
              "      background-color: #3B4455;\n",
              "      fill: #D2E3FC;\n",
              "    }\n",
              "\n",
              "    [theme=dark] .colab-df-convert:hover {\n",
              "      background-color: #434B5C;\n",
              "      box-shadow: 0px 1px 3px 1px rgba(0, 0, 0, 0.15);\n",
              "      filter: drop-shadow(0px 1px 2px rgba(0, 0, 0, 0.3));\n",
              "      fill: #FFFFFF;\n",
              "    }\n",
              "  </style>\n",
              "\n",
              "      <script>\n",
              "        const buttonEl =\n",
              "          document.querySelector('#df-507990f8-88de-4889-af53-23ea8a5c459a button.colab-df-convert');\n",
              "        buttonEl.style.display =\n",
              "          google.colab.kernel.accessAllowed ? 'block' : 'none';\n",
              "\n",
              "        async function convertToInteractive(key) {\n",
              "          const element = document.querySelector('#df-507990f8-88de-4889-af53-23ea8a5c459a');\n",
              "          const dataTable =\n",
              "            await google.colab.kernel.invokeFunction('convertToInteractive',\n",
              "                                                     [key], {});\n",
              "          if (!dataTable) return;\n",
              "\n",
              "          const docLinkHtml = 'Like what you see? Visit the ' +\n",
              "            '<a target=\"_blank\" href=https://colab.research.google.com/notebooks/data_table.ipynb>data table notebook</a>'\n",
              "            + ' to learn more about interactive tables.';\n",
              "          element.innerHTML = '';\n",
              "          dataTable['output_type'] = 'display_data';\n",
              "          await google.colab.output.renderOutput(dataTable, element);\n",
              "          const docLink = document.createElement('div');\n",
              "          docLink.innerHTML = docLinkHtml;\n",
              "          element.appendChild(docLink);\n",
              "        }\n",
              "      </script>\n",
              "    </div>\n",
              "  </div>\n",
              "  "
            ]
          },
          "metadata": {},
          "execution_count": 19
        }
      ]
    },
    {
      "cell_type": "markdown",
      "source": [
        "##Exploración variables"
      ],
      "metadata": {
        "id": "BBtjvTdWmEN_"
      }
    },
    {
      "cell_type": "markdown",
      "source": [
        "###Análisis etiquetas de ubicación"
      ],
      "metadata": {
        "id": "5qAHEU5mhB0z"
      }
    },
    {
      "cell_type": "code",
      "source": [
        "df_train.l3.value_counts()"
      ],
      "metadata": {
        "colab": {
          "base_uri": "https://localhost:8080/"
        },
        "id": "e3hcS1UL2ckx",
        "outputId": "36bf89dd-b1ee-4267-ea03-0e8302148585"
      },
      "execution_count": 20,
      "outputs": [
        {
          "output_type": "execute_result",
          "data": {
            "text/plain": [
              "Rosario               61746\n",
              "Tigre                 52430\n",
              "Mar del Plata         51691\n",
              "Palermo               41756\n",
              "Córdoba               39951\n",
              "                      ...  \n",
              "La Consulta               1\n",
              "Monteros                  1\n",
              "Sanford                   1\n",
              "Marcelino Escalada        1\n",
              "Las Violetas              1\n",
              "Name: l3, Length: 1367, dtype: int64"
            ]
          },
          "metadata": {},
          "execution_count": 20
        }
      ]
    },
    {
      "cell_type": "markdown",
      "source": [
        "El que dice GBA norte puede que necesite una aproximación. Revisar si son todos barrios de Capital."
      ],
      "metadata": {
        "id": "LAbwM0kkXet-"
      }
    },
    {
      "cell_type": "code",
      "source": [
        "df_pred.l3.unique()#longitud 48"
      ],
      "metadata": {
        "id": "cftmGUE1CnG-",
        "colab": {
          "base_uri": "https://localhost:8080/"
        },
        "outputId": "68ca4465-5968-46a3-be55-808bda3795d7"
      },
      "execution_count": 21,
      "outputs": [
        {
          "output_type": "execute_result",
          "data": {
            "text/plain": [
              "array(['Balvanera', 'Villa Urquiza', 'Palermo', 'Belgrano', 'Floresta',\n",
              "       'Villa Pueyrredon', 'Saavedra', 'Villa Devoto', 'San Nicolás',\n",
              "       'Chacarita', 'Villa Crespo', 'Boedo', 'Flores', 'Paternal', 'Boca',\n",
              "       'Recoleta', 'Caballito', 'Nuñez', 'Constitución', 'Colegiales',\n",
              "       'San Telmo', 'Monserrat', 'Puerto Madero', 'Villa del Parque',\n",
              "       'Almagro', 'Villa Ortuzar', 'Villa Lugano', 'San Cristobal',\n",
              "       'Barracas', 'Liniers', '2 Ambientes', 'Mataderos',\n",
              "       'Villa Santa Rita', 'Parque Patricios', 'Parque Chas',\n",
              "       'Villa General Mitre', 'Retiro', 'Parque Avellaneda',\n",
              "       'Monte Castro', 'Parque Chacabuco', 'Villa Luro', 'Versalles',\n",
              "       'Coghlan', 'Vélez Sarsfield', 'Nueva Pompeya', 'Agronomía',\n",
              "       'Villa Real', 'GBA Norte'], dtype=object)"
            ]
          },
          "metadata": {},
          "execution_count": 21
        }
      ]
    },
    {
      "cell_type": "code",
      "source": [
        "df_pred.l3.value_counts()"
      ],
      "metadata": {
        "colab": {
          "base_uri": "https://localhost:8080/"
        },
        "id": "sWfapXRTXCJr",
        "outputId": "4109b0e5-c051-47a2-bdd5-e63b93ec755c"
      },
      "execution_count": 22,
      "outputs": [
        {
          "output_type": "execute_result",
          "data": {
            "text/plain": [
              "Palermo                205\n",
              "Belgrano               110\n",
              "Recoleta                97\n",
              "Caballito               74\n",
              "Villa Crespo            58\n",
              "Almagro                 57\n",
              "Barracas                39\n",
              "Nuñez                   36\n",
              "Flores                  36\n",
              "Villa Urquiza           34\n",
              "Balvanera               34\n",
              "Colegiales              27\n",
              "San Telmo               24\n",
              "Saavedra                22\n",
              "Boedo                   20\n",
              "Villa Devoto            17\n",
              "Monserrat               17\n",
              "San Nicolás             16\n",
              "Puerto Madero           15\n",
              "Floresta                14\n",
              "Villa del Parque        12\n",
              "Paternal                10\n",
              "San Cristobal           10\n",
              "Villa Ortuzar            9\n",
              "Parque Patricios         9\n",
              "Constitución             8\n",
              "Villa Luro               6\n",
              "Monte Castro             6\n",
              "Chacarita                6\n",
              "Retiro                   5\n",
              "Villa General Mitre      5\n",
              "Parque Chas              5\n",
              "Villa Pueyrredon         5\n",
              "Nueva Pompeya            5\n",
              "Boca                     5\n",
              "Parque Chacabuco         5\n",
              "Versalles                3\n",
              "Coghlan                  3\n",
              "Liniers                  3\n",
              "Villa Santa Rita         3\n",
              "Villa Lugano             3\n",
              "Parque Avellaneda        2\n",
              "Mataderos                2\n",
              "2 Ambientes              1\n",
              "Vélez Sarsfield          1\n",
              "Agronomía                1\n",
              "Villa Real               1\n",
              "GBA Norte                1\n",
              "Name: l3, dtype: int64"
            ]
          },
          "metadata": {},
          "execution_count": 22
        }
      ]
    },
    {
      "cell_type": "markdown",
      "source": [
        "Barrios que no están en la base de datos de properati"
      ],
      "metadata": {
        "id": "8BrSJ-Zmey1s"
      }
    },
    {
      "cell_type": "code",
      "source": [
        "set(df_usdpersqm.reset_index().Barrio.unique())"
      ],
      "metadata": {
        "colab": {
          "base_uri": "https://localhost:8080/"
        },
        "id": "8eGjauxAsmM3",
        "outputId": "a5adfaf3-9bee-414a-b91e-f1b6fbc2ba6c"
      },
      "execution_count": 23,
      "outputs": [
        {
          "output_type": "execute_result",
          "data": {
            "text/plain": [
              "{'Agronomía',\n",
              " 'Almagro',\n",
              " 'Balvanera',\n",
              " 'Barracas',\n",
              " 'Belgrano',\n",
              " 'Boca',\n",
              " 'Boedo',\n",
              " 'Caballito',\n",
              " 'Chacarita',\n",
              " 'Coghlan',\n",
              " 'Colegiales',\n",
              " 'Constitución',\n",
              " 'Flores',\n",
              " 'Floresta',\n",
              " 'Liniers',\n",
              " 'Mataderos',\n",
              " 'Monserrat',\n",
              " 'Monte Castro',\n",
              " 'Nueva Pompeya',\n",
              " 'Núñez',\n",
              " 'Palermo',\n",
              " 'Parque Avellaneda',\n",
              " 'Parque Chacabuco',\n",
              " 'Parque Chas',\n",
              " 'Parque Patricios',\n",
              " 'Paternal',\n",
              " 'Puerto Madero',\n",
              " 'Recoleta',\n",
              " 'Retiro',\n",
              " 'Saavedra',\n",
              " 'San Cristóbal',\n",
              " 'San Nicolás',\n",
              " 'San Telmo',\n",
              " 'Versalles',\n",
              " 'Villa Crespo',\n",
              " 'Villa Devoto',\n",
              " 'Villa General Mitre',\n",
              " 'Villa Lugano',\n",
              " 'Villa Luro',\n",
              " 'Villa Ortúzar',\n",
              " 'Villa Pueyrredón',\n",
              " 'Villa Real',\n",
              " 'Villa Riachuelo',\n",
              " 'Villa Santa Rita',\n",
              " 'Villa Soldati',\n",
              " 'Villa Urquiza',\n",
              " 'Villa del Parque',\n",
              " 'Vélez Sarsfield'}"
            ]
          },
          "metadata": {},
          "execution_count": 23
        }
      ]
    },
    {
      "cell_type": "code",
      "source": [
        "set(df_pred.l3.unique()) - set(df_train.l3.unique())"
      ],
      "metadata": {
        "colab": {
          "base_uri": "https://localhost:8080/"
        },
        "id": "BDXjZ9exeVM-",
        "outputId": "2ad5b3a3-ccd8-4189-8ba5-faf14e61eec5"
      },
      "execution_count": 24,
      "outputs": [
        {
          "output_type": "execute_result",
          "data": {
            "text/plain": [
              "{'2 Ambientes',\n",
              " 'GBA Norte',\n",
              " 'Nueva Pompeya',\n",
              " 'Villa Pueyrredon',\n",
              " 'Vélez Sarsfield'}"
            ]
          },
          "metadata": {},
          "execution_count": 24
        }
      ]
    },
    {
      "cell_type": "code",
      "source": [
        "set(df_train[df_train.l2 == 'Capital Federal'].l3.unique()) - set(df_usdpersqm.reset_index().Barrio.unique())"
      ],
      "metadata": {
        "colab": {
          "base_uri": "https://localhost:8080/"
        },
        "id": "kQUZEGicqWXH",
        "outputId": "dbcce245-eac9-4ff3-ce90-0925abd50c52"
      },
      "execution_count": 25,
      "outputs": [
        {
          "output_type": "execute_result",
          "data": {
            "text/plain": [
              "{'Abasto',\n",
              " 'Barrio Norte',\n",
              " 'Catalinas',\n",
              " 'Centro / Microcentro',\n",
              " 'Congreso',\n",
              " 'Las Cañitas',\n",
              " 'Nuñez',\n",
              " 'Once',\n",
              " 'Parque Centenario',\n",
              " 'Pompeya',\n",
              " 'San Cristobal',\n",
              " 'Tribunales',\n",
              " 'Velez Sarsfield',\n",
              " 'Villa Ortuzar',\n",
              " nan}"
            ]
          },
          "metadata": {},
          "execution_count": 25
        }
      ]
    },
    {
      "cell_type": "code",
      "source": [
        "set(df_pred.l3.unique()) - set(df_usdpersqm.reset_index().Barrio.unique())"
      ],
      "metadata": {
        "colab": {
          "base_uri": "https://localhost:8080/"
        },
        "id": "LdgAtkFRpv-X",
        "outputId": "3a4ce4ea-c82d-4035-f1cf-61f3036d74fd"
      },
      "execution_count": 26,
      "outputs": [
        {
          "output_type": "execute_result",
          "data": {
            "text/plain": [
              "{'2 Ambientes',\n",
              " 'GBA Norte',\n",
              " 'Nuñez',\n",
              " 'San Cristobal',\n",
              " 'Villa Ortuzar',\n",
              " 'Villa Pueyrredon'}"
            ]
          },
          "metadata": {},
          "execution_count": 26
        }
      ]
    },
    {
      "cell_type": "markdown",
      "source": [
        "El 2 ambientes está en Palermo"
      ],
      "metadata": {
        "id": "DtOhb553hZ-W"
      }
    },
    {
      "cell_type": "code",
      "source": [
        "df_pred[df_pred.l3 == '2 Ambientes'].index"
      ],
      "metadata": {
        "colab": {
          "base_uri": "https://localhost:8080/"
        },
        "id": "8yUFR6WAY_0a",
        "outputId": "abae3bd8-b9e0-44ca-caea-d780431e83fc"
      },
      "execution_count": 27,
      "outputs": [
        {
          "output_type": "execute_result",
          "data": {
            "text/plain": [
              "Int64Index([133], dtype='int64', name='id')"
            ]
          },
          "metadata": {},
          "execution_count": 27
        }
      ]
    },
    {
      "cell_type": "code",
      "source": [
        "df_pred.at[133,'title']"
      ],
      "metadata": {
        "colab": {
          "base_uri": "https://localhost:8080/",
          "height": 36
        },
        "id": "7ODc24MoXQyx",
        "outputId": "e6d161fc-fb5a-4d39-a227-5785e63eaf7f"
      },
      "execution_count": 28,
      "outputs": [
        {
          "output_type": "execute_result",
          "data": {
            "text/plain": [
              "'Avenida Coronel Niceto Vega 5100 - PH en Venta en CABA de 51 m2 con 1 dormitorio, 1 baño, a .'"
            ],
            "application/vnd.google.colaboratory.intrinsic+json": {
              "type": "string"
            }
          },
          "metadata": {},
          "execution_count": 28
        }
      ]
    },
    {
      "cell_type": "markdown",
      "source": [
        "###Tipos de moneda de Properati"
      ],
      "metadata": {
        "id": "-3wiHg0qhdlr"
      }
    },
    {
      "cell_type": "code",
      "source": [
        "df_train.currency.value_counts()"
      ],
      "metadata": {
        "colab": {
          "base_uri": "https://localhost:8080/"
        },
        "id": "fMfPjouMfNdv",
        "outputId": "d2069828-a066-4c73-b75e-2aef0c2bf4d5"
      },
      "execution_count": 29,
      "outputs": [
        {
          "output_type": "execute_result",
          "data": {
            "text/plain": [
              "USD    738157\n",
              "ARS    214254\n",
              "UYU      2785\n",
              "PEN       292\n",
              "COP         3\n",
              "Name: currency, dtype: int64"
            ]
          },
          "metadata": {},
          "execution_count": 29
        }
      ]
    },
    {
      "cell_type": "markdown",
      "source": [
        "###Coordenadas"
      ],
      "metadata": {
        "id": "CCVIMRVrhhpb"
      }
    },
    {
      "cell_type": "markdown",
      "source": [
        "Algunas coordenadas (en base a lo que sabemos de los países de los avisos) están mal o son muy extrañas. Ver mapas:\n",
        "https://gisgeography.com/wp-content/uploads/2015/04/Plate-Carree-Projection-550x295.png\n",
        "https://gisgeography.com/wp-content/uploads/2015/09/Mercator-North-America.png"
      ],
      "metadata": {
        "id": "8dQE1Wu3lxEH"
      }
    },
    {
      "cell_type": "code",
      "source": [
        "sns.scatterplot(data = df_train, x = 'lon', y = 'lat');"
      ],
      "metadata": {
        "colab": {
          "base_uri": "https://localhost:8080/",
          "height": 279
        },
        "id": "WZWh45hGkhYO",
        "outputId": "40956e54-107a-4c64-d59c-14a8c215d38d"
      },
      "execution_count": 30,
      "outputs": [
        {
          "output_type": "display_data",
          "data": {
            "text/plain": [
              "<Figure size 432x288 with 1 Axes>"
            ],
            "image/png": "[encoded data removed]"
          },
          "metadata": {
            "needs_background": "light"
          }
        }
      ]
    },
    {
      "cell_type": "markdown",
      "source": [
        "Capital tiene coordenadas 34.6132° S 58.3772° O aproximadamente"
      ],
      "metadata": {
        "id": "haD3dRN5WVPw"
      }
    },
    {
      "cell_type": "code",
      "source": [
        "sns.scatterplot(data = df_pred, x = 'lon', y = 'lat');"
      ],
      "metadata": {
        "colab": {
          "base_uri": "https://localhost:8080/",
          "height": 279
        },
        "id": "bzrD2GowUFi0",
        "outputId": "6adc0dd6-3752-4b68-d11a-59465a3c3272"
      },
      "execution_count": 31,
      "outputs": [
        {
          "output_type": "display_data",
          "data": {
            "text/plain": [
              "<Figure size 432x288 with 1 Axes>"
            ],
            "image/png": "[encoded data removed]"
          },
          "metadata": {
            "needs_background": "light"
          }
        }
      ]
    },
    {
      "cell_type": "markdown",
      "source": [
        "Longitud: Oeste-Este. La distribución de la longitud parece ser normal. **Longitud y latitud parecen estar al revés** acá, debería ser -58."
      ],
      "metadata": {
        "id": "DTkFV4eTeicr"
      }
    },
    {
      "cell_type": "code",
      "source": [
        "df_pred['lon'].hist(bins = 40, range = (-34.7,-34.5));"
      ],
      "metadata": {
        "colab": {
          "base_uri": "https://localhost:8080/",
          "height": 265
        },
        "id": "2FfK8J3ocPMs",
        "outputId": "6256652c-2b00-45aa-a47f-5f90edf1a5fc"
      },
      "execution_count": 32,
      "outputs": [
        {
          "output_type": "display_data",
          "data": {
            "text/plain": [
              "<Figure size 432x288 with 1 Axes>"
            ],
            "image/png": "[encoded data removed]"
          },
          "metadata": {
            "needs_background": "light"
          }
        }
      ]
    },
    {
      "cell_type": "markdown",
      "source": [
        "Latitud: Norte-Sur"
      ],
      "metadata": {
        "id": "Pip9qZzLlOZw"
      }
    },
    {
      "cell_type": "code",
      "source": [
        "df_pred['lat'].hist(bins = 40, range = (-58.6,-58.3));\n",
        "#revisar"
      ],
      "metadata": {
        "colab": {
          "base_uri": "https://localhost:8080/",
          "height": 265
        },
        "id": "gHOo-bfUc-Ni",
        "outputId": "fbe45ef6-80eb-4555-e024-574e6709ee80"
      },
      "execution_count": 33,
      "outputs": [
        {
          "output_type": "display_data",
          "data": {
            "text/plain": [
              "<Figure size 432x288 with 1 Axes>"
            ],
            "image/png": "[encoded data removed]"
          },
          "metadata": {
            "needs_background": "light"
          }
        }
      ]
    },
    {
      "cell_type": "markdown",
      "source": [
        "No tiene información geográfica"
      ],
      "metadata": {
        "id": "qRw2Pa4loGpA"
      }
    },
    {
      "cell_type": "code",
      "source": [
        "(df_train.l3.isna() & (df_train.lon.isna() | df_train.lat.isna())).sum()"
      ],
      "metadata": {
        "colab": {
          "base_uri": "https://localhost:8080/"
        },
        "id": "ByFEGd-ltvBc",
        "outputId": "c2484ca1-365e-4da3-834e-814f3ee3b096"
      },
      "execution_count": 34,
      "outputs": [
        {
          "output_type": "execute_result",
          "data": {
            "text/plain": [
              "8289"
            ]
          },
          "metadata": {},
          "execution_count": 34
        }
      ]
    },
    {
      "cell_type": "markdown",
      "source": [
        "###Tipos de propiedad"
      ],
      "metadata": {
        "id": "-UPVsQIEhs1T"
      }
    },
    {
      "cell_type": "code",
      "source": [
        "df_train.property_type.value_counts()"
      ],
      "metadata": {
        "colab": {
          "base_uri": "https://localhost:8080/"
        },
        "id": "oy8e8Y6In1lg",
        "outputId": "9431d3ed-406b-4a62-9bf2-182b5fc53e79"
      },
      "execution_count": 35,
      "outputs": [
        {
          "output_type": "execute_result",
          "data": {
            "text/plain": [
              "Departamento       457907\n",
              "Casa               245726\n",
              "Lote               121311\n",
              "PH                  45837\n",
              "Local comercial     45593\n",
              "Oficina             32390\n",
              "Otro                27837\n",
              "Cochera             13276\n",
              "Depósito             7872\n",
              "Casa de campo        2251\n",
              "Name: property_type, dtype: int64"
            ]
          },
          "metadata": {},
          "execution_count": 35
        }
      ]
    },
    {
      "cell_type": "markdown",
      "source": [
        "Se necesita predecir el precio de departamentos y PHs (propiedades horizontales). No queda claro si otros tipos de propiedad pueden dar información sobre PHs (aunque se parecen a departamentos según esto: https://es.wikipedia.org/wiki/Ley_de_propiedad_horizontal; ver también esto https://www.iprofesional.com/actualidad/310324-por-que-los-ph-son-los-mas-elegidos)."
      ],
      "metadata": {
        "id": "7CnHrAWtSYgh"
      }
    },
    {
      "cell_type": "code",
      "source": [
        "df_pred.property_type.value_counts()"
      ],
      "metadata": {
        "colab": {
          "base_uri": "https://localhost:8080/"
        },
        "id": "FpvIiUf9R7ux",
        "outputId": "c66ea218-4940-455d-f0f2-89a7e282a294"
      },
      "execution_count": 36,
      "outputs": [
        {
          "output_type": "execute_result",
          "data": {
            "text/plain": [
              "Departamento    823\n",
              "PH              264\n",
              "Name: property_type, dtype: int64"
            ]
          },
          "metadata": {},
          "execution_count": 36
        }
      ]
    },
    {
      "cell_type": "markdown",
      "source": [
        "###Tipo de operación"
      ],
      "metadata": {
        "id": "sInrJTVUhxHr"
      }
    },
    {
      "cell_type": "code",
      "source": [
        "df_train.operation_type.value_counts()"
      ],
      "metadata": {
        "colab": {
          "base_uri": "https://localhost:8080/"
        },
        "id": "4IkYECxXoAu-",
        "outputId": "5b724755-7d43-400b-a727-5cd1067fb9a8"
      },
      "execution_count": 37,
      "outputs": [
        {
          "output_type": "execute_result",
          "data": {
            "text/plain": [
              "Venta                750831\n",
              "Alquiler             207490\n",
              "Alquiler temporal     41679\n",
              "Name: operation_type, dtype: int64"
            ]
          },
          "metadata": {},
          "execution_count": 37
        }
      ]
    },
    {
      "cell_type": "markdown",
      "source": [
        "Solo nos interesa ventas"
      ],
      "metadata": {
        "id": "eJckGEthh4_j"
      }
    },
    {
      "cell_type": "code",
      "source": [
        "df_pred.operation_type.value_counts()"
      ],
      "metadata": {
        "id": "UyMkb4MZcinM",
        "colab": {
          "base_uri": "https://localhost:8080/"
        },
        "outputId": "19c05da1-f821-4d44-f6ee-34145f0f6999"
      },
      "execution_count": 38,
      "outputs": [
        {
          "output_type": "execute_result",
          "data": {
            "text/plain": [
              "Venta    1087\n",
              "Name: operation_type, dtype: int64"
            ]
          },
          "metadata": {},
          "execution_count": 38
        }
      ]
    },
    {
      "cell_type": "markdown",
      "source": [
        "###Período de precios"
      ],
      "metadata": {
        "id": "AMBh2Kp9h7FL"
      }
    },
    {
      "cell_type": "code",
      "source": [
        "df_train.price_period.value_counts()"
      ],
      "metadata": {
        "colab": {
          "base_uri": "https://localhost:8080/"
        },
        "id": "2b1_k73Y4A0R",
        "outputId": "bfad1d3d-2e1a-4002-a526-ebeb6122c244"
      },
      "execution_count": 39,
      "outputs": [
        {
          "output_type": "execute_result",
          "data": {
            "text/plain": [
              "Mensual    429842\n",
              "Semanal        17\n",
              "Diario         11\n",
              "Name: price_period, dtype: int64"
            ]
          },
          "metadata": {},
          "execution_count": 39
        }
      ]
    },
    {
      "cell_type": "markdown",
      "source": [
        "Está vacío pero el tipo más frecuente es el mensual de todos modos"
      ],
      "metadata": {
        "id": "Q_wOaRW7iMlU"
      }
    },
    {
      "cell_type": "code",
      "source": [
        "df_pred.price_period.value_counts()"
      ],
      "metadata": {
        "id": "0eamYlW9c0Qu",
        "colab": {
          "base_uri": "https://localhost:8080/"
        },
        "outputId": "c6dc3dc2-dfd7-4ee1-ea51-4c55d28cea78"
      },
      "execution_count": 40,
      "outputs": [
        {
          "output_type": "execute_result",
          "data": {
            "text/plain": [
              "Series([], Name: price_period, dtype: int64)"
            ]
          },
          "metadata": {},
          "execution_count": 40
        }
      ]
    },
    {
      "cell_type": "markdown",
      "source": [
        "###Baños"
      ],
      "metadata": {
        "id": "SuTjSdD7iCnL"
      }
    },
    {
      "cell_type": "code",
      "source": [
        "df_train.boxplot('bathrooms');"
      ],
      "metadata": {
        "colab": {
          "base_uri": "https://localhost:8080/",
          "height": 265
        },
        "id": "j4GLPWR_4X6p",
        "outputId": "f77cbacf-e1c0-47e5-9d8a-b1502ee7b8a9"
      },
      "execution_count": 41,
      "outputs": [
        {
          "output_type": "display_data",
          "data": {
            "text/plain": [
              "<Figure size 432x288 with 1 Axes>"
            ],
            "image/png": "[encoded data removed]"
          },
          "metadata": {
            "needs_background": "light"
          }
        }
      ]
    },
    {
      "cell_type": "markdown",
      "source": [
        "Filtrar más allá de 7, quizás entre 1 y 4"
      ],
      "metadata": {
        "id": "-z6cW6KNA-Tb"
      }
    },
    {
      "cell_type": "code",
      "source": [
        "df_pred.boxplot('bathrooms');"
      ],
      "metadata": {
        "id": "u7c4SV4haPR1",
        "colab": {
          "base_uri": "https://localhost:8080/",
          "height": 265
        },
        "outputId": "e47c6a3d-864f-4131-9696-e9d6b2c75bb8"
      },
      "execution_count": 42,
      "outputs": [
        {
          "output_type": "display_data",
          "data": {
            "text/plain": [
              "<Figure size 432x288 with 1 Axes>"
            ],
            "image/png": "[encoded data removed]"
          },
          "metadata": {
            "needs_background": "light"
          }
        }
      ]
    },
    {
      "cell_type": "code",
      "source": [
        "for i in range(3,7):\n",
        "  print((df_pred.bathrooms > i).sum())"
      ],
      "metadata": {
        "id": "NU1u_gZuic_z",
        "colab": {
          "base_uri": "https://localhost:8080/"
        },
        "outputId": "e72ed025-48f8-4788-919e-916eaeb259a8"
      },
      "execution_count": 43,
      "outputs": [
        {
          "output_type": "stream",
          "name": "stdout",
          "text": [
            "26\n",
            "7\n",
            "1\n",
            "1\n"
          ]
        }
      ]
    },
    {
      "cell_type": "code",
      "source": [
        "(df_pred.bathrooms == 0).sum()"
      ],
      "metadata": {
        "id": "wNEf3N8fiw7a",
        "colab": {
          "base_uri": "https://localhost:8080/"
        },
        "outputId": "d9cdd4c9-4ceb-448c-a47e-564d145a2372"
      },
      "execution_count": 44,
      "outputs": [
        {
          "output_type": "execute_result",
          "data": {
            "text/plain": [
              "2"
            ]
          },
          "metadata": {},
          "execution_count": 44
        }
      ]
    },
    {
      "cell_type": "markdown",
      "source": [
        "Errar a estos outlier podría tener bastante peso.\n"
      ],
      "metadata": {
        "id": "7zM2a3DxZTD8"
      }
    },
    {
      "cell_type": "code",
      "source": [
        "df_pred[df_pred.bathrooms > 4]"
      ],
      "metadata": {
        "id": "tjmIV-h6Y5AT",
        "colab": {
          "base_uri": "https://localhost:8080/",
          "height": 966
        },
        "outputId": "983c7bfb-c7f8-4d13-9720-d8094122d23f"
      },
      "execution_count": 45,
      "outputs": [
        {
          "output_type": "execute_result",
          "data": {
            "text/plain": [
              "       ad_type start_date   end_date created_on        lat        lon  \\\n",
              "id                                                                      \n",
              "28   Propiedad 2022-04-01 2022-04-01 2022-04-01 -58.465429 -34.625842   \n",
              "31   Propiedad 2022-04-01 2022-04-01 2022-04-01 -58.467410 -34.594650   \n",
              "53   Propiedad 2022-04-01 2022-04-01 2022-04-01 -58.360796 -34.610501   \n",
              "161  Propiedad 2022-04-01 2022-04-01 2022-04-01 -58.447189 -34.564538   \n",
              "529  Propiedad 2022-04-01 2022-04-01 2022-04-01 -58.405688 -34.579589   \n",
              "656  Propiedad 2022-04-01 2022-04-01 2022-04-01 -58.424358 -34.583577   \n",
              "675  Propiedad 2022-04-01 2022-04-01 2022-04-01 -58.458914 -34.579726   \n",
              "\n",
              "            l1               l2             l3  rooms  ...  \\\n",
              "id                                                     ...   \n",
              "28   Argentina  Capital Federal         Flores    5.0  ...   \n",
              "31   Argentina  Capital Federal       Paternal   11.0  ...   \n",
              "53   Argentina  Capital Federal  Puerto Madero    4.0  ...   \n",
              "161  Argentina  Capital Federal       Belgrano    5.0  ...   \n",
              "529  Argentina  Capital Federal        Palermo    6.0  ...   \n",
              "656  Argentina  Capital Federal        Palermo    4.0  ...   \n",
              "675  Argentina  Capital Federal     Colegiales    7.0  ...   \n",
              "\n",
              "                                                 title  \\\n",
              "id                                                       \n",
              "28   Gral. José Gervasio Artigas 400 - PH en Venta ...   \n",
              "31   Rafael Bielsa Al 200 - PH en Venta en Paternal...   \n",
              "53   Torre Renoir Marta Lynch 489, Piso 31, Torre 1...   \n",
              "161  Virrey Loreto Al 1900, Entre 3 De Febrero Y 11...   \n",
              "529  Libertador Al 2400 - Departamento en Venta en ...   \n",
              "656  Thames Al 2200 - Departamento en Venta en Pale...   \n",
              "675  Forest, Avda. 400 - PH en Venta en Colegiales,...   \n",
              "\n",
              "                                           description  property_type  \\\n",
              "id                                                                      \n",
              "28   ¡Imperdible oportunidad, PH de 250m2 en Flores...             PH   \n",
              "31   IMPECABLE PH CON ENTRADA INDEPENDIENTE, IDEAL ...             PH   \n",
              "53   Excelente Semipiso en Torres Renoir ¨Residenci...   Departamento   \n",
              "161  ULTIMO PISO, VISTA PANORÁMICA, TERRAZA PROPIA ...   Departamento   \n",
              "529  Inmejorable piso en Av. Libertador 2400. El me...   Departamento   \n",
              "656  Exclusivo Penthouse en Torre Soho.<br>Distrubu...   Departamento   \n",
              "675  Importante ph en excelente ubicacion, entrada ...             PH   \n",
              "\n",
              "     operation_type                                            details  \\\n",
              "id                                                                       \n",
              "28            Venta  Superficie 250m2, Ambientes 5, Baños 5, Dormit...   \n",
              "31            Venta  Superficie 180m2, Ambientes 11, Baños 5, Dormi...   \n",
              "53            Venta  Superficie 177m2, Ambientes 4, Baños 5, Cocher...   \n",
              "161           Venta  Superficie 551.52m2, Ambientes 5, Baños 7, Coc...   \n",
              "529           Venta  Superficie 407m2, Ambientes 6, Baños 5, Cocher...   \n",
              "656           Venta  Superficie 243m2, Ambientes 4, Baños 5, Cocher...   \n",
              "675           Venta  Superficie 487m2, Ambientes 7, Baños 5, Dormit...   \n",
              "\n",
              "                                           additionals  services  l4  l5  l6  \n",
              "id                                                                            \n",
              "28                                                 NaN  Gas, Luz NaN NaN NaN  \n",
              "31                                             Terraza       Gas NaN NaN NaN  \n",
              "53      Seguridad, Calefacción, SUM, Laundry, Gimnasio  Gas, Luz NaN NaN NaN  \n",
              "161    Pileta, Seguridad, Calefacción, Balcón, Terraza  Gas, Luz NaN NaN NaN  \n",
              "529  Pileta, Seguridad, Aire Acondicionado, SUM, La...  Gas, Luz NaN NaN NaN  \n",
              "656  Pileta, Aire Acondicionado, SUM, Gimnasio, Ace...       Gas NaN NaN NaN  \n",
              "675                               SUM, Balcón, Terraza       NaN NaN NaN NaN  \n",
              "\n",
              "[7 rows x 27 columns]"
            ],
            "text/html": [
              "\n",
              "  <div id=\"df-8d60394a-4029-4a0a-8ced-653352ff88f1\">\n",
              "    <div class=\"colab-df-container\">\n",
              "      <div>\n",
              "<style scoped>\n",
              "    .dataframe tbody tr th:only-of-type {\n",
              "        vertical-align: middle;\n",
              "    }\n",
              "\n",
              "    .dataframe tbody tr th {\n",
              "        vertical-align: top;\n",
              "    }\n",
              "\n",
              "    .dataframe thead th {\n",
              "        text-align: right;\n",
              "    }\n",
              "</style>\n",
              "<table border=\"1\" class=\"dataframe\">\n",
              "  <thead>\n",
              "    <tr style=\"text-align: right;\">\n",
              "      <th></th>\n",
              "      <th>ad_type</th>\n",
              "      <th>start_date</th>\n",
              "      <th>end_date</th>\n",
              "      <th>created_on</th>\n",
              "      <th>lat</th>\n",
              "      <th>lon</th>\n",
              "      <th>l1</th>\n",
              "      <th>l2</th>\n",
              "      <th>l3</th>\n",
              "      <th>rooms</th>\n",
              "      <th>...</th>\n",
              "      <th>title</th>\n",
              "      <th>description</th>\n",
              "      <th>property_type</th>\n",
              "      <th>operation_type</th>\n",
              "      <th>details</th>\n",
              "      <th>additionals</th>\n",
              "      <th>services</th>\n",
              "      <th>l4</th>\n",
              "      <th>l5</th>\n",
              "      <th>l6</th>\n",
              "    </tr>\n",
              "    <tr>\n",
              "      <th>id</th>\n",
              "      <th></th>\n",
              "      <th></th>\n",
              "      <th></th>\n",
              "      <th></th>\n",
              "      <th></th>\n",
              "      <th></th>\n",
              "      <th></th>\n",
              "      <th></th>\n",
              "      <th></th>\n",
              "      <th></th>\n",
              "      <th></th>\n",
              "      <th></th>\n",
              "      <th></th>\n",
              "      <th></th>\n",
              "      <th></th>\n",
              "      <th></th>\n",
              "      <th></th>\n",
              "      <th></th>\n",
              "      <th></th>\n",
              "      <th></th>\n",
              "      <th></th>\n",
              "    </tr>\n",
              "  </thead>\n",
              "  <tbody>\n",
              "    <tr>\n",
              "      <th>28</th>\n",
              "      <td>Propiedad</td>\n",
              "      <td>2022-04-01</td>\n",
              "      <td>2022-04-01</td>\n",
              "      <td>2022-04-01</td>\n",
              "      <td>-58.465429</td>\n",
              "      <td>-34.625842</td>\n",
              "      <td>Argentina</td>\n",
              "      <td>Capital Federal</td>\n",
              "      <td>Flores</td>\n",
              "      <td>5.0</td>\n",
              "      <td>...</td>\n",
              "      <td>Gral. José Gervasio Artigas 400 - PH en Venta ...</td>\n",
              "      <td>¡Imperdible oportunidad, PH de 250m2 en Flores...</td>\n",
              "      <td>PH</td>\n",
              "      <td>Venta</td>\n",
              "      <td>Superficie 250m2, Ambientes 5, Baños 5, Dormit...</td>\n",
              "      <td>NaN</td>\n",
              "      <td>Gas, Luz</td>\n",
              "      <td>NaN</td>\n",
              "      <td>NaN</td>\n",
              "      <td>NaN</td>\n",
              "    </tr>\n",
              "    <tr>\n",
              "      <th>31</th>\n",
              "      <td>Propiedad</td>\n",
              "      <td>2022-04-01</td>\n",
              "      <td>2022-04-01</td>\n",
              "      <td>2022-04-01</td>\n",
              "      <td>-58.467410</td>\n",
              "      <td>-34.594650</td>\n",
              "      <td>Argentina</td>\n",
              "      <td>Capital Federal</td>\n",
              "      <td>Paternal</td>\n",
              "      <td>11.0</td>\n",
              "      <td>...</td>\n",
              "      <td>Rafael Bielsa Al 200 - PH en Venta en Paternal...</td>\n",
              "      <td>IMPECABLE PH CON ENTRADA INDEPENDIENTE, IDEAL ...</td>\n",
              "      <td>PH</td>\n",
              "      <td>Venta</td>\n",
              "      <td>Superficie 180m2, Ambientes 11, Baños 5, Dormi...</td>\n",
              "      <td>Terraza</td>\n",
              "      <td>Gas</td>\n",
              "      <td>NaN</td>\n",
              "      <td>NaN</td>\n",
              "      <td>NaN</td>\n",
              "    </tr>\n",
              "    <tr>\n",
              "      <th>53</th>\n",
              "      <td>Propiedad</td>\n",
              "      <td>2022-04-01</td>\n",
              "      <td>2022-04-01</td>\n",
              "      <td>2022-04-01</td>\n",
              "      <td>-58.360796</td>\n",
              "      <td>-34.610501</td>\n",
              "      <td>Argentina</td>\n",
              "      <td>Capital Federal</td>\n",
              "      <td>Puerto Madero</td>\n",
              "      <td>4.0</td>\n",
              "      <td>...</td>\n",
              "      <td>Torre Renoir Marta Lynch 489, Piso 31, Torre 1...</td>\n",
              "      <td>Excelente Semipiso en Torres Renoir ¨Residenci...</td>\n",
              "      <td>Departamento</td>\n",
              "      <td>Venta</td>\n",
              "      <td>Superficie 177m2, Ambientes 4, Baños 5, Cocher...</td>\n",
              "      <td>Seguridad, Calefacción, SUM, Laundry, Gimnasio</td>\n",
              "      <td>Gas, Luz</td>\n",
              "      <td>NaN</td>\n",
              "      <td>NaN</td>\n",
              "      <td>NaN</td>\n",
              "    </tr>\n",
              "    <tr>\n",
              "      <th>161</th>\n",
              "      <td>Propiedad</td>\n",
              "      <td>2022-04-01</td>\n",
              "      <td>2022-04-01</td>\n",
              "      <td>2022-04-01</td>\n",
              "      <td>-58.447189</td>\n",
              "      <td>-34.564538</td>\n",
              "      <td>Argentina</td>\n",
              "      <td>Capital Federal</td>\n",
              "      <td>Belgrano</td>\n",
              "      <td>5.0</td>\n",
              "      <td>...</td>\n",
              "      <td>Virrey Loreto Al 1900, Entre 3 De Febrero Y 11...</td>\n",
              "      <td>ULTIMO PISO, VISTA PANORÁMICA, TERRAZA PROPIA ...</td>\n",
              "      <td>Departamento</td>\n",
              "      <td>Venta</td>\n",
              "      <td>Superficie 551.52m2, Ambientes 5, Baños 7, Coc...</td>\n",
              "      <td>Pileta, Seguridad, Calefacción, Balcón, Terraza</td>\n",
              "      <td>Gas, Luz</td>\n",
              "      <td>NaN</td>\n",
              "      <td>NaN</td>\n",
              "      <td>NaN</td>\n",
              "    </tr>\n",
              "    <tr>\n",
              "      <th>529</th>\n",
              "      <td>Propiedad</td>\n",
              "      <td>2022-04-01</td>\n",
              "      <td>2022-04-01</td>\n",
              "      <td>2022-04-01</td>\n",
              "      <td>-58.405688</td>\n",
              "      <td>-34.579589</td>\n",
              "      <td>Argentina</td>\n",
              "      <td>Capital Federal</td>\n",
              "      <td>Palermo</td>\n",
              "      <td>6.0</td>\n",
              "      <td>...</td>\n",
              "      <td>Libertador Al 2400 - Departamento en Venta en ...</td>\n",
              "      <td>Inmejorable piso en Av. Libertador 2400. El me...</td>\n",
              "      <td>Departamento</td>\n",
              "      <td>Venta</td>\n",
              "      <td>Superficie 407m2, Ambientes 6, Baños 5, Cocher...</td>\n",
              "      <td>Pileta, Seguridad, Aire Acondicionado, SUM, La...</td>\n",
              "      <td>Gas, Luz</td>\n",
              "      <td>NaN</td>\n",
              "      <td>NaN</td>\n",
              "      <td>NaN</td>\n",
              "    </tr>\n",
              "    <tr>\n",
              "      <th>656</th>\n",
              "      <td>Propiedad</td>\n",
              "      <td>2022-04-01</td>\n",
              "      <td>2022-04-01</td>\n",
              "      <td>2022-04-01</td>\n",
              "      <td>-58.424358</td>\n",
              "      <td>-34.583577</td>\n",
              "      <td>Argentina</td>\n",
              "      <td>Capital Federal</td>\n",
              "      <td>Palermo</td>\n",
              "      <td>4.0</td>\n",
              "      <td>...</td>\n",
              "      <td>Thames Al 2200 - Departamento en Venta en Pale...</td>\n",
              "      <td>Exclusivo Penthouse en Torre Soho.&lt;br&gt;Distrubu...</td>\n",
              "      <td>Departamento</td>\n",
              "      <td>Venta</td>\n",
              "      <td>Superficie 243m2, Ambientes 4, Baños 5, Cocher...</td>\n",
              "      <td>Pileta, Aire Acondicionado, SUM, Gimnasio, Ace...</td>\n",
              "      <td>Gas</td>\n",
              "      <td>NaN</td>\n",
              "      <td>NaN</td>\n",
              "      <td>NaN</td>\n",
              "    </tr>\n",
              "    <tr>\n",
              "      <th>675</th>\n",
              "      <td>Propiedad</td>\n",
              "      <td>2022-04-01</td>\n",
              "      <td>2022-04-01</td>\n",
              "      <td>2022-04-01</td>\n",
              "      <td>-58.458914</td>\n",
              "      <td>-34.579726</td>\n",
              "      <td>Argentina</td>\n",
              "      <td>Capital Federal</td>\n",
              "      <td>Colegiales</td>\n",
              "      <td>7.0</td>\n",
              "      <td>...</td>\n",
              "      <td>Forest, Avda. 400 - PH en Venta en Colegiales,...</td>\n",
              "      <td>Importante ph en excelente ubicacion, entrada ...</td>\n",
              "      <td>PH</td>\n",
              "      <td>Venta</td>\n",
              "      <td>Superficie 487m2, Ambientes 7, Baños 5, Dormit...</td>\n",
              "      <td>SUM, Balcón, Terraza</td>\n",
              "      <td>NaN</td>\n",
              "      <td>NaN</td>\n",
              "      <td>NaN</td>\n",
              "      <td>NaN</td>\n",
              "    </tr>\n",
              "  </tbody>\n",
              "</table>\n",
              "<p>7 rows × 27 columns</p>\n",
              "</div>\n",
              "      <button class=\"colab-df-convert\" onclick=\"convertToInteractive('df-8d60394a-4029-4a0a-8ced-653352ff88f1')\"\n",
              "              title=\"Convert this dataframe to an interactive table.\"\n",
              "              style=\"display:none;\">\n",
              "        \n",
              "  <svg xmlns=\"http://www.w3.org/2000/svg\" height=\"24px\"viewBox=\"0 0 24 24\"\n",
              "       width=\"24px\">\n",
              "    <path d=\"M0 0h24v24H0V0z\" fill=\"none\"/>\n",
              "    <path d=\"M18.56 5.44l.94 2.06.94-2.06 2.06-.94-2.06-.94-.94-2.06-.94 2.06-2.06.94zm-11 1L8.5 8.5l.94-2.06 2.06-.94-2.06-.94L8.5 2.5l-.94 2.06-2.06.94zm10 10l.94 2.06.94-2.06 2.06-.94-2.06-.94-.94-2.06-.94 2.06-2.06.94z\"/><path d=\"M17.41 7.96l-1.37-1.37c-.4-.4-.92-.59-1.43-.59-.52 0-1.04.2-1.43.59L10.3 9.45l-7.72 7.72c-.78.78-.78 2.05 0 2.83L4 21.41c.39.39.9.59 1.41.59.51 0 1.02-.2 1.41-.59l7.78-7.78 2.81-2.81c.8-.78.8-2.07 0-2.86zM5.41 20L4 18.59l7.72-7.72 1.47 1.35L5.41 20z\"/>\n",
              "  </svg>\n",
              "      </button>\n",
              "      \n",
              "  <style>\n",
              "    .colab-df-container {\n",
              "      display:flex;\n",
              "      flex-wrap:wrap;\n",
              "      gap: 12px;\n",
              "    }\n",
              "\n",
              "    .colab-df-convert {\n",
              "      background-color: #E8F0FE;\n",
              "      border: none;\n",
              "      border-radius: 50%;\n",
              "      cursor: pointer;\n",
              "      display: none;\n",
              "      fill: #1967D2;\n",
              "      height: 32px;\n",
              "      padding: 0 0 0 0;\n",
              "      width: 32px;\n",
              "    }\n",
              "\n",
              "    .colab-df-convert:hover {\n",
              "      background-color: #E2EBFA;\n",
              "      box-shadow: 0px 1px 2px rgba(60, 64, 67, 0.3), 0px 1px 3px 1px rgba(60, 64, 67, 0.15);\n",
              "      fill: #174EA6;\n",
              "    }\n",
              "\n",
              "    [theme=dark] .colab-df-convert {\n",
              "      background-color: #3B4455;\n",
              "      fill: #D2E3FC;\n",
              "    }\n",
              "\n",
              "    [theme=dark] .colab-df-convert:hover {\n",
              "      background-color: #434B5C;\n",
              "      box-shadow: 0px 1px 3px 1px rgba(0, 0, 0, 0.15);\n",
              "      filter: drop-shadow(0px 1px 2px rgba(0, 0, 0, 0.3));\n",
              "      fill: #FFFFFF;\n",
              "    }\n",
              "  </style>\n",
              "\n",
              "      <script>\n",
              "        const buttonEl =\n",
              "          document.querySelector('#df-8d60394a-4029-4a0a-8ced-653352ff88f1 button.colab-df-convert');\n",
              "        buttonEl.style.display =\n",
              "          google.colab.kernel.accessAllowed ? 'block' : 'none';\n",
              "\n",
              "        async function convertToInteractive(key) {\n",
              "          const element = document.querySelector('#df-8d60394a-4029-4a0a-8ced-653352ff88f1');\n",
              "          const dataTable =\n",
              "            await google.colab.kernel.invokeFunction('convertToInteractive',\n",
              "                                                     [key], {});\n",
              "          if (!dataTable) return;\n",
              "\n",
              "          const docLinkHtml = 'Like what you see? Visit the ' +\n",
              "            '<a target=\"_blank\" href=https://colab.research.google.com/notebooks/data_table.ipynb>data table notebook</a>'\n",
              "            + ' to learn more about interactive tables.';\n",
              "          element.innerHTML = '';\n",
              "          dataTable['output_type'] = 'display_data';\n",
              "          await google.colab.output.renderOutput(dataTable, element);\n",
              "          const docLink = document.createElement('div');\n",
              "          docLink.innerHTML = docLinkHtml;\n",
              "          element.appendChild(docLink);\n",
              "        }\n",
              "      </script>\n",
              "    </div>\n",
              "  </div>\n",
              "  "
            ]
          },
          "metadata": {},
          "execution_count": 45
        }
      ]
    },
    {
      "cell_type": "code",
      "source": [
        "df_pred[df_pred.bathrooms == 0]"
      ],
      "metadata": {
        "id": "hGAmMRYsduwB",
        "colab": {
          "base_uri": "https://localhost:8080/",
          "height": 410
        },
        "outputId": "6e5290e8-f1d4-4bc0-846a-77c92ac766ee"
      },
      "execution_count": 46,
      "outputs": [
        {
          "output_type": "execute_result",
          "data": {
            "text/plain": [
              "        ad_type start_date   end_date created_on        lat        lon  \\\n",
              "id                                                                       \n",
              "991   Propiedad 2022-04-01 2022-04-01 2022-04-01 -58.426446 -34.591551   \n",
              "1003  Propiedad 2022-04-01 2022-04-01 2022-04-01 -58.373796 -34.601860   \n",
              "\n",
              "             l1               l2           l3  rooms  ...  \\\n",
              "id                                                    ...   \n",
              "991   Argentina  Capital Federal      Palermo    2.0  ...   \n",
              "1003  Argentina  Capital Federal  San Nicolás    5.0  ...   \n",
              "\n",
              "                                                  title  \\\n",
              "id                                                        \n",
              "991   Raúl Scalabrini Ortiz 1500 - Departamento en V...   \n",
              "1003  San Martín 500 - Departamento en Venta en San ...   \n",
              "\n",
              "                                            description  property_type  \\\n",
              "id                                                                       \n",
              "991   ¡Dos ambientes y cocina autónoma en el barrio ...   Departamento   \n",
              "1003  Descripción básica: <br>- Vivienda / Oficina d...   Departamento   \n",
              "\n",
              "      operation_type                                            details  \\\n",
              "id                                                                        \n",
              "991            Venta  Superficie 37.45m2, Ambientes 2, Dormitorios 1...   \n",
              "1003           Venta  Superficie 468.61m2, Ambientes 5, Dormitorios ...   \n",
              "\n",
              "                             additionals  services  l4  l5  l6  \n",
              "id                                                              \n",
              "991                                  NaN  Gas, Luz NaN NaN NaN  \n",
              "1003  Aire Centralizado, Balcón, Terraza  Gas, Luz NaN NaN NaN  \n",
              "\n",
              "[2 rows x 27 columns]"
            ],
            "text/html": [
              "\n",
              "  <div id=\"df-e9b81498-a143-486b-924b-8effb2a4f2c1\">\n",
              "    <div class=\"colab-df-container\">\n",
              "      <div>\n",
              "<style scoped>\n",
              "    .dataframe tbody tr th:only-of-type {\n",
              "        vertical-align: middle;\n",
              "    }\n",
              "\n",
              "    .dataframe tbody tr th {\n",
              "        vertical-align: top;\n",
              "    }\n",
              "\n",
              "    .dataframe thead th {\n",
              "        text-align: right;\n",
              "    }\n",
              "</style>\n",
              "<table border=\"1\" class=\"dataframe\">\n",
              "  <thead>\n",
              "    <tr style=\"text-align: right;\">\n",
              "      <th></th>\n",
              "      <th>ad_type</th>\n",
              "      <th>start_date</th>\n",
              "      <th>end_date</th>\n",
              "      <th>created_on</th>\n",
              "      <th>lat</th>\n",
              "      <th>lon</th>\n",
              "      <th>l1</th>\n",
              "      <th>l2</th>\n",
              "      <th>l3</th>\n",
              "      <th>rooms</th>\n",
              "      <th>...</th>\n",
              "      <th>title</th>\n",
              "      <th>description</th>\n",
              "      <th>property_type</th>\n",
              "      <th>operation_type</th>\n",
              "      <th>details</th>\n",
              "      <th>additionals</th>\n",
              "      <th>services</th>\n",
              "      <th>l4</th>\n",
              "      <th>l5</th>\n",
              "      <th>l6</th>\n",
              "    </tr>\n",
              "    <tr>\n",
              "      <th>id</th>\n",
              "      <th></th>\n",
              "      <th></th>\n",
              "      <th></th>\n",
              "      <th></th>\n",
              "      <th></th>\n",
              "      <th></th>\n",
              "      <th></th>\n",
              "      <th></th>\n",
              "      <th></th>\n",
              "      <th></th>\n",
              "      <th></th>\n",
              "      <th></th>\n",
              "      <th></th>\n",
              "      <th></th>\n",
              "      <th></th>\n",
              "      <th></th>\n",
              "      <th></th>\n",
              "      <th></th>\n",
              "      <th></th>\n",
              "      <th></th>\n",
              "      <th></th>\n",
              "    </tr>\n",
              "  </thead>\n",
              "  <tbody>\n",
              "    <tr>\n",
              "      <th>991</th>\n",
              "      <td>Propiedad</td>\n",
              "      <td>2022-04-01</td>\n",
              "      <td>2022-04-01</td>\n",
              "      <td>2022-04-01</td>\n",
              "      <td>-58.426446</td>\n",
              "      <td>-34.591551</td>\n",
              "      <td>Argentina</td>\n",
              "      <td>Capital Federal</td>\n",
              "      <td>Palermo</td>\n",
              "      <td>2.0</td>\n",
              "      <td>...</td>\n",
              "      <td>Raúl Scalabrini Ortiz 1500 - Departamento en V...</td>\n",
              "      <td>¡Dos ambientes y cocina autónoma en el barrio ...</td>\n",
              "      <td>Departamento</td>\n",
              "      <td>Venta</td>\n",
              "      <td>Superficie 37.45m2, Ambientes 2, Dormitorios 1...</td>\n",
              "      <td>NaN</td>\n",
              "      <td>Gas, Luz</td>\n",
              "      <td>NaN</td>\n",
              "      <td>NaN</td>\n",
              "      <td>NaN</td>\n",
              "    </tr>\n",
              "    <tr>\n",
              "      <th>1003</th>\n",
              "      <td>Propiedad</td>\n",
              "      <td>2022-04-01</td>\n",
              "      <td>2022-04-01</td>\n",
              "      <td>2022-04-01</td>\n",
              "      <td>-58.373796</td>\n",
              "      <td>-34.601860</td>\n",
              "      <td>Argentina</td>\n",
              "      <td>Capital Federal</td>\n",
              "      <td>San Nicolás</td>\n",
              "      <td>5.0</td>\n",
              "      <td>...</td>\n",
              "      <td>San Martín 500 - Departamento en Venta en San ...</td>\n",
              "      <td>Descripción básica: &lt;br&gt;- Vivienda / Oficina d...</td>\n",
              "      <td>Departamento</td>\n",
              "      <td>Venta</td>\n",
              "      <td>Superficie 468.61m2, Ambientes 5, Dormitorios ...</td>\n",
              "      <td>Aire Centralizado, Balcón, Terraza</td>\n",
              "      <td>Gas, Luz</td>\n",
              "      <td>NaN</td>\n",
              "      <td>NaN</td>\n",
              "      <td>NaN</td>\n",
              "    </tr>\n",
              "  </tbody>\n",
              "</table>\n",
              "<p>2 rows × 27 columns</p>\n",
              "</div>\n",
              "      <button class=\"colab-df-convert\" onclick=\"convertToInteractive('df-e9b81498-a143-486b-924b-8effb2a4f2c1')\"\n",
              "              title=\"Convert this dataframe to an interactive table.\"\n",
              "              style=\"display:none;\">\n",
              "        \n",
              "  <svg xmlns=\"http://www.w3.org/2000/svg\" height=\"24px\"viewBox=\"0 0 24 24\"\n",
              "       width=\"24px\">\n",
              "    <path d=\"M0 0h24v24H0V0z\" fill=\"none\"/>\n",
              "    <path d=\"M18.56 5.44l.94 2.06.94-2.06 2.06-.94-2.06-.94-.94-2.06-.94 2.06-2.06.94zm-11 1L8.5 8.5l.94-2.06 2.06-.94-2.06-.94L8.5 2.5l-.94 2.06-2.06.94zm10 10l.94 2.06.94-2.06 2.06-.94-2.06-.94-.94-2.06-.94 2.06-2.06.94z\"/><path d=\"M17.41 7.96l-1.37-1.37c-.4-.4-.92-.59-1.43-.59-.52 0-1.04.2-1.43.59L10.3 9.45l-7.72 7.72c-.78.78-.78 2.05 0 2.83L4 21.41c.39.39.9.59 1.41.59.51 0 1.02-.2 1.41-.59l7.78-7.78 2.81-2.81c.8-.78.8-2.07 0-2.86zM5.41 20L4 18.59l7.72-7.72 1.47 1.35L5.41 20z\"/>\n",
              "  </svg>\n",
              "      </button>\n",
              "      \n",
              "  <style>\n",
              "    .colab-df-container {\n",
              "      display:flex;\n",
              "      flex-wrap:wrap;\n",
              "      gap: 12px;\n",
              "    }\n",
              "\n",
              "    .colab-df-convert {\n",
              "      background-color: #E8F0FE;\n",
              "      border: none;\n",
              "      border-radius: 50%;\n",
              "      cursor: pointer;\n",
              "      display: none;\n",
              "      fill: #1967D2;\n",
              "      height: 32px;\n",
              "      padding: 0 0 0 0;\n",
              "      width: 32px;\n",
              "    }\n",
              "\n",
              "    .colab-df-convert:hover {\n",
              "      background-color: #E2EBFA;\n",
              "      box-shadow: 0px 1px 2px rgba(60, 64, 67, 0.3), 0px 1px 3px 1px rgba(60, 64, 67, 0.15);\n",
              "      fill: #174EA6;\n",
              "    }\n",
              "\n",
              "    [theme=dark] .colab-df-convert {\n",
              "      background-color: #3B4455;\n",
              "      fill: #D2E3FC;\n",
              "    }\n",
              "\n",
              "    [theme=dark] .colab-df-convert:hover {\n",
              "      background-color: #434B5C;\n",
              "      box-shadow: 0px 1px 3px 1px rgba(0, 0, 0, 0.15);\n",
              "      filter: drop-shadow(0px 1px 2px rgba(0, 0, 0, 0.3));\n",
              "      fill: #FFFFFF;\n",
              "    }\n",
              "  </style>\n",
              "\n",
              "      <script>\n",
              "        const buttonEl =\n",
              "          document.querySelector('#df-e9b81498-a143-486b-924b-8effb2a4f2c1 button.colab-df-convert');\n",
              "        buttonEl.style.display =\n",
              "          google.colab.kernel.accessAllowed ? 'block' : 'none';\n",
              "\n",
              "        async function convertToInteractive(key) {\n",
              "          const element = document.querySelector('#df-e9b81498-a143-486b-924b-8effb2a4f2c1');\n",
              "          const dataTable =\n",
              "            await google.colab.kernel.invokeFunction('convertToInteractive',\n",
              "                                                     [key], {});\n",
              "          if (!dataTable) return;\n",
              "\n",
              "          const docLinkHtml = 'Like what you see? Visit the ' +\n",
              "            '<a target=\"_blank\" href=https://colab.research.google.com/notebooks/data_table.ipynb>data table notebook</a>'\n",
              "            + ' to learn more about interactive tables.';\n",
              "          element.innerHTML = '';\n",
              "          dataTable['output_type'] = 'display_data';\n",
              "          await google.colab.output.renderOutput(dataTable, element);\n",
              "          const docLink = document.createElement('div');\n",
              "          docLink.innerHTML = docLinkHtml;\n",
              "          element.appendChild(docLink);\n",
              "        }\n",
              "      </script>\n",
              "    </div>\n",
              "  </div>\n",
              "  "
            ]
          },
          "metadata": {},
          "execution_count": 46
        }
      ]
    },
    {
      "cell_type": "code",
      "source": [
        "df_pred.loc[991].description#tiene baño"
      ],
      "metadata": {
        "id": "QBI-7K90edLj",
        "colab": {
          "base_uri": "https://localhost:8080/",
          "height": 140
        },
        "outputId": "a593a5db-f142-4b98-bb82-d339af29257e"
      },
      "execution_count": 47,
      "outputs": [
        {
          "output_type": "execute_result",
          "data": {
            "text/plain": [
              "'¡Dos ambientes y cocina autónoma en el barrio de Palermo Soho! <br><br>Descripción básica:<br>- Dos ambientes interno.<br>- Cocina autónoma.<br><br>Superficies:<br>- Cubierta: 37,45 m2.<br>-Total: 37,45 m2.<br><br>Descripción de ambientes:<br>- Living comedor.<br>- Baño completo.<br>- Habitación con placard.<br><br>Descripción del edificio: <br>- Edificio de 10 pisos.<br>- 4 unidades por piso.<br>- 1 ascensor.<br><br>Gastos:<br>-Expensas: $3.290.<br><br>Entrega:<br>- Actualmente se encuentra deshabitado.<br>- La documentación de la propiedad está en condiciones para la compraventa. <br><br>Accesibilidad:<br>-Colectivos: 15, 36, 39, 55, 57, 106, 110, 140, 141, 151, 160, 168.<br><br><br>Descripción del barrio:<br>-La propiedad se encuentra en el barrio de Palermo, que pertenece a la comuna 14 de la ciudad de Buenos Aires. A cuatro cuadras de Av. Córdoba y cuatro cuadras de Av. Honduras. En sus cercanías se encuentra la Plaza Serrano, la Plaza Armenia, la zona concurrida de Palermo Soho y el Jardín Botánico. <br><br><br>Accesible para personas con movilidad reducida - Ley 5.115 de la C.A.B.A.<br><br>------<br><br>Todas las propiedades publicadas en el perfil de ****** se encuentran a cargo de un profesional matriculado. La intermediación y la conclusión de las operaciones vinculadas a la presente publicación serán realizadas exclusivamente por la firma:'"
            ],
            "application/vnd.google.colaboratory.intrinsic+json": {
              "type": "string"
            }
          },
          "metadata": {},
          "execution_count": 47
        }
      ]
    },
    {
      "cell_type": "code",
      "source": [
        "df_pred.loc[1003].description#supongo que cuenta como baño"
      ],
      "metadata": {
        "id": "zTBjT71meyqr",
        "colab": {
          "base_uri": "https://localhost:8080/",
          "height": 140
        },
        "outputId": "b2f79bf9-8649-4f98-9ad2-db3052bc14e3"
      },
      "execution_count": 48,
      "outputs": [
        {
          "output_type": "execute_result",
          "data": {
            "text/plain": [
              "'Descripción básica: <br>- Vivienda / Oficina de 6 ambientes.<br>- Amplio patio con posibilidad de construir y balcones al frente.<br>- Muy buen estado.<br><br>Superficies:<br>- Cubierta: 200,61.<br>- Descubierta: 262,01.<br>- Total: 468,71.<br><br>Distribución de ambientes: <br><br>- Vivienda / Oficina con doble circulación.<br>- Posee 3 toilette con ducha.<br>- Cocina independiente completa.<br>- Los ambientes se distribuyen por una parte como oficina y por otra parte como una vivienda.<br>- Posee 2 equipos de aire acondicionado central.<br><br>Descripción del edificio: <br>- 100 años de antigüedad. <br>- Departamento de 7 pisos. <br>- 2 unidades por piso.<br><br>Gastos: <br>- Expensas: $ 18.000 (El agua esta incluida).<br> <br>Entrega:<br>- Entrega AD inmediata.<br>- La documentación de la propiedad está en condiciones para la compraventa. <br><br>Accesibilidad:<br>- Colectivos: 4, 5, 6, 7, 9, 22, 23, 26, 28, 33, 45, 50, 56, 61, 62, 91, 93, 99, 109, 115, 126, 130, 132, 140, 143, 146, 152, 180, 195.<br>- Subtes: <br>.CORREO CENTRAL (Línea E).<br>.FLORIDA (Línea B).<br>.LEANDRO N. ALEM (Línea B).<br>.LAVALLE (Línea C).<br><br>Descripción del barrio:<br>- La propiedad se encuentra en el barrio de San Nicolás, que pertenece a la comuna 1 de la ciudad de Buenos Aires, muy cercana a las Avenidas Corrientes, Córdoba, 9 de Julio, Eduardo Madero, Rivadavia, Paseo Colón, Ingeniero Huergo. <br><br><br>------<br>• “No accesible para personas con movilidad reducida - Ley 5.115 de la C.A.B.A.”<br><br>Todas las propiedades publicadas en el perfil de ****** se encuentran a cargo de un profesional matriculado. La intermediación y la conclusión de las operaciones vinculadas a la presente publicación serán realizadas exclusivamente por la firma: <br>LAMAC ****** PREMIUM S.A.U. (C.U.I.T. N° 33-71728445-9).<br>Corredora responsable: Carina Soledad Becchio - Matrícula: CUCICBA 5424.'"
            ],
            "application/vnd.google.colaboratory.intrinsic+json": {
              "type": "string"
            }
          },
          "metadata": {},
          "execution_count": 48
        }
      ]
    },
    {
      "cell_type": "markdown",
      "source": [
        "###Ambientes"
      ],
      "metadata": {
        "id": "5L5ilRpjkwv7"
      }
    },
    {
      "cell_type": "code",
      "source": [
        "df_train.boxplot('rooms');"
      ],
      "metadata": {
        "colab": {
          "base_uri": "https://localhost:8080/",
          "height": 265
        },
        "id": "NodjYfUH4zIh",
        "outputId": "a1cde2c4-f0cd-4b94-cabe-7c1b99055e60"
      },
      "execution_count": 49,
      "outputs": [
        {
          "output_type": "display_data",
          "data": {
            "text/plain": [
              "<Figure size 432x288 with 1 Axes>"
            ],
            "image/png": "[encoded data removed]"
          },
          "metadata": {
            "needs_background": "light"
          }
        }
      ]
    },
    {
      "cell_type": "markdown",
      "source": [
        "Filtrar más allá de 13, quizás entre 1 y 7/8/9"
      ],
      "metadata": {
        "id": "o_KO3PRKA4MC"
      }
    },
    {
      "cell_type": "code",
      "source": [
        "df_pred.boxplot('rooms');"
      ],
      "metadata": {
        "colab": {
          "base_uri": "https://localhost:8080/",
          "height": 265
        },
        "id": "HhhOWlSUy93o",
        "outputId": "9cfa9b77-2640-49a3-c09b-01ce4a890937"
      },
      "execution_count": 50,
      "outputs": [
        {
          "output_type": "display_data",
          "data": {
            "text/plain": [
              "<Figure size 432x288 with 1 Axes>"
            ],
            "image/png": "[encoded data removed]"
          },
          "metadata": {
            "needs_background": "light"
          }
        }
      ]
    },
    {
      "cell_type": "code",
      "source": [
        "for i in range(5,12):  \n",
        "  print((df_pred.rooms > i).sum())"
      ],
      "metadata": {
        "colab": {
          "base_uri": "https://localhost:8080/"
        },
        "id": "mn2aBhmuiqNs",
        "outputId": "235aa509-4cf5-4aa1-cde6-84fde049fdc2"
      },
      "execution_count": 51,
      "outputs": [
        {
          "output_type": "stream",
          "name": "stdout",
          "text": [
            "53\n",
            "22\n",
            "11\n",
            "8\n",
            "5\n",
            "3\n",
            "2\n"
          ]
        }
      ]
    },
    {
      "cell_type": "code",
      "source": [
        "(df_pred.rooms == 0).sum()"
      ],
      "metadata": {
        "colab": {
          "base_uri": "https://localhost:8080/"
        },
        "outputId": "6d68c9b5-ab58-4e9f-d1ee-9c1bc63ed4e5",
        "id": "Ow3P9vRskWeb"
      },
      "execution_count": 52,
      "outputs": [
        {
          "output_type": "execute_result",
          "data": {
            "text/plain": [
              "1"
            ]
          },
          "metadata": {},
          "execution_count": 52
        }
      ]
    },
    {
      "cell_type": "code",
      "source": [
        "df_pred[df_pred.rooms > 7]"
      ],
      "metadata": {
        "colab": {
          "base_uri": "https://localhost:8080/",
          "height": 1000
        },
        "id": "UK5lvWmXj_Kc",
        "outputId": "95a064b6-75ee-452e-a09e-e3657cb42fa8"
      },
      "execution_count": 53,
      "outputs": [
        {
          "output_type": "execute_result",
          "data": {
            "text/plain": [
              "       ad_type start_date   end_date created_on        lat        lon  \\\n",
              "id                                                                      \n",
              "31   Propiedad 2022-04-01 2022-04-01 2022-04-01 -58.467410 -34.594650   \n",
              "217  Propiedad 2022-04-01 2022-04-01 2022-04-01 -58.401435 -34.630072   \n",
              "226  Propiedad 2022-04-01 2022-04-01 2022-04-01 -58.440070 -34.578500   \n",
              "240  Propiedad 2022-04-01 2022-04-01 2022-04-01 -58.524960 -34.639428   \n",
              "334  Propiedad 2022-04-01 2022-04-01 2022-04-01 -58.398016 -34.594166   \n",
              "403  Propiedad 2022-04-01 2022-04-01 2022-04-01 -58.388392 -34.600541   \n",
              "522  Propiedad 2022-04-01 2022-04-01 2022-04-01 -58.377677 -34.609106   \n",
              "525  Propiedad 2022-04-01 2022-04-01 2022-04-01 -58.431966 -34.603452   \n",
              "541  Propiedad 2022-04-01 2022-04-01 2022-04-01 -58.391222 -34.590581   \n",
              "679  Propiedad 2022-04-01 2022-04-01 2022-04-01 -58.401188 -34.629975   \n",
              "775  Propiedad 2022-04-01 2022-04-01 2022-04-01 -58.381181 -34.595544   \n",
              "\n",
              "            l1               l2                l3  rooms  ...  \\\n",
              "id                                                        ...   \n",
              "31   Argentina  Capital Federal          Paternal   11.0  ...   \n",
              "217  Argentina  Capital Federal             Boedo    8.0  ...   \n",
              "226  Argentina  Capital Federal           Palermo    9.0  ...   \n",
              "240  Argentina  Capital Federal           Liniers   10.0  ...   \n",
              "334  Argentina  Capital Federal          Recoleta    9.0  ...   \n",
              "403  Argentina  Capital Federal       San Nicolás   12.0  ...   \n",
              "522  Argentina  Capital Federal         Monserrat   13.0  ...   \n",
              "525  Argentina  Capital Federal           Almagro   10.0  ...   \n",
              "541  Argentina  Capital Federal          Recoleta    9.0  ...   \n",
              "679  Argentina  Capital Federal  Parque Patricios    8.0  ...   \n",
              "775  Argentina  Capital Federal            Retiro    8.0  ...   \n",
              "\n",
              "                                                 title  \\\n",
              "id                                                       \n",
              "31   Rafael Bielsa Al 200 - PH en Venta en Paternal...   \n",
              "217  Inclan Al 2600 - PH en Venta en Boedo, CABA de...   \n",
              "226  Dorrego 2100, Palermo Hollywood - PH en Venta ...   \n",
              "240  Carhue 28 - Departamento en Venta en Liniers, ...   \n",
              "334  Uriburu  Jose.e..pte.1216 - Departamento en Ve...   \n",
              "403  Viamonte 1500 - Departamento en Venta en San N...   \n",
              "522  Piedras - Departamento en Venta en Monserrat, ...   \n",
              "525  Anibal Troilo Al 900 - PH en Venta en Almagro,...   \n",
              "541  Vicente Lopez Al 1800 - Departamento en Venta ...   \n",
              "679  Inclan Al 2600 - PH en Venta en Parque Patrici...   \n",
              "775  Av. Santa Fe 1000 - Departamento en Venta en R...   \n",
              "\n",
              "                                           description  property_type  \\\n",
              "id                                                                      \n",
              "31   IMPECABLE PH CON ENTRADA INDEPENDIENTE, IDEAL ...             PH   \n",
              "217  A 20 metros de la estación Inclan, nueva línea...             PH   \n",
              "226  Imperdible PH con entrada independiente en una...             PH   \n",
              "240  TODOS LOS GASTOS DE ESCRITURACION CORREN POR C...   Departamento   \n",
              "334  OPORTUNIDAD única en el mercado!!!!!. Propieda...   Departamento   \n",
              "403  ¡Excelente piso/oficina de 12 ambientes en Tri...   Departamento   \n",
              "522  Gran propiedad, apta profesional, con excelent...   Departamento   \n",
              "525  En excelente ubicación, el mejor punto de Alma...             PH   \n",
              "541  UNICO DUPLEX en venta en el barrio de RECOLETA...   Departamento   \n",
              "679  A 20 metros de la estación Inclan, nueva línea...             PH   \n",
              "775  DEPARTAMENTO SEMIPISO AV: SANTA FE 1000 - BARR...   Departamento   \n",
              "\n",
              "     operation_type                                            details  \\\n",
              "id                                                                       \n",
              "31            Venta  Superficie 180m2, Ambientes 11, Baños 5, Dormi...   \n",
              "217           Venta  Superficie 338m2, Ambientes 8, Baños 2, Dormit...   \n",
              "226           Venta  Superficie 200m2, Ambientes 9, Baños 3, Dormit...   \n",
              "240           Venta  Superficie 286m2, Ambientes 10, Baños 3, Sup. ...   \n",
              "334           Venta  Superficie 378m2, Ambientes 9, Baños 3, Dormit...   \n",
              "403           Venta  Superficie 244.39m2, Ambientes 12, Baños 2, Do...   \n",
              "522           Venta  Superficie 308.84m2, Ambientes 13, Baños 2, Do...   \n",
              "525           Venta  Superficie 314.74m2, Ambientes 10, Baños 4, Do...   \n",
              "541           Venta  Superficie 460m2, Ambientes 9, Baños 4, Cocher...   \n",
              "679           Venta  Superficie 338m2, Ambientes 8, Baños 2, Dormit...   \n",
              "775           Venta  Superficie 195m2, Ambientes 8, Baños 2, Dormit...   \n",
              "\n",
              "                                           additionals  services  l4  l5  l6  \n",
              "id                                                                            \n",
              "31                                             Terraza       Gas NaN NaN NaN  \n",
              "217                               SUM, Balcón, Terraza  Gas, Luz NaN NaN NaN  \n",
              "226      Aire Acondicionado, Aceptan Mascotas, Terraza  Gas, Luz NaN NaN NaN  \n",
              "240                                                SUM  Gas, Luz NaN NaN NaN  \n",
              "334                               Laundry, Family Room       Gas NaN NaN NaN  \n",
              "403              Aire Centralizado, Aire Acondicionado  Gas, Luz NaN NaN NaN  \n",
              "522  Calefacción, Aire Centralizado, Aire Acondicio...  Gas, Luz NaN NaN NaN  \n",
              "525                                    Balcón, Terraza       NaN NaN NaN NaN  \n",
              "541       Aire Acondicionado, Laundry, Balcón, Terraza  Gas, Luz NaN NaN NaN  \n",
              "679                               SUM, Balcón, Terraza  Gas, Luz NaN NaN NaN  \n",
              "775                                        SUM, Balcón  Gas, Luz NaN NaN NaN  \n",
              "\n",
              "[11 rows x 27 columns]"
            ],
            "text/html": [
              "\n",
              "  <div id=\"df-350da3c9-ef9f-461b-a69c-733455fe510b\">\n",
              "    <div class=\"colab-df-container\">\n",
              "      <div>\n",
              "<style scoped>\n",
              "    .dataframe tbody tr th:only-of-type {\n",
              "        vertical-align: middle;\n",
              "    }\n",
              "\n",
              "    .dataframe tbody tr th {\n",
              "        vertical-align: top;\n",
              "    }\n",
              "\n",
              "    .dataframe thead th {\n",
              "        text-align: right;\n",
              "    }\n",
              "</style>\n",
              "<table border=\"1\" class=\"dataframe\">\n",
              "  <thead>\n",
              "    <tr style=\"text-align: right;\">\n",
              "      <th></th>\n",
              "      <th>ad_type</th>\n",
              "      <th>start_date</th>\n",
              "      <th>end_date</th>\n",
              "      <th>created_on</th>\n",
              "      <th>lat</th>\n",
              "      <th>lon</th>\n",
              "      <th>l1</th>\n",
              "      <th>l2</th>\n",
              "      <th>l3</th>\n",
              "      <th>rooms</th>\n",
              "      <th>...</th>\n",
              "      <th>title</th>\n",
              "      <th>description</th>\n",
              "      <th>property_type</th>\n",
              "      <th>operation_type</th>\n",
              "      <th>details</th>\n",
              "      <th>additionals</th>\n",
              "      <th>services</th>\n",
              "      <th>l4</th>\n",
              "      <th>l5</th>\n",
              "      <th>l6</th>\n",
              "    </tr>\n",
              "    <tr>\n",
              "      <th>id</th>\n",
              "      <th></th>\n",
              "      <th></th>\n",
              "      <th></th>\n",
              "      <th></th>\n",
              "      <th></th>\n",
              "      <th></th>\n",
              "      <th></th>\n",
              "      <th></th>\n",
              "      <th></th>\n",
              "      <th></th>\n",
              "      <th></th>\n",
              "      <th></th>\n",
              "      <th></th>\n",
              "      <th></th>\n",
              "      <th></th>\n",
              "      <th></th>\n",
              "      <th></th>\n",
              "      <th></th>\n",
              "      <th></th>\n",
              "      <th></th>\n",
              "      <th></th>\n",
              "    </tr>\n",
              "  </thead>\n",
              "  <tbody>\n",
              "    <tr>\n",
              "      <th>31</th>\n",
              "      <td>Propiedad</td>\n",
              "      <td>2022-04-01</td>\n",
              "      <td>2022-04-01</td>\n",
              "      <td>2022-04-01</td>\n",
              "      <td>-58.467410</td>\n",
              "      <td>-34.594650</td>\n",
              "      <td>Argentina</td>\n",
              "      <td>Capital Federal</td>\n",
              "      <td>Paternal</td>\n",
              "      <td>11.0</td>\n",
              "      <td>...</td>\n",
              "      <td>Rafael Bielsa Al 200 - PH en Venta en Paternal...</td>\n",
              "      <td>IMPECABLE PH CON ENTRADA INDEPENDIENTE, IDEAL ...</td>\n",
              "      <td>PH</td>\n",
              "      <td>Venta</td>\n",
              "      <td>Superficie 180m2, Ambientes 11, Baños 5, Dormi...</td>\n",
              "      <td>Terraza</td>\n",
              "      <td>Gas</td>\n",
              "      <td>NaN</td>\n",
              "      <td>NaN</td>\n",
              "      <td>NaN</td>\n",
              "    </tr>\n",
              "    <tr>\n",
              "      <th>217</th>\n",
              "      <td>Propiedad</td>\n",
              "      <td>2022-04-01</td>\n",
              "      <td>2022-04-01</td>\n",
              "      <td>2022-04-01</td>\n",
              "      <td>-58.401435</td>\n",
              "      <td>-34.630072</td>\n",
              "      <td>Argentina</td>\n",
              "      <td>Capital Federal</td>\n",
              "      <td>Boedo</td>\n",
              "      <td>8.0</td>\n",
              "      <td>...</td>\n",
              "      <td>Inclan Al 2600 - PH en Venta en Boedo, CABA de...</td>\n",
              "      <td>A 20 metros de la estación Inclan, nueva línea...</td>\n",
              "      <td>PH</td>\n",
              "      <td>Venta</td>\n",
              "      <td>Superficie 338m2, Ambientes 8, Baños 2, Dormit...</td>\n",
              "      <td>SUM, Balcón, Terraza</td>\n",
              "      <td>Gas, Luz</td>\n",
              "      <td>NaN</td>\n",
              "      <td>NaN</td>\n",
              "      <td>NaN</td>\n",
              "    </tr>\n",
              "    <tr>\n",
              "      <th>226</th>\n",
              "      <td>Propiedad</td>\n",
              "      <td>2022-04-01</td>\n",
              "      <td>2022-04-01</td>\n",
              "      <td>2022-04-01</td>\n",
              "      <td>-58.440070</td>\n",
              "      <td>-34.578500</td>\n",
              "      <td>Argentina</td>\n",
              "      <td>Capital Federal</td>\n",
              "      <td>Palermo</td>\n",
              "      <td>9.0</td>\n",
              "      <td>...</td>\n",
              "      <td>Dorrego 2100, Palermo Hollywood - PH en Venta ...</td>\n",
              "      <td>Imperdible PH con entrada independiente en una...</td>\n",
              "      <td>PH</td>\n",
              "      <td>Venta</td>\n",
              "      <td>Superficie 200m2, Ambientes 9, Baños 3, Dormit...</td>\n",
              "      <td>Aire Acondicionado, Aceptan Mascotas, Terraza</td>\n",
              "      <td>Gas, Luz</td>\n",
              "      <td>NaN</td>\n",
              "      <td>NaN</td>\n",
              "      <td>NaN</td>\n",
              "    </tr>\n",
              "    <tr>\n",
              "      <th>240</th>\n",
              "      <td>Propiedad</td>\n",
              "      <td>2022-04-01</td>\n",
              "      <td>2022-04-01</td>\n",
              "      <td>2022-04-01</td>\n",
              "      <td>-58.524960</td>\n",
              "      <td>-34.639428</td>\n",
              "      <td>Argentina</td>\n",
              "      <td>Capital Federal</td>\n",
              "      <td>Liniers</td>\n",
              "      <td>10.0</td>\n",
              "      <td>...</td>\n",
              "      <td>Carhue 28 - Departamento en Venta en Liniers, ...</td>\n",
              "      <td>TODOS LOS GASTOS DE ESCRITURACION CORREN POR C...</td>\n",
              "      <td>Departamento</td>\n",
              "      <td>Venta</td>\n",
              "      <td>Superficie 286m2, Ambientes 10, Baños 3, Sup. ...</td>\n",
              "      <td>SUM</td>\n",
              "      <td>Gas, Luz</td>\n",
              "      <td>NaN</td>\n",
              "      <td>NaN</td>\n",
              "      <td>NaN</td>\n",
              "    </tr>\n",
              "    <tr>\n",
              "      <th>334</th>\n",
              "      <td>Propiedad</td>\n",
              "      <td>2022-04-01</td>\n",
              "      <td>2022-04-01</td>\n",
              "      <td>2022-04-01</td>\n",
              "      <td>-58.398016</td>\n",
              "      <td>-34.594166</td>\n",
              "      <td>Argentina</td>\n",
              "      <td>Capital Federal</td>\n",
              "      <td>Recoleta</td>\n",
              "      <td>9.0</td>\n",
              "      <td>...</td>\n",
              "      <td>Uriburu  Jose.e..pte.1216 - Departamento en Ve...</td>\n",
              "      <td>OPORTUNIDAD única en el mercado!!!!!. Propieda...</td>\n",
              "      <td>Departamento</td>\n",
              "      <td>Venta</td>\n",
              "      <td>Superficie 378m2, Ambientes 9, Baños 3, Dormit...</td>\n",
              "      <td>Laundry, Family Room</td>\n",
              "      <td>Gas</td>\n",
              "      <td>NaN</td>\n",
              "      <td>NaN</td>\n",
              "      <td>NaN</td>\n",
              "    </tr>\n",
              "    <tr>\n",
              "      <th>403</th>\n",
              "      <td>Propiedad</td>\n",
              "      <td>2022-04-01</td>\n",
              "      <td>2022-04-01</td>\n",
              "      <td>2022-04-01</td>\n",
              "      <td>-58.388392</td>\n",
              "      <td>-34.600541</td>\n",
              "      <td>Argentina</td>\n",
              "      <td>Capital Federal</td>\n",
              "      <td>San Nicolás</td>\n",
              "      <td>12.0</td>\n",
              "      <td>...</td>\n",
              "      <td>Viamonte 1500 - Departamento en Venta en San N...</td>\n",
              "      <td>¡Excelente piso/oficina de 12 ambientes en Tri...</td>\n",
              "      <td>Departamento</td>\n",
              "      <td>Venta</td>\n",
              "      <td>Superficie 244.39m2, Ambientes 12, Baños 2, Do...</td>\n",
              "      <td>Aire Centralizado, Aire Acondicionado</td>\n",
              "      <td>Gas, Luz</td>\n",
              "      <td>NaN</td>\n",
              "      <td>NaN</td>\n",
              "      <td>NaN</td>\n",
              "    </tr>\n",
              "    <tr>\n",
              "      <th>522</th>\n",
              "      <td>Propiedad</td>\n",
              "      <td>2022-04-01</td>\n",
              "      <td>2022-04-01</td>\n",
              "      <td>2022-04-01</td>\n",
              "      <td>-58.377677</td>\n",
              "      <td>-34.609106</td>\n",
              "      <td>Argentina</td>\n",
              "      <td>Capital Federal</td>\n",
              "      <td>Monserrat</td>\n",
              "      <td>13.0</td>\n",
              "      <td>...</td>\n",
              "      <td>Piedras - Departamento en Venta en Monserrat, ...</td>\n",
              "      <td>Gran propiedad, apta profesional, con excelent...</td>\n",
              "      <td>Departamento</td>\n",
              "      <td>Venta</td>\n",
              "      <td>Superficie 308.84m2, Ambientes 13, Baños 2, Do...</td>\n",
              "      <td>Calefacción, Aire Centralizado, Aire Acondicio...</td>\n",
              "      <td>Gas, Luz</td>\n",
              "      <td>NaN</td>\n",
              "      <td>NaN</td>\n",
              "      <td>NaN</td>\n",
              "    </tr>\n",
              "    <tr>\n",
              "      <th>525</th>\n",
              "      <td>Propiedad</td>\n",
              "      <td>2022-04-01</td>\n",
              "      <td>2022-04-01</td>\n",
              "      <td>2022-04-01</td>\n",
              "      <td>-58.431966</td>\n",
              "      <td>-34.603452</td>\n",
              "      <td>Argentina</td>\n",
              "      <td>Capital Federal</td>\n",
              "      <td>Almagro</td>\n",
              "      <td>10.0</td>\n",
              "      <td>...</td>\n",
              "      <td>Anibal Troilo Al 900 - PH en Venta en Almagro,...</td>\n",
              "      <td>En excelente ubicación, el mejor punto de Alma...</td>\n",
              "      <td>PH</td>\n",
              "      <td>Venta</td>\n",
              "      <td>Superficie 314.74m2, Ambientes 10, Baños 4, Do...</td>\n",
              "      <td>Balcón, Terraza</td>\n",
              "      <td>NaN</td>\n",
              "      <td>NaN</td>\n",
              "      <td>NaN</td>\n",
              "      <td>NaN</td>\n",
              "    </tr>\n",
              "    <tr>\n",
              "      <th>541</th>\n",
              "      <td>Propiedad</td>\n",
              "      <td>2022-04-01</td>\n",
              "      <td>2022-04-01</td>\n",
              "      <td>2022-04-01</td>\n",
              "      <td>-58.391222</td>\n",
              "      <td>-34.590581</td>\n",
              "      <td>Argentina</td>\n",
              "      <td>Capital Federal</td>\n",
              "      <td>Recoleta</td>\n",
              "      <td>9.0</td>\n",
              "      <td>...</td>\n",
              "      <td>Vicente Lopez Al 1800 - Departamento en Venta ...</td>\n",
              "      <td>UNICO DUPLEX en venta en el barrio de RECOLETA...</td>\n",
              "      <td>Departamento</td>\n",
              "      <td>Venta</td>\n",
              "      <td>Superficie 460m2, Ambientes 9, Baños 4, Cocher...</td>\n",
              "      <td>Aire Acondicionado, Laundry, Balcón, Terraza</td>\n",
              "      <td>Gas, Luz</td>\n",
              "      <td>NaN</td>\n",
              "      <td>NaN</td>\n",
              "      <td>NaN</td>\n",
              "    </tr>\n",
              "    <tr>\n",
              "      <th>679</th>\n",
              "      <td>Propiedad</td>\n",
              "      <td>2022-04-01</td>\n",
              "      <td>2022-04-01</td>\n",
              "      <td>2022-04-01</td>\n",
              "      <td>-58.401188</td>\n",
              "      <td>-34.629975</td>\n",
              "      <td>Argentina</td>\n",
              "      <td>Capital Federal</td>\n",
              "      <td>Parque Patricios</td>\n",
              "      <td>8.0</td>\n",
              "      <td>...</td>\n",
              "      <td>Inclan Al 2600 - PH en Venta en Parque Patrici...</td>\n",
              "      <td>A 20 metros de la estación Inclan, nueva línea...</td>\n",
              "      <td>PH</td>\n",
              "      <td>Venta</td>\n",
              "      <td>Superficie 338m2, Ambientes 8, Baños 2, Dormit...</td>\n",
              "      <td>SUM, Balcón, Terraza</td>\n",
              "      <td>Gas, Luz</td>\n",
              "      <td>NaN</td>\n",
              "      <td>NaN</td>\n",
              "      <td>NaN</td>\n",
              "    </tr>\n",
              "    <tr>\n",
              "      <th>775</th>\n",
              "      <td>Propiedad</td>\n",
              "      <td>2022-04-01</td>\n",
              "      <td>2022-04-01</td>\n",
              "      <td>2022-04-01</td>\n",
              "      <td>-58.381181</td>\n",
              "      <td>-34.595544</td>\n",
              "      <td>Argentina</td>\n",
              "      <td>Capital Federal</td>\n",
              "      <td>Retiro</td>\n",
              "      <td>8.0</td>\n",
              "      <td>...</td>\n",
              "      <td>Av. Santa Fe 1000 - Departamento en Venta en R...</td>\n",
              "      <td>DEPARTAMENTO SEMIPISO AV: SANTA FE 1000 - BARR...</td>\n",
              "      <td>Departamento</td>\n",
              "      <td>Venta</td>\n",
              "      <td>Superficie 195m2, Ambientes 8, Baños 2, Dormit...</td>\n",
              "      <td>SUM, Balcón</td>\n",
              "      <td>Gas, Luz</td>\n",
              "      <td>NaN</td>\n",
              "      <td>NaN</td>\n",
              "      <td>NaN</td>\n",
              "    </tr>\n",
              "  </tbody>\n",
              "</table>\n",
              "<p>11 rows × 27 columns</p>\n",
              "</div>\n",
              "      <button class=\"colab-df-convert\" onclick=\"convertToInteractive('df-350da3c9-ef9f-461b-a69c-733455fe510b')\"\n",
              "              title=\"Convert this dataframe to an interactive table.\"\n",
              "              style=\"display:none;\">\n",
              "        \n",
              "  <svg xmlns=\"http://www.w3.org/2000/svg\" height=\"24px\"viewBox=\"0 0 24 24\"\n",
              "       width=\"24px\">\n",
              "    <path d=\"M0 0h24v24H0V0z\" fill=\"none\"/>\n",
              "    <path d=\"M18.56 5.44l.94 2.06.94-2.06 2.06-.94-2.06-.94-.94-2.06-.94 2.06-2.06.94zm-11 1L8.5 8.5l.94-2.06 2.06-.94-2.06-.94L8.5 2.5l-.94 2.06-2.06.94zm10 10l.94 2.06.94-2.06 2.06-.94-2.06-.94-.94-2.06-.94 2.06-2.06.94z\"/><path d=\"M17.41 7.96l-1.37-1.37c-.4-.4-.92-.59-1.43-.59-.52 0-1.04.2-1.43.59L10.3 9.45l-7.72 7.72c-.78.78-.78 2.05 0 2.83L4 21.41c.39.39.9.59 1.41.59.51 0 1.02-.2 1.41-.59l7.78-7.78 2.81-2.81c.8-.78.8-2.07 0-2.86zM5.41 20L4 18.59l7.72-7.72 1.47 1.35L5.41 20z\"/>\n",
              "  </svg>\n",
              "      </button>\n",
              "      \n",
              "  <style>\n",
              "    .colab-df-container {\n",
              "      display:flex;\n",
              "      flex-wrap:wrap;\n",
              "      gap: 12px;\n",
              "    }\n",
              "\n",
              "    .colab-df-convert {\n",
              "      background-color: #E8F0FE;\n",
              "      border: none;\n",
              "      border-radius: 50%;\n",
              "      cursor: pointer;\n",
              "      display: none;\n",
              "      fill: #1967D2;\n",
              "      height: 32px;\n",
              "      padding: 0 0 0 0;\n",
              "      width: 32px;\n",
              "    }\n",
              "\n",
              "    .colab-df-convert:hover {\n",
              "      background-color: #E2EBFA;\n",
              "      box-shadow: 0px 1px 2px rgba(60, 64, 67, 0.3), 0px 1px 3px 1px rgba(60, 64, 67, 0.15);\n",
              "      fill: #174EA6;\n",
              "    }\n",
              "\n",
              "    [theme=dark] .colab-df-convert {\n",
              "      background-color: #3B4455;\n",
              "      fill: #D2E3FC;\n",
              "    }\n",
              "\n",
              "    [theme=dark] .colab-df-convert:hover {\n",
              "      background-color: #434B5C;\n",
              "      box-shadow: 0px 1px 3px 1px rgba(0, 0, 0, 0.15);\n",
              "      filter: drop-shadow(0px 1px 2px rgba(0, 0, 0, 0.3));\n",
              "      fill: #FFFFFF;\n",
              "    }\n",
              "  </style>\n",
              "\n",
              "      <script>\n",
              "        const buttonEl =\n",
              "          document.querySelector('#df-350da3c9-ef9f-461b-a69c-733455fe510b button.colab-df-convert');\n",
              "        buttonEl.style.display =\n",
              "          google.colab.kernel.accessAllowed ? 'block' : 'none';\n",
              "\n",
              "        async function convertToInteractive(key) {\n",
              "          const element = document.querySelector('#df-350da3c9-ef9f-461b-a69c-733455fe510b');\n",
              "          const dataTable =\n",
              "            await google.colab.kernel.invokeFunction('convertToInteractive',\n",
              "                                                     [key], {});\n",
              "          if (!dataTable) return;\n",
              "\n",
              "          const docLinkHtml = 'Like what you see? Visit the ' +\n",
              "            '<a target=\"_blank\" href=https://colab.research.google.com/notebooks/data_table.ipynb>data table notebook</a>'\n",
              "            + ' to learn more about interactive tables.';\n",
              "          element.innerHTML = '';\n",
              "          dataTable['output_type'] = 'display_data';\n",
              "          await google.colab.output.renderOutput(dataTable, element);\n",
              "          const docLink = document.createElement('div');\n",
              "          docLink.innerHTML = docLinkHtml;\n",
              "          element.appendChild(docLink);\n",
              "        }\n",
              "      </script>\n",
              "    </div>\n",
              "  </div>\n",
              "  "
            ]
          },
          "metadata": {},
          "execution_count": 53
        }
      ]
    },
    {
      "cell_type": "code",
      "source": [
        "df_pred.loc[541].description"
      ],
      "metadata": {
        "colab": {
          "base_uri": "https://localhost:8080/",
          "height": 140
        },
        "id": "TlcNl6yflx9J",
        "outputId": "da680286-e446-47d8-822d-82ab17fa6788"
      },
      "execution_count": 54,
      "outputs": [
        {
          "output_type": "execute_result",
          "data": {
            "text/plain": [
              "'UNICO DUPLEX en venta en el barrio de RECOLETA en VENTA con TERRAZA PROPIA!!<br><br>Se distribuye en dos plantas con 500m2 de superficie total.<br><br>En la planta principal:<br>Cuenta con living y comedor al frente de calle con salida a 3 balcones, espacio de escritorio, dormitorio principal en suite anexo a una sala de estar amplia (que en realidad SERIA el espacio para el dormitorio principal). Luego cuenta con la antesala a otros dos dormitorios con vista al contrafrente y un baño completo. Cocina y comedor diario. Esta planta cuenta con TRIPLE CIRCULACION. Cuenta ademas con ascensor de servicio. Estufa a leña en el living.<br><br>La escalera en mármol de carrara conecta con la planta alta. Salida a la terraza de 100m2 de USO EXCLUSIVO con parrilla y orientación ESTE. Muy luminosa, sobre toda en la mañana.<br><br>Planta Alta:<br>Cuenta con la sala de estar, que conecta a un dormitorio, sala de escritorio y baño completo. Y luego el corredor que lleva a otros dos dormitorios y su baño completo, espacio de laundry y terraza adicional contiguo al mismo.<br><br>Expensas de Febrero 2022: $79.000.-<br>ABL: $10.000/mes.-<br><br>El edificio cuenta con encargada con vivienda.<br><br>Se vende con cochera (en diferente escritura) ubicada en el garage justo enfrente al edificio.<br><br>Superficie cubierta del 3er piso: 276,20m2.<br>Superficie cubierta del 4to piso: 75,79m2.<br><br>Total de superficie cubierta: 351,99m2.<br><br>Terraza comun de uso exclusivo: 100,57m2 (serian la terraza principal y el espacio de terraza pegado al laundry).<br>Balcones semicubiertos del 3er piso: 7,45m2.<br><br>Metro totales para la unidad: 460m2.-<br><br>Hacenos tu consulta!!!<br><br>*SITUAR tu lugar en el mundo.<br>www.situar.com - Juana Manso 1626-Puerto Madero<br><br>Nota: Toda la información y medidas provistas son aproximadas y deberán ratificarse con la documentación pertinente y no compromete contractualmente a nuestra empresa. Fotografías no vinculantes ni contractuales.<br><br><br> <br><br>SITUAR, tu lugar en el mundo.<br>Matrícula CPI 4.519 Matrícula CMSPSI 6.209'"
            ],
            "application/vnd.google.colaboratory.intrinsic+json": {
              "type": "string"
            }
          },
          "metadata": {},
          "execution_count": 54
        }
      ]
    },
    {
      "cell_type": "code",
      "source": [
        "df_pred[df_pred.rooms == 0]#tiene varias habitaciones actualmente"
      ],
      "metadata": {
        "colab": {
          "base_uri": "https://localhost:8080/",
          "height": 292
        },
        "id": "EBr6ZJWukbCc",
        "outputId": "fa3ab69c-90fa-4ecd-9b2d-1d4a285ec101"
      },
      "execution_count": 55,
      "outputs": [
        {
          "output_type": "execute_result",
          "data": {
            "text/plain": [
              "       ad_type start_date   end_date created_on       lat        lon  \\\n",
              "id                                                                     \n",
              "794  Propiedad 2022-04-01 2022-04-01 2022-04-01 -58.36167 -34.815962   \n",
              "\n",
              "            l1               l2       l3  rooms  ...  \\\n",
              "id                                               ...   \n",
              "794  Argentina  Capital Federal  Palermo    0.0  ...   \n",
              "\n",
              "                                                 title  \\\n",
              "id                                                       \n",
              "794  Carranza A.j. 1900 - PH en Venta en Palermo, C...   \n",
              "\n",
              "                                           description  property_type  \\\n",
              "id                                                                      \n",
              "794  VENTA DE PH AL FRENTE DE 3 PLANTAS EN PALERMO ...             PH   \n",
              "\n",
              "     operation_type                                            details  \\\n",
              "id                                                                       \n",
              "794           Venta  Superficie 228m2, Baños 1, Dormitorios 5, Sup....   \n",
              "\n",
              "              additionals  services  l4  l5  l6  \n",
              "id                                               \n",
              "794  SUM, Balcón, Terraza  Gas, Luz NaN NaN NaN  \n",
              "\n",
              "[1 rows x 27 columns]"
            ],
            "text/html": [
              "\n",
              "  <div id=\"df-23bc2b07-62a5-4f6c-b5eb-0ee5ca4fa47c\">\n",
              "    <div class=\"colab-df-container\">\n",
              "      <div>\n",
              "<style scoped>\n",
              "    .dataframe tbody tr th:only-of-type {\n",
              "        vertical-align: middle;\n",
              "    }\n",
              "\n",
              "    .dataframe tbody tr th {\n",
              "        vertical-align: top;\n",
              "    }\n",
              "\n",
              "    .dataframe thead th {\n",
              "        text-align: right;\n",
              "    }\n",
              "</style>\n",
              "<table border=\"1\" class=\"dataframe\">\n",
              "  <thead>\n",
              "    <tr style=\"text-align: right;\">\n",
              "      <th></th>\n",
              "      <th>ad_type</th>\n",
              "      <th>start_date</th>\n",
              "      <th>end_date</th>\n",
              "      <th>created_on</th>\n",
              "      <th>lat</th>\n",
              "      <th>lon</th>\n",
              "      <th>l1</th>\n",
              "      <th>l2</th>\n",
              "      <th>l3</th>\n",
              "      <th>rooms</th>\n",
              "      <th>...</th>\n",
              "      <th>title</th>\n",
              "      <th>description</th>\n",
              "      <th>property_type</th>\n",
              "      <th>operation_type</th>\n",
              "      <th>details</th>\n",
              "      <th>additionals</th>\n",
              "      <th>services</th>\n",
              "      <th>l4</th>\n",
              "      <th>l5</th>\n",
              "      <th>l6</th>\n",
              "    </tr>\n",
              "    <tr>\n",
              "      <th>id</th>\n",
              "      <th></th>\n",
              "      <th></th>\n",
              "      <th></th>\n",
              "      <th></th>\n",
              "      <th></th>\n",
              "      <th></th>\n",
              "      <th></th>\n",
              "      <th></th>\n",
              "      <th></th>\n",
              "      <th></th>\n",
              "      <th></th>\n",
              "      <th></th>\n",
              "      <th></th>\n",
              "      <th></th>\n",
              "      <th></th>\n",
              "      <th></th>\n",
              "      <th></th>\n",
              "      <th></th>\n",
              "      <th></th>\n",
              "      <th></th>\n",
              "      <th></th>\n",
              "    </tr>\n",
              "  </thead>\n",
              "  <tbody>\n",
              "    <tr>\n",
              "      <th>794</th>\n",
              "      <td>Propiedad</td>\n",
              "      <td>2022-04-01</td>\n",
              "      <td>2022-04-01</td>\n",
              "      <td>2022-04-01</td>\n",
              "      <td>-58.36167</td>\n",
              "      <td>-34.815962</td>\n",
              "      <td>Argentina</td>\n",
              "      <td>Capital Federal</td>\n",
              "      <td>Palermo</td>\n",
              "      <td>0.0</td>\n",
              "      <td>...</td>\n",
              "      <td>Carranza A.j. 1900 - PH en Venta en Palermo, C...</td>\n",
              "      <td>VENTA DE PH AL FRENTE DE 3 PLANTAS EN PALERMO ...</td>\n",
              "      <td>PH</td>\n",
              "      <td>Venta</td>\n",
              "      <td>Superficie 228m2, Baños 1, Dormitorios 5, Sup....</td>\n",
              "      <td>SUM, Balcón, Terraza</td>\n",
              "      <td>Gas, Luz</td>\n",
              "      <td>NaN</td>\n",
              "      <td>NaN</td>\n",
              "      <td>NaN</td>\n",
              "    </tr>\n",
              "  </tbody>\n",
              "</table>\n",
              "<p>1 rows × 27 columns</p>\n",
              "</div>\n",
              "      <button class=\"colab-df-convert\" onclick=\"convertToInteractive('df-23bc2b07-62a5-4f6c-b5eb-0ee5ca4fa47c')\"\n",
              "              title=\"Convert this dataframe to an interactive table.\"\n",
              "              style=\"display:none;\">\n",
              "        \n",
              "  <svg xmlns=\"http://www.w3.org/2000/svg\" height=\"24px\"viewBox=\"0 0 24 24\"\n",
              "       width=\"24px\">\n",
              "    <path d=\"M0 0h24v24H0V0z\" fill=\"none\"/>\n",
              "    <path d=\"M18.56 5.44l.94 2.06.94-2.06 2.06-.94-2.06-.94-.94-2.06-.94 2.06-2.06.94zm-11 1L8.5 8.5l.94-2.06 2.06-.94-2.06-.94L8.5 2.5l-.94 2.06-2.06.94zm10 10l.94 2.06.94-2.06 2.06-.94-2.06-.94-.94-2.06-.94 2.06-2.06.94z\"/><path d=\"M17.41 7.96l-1.37-1.37c-.4-.4-.92-.59-1.43-.59-.52 0-1.04.2-1.43.59L10.3 9.45l-7.72 7.72c-.78.78-.78 2.05 0 2.83L4 21.41c.39.39.9.59 1.41.59.51 0 1.02-.2 1.41-.59l7.78-7.78 2.81-2.81c.8-.78.8-2.07 0-2.86zM5.41 20L4 18.59l7.72-7.72 1.47 1.35L5.41 20z\"/>\n",
              "  </svg>\n",
              "      </button>\n",
              "      \n",
              "  <style>\n",
              "    .colab-df-container {\n",
              "      display:flex;\n",
              "      flex-wrap:wrap;\n",
              "      gap: 12px;\n",
              "    }\n",
              "\n",
              "    .colab-df-convert {\n",
              "      background-color: #E8F0FE;\n",
              "      border: none;\n",
              "      border-radius: 50%;\n",
              "      cursor: pointer;\n",
              "      display: none;\n",
              "      fill: #1967D2;\n",
              "      height: 32px;\n",
              "      padding: 0 0 0 0;\n",
              "      width: 32px;\n",
              "    }\n",
              "\n",
              "    .colab-df-convert:hover {\n",
              "      background-color: #E2EBFA;\n",
              "      box-shadow: 0px 1px 2px rgba(60, 64, 67, 0.3), 0px 1px 3px 1px rgba(60, 64, 67, 0.15);\n",
              "      fill: #174EA6;\n",
              "    }\n",
              "\n",
              "    [theme=dark] .colab-df-convert {\n",
              "      background-color: #3B4455;\n",
              "      fill: #D2E3FC;\n",
              "    }\n",
              "\n",
              "    [theme=dark] .colab-df-convert:hover {\n",
              "      background-color: #434B5C;\n",
              "      box-shadow: 0px 1px 3px 1px rgba(0, 0, 0, 0.15);\n",
              "      filter: drop-shadow(0px 1px 2px rgba(0, 0, 0, 0.3));\n",
              "      fill: #FFFFFF;\n",
              "    }\n",
              "  </style>\n",
              "\n",
              "      <script>\n",
              "        const buttonEl =\n",
              "          document.querySelector('#df-23bc2b07-62a5-4f6c-b5eb-0ee5ca4fa47c button.colab-df-convert');\n",
              "        buttonEl.style.display =\n",
              "          google.colab.kernel.accessAllowed ? 'block' : 'none';\n",
              "\n",
              "        async function convertToInteractive(key) {\n",
              "          const element = document.querySelector('#df-23bc2b07-62a5-4f6c-b5eb-0ee5ca4fa47c');\n",
              "          const dataTable =\n",
              "            await google.colab.kernel.invokeFunction('convertToInteractive',\n",
              "                                                     [key], {});\n",
              "          if (!dataTable) return;\n",
              "\n",
              "          const docLinkHtml = 'Like what you see? Visit the ' +\n",
              "            '<a target=\"_blank\" href=https://colab.research.google.com/notebooks/data_table.ipynb>data table notebook</a>'\n",
              "            + ' to learn more about interactive tables.';\n",
              "          element.innerHTML = '';\n",
              "          dataTable['output_type'] = 'display_data';\n",
              "          await google.colab.output.renderOutput(dataTable, element);\n",
              "          const docLink = document.createElement('div');\n",
              "          docLink.innerHTML = docLinkHtml;\n",
              "          element.appendChild(docLink);\n",
              "        }\n",
              "      </script>\n",
              "    </div>\n",
              "  </div>\n",
              "  "
            ]
          },
          "metadata": {},
          "execution_count": 55
        }
      ]
    },
    {
      "cell_type": "code",
      "source": [
        "df_pred.loc[794].description"
      ],
      "metadata": {
        "colab": {
          "base_uri": "https://localhost:8080/",
          "height": 105
        },
        "id": "nPSSlYv3k-lK",
        "outputId": "e5c30d31-0bde-4fb6-be85-82ad789f80c0"
      },
      "execution_count": 56,
      "outputs": [
        {
          "output_type": "execute_result",
          "data": {
            "text/plain": [
              "'VENTA DE PH AL FRENTE DE 3 PLANTAS EN PALERMO HOLLYWOOD - PLANTA BAJA: HAY 2 LOCALES DE NEGOCIOS DE APROXIMADAMENTE 24m2 y 25m2 RESPECTIVAMENTE y UNA VIVIENDA DE 1 AMBIENTE CON PATIO PEQUEÑO SUMANDO UNA SUPERFICIE TOTAL EN PLANTA BAJA DE 88m2,. - EN PRIMER PISO: HAY 1 DEPARTAMENTO DE 3 AMBIENTES COMPUESTO DE LIVING COMEDOR, 2 DORMITORIOS. COCINA, BAÑO COMPLETO, TERRAZA CON PARRILLA, Y BALCON CORRIDO AL FRENTE.. - EN SEGUNDO PISO: HAY 1 DEPARTAMENTO DE 3 AMBIENTES, COMPUESTO DE LIVING COMEDOR, 2 DORMITORIOS, COCINA, BAÑO COMPLETO, TERRAZA, BALCON CORRIDO AL FRENTE. TOTAL 5 UNIDADES INDEPENDIENTES SIN SUBDIVIDIR. COMUNICACION VERTICAL X ESCALERA. SUPERFICIE TOTAL APROXIMADA ACTUAL: 228m2 -'"
            ],
            "application/vnd.google.colaboratory.intrinsic+json": {
              "type": "string"
            }
          },
          "metadata": {},
          "execution_count": 56
        }
      ]
    },
    {
      "cell_type": "markdown",
      "source": [
        "###Dormitorios"
      ],
      "metadata": {
        "id": "SRv1o8UCk4oT"
      }
    },
    {
      "cell_type": "code",
      "source": [
        "df_train.boxplot('bedrooms');"
      ],
      "metadata": {
        "colab": {
          "base_uri": "https://localhost:8080/",
          "height": 265
        },
        "id": "vv0HUNCP48lR",
        "outputId": "19a1a2e3-08f6-430d-9c43-a809072f9e9e"
      },
      "execution_count": 57,
      "outputs": [
        {
          "output_type": "display_data",
          "data": {
            "text/plain": [
              "<Figure size 432x288 with 1 Axes>"
            ],
            "image/png": "[encoded data removed]"
          },
          "metadata": {
            "needs_background": "light"
          }
        }
      ]
    },
    {
      "cell_type": "code",
      "source": [
        "df_train.bedrooms.hist(bins = 40, range = (0,20));"
      ],
      "metadata": {
        "colab": {
          "base_uri": "https://localhost:8080/",
          "height": 265
        },
        "id": "99pnTSSw0rM1",
        "outputId": "d6538c8a-a051-46f9-e80c-99f7d1099d1d"
      },
      "execution_count": 58,
      "outputs": [
        {
          "output_type": "display_data",
          "data": {
            "text/plain": [
              "<Figure size 432x288 with 1 Axes>"
            ],
            "image/png": "[encoded data removed]"
          },
          "metadata": {
            "needs_background": "light"
          }
        }
      ]
    },
    {
      "cell_type": "markdown",
      "source": [
        "Filtrar más allá de 12, quizás entre 1 y 6/7"
      ],
      "metadata": {
        "id": "MoHBZ9WZBI4B"
      }
    },
    {
      "cell_type": "code",
      "source": [
        "df_pred.bedrooms.hist(bins = 40);"
      ],
      "metadata": {
        "colab": {
          "base_uri": "https://localhost:8080/",
          "height": 265
        },
        "id": "6PpM37LJzfNt",
        "outputId": "d91b98d3-80d8-4c0c-f03e-ade333005e3d"
      },
      "execution_count": 59,
      "outputs": [
        {
          "output_type": "display_data",
          "data": {
            "text/plain": [
              "<Figure size 432x288 with 1 Axes>"
            ],
            "image/png": "[encoded data removed]"
          },
          "metadata": {
            "needs_background": "light"
          }
        }
      ]
    },
    {
      "cell_type": "code",
      "source": [
        "df_pred.boxplot('bedrooms');"
      ],
      "metadata": {
        "colab": {
          "base_uri": "https://localhost:8080/",
          "height": 265
        },
        "id": "Jk6kC74uk_HT",
        "outputId": "ed1d44ae-9a88-45eb-a575-d158f5813833"
      },
      "execution_count": 60,
      "outputs": [
        {
          "output_type": "display_data",
          "data": {
            "text/plain": [
              "<Figure size 432x288 with 1 Axes>"
            ],
            "image/png": "[encoded data removed]"
          },
          "metadata": {
            "needs_background": "light"
          }
        }
      ]
    },
    {
      "cell_type": "code",
      "source": [
        "for i in range(4,11):\n",
        "  print((df_pred.bedrooms > i).sum())"
      ],
      "metadata": {
        "colab": {
          "base_uri": "https://localhost:8080/"
        },
        "outputId": "2c24d967-4a63-4343-ee87-6a21002b9e28",
        "id": "4Ra-P_7Kk_Nk"
      },
      "execution_count": 61,
      "outputs": [
        {
          "output_type": "stream",
          "name": "stdout",
          "text": [
            "32\n",
            "13\n",
            "7\n",
            "6\n",
            "4\n",
            "3\n",
            "1\n"
          ]
        }
      ]
    },
    {
      "cell_type": "code",
      "source": [
        "(df_pred.bedrooms == 0).sum()"
      ],
      "metadata": {
        "colab": {
          "base_uri": "https://localhost:8080/"
        },
        "outputId": "cc79de6a-cc19-4dae-a8e9-7f6e0ab3fd13",
        "id": "lzFl1YiKk_Nl"
      },
      "execution_count": 62,
      "outputs": [
        {
          "output_type": "execute_result",
          "data": {
            "text/plain": [
              "7"
            ]
          },
          "metadata": {},
          "execution_count": 62
        }
      ]
    },
    {
      "cell_type": "code",
      "source": [
        "df_pred[df_pred.bedrooms > 9]"
      ],
      "metadata": {
        "colab": {
          "base_uri": "https://localhost:8080/",
          "height": 494
        },
        "id": "C6aqZzjPNfEX",
        "outputId": "ae29744b-da31-4681-82ad-bc52b5810d41"
      },
      "execution_count": 63,
      "outputs": [
        {
          "output_type": "execute_result",
          "data": {
            "text/plain": [
              "       ad_type start_date   end_date created_on        lat        lon  \\\n",
              "id                                                                      \n",
              "28   Propiedad 2022-04-01 2022-04-01 2022-04-01 -58.465429 -34.625842   \n",
              "31   Propiedad 2022-04-01 2022-04-01 2022-04-01 -58.467410 -34.594650   \n",
              "403  Propiedad 2022-04-01 2022-04-01 2022-04-01 -58.388392 -34.600541   \n",
              "\n",
              "            l1               l2           l3  rooms  ...  \\\n",
              "id                                                   ...   \n",
              "28   Argentina  Capital Federal       Flores    5.0  ...   \n",
              "31   Argentina  Capital Federal     Paternal   11.0  ...   \n",
              "403  Argentina  Capital Federal  San Nicolás   12.0  ...   \n",
              "\n",
              "                                                 title  \\\n",
              "id                                                       \n",
              "28   Gral. José Gervasio Artigas 400 - PH en Venta ...   \n",
              "31   Rafael Bielsa Al 200 - PH en Venta en Paternal...   \n",
              "403  Viamonte 1500 - Departamento en Venta en San N...   \n",
              "\n",
              "                                           description  property_type  \\\n",
              "id                                                                      \n",
              "28   ¡Imperdible oportunidad, PH de 250m2 en Flores...             PH   \n",
              "31   IMPECABLE PH CON ENTRADA INDEPENDIENTE, IDEAL ...             PH   \n",
              "403  ¡Excelente piso/oficina de 12 ambientes en Tri...   Departamento   \n",
              "\n",
              "     operation_type                                            details  \\\n",
              "id                                                                       \n",
              "28            Venta  Superficie 250m2, Ambientes 5, Baños 5, Dormit...   \n",
              "31            Venta  Superficie 180m2, Ambientes 11, Baños 5, Dormi...   \n",
              "403           Venta  Superficie 244.39m2, Ambientes 12, Baños 2, Do...   \n",
              "\n",
              "                               additionals  services  l4  l5  l6  \n",
              "id                                                                \n",
              "28                                     NaN  Gas, Luz NaN NaN NaN  \n",
              "31                                 Terraza       Gas NaN NaN NaN  \n",
              "403  Aire Centralizado, Aire Acondicionado  Gas, Luz NaN NaN NaN  \n",
              "\n",
              "[3 rows x 27 columns]"
            ],
            "text/html": [
              "\n",
              "  <div id=\"df-32774447-b113-4918-9e25-7032f4e8d028\">\n",
              "    <div class=\"colab-df-container\">\n",
              "      <div>\n",
              "<style scoped>\n",
              "    .dataframe tbody tr th:only-of-type {\n",
              "        vertical-align: middle;\n",
              "    }\n",
              "\n",
              "    .dataframe tbody tr th {\n",
              "        vertical-align: top;\n",
              "    }\n",
              "\n",
              "    .dataframe thead th {\n",
              "        text-align: right;\n",
              "    }\n",
              "</style>\n",
              "<table border=\"1\" class=\"dataframe\">\n",
              "  <thead>\n",
              "    <tr style=\"text-align: right;\">\n",
              "      <th></th>\n",
              "      <th>ad_type</th>\n",
              "      <th>start_date</th>\n",
              "      <th>end_date</th>\n",
              "      <th>created_on</th>\n",
              "      <th>lat</th>\n",
              "      <th>lon</th>\n",
              "      <th>l1</th>\n",
              "      <th>l2</th>\n",
              "      <th>l3</th>\n",
              "      <th>rooms</th>\n",
              "      <th>...</th>\n",
              "      <th>title</th>\n",
              "      <th>description</th>\n",
              "      <th>property_type</th>\n",
              "      <th>operation_type</th>\n",
              "      <th>details</th>\n",
              "      <th>additionals</th>\n",
              "      <th>services</th>\n",
              "      <th>l4</th>\n",
              "      <th>l5</th>\n",
              "      <th>l6</th>\n",
              "    </tr>\n",
              "    <tr>\n",
              "      <th>id</th>\n",
              "      <th></th>\n",
              "      <th></th>\n",
              "      <th></th>\n",
              "      <th></th>\n",
              "      <th></th>\n",
              "      <th></th>\n",
              "      <th></th>\n",
              "      <th></th>\n",
              "      <th></th>\n",
              "      <th></th>\n",
              "      <th></th>\n",
              "      <th></th>\n",
              "      <th></th>\n",
              "      <th></th>\n",
              "      <th></th>\n",
              "      <th></th>\n",
              "      <th></th>\n",
              "      <th></th>\n",
              "      <th></th>\n",
              "      <th></th>\n",
              "      <th></th>\n",
              "    </tr>\n",
              "  </thead>\n",
              "  <tbody>\n",
              "    <tr>\n",
              "      <th>28</th>\n",
              "      <td>Propiedad</td>\n",
              "      <td>2022-04-01</td>\n",
              "      <td>2022-04-01</td>\n",
              "      <td>2022-04-01</td>\n",
              "      <td>-58.465429</td>\n",
              "      <td>-34.625842</td>\n",
              "      <td>Argentina</td>\n",
              "      <td>Capital Federal</td>\n",
              "      <td>Flores</td>\n",
              "      <td>5.0</td>\n",
              "      <td>...</td>\n",
              "      <td>Gral. José Gervasio Artigas 400 - PH en Venta ...</td>\n",
              "      <td>¡Imperdible oportunidad, PH de 250m2 en Flores...</td>\n",
              "      <td>PH</td>\n",
              "      <td>Venta</td>\n",
              "      <td>Superficie 250m2, Ambientes 5, Baños 5, Dormit...</td>\n",
              "      <td>NaN</td>\n",
              "      <td>Gas, Luz</td>\n",
              "      <td>NaN</td>\n",
              "      <td>NaN</td>\n",
              "      <td>NaN</td>\n",
              "    </tr>\n",
              "    <tr>\n",
              "      <th>31</th>\n",
              "      <td>Propiedad</td>\n",
              "      <td>2022-04-01</td>\n",
              "      <td>2022-04-01</td>\n",
              "      <td>2022-04-01</td>\n",
              "      <td>-58.467410</td>\n",
              "      <td>-34.594650</td>\n",
              "      <td>Argentina</td>\n",
              "      <td>Capital Federal</td>\n",
              "      <td>Paternal</td>\n",
              "      <td>11.0</td>\n",
              "      <td>...</td>\n",
              "      <td>Rafael Bielsa Al 200 - PH en Venta en Paternal...</td>\n",
              "      <td>IMPECABLE PH CON ENTRADA INDEPENDIENTE, IDEAL ...</td>\n",
              "      <td>PH</td>\n",
              "      <td>Venta</td>\n",
              "      <td>Superficie 180m2, Ambientes 11, Baños 5, Dormi...</td>\n",
              "      <td>Terraza</td>\n",
              "      <td>Gas</td>\n",
              "      <td>NaN</td>\n",
              "      <td>NaN</td>\n",
              "      <td>NaN</td>\n",
              "    </tr>\n",
              "    <tr>\n",
              "      <th>403</th>\n",
              "      <td>Propiedad</td>\n",
              "      <td>2022-04-01</td>\n",
              "      <td>2022-04-01</td>\n",
              "      <td>2022-04-01</td>\n",
              "      <td>-58.388392</td>\n",
              "      <td>-34.600541</td>\n",
              "      <td>Argentina</td>\n",
              "      <td>Capital Federal</td>\n",
              "      <td>San Nicolás</td>\n",
              "      <td>12.0</td>\n",
              "      <td>...</td>\n",
              "      <td>Viamonte 1500 - Departamento en Venta en San N...</td>\n",
              "      <td>¡Excelente piso/oficina de 12 ambientes en Tri...</td>\n",
              "      <td>Departamento</td>\n",
              "      <td>Venta</td>\n",
              "      <td>Superficie 244.39m2, Ambientes 12, Baños 2, Do...</td>\n",
              "      <td>Aire Centralizado, Aire Acondicionado</td>\n",
              "      <td>Gas, Luz</td>\n",
              "      <td>NaN</td>\n",
              "      <td>NaN</td>\n",
              "      <td>NaN</td>\n",
              "    </tr>\n",
              "  </tbody>\n",
              "</table>\n",
              "<p>3 rows × 27 columns</p>\n",
              "</div>\n",
              "      <button class=\"colab-df-convert\" onclick=\"convertToInteractive('df-32774447-b113-4918-9e25-7032f4e8d028')\"\n",
              "              title=\"Convert this dataframe to an interactive table.\"\n",
              "              style=\"display:none;\">\n",
              "        \n",
              "  <svg xmlns=\"http://www.w3.org/2000/svg\" height=\"24px\"viewBox=\"0 0 24 24\"\n",
              "       width=\"24px\">\n",
              "    <path d=\"M0 0h24v24H0V0z\" fill=\"none\"/>\n",
              "    <path d=\"M18.56 5.44l.94 2.06.94-2.06 2.06-.94-2.06-.94-.94-2.06-.94 2.06-2.06.94zm-11 1L8.5 8.5l.94-2.06 2.06-.94-2.06-.94L8.5 2.5l-.94 2.06-2.06.94zm10 10l.94 2.06.94-2.06 2.06-.94-2.06-.94-.94-2.06-.94 2.06-2.06.94z\"/><path d=\"M17.41 7.96l-1.37-1.37c-.4-.4-.92-.59-1.43-.59-.52 0-1.04.2-1.43.59L10.3 9.45l-7.72 7.72c-.78.78-.78 2.05 0 2.83L4 21.41c.39.39.9.59 1.41.59.51 0 1.02-.2 1.41-.59l7.78-7.78 2.81-2.81c.8-.78.8-2.07 0-2.86zM5.41 20L4 18.59l7.72-7.72 1.47 1.35L5.41 20z\"/>\n",
              "  </svg>\n",
              "      </button>\n",
              "      \n",
              "  <style>\n",
              "    .colab-df-container {\n",
              "      display:flex;\n",
              "      flex-wrap:wrap;\n",
              "      gap: 12px;\n",
              "    }\n",
              "\n",
              "    .colab-df-convert {\n",
              "      background-color: #E8F0FE;\n",
              "      border: none;\n",
              "      border-radius: 50%;\n",
              "      cursor: pointer;\n",
              "      display: none;\n",
              "      fill: #1967D2;\n",
              "      height: 32px;\n",
              "      padding: 0 0 0 0;\n",
              "      width: 32px;\n",
              "    }\n",
              "\n",
              "    .colab-df-convert:hover {\n",
              "      background-color: #E2EBFA;\n",
              "      box-shadow: 0px 1px 2px rgba(60, 64, 67, 0.3), 0px 1px 3px 1px rgba(60, 64, 67, 0.15);\n",
              "      fill: #174EA6;\n",
              "    }\n",
              "\n",
              "    [theme=dark] .colab-df-convert {\n",
              "      background-color: #3B4455;\n",
              "      fill: #D2E3FC;\n",
              "    }\n",
              "\n",
              "    [theme=dark] .colab-df-convert:hover {\n",
              "      background-color: #434B5C;\n",
              "      box-shadow: 0px 1px 3px 1px rgba(0, 0, 0, 0.15);\n",
              "      filter: drop-shadow(0px 1px 2px rgba(0, 0, 0, 0.3));\n",
              "      fill: #FFFFFF;\n",
              "    }\n",
              "  </style>\n",
              "\n",
              "      <script>\n",
              "        const buttonEl =\n",
              "          document.querySelector('#df-32774447-b113-4918-9e25-7032f4e8d028 button.colab-df-convert');\n",
              "        buttonEl.style.display =\n",
              "          google.colab.kernel.accessAllowed ? 'block' : 'none';\n",
              "\n",
              "        async function convertToInteractive(key) {\n",
              "          const element = document.querySelector('#df-32774447-b113-4918-9e25-7032f4e8d028');\n",
              "          const dataTable =\n",
              "            await google.colab.kernel.invokeFunction('convertToInteractive',\n",
              "                                                     [key], {});\n",
              "          if (!dataTable) return;\n",
              "\n",
              "          const docLinkHtml = 'Like what you see? Visit the ' +\n",
              "            '<a target=\"_blank\" href=https://colab.research.google.com/notebooks/data_table.ipynb>data table notebook</a>'\n",
              "            + ' to learn more about interactive tables.';\n",
              "          element.innerHTML = '';\n",
              "          dataTable['output_type'] = 'display_data';\n",
              "          await google.colab.output.renderOutput(dataTable, element);\n",
              "          const docLink = document.createElement('div');\n",
              "          docLink.innerHTML = docLinkHtml;\n",
              "          element.appendChild(docLink);\n",
              "        }\n",
              "      </script>\n",
              "    </div>\n",
              "  </div>\n",
              "  "
            ]
          },
          "metadata": {},
          "execution_count": 63
        }
      ]
    },
    {
      "cell_type": "markdown",
      "source": [
        "En general son monoambientes"
      ],
      "metadata": {
        "id": "oqgz6z8OMuID"
      }
    },
    {
      "cell_type": "code",
      "source": [
        "df_pred[df_pred.bedrooms == 0]"
      ],
      "metadata": {
        "colab": {
          "base_uri": "https://localhost:8080/",
          "height": 966
        },
        "id": "kfGwqH7VMn-B",
        "outputId": "d746ac97-20b6-4399-da2e-946484f5511e"
      },
      "execution_count": 64,
      "outputs": [
        {
          "output_type": "execute_result",
          "data": {
            "text/plain": [
              "        ad_type start_date   end_date created_on        lat        lon  \\\n",
              "id                                                                       \n",
              "55    Propiedad 2022-04-01 2022-04-01 2022-04-01 -58.450791 -34.610109   \n",
              "229   Propiedad 2022-04-01 2022-04-01 2022-04-01 -58.513376 -34.623151   \n",
              "616   Propiedad 2022-04-01 2022-04-01 2022-04-01 -58.510573 -34.620854   \n",
              "648   Propiedad 2022-04-01 2022-04-01 2022-04-01 -58.513376 -34.623151   \n",
              "770   Propiedad 2022-04-01 2022-04-01 2022-04-01 -58.407678 -34.619566   \n",
              "861   Propiedad 2022-04-01 2022-04-01 2022-04-01 -58.452433 -34.625189   \n",
              "1082  Propiedad 2022-04-01 2022-04-01 2022-04-01 -58.507506 -34.587414   \n",
              "\n",
              "             l1               l2                l3  rooms  ...  \\\n",
              "id                                                         ...   \n",
              "55    Argentina  Capital Federal         Caballito    1.0  ...   \n",
              "229   Argentina  Capital Federal      Monte Castro    1.0  ...   \n",
              "616   Argentina  Capital Federal      Monte Castro    1.0  ...   \n",
              "648   Argentina  Capital Federal      Monte Castro    1.0  ...   \n",
              "770   Argentina  Capital Federal         Balvanera    1.0  ...   \n",
              "861   Argentina  Capital Federal         Caballito    1.0  ...   \n",
              "1082  Argentina  Capital Federal  Villa Pueyrredon    1.0  ...   \n",
              "\n",
              "                                                  title  \\\n",
              "id                                                        \n",
              "55    Pujol 1095 - Departamento en Venta en Caballit...   \n",
              "229   Av. Lope De Vega 1800 - Departamento en Venta ...   \n",
              "616   Cervantes 2000 - Departamento en Venta en Mont...   \n",
              "648   Av. Lope De Vega 1800 - Departamento en Venta ...   \n",
              "770   La Rioja 1100 - Departamento en Venta en Balva...   \n",
              "861   Av. Rivadavia 6100 - Departamento en Venta en ...   \n",
              "1082  Cuenca 4800 - Departamento en Venta en Villa P...   \n",
              "\n",
              "                                            description  property_type  \\\n",
              "id                                                                       \n",
              "55    ESPECTACULAR MONOAMBIENTE A ESTRENAR DE 38 met...   Departamento   \n",
              "229   Descripción básica:<br>-¡Departamento monoambi...   Departamento   \n",
              "616   Descripción básica:<br>VENTA DEPARTAMENTO MONO...   Departamento   \n",
              "648   Descripción básica:<br>-¡Departamento monoambi...   Departamento   \n",
              "770   Descripción básica: <br>- Departamento monoamb...   Departamento   \n",
              "861   Descripción básica: <br>- Monoambiente divisib...   Departamento   \n",
              "1082  Departamento monoambiente divisible con balcón...   Departamento   \n",
              "\n",
              "      operation_type                                            details  \\\n",
              "id                                                                        \n",
              "55             Venta  Superficie 38m2, Ambientes 1, Baños 1, Sup. Cu...   \n",
              "229            Venta  Superficie 38m2, Ambientes 1, Baños 1, Sup. Cu...   \n",
              "616            Venta  Superficie 34m2, Ambientes 1, Baños 1, Sup. Cu...   \n",
              "648            Venta  Superficie 38m2, Ambientes 1, Baños 1, Sup. Cu...   \n",
              "770            Venta  Superficie 31.12m2, Ambientes 1, Baños 1, Sup....   \n",
              "861            Venta  Superficie 41.33m2, Ambientes 1, Baños 1, Sup....   \n",
              "1082           Venta  Superficie 38m2, Ambientes 1, Baños 1, Cochera...   \n",
              "\n",
              "                                   additionals  services  l4  l5  l6  \n",
              "id                                                                    \n",
              "55                        SUM, Balcón, Terraza  Gas, Luz NaN NaN NaN  \n",
              "229                                        NaN       NaN NaN NaN NaN  \n",
              "616                                        NaN  Gas, Luz NaN NaN NaN  \n",
              "648                                     Balcón       NaN NaN NaN NaN  \n",
              "770   Seguridad, Calefacción, Aceptan Mascotas  Gas, Luz NaN NaN NaN  \n",
              "861                                        NaN  Gas, Luz NaN NaN NaN  \n",
              "1082                                       NaN  Gas, Luz NaN NaN NaN  \n",
              "\n",
              "[7 rows x 27 columns]"
            ],
            "text/html": [
              "\n",
              "  <div id=\"df-bb916abe-c34e-465a-ba99-9c610b633361\">\n",
              "    <div class=\"colab-df-container\">\n",
              "      <div>\n",
              "<style scoped>\n",
              "    .dataframe tbody tr th:only-of-type {\n",
              "        vertical-align: middle;\n",
              "    }\n",
              "\n",
              "    .dataframe tbody tr th {\n",
              "        vertical-align: top;\n",
              "    }\n",
              "\n",
              "    .dataframe thead th {\n",
              "        text-align: right;\n",
              "    }\n",
              "</style>\n",
              "<table border=\"1\" class=\"dataframe\">\n",
              "  <thead>\n",
              "    <tr style=\"text-align: right;\">\n",
              "      <th></th>\n",
              "      <th>ad_type</th>\n",
              "      <th>start_date</th>\n",
              "      <th>end_date</th>\n",
              "      <th>created_on</th>\n",
              "      <th>lat</th>\n",
              "      <th>lon</th>\n",
              "      <th>l1</th>\n",
              "      <th>l2</th>\n",
              "      <th>l3</th>\n",
              "      <th>rooms</th>\n",
              "      <th>...</th>\n",
              "      <th>title</th>\n",
              "      <th>description</th>\n",
              "      <th>property_type</th>\n",
              "      <th>operation_type</th>\n",
              "      <th>details</th>\n",
              "      <th>additionals</th>\n",
              "      <th>services</th>\n",
              "      <th>l4</th>\n",
              "      <th>l5</th>\n",
              "      <th>l6</th>\n",
              "    </tr>\n",
              "    <tr>\n",
              "      <th>id</th>\n",
              "      <th></th>\n",
              "      <th></th>\n",
              "      <th></th>\n",
              "      <th></th>\n",
              "      <th></th>\n",
              "      <th></th>\n",
              "      <th></th>\n",
              "      <th></th>\n",
              "      <th></th>\n",
              "      <th></th>\n",
              "      <th></th>\n",
              "      <th></th>\n",
              "      <th></th>\n",
              "      <th></th>\n",
              "      <th></th>\n",
              "      <th></th>\n",
              "      <th></th>\n",
              "      <th></th>\n",
              "      <th></th>\n",
              "      <th></th>\n",
              "      <th></th>\n",
              "    </tr>\n",
              "  </thead>\n",
              "  <tbody>\n",
              "    <tr>\n",
              "      <th>55</th>\n",
              "      <td>Propiedad</td>\n",
              "      <td>2022-04-01</td>\n",
              "      <td>2022-04-01</td>\n",
              "      <td>2022-04-01</td>\n",
              "      <td>-58.450791</td>\n",
              "      <td>-34.610109</td>\n",
              "      <td>Argentina</td>\n",
              "      <td>Capital Federal</td>\n",
              "      <td>Caballito</td>\n",
              "      <td>1.0</td>\n",
              "      <td>...</td>\n",
              "      <td>Pujol 1095 - Departamento en Venta en Caballit...</td>\n",
              "      <td>ESPECTACULAR MONOAMBIENTE A ESTRENAR DE 38 met...</td>\n",
              "      <td>Departamento</td>\n",
              "      <td>Venta</td>\n",
              "      <td>Superficie 38m2, Ambientes 1, Baños 1, Sup. Cu...</td>\n",
              "      <td>SUM, Balcón, Terraza</td>\n",
              "      <td>Gas, Luz</td>\n",
              "      <td>NaN</td>\n",
              "      <td>NaN</td>\n",
              "      <td>NaN</td>\n",
              "    </tr>\n",
              "    <tr>\n",
              "      <th>229</th>\n",
              "      <td>Propiedad</td>\n",
              "      <td>2022-04-01</td>\n",
              "      <td>2022-04-01</td>\n",
              "      <td>2022-04-01</td>\n",
              "      <td>-58.513376</td>\n",
              "      <td>-34.623151</td>\n",
              "      <td>Argentina</td>\n",
              "      <td>Capital Federal</td>\n",
              "      <td>Monte Castro</td>\n",
              "      <td>1.0</td>\n",
              "      <td>...</td>\n",
              "      <td>Av. Lope De Vega 1800 - Departamento en Venta ...</td>\n",
              "      <td>Descripción básica:&lt;br&gt;-¡Departamento monoambi...</td>\n",
              "      <td>Departamento</td>\n",
              "      <td>Venta</td>\n",
              "      <td>Superficie 38m2, Ambientes 1, Baños 1, Sup. Cu...</td>\n",
              "      <td>NaN</td>\n",
              "      <td>NaN</td>\n",
              "      <td>NaN</td>\n",
              "      <td>NaN</td>\n",
              "      <td>NaN</td>\n",
              "    </tr>\n",
              "    <tr>\n",
              "      <th>616</th>\n",
              "      <td>Propiedad</td>\n",
              "      <td>2022-04-01</td>\n",
              "      <td>2022-04-01</td>\n",
              "      <td>2022-04-01</td>\n",
              "      <td>-58.510573</td>\n",
              "      <td>-34.620854</td>\n",
              "      <td>Argentina</td>\n",
              "      <td>Capital Federal</td>\n",
              "      <td>Monte Castro</td>\n",
              "      <td>1.0</td>\n",
              "      <td>...</td>\n",
              "      <td>Cervantes 2000 - Departamento en Venta en Mont...</td>\n",
              "      <td>Descripción básica:&lt;br&gt;VENTA DEPARTAMENTO MONO...</td>\n",
              "      <td>Departamento</td>\n",
              "      <td>Venta</td>\n",
              "      <td>Superficie 34m2, Ambientes 1, Baños 1, Sup. Cu...</td>\n",
              "      <td>NaN</td>\n",
              "      <td>Gas, Luz</td>\n",
              "      <td>NaN</td>\n",
              "      <td>NaN</td>\n",
              "      <td>NaN</td>\n",
              "    </tr>\n",
              "    <tr>\n",
              "      <th>648</th>\n",
              "      <td>Propiedad</td>\n",
              "      <td>2022-04-01</td>\n",
              "      <td>2022-04-01</td>\n",
              "      <td>2022-04-01</td>\n",
              "      <td>-58.513376</td>\n",
              "      <td>-34.623151</td>\n",
              "      <td>Argentina</td>\n",
              "      <td>Capital Federal</td>\n",
              "      <td>Monte Castro</td>\n",
              "      <td>1.0</td>\n",
              "      <td>...</td>\n",
              "      <td>Av. Lope De Vega 1800 - Departamento en Venta ...</td>\n",
              "      <td>Descripción básica:&lt;br&gt;-¡Departamento monoambi...</td>\n",
              "      <td>Departamento</td>\n",
              "      <td>Venta</td>\n",
              "      <td>Superficie 38m2, Ambientes 1, Baños 1, Sup. Cu...</td>\n",
              "      <td>Balcón</td>\n",
              "      <td>NaN</td>\n",
              "      <td>NaN</td>\n",
              "      <td>NaN</td>\n",
              "      <td>NaN</td>\n",
              "    </tr>\n",
              "    <tr>\n",
              "      <th>770</th>\n",
              "      <td>Propiedad</td>\n",
              "      <td>2022-04-01</td>\n",
              "      <td>2022-04-01</td>\n",
              "      <td>2022-04-01</td>\n",
              "      <td>-58.407678</td>\n",
              "      <td>-34.619566</td>\n",
              "      <td>Argentina</td>\n",
              "      <td>Capital Federal</td>\n",
              "      <td>Balvanera</td>\n",
              "      <td>1.0</td>\n",
              "      <td>...</td>\n",
              "      <td>La Rioja 1100 - Departamento en Venta en Balva...</td>\n",
              "      <td>Descripción básica: &lt;br&gt;- Departamento monoamb...</td>\n",
              "      <td>Departamento</td>\n",
              "      <td>Venta</td>\n",
              "      <td>Superficie 31.12m2, Ambientes 1, Baños 1, Sup....</td>\n",
              "      <td>Seguridad, Calefacción, Aceptan Mascotas</td>\n",
              "      <td>Gas, Luz</td>\n",
              "      <td>NaN</td>\n",
              "      <td>NaN</td>\n",
              "      <td>NaN</td>\n",
              "    </tr>\n",
              "    <tr>\n",
              "      <th>861</th>\n",
              "      <td>Propiedad</td>\n",
              "      <td>2022-04-01</td>\n",
              "      <td>2022-04-01</td>\n",
              "      <td>2022-04-01</td>\n",
              "      <td>-58.452433</td>\n",
              "      <td>-34.625189</td>\n",
              "      <td>Argentina</td>\n",
              "      <td>Capital Federal</td>\n",
              "      <td>Caballito</td>\n",
              "      <td>1.0</td>\n",
              "      <td>...</td>\n",
              "      <td>Av. Rivadavia 6100 - Departamento en Venta en ...</td>\n",
              "      <td>Descripción básica: &lt;br&gt;- Monoambiente divisib...</td>\n",
              "      <td>Departamento</td>\n",
              "      <td>Venta</td>\n",
              "      <td>Superficie 41.33m2, Ambientes 1, Baños 1, Sup....</td>\n",
              "      <td>NaN</td>\n",
              "      <td>Gas, Luz</td>\n",
              "      <td>NaN</td>\n",
              "      <td>NaN</td>\n",
              "      <td>NaN</td>\n",
              "    </tr>\n",
              "    <tr>\n",
              "      <th>1082</th>\n",
              "      <td>Propiedad</td>\n",
              "      <td>2022-04-01</td>\n",
              "      <td>2022-04-01</td>\n",
              "      <td>2022-04-01</td>\n",
              "      <td>-58.507506</td>\n",
              "      <td>-34.587414</td>\n",
              "      <td>Argentina</td>\n",
              "      <td>Capital Federal</td>\n",
              "      <td>Villa Pueyrredon</td>\n",
              "      <td>1.0</td>\n",
              "      <td>...</td>\n",
              "      <td>Cuenca 4800 - Departamento en Venta en Villa P...</td>\n",
              "      <td>Departamento monoambiente divisible con balcón...</td>\n",
              "      <td>Departamento</td>\n",
              "      <td>Venta</td>\n",
              "      <td>Superficie 38m2, Ambientes 1, Baños 1, Cochera...</td>\n",
              "      <td>NaN</td>\n",
              "      <td>Gas, Luz</td>\n",
              "      <td>NaN</td>\n",
              "      <td>NaN</td>\n",
              "      <td>NaN</td>\n",
              "    </tr>\n",
              "  </tbody>\n",
              "</table>\n",
              "<p>7 rows × 27 columns</p>\n",
              "</div>\n",
              "      <button class=\"colab-df-convert\" onclick=\"convertToInteractive('df-bb916abe-c34e-465a-ba99-9c610b633361')\"\n",
              "              title=\"Convert this dataframe to an interactive table.\"\n",
              "              style=\"display:none;\">\n",
              "        \n",
              "  <svg xmlns=\"http://www.w3.org/2000/svg\" height=\"24px\"viewBox=\"0 0 24 24\"\n",
              "       width=\"24px\">\n",
              "    <path d=\"M0 0h24v24H0V0z\" fill=\"none\"/>\n",
              "    <path d=\"M18.56 5.44l.94 2.06.94-2.06 2.06-.94-2.06-.94-.94-2.06-.94 2.06-2.06.94zm-11 1L8.5 8.5l.94-2.06 2.06-.94-2.06-.94L8.5 2.5l-.94 2.06-2.06.94zm10 10l.94 2.06.94-2.06 2.06-.94-2.06-.94-.94-2.06-.94 2.06-2.06.94z\"/><path d=\"M17.41 7.96l-1.37-1.37c-.4-.4-.92-.59-1.43-.59-.52 0-1.04.2-1.43.59L10.3 9.45l-7.72 7.72c-.78.78-.78 2.05 0 2.83L4 21.41c.39.39.9.59 1.41.59.51 0 1.02-.2 1.41-.59l7.78-7.78 2.81-2.81c.8-.78.8-2.07 0-2.86zM5.41 20L4 18.59l7.72-7.72 1.47 1.35L5.41 20z\"/>\n",
              "  </svg>\n",
              "      </button>\n",
              "      \n",
              "  <style>\n",
              "    .colab-df-container {\n",
              "      display:flex;\n",
              "      flex-wrap:wrap;\n",
              "      gap: 12px;\n",
              "    }\n",
              "\n",
              "    .colab-df-convert {\n",
              "      background-color: #E8F0FE;\n",
              "      border: none;\n",
              "      border-radius: 50%;\n",
              "      cursor: pointer;\n",
              "      display: none;\n",
              "      fill: #1967D2;\n",
              "      height: 32px;\n",
              "      padding: 0 0 0 0;\n",
              "      width: 32px;\n",
              "    }\n",
              "\n",
              "    .colab-df-convert:hover {\n",
              "      background-color: #E2EBFA;\n",
              "      box-shadow: 0px 1px 2px rgba(60, 64, 67, 0.3), 0px 1px 3px 1px rgba(60, 64, 67, 0.15);\n",
              "      fill: #174EA6;\n",
              "    }\n",
              "\n",
              "    [theme=dark] .colab-df-convert {\n",
              "      background-color: #3B4455;\n",
              "      fill: #D2E3FC;\n",
              "    }\n",
              "\n",
              "    [theme=dark] .colab-df-convert:hover {\n",
              "      background-color: #434B5C;\n",
              "      box-shadow: 0px 1px 3px 1px rgba(0, 0, 0, 0.15);\n",
              "      filter: drop-shadow(0px 1px 2px rgba(0, 0, 0, 0.3));\n",
              "      fill: #FFFFFF;\n",
              "    }\n",
              "  </style>\n",
              "\n",
              "      <script>\n",
              "        const buttonEl =\n",
              "          document.querySelector('#df-bb916abe-c34e-465a-ba99-9c610b633361 button.colab-df-convert');\n",
              "        buttonEl.style.display =\n",
              "          google.colab.kernel.accessAllowed ? 'block' : 'none';\n",
              "\n",
              "        async function convertToInteractive(key) {\n",
              "          const element = document.querySelector('#df-bb916abe-c34e-465a-ba99-9c610b633361');\n",
              "          const dataTable =\n",
              "            await google.colab.kernel.invokeFunction('convertToInteractive',\n",
              "                                                     [key], {});\n",
              "          if (!dataTable) return;\n",
              "\n",
              "          const docLinkHtml = 'Like what you see? Visit the ' +\n",
              "            '<a target=\"_blank\" href=https://colab.research.google.com/notebooks/data_table.ipynb>data table notebook</a>'\n",
              "            + ' to learn more about interactive tables.';\n",
              "          element.innerHTML = '';\n",
              "          dataTable['output_type'] = 'display_data';\n",
              "          await google.colab.output.renderOutput(dataTable, element);\n",
              "          const docLink = document.createElement('div');\n",
              "          docLink.innerHTML = docLinkHtml;\n",
              "          element.appendChild(docLink);\n",
              "        }\n",
              "      </script>\n",
              "    </div>\n",
              "  </div>\n",
              "  "
            ]
          },
          "metadata": {},
          "execution_count": 64
        }
      ]
    },
    {
      "cell_type": "markdown",
      "source": [
        "###Fecha de finalización del aviso"
      ],
      "metadata": {
        "id": "RJ_wyGmilpAK"
      }
    },
    {
      "cell_type": "code",
      "source": [
        "df_train.end_date.value_counts()"
      ],
      "metadata": {
        "colab": {
          "base_uri": "https://localhost:8080/"
        },
        "id": "BCdpJrgLYUJm",
        "outputId": "9293cf3e-7215-42a3-bd6e-488055ee9dd3"
      },
      "execution_count": 65,
      "outputs": [
        {
          "output_type": "execute_result",
          "data": {
            "text/plain": [
              "9999-12-31    208960\n",
              "2021-06-05     70852\n",
              "2021-04-09     23315\n",
              "2020-10-03     15205\n",
              "2020-09-04     14608\n",
              "               ...  \n",
              "2021-06-20        83\n",
              "2020-05-27        72\n",
              "2020-06-07        66\n",
              "2020-05-24        29\n",
              "2020-08-22         1\n",
              "Name: end_date, Length: 450, dtype: int64"
            ]
          },
          "metadata": {},
          "execution_count": 65
        }
      ]
    },
    {
      "cell_type": "markdown",
      "source": [
        "###Superficie"
      ],
      "metadata": {
        "id": "d-pHGhNumLSr"
      }
    },
    {
      "cell_type": "code",
      "source": [
        "df_train.surface_total.hist(range = (0,600));"
      ],
      "metadata": {
        "colab": {
          "base_uri": "https://localhost:8080/",
          "height": 265
        },
        "id": "Wl75PoPj1dnX",
        "outputId": "8b8826fb-7f04-4fe2-d28e-6ef88dad902a"
      },
      "execution_count": 66,
      "outputs": [
        {
          "output_type": "display_data",
          "data": {
            "text/plain": [
              "<Figure size 432x288 with 1 Axes>"
            ],
            "image/png": "[encoded data removed]"
          },
          "metadata": {
            "needs_background": "light"
          }
        }
      ]
    },
    {
      "cell_type": "code",
      "source": [
        "(df_train.surface_total > 600).sum()"
      ],
      "metadata": {
        "colab": {
          "base_uri": "https://localhost:8080/"
        },
        "id": "sqTw_9pmAgH0",
        "outputId": "9874682f-c3c7-4214-c577-e717263a99c2"
      },
      "execution_count": 67,
      "outputs": [
        {
          "output_type": "execute_result",
          "data": {
            "text/plain": [
              "50930"
            ]
          },
          "metadata": {},
          "execution_count": 67
        }
      ]
    },
    {
      "cell_type": "markdown",
      "source": [
        "Quizás un límite razonable para filtrar es 600m2/500m2"
      ],
      "metadata": {
        "id": "RK6KQfTqAYnK"
      }
    },
    {
      "cell_type": "code",
      "source": [
        "df_pred.surface_total.hist();"
      ],
      "metadata": {
        "colab": {
          "base_uri": "https://localhost:8080/",
          "height": 265
        },
        "id": "QNZhPeHv1Rze",
        "outputId": "e0d16081-3d8d-4535-9a09-3614908a6fe5"
      },
      "execution_count": 68,
      "outputs": [
        {
          "output_type": "display_data",
          "data": {
            "text/plain": [
              "<Figure size 432x288 with 1 Axes>"
            ],
            "image/png": "[encoded data removed]"
          },
          "metadata": {
            "needs_background": "light"
          }
        }
      ]
    },
    {
      "cell_type": "code",
      "source": [
        "for s in [300,400,500]:\n",
        "  print((df_pred.surface_total > s).sum())"
      ],
      "metadata": {
        "colab": {
          "base_uri": "https://localhost:8080/"
        },
        "id": "Nx_83m0apEhq",
        "outputId": "1f12d7c8-7954-4c9e-a9a5-e4936cff5c2d"
      },
      "execution_count": 69,
      "outputs": [
        {
          "output_type": "stream",
          "name": "stdout",
          "text": [
            "32\n",
            "14\n",
            "3\n"
          ]
        }
      ]
    },
    {
      "cell_type": "markdown",
      "source": [
        "Los monoambientes tienen superficies desde 35m2 pero aparentemente puede haber algunas cosas más chicas que eso: http://clavesdeco.puraciudad.com.ar/como-son-los-nuevos-micro-departamentos-de-buenos-aires/\n",
        "Quizás para ciertos tipos de propiedad tenga sentido, pero no para Departamentos y PH."
      ],
      "metadata": {
        "id": "OhL5x8eSfVVk"
      }
    },
    {
      "cell_type": "code",
      "source": [
        "df_train.surface_total.hist(range = (0,50), bins = 40);"
      ],
      "metadata": {
        "colab": {
          "base_uri": "https://localhost:8080/",
          "height": 265
        },
        "id": "AA7qHRz3fJgk",
        "outputId": "2f5d3a55-e468-479d-c8bd-5b000f56cfbd"
      },
      "execution_count": 70,
      "outputs": [
        {
          "output_type": "display_data",
          "data": {
            "text/plain": [
              "<Figure size 432x288 with 1 Axes>"
            ],
            "image/png": "[encoded data removed]"
          },
          "metadata": {
            "needs_background": "light"
          }
        }
      ]
    },
    {
      "cell_type": "code",
      "source": [
        "df_pred.surface_total.hist(range = (0,50), bins = 40);"
      ],
      "metadata": {
        "colab": {
          "base_uri": "https://localhost:8080/",
          "height": 265
        },
        "id": "HmJU961gfr5k",
        "outputId": "537cc8cd-318d-446e-b30a-995b1b1c4d60"
      },
      "execution_count": 71,
      "outputs": [
        {
          "output_type": "display_data",
          "data": {
            "text/plain": [
              "<Figure size 432x288 with 1 Axes>"
            ],
            "image/png": "[encoded data removed]"
          },
          "metadata": {
            "needs_background": "light"
          }
        }
      ]
    },
    {
      "cell_type": "markdown",
      "source": [
        "Quizás podría filtrarse superficies menores a 30m2/25m2"
      ],
      "metadata": {
        "id": "vcPjnyy7uVap"
      }
    },
    {
      "cell_type": "code",
      "source": [
        "for i in [15,20,25,30]:\n",
        "  print((df_pred.surface_total < i).sum())"
      ],
      "metadata": {
        "colab": {
          "base_uri": "https://localhost:8080/"
        },
        "id": "y2PjxLiFgMfO",
        "outputId": "d2243723-8dad-4f0a-e5cb-ab5e6cf86650"
      },
      "execution_count": 72,
      "outputs": [
        {
          "output_type": "stream",
          "name": "stdout",
          "text": [
            "0\n",
            "4\n",
            "8\n",
            "21\n"
          ]
        }
      ]
    },
    {
      "cell_type": "markdown",
      "source": [
        "Dado df_pred, los filtros para superficie cubierta deberían ser iguales."
      ],
      "metadata": {
        "id": "OSQO_a8-vZ-o"
      }
    },
    {
      "cell_type": "code",
      "source": [
        "df_train.surface_covered.hist(range = (0,600));"
      ],
      "metadata": {
        "colab": {
          "base_uri": "https://localhost:8080/",
          "height": 265
        },
        "id": "4z7YltOp3oIx",
        "outputId": "024c7b9e-49b4-46e9-cefe-ac0219a85e22"
      },
      "execution_count": 73,
      "outputs": [
        {
          "output_type": "display_data",
          "data": {
            "text/plain": [
              "<Figure size 432x288 with 1 Axes>"
            ],
            "image/png": "[encoded data removed]"
          },
          "metadata": {
            "needs_background": "light"
          }
        }
      ]
    },
    {
      "cell_type": "code",
      "source": [
        "df_pred.surface_covered.hist();"
      ],
      "metadata": {
        "colab": {
          "base_uri": "https://localhost:8080/",
          "height": 265
        },
        "id": "cqh0Lagz3vma",
        "outputId": "42784c6b-34bd-45ff-917e-25a7fad23924"
      },
      "execution_count": 74,
      "outputs": [
        {
          "output_type": "display_data",
          "data": {
            "text/plain": [
              "<Figure size 432x288 with 1 Axes>"
            ],
            "image/png": "[encoded data removed]"
          },
          "metadata": {
            "needs_background": "light"
          }
        }
      ]
    },
    {
      "cell_type": "code",
      "source": [
        "for s in [300,400,500]:\n",
        "  print((df_pred.surface_covered > s).sum())"
      ],
      "metadata": {
        "colab": {
          "base_uri": "https://localhost:8080/"
        },
        "id": "n2ECLk3GvGjH",
        "outputId": "d2e021ce-10e6-41dd-f001-7eccd79fa3a1"
      },
      "execution_count": 75,
      "outputs": [
        {
          "output_type": "stream",
          "name": "stdout",
          "text": [
            "32\n",
            "14\n",
            "3\n"
          ]
        }
      ]
    },
    {
      "cell_type": "code",
      "source": [
        "df_train.surface_covered.hist(range = (0,50), bins = 40);"
      ],
      "metadata": {
        "colab": {
          "base_uri": "https://localhost:8080/",
          "height": 265
        },
        "id": "96FdLPVMgqal",
        "outputId": "a1bf9c58-0dd4-4d23-a667-5af82508903a"
      },
      "execution_count": 76,
      "outputs": [
        {
          "output_type": "display_data",
          "data": {
            "text/plain": [
              "<Figure size 432x288 with 1 Axes>"
            ],
            "image/png": "[encoded data removed]"
          },
          "metadata": {
            "needs_background": "light"
          }
        }
      ]
    },
    {
      "cell_type": "code",
      "source": [
        "df_pred.surface_total.hist(range = (0,50), bins = 40);"
      ],
      "metadata": {
        "colab": {
          "base_uri": "https://localhost:8080/",
          "height": 265
        },
        "id": "aL_oMvxqgv2F",
        "outputId": "62a8267a-e313-4afc-9394-d7e3c73d1ca7"
      },
      "execution_count": 77,
      "outputs": [
        {
          "output_type": "display_data",
          "data": {
            "text/plain": [
              "<Figure size 432x288 with 1 Axes>"
            ],
            "image/png": "[encoded data removed]"
          },
          "metadata": {
            "needs_background": "light"
          }
        }
      ]
    },
    {
      "cell_type": "code",
      "source": [
        "for i in [15,20,25,30]:\n",
        "  print((df_pred.surface_covered < i).sum())"
      ],
      "metadata": {
        "colab": {
          "base_uri": "https://localhost:8080/"
        },
        "id": "YgmHxcfpvU2Y",
        "outputId": "7bedd49b-8e5d-431d-b27d-6b86be4118da"
      },
      "execution_count": 78,
      "outputs": [
        {
          "output_type": "stream",
          "name": "stdout",
          "text": [
            "0\n",
            "4\n",
            "8\n",
            "21\n"
          ]
        }
      ]
    },
    {
      "cell_type": "markdown",
      "source": [
        "Parece dudoso que se necesite ambas superficies, aunque sean diferentes para df_train. Hay que analizarlo."
      ],
      "metadata": {
        "id": "ZF47zViMC-8T"
      }
    },
    {
      "cell_type": "code",
      "source": [
        "mask = (df_train.surface_covered > 0) & (df_train.surface_total > 0)\n",
        "df_train[mask].surface_covered.corr(df_train[mask].surface_total)"
      ],
      "metadata": {
        "colab": {
          "base_uri": "https://localhost:8080/"
        },
        "id": "jmos48PABiBA",
        "outputId": "633e3954-41e6-4edd-cc6c-8bfa4c587ebc"
      },
      "execution_count": 79,
      "outputs": [
        {
          "output_type": "execute_result",
          "data": {
            "text/plain": [
              "0.42886806735164545"
            ]
          },
          "metadata": {},
          "execution_count": 79
        }
      ]
    },
    {
      "cell_type": "markdown",
      "source": [
        "Sugiere imputar una de las superficies con la otra"
      ],
      "metadata": {
        "id": "aWFbaIqzVrhF"
      }
    },
    {
      "cell_type": "code",
      "source": [
        "df_train.plot.scatter(x = 'surface_covered', y = 'surface_total', xlim = (0,40000),ylim = (0,40000));"
      ],
      "metadata": {
        "colab": {
          "base_uri": "https://localhost:8080/",
          "height": 284
        },
        "id": "_gcHyykQ0PY5",
        "outputId": "8fedbbea-e230-47d7-cf7f-ef3ca09f488e"
      },
      "execution_count": 80,
      "outputs": [
        {
          "output_type": "display_data",
          "data": {
            "text/plain": [
              "<Figure size 432x288 with 1 Axes>"
            ],
            "image/png": "[encoded data removed]"
          },
          "metadata": {
            "needs_background": "light"
          }
        }
      ]
    },
    {
      "cell_type": "code",
      "source": [
        "(df_train.surface_total-df_train.surface_covered).describe()"
      ],
      "metadata": {
        "colab": {
          "base_uri": "https://localhost:8080/"
        },
        "id": "rkAtQJys47RZ",
        "outputId": "fe7f2f17-fc36-4f3e-db55-84bf007b79b0"
      },
      "execution_count": 81,
      "outputs": [
        {
          "output_type": "execute_result",
          "data": {
            "text/plain": [
              "count     422807.000000\n",
              "mean         143.401472\n",
              "std         3291.558475\n",
              "min     -1000000.000000\n",
              "25%            0.000000\n",
              "50%            4.000000\n",
              "75%           20.000000\n",
              "max       199998.000000\n",
              "dtype: float64"
            ]
          },
          "metadata": {},
          "execution_count": 81
        }
      ]
    },
    {
      "cell_type": "code",
      "source": [
        "(df_train.surface_total > df_train.surface_covered).sum()"
      ],
      "metadata": {
        "colab": {
          "base_uri": "https://localhost:8080/"
        },
        "id": "5lAL8dGV5Hb-",
        "outputId": "f27e4609-cfbc-407c-f393-1aa0e9165448"
      },
      "execution_count": 82,
      "outputs": [
        {
          "output_type": "execute_result",
          "data": {
            "text/plain": [
              "244611"
            ]
          },
          "metadata": {},
          "execution_count": 82
        }
      ]
    },
    {
      "cell_type": "markdown",
      "source": [
        "En el conjunto a predecir ambas tienden a ser iguales"
      ],
      "metadata": {
        "id": "F691zJ7qmabr"
      }
    },
    {
      "cell_type": "code",
      "source": [
        "(df_pred.surface_total-df_pred.surface_covered).describe()"
      ],
      "metadata": {
        "colab": {
          "base_uri": "https://localhost:8080/"
        },
        "id": "dMrW08Oa_WxZ",
        "outputId": "e7ea8385-d49a-4387-902b-5d079af68140"
      },
      "execution_count": 83,
      "outputs": [
        {
          "output_type": "execute_result",
          "data": {
            "text/plain": [
              "count    1087.0\n",
              "mean        0.0\n",
              "std         0.0\n",
              "min         0.0\n",
              "25%         0.0\n",
              "50%         0.0\n",
              "75%         0.0\n",
              "max         0.0\n",
              "dtype: float64"
            ]
          },
          "metadata": {},
          "execution_count": 83
        }
      ]
    },
    {
      "cell_type": "markdown",
      "source": [
        "No hay evidencia de similitud entre distribuciones así que no hay razón para descartar alguna de las columnas, cualquiera puede ser útil (quizás quiera normalizarlo primero)."
      ],
      "metadata": {
        "id": "PtpA8YSweJcL"
      }
    },
    {
      "cell_type": "code",
      "source": [
        "U,p = sp.stats.mannwhitneyu(df_train[df_train.surface_covered < 600].surface_covered, df_pred.surface_covered)\n",
        "print('p-valor es ',p)"
      ],
      "metadata": {
        "colab": {
          "base_uri": "https://localhost:8080/"
        },
        "id": "Wc-47d6RYvwH",
        "outputId": "d530f4b6-d2b8-47e2-ec9f-4f11231f0b68"
      },
      "execution_count": 84,
      "outputs": [
        {
          "output_type": "stream",
          "name": "stdout",
          "text": [
            "p-valor es  1.1574415255953893e-10\n"
          ]
        }
      ]
    },
    {
      "cell_type": "code",
      "source": [
        "U,p = sp.stats.mannwhitneyu(df_train[df_train.surface_total < 600].surface_total, df_pred.surface_total)\n",
        "print('p-valor es ',p)"
      ],
      "metadata": {
        "colab": {
          "base_uri": "https://localhost:8080/"
        },
        "id": "sWY9zzjBZKLF",
        "outputId": "4abdb198-ffa7-4062-a17a-89819feb75f8"
      },
      "execution_count": 85,
      "outputs": [
        {
          "output_type": "stream",
          "name": "stdout",
          "text": [
            "p-valor es  1.8589638559315343e-25\n"
          ]
        }
      ]
    },
    {
      "cell_type": "markdown",
      "source": [
        "###Avisos duplicados"
      ],
      "metadata": {
        "id": "6pbhPT4WmuCS"
      }
    },
    {
      "cell_type": "markdown",
      "source": [
        "¿No hay avisos duplicados? (ver explicación de id en properati)"
      ],
      "metadata": {
        "id": "XpfTctOnYxfl"
      }
    },
    {
      "cell_type": "code",
      "source": [
        "#idx = pd.Index(['lama', 'cow', 'lama', 'beetle', 'lama'])\n",
        "#idx.duplicated().any() #devuelve true porque hay índices repetidos\n",
        "df_train.index.duplicated().any()"
      ],
      "metadata": {
        "colab": {
          "base_uri": "https://localhost:8080/"
        },
        "id": "_ZoEcoBmWu2C",
        "outputId": "8595e439-5b15-4efe-8ca3-2bee05458bad"
      },
      "execution_count": 86,
      "outputs": [
        {
          "output_type": "execute_result",
          "data": {
            "text/plain": [
              "False"
            ]
          },
          "metadata": {},
          "execution_count": 86
        }
      ]
    },
    {
      "cell_type": "code",
      "source": [
        "df_pred.index.duplicated().any()"
      ],
      "metadata": {
        "colab": {
          "base_uri": "https://localhost:8080/"
        },
        "id": "aJgVtT40ZYeI",
        "outputId": "688591dc-ce8a-4021-f655-6d1013e8f22a"
      },
      "execution_count": 87,
      "outputs": [
        {
          "output_type": "execute_result",
          "data": {
            "text/plain": [
              "False"
            ]
          },
          "metadata": {},
          "execution_count": 87
        }
      ]
    },
    {
      "cell_type": "code",
      "source": [
        "df_train.duplicated().sum()"
      ],
      "metadata": {
        "colab": {
          "base_uri": "https://localhost:8080/"
        },
        "id": "NGuR3H2qlFdr",
        "outputId": "60912371-aa13-4d07-8efd-3f673ed22b35"
      },
      "execution_count": 88,
      "outputs": [
        {
          "output_type": "execute_result",
          "data": {
            "text/plain": [
              "20838"
            ]
          },
          "metadata": {},
          "execution_count": 88
        }
      ]
    },
    {
      "cell_type": "code",
      "source": [
        "df_pred.duplicated().sum()"
      ],
      "metadata": {
        "colab": {
          "base_uri": "https://localhost:8080/"
        },
        "id": "2UyDDkKelVLT",
        "outputId": "0f0148f9-bca9-495e-fbc3-410a5daed0d2"
      },
      "execution_count": 89,
      "outputs": [
        {
          "output_type": "execute_result",
          "data": {
            "text/plain": [
              "59"
            ]
          },
          "metadata": {},
          "execution_count": 89
        }
      ]
    },
    {
      "cell_type": "code",
      "source": [
        "df_train.title.duplicated().sum()"
      ],
      "metadata": {
        "colab": {
          "base_uri": "https://localhost:8080/"
        },
        "id": "9WHJRwVeWMrG",
        "outputId": "5642d63a-537b-49e0-e97c-9a977c323940"
      },
      "execution_count": 90,
      "outputs": [
        {
          "output_type": "execute_result",
          "data": {
            "text/plain": [
              "451166"
            ]
          },
          "metadata": {},
          "execution_count": 90
        }
      ]
    },
    {
      "cell_type": "markdown",
      "source": [
        "###Precios"
      ],
      "metadata": {
        "id": "9RG0lHX-mxhU"
      }
    },
    {
      "cell_type": "code",
      "source": [
        "df_train.price.hist(bins = 40, range=(0,1000000));"
      ],
      "metadata": {
        "colab": {
          "base_uri": "https://localhost:8080/",
          "height": 278
        },
        "id": "2GCkKMarZq9f",
        "outputId": "9c2cc723-5ee3-4008-be49-12b5b9e6ce26"
      },
      "execution_count": 91,
      "outputs": [
        {
          "output_type": "display_data",
          "data": {
            "text/plain": [
              "<Figure size 432x288 with 1 Axes>"
            ],
            "image/png": "[encoded data removed]"
          },
          "metadata": {
            "needs_background": "light"
          }
        }
      ]
    },
    {
      "cell_type": "markdown",
      "source": [
        "Explorar precios bajos cuando se filtre la base de datos"
      ],
      "metadata": {
        "id": "GV3tLtQ3Wqjv"
      }
    },
    {
      "cell_type": "code",
      "source": [
        "df_train.price.hist(bins = 40, range=(-100,120000));"
      ],
      "metadata": {
        "colab": {
          "base_uri": "https://localhost:8080/",
          "height": 265
        },
        "id": "XPH5jueZV2Vv",
        "outputId": "c3783796-faf5-4e7c-ca50-0a3f5cc4f25b"
      },
      "execution_count": 92,
      "outputs": [
        {
          "output_type": "display_data",
          "data": {
            "text/plain": [
              "<Figure size 432x288 with 1 Axes>"
            ],
            "image/png": "[encoded data removed]"
          },
          "metadata": {
            "needs_background": "light"
          }
        }
      ]
    },
    {
      "cell_type": "code",
      "source": [
        "df_train.boxplot('price', vert = False);"
      ],
      "metadata": {
        "colab": {
          "base_uri": "https://localhost:8080/",
          "height": 278
        },
        "id": "0Nja7Layg3dD",
        "outputId": "228e2c73-6042-4906-b804-4ccd2b4f958d"
      },
      "execution_count": 93,
      "outputs": [
        {
          "output_type": "display_data",
          "data": {
            "text/plain": [
              "<Figure size 432x288 with 1 Axes>"
            ],
            "image/png": "[encoded data removed]"
          },
          "metadata": {
            "needs_background": "light"
          }
        }
      ]
    },
    {
      "cell_type": "markdown",
      "source": [
        "Parece que hay pocos outliers y la mayoría es simplemente la cola larga de la exponencial."
      ],
      "metadata": {
        "id": "RUtdi3OtDdR2"
      }
    },
    {
      "cell_type": "code",
      "source": [
        "for i in [2500000,5000000,10000000,100000000]:\n",
        "  print((df_train.price > i).sum())"
      ],
      "metadata": {
        "colab": {
          "base_uri": "https://localhost:8080/"
        },
        "id": "5xvG4Gw9DqgR",
        "outputId": "8351f306-ce8d-40e6-f939-ee9394d48c18"
      },
      "execution_count": 94,
      "outputs": [
        {
          "output_type": "stream",
          "name": "stdout",
          "text": [
            "15932\n",
            "9063\n",
            "3652\n",
            "79\n"
          ]
        }
      ]
    },
    {
      "cell_type": "code",
      "source": [
        "for i in [2500,5000,7500,10000,25000]:\n",
        "  print((df_train.price < i).sum())"
      ],
      "metadata": {
        "colab": {
          "base_uri": "https://localhost:8080/"
        },
        "id": "wBNx9nF5xuZR",
        "outputId": "db68118f-631c-4c3f-8cd4-d1a035bc3d5f"
      },
      "execution_count": 95,
      "outputs": [
        {
          "output_type": "stream",
          "name": "stdout",
          "text": [
            "18535\n",
            "33318\n",
            "42047\n",
            "51837\n",
            "162423\n"
          ]
        }
      ]
    },
    {
      "cell_type": "markdown",
      "source": [
        "El logaritmo normaliza a la variable precio, puede que sea util. Ojo con los infinitos igual (puede que sea causado por outliers)."
      ],
      "metadata": {
        "id": "mD16KdDUUzVw"
      }
    },
    {
      "cell_type": "code",
      "source": [
        "df_train.price.apply(np.log).hist(bins = 40, range = (5,18));"
      ],
      "metadata": {
        "colab": {
          "base_uri": "https://localhost:8080/",
          "height": 265
        },
        "id": "8tdTNhbjdMdh",
        "outputId": "07ec76b1-6be7-47ef-ca27-a8c15d0136f2"
      },
      "execution_count": 96,
      "outputs": [
        {
          "output_type": "display_data",
          "data": {
            "text/plain": [
              "<Figure size 432x288 with 1 Axes>"
            ],
            "image/png": "[encoded data removed]"
          },
          "metadata": {
            "needs_background": "light"
          }
        }
      ]
    },
    {
      "cell_type": "code",
      "source": [
        "(df_train.price.apply(np.log) < 0).sum()"
      ],
      "metadata": {
        "colab": {
          "base_uri": "https://localhost:8080/"
        },
        "id": "F9jI1KIEVC6q",
        "outputId": "c9f9d2c9-c5e8-4074-d2c3-5fe396b7cc4f"
      },
      "execution_count": 97,
      "outputs": [
        {
          "output_type": "execute_result",
          "data": {
            "text/plain": [
              "2900"
            ]
          },
          "metadata": {},
          "execution_count": 97
        }
      ]
    },
    {
      "cell_type": "markdown",
      "source": [
        "###Precios por m2"
      ],
      "metadata": {
        "id": "NYcEHnRcm5TR"
      }
    },
    {
      "cell_type": "markdown",
      "source": [
        "La distribución de precios por metro cuadrado muestra que la mayoría de estos son alrededor de 2000USD/m2. Zona norte y zona sur se alejan de esa tendencia y Puerto Madero claramente es un outlier."
      ],
      "metadata": {
        "id": "rNNaXSc4ePIk"
      }
    },
    {
      "cell_type": "code",
      "source": [
        "df_usdpersqm.loc[:,2022,4].hist(bins = 40);"
      ],
      "metadata": {
        "colab": {
          "base_uri": "https://localhost:8080/",
          "height": 281
        },
        "id": "i0ZjCCHnWE8m",
        "outputId": "d49827a5-4fec-44bc-8d68-563638281598"
      },
      "execution_count": 98,
      "outputs": [
        {
          "output_type": "display_data",
          "data": {
            "text/plain": [
              "<Figure size 432x288 with 1 Axes>"
            ],
            "image/png": "[encoded data removed]"
          },
          "metadata": {
            "needs_background": "light"
          }
        }
      ]
    },
    {
      "cell_type": "code",
      "source": [
        "df_usdpersqm.loc[:,2022,4][df_usdpersqm > 3000].dropna()"
      ],
      "metadata": {
        "id": "iSkgZSCV7f31",
        "colab": {
          "base_uri": "https://localhost:8080/",
          "height": 237
        },
        "outputId": "680e156f-ef52-4631-d0e1-92f018f09227"
      },
      "execution_count": 99,
      "outputs": [
        {
          "output_type": "execute_result",
          "data": {
            "text/plain": [
              "                        Precio m² (USD)\n",
              "Barrio        Año  Mes                 \n",
              "Puerto Madero 2022 4        5968.573965\n",
              "Palermo       2022 4        3601.155345\n",
              "Núñez         2022 4        3196.101131\n",
              "Belgrano      2022 4        3363.736852\n",
              "Retiro        2022 4        3249.283776"
            ],
            "text/html": [
              "\n",
              "  <div id=\"df-d3d3c773-f087-4543-9c5f-2b08c68e0a23\">\n",
              "    <div class=\"colab-df-container\">\n",
              "      <div>\n",
              "<style scoped>\n",
              "    .dataframe tbody tr th:only-of-type {\n",
              "        vertical-align: middle;\n",
              "    }\n",
              "\n",
              "    .dataframe tbody tr th {\n",
              "        vertical-align: top;\n",
              "    }\n",
              "\n",
              "    .dataframe thead th {\n",
              "        text-align: right;\n",
              "    }\n",
              "</style>\n",
              "<table border=\"1\" class=\"dataframe\">\n",
              "  <thead>\n",
              "    <tr style=\"text-align: right;\">\n",
              "      <th></th>\n",
              "      <th></th>\n",
              "      <th></th>\n",
              "      <th>Precio m² (USD)</th>\n",
              "    </tr>\n",
              "    <tr>\n",
              "      <th>Barrio</th>\n",
              "      <th>Año</th>\n",
              "      <th>Mes</th>\n",
              "      <th></th>\n",
              "    </tr>\n",
              "  </thead>\n",
              "  <tbody>\n",
              "    <tr>\n",
              "      <th>Puerto Madero</th>\n",
              "      <th>2022</th>\n",
              "      <th>4</th>\n",
              "      <td>5968.573965</td>\n",
              "    </tr>\n",
              "    <tr>\n",
              "      <th>Palermo</th>\n",
              "      <th>2022</th>\n",
              "      <th>4</th>\n",
              "      <td>3601.155345</td>\n",
              "    </tr>\n",
              "    <tr>\n",
              "      <th>Núñez</th>\n",
              "      <th>2022</th>\n",
              "      <th>4</th>\n",
              "      <td>3196.101131</td>\n",
              "    </tr>\n",
              "    <tr>\n",
              "      <th>Belgrano</th>\n",
              "      <th>2022</th>\n",
              "      <th>4</th>\n",
              "      <td>3363.736852</td>\n",
              "    </tr>\n",
              "    <tr>\n",
              "      <th>Retiro</th>\n",
              "      <th>2022</th>\n",
              "      <th>4</th>\n",
              "      <td>3249.283776</td>\n",
              "    </tr>\n",
              "  </tbody>\n",
              "</table>\n",
              "</div>\n",
              "      <button class=\"colab-df-convert\" onclick=\"convertToInteractive('df-d3d3c773-f087-4543-9c5f-2b08c68e0a23')\"\n",
              "              title=\"Convert this dataframe to an interactive table.\"\n",
              "              style=\"display:none;\">\n",
              "        \n",
              "  <svg xmlns=\"http://www.w3.org/2000/svg\" height=\"24px\"viewBox=\"0 0 24 24\"\n",
              "       width=\"24px\">\n",
              "    <path d=\"M0 0h24v24H0V0z\" fill=\"none\"/>\n",
              "    <path d=\"M18.56 5.44l.94 2.06.94-2.06 2.06-.94-2.06-.94-.94-2.06-.94 2.06-2.06.94zm-11 1L8.5 8.5l.94-2.06 2.06-.94-2.06-.94L8.5 2.5l-.94 2.06-2.06.94zm10 10l.94 2.06.94-2.06 2.06-.94-2.06-.94-.94-2.06-.94 2.06-2.06.94z\"/><path d=\"M17.41 7.96l-1.37-1.37c-.4-.4-.92-.59-1.43-.59-.52 0-1.04.2-1.43.59L10.3 9.45l-7.72 7.72c-.78.78-.78 2.05 0 2.83L4 21.41c.39.39.9.59 1.41.59.51 0 1.02-.2 1.41-.59l7.78-7.78 2.81-2.81c.8-.78.8-2.07 0-2.86zM5.41 20L4 18.59l7.72-7.72 1.47 1.35L5.41 20z\"/>\n",
              "  </svg>\n",
              "      </button>\n",
              "      \n",
              "  <style>\n",
              "    .colab-df-container {\n",
              "      display:flex;\n",
              "      flex-wrap:wrap;\n",
              "      gap: 12px;\n",
              "    }\n",
              "\n",
              "    .colab-df-convert {\n",
              "      background-color: #E8F0FE;\n",
              "      border: none;\n",
              "      border-radius: 50%;\n",
              "      cursor: pointer;\n",
              "      display: none;\n",
              "      fill: #1967D2;\n",
              "      height: 32px;\n",
              "      padding: 0 0 0 0;\n",
              "      width: 32px;\n",
              "    }\n",
              "\n",
              "    .colab-df-convert:hover {\n",
              "      background-color: #E2EBFA;\n",
              "      box-shadow: 0px 1px 2px rgba(60, 64, 67, 0.3), 0px 1px 3px 1px rgba(60, 64, 67, 0.15);\n",
              "      fill: #174EA6;\n",
              "    }\n",
              "\n",
              "    [theme=dark] .colab-df-convert {\n",
              "      background-color: #3B4455;\n",
              "      fill: #D2E3FC;\n",
              "    }\n",
              "\n",
              "    [theme=dark] .colab-df-convert:hover {\n",
              "      background-color: #434B5C;\n",
              "      box-shadow: 0px 1px 3px 1px rgba(0, 0, 0, 0.15);\n",
              "      filter: drop-shadow(0px 1px 2px rgba(0, 0, 0, 0.3));\n",
              "      fill: #FFFFFF;\n",
              "    }\n",
              "  </style>\n",
              "\n",
              "      <script>\n",
              "        const buttonEl =\n",
              "          document.querySelector('#df-d3d3c773-f087-4543-9c5f-2b08c68e0a23 button.colab-df-convert');\n",
              "        buttonEl.style.display =\n",
              "          google.colab.kernel.accessAllowed ? 'block' : 'none';\n",
              "\n",
              "        async function convertToInteractive(key) {\n",
              "          const element = document.querySelector('#df-d3d3c773-f087-4543-9c5f-2b08c68e0a23');\n",
              "          const dataTable =\n",
              "            await google.colab.kernel.invokeFunction('convertToInteractive',\n",
              "                                                     [key], {});\n",
              "          if (!dataTable) return;\n",
              "\n",
              "          const docLinkHtml = 'Like what you see? Visit the ' +\n",
              "            '<a target=\"_blank\" href=https://colab.research.google.com/notebooks/data_table.ipynb>data table notebook</a>'\n",
              "            + ' to learn more about interactive tables.';\n",
              "          element.innerHTML = '';\n",
              "          dataTable['output_type'] = 'display_data';\n",
              "          await google.colab.output.renderOutput(dataTable, element);\n",
              "          const docLink = document.createElement('div');\n",
              "          docLink.innerHTML = docLinkHtml;\n",
              "          element.appendChild(docLink);\n",
              "        }\n",
              "      </script>\n",
              "    </div>\n",
              "  </div>\n",
              "  "
            ]
          },
          "metadata": {},
          "execution_count": 99
        }
      ]
    },
    {
      "cell_type": "code",
      "source": [
        "df_usdpersqm.loc[:,2022,4][df_usdpersqm < 1700].dropna()"
      ],
      "metadata": {
        "id": "GotXt0YRceHZ",
        "colab": {
          "base_uri": "https://localhost:8080/",
          "height": 237
        },
        "outputId": "7768e89c-d0cc-4a1e-afc3-fa45ee91e3fe"
      },
      "execution_count": 100,
      "outputs": [
        {
          "output_type": "execute_result",
          "data": {
            "text/plain": [
              "                        Precio m² (USD)\n",
              "Barrio        Año  Mes                 \n",
              "Nueva Pompeya 2022 4        1666.666667\n",
              "Versalles     2022 4        1562.500000\n",
              "Constitución  2022 4        1660.039775\n",
              "Boca          2022 4        1400.950577\n",
              "Villa Lugano  2022 4         854.311518"
            ],
            "text/html": [
              "\n",
              "  <div id=\"df-c6fad30e-77d5-4a7e-9183-2e4fe2f965cd\">\n",
              "    <div class=\"colab-df-container\">\n",
              "      <div>\n",
              "<style scoped>\n",
              "    .dataframe tbody tr th:only-of-type {\n",
              "        vertical-align: middle;\n",
              "    }\n",
              "\n",
              "    .dataframe tbody tr th {\n",
              "        vertical-align: top;\n",
              "    }\n",
              "\n",
              "    .dataframe thead th {\n",
              "        text-align: right;\n",
              "    }\n",
              "</style>\n",
              "<table border=\"1\" class=\"dataframe\">\n",
              "  <thead>\n",
              "    <tr style=\"text-align: right;\">\n",
              "      <th></th>\n",
              "      <th></th>\n",
              "      <th></th>\n",
              "      <th>Precio m² (USD)</th>\n",
              "    </tr>\n",
              "    <tr>\n",
              "      <th>Barrio</th>\n",
              "      <th>Año</th>\n",
              "      <th>Mes</th>\n",
              "      <th></th>\n",
              "    </tr>\n",
              "  </thead>\n",
              "  <tbody>\n",
              "    <tr>\n",
              "      <th>Nueva Pompeya</th>\n",
              "      <th>2022</th>\n",
              "      <th>4</th>\n",
              "      <td>1666.666667</td>\n",
              "    </tr>\n",
              "    <tr>\n",
              "      <th>Versalles</th>\n",
              "      <th>2022</th>\n",
              "      <th>4</th>\n",
              "      <td>1562.500000</td>\n",
              "    </tr>\n",
              "    <tr>\n",
              "      <th>Constitución</th>\n",
              "      <th>2022</th>\n",
              "      <th>4</th>\n",
              "      <td>1660.039775</td>\n",
              "    </tr>\n",
              "    <tr>\n",
              "      <th>Boca</th>\n",
              "      <th>2022</th>\n",
              "      <th>4</th>\n",
              "      <td>1400.950577</td>\n",
              "    </tr>\n",
              "    <tr>\n",
              "      <th>Villa Lugano</th>\n",
              "      <th>2022</th>\n",
              "      <th>4</th>\n",
              "      <td>854.311518</td>\n",
              "    </tr>\n",
              "  </tbody>\n",
              "</table>\n",
              "</div>\n",
              "      <button class=\"colab-df-convert\" onclick=\"convertToInteractive('df-c6fad30e-77d5-4a7e-9183-2e4fe2f965cd')\"\n",
              "              title=\"Convert this dataframe to an interactive table.\"\n",
              "              style=\"display:none;\">\n",
              "        \n",
              "  <svg xmlns=\"http://www.w3.org/2000/svg\" height=\"24px\"viewBox=\"0 0 24 24\"\n",
              "       width=\"24px\">\n",
              "    <path d=\"M0 0h24v24H0V0z\" fill=\"none\"/>\n",
              "    <path d=\"M18.56 5.44l.94 2.06.94-2.06 2.06-.94-2.06-.94-.94-2.06-.94 2.06-2.06.94zm-11 1L8.5 8.5l.94-2.06 2.06-.94-2.06-.94L8.5 2.5l-.94 2.06-2.06.94zm10 10l.94 2.06.94-2.06 2.06-.94-2.06-.94-.94-2.06-.94 2.06-2.06.94z\"/><path d=\"M17.41 7.96l-1.37-1.37c-.4-.4-.92-.59-1.43-.59-.52 0-1.04.2-1.43.59L10.3 9.45l-7.72 7.72c-.78.78-.78 2.05 0 2.83L4 21.41c.39.39.9.59 1.41.59.51 0 1.02-.2 1.41-.59l7.78-7.78 2.81-2.81c.8-.78.8-2.07 0-2.86zM5.41 20L4 18.59l7.72-7.72 1.47 1.35L5.41 20z\"/>\n",
              "  </svg>\n",
              "      </button>\n",
              "      \n",
              "  <style>\n",
              "    .colab-df-container {\n",
              "      display:flex;\n",
              "      flex-wrap:wrap;\n",
              "      gap: 12px;\n",
              "    }\n",
              "\n",
              "    .colab-df-convert {\n",
              "      background-color: #E8F0FE;\n",
              "      border: none;\n",
              "      border-radius: 50%;\n",
              "      cursor: pointer;\n",
              "      display: none;\n",
              "      fill: #1967D2;\n",
              "      height: 32px;\n",
              "      padding: 0 0 0 0;\n",
              "      width: 32px;\n",
              "    }\n",
              "\n",
              "    .colab-df-convert:hover {\n",
              "      background-color: #E2EBFA;\n",
              "      box-shadow: 0px 1px 2px rgba(60, 64, 67, 0.3), 0px 1px 3px 1px rgba(60, 64, 67, 0.15);\n",
              "      fill: #174EA6;\n",
              "    }\n",
              "\n",
              "    [theme=dark] .colab-df-convert {\n",
              "      background-color: #3B4455;\n",
              "      fill: #D2E3FC;\n",
              "    }\n",
              "\n",
              "    [theme=dark] .colab-df-convert:hover {\n",
              "      background-color: #434B5C;\n",
              "      box-shadow: 0px 1px 3px 1px rgba(0, 0, 0, 0.15);\n",
              "      filter: drop-shadow(0px 1px 2px rgba(0, 0, 0, 0.3));\n",
              "      fill: #FFFFFF;\n",
              "    }\n",
              "  </style>\n",
              "\n",
              "      <script>\n",
              "        const buttonEl =\n",
              "          document.querySelector('#df-c6fad30e-77d5-4a7e-9183-2e4fe2f965cd button.colab-df-convert');\n",
              "        buttonEl.style.display =\n",
              "          google.colab.kernel.accessAllowed ? 'block' : 'none';\n",
              "\n",
              "        async function convertToInteractive(key) {\n",
              "          const element = document.querySelector('#df-c6fad30e-77d5-4a7e-9183-2e4fe2f965cd');\n",
              "          const dataTable =\n",
              "            await google.colab.kernel.invokeFunction('convertToInteractive',\n",
              "                                                     [key], {});\n",
              "          if (!dataTable) return;\n",
              "\n",
              "          const docLinkHtml = 'Like what you see? Visit the ' +\n",
              "            '<a target=\"_blank\" href=https://colab.research.google.com/notebooks/data_table.ipynb>data table notebook</a>'\n",
              "            + ' to learn more about interactive tables.';\n",
              "          element.innerHTML = '';\n",
              "          dataTable['output_type'] = 'display_data';\n",
              "          await google.colab.output.renderOutput(dataTable, element);\n",
              "          const docLink = document.createElement('div');\n",
              "          docLink.innerHTML = docLinkHtml;\n",
              "          element.appendChild(docLink);\n",
              "        }\n",
              "      </script>\n",
              "    </div>\n",
              "  </div>\n",
              "  "
            ]
          },
          "metadata": {},
          "execution_count": 100
        }
      ]
    },
    {
      "cell_type": "markdown",
      "source": [
        "El análisis directamente desde df_train no es aconcejable hasta no ajustar precios a una fecha específica."
      ],
      "metadata": {
        "id": "ki72cXUhovfS"
      }
    },
    {
      "cell_type": "code",
      "source": [
        "df_usdpersqm.loc[:,2022,4].head(50)"
      ],
      "metadata": {
        "colab": {
          "base_uri": "https://localhost:8080/",
          "height": 1000
        },
        "id": "Sjy2u2B6uJra",
        "outputId": "2037c429-f184-4cc0-9ef8-743944215a78"
      },
      "execution_count": 101,
      "outputs": [
        {
          "output_type": "execute_result",
          "data": {
            "text/plain": [
              "                              Precio m² (USD)\n",
              "Barrio              Año  Mes                 \n",
              "Puerto Madero       2022 4        5968.573965\n",
              "Palermo             2022 4        3601.155345\n",
              "Núñez               2022 4        3196.101131\n",
              "Belgrano            2022 4        3363.736852\n",
              "Retiro              2022 4        3249.283776\n",
              "Recoleta            2022 4        2811.879119\n",
              "Colegiales          2022 4        2716.278837\n",
              "Villa Urquiza       2022 4        2770.023960\n",
              "Coghlan             2022 4        2811.106524\n",
              "Villa Devoto        2022 4        2893.093839\n",
              "Saavedra            2022 4        2640.917718\n",
              "Villa Ortúzar       2022 4        2268.998552\n",
              "Villa Pueyrredón    2022 4        2218.471521\n",
              "Caballito           2022 4        2409.435847\n",
              "Parque Chas         2022 4        2274.158686\n",
              "Almagro             2022 4        2172.239101\n",
              "Chacarita           2022 4        2419.688322\n",
              "Parque Chacabuco    2022 4        2115.522190\n",
              "Villa Crespo        2022 4        2408.098773\n",
              "Barracas            2022 4        2318.781235\n",
              "Villa del Parque    2022 4        2162.792241\n",
              "Agronomía           2022 4        2025.801066\n",
              "Flores              2022 4        2188.877321\n",
              "San Telmo           2022 4        2114.333056\n",
              "Nueva Pompeya       2022 4        1666.666667\n",
              "Liniers             2022 4        2219.521278\n",
              "Villa Real          2022 4        1879.119048\n",
              "Monte Castro        2022 4        1921.712596\n",
              "Villa Luro          2022 4        2279.323874\n",
              "Villa General Mitre 2022 4        1910.819612\n",
              "Versalles           2022 4        1562.500000\n",
              "Boedo               2022 4        1826.264987\n",
              "Villa Santa Rita    2022 4        1968.847543\n",
              "Monserrat           2022 4        2101.334809\n",
              "Balvanera           2022 4        1819.094963\n",
              "Paternal            2022 4        1801.378041\n",
              "San Nicolás         2022 4        1707.982817\n",
              "Mataderos           2022 4        2040.400712\n",
              "Vélez Sarsfield     2022 4        1801.495966\n",
              "San Cristóbal       2022 4        1804.532768\n",
              "Floresta            2022 4        1777.617937\n",
              "Constitución        2022 4        1660.039775\n",
              "Villa Riachuelo     2022 4        2520.106752\n",
              "Parque Patricios    2022 4        1801.256688\n",
              "Boca                2022 4        1400.950577\n",
              "Parque Avellaneda   2022 4        1815.789474\n",
              "Villa Lugano        2022 4         854.311518\n",
              "Villa Soldati       2022 4        2236.842105"
            ],
            "text/html": [
              "\n",
              "  <div id=\"df-758afa1a-fe7c-4c61-aac1-041dac3b2986\">\n",
              "    <div class=\"colab-df-container\">\n",
              "      <div>\n",
              "<style scoped>\n",
              "    .dataframe tbody tr th:only-of-type {\n",
              "        vertical-align: middle;\n",
              "    }\n",
              "\n",
              "    .dataframe tbody tr th {\n",
              "        vertical-align: top;\n",
              "    }\n",
              "\n",
              "    .dataframe thead th {\n",
              "        text-align: right;\n",
              "    }\n",
              "</style>\n",
              "<table border=\"1\" class=\"dataframe\">\n",
              "  <thead>\n",
              "    <tr style=\"text-align: right;\">\n",
              "      <th></th>\n",
              "      <th></th>\n",
              "      <th></th>\n",
              "      <th>Precio m² (USD)</th>\n",
              "    </tr>\n",
              "    <tr>\n",
              "      <th>Barrio</th>\n",
              "      <th>Año</th>\n",
              "      <th>Mes</th>\n",
              "      <th></th>\n",
              "    </tr>\n",
              "  </thead>\n",
              "  <tbody>\n",
              "    <tr>\n",
              "      <th>Puerto Madero</th>\n",
              "      <th>2022</th>\n",
              "      <th>4</th>\n",
              "      <td>5968.573965</td>\n",
              "    </tr>\n",
              "    <tr>\n",
              "      <th>Palermo</th>\n",
              "      <th>2022</th>\n",
              "      <th>4</th>\n",
              "      <td>3601.155345</td>\n",
              "    </tr>\n",
              "    <tr>\n",
              "      <th>Núñez</th>\n",
              "      <th>2022</th>\n",
              "      <th>4</th>\n",
              "      <td>3196.101131</td>\n",
              "    </tr>\n",
              "    <tr>\n",
              "      <th>Belgrano</th>\n",
              "      <th>2022</th>\n",
              "      <th>4</th>\n",
              "      <td>3363.736852</td>\n",
              "    </tr>\n",
              "    <tr>\n",
              "      <th>Retiro</th>\n",
              "      <th>2022</th>\n",
              "      <th>4</th>\n",
              "      <td>3249.283776</td>\n",
              "    </tr>\n",
              "    <tr>\n",
              "      <th>Recoleta</th>\n",
              "      <th>2022</th>\n",
              "      <th>4</th>\n",
              "      <td>2811.879119</td>\n",
              "    </tr>\n",
              "    <tr>\n",
              "      <th>Colegiales</th>\n",
              "      <th>2022</th>\n",
              "      <th>4</th>\n",
              "      <td>2716.278837</td>\n",
              "    </tr>\n",
              "    <tr>\n",
              "      <th>Villa Urquiza</th>\n",
              "      <th>2022</th>\n",
              "      <th>4</th>\n",
              "      <td>2770.023960</td>\n",
              "    </tr>\n",
              "    <tr>\n",
              "      <th>Coghlan</th>\n",
              "      <th>2022</th>\n",
              "      <th>4</th>\n",
              "      <td>2811.106524</td>\n",
              "    </tr>\n",
              "    <tr>\n",
              "      <th>Villa Devoto</th>\n",
              "      <th>2022</th>\n",
              "      <th>4</th>\n",
              "      <td>2893.093839</td>\n",
              "    </tr>\n",
              "    <tr>\n",
              "      <th>Saavedra</th>\n",
              "      <th>2022</th>\n",
              "      <th>4</th>\n",
              "      <td>2640.917718</td>\n",
              "    </tr>\n",
              "    <tr>\n",
              "      <th>Villa Ortúzar</th>\n",
              "      <th>2022</th>\n",
              "      <th>4</th>\n",
              "      <td>2268.998552</td>\n",
              "    </tr>\n",
              "    <tr>\n",
              "      <th>Villa Pueyrredón</th>\n",
              "      <th>2022</th>\n",
              "      <th>4</th>\n",
              "      <td>2218.471521</td>\n",
              "    </tr>\n",
              "    <tr>\n",
              "      <th>Caballito</th>\n",
              "      <th>2022</th>\n",
              "      <th>4</th>\n",
              "      <td>2409.435847</td>\n",
              "    </tr>\n",
              "    <tr>\n",
              "      <th>Parque Chas</th>\n",
              "      <th>2022</th>\n",
              "      <th>4</th>\n",
              "      <td>2274.158686</td>\n",
              "    </tr>\n",
              "    <tr>\n",
              "      <th>Almagro</th>\n",
              "      <th>2022</th>\n",
              "      <th>4</th>\n",
              "      <td>2172.239101</td>\n",
              "    </tr>\n",
              "    <tr>\n",
              "      <th>Chacarita</th>\n",
              "      <th>2022</th>\n",
              "      <th>4</th>\n",
              "      <td>2419.688322</td>\n",
              "    </tr>\n",
              "    <tr>\n",
              "      <th>Parque Chacabuco</th>\n",
              "      <th>2022</th>\n",
              "      <th>4</th>\n",
              "      <td>2115.522190</td>\n",
              "    </tr>\n",
              "    <tr>\n",
              "      <th>Villa Crespo</th>\n",
              "      <th>2022</th>\n",
              "      <th>4</th>\n",
              "      <td>2408.098773</td>\n",
              "    </tr>\n",
              "    <tr>\n",
              "      <th>Barracas</th>\n",
              "      <th>2022</th>\n",
              "      <th>4</th>\n",
              "      <td>2318.781235</td>\n",
              "    </tr>\n",
              "    <tr>\n",
              "      <th>Villa del Parque</th>\n",
              "      <th>2022</th>\n",
              "      <th>4</th>\n",
              "      <td>2162.792241</td>\n",
              "    </tr>\n",
              "    <tr>\n",
              "      <th>Agronomía</th>\n",
              "      <th>2022</th>\n",
              "      <th>4</th>\n",
              "      <td>2025.801066</td>\n",
              "    </tr>\n",
              "    <tr>\n",
              "      <th>Flores</th>\n",
              "      <th>2022</th>\n",
              "      <th>4</th>\n",
              "      <td>2188.877321</td>\n",
              "    </tr>\n",
              "    <tr>\n",
              "      <th>San Telmo</th>\n",
              "      <th>2022</th>\n",
              "      <th>4</th>\n",
              "      <td>2114.333056</td>\n",
              "    </tr>\n",
              "    <tr>\n",
              "      <th>Nueva Pompeya</th>\n",
              "      <th>2022</th>\n",
              "      <th>4</th>\n",
              "      <td>1666.666667</td>\n",
              "    </tr>\n",
              "    <tr>\n",
              "      <th>Liniers</th>\n",
              "      <th>2022</th>\n",
              "      <th>4</th>\n",
              "      <td>2219.521278</td>\n",
              "    </tr>\n",
              "    <tr>\n",
              "      <th>Villa Real</th>\n",
              "      <th>2022</th>\n",
              "      <th>4</th>\n",
              "      <td>1879.119048</td>\n",
              "    </tr>\n",
              "    <tr>\n",
              "      <th>Monte Castro</th>\n",
              "      <th>2022</th>\n",
              "      <th>4</th>\n",
              "      <td>1921.712596</td>\n",
              "    </tr>\n",
              "    <tr>\n",
              "      <th>Villa Luro</th>\n",
              "      <th>2022</th>\n",
              "      <th>4</th>\n",
              "      <td>2279.323874</td>\n",
              "    </tr>\n",
              "    <tr>\n",
              "      <th>Villa General Mitre</th>\n",
              "      <th>2022</th>\n",
              "      <th>4</th>\n",
              "      <td>1910.819612</td>\n",
              "    </tr>\n",
              "    <tr>\n",
              "      <th>Versalles</th>\n",
              "      <th>2022</th>\n",
              "      <th>4</th>\n",
              "      <td>1562.500000</td>\n",
              "    </tr>\n",
              "    <tr>\n",
              "      <th>Boedo</th>\n",
              "      <th>2022</th>\n",
              "      <th>4</th>\n",
              "      <td>1826.264987</td>\n",
              "    </tr>\n",
              "    <tr>\n",
              "      <th>Villa Santa Rita</th>\n",
              "      <th>2022</th>\n",
              "      <th>4</th>\n",
              "      <td>1968.847543</td>\n",
              "    </tr>\n",
              "    <tr>\n",
              "      <th>Monserrat</th>\n",
              "      <th>2022</th>\n",
              "      <th>4</th>\n",
              "      <td>2101.334809</td>\n",
              "    </tr>\n",
              "    <tr>\n",
              "      <th>Balvanera</th>\n",
              "      <th>2022</th>\n",
              "      <th>4</th>\n",
              "      <td>1819.094963</td>\n",
              "    </tr>\n",
              "    <tr>\n",
              "      <th>Paternal</th>\n",
              "      <th>2022</th>\n",
              "      <th>4</th>\n",
              "      <td>1801.378041</td>\n",
              "    </tr>\n",
              "    <tr>\n",
              "      <th>San Nicolás</th>\n",
              "      <th>2022</th>\n",
              "      <th>4</th>\n",
              "      <td>1707.982817</td>\n",
              "    </tr>\n",
              "    <tr>\n",
              "      <th>Mataderos</th>\n",
              "      <th>2022</th>\n",
              "      <th>4</th>\n",
              "      <td>2040.400712</td>\n",
              "    </tr>\n",
              "    <tr>\n",
              "      <th>Vélez Sarsfield</th>\n",
              "      <th>2022</th>\n",
              "      <th>4</th>\n",
              "      <td>1801.495966</td>\n",
              "    </tr>\n",
              "    <tr>\n",
              "      <th>San Cristóbal</th>\n",
              "      <th>2022</th>\n",
              "      <th>4</th>\n",
              "      <td>1804.532768</td>\n",
              "    </tr>\n",
              "    <tr>\n",
              "      <th>Floresta</th>\n",
              "      <th>2022</th>\n",
              "      <th>4</th>\n",
              "      <td>1777.617937</td>\n",
              "    </tr>\n",
              "    <tr>\n",
              "      <th>Constitución</th>\n",
              "      <th>2022</th>\n",
              "      <th>4</th>\n",
              "      <td>1660.039775</td>\n",
              "    </tr>\n",
              "    <tr>\n",
              "      <th>Villa Riachuelo</th>\n",
              "      <th>2022</th>\n",
              "      <th>4</th>\n",
              "      <td>2520.106752</td>\n",
              "    </tr>\n",
              "    <tr>\n",
              "      <th>Parque Patricios</th>\n",
              "      <th>2022</th>\n",
              "      <th>4</th>\n",
              "      <td>1801.256688</td>\n",
              "    </tr>\n",
              "    <tr>\n",
              "      <th>Boca</th>\n",
              "      <th>2022</th>\n",
              "      <th>4</th>\n",
              "      <td>1400.950577</td>\n",
              "    </tr>\n",
              "    <tr>\n",
              "      <th>Parque Avellaneda</th>\n",
              "      <th>2022</th>\n",
              "      <th>4</th>\n",
              "      <td>1815.789474</td>\n",
              "    </tr>\n",
              "    <tr>\n",
              "      <th>Villa Lugano</th>\n",
              "      <th>2022</th>\n",
              "      <th>4</th>\n",
              "      <td>854.311518</td>\n",
              "    </tr>\n",
              "    <tr>\n",
              "      <th>Villa Soldati</th>\n",
              "      <th>2022</th>\n",
              "      <th>4</th>\n",
              "      <td>2236.842105</td>\n",
              "    </tr>\n",
              "  </tbody>\n",
              "</table>\n",
              "</div>\n",
              "      <button class=\"colab-df-convert\" onclick=\"convertToInteractive('df-758afa1a-fe7c-4c61-aac1-041dac3b2986')\"\n",
              "              title=\"Convert this dataframe to an interactive table.\"\n",
              "              style=\"display:none;\">\n",
              "        \n",
              "  <svg xmlns=\"http://www.w3.org/2000/svg\" height=\"24px\"viewBox=\"0 0 24 24\"\n",
              "       width=\"24px\">\n",
              "    <path d=\"M0 0h24v24H0V0z\" fill=\"none\"/>\n",
              "    <path d=\"M18.56 5.44l.94 2.06.94-2.06 2.06-.94-2.06-.94-.94-2.06-.94 2.06-2.06.94zm-11 1L8.5 8.5l.94-2.06 2.06-.94-2.06-.94L8.5 2.5l-.94 2.06-2.06.94zm10 10l.94 2.06.94-2.06 2.06-.94-2.06-.94-.94-2.06-.94 2.06-2.06.94z\"/><path d=\"M17.41 7.96l-1.37-1.37c-.4-.4-.92-.59-1.43-.59-.52 0-1.04.2-1.43.59L10.3 9.45l-7.72 7.72c-.78.78-.78 2.05 0 2.83L4 21.41c.39.39.9.59 1.41.59.51 0 1.02-.2 1.41-.59l7.78-7.78 2.81-2.81c.8-.78.8-2.07 0-2.86zM5.41 20L4 18.59l7.72-7.72 1.47 1.35L5.41 20z\"/>\n",
              "  </svg>\n",
              "      </button>\n",
              "      \n",
              "  <style>\n",
              "    .colab-df-container {\n",
              "      display:flex;\n",
              "      flex-wrap:wrap;\n",
              "      gap: 12px;\n",
              "    }\n",
              "\n",
              "    .colab-df-convert {\n",
              "      background-color: #E8F0FE;\n",
              "      border: none;\n",
              "      border-radius: 50%;\n",
              "      cursor: pointer;\n",
              "      display: none;\n",
              "      fill: #1967D2;\n",
              "      height: 32px;\n",
              "      padding: 0 0 0 0;\n",
              "      width: 32px;\n",
              "    }\n",
              "\n",
              "    .colab-df-convert:hover {\n",
              "      background-color: #E2EBFA;\n",
              "      box-shadow: 0px 1px 2px rgba(60, 64, 67, 0.3), 0px 1px 3px 1px rgba(60, 64, 67, 0.15);\n",
              "      fill: #174EA6;\n",
              "    }\n",
              "\n",
              "    [theme=dark] .colab-df-convert {\n",
              "      background-color: #3B4455;\n",
              "      fill: #D2E3FC;\n",
              "    }\n",
              "\n",
              "    [theme=dark] .colab-df-convert:hover {\n",
              "      background-color: #434B5C;\n",
              "      box-shadow: 0px 1px 3px 1px rgba(0, 0, 0, 0.15);\n",
              "      filter: drop-shadow(0px 1px 2px rgba(0, 0, 0, 0.3));\n",
              "      fill: #FFFFFF;\n",
              "    }\n",
              "  </style>\n",
              "\n",
              "      <script>\n",
              "        const buttonEl =\n",
              "          document.querySelector('#df-758afa1a-fe7c-4c61-aac1-041dac3b2986 button.colab-df-convert');\n",
              "        buttonEl.style.display =\n",
              "          google.colab.kernel.accessAllowed ? 'block' : 'none';\n",
              "\n",
              "        async function convertToInteractive(key) {\n",
              "          const element = document.querySelector('#df-758afa1a-fe7c-4c61-aac1-041dac3b2986');\n",
              "          const dataTable =\n",
              "            await google.colab.kernel.invokeFunction('convertToInteractive',\n",
              "                                                     [key], {});\n",
              "          if (!dataTable) return;\n",
              "\n",
              "          const docLinkHtml = 'Like what you see? Visit the ' +\n",
              "            '<a target=\"_blank\" href=https://colab.research.google.com/notebooks/data_table.ipynb>data table notebook</a>'\n",
              "            + ' to learn more about interactive tables.';\n",
              "          element.innerHTML = '';\n",
              "          dataTable['output_type'] = 'display_data';\n",
              "          await google.colab.output.renderOutput(dataTable, element);\n",
              "          const docLink = document.createElement('div');\n",
              "          docLink.innerHTML = docLinkHtml;\n",
              "          element.appendChild(docLink);\n",
              "        }\n",
              "      </script>\n",
              "    </div>\n",
              "  </div>\n",
              "  "
            ]
          },
          "metadata": {},
          "execution_count": 101
        }
      ]
    },
    {
      "cell_type": "markdown",
      "source": [
        "###Título de aviso"
      ],
      "metadata": {
        "id": "79G1eU9U1GGc"
      }
    },
    {
      "cell_type": "markdown",
      "source": [
        "(Poco aconsejable analizar directamente la base de datos entera por este método)\n",
        "No parece haber información demasiado útil. Mayoritariamente direcciones y algunos datos básicos."
      ],
      "metadata": {
        "id": "TkxIVl2k1TGh"
      }
    },
    {
      "cell_type": "code",
      "source": [
        "df_pred_title = df_pred['title'].astype(str).str.lower()"
      ],
      "metadata": {
        "id": "BeUxtZpb1TGi"
      },
      "execution_count": 102,
      "outputs": []
    },
    {
      "cell_type": "code",
      "source": [
        "regexp = RegexpTokenizer('\\w+')\n",
        "df_pred_title = df_pred_title.apply(regexp.tokenize)"
      ],
      "metadata": {
        "id": "V-WzroyZ1TGi"
      },
      "execution_count": 103,
      "outputs": []
    },
    {
      "cell_type": "code",
      "source": [
        "stopwords = nltk.corpus.stopwords.words(\"spanish\")\n",
        "stopwords.extend(['es', 'osea', 'sólo','br'])\n",
        "\n",
        "df_pred_title = df_pred_title.apply(lambda texto: [token for token in texto if token not in stopwords])\n",
        "#df_pred[\"description\"]"
      ],
      "metadata": {
        "id": "OwvEwgai1TGi"
      },
      "execution_count": 104,
      "outputs": []
    },
    {
      "cell_type": "code",
      "source": [
        "df_pred_title = df_pred_title.str.join(' ')"
      ],
      "metadata": {
        "id": "YwxQPo4B1TGi"
      },
      "execution_count": 105,
      "outputs": []
    },
    {
      "cell_type": "code",
      "source": [
        "vectorizer = CountVectorizer(analyzer='word', ngram_range=(1, 1), min_df=0.005, max_df=0.7, strip_accents='ascii', max_features=2000, lowercase = False)\n",
        "vectorized_data = vectorizer.fit_transform(df_pred_title)"
      ],
      "metadata": {
        "id": "3GsOT9-h1TGi"
      },
      "execution_count": 106,
      "outputs": []
    },
    {
      "cell_type": "code",
      "source": [
        "count_df_pred_t = pd.DataFrame(vectorized_data.toarray(), columns=vectorizer.get_feature_names_out(), index = df_pred.index)"
      ],
      "metadata": {
        "id": "A1t_9C3o1TGi"
      },
      "execution_count": 107,
      "outputs": []
    },
    {
      "cell_type": "code",
      "source": [
        "count_df_pred_t.sum().sort_values(ascending = False).head(50)"
      ],
      "metadata": {
        "colab": {
          "base_uri": "https://localhost:8080/"
        },
        "outputId": "ff0a6da5-daac-4194-ad6e-4a17a9e29320",
        "id": "iWrHQCWA1TGi"
      },
      "execution_count": 108,
      "outputs": [
        {
          "output_type": "execute_result",
          "data": {
            "text/plain": [
              "bano           757\n",
              "dormitorios    599\n",
              "dormitorio     352\n",
              "banos          324\n",
              "ph             276\n",
              "palermo        218\n",
              "villa          157\n",
              "av             122\n",
              "belgrano       119\n",
              "recoleta       100\n",
              "caballito       77\n",
              "san             73\n",
              "1400            63\n",
              "crespo          58\n",
              "almagro         58\n",
              "800             57\n",
              "moldes          41\n",
              "arevalo         41\n",
              "nunez           41\n",
              "barracas        39\n",
              "urquiza         37\n",
              "flores          36\n",
              "200             36\n",
              "34              35\n",
              "36              35\n",
              "400             35\n",
              "balvanera       34\n",
              "1000            34\n",
              "parque          33\n",
              "100             30\n",
              "1300            30\n",
              "1200            29\n",
              "35              28\n",
              "55              28\n",
              "33              27\n",
              "colegiales      27\n",
              "40              27\n",
              "sup             27\n",
              "38              26\n",
              "2200            25\n",
              "1800            25\n",
              "47              25\n",
              "telmo           25\n",
              "saavedra        24\n",
              "paraguay        23\n",
              "1500            23\n",
              "45              23\n",
              "1600            23\n",
              "700             22\n",
              "boedo           21\n",
              "dtype: int64"
            ]
          },
          "metadata": {},
          "execution_count": 108
        }
      ]
    },
    {
      "cell_type": "markdown",
      "source": [
        "###Descripción"
      ],
      "metadata": {
        "id": "5nZYYMXdYsDR"
      }
    },
    {
      "cell_type": "markdown",
      "source": [
        "(Poco aconsejable analizar directamente la base de datos entera por este método)"
      ],
      "metadata": {
        "id": "KrUYUdQbYy3y"
      }
    },
    {
      "cell_type": "code",
      "source": [
        "df_pred_description = df_pred['description'].astype(str).str.lower()"
      ],
      "metadata": {
        "id": "U7yQzU6xYxTK"
      },
      "execution_count": 109,
      "outputs": []
    },
    {
      "cell_type": "code",
      "source": [
        "regexp = RegexpTokenizer('\\w+')\n",
        "df_pred_description = df_pred_description.apply(regexp.tokenize)"
      ],
      "metadata": {
        "id": "CoZqTSyNYxTK"
      },
      "execution_count": 110,
      "outputs": []
    },
    {
      "cell_type": "code",
      "source": [
        "stopwords = nltk.corpus.stopwords.words(\"spanish\")\n",
        "stopwords.extend(['es', 'osea', 'sólo','br','nbsp'])\n",
        "\n",
        "df_pred_description = df_pred_description.apply(lambda texto: [token for token in texto if token not in stopwords])"
      ],
      "metadata": {
        "id": "1f7a037HYxTK"
      },
      "execution_count": 111,
      "outputs": []
    },
    {
      "cell_type": "code",
      "source": [
        "df_pred_description = df_pred_description.str.join(' ')"
      ],
      "metadata": {
        "id": "1aFQG6ftYxTK"
      },
      "execution_count": 112,
      "outputs": []
    },
    {
      "cell_type": "code",
      "source": [
        "vectorizer = CountVectorizer(analyzer='word', ngram_range=(1, 1), min_df=0.005, max_df=0.7, strip_accents='ascii', max_features=2000, lowercase = False)\n",
        "vectorized_data = vectorizer.fit_transform(df_pred_description)"
      ],
      "metadata": {
        "id": "ypoR6dh1YxTK"
      },
      "execution_count": 113,
      "outputs": []
    },
    {
      "cell_type": "code",
      "source": [
        "count_df_pred_d = pd.DataFrame(vectorized_data.toarray(), columns=vectorizer.get_feature_names_out(), index = df_pred.index)"
      ],
      "metadata": {
        "id": "LYd_v9B9YxTL"
      },
      "execution_count": 114,
      "outputs": []
    },
    {
      "cell_type": "code",
      "source": [
        "count_df_pred_d.sum().sort_values(ascending = False).head(50)"
      ],
      "metadata": {
        "colab": {
          "base_uri": "https://localhost:8080/"
        },
        "outputId": "c49e6930-199c-4916-eaa6-ae225ac0c200",
        "id": "OjLhgrq1YxTL"
      },
      "execution_count": 115,
      "outputs": [
        {
          "output_type": "execute_result",
          "data": {
            "text/plain": [
              "ambientes        1419\n",
              "m2               1081\n",
              "piso             1021\n",
              "propiedad        1018\n",
              "bano              992\n",
              "expensas          979\n",
              "comedor           918\n",
              "av                878\n",
              "living            831\n",
              "balcon            799\n",
              "inmueble          736\n",
              "edificio          733\n",
              "departamento      732\n",
              "medidas           671\n",
              "pisos             664\n",
              "completo          646\n",
              "encuentra         594\n",
              "unidades          587\n",
              "ley               584\n",
              "frente            580\n",
              "excelente         575\n",
              "dos               571\n",
              "caso              557\n",
              "descripcion       544\n",
              "dormitorio        502\n",
              "cuenta            501\n",
              "entrega           491\n",
              "barrio            476\n",
              "amplio            469\n",
              "dormitorios       460\n",
              "terraza           452\n",
              "lavadero          428\n",
              "ser               415\n",
              "luminoso          414\n",
              "profesional       414\n",
              "tratarse          414\n",
              "superficie        409\n",
              "patio             398\n",
              "ubicacion         395\n",
              "linea             395\n",
              "matricula         391\n",
              "metros            391\n",
              "sujetos           390\n",
              "independiente     388\n",
              "valor             387\n",
              "puede             385\n",
              "planta            381\n",
              "gran              379\n",
              "total             379\n",
              "personas          371\n",
              "dtype: int64"
            ]
          },
          "metadata": {},
          "execution_count": 115
        }
      ]
    },
    {
      "cell_type": "code",
      "source": [
        "count_df_pred_d.sum().sort_values(ascending = False).to_csv('keyword_description_pred.csv')"
      ],
      "metadata": {
        "id": "keW7PsSg52ID"
      },
      "execution_count": 116,
      "outputs": []
    },
    {
      "cell_type": "markdown",
      "source": [
        "###Otras columnas textuales del conjunto a predecir"
      ],
      "metadata": {
        "id": "VjH2s5icx0Ej"
      }
    },
    {
      "cell_type": "markdown",
      "source": [
        "Detalles\n",
        "\n",
        "Parece solo tener información sobre cocheras"
      ],
      "metadata": {
        "id": "LeoOlOZ2zKqG"
      }
    },
    {
      "cell_type": "code",
      "source": [
        "df_pred_details = df_pred['details'].astype(str).str.lower()"
      ],
      "metadata": {
        "id": "rl97Fsgbx-au"
      },
      "execution_count": 117,
      "outputs": []
    },
    {
      "cell_type": "code",
      "source": [
        "regexp = RegexpTokenizer('\\w+')\n",
        "df_pred_details = df_pred_details.apply(regexp.tokenize)"
      ],
      "metadata": {
        "id": "U6lPDzBox-au"
      },
      "execution_count": 118,
      "outputs": []
    },
    {
      "cell_type": "code",
      "source": [
        "stopwords = nltk.corpus.stopwords.words(\"spanish\")\n",
        "stopwords.extend(['es', 'osea', 'sólo','br','nbsp'])\n",
        "\n",
        "df_pred_details = df_pred_details.apply(lambda texto: [token for token in texto if token not in stopwords])"
      ],
      "metadata": {
        "id": "B7MM1u7ix-au"
      },
      "execution_count": 119,
      "outputs": []
    },
    {
      "cell_type": "code",
      "source": [
        "df_pred_details = df_pred_details.str.join(' ')"
      ],
      "metadata": {
        "id": "JhAwSxmux-av"
      },
      "execution_count": 120,
      "outputs": []
    },
    {
      "cell_type": "code",
      "source": [
        "vectorizer = CountVectorizer(analyzer='word', ngram_range=(1, 1), min_df=0.005, max_df=0.7, strip_accents='ascii', max_features=2000, lowercase = False)\n",
        "vectorized_data = vectorizer.fit_transform(df_pred_details)"
      ],
      "metadata": {
        "id": "pABI_Saqx-av"
      },
      "execution_count": 121,
      "outputs": []
    },
    {
      "cell_type": "code",
      "source": [
        "count_df_pred_de = pd.DataFrame(vectorized_data.toarray(), columns=vectorizer.get_feature_names_out(), index = df_pred.index)"
      ],
      "metadata": {
        "id": "TDJ3RYgax-av"
      },
      "execution_count": 122,
      "outputs": []
    },
    {
      "cell_type": "code",
      "source": [
        "count_df_pred_de.sum().sort_values(ascending = False).head(50)"
      ],
      "metadata": {
        "colab": {
          "base_uri": "https://localhost:8080/"
        },
        "outputId": "b6034e8f-f996-4721-b84a-b35b9b79bb25",
        "id": "tBXu6SeSx-av"
      },
      "execution_count": 123,
      "outputs": [
        {
          "output_type": "execute_result",
          "data": {
            "text/plain": [
              "anos             747\n",
              "pisos            603\n",
              "cantidad         603\n",
              "toilette         264\n",
              "cocheras         175\n",
              "piso             163\n",
              "departamentos    163\n",
              "antiguedad40      81\n",
              "antiguedad60      73\n",
              "antiguedad50      72\n",
              "5m2               62\n",
              "10                62\n",
              "antiguedad45      53\n",
              "orientacion       51\n",
              "31                46\n",
              "38m2              39\n",
              "72m2              38\n",
              "7m2               37\n",
              "75m2              37\n",
              "36                36\n",
              "6m2               35\n",
              "antiguedad30      34\n",
              "45m2              31\n",
              "55m2              31\n",
              "34                31\n",
              "33m2              31\n",
              "8m2               31\n",
              "32                30\n",
              "antiguedad70      30\n",
              "antiguedad10      30\n",
              "40m2              29\n",
              "35                29\n",
              "85m2              29\n",
              "80m2              28\n",
              "14                28\n",
              "apto              27\n",
              "35m2              27\n",
              "profesionalsi     27\n",
              "64m2              26\n",
              "65m2              26\n",
              "68m2              26\n",
              "62m2              26\n",
              "40                25\n",
              "60m2              25\n",
              "58m2              25\n",
              "34m2              23\n",
              "antiguedad20      23\n",
              "antiguedad52      23\n",
              "antiguedad35      22\n",
              "13                22\n",
              "dtype: int64"
            ]
          },
          "metadata": {},
          "execution_count": 123
        }
      ]
    },
    {
      "cell_type": "code",
      "source": [
        "count_df_pred_de.sum().sort_values(ascending = False).to_csv('keyword_details_pred.csv')"
      ],
      "metadata": {
        "id": "zuyfdI2i6pbz"
      },
      "execution_count": 124,
      "outputs": []
    },
    {
      "cell_type": "markdown",
      "source": [
        "Adicionales\n",
        "\n",
        "Hay algunos candidatos a generar dummies (balcón, terraza, mascota, pileta, patio, aire acondicionado, SUM, laundry, gimnasio, calefacción, seguridad/alarma)"
      ],
      "metadata": {
        "id": "UpZPUoCqzNRz"
      }
    },
    {
      "cell_type": "code",
      "source": [
        "df_pred_additionals = df_pred['additionals'].astype(str).str.lower()"
      ],
      "metadata": {
        "id": "_lMXmcQTzPUD"
      },
      "execution_count": 125,
      "outputs": []
    },
    {
      "cell_type": "code",
      "source": [
        "regexp = RegexpTokenizer('\\w+')\n",
        "df_pred_additionals = df_pred_additionals.apply(regexp.tokenize)"
      ],
      "metadata": {
        "id": "ghGg8CIAzPUE"
      },
      "execution_count": 126,
      "outputs": []
    },
    {
      "cell_type": "code",
      "source": [
        "stopwords = nltk.corpus.stopwords.words(\"spanish\")\n",
        "stopwords.extend(['es', 'osea', 'sólo','br','nbsp'])\n",
        "\n",
        "df_pred_additionals = df_pred_additionals.apply(lambda texto: [token for token in texto if token not in stopwords])"
      ],
      "metadata": {
        "id": "DmBb2MjYzPUE"
      },
      "execution_count": 127,
      "outputs": []
    },
    {
      "cell_type": "code",
      "source": [
        "df_pred_additionals = df_pred_additionals.str.join(' ')"
      ],
      "metadata": {
        "id": "D-bBLIiHzPUE"
      },
      "execution_count": 128,
      "outputs": []
    },
    {
      "cell_type": "code",
      "source": [
        "vectorizer = CountVectorizer(analyzer='word', ngram_range=(1, 1), min_df=0.005, max_df=0.7, strip_accents='ascii', max_features=2000, lowercase = False)\n",
        "vectorized_data = vectorizer.fit_transform(df_pred_additionals)"
      ],
      "metadata": {
        "id": "ydKuN6UQzPUE"
      },
      "execution_count": 129,
      "outputs": []
    },
    {
      "cell_type": "code",
      "source": [
        "count_df_pred_a = pd.DataFrame(vectorized_data.toarray(), columns=vectorizer.get_feature_names_out(), index = df_pred.index)"
      ],
      "metadata": {
        "id": "XAD81p7-zPUE"
      },
      "execution_count": 130,
      "outputs": []
    },
    {
      "cell_type": "code",
      "source": [
        "count_df_pred_a.sum().sort_values(ascending = False).head(50)"
      ],
      "metadata": {
        "colab": {
          "base_uri": "https://localhost:8080/"
        },
        "outputId": "863494ac-9878-4550-ec63-40834086748a",
        "id": "rFzESZCuzPUE"
      },
      "execution_count": 131,
      "outputs": [
        {
          "output_type": "execute_result",
          "data": {
            "text/plain": [
              "balcon           512\n",
              "terraza          418\n",
              "aire             305\n",
              "acondicionado    297\n",
              "sum              296\n",
              "mascotas         259\n",
              "aceptan          259\n",
              "pileta           144\n",
              "patio            139\n",
              "laundry          137\n",
              "nan              132\n",
              "gimnasio         101\n",
              "calefaccion       66\n",
              "seguridad         59\n",
              "alarma            18\n",
              "centralizado       8\n",
              "family             6\n",
              "room               6\n",
              "dtype: int64"
            ]
          },
          "metadata": {},
          "execution_count": 131
        }
      ]
    },
    {
      "cell_type": "code",
      "source": [
        "count_df_pred_a.sum().sort_values(ascending = False).to_csv('keyword_additionals_pred.csv')"
      ],
      "metadata": {
        "id": "ZRSu09UtA-jE"
      },
      "execution_count": 132,
      "outputs": []
    },
    {
      "cell_type": "markdown",
      "source": [
        "Servicio\n",
        "\n",
        "Podría generar dos dummies si hay información similar en la base de datos de Properati."
      ],
      "metadata": {
        "id": "49-VRom-zvqM"
      }
    },
    {
      "cell_type": "code",
      "source": [
        "df_pred_services = df_pred['services'].astype(str).str.lower()"
      ],
      "metadata": {
        "id": "PjCvSEeOz1pH"
      },
      "execution_count": 133,
      "outputs": []
    },
    {
      "cell_type": "code",
      "source": [
        "regexp = RegexpTokenizer('\\w+')\n",
        "df_pred_services = df_pred_services.apply(regexp.tokenize)"
      ],
      "metadata": {
        "id": "HF2wXiSjz1pH"
      },
      "execution_count": 134,
      "outputs": []
    },
    {
      "cell_type": "code",
      "source": [
        "stopwords = nltk.corpus.stopwords.words(\"spanish\")\n",
        "stopwords.extend(['es', 'osea', 'sólo','br','nbsp'])\n",
        "\n",
        "df_pred_services = df_pred_services.apply(lambda texto: [token for token in texto if token not in stopwords])"
      ],
      "metadata": {
        "id": "8U0JRogDz1pH"
      },
      "execution_count": 135,
      "outputs": []
    },
    {
      "cell_type": "code",
      "source": [
        "df_pred_services = df_pred_services.str.join(' ')"
      ],
      "metadata": {
        "id": "2o20fvbxz1pH"
      },
      "execution_count": 136,
      "outputs": []
    },
    {
      "cell_type": "code",
      "source": [
        "vectorizer = CountVectorizer(analyzer='word', ngram_range=(1, 1), min_df=0.005, max_df=0.7, strip_accents='ascii', max_features=2000, lowercase = False)\n",
        "vectorized_data = vectorizer.fit_transform(df_pred_services)"
      ],
      "metadata": {
        "id": "FFfAWNbaz1pI"
      },
      "execution_count": 137,
      "outputs": []
    },
    {
      "cell_type": "code",
      "source": [
        "count_df_pred_s = pd.DataFrame(vectorized_data.toarray(), columns=vectorizer.get_feature_names_out(), index = df_pred.index)"
      ],
      "metadata": {
        "id": "DpQcniA_z1pI"
      },
      "execution_count": 138,
      "outputs": []
    },
    {
      "cell_type": "code",
      "source": [
        "count_df_pred_s.sum().sort_values(ascending = False).head(50)"
      ],
      "metadata": {
        "colab": {
          "base_uri": "https://localhost:8080/"
        },
        "outputId": "7d53c21d-c115-4eb8-870a-612f2e9bb574",
        "id": "psRKct9Rz1pI"
      },
      "execution_count": 139,
      "outputs": [
        {
          "output_type": "execute_result",
          "data": {
            "text/plain": [
              "gas    720\n",
              "luz    706\n",
              "nan    245\n",
              "dtype: int64"
            ]
          },
          "metadata": {},
          "execution_count": 139
        }
      ]
    },
    {
      "cell_type": "markdown",
      "source": [
        "# Tratamiento de los datos"
      ],
      "metadata": {
        "id": "zjaTnfxkyvo8"
      }
    },
    {
      "cell_type": "code",
      "source": [
        "df_t = df_train.copy()\n",
        "df_p = df_pred.copy()"
      ],
      "metadata": {
        "id": "zJZpL9agklEK"
      },
      "execution_count": 140,
      "outputs": []
    },
    {
      "cell_type": "markdown",
      "source": [
        "##Primer filtrado de la base de datos y arreglos básicos"
      ],
      "metadata": {
        "id": "iRDkFQxO7SAs"
      }
    },
    {
      "cell_type": "markdown",
      "source": [
        "###Filtrado de datos"
      ],
      "metadata": {
        "id": "wPzj_XygHH3d"
      }
    },
    {
      "cell_type": "markdown",
      "source": [
        "Estos filtros están perfectos, aún así ver si se puede recuperar precio desde los avisos"
      ],
      "metadata": {
        "id": "YFcbOTSFj7iE"
      }
    },
    {
      "cell_type": "code",
      "source": [
        "# seleccion de datos de demostración. cambiar\n",
        "df_t = df_t.loc[(df_t.l1 == \"Argentina\") & (df_t.l2 == \"Capital Federal\") & (df_t.operation_type == 'Venta') & ((df_t.property_type == 'Departamento') | (df_t.property_type == 'PH'))]\n",
        "df_t.drop(columns = ['ad_type','l1','l2','l5','l6'], inplace = True)\n",
        "df_t.shape"
      ],
      "metadata": {
        "colab": {
          "base_uri": "https://localhost:8080/"
        },
        "id": "mJBVabooNP_J",
        "outputId": "0b29c815-8c51-47d9-bf38-0960f92add90"
      },
      "execution_count": 141,
      "outputs": [
        {
          "output_type": "stream",
          "name": "stderr",
          "text": [
            "/usr/local/lib/python3.7/dist-packages/pandas/core/frame.py:4913: SettingWithCopyWarning: \n",
            "A value is trying to be set on a copy of a slice from a DataFrame\n",
            "\n",
            "See the caveats in the documentation: https://pandas.pydata.org/pandas-docs/stable/user_guide/indexing.html#returning-a-view-versus-a-copy\n",
            "  errors=errors,\n"
          ]
        },
        {
          "output_type": "execute_result",
          "data": {
            "text/plain": [
              "(147625, 19)"
            ]
          },
          "metadata": {},
          "execution_count": 141
        }
      ]
    },
    {
      "cell_type": "code",
      "source": [
        "df_p.drop(columns = ['ad_type','l1','l2','l5','l6'], inplace = True)\n",
        "#df_p.drop(columns = ['Details','Additionals','Services'], inplace = True)#ojo, puede tener algo de información relevante"
      ],
      "metadata": {
        "id": "hkMjScCGet-1"
      },
      "execution_count": 142,
      "outputs": []
    },
    {
      "cell_type": "markdown",
      "source": [
        "###Arreglo las columnas de las coordenadas para el conjunto de predicción"
      ],
      "metadata": {
        "id": "jhDnbNJGtCJp"
      }
    },
    {
      "cell_type": "code",
      "source": [
        "df_p.rename(columns = {\"lon\":\"lat\",\"lat\":\"lon\"},inplace = True)"
      ],
      "metadata": {
        "id": "y6K3hTZaoEUU"
      },
      "execution_count": 143,
      "outputs": []
    },
    {
      "cell_type": "markdown",
      "source": [
        "###Arreglo Barrios"
      ],
      "metadata": {
        "id": "18_k8BKJHYwf"
      }
    },
    {
      "cell_type": "markdown",
      "source": [
        "Arreglo l3 y lleno l4 donde haga sentido. Utilicé zonaprops para tener una idea cuáles tienen precio por m2 similar."
      ],
      "metadata": {
        "id": "WSFgCl-FyTBK"
      }
    },
    {
      "cell_type": "code",
      "source": [
        "neighborhood_dict = {'Abasto' : 'Balvanera', 'Congreso' : 'Balvanera','Once' : 'Balvanera',\n",
        "                     'Pompeya' : 'Nueva Pompeya',\n",
        "                     'Nuñez' : 'Núñez',\n",
        "                     'Las Cañitas': 'Palermo','2 Ambientes': 'Palermo',\n",
        "                     'Barrio Norte': 'Recoleta',\n",
        "                     'Catalinas': 'Retiro','Centro / Microcentro': 'Retiro',\n",
        "                     'GBA Norte': 'Saavedra',\n",
        "                     'San Cristobal':'San Cristóbal',\n",
        "                     'Tribunales':'San Nicolás',\n",
        "                     'Parque Centenario': 'Villa Crespo',\n",
        "                     'Velez Sarsfield':'Vélez Sarsfield',\n",
        "                     'Villa Ortuzar': 'Villa Ortúzar',\n",
        "                     'Villa Pueyrredon': 'Villa Pueyrredón'}"
      ],
      "metadata": {
        "id": "tTq24OUXiyzZ"
      },
      "execution_count": 144,
      "outputs": []
    },
    {
      "cell_type": "code",
      "source": [
        "notl4list = ['Núñez','Pompeya','San Cristobal','Villa Ortuzar','Villa Pueyrredon','Velez Sarsfield','2 Ambientes']"
      ],
      "metadata": {
        "id": "FdcDksXBtzV-"
      },
      "execution_count": 145,
      "outputs": []
    },
    {
      "cell_type": "code",
      "source": [
        "def neighborhood_fix(row,n_dict,notl4list):\n",
        "  if(pd.notna(row.l3) and (row.l3 in n_dict.keys())):\n",
        "    if(not (row.l3 in notl4list)):\n",
        "      row.l4 = row.l3\n",
        "    row.l3 = n_dict[row.l3]\n",
        "  return row"
      ],
      "metadata": {
        "id": "CuwwVLQEnRwX"
      },
      "execution_count": 146,
      "outputs": []
    },
    {
      "cell_type": "code",
      "source": [
        "df_t = df_t.apply(lambda x: neighborhood_fix(x,neighborhood_dict,notl4list),axis = 'columns')"
      ],
      "metadata": {
        "id": "gJZL4E3YrO49"
      },
      "execution_count": 147,
      "outputs": []
    },
    {
      "cell_type": "code",
      "source": [
        "df_p = df_p.apply(lambda x: neighborhood_fix(x,neighborhood_dict,notl4list),axis = 'columns')"
      ],
      "metadata": {
        "id": "zgWq6diaE1xh"
      },
      "execution_count": 148,
      "outputs": []
    },
    {
      "cell_type": "markdown",
      "source": [
        "###Conversión de precios a Abril de 2022"
      ],
      "metadata": {
        "id": "cz5NgB1nHdtW"
      }
    },
    {
      "cell_type": "markdown",
      "source": [
        "Divido por el precio por unidad de superficie de un mes específico y lo multiplico por el de abril de 2022 para ajustar los precios."
      ],
      "metadata": {
        "id": "eHPDff3Qr7Gl"
      }
    },
    {
      "cell_type": "code",
      "source": [
        "def price_converter(row,new_year,new_month,df_usdpersqm):\n",
        "  if(pd.notna(row.l3)):\n",
        "    row['price'] = row['price'] * float(df_usdpersqm.loc[row.l3,new_year,new_month]) / float(df_usdpersqm.loc[row.l3,row.created_on.year,row.created_on.month])\n",
        "  return row"
      ],
      "metadata": {
        "id": "oz603OEGs6ug"
      },
      "execution_count": 149,
      "outputs": []
    },
    {
      "cell_type": "code",
      "source": [
        "float(df_usdpersqm.loc['Villa Soldati',2021,2])"
      ],
      "metadata": {
        "id": "trzOu5xx1zDN",
        "colab": {
          "base_uri": "https://localhost:8080/"
        },
        "outputId": "57be8921-0b81-43e9-ebd6-ab7fe096aeee"
      },
      "execution_count": 150,
      "outputs": [
        {
          "output_type": "execute_result",
          "data": {
            "text/plain": [
              "1268.5967657798644"
            ]
          },
          "metadata": {},
          "execution_count": 150
        }
      ]
    },
    {
      "cell_type": "code",
      "source": [
        "df_t = df_t.apply(lambda x: price_converter(x,2022,4,df_usdpersqm),axis = 'columns')"
      ],
      "metadata": {
        "id": "QHzvbbLUyyF1"
      },
      "execution_count": 151,
      "outputs": []
    },
    {
      "cell_type": "markdown",
      "source": [
        "###Estadísticas descriptivas de properati filtrado"
      ],
      "metadata": {
        "id": "wxp7hEOrjqbL"
      }
    },
    {
      "cell_type": "code",
      "source": [
        "df_t.info()"
      ],
      "metadata": {
        "colab": {
          "base_uri": "https://localhost:8080/"
        },
        "id": "T3y7ltihfGMO",
        "outputId": "fc55134f-ec4d-41c7-9b7f-94df2c6f14c7"
      },
      "execution_count": 152,
      "outputs": [
        {
          "output_type": "stream",
          "name": "stdout",
          "text": [
            "<class 'pandas.core.frame.DataFrame'>\n",
            "Index: 147625 entries, U3qdJMKXnOJm0Y1tWpnnfg== to No3is+HhwUGlfgQfzsZbdg==\n",
            "Data columns (total 19 columns):\n",
            " #   Column           Non-Null Count   Dtype         \n",
            "---  ------           --------------   -----         \n",
            " 0   start_date       147625 non-null  datetime64[ns]\n",
            " 1   end_date         147625 non-null  object        \n",
            " 2   created_on       147625 non-null  datetime64[ns]\n",
            " 3   lat              138700 non-null  float64       \n",
            " 4   lon              138700 non-null  float64       \n",
            " 5   l3               147016 non-null  object        \n",
            " 6   l4               19437 non-null   object        \n",
            " 7   rooms            140422 non-null  float64       \n",
            " 8   bedrooms         123074 non-null  float64       \n",
            " 9   bathrooms        140769 non-null  float64       \n",
            " 10  surface_total    100529 non-null  float64       \n",
            " 11  surface_covered  101841 non-null  float64       \n",
            " 12  price            145536 non-null  float64       \n",
            " 13  currency         145342 non-null  object        \n",
            " 14  price_period     69824 non-null   object        \n",
            " 15  title            147625 non-null  object        \n",
            " 16  description      147625 non-null  object        \n",
            " 17  property_type    147625 non-null  object        \n",
            " 18  operation_type   147625 non-null  object        \n",
            "dtypes: datetime64[ns](2), float64(8), object(9)\n",
            "memory usage: 22.5+ MB\n"
          ]
        }
      ]
    },
    {
      "cell_type": "code",
      "source": [
        "sns.scatterplot(data = df_t, x = 'lon', y = 'lat');"
      ],
      "metadata": {
        "colab": {
          "base_uri": "https://localhost:8080/",
          "height": 279
        },
        "id": "wwlgLNgjhFDo",
        "outputId": "b96662a4-c440-4a85-8b92-9d79703fae6b"
      },
      "execution_count": 153,
      "outputs": [
        {
          "output_type": "display_data",
          "data": {
            "text/plain": [
              "<Figure size 432x288 with 1 Axes>"
            ],
            "image/png": "[encoded data removed]"
          },
          "metadata": {
            "needs_background": "light"
          }
        }
      ]
    },
    {
      "cell_type": "code",
      "source": [
        "df_t.describe(datetime_is_numeric = True)"
      ],
      "metadata": {
        "colab": {
          "base_uri": "https://localhost:8080/",
          "height": 468
        },
        "id": "2ON4JGPihtXq",
        "outputId": "0c8f2701-08e0-48f2-81bb-384d38fe4514"
      },
      "execution_count": 154,
      "outputs": [
        {
          "output_type": "execute_result",
          "data": {
            "text/plain": [
              "                          start_date                     created_on  \\\n",
              "count                         147625                         147625   \n",
              "mean   2020-12-02 18:21:00.225571584  2020-12-02 18:21:00.225571584   \n",
              "min              2020-05-24 00:00:00            2020-05-24 00:00:00   \n",
              "25%              2020-08-30 00:00:00            2020-08-30 00:00:00   \n",
              "50%              2020-11-19 00:00:00            2020-11-19 00:00:00   \n",
              "75%              2021-03-23 00:00:00            2021-03-23 00:00:00   \n",
              "max              2021-06-17 00:00:00            2021-06-17 00:00:00   \n",
              "std                              NaN                            NaN   \n",
              "\n",
              "                 lat            lon          rooms       bedrooms  \\\n",
              "count  138700.000000  138700.000000  140422.000000  123074.000000   \n",
              "mean      -34.593454     -58.446154       2.664582       1.887978   \n",
              "min       -53.788624    -100.469651       1.000000      -1.000000   \n",
              "25%       -34.614646     -58.463032       2.000000       1.000000   \n",
              "50%       -34.595045     -58.439021       3.000000       2.000000   \n",
              "75%       -34.576052     -58.410345       3.000000       3.000000   \n",
              "max        29.753374      -5.490771      35.000000     153.000000   \n",
              "std         0.321520       0.385287       1.327704       1.409456   \n",
              "\n",
              "           bathrooms  surface_total  surface_covered         price  \n",
              "count  140769.000000  100529.000000    101841.000000  1.455360e+05  \n",
              "mean        1.497830     111.855524        90.172190  2.234368e+05  \n",
              "min         1.000000      10.000000         1.000000  0.000000e+00  \n",
              "25%         1.000000      44.000000        40.000000  9.069601e+04  \n",
              "50%         1.000000      64.000000        56.000000  1.350372e+05  \n",
              "75%         2.000000     100.000000        85.000000  2.218347e+05  \n",
              "max        18.000000  140380.000000    123000.000000  1.110000e+08  \n",
              "std         0.823584    1173.611459       929.303025  6.337717e+05  "
            ],
            "text/html": [
              "\n",
              "  <div id=\"df-b96cad90-9914-4406-bab3-755f4e499e29\">\n",
              "    <div class=\"colab-df-container\">\n",
              "      <div>\n",
              "<style scoped>\n",
              "    .dataframe tbody tr th:only-of-type {\n",
              "        vertical-align: middle;\n",
              "    }\n",
              "\n",
              "    .dataframe tbody tr th {\n",
              "        vertical-align: top;\n",
              "    }\n",
              "\n",
              "    .dataframe thead th {\n",
              "        text-align: right;\n",
              "    }\n",
              "</style>\n",
              "<table border=\"1\" class=\"dataframe\">\n",
              "  <thead>\n",
              "    <tr style=\"text-align: right;\">\n",
              "      <th></th>\n",
              "      <th>start_date</th>\n",
              "      <th>created_on</th>\n",
              "      <th>lat</th>\n",
              "      <th>lon</th>\n",
              "      <th>rooms</th>\n",
              "      <th>bedrooms</th>\n",
              "      <th>bathrooms</th>\n",
              "      <th>surface_total</th>\n",
              "      <th>surface_covered</th>\n",
              "      <th>price</th>\n",
              "    </tr>\n",
              "  </thead>\n",
              "  <tbody>\n",
              "    <tr>\n",
              "      <th>count</th>\n",
              "      <td>147625</td>\n",
              "      <td>147625</td>\n",
              "      <td>138700.000000</td>\n",
              "      <td>138700.000000</td>\n",
              "      <td>140422.000000</td>\n",
              "      <td>123074.000000</td>\n",
              "      <td>140769.000000</td>\n",
              "      <td>100529.000000</td>\n",
              "      <td>101841.000000</td>\n",
              "      <td>1.455360e+05</td>\n",
              "    </tr>\n",
              "    <tr>\n",
              "      <th>mean</th>\n",
              "      <td>2020-12-02 18:21:00.225571584</td>\n",
              "      <td>2020-12-02 18:21:00.225571584</td>\n",
              "      <td>-34.593454</td>\n",
              "      <td>-58.446154</td>\n",
              "      <td>2.664582</td>\n",
              "      <td>1.887978</td>\n",
              "      <td>1.497830</td>\n",
              "      <td>111.855524</td>\n",
              "      <td>90.172190</td>\n",
              "      <td>2.234368e+05</td>\n",
              "    </tr>\n",
              "    <tr>\n",
              "      <th>min</th>\n",
              "      <td>2020-05-24 00:00:00</td>\n",
              "      <td>2020-05-24 00:00:00</td>\n",
              "      <td>-53.788624</td>\n",
              "      <td>-100.469651</td>\n",
              "      <td>1.000000</td>\n",
              "      <td>-1.000000</td>\n",
              "      <td>1.000000</td>\n",
              "      <td>10.000000</td>\n",
              "      <td>1.000000</td>\n",
              "      <td>0.000000e+00</td>\n",
              "    </tr>\n",
              "    <tr>\n",
              "      <th>25%</th>\n",
              "      <td>2020-08-30 00:00:00</td>\n",
              "      <td>2020-08-30 00:00:00</td>\n",
              "      <td>-34.614646</td>\n",
              "      <td>-58.463032</td>\n",
              "      <td>2.000000</td>\n",
              "      <td>1.000000</td>\n",
              "      <td>1.000000</td>\n",
              "      <td>44.000000</td>\n",
              "      <td>40.000000</td>\n",
              "      <td>9.069601e+04</td>\n",
              "    </tr>\n",
              "    <tr>\n",
              "      <th>50%</th>\n",
              "      <td>2020-11-19 00:00:00</td>\n",
              "      <td>2020-11-19 00:00:00</td>\n",
              "      <td>-34.595045</td>\n",
              "      <td>-58.439021</td>\n",
              "      <td>3.000000</td>\n",
              "      <td>2.000000</td>\n",
              "      <td>1.000000</td>\n",
              "      <td>64.000000</td>\n",
              "      <td>56.000000</td>\n",
              "      <td>1.350372e+05</td>\n",
              "    </tr>\n",
              "    <tr>\n",
              "      <th>75%</th>\n",
              "      <td>2021-03-23 00:00:00</td>\n",
              "      <td>2021-03-23 00:00:00</td>\n",
              "      <td>-34.576052</td>\n",
              "      <td>-58.410345</td>\n",
              "      <td>3.000000</td>\n",
              "      <td>3.000000</td>\n",
              "      <td>2.000000</td>\n",
              "      <td>100.000000</td>\n",
              "      <td>85.000000</td>\n",
              "      <td>2.218347e+05</td>\n",
              "    </tr>\n",
              "    <tr>\n",
              "      <th>max</th>\n",
              "      <td>2021-06-17 00:00:00</td>\n",
              "      <td>2021-06-17 00:00:00</td>\n",
              "      <td>29.753374</td>\n",
              "      <td>-5.490771</td>\n",
              "      <td>35.000000</td>\n",
              "      <td>153.000000</td>\n",
              "      <td>18.000000</td>\n",
              "      <td>140380.000000</td>\n",
              "      <td>123000.000000</td>\n",
              "      <td>1.110000e+08</td>\n",
              "    </tr>\n",
              "    <tr>\n",
              "      <th>std</th>\n",
              "      <td>NaN</td>\n",
              "      <td>NaN</td>\n",
              "      <td>0.321520</td>\n",
              "      <td>0.385287</td>\n",
              "      <td>1.327704</td>\n",
              "      <td>1.409456</td>\n",
              "      <td>0.823584</td>\n",
              "      <td>1173.611459</td>\n",
              "      <td>929.303025</td>\n",
              "      <td>6.337717e+05</td>\n",
              "    </tr>\n",
              "  </tbody>\n",
              "</table>\n",
              "</div>\n",
              "      <button class=\"colab-df-convert\" onclick=\"convertToInteractive('df-b96cad90-9914-4406-bab3-755f4e499e29')\"\n",
              "              title=\"Convert this dataframe to an interactive table.\"\n",
              "              style=\"display:none;\">\n",
              "        \n",
              "  <svg xmlns=\"http://www.w3.org/2000/svg\" height=\"24px\"viewBox=\"0 0 24 24\"\n",
              "       width=\"24px\">\n",
              "    <path d=\"M0 0h24v24H0V0z\" fill=\"none\"/>\n",
              "    <path d=\"M18.56 5.44l.94 2.06.94-2.06 2.06-.94-2.06-.94-.94-2.06-.94 2.06-2.06.94zm-11 1L8.5 8.5l.94-2.06 2.06-.94-2.06-.94L8.5 2.5l-.94 2.06-2.06.94zm10 10l.94 2.06.94-2.06 2.06-.94-2.06-.94-.94-2.06-.94 2.06-2.06.94z\"/><path d=\"M17.41 7.96l-1.37-1.37c-.4-.4-.92-.59-1.43-.59-.52 0-1.04.2-1.43.59L10.3 9.45l-7.72 7.72c-.78.78-.78 2.05 0 2.83L4 21.41c.39.39.9.59 1.41.59.51 0 1.02-.2 1.41-.59l7.78-7.78 2.81-2.81c.8-.78.8-2.07 0-2.86zM5.41 20L4 18.59l7.72-7.72 1.47 1.35L5.41 20z\"/>\n",
              "  </svg>\n",
              "      </button>\n",
              "      \n",
              "  <style>\n",
              "    .colab-df-container {\n",
              "      display:flex;\n",
              "      flex-wrap:wrap;\n",
              "      gap: 12px;\n",
              "    }\n",
              "\n",
              "    .colab-df-convert {\n",
              "      background-color: #E8F0FE;\n",
              "      border: none;\n",
              "      border-radius: 50%;\n",
              "      cursor: pointer;\n",
              "      display: none;\n",
              "      fill: #1967D2;\n",
              "      height: 32px;\n",
              "      padding: 0 0 0 0;\n",
              "      width: 32px;\n",
              "    }\n",
              "\n",
              "    .colab-df-convert:hover {\n",
              "      background-color: #E2EBFA;\n",
              "      box-shadow: 0px 1px 2px rgba(60, 64, 67, 0.3), 0px 1px 3px 1px rgba(60, 64, 67, 0.15);\n",
              "      fill: #174EA6;\n",
              "    }\n",
              "\n",
              "    [theme=dark] .colab-df-convert {\n",
              "      background-color: #3B4455;\n",
              "      fill: #D2E3FC;\n",
              "    }\n",
              "\n",
              "    [theme=dark] .colab-df-convert:hover {\n",
              "      background-color: #434B5C;\n",
              "      box-shadow: 0px 1px 3px 1px rgba(0, 0, 0, 0.15);\n",
              "      filter: drop-shadow(0px 1px 2px rgba(0, 0, 0, 0.3));\n",
              "      fill: #FFFFFF;\n",
              "    }\n",
              "  </style>\n",
              "\n",
              "      <script>\n",
              "        const buttonEl =\n",
              "          document.querySelector('#df-b96cad90-9914-4406-bab3-755f4e499e29 button.colab-df-convert');\n",
              "        buttonEl.style.display =\n",
              "          google.colab.kernel.accessAllowed ? 'block' : 'none';\n",
              "\n",
              "        async function convertToInteractive(key) {\n",
              "          const element = document.querySelector('#df-b96cad90-9914-4406-bab3-755f4e499e29');\n",
              "          const dataTable =\n",
              "            await google.colab.kernel.invokeFunction('convertToInteractive',\n",
              "                                                     [key], {});\n",
              "          if (!dataTable) return;\n",
              "\n",
              "          const docLinkHtml = 'Like what you see? Visit the ' +\n",
              "            '<a target=\"_blank\" href=https://colab.research.google.com/notebooks/data_table.ipynb>data table notebook</a>'\n",
              "            + ' to learn more about interactive tables.';\n",
              "          element.innerHTML = '';\n",
              "          dataTable['output_type'] = 'display_data';\n",
              "          await google.colab.output.renderOutput(dataTable, element);\n",
              "          const docLink = document.createElement('div');\n",
              "          docLink.innerHTML = docLinkHtml;\n",
              "          element.appendChild(docLink);\n",
              "        }\n",
              "      </script>\n",
              "    </div>\n",
              "  </div>\n",
              "  "
            ]
          },
          "metadata": {},
          "execution_count": 154
        }
      ]
    },
    {
      "cell_type": "code",
      "source": [
        "df_t.describe(include = 'object')"
      ],
      "metadata": {
        "colab": {
          "base_uri": "https://localhost:8080/",
          "height": 236
        },
        "id": "QxFMKwwXh96m",
        "outputId": "98e4780d-047c-49e4-ef76-4c09e1eb05c2"
      },
      "execution_count": 155,
      "outputs": [
        {
          "output_type": "execute_result",
          "data": {
            "text/plain": [
              "          end_date       l3            l4 currency price_period  \\\n",
              "count       147625   147016         19437   145342        69824   \n",
              "unique         447       48            14        2            1   \n",
              "top     9999-12-31  Palermo  Barrio Norte      USD      Mensual   \n",
              "freq         26158    22823          4526   145189        69824   \n",
              "\n",
              "                         title  \\\n",
              "count                   147625   \n",
              "unique                   78412   \n",
              "top     Departamento - Palermo   \n",
              "freq                      1118   \n",
              "\n",
              "                                              description property_type  \\\n",
              "count                                              147625        147625   \n",
              "unique                                             113923             2   \n",
              "top     Pozo en Villa Crespo. Monoambientes y Versátil...  Departamento   \n",
              "freq                                                   98        134044   \n",
              "\n",
              "       operation_type  \n",
              "count          147625  \n",
              "unique              1  \n",
              "top             Venta  \n",
              "freq           147625  "
            ],
            "text/html": [
              "\n",
              "  <div id=\"df-7d6fd322-bb72-4b6d-a3ae-f928931a1666\">\n",
              "    <div class=\"colab-df-container\">\n",
              "      <div>\n",
              "<style scoped>\n",
              "    .dataframe tbody tr th:only-of-type {\n",
              "        vertical-align: middle;\n",
              "    }\n",
              "\n",
              "    .dataframe tbody tr th {\n",
              "        vertical-align: top;\n",
              "    }\n",
              "\n",
              "    .dataframe thead th {\n",
              "        text-align: right;\n",
              "    }\n",
              "</style>\n",
              "<table border=\"1\" class=\"dataframe\">\n",
              "  <thead>\n",
              "    <tr style=\"text-align: right;\">\n",
              "      <th></th>\n",
              "      <th>end_date</th>\n",
              "      <th>l3</th>\n",
              "      <th>l4</th>\n",
              "      <th>currency</th>\n",
              "      <th>price_period</th>\n",
              "      <th>title</th>\n",
              "      <th>description</th>\n",
              "      <th>property_type</th>\n",
              "      <th>operation_type</th>\n",
              "    </tr>\n",
              "  </thead>\n",
              "  <tbody>\n",
              "    <tr>\n",
              "      <th>count</th>\n",
              "      <td>147625</td>\n",
              "      <td>147016</td>\n",
              "      <td>19437</td>\n",
              "      <td>145342</td>\n",
              "      <td>69824</td>\n",
              "      <td>147625</td>\n",
              "      <td>147625</td>\n",
              "      <td>147625</td>\n",
              "      <td>147625</td>\n",
              "    </tr>\n",
              "    <tr>\n",
              "      <th>unique</th>\n",
              "      <td>447</td>\n",
              "      <td>48</td>\n",
              "      <td>14</td>\n",
              "      <td>2</td>\n",
              "      <td>1</td>\n",
              "      <td>78412</td>\n",
              "      <td>113923</td>\n",
              "      <td>2</td>\n",
              "      <td>1</td>\n",
              "    </tr>\n",
              "    <tr>\n",
              "      <th>top</th>\n",
              "      <td>9999-12-31</td>\n",
              "      <td>Palermo</td>\n",
              "      <td>Barrio Norte</td>\n",
              "      <td>USD</td>\n",
              "      <td>Mensual</td>\n",
              "      <td>Departamento - Palermo</td>\n",
              "      <td>Pozo en Villa Crespo. Monoambientes y Versátil...</td>\n",
              "      <td>Departamento</td>\n",
              "      <td>Venta</td>\n",
              "    </tr>\n",
              "    <tr>\n",
              "      <th>freq</th>\n",
              "      <td>26158</td>\n",
              "      <td>22823</td>\n",
              "      <td>4526</td>\n",
              "      <td>145189</td>\n",
              "      <td>69824</td>\n",
              "      <td>1118</td>\n",
              "      <td>98</td>\n",
              "      <td>134044</td>\n",
              "      <td>147625</td>\n",
              "    </tr>\n",
              "  </tbody>\n",
              "</table>\n",
              "</div>\n",
              "      <button class=\"colab-df-convert\" onclick=\"convertToInteractive('df-7d6fd322-bb72-4b6d-a3ae-f928931a1666')\"\n",
              "              title=\"Convert this dataframe to an interactive table.\"\n",
              "              style=\"display:none;\">\n",
              "        \n",
              "  <svg xmlns=\"http://www.w3.org/2000/svg\" height=\"24px\"viewBox=\"0 0 24 24\"\n",
              "       width=\"24px\">\n",
              "    <path d=\"M0 0h24v24H0V0z\" fill=\"none\"/>\n",
              "    <path d=\"M18.56 5.44l.94 2.06.94-2.06 2.06-.94-2.06-.94-.94-2.06-.94 2.06-2.06.94zm-11 1L8.5 8.5l.94-2.06 2.06-.94-2.06-.94L8.5 2.5l-.94 2.06-2.06.94zm10 10l.94 2.06.94-2.06 2.06-.94-2.06-.94-.94-2.06-.94 2.06-2.06.94z\"/><path d=\"M17.41 7.96l-1.37-1.37c-.4-.4-.92-.59-1.43-.59-.52 0-1.04.2-1.43.59L10.3 9.45l-7.72 7.72c-.78.78-.78 2.05 0 2.83L4 21.41c.39.39.9.59 1.41.59.51 0 1.02-.2 1.41-.59l7.78-7.78 2.81-2.81c.8-.78.8-2.07 0-2.86zM5.41 20L4 18.59l7.72-7.72 1.47 1.35L5.41 20z\"/>\n",
              "  </svg>\n",
              "      </button>\n",
              "      \n",
              "  <style>\n",
              "    .colab-df-container {\n",
              "      display:flex;\n",
              "      flex-wrap:wrap;\n",
              "      gap: 12px;\n",
              "    }\n",
              "\n",
              "    .colab-df-convert {\n",
              "      background-color: #E8F0FE;\n",
              "      border: none;\n",
              "      border-radius: 50%;\n",
              "      cursor: pointer;\n",
              "      display: none;\n",
              "      fill: #1967D2;\n",
              "      height: 32px;\n",
              "      padding: 0 0 0 0;\n",
              "      width: 32px;\n",
              "    }\n",
              "\n",
              "    .colab-df-convert:hover {\n",
              "      background-color: #E2EBFA;\n",
              "      box-shadow: 0px 1px 2px rgba(60, 64, 67, 0.3), 0px 1px 3px 1px rgba(60, 64, 67, 0.15);\n",
              "      fill: #174EA6;\n",
              "    }\n",
              "\n",
              "    [theme=dark] .colab-df-convert {\n",
              "      background-color: #3B4455;\n",
              "      fill: #D2E3FC;\n",
              "    }\n",
              "\n",
              "    [theme=dark] .colab-df-convert:hover {\n",
              "      background-color: #434B5C;\n",
              "      box-shadow: 0px 1px 3px 1px rgba(0, 0, 0, 0.15);\n",
              "      filter: drop-shadow(0px 1px 2px rgba(0, 0, 0, 0.3));\n",
              "      fill: #FFFFFF;\n",
              "    }\n",
              "  </style>\n",
              "\n",
              "      <script>\n",
              "        const buttonEl =\n",
              "          document.querySelector('#df-7d6fd322-bb72-4b6d-a3ae-f928931a1666 button.colab-df-convert');\n",
              "        buttonEl.style.display =\n",
              "          google.colab.kernel.accessAllowed ? 'block' : 'none';\n",
              "\n",
              "        async function convertToInteractive(key) {\n",
              "          const element = document.querySelector('#df-7d6fd322-bb72-4b6d-a3ae-f928931a1666');\n",
              "          const dataTable =\n",
              "            await google.colab.kernel.invokeFunction('convertToInteractive',\n",
              "                                                     [key], {});\n",
              "          if (!dataTable) return;\n",
              "\n",
              "          const docLinkHtml = 'Like what you see? Visit the ' +\n",
              "            '<a target=\"_blank\" href=https://colab.research.google.com/notebooks/data_table.ipynb>data table notebook</a>'\n",
              "            + ' to learn more about interactive tables.';\n",
              "          element.innerHTML = '';\n",
              "          dataTable['output_type'] = 'display_data';\n",
              "          await google.colab.output.renderOutput(dataTable, element);\n",
              "          const docLink = document.createElement('div');\n",
              "          docLink.innerHTML = docLinkHtml;\n",
              "          element.appendChild(docLink);\n",
              "        }\n",
              "      </script>\n",
              "    </div>\n",
              "  </div>\n",
              "  "
            ]
          },
          "metadata": {},
          "execution_count": 155
        }
      ]
    },
    {
      "cell_type": "markdown",
      "source": [
        "Correlaciones similares a las vistas en el conjunto a predecir entre habitaciones, pero no tanto para superficies con habitaciones. Puede que haya outliers en ese sentido."
      ],
      "metadata": {
        "id": "N8hdXMz5z5pR"
      }
    },
    {
      "cell_type": "code",
      "source": [
        "df_t.corr()"
      ],
      "metadata": {
        "colab": {
          "base_uri": "https://localhost:8080/",
          "height": 300
        },
        "id": "aSlKyqhmz1Yl",
        "outputId": "5326c858-7d4c-47fa-8997-a7df580de225"
      },
      "execution_count": 156,
      "outputs": [
        {
          "output_type": "execute_result",
          "data": {
            "text/plain": [
              "                      lat       lon     rooms  bedrooms  bathrooms  \\\n",
              "lat              1.000000 -0.317267 -0.003101  0.001752   0.017956   \n",
              "lon             -0.317267  1.000000  0.007277  0.009313   0.014616   \n",
              "rooms           -0.003101  0.007277  1.000000  0.890039   0.632530   \n",
              "bedrooms         0.001752  0.009313  0.890039  1.000000   0.628266   \n",
              "bathrooms        0.017956  0.014616  0.632530  0.628266   1.000000   \n",
              "surface_total    0.002875 -0.005972  0.050556  0.048047   0.054176   \n",
              "surface_covered  0.002591 -0.004167  0.052084  0.048596   0.050484   \n",
              "price            0.000277  0.003077  0.211179  0.177217   0.301848   \n",
              "\n",
              "                 surface_total  surface_covered     price  \n",
              "lat                   0.002875         0.002591  0.000277  \n",
              "lon                  -0.005972        -0.004167  0.003077  \n",
              "rooms                 0.050556         0.052084  0.211179  \n",
              "bedrooms              0.048047         0.048596  0.177217  \n",
              "bathrooms             0.054176         0.050484  0.301848  \n",
              "surface_total         1.000000         0.862668  0.026788  \n",
              "surface_covered       0.862668         1.000000  0.021288  \n",
              "price                 0.026788         0.021288  1.000000  "
            ],
            "text/html": [
              "\n",
              "  <div id=\"df-92d7b8a5-c1ed-4f7f-9e98-1bb8590cedf1\">\n",
              "    <div class=\"colab-df-container\">\n",
              "      <div>\n",
              "<style scoped>\n",
              "    .dataframe tbody tr th:only-of-type {\n",
              "        vertical-align: middle;\n",
              "    }\n",
              "\n",
              "    .dataframe tbody tr th {\n",
              "        vertical-align: top;\n",
              "    }\n",
              "\n",
              "    .dataframe thead th {\n",
              "        text-align: right;\n",
              "    }\n",
              "</style>\n",
              "<table border=\"1\" class=\"dataframe\">\n",
              "  <thead>\n",
              "    <tr style=\"text-align: right;\">\n",
              "      <th></th>\n",
              "      <th>lat</th>\n",
              "      <th>lon</th>\n",
              "      <th>rooms</th>\n",
              "      <th>bedrooms</th>\n",
              "      <th>bathrooms</th>\n",
              "      <th>surface_total</th>\n",
              "      <th>surface_covered</th>\n",
              "      <th>price</th>\n",
              "    </tr>\n",
              "  </thead>\n",
              "  <tbody>\n",
              "    <tr>\n",
              "      <th>lat</th>\n",
              "      <td>1.000000</td>\n",
              "      <td>-0.317267</td>\n",
              "      <td>-0.003101</td>\n",
              "      <td>0.001752</td>\n",
              "      <td>0.017956</td>\n",
              "      <td>0.002875</td>\n",
              "      <td>0.002591</td>\n",
              "      <td>0.000277</td>\n",
              "    </tr>\n",
              "    <tr>\n",
              "      <th>lon</th>\n",
              "      <td>-0.317267</td>\n",
              "      <td>1.000000</td>\n",
              "      <td>0.007277</td>\n",
              "      <td>0.009313</td>\n",
              "      <td>0.014616</td>\n",
              "      <td>-0.005972</td>\n",
              "      <td>-0.004167</td>\n",
              "      <td>0.003077</td>\n",
              "    </tr>\n",
              "    <tr>\n",
              "      <th>rooms</th>\n",
              "      <td>-0.003101</td>\n",
              "      <td>0.007277</td>\n",
              "      <td>1.000000</td>\n",
              "      <td>0.890039</td>\n",
              "      <td>0.632530</td>\n",
              "      <td>0.050556</td>\n",
              "      <td>0.052084</td>\n",
              "      <td>0.211179</td>\n",
              "    </tr>\n",
              "    <tr>\n",
              "      <th>bedrooms</th>\n",
              "      <td>0.001752</td>\n",
              "      <td>0.009313</td>\n",
              "      <td>0.890039</td>\n",
              "      <td>1.000000</td>\n",
              "      <td>0.628266</td>\n",
              "      <td>0.048047</td>\n",
              "      <td>0.048596</td>\n",
              "      <td>0.177217</td>\n",
              "    </tr>\n",
              "    <tr>\n",
              "      <th>bathrooms</th>\n",
              "      <td>0.017956</td>\n",
              "      <td>0.014616</td>\n",
              "      <td>0.632530</td>\n",
              "      <td>0.628266</td>\n",
              "      <td>1.000000</td>\n",
              "      <td>0.054176</td>\n",
              "      <td>0.050484</td>\n",
              "      <td>0.301848</td>\n",
              "    </tr>\n",
              "    <tr>\n",
              "      <th>surface_total</th>\n",
              "      <td>0.002875</td>\n",
              "      <td>-0.005972</td>\n",
              "      <td>0.050556</td>\n",
              "      <td>0.048047</td>\n",
              "      <td>0.054176</td>\n",
              "      <td>1.000000</td>\n",
              "      <td>0.862668</td>\n",
              "      <td>0.026788</td>\n",
              "    </tr>\n",
              "    <tr>\n",
              "      <th>surface_covered</th>\n",
              "      <td>0.002591</td>\n",
              "      <td>-0.004167</td>\n",
              "      <td>0.052084</td>\n",
              "      <td>0.048596</td>\n",
              "      <td>0.050484</td>\n",
              "      <td>0.862668</td>\n",
              "      <td>1.000000</td>\n",
              "      <td>0.021288</td>\n",
              "    </tr>\n",
              "    <tr>\n",
              "      <th>price</th>\n",
              "      <td>0.000277</td>\n",
              "      <td>0.003077</td>\n",
              "      <td>0.211179</td>\n",
              "      <td>0.177217</td>\n",
              "      <td>0.301848</td>\n",
              "      <td>0.026788</td>\n",
              "      <td>0.021288</td>\n",
              "      <td>1.000000</td>\n",
              "    </tr>\n",
              "  </tbody>\n",
              "</table>\n",
              "</div>\n",
              "      <button class=\"colab-df-convert\" onclick=\"convertToInteractive('df-92d7b8a5-c1ed-4f7f-9e98-1bb8590cedf1')\"\n",
              "              title=\"Convert this dataframe to an interactive table.\"\n",
              "              style=\"display:none;\">\n",
              "        \n",
              "  <svg xmlns=\"http://www.w3.org/2000/svg\" height=\"24px\"viewBox=\"0 0 24 24\"\n",
              "       width=\"24px\">\n",
              "    <path d=\"M0 0h24v24H0V0z\" fill=\"none\"/>\n",
              "    <path d=\"M18.56 5.44l.94 2.06.94-2.06 2.06-.94-2.06-.94-.94-2.06-.94 2.06-2.06.94zm-11 1L8.5 8.5l.94-2.06 2.06-.94-2.06-.94L8.5 2.5l-.94 2.06-2.06.94zm10 10l.94 2.06.94-2.06 2.06-.94-2.06-.94-.94-2.06-.94 2.06-2.06.94z\"/><path d=\"M17.41 7.96l-1.37-1.37c-.4-.4-.92-.59-1.43-.59-.52 0-1.04.2-1.43.59L10.3 9.45l-7.72 7.72c-.78.78-.78 2.05 0 2.83L4 21.41c.39.39.9.59 1.41.59.51 0 1.02-.2 1.41-.59l7.78-7.78 2.81-2.81c.8-.78.8-2.07 0-2.86zM5.41 20L4 18.59l7.72-7.72 1.47 1.35L5.41 20z\"/>\n",
              "  </svg>\n",
              "      </button>\n",
              "      \n",
              "  <style>\n",
              "    .colab-df-container {\n",
              "      display:flex;\n",
              "      flex-wrap:wrap;\n",
              "      gap: 12px;\n",
              "    }\n",
              "\n",
              "    .colab-df-convert {\n",
              "      background-color: #E8F0FE;\n",
              "      border: none;\n",
              "      border-radius: 50%;\n",
              "      cursor: pointer;\n",
              "      display: none;\n",
              "      fill: #1967D2;\n",
              "      height: 32px;\n",
              "      padding: 0 0 0 0;\n",
              "      width: 32px;\n",
              "    }\n",
              "\n",
              "    .colab-df-convert:hover {\n",
              "      background-color: #E2EBFA;\n",
              "      box-shadow: 0px 1px 2px rgba(60, 64, 67, 0.3), 0px 1px 3px 1px rgba(60, 64, 67, 0.15);\n",
              "      fill: #174EA6;\n",
              "    }\n",
              "\n",
              "    [theme=dark] .colab-df-convert {\n",
              "      background-color: #3B4455;\n",
              "      fill: #D2E3FC;\n",
              "    }\n",
              "\n",
              "    [theme=dark] .colab-df-convert:hover {\n",
              "      background-color: #434B5C;\n",
              "      box-shadow: 0px 1px 3px 1px rgba(0, 0, 0, 0.15);\n",
              "      filter: drop-shadow(0px 1px 2px rgba(0, 0, 0, 0.3));\n",
              "      fill: #FFFFFF;\n",
              "    }\n",
              "  </style>\n",
              "\n",
              "      <script>\n",
              "        const buttonEl =\n",
              "          document.querySelector('#df-92d7b8a5-c1ed-4f7f-9e98-1bb8590cedf1 button.colab-df-convert');\n",
              "        buttonEl.style.display =\n",
              "          google.colab.kernel.accessAllowed ? 'block' : 'none';\n",
              "\n",
              "        async function convertToInteractive(key) {\n",
              "          const element = document.querySelector('#df-92d7b8a5-c1ed-4f7f-9e98-1bb8590cedf1');\n",
              "          const dataTable =\n",
              "            await google.colab.kernel.invokeFunction('convertToInteractive',\n",
              "                                                     [key], {});\n",
              "          if (!dataTable) return;\n",
              "\n",
              "          const docLinkHtml = 'Like what you see? Visit the ' +\n",
              "            '<a target=\"_blank\" href=https://colab.research.google.com/notebooks/data_table.ipynb>data table notebook</a>'\n",
              "            + ' to learn more about interactive tables.';\n",
              "          element.innerHTML = '';\n",
              "          dataTable['output_type'] = 'display_data';\n",
              "          await google.colab.output.renderOutput(dataTable, element);\n",
              "          const docLink = document.createElement('div');\n",
              "          docLink.innerHTML = docLinkHtml;\n",
              "          element.appendChild(docLink);\n",
              "        }\n",
              "      </script>\n",
              "    </div>\n",
              "  </div>\n",
              "  "
            ]
          },
          "metadata": {},
          "execution_count": 156
        }
      ]
    },
    {
      "cell_type": "markdown",
      "source": [
        "###Exploración variables"
      ],
      "metadata": {
        "id": "jGDggXeqkYg3"
      }
    },
    {
      "cell_type": "markdown",
      "source": [
        "####Coordenadas/barrio"
      ],
      "metadata": {
        "id": "489kt8KgzCjw"
      }
    },
    {
      "cell_type": "code",
      "source": [
        "df_t['lat'].hist(bins = 40, range = (-34.7,-34.5));"
      ],
      "metadata": {
        "colab": {
          "base_uri": "https://localhost:8080/",
          "height": 265
        },
        "id": "AZtMXUBRmKNw",
        "outputId": "b330c716-46ac-4ac3-dcd0-4131d7c844d0"
      },
      "execution_count": 157,
      "outputs": [
        {
          "output_type": "display_data",
          "data": {
            "text/plain": [
              "<Figure size 432x288 with 1 Axes>"
            ],
            "image/png": "[encoded data removed]"
          },
          "metadata": {
            "needs_background": "light"
          }
        }
      ]
    },
    {
      "cell_type": "code",
      "source": [
        "df_t.boxplot('lat');"
      ],
      "metadata": {
        "colab": {
          "base_uri": "https://localhost:8080/",
          "height": 265
        },
        "id": "DZTNhX1x7wHT",
        "outputId": "3b908f08-0553-482f-ebaf-ce1205463f09"
      },
      "execution_count": 158,
      "outputs": [
        {
          "output_type": "display_data",
          "data": {
            "text/plain": [
              "<Figure size 432x288 with 1 Axes>"
            ],
            "image/png": "[encoded data removed]"
          },
          "metadata": {
            "needs_background": "light"
          }
        }
      ]
    },
    {
      "cell_type": "code",
      "source": [
        "df_t['lon'].hist(bins = 40, range = (-58.6,-58.3));"
      ],
      "metadata": {
        "colab": {
          "base_uri": "https://localhost:8080/",
          "height": 265
        },
        "id": "HE1VgJx1mhoQ",
        "outputId": "e5b1f817-f736-4bff-d0f1-a7ee3aa4690a"
      },
      "execution_count": 159,
      "outputs": [
        {
          "output_type": "display_data",
          "data": {
            "text/plain": [
              "<Figure size 432x288 with 1 Axes>"
            ],
            "image/png": "[encoded data removed]"
          },
          "metadata": {
            "needs_background": "light"
          }
        }
      ]
    },
    {
      "cell_type": "code",
      "source": [
        "df_t.boxplot('lon')"
      ],
      "metadata": {
        "colab": {
          "base_uri": "https://localhost:8080/",
          "height": 282
        },
        "id": "4c8iMee_8PCc",
        "outputId": "c0ee4d15-fa7f-419f-ba3a-b243cc77f881"
      },
      "execution_count": 160,
      "outputs": [
        {
          "output_type": "execute_result",
          "data": {
            "text/plain": [
              "<matplotlib.axes._subplots.AxesSubplot at 0x7fd5d36e3490>"
            ]
          },
          "metadata": {},
          "execution_count": 160
        },
        {
          "output_type": "display_data",
          "data": {
            "text/plain": [
              "<Figure size 432x288 with 1 Axes>"
            ],
            "image/png": "[encoded data removed]"
          },
          "metadata": {
            "needs_background": "light"
          }
        }
      ]
    },
    {
      "cell_type": "code",
      "source": [
        "df_t.l3.value_counts()"
      ],
      "metadata": {
        "id": "RwuoXwYMCGd1",
        "colab": {
          "base_uri": "https://localhost:8080/"
        },
        "outputId": "ad772444-d0b7-4407-fbff-ff1815af697c"
      },
      "execution_count": 161,
      "outputs": [
        {
          "output_type": "execute_result",
          "data": {
            "text/plain": [
              "Palermo                22823\n",
              "Belgrano               17975\n",
              "Recoleta               13792\n",
              "Caballito               9884\n",
              "Villa Crespo            7247\n",
              "Almagro                 7107\n",
              "Villa Urquiza           7015\n",
              "Balvanera               5903\n",
              "Núñez                   4508\n",
              "Flores                  4097\n",
              "Colegiales              3269\n",
              "San Cristóbal           3018\n",
              "Puerto Madero           2791\n",
              "Saavedra                2415\n",
              "Villa Devoto            2354\n",
              "San Telmo               2319\n",
              "Villa del Parque        2112\n",
              "Retiro                  2042\n",
              "Boedo                   2006\n",
              "San Nicolás             1907\n",
              "Floresta                1793\n",
              "Barracas                1657\n",
              "Coghlan                 1456\n",
              "Liniers                 1450\n",
              "Monserrat               1412\n",
              "Mataderos               1390\n",
              "Parque Chacabuco        1374\n",
              "Villa Luro              1357\n",
              "Villa Pueyrredón        1345\n",
              "Chacarita                967\n",
              "Villa Lugano             838\n",
              "Paternal                 824\n",
              "Parque Patricios         807\n",
              "Villa Ortúzar            785\n",
              "Constitución             672\n",
              "Villa General Mitre      572\n",
              "Monte Castro             554\n",
              "Boca                     554\n",
              "Villa Santa Rita         516\n",
              "Vélez Sarsfield          367\n",
              "Parque Avellaneda        343\n",
              "Parque Chas              299\n",
              "Agronomía                296\n",
              "Versalles                285\n",
              "Nueva Pompeya            279\n",
              "Villa Real               151\n",
              "Villa Soldati             68\n",
              "Villa Riachuelo           21\n",
              "Name: l3, dtype: int64"
            ]
          },
          "metadata": {},
          "execution_count": 161
        }
      ]
    },
    {
      "cell_type": "code",
      "source": [
        "df_p.l3.value_counts()"
      ],
      "metadata": {
        "colab": {
          "base_uri": "https://localhost:8080/"
        },
        "id": "i37E5hDRfNN0",
        "outputId": "f8a8c63c-1f72-4e2e-ee46-23befdee5605"
      },
      "execution_count": 162,
      "outputs": [
        {
          "output_type": "execute_result",
          "data": {
            "text/plain": [
              "Palermo                206\n",
              "Belgrano               110\n",
              "Recoleta                97\n",
              "Caballito               74\n",
              "Villa Crespo            58\n",
              "Almagro                 57\n",
              "Barracas                39\n",
              "Flores                  36\n",
              "Núñez                   36\n",
              "Villa Urquiza           34\n",
              "Balvanera               34\n",
              "Colegiales              27\n",
              "San Telmo               24\n",
              "Saavedra                23\n",
              "Boedo                   20\n",
              "Villa Devoto            17\n",
              "Monserrat               17\n",
              "San Nicolás             16\n",
              "Puerto Madero           15\n",
              "Floresta                14\n",
              "Villa del Parque        12\n",
              "Paternal                10\n",
              "San Cristóbal           10\n",
              "Villa Ortúzar            9\n",
              "Parque Patricios         9\n",
              "Constitución             8\n",
              "Chacarita                6\n",
              "Villa Luro               6\n",
              "Monte Castro             6\n",
              "Villa General Mitre      5\n",
              "Nueva Pompeya            5\n",
              "Parque Chacabuco         5\n",
              "Retiro                   5\n",
              "Parque Chas              5\n",
              "Boca                     5\n",
              "Villa Pueyrredón         5\n",
              "Villa Santa Rita         3\n",
              "Liniers                  3\n",
              "Versalles                3\n",
              "Coghlan                  3\n",
              "Villa Lugano             3\n",
              "Parque Avellaneda        2\n",
              "Mataderos                2\n",
              "Vélez Sarsfield          1\n",
              "Agronomía                1\n",
              "Villa Real               1\n",
              "Name: l3, dtype: int64"
            ]
          },
          "metadata": {},
          "execution_count": 162
        }
      ]
    },
    {
      "cell_type": "markdown",
      "source": [
        "Ver si reparar o recortar aquellos avisos sin información geográfica"
      ],
      "metadata": {
        "id": "eJRZob8N7EFr"
      }
    },
    {
      "cell_type": "code",
      "source": [
        "(df_t.l3.isna() & (df_t.lon.isna() | df_t.lat.isna())).sum()"
      ],
      "metadata": {
        "colab": {
          "base_uri": "https://localhost:8080/"
        },
        "id": "byYz1S8xu5-A",
        "outputId": "9d483d93-8b2a-405c-8b2e-636a4b521f39"
      },
      "execution_count": 163,
      "outputs": [
        {
          "output_type": "execute_result",
          "data": {
            "text/plain": [
              "399"
            ]
          },
          "metadata": {},
          "execution_count": 163
        }
      ]
    },
    {
      "cell_type": "markdown",
      "source": [
        "Comparar con https://www.coordenadas.com.es/argentina/pueblos-de-ciudad-buenos-aires/7/1"
      ],
      "metadata": {
        "id": "M_At0CQ2YmRh"
      }
    },
    {
      "cell_type": "code",
      "source": [
        "df_t[['l3','lon','lat']].groupby(by = 'l3').agg(['mean','median'],axis = 'columns')"
      ],
      "metadata": {
        "colab": {
          "base_uri": "https://localhost:8080/",
          "height": 1000
        },
        "id": "g1eDK7V-WjlS",
        "outputId": "5733496c-3707-4142-fe3d-044df3a7b5ca"
      },
      "execution_count": 164,
      "outputs": [
        {
          "output_type": "execute_result",
          "data": {
            "text/plain": [
              "                           lon                   lat           \n",
              "                          mean     median       mean     median\n",
              "l3                                                             \n",
              "Agronomía           -58.488302 -58.489717 -34.594265 -34.593337\n",
              "Almagro             -58.421919 -58.421587 -34.607042 -34.605265\n",
              "Balvanera           -58.410650 -58.402251 -34.598778 -34.608618\n",
              "Barracas            -58.374710 -58.373906 -34.637283 -34.636380\n",
              "Belgrano            -58.452797 -58.453180 -34.563615 -34.563603\n",
              "Boca                -58.363516 -58.363201 -34.633042 -34.632567\n",
              "Boedo               -58.416899 -58.417547 -34.626213 -34.625888\n",
              "Caballito           -58.442534 -58.442053 -34.618608 -34.619083\n",
              "Chacarita           -58.450720 -58.450904 -34.586955 -34.586777\n",
              "Coghlan             -58.475021 -58.475767 -34.560787 -34.559439\n",
              "Colegiales          -58.451230 -58.451554 -34.577747 -34.577728\n",
              "Constitución        -58.385250 -58.385683 -34.625194 -34.625303\n",
              "Flores              -58.463242 -58.463144 -34.628355 -34.628517\n",
              "Floresta            -58.486664 -58.484411 -34.629247 -34.629357\n",
              "Liniers             -58.517364 -58.518725 -34.644544 -34.644444\n",
              "Mataderos           -58.504293 -58.505983 -34.654922 -34.654786\n",
              "Monserrat           -58.383619 -58.384181 -34.614223 -34.614331\n",
              "Monte Castro        -58.504067 -58.504571 -34.620495 -34.620853\n",
              "Nueva Pompeya       -58.419167 -58.419065 -34.647664 -34.646481\n",
              "Núñez               -58.464387 -58.465179 -34.548566 -34.548631\n",
              "Palermo             -58.424886 -58.424593 -34.582278 -34.581940\n",
              "Parque Avellaneda   -58.479147 -58.478806 -34.644807 -34.644449\n",
              "Parque Chacabuco    -58.437268 -58.438708 -34.635160 -34.634491\n",
              "Parque Chas         -58.477915 -58.477475 -34.585738 -34.585481\n",
              "Parque Patricios    -58.404206 -58.404431 -34.632549 -34.632502\n",
              "Paternal            -58.464824 -58.465813 -34.602575 -34.602723\n",
              "Puerto Madero       -58.362366 -58.361774 -34.613005 -34.612784\n",
              "Recoleta            -58.398261 -58.398684 -34.592772 -34.592522\n",
              "Retiro              -58.386563 -58.378571 -34.596627 -34.597220\n",
              "Saavedra            -58.482532 -58.482086 -34.551802 -34.552440\n",
              "San Cristóbal       -58.400358 -58.401417 -34.621951 -34.622734\n",
              "San Nicolás         -58.386001 -58.384858 -34.602995 -34.602926\n",
              "San Telmo           -58.392728 -58.374678 -34.589550 -34.621313\n",
              "Versalles           -58.517375 -58.519927 -34.629359 -34.629692\n",
              "Villa Crespo        -58.439961 -58.440873 -34.598562 -34.598387\n",
              "Villa Devoto        -58.510882 -58.510772 -34.603032 -34.603409\n",
              "Villa General Mitre -58.468303 -58.468752 -34.609777 -34.610317\n",
              "Villa Lugano        -58.502592 -58.474210 -34.603060 -34.678826\n",
              "Villa Luro          -58.502670 -58.503993 -34.638733 -34.638978\n",
              "Villa Ortúzar       -58.468916 -58.469704 -34.581706 -34.582157\n",
              "Villa Pueyrredón    -58.501474 -58.502011 -34.585060 -34.584991\n",
              "Villa Real          -58.521988 -58.524608 -34.619872 -34.619928\n",
              "Villa Riachuelo     -58.470694 -58.469994 -34.692043 -34.690952\n",
              "Villa Santa Rita    -58.481046 -58.480655 -34.615497 -34.615215\n",
              "Villa Soldati       -58.442402 -58.443213 -34.665607 -34.665544\n",
              "Villa Urquiza       -58.469722 -58.485612 -34.574104 -34.573915\n",
              "Villa del Parque    -58.488820 -58.489075 -34.605975 -34.604937\n",
              "Vélez Sarsfield     -58.491737 -58.488670 -34.633926 -34.635840"
            ],
            "text/html": [
              "\n",
              "  <div id=\"df-3086677c-3cc6-4d31-9f02-abc2335f22ce\">\n",
              "    <div class=\"colab-df-container\">\n",
              "      <div>\n",
              "<style scoped>\n",
              "    .dataframe tbody tr th:only-of-type {\n",
              "        vertical-align: middle;\n",
              "    }\n",
              "\n",
              "    .dataframe tbody tr th {\n",
              "        vertical-align: top;\n",
              "    }\n",
              "\n",
              "    .dataframe thead tr th {\n",
              "        text-align: left;\n",
              "    }\n",
              "\n",
              "    .dataframe thead tr:last-of-type th {\n",
              "        text-align: right;\n",
              "    }\n",
              "</style>\n",
              "<table border=\"1\" class=\"dataframe\">\n",
              "  <thead>\n",
              "    <tr>\n",
              "      <th></th>\n",
              "      <th colspan=\"2\" halign=\"left\">lon</th>\n",
              "      <th colspan=\"2\" halign=\"left\">lat</th>\n",
              "    </tr>\n",
              "    <tr>\n",
              "      <th></th>\n",
              "      <th>mean</th>\n",
              "      <th>median</th>\n",
              "      <th>mean</th>\n",
              "      <th>median</th>\n",
              "    </tr>\n",
              "    <tr>\n",
              "      <th>l3</th>\n",
              "      <th></th>\n",
              "      <th></th>\n",
              "      <th></th>\n",
              "      <th></th>\n",
              "    </tr>\n",
              "  </thead>\n",
              "  <tbody>\n",
              "    <tr>\n",
              "      <th>Agronomía</th>\n",
              "      <td>-58.488302</td>\n",
              "      <td>-58.489717</td>\n",
              "      <td>-34.594265</td>\n",
              "      <td>-34.593337</td>\n",
              "    </tr>\n",
              "    <tr>\n",
              "      <th>Almagro</th>\n",
              "      <td>-58.421919</td>\n",
              "      <td>-58.421587</td>\n",
              "      <td>-34.607042</td>\n",
              "      <td>-34.605265</td>\n",
              "    </tr>\n",
              "    <tr>\n",
              "      <th>Balvanera</th>\n",
              "      <td>-58.410650</td>\n",
              "      <td>-58.402251</td>\n",
              "      <td>-34.598778</td>\n",
              "      <td>-34.608618</td>\n",
              "    </tr>\n",
              "    <tr>\n",
              "      <th>Barracas</th>\n",
              "      <td>-58.374710</td>\n",
              "      <td>-58.373906</td>\n",
              "      <td>-34.637283</td>\n",
              "      <td>-34.636380</td>\n",
              "    </tr>\n",
              "    <tr>\n",
              "      <th>Belgrano</th>\n",
              "      <td>-58.452797</td>\n",
              "      <td>-58.453180</td>\n",
              "      <td>-34.563615</td>\n",
              "      <td>-34.563603</td>\n",
              "    </tr>\n",
              "    <tr>\n",
              "      <th>Boca</th>\n",
              "      <td>-58.363516</td>\n",
              "      <td>-58.363201</td>\n",
              "      <td>-34.633042</td>\n",
              "      <td>-34.632567</td>\n",
              "    </tr>\n",
              "    <tr>\n",
              "      <th>Boedo</th>\n",
              "      <td>-58.416899</td>\n",
              "      <td>-58.417547</td>\n",
              "      <td>-34.626213</td>\n",
              "      <td>-34.625888</td>\n",
              "    </tr>\n",
              "    <tr>\n",
              "      <th>Caballito</th>\n",
              "      <td>-58.442534</td>\n",
              "      <td>-58.442053</td>\n",
              "      <td>-34.618608</td>\n",
              "      <td>-34.619083</td>\n",
              "    </tr>\n",
              "    <tr>\n",
              "      <th>Chacarita</th>\n",
              "      <td>-58.450720</td>\n",
              "      <td>-58.450904</td>\n",
              "      <td>-34.586955</td>\n",
              "      <td>-34.586777</td>\n",
              "    </tr>\n",
              "    <tr>\n",
              "      <th>Coghlan</th>\n",
              "      <td>-58.475021</td>\n",
              "      <td>-58.475767</td>\n",
              "      <td>-34.560787</td>\n",
              "      <td>-34.559439</td>\n",
              "    </tr>\n",
              "    <tr>\n",
              "      <th>Colegiales</th>\n",
              "      <td>-58.451230</td>\n",
              "      <td>-58.451554</td>\n",
              "      <td>-34.577747</td>\n",
              "      <td>-34.577728</td>\n",
              "    </tr>\n",
              "    <tr>\n",
              "      <th>Constitución</th>\n",
              "      <td>-58.385250</td>\n",
              "      <td>-58.385683</td>\n",
              "      <td>-34.625194</td>\n",
              "      <td>-34.625303</td>\n",
              "    </tr>\n",
              "    <tr>\n",
              "      <th>Flores</th>\n",
              "      <td>-58.463242</td>\n",
              "      <td>-58.463144</td>\n",
              "      <td>-34.628355</td>\n",
              "      <td>-34.628517</td>\n",
              "    </tr>\n",
              "    <tr>\n",
              "      <th>Floresta</th>\n",
              "      <td>-58.486664</td>\n",
              "      <td>-58.484411</td>\n",
              "      <td>-34.629247</td>\n",
              "      <td>-34.629357</td>\n",
              "    </tr>\n",
              "    <tr>\n",
              "      <th>Liniers</th>\n",
              "      <td>-58.517364</td>\n",
              "      <td>-58.518725</td>\n",
              "      <td>-34.644544</td>\n",
              "      <td>-34.644444</td>\n",
              "    </tr>\n",
              "    <tr>\n",
              "      <th>Mataderos</th>\n",
              "      <td>-58.504293</td>\n",
              "      <td>-58.505983</td>\n",
              "      <td>-34.654922</td>\n",
              "      <td>-34.654786</td>\n",
              "    </tr>\n",
              "    <tr>\n",
              "      <th>Monserrat</th>\n",
              "      <td>-58.383619</td>\n",
              "      <td>-58.384181</td>\n",
              "      <td>-34.614223</td>\n",
              "      <td>-34.614331</td>\n",
              "    </tr>\n",
              "    <tr>\n",
              "      <th>Monte Castro</th>\n",
              "      <td>-58.504067</td>\n",
              "      <td>-58.504571</td>\n",
              "      <td>-34.620495</td>\n",
              "      <td>-34.620853</td>\n",
              "    </tr>\n",
              "    <tr>\n",
              "      <th>Nueva Pompeya</th>\n",
              "      <td>-58.419167</td>\n",
              "      <td>-58.419065</td>\n",
              "      <td>-34.647664</td>\n",
              "      <td>-34.646481</td>\n",
              "    </tr>\n",
              "    <tr>\n",
              "      <th>Núñez</th>\n",
              "      <td>-58.464387</td>\n",
              "      <td>-58.465179</td>\n",
              "      <td>-34.548566</td>\n",
              "      <td>-34.548631</td>\n",
              "    </tr>\n",
              "    <tr>\n",
              "      <th>Palermo</th>\n",
              "      <td>-58.424886</td>\n",
              "      <td>-58.424593</td>\n",
              "      <td>-34.582278</td>\n",
              "      <td>-34.581940</td>\n",
              "    </tr>\n",
              "    <tr>\n",
              "      <th>Parque Avellaneda</th>\n",
              "      <td>-58.479147</td>\n",
              "      <td>-58.478806</td>\n",
              "      <td>-34.644807</td>\n",
              "      <td>-34.644449</td>\n",
              "    </tr>\n",
              "    <tr>\n",
              "      <th>Parque Chacabuco</th>\n",
              "      <td>-58.437268</td>\n",
              "      <td>-58.438708</td>\n",
              "      <td>-34.635160</td>\n",
              "      <td>-34.634491</td>\n",
              "    </tr>\n",
              "    <tr>\n",
              "      <th>Parque Chas</th>\n",
              "      <td>-58.477915</td>\n",
              "      <td>-58.477475</td>\n",
              "      <td>-34.585738</td>\n",
              "      <td>-34.585481</td>\n",
              "    </tr>\n",
              "    <tr>\n",
              "      <th>Parque Patricios</th>\n",
              "      <td>-58.404206</td>\n",
              "      <td>-58.404431</td>\n",
              "      <td>-34.632549</td>\n",
              "      <td>-34.632502</td>\n",
              "    </tr>\n",
              "    <tr>\n",
              "      <th>Paternal</th>\n",
              "      <td>-58.464824</td>\n",
              "      <td>-58.465813</td>\n",
              "      <td>-34.602575</td>\n",
              "      <td>-34.602723</td>\n",
              "    </tr>\n",
              "    <tr>\n",
              "      <th>Puerto Madero</th>\n",
              "      <td>-58.362366</td>\n",
              "      <td>-58.361774</td>\n",
              "      <td>-34.613005</td>\n",
              "      <td>-34.612784</td>\n",
              "    </tr>\n",
              "    <tr>\n",
              "      <th>Recoleta</th>\n",
              "      <td>-58.398261</td>\n",
              "      <td>-58.398684</td>\n",
              "      <td>-34.592772</td>\n",
              "      <td>-34.592522</td>\n",
              "    </tr>\n",
              "    <tr>\n",
              "      <th>Retiro</th>\n",
              "      <td>-58.386563</td>\n",
              "      <td>-58.378571</td>\n",
              "      <td>-34.596627</td>\n",
              "      <td>-34.597220</td>\n",
              "    </tr>\n",
              "    <tr>\n",
              "      <th>Saavedra</th>\n",
              "      <td>-58.482532</td>\n",
              "      <td>-58.482086</td>\n",
              "      <td>-34.551802</td>\n",
              "      <td>-34.552440</td>\n",
              "    </tr>\n",
              "    <tr>\n",
              "      <th>San Cristóbal</th>\n",
              "      <td>-58.400358</td>\n",
              "      <td>-58.401417</td>\n",
              "      <td>-34.621951</td>\n",
              "      <td>-34.622734</td>\n",
              "    </tr>\n",
              "    <tr>\n",
              "      <th>San Nicolás</th>\n",
              "      <td>-58.386001</td>\n",
              "      <td>-58.384858</td>\n",
              "      <td>-34.602995</td>\n",
              "      <td>-34.602926</td>\n",
              "    </tr>\n",
              "    <tr>\n",
              "      <th>San Telmo</th>\n",
              "      <td>-58.392728</td>\n",
              "      <td>-58.374678</td>\n",
              "      <td>-34.589550</td>\n",
              "      <td>-34.621313</td>\n",
              "    </tr>\n",
              "    <tr>\n",
              "      <th>Versalles</th>\n",
              "      <td>-58.517375</td>\n",
              "      <td>-58.519927</td>\n",
              "      <td>-34.629359</td>\n",
              "      <td>-34.629692</td>\n",
              "    </tr>\n",
              "    <tr>\n",
              "      <th>Villa Crespo</th>\n",
              "      <td>-58.439961</td>\n",
              "      <td>-58.440873</td>\n",
              "      <td>-34.598562</td>\n",
              "      <td>-34.598387</td>\n",
              "    </tr>\n",
              "    <tr>\n",
              "      <th>Villa Devoto</th>\n",
              "      <td>-58.510882</td>\n",
              "      <td>-58.510772</td>\n",
              "      <td>-34.603032</td>\n",
              "      <td>-34.603409</td>\n",
              "    </tr>\n",
              "    <tr>\n",
              "      <th>Villa General Mitre</th>\n",
              "      <td>-58.468303</td>\n",
              "      <td>-58.468752</td>\n",
              "      <td>-34.609777</td>\n",
              "      <td>-34.610317</td>\n",
              "    </tr>\n",
              "    <tr>\n",
              "      <th>Villa Lugano</th>\n",
              "      <td>-58.502592</td>\n",
              "      <td>-58.474210</td>\n",
              "      <td>-34.603060</td>\n",
              "      <td>-34.678826</td>\n",
              "    </tr>\n",
              "    <tr>\n",
              "      <th>Villa Luro</th>\n",
              "      <td>-58.502670</td>\n",
              "      <td>-58.503993</td>\n",
              "      <td>-34.638733</td>\n",
              "      <td>-34.638978</td>\n",
              "    </tr>\n",
              "    <tr>\n",
              "      <th>Villa Ortúzar</th>\n",
              "      <td>-58.468916</td>\n",
              "      <td>-58.469704</td>\n",
              "      <td>-34.581706</td>\n",
              "      <td>-34.582157</td>\n",
              "    </tr>\n",
              "    <tr>\n",
              "      <th>Villa Pueyrredón</th>\n",
              "      <td>-58.501474</td>\n",
              "      <td>-58.502011</td>\n",
              "      <td>-34.585060</td>\n",
              "      <td>-34.584991</td>\n",
              "    </tr>\n",
              "    <tr>\n",
              "      <th>Villa Real</th>\n",
              "      <td>-58.521988</td>\n",
              "      <td>-58.524608</td>\n",
              "      <td>-34.619872</td>\n",
              "      <td>-34.619928</td>\n",
              "    </tr>\n",
              "    <tr>\n",
              "      <th>Villa Riachuelo</th>\n",
              "      <td>-58.470694</td>\n",
              "      <td>-58.469994</td>\n",
              "      <td>-34.692043</td>\n",
              "      <td>-34.690952</td>\n",
              "    </tr>\n",
              "    <tr>\n",
              "      <th>Villa Santa Rita</th>\n",
              "      <td>-58.481046</td>\n",
              "      <td>-58.480655</td>\n",
              "      <td>-34.615497</td>\n",
              "      <td>-34.615215</td>\n",
              "    </tr>\n",
              "    <tr>\n",
              "      <th>Villa Soldati</th>\n",
              "      <td>-58.442402</td>\n",
              "      <td>-58.443213</td>\n",
              "      <td>-34.665607</td>\n",
              "      <td>-34.665544</td>\n",
              "    </tr>\n",
              "    <tr>\n",
              "      <th>Villa Urquiza</th>\n",
              "      <td>-58.469722</td>\n",
              "      <td>-58.485612</td>\n",
              "      <td>-34.574104</td>\n",
              "      <td>-34.573915</td>\n",
              "    </tr>\n",
              "    <tr>\n",
              "      <th>Villa del Parque</th>\n",
              "      <td>-58.488820</td>\n",
              "      <td>-58.489075</td>\n",
              "      <td>-34.605975</td>\n",
              "      <td>-34.604937</td>\n",
              "    </tr>\n",
              "    <tr>\n",
              "      <th>Vélez Sarsfield</th>\n",
              "      <td>-58.491737</td>\n",
              "      <td>-58.488670</td>\n",
              "      <td>-34.633926</td>\n",
              "      <td>-34.635840</td>\n",
              "    </tr>\n",
              "  </tbody>\n",
              "</table>\n",
              "</div>\n",
              "      <button class=\"colab-df-convert\" onclick=\"convertToInteractive('df-3086677c-3cc6-4d31-9f02-abc2335f22ce')\"\n",
              "              title=\"Convert this dataframe to an interactive table.\"\n",
              "              style=\"display:none;\">\n",
              "        \n",
              "  <svg xmlns=\"http://www.w3.org/2000/svg\" height=\"24px\"viewBox=\"0 0 24 24\"\n",
              "       width=\"24px\">\n",
              "    <path d=\"M0 0h24v24H0V0z\" fill=\"none\"/>\n",
              "    <path d=\"M18.56 5.44l.94 2.06.94-2.06 2.06-.94-2.06-.94-.94-2.06-.94 2.06-2.06.94zm-11 1L8.5 8.5l.94-2.06 2.06-.94-2.06-.94L8.5 2.5l-.94 2.06-2.06.94zm10 10l.94 2.06.94-2.06 2.06-.94-2.06-.94-.94-2.06-.94 2.06-2.06.94z\"/><path d=\"M17.41 7.96l-1.37-1.37c-.4-.4-.92-.59-1.43-.59-.52 0-1.04.2-1.43.59L10.3 9.45l-7.72 7.72c-.78.78-.78 2.05 0 2.83L4 21.41c.39.39.9.59 1.41.59.51 0 1.02-.2 1.41-.59l7.78-7.78 2.81-2.81c.8-.78.8-2.07 0-2.86zM5.41 20L4 18.59l7.72-7.72 1.47 1.35L5.41 20z\"/>\n",
              "  </svg>\n",
              "      </button>\n",
              "      \n",
              "  <style>\n",
              "    .colab-df-container {\n",
              "      display:flex;\n",
              "      flex-wrap:wrap;\n",
              "      gap: 12px;\n",
              "    }\n",
              "\n",
              "    .colab-df-convert {\n",
              "      background-color: #E8F0FE;\n",
              "      border: none;\n",
              "      border-radius: 50%;\n",
              "      cursor: pointer;\n",
              "      display: none;\n",
              "      fill: #1967D2;\n",
              "      height: 32px;\n",
              "      padding: 0 0 0 0;\n",
              "      width: 32px;\n",
              "    }\n",
              "\n",
              "    .colab-df-convert:hover {\n",
              "      background-color: #E2EBFA;\n",
              "      box-shadow: 0px 1px 2px rgba(60, 64, 67, 0.3), 0px 1px 3px 1px rgba(60, 64, 67, 0.15);\n",
              "      fill: #174EA6;\n",
              "    }\n",
              "\n",
              "    [theme=dark] .colab-df-convert {\n",
              "      background-color: #3B4455;\n",
              "      fill: #D2E3FC;\n",
              "    }\n",
              "\n",
              "    [theme=dark] .colab-df-convert:hover {\n",
              "      background-color: #434B5C;\n",
              "      box-shadow: 0px 1px 3px 1px rgba(0, 0, 0, 0.15);\n",
              "      filter: drop-shadow(0px 1px 2px rgba(0, 0, 0, 0.3));\n",
              "      fill: #FFFFFF;\n",
              "    }\n",
              "  </style>\n",
              "\n",
              "      <script>\n",
              "        const buttonEl =\n",
              "          document.querySelector('#df-3086677c-3cc6-4d31-9f02-abc2335f22ce button.colab-df-convert');\n",
              "        buttonEl.style.display =\n",
              "          google.colab.kernel.accessAllowed ? 'block' : 'none';\n",
              "\n",
              "        async function convertToInteractive(key) {\n",
              "          const element = document.querySelector('#df-3086677c-3cc6-4d31-9f02-abc2335f22ce');\n",
              "          const dataTable =\n",
              "            await google.colab.kernel.invokeFunction('convertToInteractive',\n",
              "                                                     [key], {});\n",
              "          if (!dataTable) return;\n",
              "\n",
              "          const docLinkHtml = 'Like what you see? Visit the ' +\n",
              "            '<a target=\"_blank\" href=https://colab.research.google.com/notebooks/data_table.ipynb>data table notebook</a>'\n",
              "            + ' to learn more about interactive tables.';\n",
              "          element.innerHTML = '';\n",
              "          dataTable['output_type'] = 'display_data';\n",
              "          await google.colab.output.renderOutput(dataTable, element);\n",
              "          const docLink = document.createElement('div');\n",
              "          docLink.innerHTML = docLinkHtml;\n",
              "          element.appendChild(docLink);\n",
              "        }\n",
              "      </script>\n",
              "    </div>\n",
              "  </div>\n",
              "  "
            ]
          },
          "metadata": {},
          "execution_count": 164
        }
      ]
    },
    {
      "cell_type": "code",
      "source": [
        "df_p[['l3','lon','lat']].groupby(by = 'l3').agg(['mean','median'],axis = 'columns')"
      ],
      "metadata": {
        "colab": {
          "base_uri": "https://localhost:8080/",
          "height": 1000
        },
        "id": "zNZ6ppFzbZO5",
        "outputId": "fad77607-44ab-4b42-d631-ba9abedb401e"
      },
      "execution_count": 165,
      "outputs": [
        {
          "output_type": "execute_result",
          "data": {
            "text/plain": [
              "                           lon                   lat           \n",
              "                          mean     median       mean     median\n",
              "l3                                                             \n",
              "Agronomía           -58.477311 -58.477311 -34.595685 -34.595685\n",
              "Almagro             -58.422552 -58.423839 -34.606356 -34.605436\n",
              "Balvanera           -58.403269 -58.403760 -34.608748 -34.609901\n",
              "Barracas            -58.376779 -58.373926 -34.638456 -34.638005\n",
              "Belgrano            -58.453780 -58.449234 -34.565641 -34.566227\n",
              "Boca                -58.364682 -58.364215 -34.635268 -34.634496\n",
              "Boedo               -58.374621 -58.416617 -34.799768 -34.630298\n",
              "Caballito           -58.443762 -58.443964 -34.617910 -34.617666\n",
              "Chacarita           -58.452690 -58.452244 -34.584246 -34.583683\n",
              "Coghlan             -19.451746 -58.472259 -11.437240 -34.561139\n",
              "Colegiales          -58.447237 -58.449604 -34.576857 -34.578178\n",
              "Constitución        -58.390579 -58.384412 -34.621629 -34.626055\n",
              "Flores              -58.466011 -58.465793 -34.626666 -34.625476\n",
              "Floresta            -58.495851 -58.496580 -34.624250 -34.624677\n",
              "Liniers             -58.521298 -58.521683 -34.643153 -34.643888\n",
              "Mataderos           -58.506543 -58.506543 -34.656768 -34.656768\n",
              "Monserrat           -58.394016 -58.379238 -34.606428 -34.613712\n",
              "Monte Castro        -58.505389 -58.504471 -34.619397 -34.619334\n",
              "Nueva Pompeya       -58.419789 -58.421422 -34.642900 -34.643810\n",
              "Núñez               -58.462953 -58.461037 -34.548969 -34.551543\n",
              "Palermo             -58.427219 -58.426896 -34.583859 -34.581699\n",
              "Parque Avellaneda   -58.473139 -58.473139 -34.645239 -34.645239\n",
              "Parque Chacabuco    -58.435877 -58.437559 -34.635994 -34.638675\n",
              "Parque Chas         -58.478257 -58.477140 -34.584371 -34.584289\n",
              "Parque Patricios    -58.399466 -58.400873 -34.634932 -34.635360\n",
              "Paternal            -58.468654 -58.468305 -34.599428 -34.604604\n",
              "Puerto Madero       -58.362244 -58.361777 -34.614930 -34.615319\n",
              "Recoleta            -58.401837 -58.402494 -34.592752 -34.593563\n",
              "Retiro              -58.381151 -58.381181 -34.596960 -34.597760\n",
              "Saavedra            -53.391584 -58.479363 -31.534797 -34.550123\n",
              "San Cristóbal       -58.397621 -58.396436 -34.621985 -34.621538\n",
              "San Nicolás         -58.812935 -58.381097 -34.116262 -34.602176\n",
              "San Telmo           -58.373900 -58.371394 -34.621801 -34.621835\n",
              "Versalles           -58.526318 -58.527704 -34.625002 -34.623301\n",
              "Villa Crespo        -58.440767 -58.440631 -34.600274 -34.600599\n",
              "Villa Devoto        -58.507554 -58.506366 -34.598774 -34.599692\n",
              "Villa General Mitre -58.470689 -58.470853 -34.608771 -34.608790\n",
              "Villa Lugano        -58.473578 -58.474260 -34.678860 -34.675307\n",
              "Villa Luro          -58.506447 -58.508017 -34.633519 -34.632314\n",
              "Villa Ortúzar       -58.469981 -58.471406 -34.581950 -34.580484\n",
              "Villa Pueyrredón    -58.502611 -58.502377 -34.589146 -34.587866\n",
              "Villa Real          -58.524096 -58.524096 -34.614855 -34.614855\n",
              "Villa Santa Rita    -58.483423 -58.480131 -34.615671 -34.615309\n",
              "Villa Urquiza       -58.485591 -58.485868 -34.574397 -34.570809\n",
              "Villa del Parque    -58.486945 -58.487944 -34.603896 -34.601577\n",
              "Vélez Sarsfield     -58.496055 -58.496055 -34.628118 -34.628118"
            ],
            "text/html": [
              "\n",
              "  <div id=\"df-0ecbd821-6a0e-46a2-aba4-17a8decd80ee\">\n",
              "    <div class=\"colab-df-container\">\n",
              "      <div>\n",
              "<style scoped>\n",
              "    .dataframe tbody tr th:only-of-type {\n",
              "        vertical-align: middle;\n",
              "    }\n",
              "\n",
              "    .dataframe tbody tr th {\n",
              "        vertical-align: top;\n",
              "    }\n",
              "\n",
              "    .dataframe thead tr th {\n",
              "        text-align: left;\n",
              "    }\n",
              "\n",
              "    .dataframe thead tr:last-of-type th {\n",
              "        text-align: right;\n",
              "    }\n",
              "</style>\n",
              "<table border=\"1\" class=\"dataframe\">\n",
              "  <thead>\n",
              "    <tr>\n",
              "      <th></th>\n",
              "      <th colspan=\"2\" halign=\"left\">lon</th>\n",
              "      <th colspan=\"2\" halign=\"left\">lat</th>\n",
              "    </tr>\n",
              "    <tr>\n",
              "      <th></th>\n",
              "      <th>mean</th>\n",
              "      <th>median</th>\n",
              "      <th>mean</th>\n",
              "      <th>median</th>\n",
              "    </tr>\n",
              "    <tr>\n",
              "      <th>l3</th>\n",
              "      <th></th>\n",
              "      <th></th>\n",
              "      <th></th>\n",
              "      <th></th>\n",
              "    </tr>\n",
              "  </thead>\n",
              "  <tbody>\n",
              "    <tr>\n",
              "      <th>Agronomía</th>\n",
              "      <td>-58.477311</td>\n",
              "      <td>-58.477311</td>\n",
              "      <td>-34.595685</td>\n",
              "      <td>-34.595685</td>\n",
              "    </tr>\n",
              "    <tr>\n",
              "      <th>Almagro</th>\n",
              "      <td>-58.422552</td>\n",
              "      <td>-58.423839</td>\n",
              "      <td>-34.606356</td>\n",
              "      <td>-34.605436</td>\n",
              "    </tr>\n",
              "    <tr>\n",
              "      <th>Balvanera</th>\n",
              "      <td>-58.403269</td>\n",
              "      <td>-58.403760</td>\n",
              "      <td>-34.608748</td>\n",
              "      <td>-34.609901</td>\n",
              "    </tr>\n",
              "    <tr>\n",
              "      <th>Barracas</th>\n",
              "      <td>-58.376779</td>\n",
              "      <td>-58.373926</td>\n",
              "      <td>-34.638456</td>\n",
              "      <td>-34.638005</td>\n",
              "    </tr>\n",
              "    <tr>\n",
              "      <th>Belgrano</th>\n",
              "      <td>-58.453780</td>\n",
              "      <td>-58.449234</td>\n",
              "      <td>-34.565641</td>\n",
              "      <td>-34.566227</td>\n",
              "    </tr>\n",
              "    <tr>\n",
              "      <th>Boca</th>\n",
              "      <td>-58.364682</td>\n",
              "      <td>-58.364215</td>\n",
              "      <td>-34.635268</td>\n",
              "      <td>-34.634496</td>\n",
              "    </tr>\n",
              "    <tr>\n",
              "      <th>Boedo</th>\n",
              "      <td>-58.374621</td>\n",
              "      <td>-58.416617</td>\n",
              "      <td>-34.799768</td>\n",
              "      <td>-34.630298</td>\n",
              "    </tr>\n",
              "    <tr>\n",
              "      <th>Caballito</th>\n",
              "      <td>-58.443762</td>\n",
              "      <td>-58.443964</td>\n",
              "      <td>-34.617910</td>\n",
              "      <td>-34.617666</td>\n",
              "    </tr>\n",
              "    <tr>\n",
              "      <th>Chacarita</th>\n",
              "      <td>-58.452690</td>\n",
              "      <td>-58.452244</td>\n",
              "      <td>-34.584246</td>\n",
              "      <td>-34.583683</td>\n",
              "    </tr>\n",
              "    <tr>\n",
              "      <th>Coghlan</th>\n",
              "      <td>-19.451746</td>\n",
              "      <td>-58.472259</td>\n",
              "      <td>-11.437240</td>\n",
              "      <td>-34.561139</td>\n",
              "    </tr>\n",
              "    <tr>\n",
              "      <th>Colegiales</th>\n",
              "      <td>-58.447237</td>\n",
              "      <td>-58.449604</td>\n",
              "      <td>-34.576857</td>\n",
              "      <td>-34.578178</td>\n",
              "    </tr>\n",
              "    <tr>\n",
              "      <th>Constitución</th>\n",
              "      <td>-58.390579</td>\n",
              "      <td>-58.384412</td>\n",
              "      <td>-34.621629</td>\n",
              "      <td>-34.626055</td>\n",
              "    </tr>\n",
              "    <tr>\n",
              "      <th>Flores</th>\n",
              "      <td>-58.466011</td>\n",
              "      <td>-58.465793</td>\n",
              "      <td>-34.626666</td>\n",
              "      <td>-34.625476</td>\n",
              "    </tr>\n",
              "    <tr>\n",
              "      <th>Floresta</th>\n",
              "      <td>-58.495851</td>\n",
              "      <td>-58.496580</td>\n",
              "      <td>-34.624250</td>\n",
              "      <td>-34.624677</td>\n",
              "    </tr>\n",
              "    <tr>\n",
              "      <th>Liniers</th>\n",
              "      <td>-58.521298</td>\n",
              "      <td>-58.521683</td>\n",
              "      <td>-34.643153</td>\n",
              "      <td>-34.643888</td>\n",
              "    </tr>\n",
              "    <tr>\n",
              "      <th>Mataderos</th>\n",
              "      <td>-58.506543</td>\n",
              "      <td>-58.506543</td>\n",
              "      <td>-34.656768</td>\n",
              "      <td>-34.656768</td>\n",
              "    </tr>\n",
              "    <tr>\n",
              "      <th>Monserrat</th>\n",
              "      <td>-58.394016</td>\n",
              "      <td>-58.379238</td>\n",
              "      <td>-34.606428</td>\n",
              "      <td>-34.613712</td>\n",
              "    </tr>\n",
              "    <tr>\n",
              "      <th>Monte Castro</th>\n",
              "      <td>-58.505389</td>\n",
              "      <td>-58.504471</td>\n",
              "      <td>-34.619397</td>\n",
              "      <td>-34.619334</td>\n",
              "    </tr>\n",
              "    <tr>\n",
              "      <th>Nueva Pompeya</th>\n",
              "      <td>-58.419789</td>\n",
              "      <td>-58.421422</td>\n",
              "      <td>-34.642900</td>\n",
              "      <td>-34.643810</td>\n",
              "    </tr>\n",
              "    <tr>\n",
              "      <th>Núñez</th>\n",
              "      <td>-58.462953</td>\n",
              "      <td>-58.461037</td>\n",
              "      <td>-34.548969</td>\n",
              "      <td>-34.551543</td>\n",
              "    </tr>\n",
              "    <tr>\n",
              "      <th>Palermo</th>\n",
              "      <td>-58.427219</td>\n",
              "      <td>-58.426896</td>\n",
              "      <td>-34.583859</td>\n",
              "      <td>-34.581699</td>\n",
              "    </tr>\n",
              "    <tr>\n",
              "      <th>Parque Avellaneda</th>\n",
              "      <td>-58.473139</td>\n",
              "      <td>-58.473139</td>\n",
              "      <td>-34.645239</td>\n",
              "      <td>-34.645239</td>\n",
              "    </tr>\n",
              "    <tr>\n",
              "      <th>Parque Chacabuco</th>\n",
              "      <td>-58.435877</td>\n",
              "      <td>-58.437559</td>\n",
              "      <td>-34.635994</td>\n",
              "      <td>-34.638675</td>\n",
              "    </tr>\n",
              "    <tr>\n",
              "      <th>Parque Chas</th>\n",
              "      <td>-58.478257</td>\n",
              "      <td>-58.477140</td>\n",
              "      <td>-34.584371</td>\n",
              "      <td>-34.584289</td>\n",
              "    </tr>\n",
              "    <tr>\n",
              "      <th>Parque Patricios</th>\n",
              "      <td>-58.399466</td>\n",
              "      <td>-58.400873</td>\n",
              "      <td>-34.634932</td>\n",
              "      <td>-34.635360</td>\n",
              "    </tr>\n",
              "    <tr>\n",
              "      <th>Paternal</th>\n",
              "      <td>-58.468654</td>\n",
              "      <td>-58.468305</td>\n",
              "      <td>-34.599428</td>\n",
              "      <td>-34.604604</td>\n",
              "    </tr>\n",
              "    <tr>\n",
              "      <th>Puerto Madero</th>\n",
              "      <td>-58.362244</td>\n",
              "      <td>-58.361777</td>\n",
              "      <td>-34.614930</td>\n",
              "      <td>-34.615319</td>\n",
              "    </tr>\n",
              "    <tr>\n",
              "      <th>Recoleta</th>\n",
              "      <td>-58.401837</td>\n",
              "      <td>-58.402494</td>\n",
              "      <td>-34.592752</td>\n",
              "      <td>-34.593563</td>\n",
              "    </tr>\n",
              "    <tr>\n",
              "      <th>Retiro</th>\n",
              "      <td>-58.381151</td>\n",
              "      <td>-58.381181</td>\n",
              "      <td>-34.596960</td>\n",
              "      <td>-34.597760</td>\n",
              "    </tr>\n",
              "    <tr>\n",
              "      <th>Saavedra</th>\n",
              "      <td>-53.391584</td>\n",
              "      <td>-58.479363</td>\n",
              "      <td>-31.534797</td>\n",
              "      <td>-34.550123</td>\n",
              "    </tr>\n",
              "    <tr>\n",
              "      <th>San Cristóbal</th>\n",
              "      <td>-58.397621</td>\n",
              "      <td>-58.396436</td>\n",
              "      <td>-34.621985</td>\n",
              "      <td>-34.621538</td>\n",
              "    </tr>\n",
              "    <tr>\n",
              "      <th>San Nicolás</th>\n",
              "      <td>-58.812935</td>\n",
              "      <td>-58.381097</td>\n",
              "      <td>-34.116262</td>\n",
              "      <td>-34.602176</td>\n",
              "    </tr>\n",
              "    <tr>\n",
              "      <th>San Telmo</th>\n",
              "      <td>-58.373900</td>\n",
              "      <td>-58.371394</td>\n",
              "      <td>-34.621801</td>\n",
              "      <td>-34.621835</td>\n",
              "    </tr>\n",
              "    <tr>\n",
              "      <th>Versalles</th>\n",
              "      <td>-58.526318</td>\n",
              "      <td>-58.527704</td>\n",
              "      <td>-34.625002</td>\n",
              "      <td>-34.623301</td>\n",
              "    </tr>\n",
              "    <tr>\n",
              "      <th>Villa Crespo</th>\n",
              "      <td>-58.440767</td>\n",
              "      <td>-58.440631</td>\n",
              "      <td>-34.600274</td>\n",
              "      <td>-34.600599</td>\n",
              "    </tr>\n",
              "    <tr>\n",
              "      <th>Villa Devoto</th>\n",
              "      <td>-58.507554</td>\n",
              "      <td>-58.506366</td>\n",
              "      <td>-34.598774</td>\n",
              "      <td>-34.599692</td>\n",
              "    </tr>\n",
              "    <tr>\n",
              "      <th>Villa General Mitre</th>\n",
              "      <td>-58.470689</td>\n",
              "      <td>-58.470853</td>\n",
              "      <td>-34.608771</td>\n",
              "      <td>-34.608790</td>\n",
              "    </tr>\n",
              "    <tr>\n",
              "      <th>Villa Lugano</th>\n",
              "      <td>-58.473578</td>\n",
              "      <td>-58.474260</td>\n",
              "      <td>-34.678860</td>\n",
              "      <td>-34.675307</td>\n",
              "    </tr>\n",
              "    <tr>\n",
              "      <th>Villa Luro</th>\n",
              "      <td>-58.506447</td>\n",
              "      <td>-58.508017</td>\n",
              "      <td>-34.633519</td>\n",
              "      <td>-34.632314</td>\n",
              "    </tr>\n",
              "    <tr>\n",
              "      <th>Villa Ortúzar</th>\n",
              "      <td>-58.469981</td>\n",
              "      <td>-58.471406</td>\n",
              "      <td>-34.581950</td>\n",
              "      <td>-34.580484</td>\n",
              "    </tr>\n",
              "    <tr>\n",
              "      <th>Villa Pueyrredón</th>\n",
              "      <td>-58.502611</td>\n",
              "      <td>-58.502377</td>\n",
              "      <td>-34.589146</td>\n",
              "      <td>-34.587866</td>\n",
              "    </tr>\n",
              "    <tr>\n",
              "      <th>Villa Real</th>\n",
              "      <td>-58.524096</td>\n",
              "      <td>-58.524096</td>\n",
              "      <td>-34.614855</td>\n",
              "      <td>-34.614855</td>\n",
              "    </tr>\n",
              "    <tr>\n",
              "      <th>Villa Santa Rita</th>\n",
              "      <td>-58.483423</td>\n",
              "      <td>-58.480131</td>\n",
              "      <td>-34.615671</td>\n",
              "      <td>-34.615309</td>\n",
              "    </tr>\n",
              "    <tr>\n",
              "      <th>Villa Urquiza</th>\n",
              "      <td>-58.485591</td>\n",
              "      <td>-58.485868</td>\n",
              "      <td>-34.574397</td>\n",
              "      <td>-34.570809</td>\n",
              "    </tr>\n",
              "    <tr>\n",
              "      <th>Villa del Parque</th>\n",
              "      <td>-58.486945</td>\n",
              "      <td>-58.487944</td>\n",
              "      <td>-34.603896</td>\n",
              "      <td>-34.601577</td>\n",
              "    </tr>\n",
              "    <tr>\n",
              "      <th>Vélez Sarsfield</th>\n",
              "      <td>-58.496055</td>\n",
              "      <td>-58.496055</td>\n",
              "      <td>-34.628118</td>\n",
              "      <td>-34.628118</td>\n",
              "    </tr>\n",
              "  </tbody>\n",
              "</table>\n",
              "</div>\n",
              "      <button class=\"colab-df-convert\" onclick=\"convertToInteractive('df-0ecbd821-6a0e-46a2-aba4-17a8decd80ee')\"\n",
              "              title=\"Convert this dataframe to an interactive table.\"\n",
              "              style=\"display:none;\">\n",
              "        \n",
              "  <svg xmlns=\"http://www.w3.org/2000/svg\" height=\"24px\"viewBox=\"0 0 24 24\"\n",
              "       width=\"24px\">\n",
              "    <path d=\"M0 0h24v24H0V0z\" fill=\"none\"/>\n",
              "    <path d=\"M18.56 5.44l.94 2.06.94-2.06 2.06-.94-2.06-.94-.94-2.06-.94 2.06-2.06.94zm-11 1L8.5 8.5l.94-2.06 2.06-.94-2.06-.94L8.5 2.5l-.94 2.06-2.06.94zm10 10l.94 2.06.94-2.06 2.06-.94-2.06-.94-.94-2.06-.94 2.06-2.06.94z\"/><path d=\"M17.41 7.96l-1.37-1.37c-.4-.4-.92-.59-1.43-.59-.52 0-1.04.2-1.43.59L10.3 9.45l-7.72 7.72c-.78.78-.78 2.05 0 2.83L4 21.41c.39.39.9.59 1.41.59.51 0 1.02-.2 1.41-.59l7.78-7.78 2.81-2.81c.8-.78.8-2.07 0-2.86zM5.41 20L4 18.59l7.72-7.72 1.47 1.35L5.41 20z\"/>\n",
              "  </svg>\n",
              "      </button>\n",
              "      \n",
              "  <style>\n",
              "    .colab-df-container {\n",
              "      display:flex;\n",
              "      flex-wrap:wrap;\n",
              "      gap: 12px;\n",
              "    }\n",
              "\n",
              "    .colab-df-convert {\n",
              "      background-color: #E8F0FE;\n",
              "      border: none;\n",
              "      border-radius: 50%;\n",
              "      cursor: pointer;\n",
              "      display: none;\n",
              "      fill: #1967D2;\n",
              "      height: 32px;\n",
              "      padding: 0 0 0 0;\n",
              "      width: 32px;\n",
              "    }\n",
              "\n",
              "    .colab-df-convert:hover {\n",
              "      background-color: #E2EBFA;\n",
              "      box-shadow: 0px 1px 2px rgba(60, 64, 67, 0.3), 0px 1px 3px 1px rgba(60, 64, 67, 0.15);\n",
              "      fill: #174EA6;\n",
              "    }\n",
              "\n",
              "    [theme=dark] .colab-df-convert {\n",
              "      background-color: #3B4455;\n",
              "      fill: #D2E3FC;\n",
              "    }\n",
              "\n",
              "    [theme=dark] .colab-df-convert:hover {\n",
              "      background-color: #434B5C;\n",
              "      box-shadow: 0px 1px 3px 1px rgba(0, 0, 0, 0.15);\n",
              "      filter: drop-shadow(0px 1px 2px rgba(0, 0, 0, 0.3));\n",
              "      fill: #FFFFFF;\n",
              "    }\n",
              "  </style>\n",
              "\n",
              "      <script>\n",
              "        const buttonEl =\n",
              "          document.querySelector('#df-0ecbd821-6a0e-46a2-aba4-17a8decd80ee button.colab-df-convert');\n",
              "        buttonEl.style.display =\n",
              "          google.colab.kernel.accessAllowed ? 'block' : 'none';\n",
              "\n",
              "        async function convertToInteractive(key) {\n",
              "          const element = document.querySelector('#df-0ecbd821-6a0e-46a2-aba4-17a8decd80ee');\n",
              "          const dataTable =\n",
              "            await google.colab.kernel.invokeFunction('convertToInteractive',\n",
              "                                                     [key], {});\n",
              "          if (!dataTable) return;\n",
              "\n",
              "          const docLinkHtml = 'Like what you see? Visit the ' +\n",
              "            '<a target=\"_blank\" href=https://colab.research.google.com/notebooks/data_table.ipynb>data table notebook</a>'\n",
              "            + ' to learn more about interactive tables.';\n",
              "          element.innerHTML = '';\n",
              "          dataTable['output_type'] = 'display_data';\n",
              "          await google.colab.output.renderOutput(dataTable, element);\n",
              "          const docLink = document.createElement('div');\n",
              "          docLink.innerHTML = docLinkHtml;\n",
              "          element.appendChild(docLink);\n",
              "        }\n",
              "      </script>\n",
              "    </div>\n",
              "  </div>\n",
              "  "
            ]
          },
          "metadata": {},
          "execution_count": 165
        }
      ]
    },
    {
      "cell_type": "code",
      "source": [
        "mask = (df_t.l3 == 'Villa Crespo') & (df_t.created_on.dt.month == 7) & (df_t.created_on.dt.year == 2020)\n",
        "df_t.loc[mask,'price'].apply(np.log).hist(bins = 40, range = (5,18));"
      ],
      "metadata": {
        "colab": {
          "base_uri": "https://localhost:8080/",
          "height": 265
        },
        "id": "4HpdvKIVC20Y",
        "outputId": "6c4a3421-e0f7-4f7e-e30b-300a302425e1"
      },
      "execution_count": 166,
      "outputs": [
        {
          "output_type": "display_data",
          "data": {
            "text/plain": [
              "<Figure size 432x288 with 1 Axes>"
            ],
            "image/png": "[encoded data removed]"
          },
          "metadata": {
            "needs_background": "light"
          }
        }
      ]
    },
    {
      "cell_type": "markdown",
      "source": [
        "####Tipo de propiedad"
      ],
      "metadata": {
        "id": "n7R05zdvza7x"
      }
    },
    {
      "cell_type": "code",
      "source": [
        "df_t.property_type.value_counts()"
      ],
      "metadata": {
        "colab": {
          "base_uri": "https://localhost:8080/"
        },
        "id": "Vvl1USlLuxy8",
        "outputId": "39c89bbc-b6f3-4e96-a5a1-2cfc4f2bf308"
      },
      "execution_count": 167,
      "outputs": [
        {
          "output_type": "execute_result",
          "data": {
            "text/plain": [
              "Departamento    134044\n",
              "PH               13581\n",
              "Name: property_type, dtype: int64"
            ]
          },
          "metadata": {},
          "execution_count": 167
        }
      ]
    },
    {
      "cell_type": "code",
      "source": [
        "((df_t.property_type == 'PH') & (df_t.l3 == 'Puerto Madero')).sum()"
      ],
      "metadata": {
        "colab": {
          "base_uri": "https://localhost:8080/"
        },
        "id": "cTSOk741WLp4",
        "outputId": "a49198ca-11a2-4e4a-a592-72b7f952794f"
      },
      "execution_count": 168,
      "outputs": [
        {
          "output_type": "execute_result",
          "data": {
            "text/plain": [
              "0"
            ]
          },
          "metadata": {},
          "execution_count": 168
        }
      ]
    },
    {
      "cell_type": "markdown",
      "source": [
        "####Baños"
      ],
      "metadata": {
        "id": "Rl6cMK3GS7GE"
      }
    },
    {
      "cell_type": "code",
      "source": [
        "df_t.boxplot('bathrooms');"
      ],
      "metadata": {
        "colab": {
          "base_uri": "https://localhost:8080/",
          "height": 265
        },
        "outputId": "bc1b6411-4307-4b41-e12c-796a8938fb40",
        "id": "cbBiXT_HTBYo"
      },
      "execution_count": 169,
      "outputs": [
        {
          "output_type": "display_data",
          "data": {
            "text/plain": [
              "<Figure size 432x288 with 1 Axes>"
            ],
            "image/png": "[encoded data removed]"
          },
          "metadata": {
            "needs_background": "light"
          }
        }
      ]
    },
    {
      "cell_type": "code",
      "source": [
        "for i in range(3,7):\n",
        "  print((df_t.bathrooms > i).sum())"
      ],
      "metadata": {
        "colab": {
          "base_uri": "https://localhost:8080/"
        },
        "outputId": "2d8794d2-4a0f-4ad9-9686-c1f153983931",
        "id": "3KbnYoEzTBYo"
      },
      "execution_count": 170,
      "outputs": [
        {
          "output_type": "stream",
          "name": "stdout",
          "text": [
            "4738\n",
            "1390\n",
            "238\n",
            "80\n"
          ]
        }
      ]
    },
    {
      "cell_type": "code",
      "source": [
        "(df_t.bathrooms == 0).sum()"
      ],
      "metadata": {
        "colab": {
          "base_uri": "https://localhost:8080/"
        },
        "outputId": "c4c9c9a1-bad9-4dd9-9eac-dc230a08836c",
        "id": "8oa7Tid8TBYp"
      },
      "execution_count": 171,
      "outputs": [
        {
          "output_type": "execute_result",
          "data": {
            "text/plain": [
              "0"
            ]
          },
          "metadata": {},
          "execution_count": 171
        }
      ]
    },
    {
      "cell_type": "markdown",
      "source": [
        "####Ambientes"
      ],
      "metadata": {
        "id": "SdKnl1hvm9vB"
      }
    },
    {
      "cell_type": "code",
      "source": [
        "df_t.boxplot('rooms');"
      ],
      "metadata": {
        "colab": {
          "base_uri": "https://localhost:8080/",
          "height": 265
        },
        "outputId": "4d2495dc-0ab5-44ce-b0ce-0996c80ff907",
        "id": "s1uaZeF8m_s4"
      },
      "execution_count": 172,
      "outputs": [
        {
          "output_type": "display_data",
          "data": {
            "text/plain": [
              "<Figure size 432x288 with 1 Axes>"
            ],
            "image/png": "[encoded data removed]"
          },
          "metadata": {
            "needs_background": "light"
          }
        }
      ]
    },
    {
      "cell_type": "markdown",
      "source": [
        "Filtrar más allá de 13, quizás entre 1 y 7/8/9"
      ],
      "metadata": {
        "id": "ZlrU4oUTm_s4"
      }
    },
    {
      "cell_type": "code",
      "source": [
        "for i in range(4,10):  \n",
        "  print((df_t.rooms > i).sum())"
      ],
      "metadata": {
        "colab": {
          "base_uri": "https://localhost:8080/"
        },
        "outputId": "2de60f6b-2dee-42ba-82e4-b0f1e5225e50",
        "id": "NXHrI5bim_s5"
      },
      "execution_count": 173,
      "outputs": [
        {
          "output_type": "stream",
          "name": "stdout",
          "text": [
            "9573\n",
            "3220\n",
            "1417\n",
            "639\n",
            "333\n",
            "182\n"
          ]
        }
      ]
    },
    {
      "cell_type": "code",
      "source": [
        "(df_t.rooms == 0).sum()"
      ],
      "metadata": {
        "colab": {
          "base_uri": "https://localhost:8080/"
        },
        "outputId": "a3ccc7ff-9f2e-42ee-97e1-a62d61096693",
        "id": "Axt9Eyuqm_s5"
      },
      "execution_count": 174,
      "outputs": [
        {
          "output_type": "execute_result",
          "data": {
            "text/plain": [
              "0"
            ]
          },
          "metadata": {},
          "execution_count": 174
        }
      ]
    },
    {
      "cell_type": "markdown",
      "source": [
        "####Dormitorios"
      ],
      "metadata": {
        "id": "cSP34gxhLjzW"
      }
    },
    {
      "cell_type": "code",
      "source": [
        "df_t.bedrooms.hist(bins = 40);"
      ],
      "metadata": {
        "colab": {
          "base_uri": "https://localhost:8080/",
          "height": 265
        },
        "outputId": "c96b20e6-b5f1-4bbe-eb59-7e119c96b166",
        "id": "N0CaztEULl_D"
      },
      "execution_count": 175,
      "outputs": [
        {
          "output_type": "display_data",
          "data": {
            "text/plain": [
              "<Figure size 432x288 with 1 Axes>"
            ],
            "image/png": "[encoded data removed]"
          },
          "metadata": {
            "needs_background": "light"
          }
        }
      ]
    },
    {
      "cell_type": "code",
      "source": [
        "df_t.boxplot('bedrooms');"
      ],
      "metadata": {
        "colab": {
          "base_uri": "https://localhost:8080/",
          "height": 268
        },
        "outputId": "d972a32a-9c2f-4d63-99c5-5b1661293e26",
        "id": "JlvynEFiLl_D"
      },
      "execution_count": 176,
      "outputs": [
        {
          "output_type": "display_data",
          "data": {
            "text/plain": [
              "<Figure size 432x288 with 1 Axes>"
            ],
            "image/png": "[encoded data removed]"
          },
          "metadata": {
            "needs_background": "light"
          }
        }
      ]
    },
    {
      "cell_type": "code",
      "source": [
        "for i in range(4,11):\n",
        "  print((df_t.bedrooms > i).sum())"
      ],
      "metadata": {
        "colab": {
          "base_uri": "https://localhost:8080/"
        },
        "outputId": "6f9e711c-28c6-4503-b42f-9ad36e1df8e7",
        "id": "NoFkZZXdLl_D"
      },
      "execution_count": 177,
      "outputs": [
        {
          "output_type": "stream",
          "name": "stdout",
          "text": [
            "1655\n",
            "670\n",
            "268\n",
            "180\n",
            "101\n",
            "83\n",
            "60\n"
          ]
        }
      ]
    },
    {
      "cell_type": "markdown",
      "source": [
        "¿Son realmente cero dormitorios?"
      ],
      "metadata": {
        "id": "Re0oDwKkMJWc"
      }
    },
    {
      "cell_type": "code",
      "source": [
        "(df_t.bedrooms == 0).sum()"
      ],
      "metadata": {
        "colab": {
          "base_uri": "https://localhost:8080/"
        },
        "outputId": "96bcf542-70db-418f-e39e-0174b3fdb215",
        "id": "FcYzcH_BLl_E"
      },
      "execution_count": 178,
      "outputs": [
        {
          "output_type": "execute_result",
          "data": {
            "text/plain": [
              "5091"
            ]
          },
          "metadata": {},
          "execution_count": 178
        }
      ]
    },
    {
      "cell_type": "markdown",
      "source": [
        "####Fecha de finalización de aviso"
      ],
      "metadata": {
        "id": "ITJ_qx6Fy7to"
      }
    },
    {
      "cell_type": "code",
      "source": [
        "df_t.end_date.value_counts()"
      ],
      "metadata": {
        "colab": {
          "base_uri": "https://localhost:8080/"
        },
        "id": "VIS4NKRn2wD0",
        "outputId": "b991c065-236f-4335-8989-93a9dfe869cd"
      },
      "execution_count": 179,
      "outputs": [
        {
          "output_type": "execute_result",
          "data": {
            "text/plain": [
              "9999-12-31    26158\n",
              "2021-06-05    11998\n",
              "2021-04-09     2713\n",
              "2021-06-08     2707\n",
              "2020-09-04     2441\n",
              "              ...  \n",
              "2020-05-31        6\n",
              "2020-06-06        6\n",
              "2020-06-21        3\n",
              "2020-05-27        2\n",
              "2020-05-26        2\n",
              "Name: end_date, Length: 447, dtype: int64"
            ]
          },
          "metadata": {},
          "execution_count": 179
        }
      ]
    },
    {
      "cell_type": "markdown",
      "source": [
        "####Superficie"
      ],
      "metadata": {
        "id": "xAIIycCszJZo"
      }
    },
    {
      "cell_type": "markdown",
      "source": [
        "Razonable que la superficie total esté entre 20m2/25m2 y 500m2/600m2"
      ],
      "metadata": {
        "id": "3S6nb9uZ1_dw"
      }
    },
    {
      "cell_type": "code",
      "source": [
        "df_t.surface_total.hist(bins = 40,range = (0,1000));"
      ],
      "metadata": {
        "colab": {
          "base_uri": "https://localhost:8080/",
          "height": 265
        },
        "id": "HPWrEL561n2l",
        "outputId": "6d214c2b-0a40-4075-8d11-6d1080975703"
      },
      "execution_count": 180,
      "outputs": [
        {
          "output_type": "display_data",
          "data": {
            "text/plain": [
              "<Figure size 432x288 with 1 Axes>"
            ],
            "image/png": "[encoded data removed]"
          },
          "metadata": {
            "needs_background": "light"
          }
        }
      ]
    },
    {
      "cell_type": "code",
      "source": [
        "for s in [300,400,500,600]:\n",
        "  print((df_t.surface_total > s).sum())"
      ],
      "metadata": {
        "colab": {
          "base_uri": "https://localhost:8080/"
        },
        "id": "3wla-Hni01iA",
        "outputId": "db8015f1-472a-410d-c71f-752a9dbc7f71"
      },
      "execution_count": 181,
      "outputs": [
        {
          "output_type": "stream",
          "name": "stdout",
          "text": [
            "2315\n",
            "982\n",
            "512\n",
            "335\n"
          ]
        }
      ]
    },
    {
      "cell_type": "code",
      "source": [
        "df_t.surface_total.hist(bins = 40,range = (-10,50));"
      ],
      "metadata": {
        "colab": {
          "base_uri": "https://localhost:8080/",
          "height": 266
        },
        "id": "OnK28thK0pKK",
        "outputId": "eb0abd43-f121-4f99-cf6d-d0fcd591610c"
      },
      "execution_count": 182,
      "outputs": [
        {
          "output_type": "display_data",
          "data": {
            "text/plain": [
              "<Figure size 432x288 with 1 Axes>"
            ],
            "image/png": "[encoded data removed]"
          },
          "metadata": {
            "needs_background": "light"
          }
        }
      ]
    },
    {
      "cell_type": "code",
      "source": [
        "for s in [20,25,30,35]:\n",
        "  print((df_t.surface_total < s).sum())"
      ],
      "metadata": {
        "colab": {
          "base_uri": "https://localhost:8080/"
        },
        "id": "-CzM5MGx1E63",
        "outputId": "0edf7837-45e2-4e44-b578-ac9e4f7f6a12"
      },
      "execution_count": 183,
      "outputs": [
        {
          "output_type": "stream",
          "name": "stdout",
          "text": [
            "231\n",
            "1264\n",
            "3428\n",
            "9269\n"
          ]
        }
      ]
    },
    {
      "cell_type": "markdown",
      "source": [
        "Para superficie cubierta:"
      ],
      "metadata": {
        "id": "v1B0LmVy2yJh"
      }
    },
    {
      "cell_type": "code",
      "source": [
        "df_t.surface_covered.hist(bins = 40,range = (0,1000));"
      ],
      "metadata": {
        "colab": {
          "base_uri": "https://localhost:8080/",
          "height": 265
        },
        "outputId": "7e061e60-9ab2-4083-9bc9-8b2f3beea123",
        "id": "cS1f0VQP2X_o"
      },
      "execution_count": 184,
      "outputs": [
        {
          "output_type": "display_data",
          "data": {
            "text/plain": [
              "<Figure size 432x288 with 1 Axes>"
            ],
            "image/png": "[encoded data removed]"
          },
          "metadata": {
            "needs_background": "light"
          }
        }
      ]
    },
    {
      "cell_type": "code",
      "source": [
        "for s in [300,400,500,600]:\n",
        "  print((df_t.surface_covered > s).sum())"
      ],
      "metadata": {
        "colab": {
          "base_uri": "https://localhost:8080/"
        },
        "outputId": "34365f16-c09f-4748-bab6-45f2fabd5155",
        "id": "Ti7zuFPw2X_p"
      },
      "execution_count": 185,
      "outputs": [
        {
          "output_type": "stream",
          "name": "stdout",
          "text": [
            "1544\n",
            "529\n",
            "218\n",
            "156\n"
          ]
        }
      ]
    },
    {
      "cell_type": "code",
      "source": [
        "df_t.surface_covered.hist(bins = 40,range = (-10,50));"
      ],
      "metadata": {
        "colab": {
          "base_uri": "https://localhost:8080/",
          "height": 265
        },
        "outputId": "4debbedf-e2a8-4488-ee3c-693308fe77fd",
        "id": "9kFe2T-Q2X_p"
      },
      "execution_count": 186,
      "outputs": [
        {
          "output_type": "display_data",
          "data": {
            "text/plain": [
              "<Figure size 432x288 with 1 Axes>"
            ],
            "image/png": "[encoded data removed]"
          },
          "metadata": {
            "needs_background": "light"
          }
        }
      ]
    },
    {
      "cell_type": "code",
      "source": [
        "for s in [15,20,25,30,35]:\n",
        "  print((df_t.surface_covered < s).sum())"
      ],
      "metadata": {
        "colab": {
          "base_uri": "https://localhost:8080/"
        },
        "outputId": "59750bf4-00e8-45db-a35b-798539e07c94",
        "id": "WRjKa5e_2X_p"
      },
      "execution_count": 187,
      "outputs": [
        {
          "output_type": "stream",
          "name": "stdout",
          "text": [
            "148\n",
            "385\n",
            "1827\n",
            "5777\n",
            "14602\n"
          ]
        }
      ]
    },
    {
      "cell_type": "code",
      "source": [
        "(df_t.surface_total-df_t.surface_covered).describe()"
      ],
      "metadata": {
        "colab": {
          "base_uri": "https://localhost:8080/"
        },
        "id": "ScgkT8H8AHnM",
        "outputId": "1042f200-45c8-4656-8246-42c38d7851f7"
      },
      "execution_count": 188,
      "outputs": [
        {
          "output_type": "execute_result",
          "data": {
            "text/plain": [
              "count    97718.000000\n",
              "mean        21.740212\n",
              "std        607.014140\n",
              "min      -9769.000000\n",
              "25%          0.000000\n",
              "50%          5.000000\n",
              "75%         10.000000\n",
              "max      77420.000000\n",
              "dtype: float64"
            ]
          },
          "metadata": {},
          "execution_count": 188
        }
      ]
    },
    {
      "cell_type": "markdown",
      "source": [
        "####Precios"
      ],
      "metadata": {
        "id": "KOaBMvMz5vGG"
      }
    },
    {
      "cell_type": "markdown",
      "source": [
        "Un rango razonable sería entre 10000USD (jugar con https://www.properati.com.ar/s/capital-federal/departamento/venta?sort=price_asc y comparar con el conjunto a predecir) y 5000000USD"
      ],
      "metadata": {
        "id": "scK-mxZN6f8A"
      }
    },
    {
      "cell_type": "code",
      "source": [
        "df_t.price.hist(bins = 40, range=(0,1000000));"
      ],
      "metadata": {
        "colab": {
          "base_uri": "https://localhost:8080/",
          "height": 278
        },
        "outputId": "71ef06e3-28d2-4ad5-f073-29fc8d417d40",
        "id": "LBtuVWjo5zzI"
      },
      "execution_count": 189,
      "outputs": [
        {
          "output_type": "display_data",
          "data": {
            "text/plain": [
              "<Figure size 432x288 with 1 Axes>"
            ],
            "image/png": "[encoded data removed]"
          },
          "metadata": {
            "needs_background": "light"
          }
        }
      ]
    },
    {
      "cell_type": "markdown",
      "source": [
        "Explorar precios bajos cuando se filtre la base de datos"
      ],
      "metadata": {
        "id": "0gLq2wah5zzJ"
      }
    },
    {
      "cell_type": "code",
      "source": [
        "df_t.price.hist(bins = 40, range=(-100,120000));"
      ],
      "metadata": {
        "colab": {
          "base_uri": "https://localhost:8080/",
          "height": 265
        },
        "outputId": "7ca8ef80-b562-4fb5-85c9-3eefbb385b39",
        "id": "7m_wvku75zzJ"
      },
      "execution_count": 190,
      "outputs": [
        {
          "output_type": "display_data",
          "data": {
            "text/plain": [
              "<Figure size 432x288 with 1 Axes>"
            ],
            "image/png": "[encoded data removed]"
          },
          "metadata": {
            "needs_background": "light"
          }
        }
      ]
    },
    {
      "cell_type": "code",
      "source": [
        "df_t.boxplot('price', vert = False);"
      ],
      "metadata": {
        "colab": {
          "base_uri": "https://localhost:8080/",
          "height": 278
        },
        "outputId": "e095b4a7-1221-4d84-c927-bd0a22fb7202",
        "id": "Ic0oTmxm5zzJ"
      },
      "execution_count": 191,
      "outputs": [
        {
          "output_type": "display_data",
          "data": {
            "text/plain": [
              "<Figure size 432x288 with 1 Axes>"
            ],
            "image/png": "[encoded data removed]"
          },
          "metadata": {
            "needs_background": "light"
          }
        }
      ]
    },
    {
      "cell_type": "markdown",
      "source": [
        "Es una distribución de cola larga."
      ],
      "metadata": {
        "id": "2WtrS92P5zzJ"
      }
    },
    {
      "cell_type": "code",
      "source": [
        "for i in [2500000,5000000,10000000,100000000]:\n",
        "  print((df_t.price > i).sum())"
      ],
      "metadata": {
        "colab": {
          "base_uri": "https://localhost:8080/"
        },
        "outputId": "3f6efc75-de08-45f2-f114-1d04e6fa3782",
        "id": "ms1BdWMh5zzK"
      },
      "execution_count": 192,
      "outputs": [
        {
          "output_type": "stream",
          "name": "stdout",
          "text": [
            "475\n",
            "127\n",
            "84\n",
            "1\n"
          ]
        }
      ]
    },
    {
      "cell_type": "markdown",
      "source": [
        "No tengo idea de qué son esas propiedades de 1USD, investigar. Aunque en principio puedo filtrarlas."
      ],
      "metadata": {
        "id": "RXG4Kdg1NsU3"
      }
    },
    {
      "cell_type": "code",
      "source": [
        "for i in [1,5000,7500,10000]:\n",
        "  print((df_t.price < i).sum())"
      ],
      "metadata": {
        "colab": {
          "base_uri": "https://localhost:8080/"
        },
        "outputId": "6568e346-00a7-443a-a93e-4cf54d6db1d9",
        "id": "f60NecMB5zzK"
      },
      "execution_count": 193,
      "outputs": [
        {
          "output_type": "stream",
          "name": "stdout",
          "text": [
            "195\n",
            "197\n",
            "201\n",
            "232\n"
          ]
        }
      ]
    },
    {
      "cell_type": "markdown",
      "source": [
        "####Título de aviso"
      ],
      "metadata": {
        "id": "GYfKH-402-Ye"
      }
    },
    {
      "cell_type": "markdown",
      "source": [
        "Algo de información útil para dummies."
      ],
      "metadata": {
        "id": "K0Ae6JxI3Cgj"
      }
    },
    {
      "cell_type": "code",
      "source": [
        "df_t_title = df_t['title'].astype(str).str.lower()"
      ],
      "metadata": {
        "id": "J2U5osBU3Cgj"
      },
      "execution_count": 194,
      "outputs": []
    },
    {
      "cell_type": "code",
      "source": [
        "regexp = RegexpTokenizer('\\w+')\n",
        "df_t_title = df_t_title.apply(regexp.tokenize)"
      ],
      "metadata": {
        "id": "D_RHKFSI3Cgk"
      },
      "execution_count": 195,
      "outputs": []
    },
    {
      "cell_type": "code",
      "source": [
        "stopwords = nltk.corpus.stopwords.words(\"spanish\")\n",
        "stopwords.extend(['es', 'osea', 'sólo','br'])\n",
        "\n",
        "df_t_title = df_t_title.apply(lambda texto: [token for token in texto if token not in stopwords])"
      ],
      "metadata": {
        "id": "uuRHpJlK3Cgk"
      },
      "execution_count": 196,
      "outputs": []
    },
    {
      "cell_type": "code",
      "source": [
        "df_t_title = df_t_title.str.join(' ')"
      ],
      "metadata": {
        "id": "1FLsSP3d3Cgk"
      },
      "execution_count": 197,
      "outputs": []
    },
    {
      "cell_type": "code",
      "source": [
        "vectorizer = CountVectorizer(analyzer='word', ngram_range=(1, 1), strip_accents='ascii', max_features=2000, lowercase = False)\n",
        "vectorized_data = vectorizer.fit_transform(df_t_title)"
      ],
      "metadata": {
        "id": "Gsv5YDJV3Cgk"
      },
      "execution_count": 198,
      "outputs": []
    },
    {
      "cell_type": "code",
      "source": [
        "count_df_t_t = pd.DataFrame(vectorized_data.toarray(), columns=vectorizer.get_feature_names_out(), index = df_t.index)"
      ],
      "metadata": {
        "id": "GfEcIIQ_3Cgk"
      },
      "execution_count": 199,
      "outputs": []
    },
    {
      "cell_type": "code",
      "source": [
        "count_df_t_t.sum().sort_values(ascending = False).head(50)"
      ],
      "metadata": {
        "colab": {
          "base_uri": "https://localhost:8080/"
        },
        "outputId": "3912968d-70ca-4ecf-b68e-df3139c616af",
        "id": "7ikHPxyM3Cgk"
      },
      "execution_count": 200,
      "outputs": [
        {
          "output_type": "execute_result",
          "data": {
            "text/plain": [
              "departamento    75819\n",
              "venta           73460\n",
              "ambientes       43911\n",
              "amb             20958\n",
              "capital         20273\n",
              "federal         20261\n",
              "villa           14919\n",
              "palermo         14721\n",
              "balcon          13904\n",
              "belgrano        12789\n",
              "cochera         12773\n",
              "ph              12235\n",
              "000             10541\n",
              "monoambiente     9111\n",
              "excelente        7724\n",
              "terraza          7008\n",
              "caballito        6783\n",
              "estrenar         6582\n",
              "recoleta         6303\n",
              "piso             6022\n",
              "patio            6003\n",
              "depto            5998\n",
              "amenities        5476\n",
              "luminoso         5459\n",
              "crespo           5337\n",
              "almagro          5269\n",
              "frente           5260\n",
              "av               5153\n",
              "san              4927\n",
              "oportunidad      4728\n",
              "apto             4724\n",
              "urquiza          4476\n",
              "ambiente         4263\n",
              "ubicado          3838\n",
              "parque           3762\n",
              "m2               3591\n",
              "norte            3491\n",
              "barrio           3252\n",
              "vista            3241\n",
              "semipiso         3200\n",
              "nunez            3108\n",
              "torre            3079\n",
              "dependencia      2938\n",
              "duplex           2874\n",
              "hermoso          2840\n",
              "parrilla         2826\n",
              "flores           2763\n",
              "reciclado        2621\n",
              "baulera          2526\n",
              "dos              2501\n",
              "dtype: int64"
            ]
          },
          "metadata": {},
          "execution_count": 200
        }
      ]
    },
    {
      "cell_type": "code",
      "source": [
        "count_df_t_t.sum().sort_values(ascending = False).to_csv('keywords_train_title.csv')"
      ],
      "metadata": {
        "id": "c6seh3CU-Ex7"
      },
      "execution_count": 201,
      "outputs": []
    },
    {
      "cell_type": "markdown",
      "source": [
        "####Descripción"
      ],
      "metadata": {
        "id": "YJIdhG9EVmSR"
      }
    },
    {
      "cell_type": "markdown",
      "source": [
        "Algo de información útil para dummies (por ejemplo, encontré gas y luz)"
      ],
      "metadata": {
        "id": "vkV_GWWk5I3-"
      }
    },
    {
      "cell_type": "code",
      "source": [
        "df_t_description = df_t['description'].str.lower()"
      ],
      "metadata": {
        "id": "OgcIOk0bETN-"
      },
      "execution_count": 202,
      "outputs": []
    },
    {
      "cell_type": "code",
      "source": [
        "regexp = RegexpTokenizer('\\w+')\n",
        "df_t_description = df_t_description.apply(regexp.tokenize)"
      ],
      "metadata": {
        "id": "6MBDbrlH9A_y"
      },
      "execution_count": 203,
      "outputs": []
    },
    {
      "cell_type": "code",
      "source": [
        "stopwords = nltk.corpus.stopwords.words(\"spanish\")\n",
        "stopwords.extend(['es', 'osea', 'sólo','br'])\n",
        "\n",
        "df_t_description = df_t_description.apply(lambda texto: [token for token in texto if token not in stopwords])\n",
        "#df_pred[\"description\"]"
      ],
      "metadata": {
        "id": "1y6CbYt4A0Ko"
      },
      "execution_count": 204,
      "outputs": []
    },
    {
      "cell_type": "code",
      "source": [
        "df_t_description = df_t_description.str.join(' ')"
      ],
      "metadata": {
        "id": "YzS0W4_19g5q"
      },
      "execution_count": 205,
      "outputs": []
    },
    {
      "cell_type": "code",
      "source": [
        "vectorizer = CountVectorizer(analyzer='word', ngram_range=(1, 1), min_df=0.005, max_df=0.7, strip_accents='ascii', max_features=2000, lowercase = False)\n",
        "vectorized_data = vectorizer.fit_transform(df_t_description)"
      ],
      "metadata": {
        "id": "PbdjF7209vVa"
      },
      "execution_count": 206,
      "outputs": []
    },
    {
      "cell_type": "code",
      "source": [
        "count_df_t_d = pd.DataFrame(vectorized_data.toarray(), columns=vectorizer.get_feature_names_out(), index = df_t.index)"
      ],
      "metadata": {
        "id": "LWKzHn7B-ddR"
      },
      "execution_count": 207,
      "outputs": []
    },
    {
      "cell_type": "code",
      "source": [
        "count_df_t_d.sum().sort_values(ascending = False).head(50)"
      ],
      "metadata": {
        "id": "IkgE3DKD-jJJ",
        "colab": {
          "base_uri": "https://localhost:8080/"
        },
        "outputId": "ba36c2ca-6617-4688-9c0f-98d773e6cf44"
      },
      "execution_count": 208,
      "outputs": [
        {
          "output_type": "execute_result",
          "data": {
            "text/plain": [
              "ambientes       142282\n",
              "bano            127472\n",
              "balcon          127388\n",
              "piso            120086\n",
              "comedor         119847\n",
              "departamento    114703\n",
              "living          111763\n",
              "edificio        105209\n",
              "expensas        100101\n",
              "pisos            91336\n",
              "medidas          88589\n",
              "completo         87117\n",
              "frente           86269\n",
              "av               84080\n",
              "excelente        81693\n",
              "dormitorio       81371\n",
              "propiedad        72902\n",
              "amplio           65728\n",
              "dos              65001\n",
              "venta            63244\n",
              "dormitorios      63015\n",
              "placard          62610\n",
              "m2               60221\n",
              "lavadero         59808\n",
              "inmueble         57482\n",
              "luminoso         57258\n",
              "cuadras          51590\n",
              "cuenta           51399\n",
              "cochera          51148\n",
              "aire             50671\n",
              "terraza          50475\n",
              "valor            48628\n",
              "aviso            46456\n",
              "vista            46068\n",
              "gran             44331\n",
              "servicio         43863\n",
              "unidades         43456\n",
              "ubicado          43238\n",
              "ubicacion        43051\n",
              "superficies      42586\n",
              "titulo           41535\n",
              "suite            40072\n",
              "toilette         38972\n",
              "salida           38900\n",
              "propietario      38079\n",
              "parrilla         37889\n",
              "planta           37840\n",
              "cucicba          37819\n",
              "30               37708\n",
              "zona             37707\n",
              "dtype: int64"
            ]
          },
          "metadata": {},
          "execution_count": 208
        }
      ]
    },
    {
      "cell_type": "code",
      "source": [
        "count_df_t_d.sum().sort_values(ascending = False).to_csv('keywords_train_description.csv')"
      ],
      "metadata": {
        "id": "2-bdKYyt_3ES"
      },
      "execution_count": 209,
      "outputs": []
    },
    {
      "cell_type": "markdown",
      "source": [
        "####Tipo de propiedad y barrio"
      ],
      "metadata": {
        "id": "opa_c2j5G9t-"
      }
    },
    {
      "cell_type": "markdown",
      "source": [
        "PHs no están concentrados en pocos barrios."
      ],
      "metadata": {
        "id": "7mqh9iXwHmAO"
      }
    },
    {
      "cell_type": "code",
      "source": [
        "df_t.loc[df_t.property_type == 'PH','l3'].value_counts()"
      ],
      "metadata": {
        "colab": {
          "base_uri": "https://localhost:8080/"
        },
        "id": "ekyRJL4aHCMA",
        "outputId": "fb917553-1a91-4962-d136-ab3a7e6727ee"
      },
      "execution_count": 210,
      "outputs": [
        {
          "output_type": "execute_result",
          "data": {
            "text/plain": [
              "Palermo                912\n",
              "Villa Urquiza          846\n",
              "Caballito              690\n",
              "Almagro                647\n",
              "Mataderos              606\n",
              "Villa Crespo           599\n",
              "Villa Devoto           590\n",
              "Saavedra               466\n",
              "Balvanera              442\n",
              "Flores                 437\n",
              "Villa Pueyrredón       410\n",
              "Floresta               405\n",
              "Boedo                  392\n",
              "Belgrano               384\n",
              "Villa del Parque       364\n",
              "Liniers                345\n",
              "Colegiales             336\n",
              "Parque Chacabuco       315\n",
              "San Cristóbal          310\n",
              "Villa Luro             301\n",
              "Núñez                  267\n",
              "Parque Patricios       235\n",
              "Recoleta               227\n",
              "Barracas               226\n",
              "Paternal               214\n",
              "San Telmo              213\n",
              "Villa Lugano           201\n",
              "Chacarita              191\n",
              "Monte Castro           181\n",
              "Parque Avellaneda      173\n",
              "Coghlan                152\n",
              "Villa Ortúzar          151\n",
              "Villa Santa Rita       145\n",
              "Monserrat              135\n",
              "Villa General Mitre    130\n",
              "Vélez Sarsfield        124\n",
              "Versalles              121\n",
              "Nueva Pompeya          119\n",
              "Agronomía               96\n",
              "Villa Real              95\n",
              "Parque Chas             84\n",
              "Constitución            79\n",
              "Boca                    71\n",
              "San Nicolás             48\n",
              "Villa Soldati           20\n",
              "Retiro                  13\n",
              "Villa Riachuelo         11\n",
              "Name: l3, dtype: int64"
            ]
          },
          "metadata": {},
          "execution_count": 210
        }
      ]
    },
    {
      "cell_type": "markdown",
      "source": [
        "##Segundo filtrado de la base de datos"
      ],
      "metadata": {
        "id": "ZnPzbfRqh7f6"
      }
    },
    {
      "cell_type": "markdown",
      "source": [
        "Remuevo aquellas propiedades sin precio para entrenar (aunque quizás esté en el aviso)"
      ],
      "metadata": {
        "id": "kOnlm9he8fyv"
      }
    },
    {
      "cell_type": "code",
      "source": [
        "df_t = df_t[df_t.price.notna()]"
      ],
      "metadata": {
        "id": "-yhJlgyUf4vJ"
      },
      "execution_count": 211,
      "outputs": []
    },
    {
      "cell_type": "markdown",
      "source": [
        "Elimino entradas con coordenadas incorrectas (aunque más adelante voy a intentar arreglarlas fijándome las coordenadas de cada parte de la ciudad)."
      ],
      "metadata": {
        "id": "FkTGZo5xUAnm"
      }
    },
    {
      "cell_type": "code",
      "source": [
        "df_t = df_t.loc[(df_t.lon > -58.6) & (df_t.lon < -58.3) & (df_t.lat > -34.7) & (df_t.lat < -34.5)]\n",
        "df_t.shape"
      ],
      "metadata": {
        "colab": {
          "base_uri": "https://localhost:8080/"
        },
        "id": "lYvFD8tnS06E",
        "outputId": "f9fde79a-bdba-42f3-88f7-d0ec76ea18fc"
      },
      "execution_count": 212,
      "outputs": [
        {
          "output_type": "execute_result",
          "data": {
            "text/plain": [
              "(136643, 19)"
            ]
          },
          "metadata": {},
          "execution_count": 212
        }
      ]
    },
    {
      "cell_type": "markdown",
      "source": [
        "Hago los rangos de properati comparables con los del conjunto a predecir."
      ],
      "metadata": {
        "id": "Tua9cEs3v0By"
      }
    },
    {
      "cell_type": "code",
      "source": [
        "df_t = df_t.loc[(df_t.surface_total >= 15) & (df_t.surface_total <=600)]\n",
        "df_t.shape"
      ],
      "metadata": {
        "colab": {
          "base_uri": "https://localhost:8080/"
        },
        "id": "BCKiPOMQFVNZ",
        "outputId": "3a943a48-fcc3-4083-cff7-a19db22dd6f8"
      },
      "execution_count": 213,
      "outputs": [
        {
          "output_type": "execute_result",
          "data": {
            "text/plain": [
              "(92157, 19)"
            ]
          },
          "metadata": {},
          "execution_count": 213
        }
      ]
    },
    {
      "cell_type": "code",
      "source": [
        "df_t = df_t.loc[(df_t.surface_covered >= 15) & (df_t.surface_covered <= 600)]\n",
        "df_t.shape"
      ],
      "metadata": {
        "colab": {
          "base_uri": "https://localhost:8080/"
        },
        "id": "iB9tPYc-FqcJ",
        "outputId": "fbb62ff1-3929-40a5-bb39-47c445992d81"
      },
      "execution_count": 214,
      "outputs": [
        {
          "output_type": "execute_result",
          "data": {
            "text/plain": [
              "(89530, 19)"
            ]
          },
          "metadata": {},
          "execution_count": 214
        }
      ]
    },
    {
      "cell_type": "code",
      "source": [
        "df_t = df_t.loc[df_t.rooms < 14]\n",
        "df_t.shape"
      ],
      "metadata": {
        "colab": {
          "base_uri": "https://localhost:8080/"
        },
        "id": "ypZguMewGFKT",
        "outputId": "78e4a140-3de8-4988-d456-fb7c40438fe0"
      },
      "execution_count": 215,
      "outputs": [
        {
          "output_type": "execute_result",
          "data": {
            "text/plain": [
              "(87134, 19)"
            ]
          },
          "metadata": {},
          "execution_count": 215
        }
      ]
    },
    {
      "cell_type": "code",
      "source": [
        "df_t = df_t.loc[(df_t.bedrooms < 13) & (df_t.bedrooms > 0)]\n",
        "df_t.shape"
      ],
      "metadata": {
        "colab": {
          "base_uri": "https://localhost:8080/"
        },
        "id": "VqQv6fBaGmPh",
        "outputId": "afd42cbe-52ae-400d-f151-2d9a33f38952"
      },
      "execution_count": 216,
      "outputs": [
        {
          "output_type": "execute_result",
          "data": {
            "text/plain": [
              "(73053, 19)"
            ]
          },
          "metadata": {},
          "execution_count": 216
        }
      ]
    },
    {
      "cell_type": "code",
      "source": [
        "df_t = df_t.loc[df_t.bathrooms < 8]\n",
        "df_t.shape"
      ],
      "metadata": {
        "colab": {
          "base_uri": "https://localhost:8080/"
        },
        "id": "8MWItp5-G53B",
        "outputId": "fae1b61a-b385-4707-d6a9-de156686fc2c"
      },
      "execution_count": 217,
      "outputs": [
        {
          "output_type": "execute_result",
          "data": {
            "text/plain": [
              "(72792, 19)"
            ]
          },
          "metadata": {},
          "execution_count": 217
        }
      ]
    },
    {
      "cell_type": "markdown",
      "source": [
        "Probar con filtros de precio más o menos restrictivos"
      ],
      "metadata": {
        "id": "rUKwkkLJgyPl"
      }
    },
    {
      "cell_type": "code",
      "source": [
        "df_t = df_t.loc[(df_t.price >= 10000) & (df_t.price < 5000000)]\n",
        "df_t.shape"
      ],
      "metadata": {
        "colab": {
          "base_uri": "https://localhost:8080/"
        },
        "id": "0cHbmB5kdGxo",
        "outputId": "27277876-9914-4755-bf64-53658dba9a45"
      },
      "execution_count": 218,
      "outputs": [
        {
          "output_type": "execute_result",
          "data": {
            "text/plain": [
              "(72642, 19)"
            ]
          },
          "metadata": {},
          "execution_count": 218
        }
      ]
    },
    {
      "cell_type": "markdown",
      "source": [
        "Elimino las entradas que no son en USD (aunque luego quiero convertir monedas si me alcanza el tiempo)"
      ],
      "metadata": {
        "id": "prX9tQ5NUv4h"
      }
    },
    {
      "cell_type": "code",
      "source": [
        "df_t = df_t.loc[df_t.currency == 'USD']\n",
        "df_t.shape"
      ],
      "metadata": {
        "id": "4SW2veglUvVI",
        "colab": {
          "base_uri": "https://localhost:8080/"
        },
        "outputId": "30545df2-fac6-4ef7-ea83-fd77981a4582"
      },
      "execution_count": 219,
      "outputs": [
        {
          "output_type": "execute_result",
          "data": {
            "text/plain": [
              "(72623, 19)"
            ]
          },
          "metadata": {},
          "execution_count": 219
        }
      ]
    },
    {
      "cell_type": "markdown",
      "source": [
        "##Imputación/transformación"
      ],
      "metadata": {
        "id": "NO83sk4oEx5r"
      }
    },
    {
      "cell_type": "code",
      "source": [
        "def glue(dftrain,dftest):\n",
        "  df = pd.concat([dftrain,dftest], axis = 0)\n",
        "  return df\n",
        "\n",
        "def unglue(df,col):\n",
        "  dftrain = df.loc[df[col].notna()]\n",
        "  dftest = df.loc[df[col].isna()]\n",
        "  return dftrain, dftest"
      ],
      "metadata": {
        "id": "6KHCqha1udiA"
      },
      "execution_count": 220,
      "outputs": []
    },
    {
      "cell_type": "code",
      "source": [
        "df = glue(df_t,df_p)"
      ],
      "metadata": {
        "id": "TPuAS6ey2Jx-"
      },
      "execution_count": 221,
      "outputs": []
    },
    {
      "cell_type": "markdown",
      "source": [
        "###Llenar coordenadas"
      ],
      "metadata": {
        "id": "4tma2YiyJVYI"
      }
    },
    {
      "cell_type": "markdown",
      "source": [
        "Se las llena en base a l3 y el valor de la coordenada mediana de cada barrio"
      ],
      "metadata": {
        "id": "JEjGohwmwRLs"
      }
    },
    {
      "cell_type": "code",
      "source": [
        "coords = df_t[['l3','lon','lat']].groupby(by = 'l3').agg(['median'],axis = 'columns').to_dict()#quizás quiero construir este diccionario en otra parte para tener más coordenadas\n",
        "lat_dict = coords[('lat','median')]\n",
        "lon_dict = coords[('lon','median')]\n",
        "#puede añadirse los barrios que faltan si es necesario"
      ],
      "metadata": {
        "id": "QfIR4_l4gJaU"
      },
      "execution_count": 222,
      "outputs": []
    },
    {
      "cell_type": "code",
      "source": [
        "def fill_coords(row,lat_dict,lon_dict):\n",
        "  if((math.isnan(row['lat']) or math.isnan(row['lon'])) and not pd.isna(row['l3'])):\n",
        "    row['lat'] = lat_dict[row['l3']]\n",
        "    row['lon'] = lon_dict[row['l3']]\n",
        "  return row"
      ],
      "metadata": {
        "id": "3Cf0UYk7hrmO"
      },
      "execution_count": 223,
      "outputs": []
    },
    {
      "cell_type": "code",
      "source": [
        "df = df.apply(lambda x: fill_coords(x,lat_dict,lon_dict), axis = 'columns')"
      ],
      "metadata": {
        "id": "nlTnVnZdjOJZ"
      },
      "execution_count": 224,
      "outputs": []
    },
    {
      "cell_type": "markdown",
      "source": [
        "###Imputar superficies"
      ],
      "metadata": {
        "id": "10geKrZ1fSiO"
      }
    },
    {
      "cell_type": "markdown",
      "source": [
        "Donde falte una superficie la lleno con el valor de la otra"
      ],
      "metadata": {
        "id": "sPjRVgAHwbHD"
      }
    },
    {
      "cell_type": "code",
      "source": [
        "def fill_surf(row):\n",
        "  if(pd.isna(row['surface_total']) and pd.notna(row['surface_covered'])):\n",
        "    row['surface_total'] = row['surface_covered']\n",
        "  elif(pd.notna(row['surface_total']) and pd.isna(row['surface_covered'])):\n",
        "    row['surface_covered'] = row['surface_total']\n",
        "  return row"
      ],
      "metadata": {
        "id": "3gN6Ha3ofYJs"
      },
      "execution_count": 225,
      "outputs": []
    },
    {
      "cell_type": "code",
      "source": [
        "df = df.apply(fill_surf, axis = 'columns')"
      ],
      "metadata": {
        "id": "qVGThBnPgNr1"
      },
      "execution_count": 226,
      "outputs": []
    },
    {
      "cell_type": "markdown",
      "source": [
        "###Imputar por KNN"
      ],
      "metadata": {
        "id": "lPz1__PHJZ0o"
      }
    },
    {
      "cell_type": "code",
      "source": [
        "col = ['lat','lon','bathrooms','bedrooms','rooms','surface_total','surface_covered']\n",
        "s = StandardScaler()\n",
        "\n",
        "df[col] = s.fit_transform(df[col])"
      ],
      "metadata": {
        "id": "KyI9u-xJwjYv"
      },
      "execution_count": 227,
      "outputs": []
    },
    {
      "cell_type": "code",
      "source": [
        "maskdict = {}\n",
        "for ptype in df.property_type.unique():\n",
        "  maskdict[ptype] = (df.property_type == ptype)"
      ],
      "metadata": {
        "id": "-MIr9SGvwON_"
      },
      "execution_count": 228,
      "outputs": []
    },
    {
      "cell_type": "code",
      "source": [
        "imp = KNNImputer(n_neighbors=2, weights=\"uniform\")\n",
        "#col = ['lat','lon','bathrooms','bedrooms','rooms','surface_total','surface_covered']\n",
        "for ptype, mask in maskdict.items():\n",
        "  df.loc[mask,col] =imp.fit_transform(df.loc[mask,col])"
      ],
      "metadata": {
        "id": "0xUM05DhwcoN"
      },
      "execution_count": 229,
      "outputs": []
    },
    {
      "cell_type": "code",
      "source": [
        "df[col] = s.inverse_transform(df[col])"
      ],
      "metadata": {
        "id": "meyghZtwxGth"
      },
      "execution_count": 230,
      "outputs": []
    },
    {
      "cell_type": "code",
      "source": [
        "to_round_list = ['bathrooms','bedrooms','rooms','surface_total','surface_covered']\n",
        "df[to_round_list] = df[to_round_list].round(0) "
      ],
      "metadata": {
        "id": "c6KHKM7r19MU"
      },
      "execution_count": 231,
      "outputs": []
    },
    {
      "cell_type": "markdown",
      "source": [
        "##Nuevas variables"
      ],
      "metadata": {
        "id": "DZ2JQgAFoj7p"
      }
    },
    {
      "cell_type": "markdown",
      "source": [
        "####En base a superficie"
      ],
      "metadata": {
        "id": "D_28SuYospSW"
      }
    },
    {
      "cell_type": "code",
      "source": [
        "df['logsurface_covered'] = np.log(df.surface_covered + 0.1)"
      ],
      "metadata": {
        "id": "SXA9ClXEssUv"
      },
      "execution_count": 232,
      "outputs": []
    },
    {
      "cell_type": "code",
      "source": [
        "df['logsurface_total'] = np.log(df.surface_total + 0.1)"
      ],
      "metadata": {
        "id": "flnYZWy8tUsX"
      },
      "execution_count": 233,
      "outputs": []
    },
    {
      "cell_type": "markdown",
      "source": [
        "####En base a barrio y tipo de propiedad"
      ],
      "metadata": {
        "id": "ZBuo2JGDF5Px"
      }
    },
    {
      "cell_type": "markdown",
      "source": [
        "Lugares caros de capital"
      ],
      "metadata": {
        "id": "9m-wYGOPlQAa"
      }
    },
    {
      "cell_type": "code",
      "source": [
        "df['Puerto_Madero'] = (df.l3 == 'Puerto Madero')"
      ],
      "metadata": {
        "id": "UnRhG0viGFdH"
      },
      "execution_count": 234,
      "outputs": []
    },
    {
      "cell_type": "code",
      "source": [
        "df['Palermo'] = (df.l3 == 'Palermo')"
      ],
      "metadata": {
        "id": "k3-HMEPqjzIF"
      },
      "execution_count": 235,
      "outputs": []
    },
    {
      "cell_type": "code",
      "source": [
        "df['Núñez'] = (df.l3 == 'Núñez')"
      ],
      "metadata": {
        "id": "hKy9fe1Rj3tF"
      },
      "execution_count": 236,
      "outputs": []
    },
    {
      "cell_type": "code",
      "source": [
        "df['Belgrano'] = (df.l3 == 'Belgrano')"
      ],
      "metadata": {
        "id": "BDPyvrg9j-MQ"
      },
      "execution_count": 237,
      "outputs": []
    },
    {
      "cell_type": "code",
      "source": [
        "df['Recoleta'] = (df.l3 == 'Recoleta')"
      ],
      "metadata": {
        "id": "gWAmwwSWguju"
      },
      "execution_count": 238,
      "outputs": []
    },
    {
      "cell_type": "markdown",
      "source": [
        "Lugares baratos de capital"
      ],
      "metadata": {
        "id": "udQf1b9ckje0"
      }
    },
    {
      "cell_type": "code",
      "source": [
        "df['Nueva_Pompeya'] = (df.l3 == 'Nueva_Pompeya')"
      ],
      "metadata": {
        "id": "aQXzO0WqkkgN"
      },
      "execution_count": 239,
      "outputs": []
    },
    {
      "cell_type": "code",
      "source": [
        "df['Versalles'] = (df.l3 == 'Versalles')"
      ],
      "metadata": {
        "id": "7a6zjxTLkuHF"
      },
      "execution_count": 240,
      "outputs": []
    },
    {
      "cell_type": "code",
      "source": [
        "df['Constitución'] = (df.l3 == 'Constitución')"
      ],
      "metadata": {
        "id": "f1Y4sOnmk1DI"
      },
      "execution_count": 241,
      "outputs": []
    },
    {
      "cell_type": "code",
      "source": [
        "df['Boca'] = (df.l3 == 'Boca')"
      ],
      "metadata": {
        "id": "24DJpJgKk-oF"
      },
      "execution_count": 242,
      "outputs": []
    },
    {
      "cell_type": "code",
      "source": [
        "df['Villa_Lugano'] = (df.l3 == 'Villa Lugano')"
      ],
      "metadata": {
        "id": "mZqu-o9llDGV"
      },
      "execution_count": 243,
      "outputs": []
    },
    {
      "cell_type": "code",
      "source": [
        "df['PH'] = (df.property_type == 'PH')"
      ],
      "metadata": {
        "id": "pCanf0ZkL17O"
      },
      "execution_count": 244,
      "outputs": []
    },
    {
      "cell_type": "markdown",
      "source": [
        "####En base a USD/m2"
      ],
      "metadata": {
        "id": "mrAuJWabF0QS"
      }
    },
    {
      "cell_type": "code",
      "source": [
        "df_usdpersqm.loc[:,2022,4].mean()"
      ],
      "metadata": {
        "colab": {
          "base_uri": "https://localhost:8080/"
        },
        "id": "EKc5qsuaLOPb",
        "outputId": "d54c92cc-b784-4945-9769-a9f9236b25fe"
      },
      "execution_count": 245,
      "outputs": [
        {
          "output_type": "execute_result",
          "data": {
            "text/plain": [
              "Precio m² (USD)    2281.192906\n",
              "dtype: float64"
            ]
          },
          "metadata": {},
          "execution_count": 245
        }
      ]
    },
    {
      "cell_type": "code",
      "source": [
        "def USDperm2(row,df_usdpersqm,month,year):\n",
        "  if (pd.notna(row.l3)):\n",
        "    row['USDperm2'] = float(df_usdpersqm.loc[row.l3,year,month])\n",
        "  else:\n",
        "    row['USDperm2'] = 2281.192906#promedio de abril de 2022\n",
        "  return row"
      ],
      "metadata": {
        "id": "3_BxBhukKWtA"
      },
      "execution_count": 246,
      "outputs": []
    },
    {
      "cell_type": "code",
      "source": [
        "df['USDperm2'] = np.nan\n",
        "df = df.apply(lambda x: USDperm2(x,df_usdpersqm,4,2022), axis = 'columns')"
      ],
      "metadata": {
        "id": "zK0fAtFqKBM5"
      },
      "execution_count": 247,
      "outputs": []
    },
    {
      "cell_type": "code",
      "source": [
        "df['average_price'] = df.USDperm2 * df.surface_total"
      ],
      "metadata": {
        "id": "hN-AQQQtFxos"
      },
      "execution_count": 248,
      "outputs": []
    },
    {
      "cell_type": "markdown",
      "source": [
        "####Puede que aumenten el valor de la propiedad..."
      ],
      "metadata": {
        "id": "ijG2sZ_4FsMK"
      }
    },
    {
      "cell_type": "markdown",
      "source": [
        "Sí, expresiones regulares era una mejor idea, pero las aprendí después de escribir esto."
      ],
      "metadata": {
        "id": "0VPzmYp0ywpe"
      }
    },
    {
      "cell_type": "markdown",
      "source": [
        "Dataframes necesarios: count_df_pred_d, count_df_pred_de (cocheras, quizás duplex/varios pisos), count_df_pred_a, count_df_pred_s (gas, luz), count_df_t_t y count_df_t_d."
      ],
      "metadata": {
        "id": "idAg1nj9G067"
      }
    },
    {
      "cell_type": "code",
      "source": [
        "#print(count_df_t_t.loc[df[df.price.notna()].index].cochera)\n",
        "df.loc[df.price.isna(),'parking'] = ((count_df_pred_d.cochera + count_df_pred_d.cocheras + count_df_pred_de.cocheras) > 0)\n",
        "mask = df[df.price.notna()].index\n",
        "df.loc[df.price.notna(),'parking'] = ((count_df_t_t.loc[mask,'cochera'] + count_df_t_t.cocheras + count_df_t_t.loc[mask,'2cocheras'] + count_df_t_d.loc[mask,'cochera'] + count_df_t_d.loc[mask,'cocheras']) > 0)\n",
        "df.parking = df.parking.astype('bool') "
      ],
      "metadata": {
        "id": "JOidvIvVDMMi"
      },
      "execution_count": 249,
      "outputs": []
    },
    {
      "cell_type": "code",
      "source": [
        "df.loc[df.price.isna(),'balcony'] = ((count_df_pred_d.balcon + count_df_pred_d.balcones + count_df_pred_a.balcon) > 0)\n",
        "mask = df[df.price.notna()].index\n",
        "df.loc[df.price.notna(),'balcony'] = ((count_df_t_t.loc[mask,'balcon'] + count_df_t_t.loc[mask,'balcones'] + count_df_t_d.loc[mask,'balcon'] + count_df_t_d.loc[mask,'balcones']) > 0)\n",
        "df.balcony = df.balcony.astype('bool')"
      ],
      "metadata": {
        "id": "3VqCCKYFFfLz"
      },
      "execution_count": 250,
      "outputs": []
    },
    {
      "cell_type": "code",
      "source": [
        "df.loc[df.price.isna(),'duplex'] = ((count_df_pred_d.duplex + count_df_pred_d.entrepiso) > 0)\n",
        "mask = df[df.price.notna()].index\n",
        "df.loc[df.price.notna(),'duplex'] = ((count_df_t_t.loc[mask,'duplex'] + count_df_t_t.loc[mask,'entrepiso'] + count_df_t_d.loc[mask,'entrepiso'] + count_df_t_d.loc[mask,'duplex']) > 0)\n",
        "df.duplex = df.duplex.astype('bool')"
      ],
      "metadata": {
        "id": "1B7HtKEmQP9m"
      },
      "execution_count": 251,
      "outputs": []
    },
    {
      "cell_type": "code",
      "source": [
        "df.loc[df.price.isna(),'terrace'] = ((count_df_pred_d.terraza + count_df_pred_d.terrazas + count_df_pred_d.aterrazado + count_df_pred_a.terraza) > 0)\n",
        "mask = df[df.price.notna()].index\n",
        "df.loc[df.price.notna(),'terrace'] = ((count_df_t_t.loc[mask,'terraza'] + count_df_t_t.loc[mask,'terrazas'] + count_df_t_t.loc[mask,'aterrazado'] + count_df_t_d.loc[mask,'terraza'] + count_df_t_d.loc[mask,'terrazas'] + count_df_t_d.loc[mask,'aterrazado']) > 0)\n",
        "df.terrace = df.terrace.astype('bool')"
      ],
      "metadata": {
        "id": "826dMSUHVfzC"
      },
      "execution_count": 252,
      "outputs": []
    },
    {
      "cell_type": "code",
      "source": [
        "df['many_rooms'] = (df.rooms > 6)"
      ],
      "metadata": {
        "id": "MKPQ_JMpG2b7"
      },
      "execution_count": 253,
      "outputs": []
    },
    {
      "cell_type": "markdown",
      "source": [
        "###En base a superficie y número de ambientes"
      ],
      "metadata": {
        "id": "-iBnfQF2Jnjb"
      }
    },
    {
      "cell_type": "code",
      "source": [
        "df['surfdivrooms'] = df.surface_covered / (df.rooms + 0.001)"
      ],
      "metadata": {
        "id": "ZLEvKePlJz9b"
      },
      "execution_count": 254,
      "outputs": []
    },
    {
      "cell_type": "markdown",
      "source": [
        "###Exploración nuevas variables"
      ],
      "metadata": {
        "id": "QxX58Pc-HQDV"
      }
    },
    {
      "cell_type": "code",
      "source": [
        "df.columns"
      ],
      "metadata": {
        "id": "DK4rzKiq8rgN",
        "colab": {
          "base_uri": "https://localhost:8080/"
        },
        "outputId": "78868973-dc1b-402d-db2a-d51c6f1bb73a"
      },
      "execution_count": 255,
      "outputs": [
        {
          "output_type": "execute_result",
          "data": {
            "text/plain": [
              "Index(['start_date', 'end_date', 'created_on', 'lat', 'lon', 'l3', 'l4',\n",
              "       'rooms', 'bedrooms', 'bathrooms', 'surface_total', 'surface_covered',\n",
              "       'price', 'currency', 'price_period', 'title', 'description',\n",
              "       'property_type', 'operation_type', 'details', 'additionals', 'services',\n",
              "       'logsurface_covered', 'logsurface_total', 'Puerto_Madero', 'Palermo',\n",
              "       'Núñez', 'Belgrano', 'Recoleta', 'Nueva_Pompeya', 'Versalles',\n",
              "       'Constitución', 'Boca', 'Villa_Lugano', 'PH', 'USDperm2',\n",
              "       'average_price', 'parking', 'balcony', 'duplex', 'terrace',\n",
              "       'many_rooms', 'surfdivrooms'],\n",
              "      dtype='object')"
            ]
          },
          "metadata": {},
          "execution_count": 255
        }
      ]
    },
    {
      "cell_type": "markdown",
      "source": [
        "####Correlaciones"
      ],
      "metadata": {
        "id": "ZukYUmt_2SK9"
      }
    },
    {
      "cell_type": "markdown",
      "source": [
        "Se eliminaron los outliers de superficie, parece."
      ],
      "metadata": {
        "id": "GPlKhumA2J0t"
      }
    },
    {
      "cell_type": "code",
      "source": [
        "df[['lat', 'lon', 'rooms', 'bedrooms', 'bathrooms', 'surface_total', 'surface_covered','price']].corr()"
      ],
      "metadata": {
        "colab": {
          "base_uri": "https://localhost:8080/",
          "height": 300
        },
        "id": "TJNqU6iA0486",
        "outputId": "ccb03102-39dc-4e11-8680-1305bebc99ca"
      },
      "execution_count": 256,
      "outputs": [
        {
          "output_type": "execute_result",
          "data": {
            "text/plain": [
              "                      lat       lon     rooms  bedrooms  bathrooms  \\\n",
              "lat              1.000000  0.987140  0.001312  0.001111   0.012976   \n",
              "lon              0.987140  1.000000  0.006527  0.005911   0.010924   \n",
              "rooms            0.001312  0.006527  1.000000  0.907014   0.628031   \n",
              "bedrooms         0.001111  0.005911  0.907014  1.000000   0.646310   \n",
              "bathrooms        0.012976  0.010924  0.628031  0.646310   1.000000   \n",
              "surface_total    0.007070  0.009333  0.750284  0.710386   0.710816   \n",
              "surface_covered  0.009337  0.013682  0.763420  0.720122   0.734495   \n",
              "price            0.185368  0.205365  0.503873  0.472517   0.653607   \n",
              "\n",
              "                 surface_total  surface_covered     price  \n",
              "lat                   0.007070         0.009337  0.185368  \n",
              "lon                   0.009333         0.013682  0.205365  \n",
              "rooms                 0.750284         0.763420  0.503873  \n",
              "bedrooms              0.710386         0.720122  0.472517  \n",
              "bathrooms             0.710816         0.734495  0.653607  \n",
              "surface_total         1.000000         0.945291  0.767456  \n",
              "surface_covered       0.945291         1.000000  0.811056  \n",
              "price                 0.767456         0.811056  1.000000  "
            ],
            "text/html": [
              "\n",
              "  <div id=\"df-543929a6-127b-4272-a83f-9492d4073b5a\">\n",
              "    <div class=\"colab-df-container\">\n",
              "      <div>\n",
              "<style scoped>\n",
              "    .dataframe tbody tr th:only-of-type {\n",
              "        vertical-align: middle;\n",
              "    }\n",
              "\n",
              "    .dataframe tbody tr th {\n",
              "        vertical-align: top;\n",
              "    }\n",
              "\n",
              "    .dataframe thead th {\n",
              "        text-align: right;\n",
              "    }\n",
              "</style>\n",
              "<table border=\"1\" class=\"dataframe\">\n",
              "  <thead>\n",
              "    <tr style=\"text-align: right;\">\n",
              "      <th></th>\n",
              "      <th>lat</th>\n",
              "      <th>lon</th>\n",
              "      <th>rooms</th>\n",
              "      <th>bedrooms</th>\n",
              "      <th>bathrooms</th>\n",
              "      <th>surface_total</th>\n",
              "      <th>surface_covered</th>\n",
              "      <th>price</th>\n",
              "    </tr>\n",
              "  </thead>\n",
              "  <tbody>\n",
              "    <tr>\n",
              "      <th>lat</th>\n",
              "      <td>1.000000</td>\n",
              "      <td>0.987140</td>\n",
              "      <td>0.001312</td>\n",
              "      <td>0.001111</td>\n",
              "      <td>0.012976</td>\n",
              "      <td>0.007070</td>\n",
              "      <td>0.009337</td>\n",
              "      <td>0.185368</td>\n",
              "    </tr>\n",
              "    <tr>\n",
              "      <th>lon</th>\n",
              "      <td>0.987140</td>\n",
              "      <td>1.000000</td>\n",
              "      <td>0.006527</td>\n",
              "      <td>0.005911</td>\n",
              "      <td>0.010924</td>\n",
              "      <td>0.009333</td>\n",
              "      <td>0.013682</td>\n",
              "      <td>0.205365</td>\n",
              "    </tr>\n",
              "    <tr>\n",
              "      <th>rooms</th>\n",
              "      <td>0.001312</td>\n",
              "      <td>0.006527</td>\n",
              "      <td>1.000000</td>\n",
              "      <td>0.907014</td>\n",
              "      <td>0.628031</td>\n",
              "      <td>0.750284</td>\n",
              "      <td>0.763420</td>\n",
              "      <td>0.503873</td>\n",
              "    </tr>\n",
              "    <tr>\n",
              "      <th>bedrooms</th>\n",
              "      <td>0.001111</td>\n",
              "      <td>0.005911</td>\n",
              "      <td>0.907014</td>\n",
              "      <td>1.000000</td>\n",
              "      <td>0.646310</td>\n",
              "      <td>0.710386</td>\n",
              "      <td>0.720122</td>\n",
              "      <td>0.472517</td>\n",
              "    </tr>\n",
              "    <tr>\n",
              "      <th>bathrooms</th>\n",
              "      <td>0.012976</td>\n",
              "      <td>0.010924</td>\n",
              "      <td>0.628031</td>\n",
              "      <td>0.646310</td>\n",
              "      <td>1.000000</td>\n",
              "      <td>0.710816</td>\n",
              "      <td>0.734495</td>\n",
              "      <td>0.653607</td>\n",
              "    </tr>\n",
              "    <tr>\n",
              "      <th>surface_total</th>\n",
              "      <td>0.007070</td>\n",
              "      <td>0.009333</td>\n",
              "      <td>0.750284</td>\n",
              "      <td>0.710386</td>\n",
              "      <td>0.710816</td>\n",
              "      <td>1.000000</td>\n",
              "      <td>0.945291</td>\n",
              "      <td>0.767456</td>\n",
              "    </tr>\n",
              "    <tr>\n",
              "      <th>surface_covered</th>\n",
              "      <td>0.009337</td>\n",
              "      <td>0.013682</td>\n",
              "      <td>0.763420</td>\n",
              "      <td>0.720122</td>\n",
              "      <td>0.734495</td>\n",
              "      <td>0.945291</td>\n",
              "      <td>1.000000</td>\n",
              "      <td>0.811056</td>\n",
              "    </tr>\n",
              "    <tr>\n",
              "      <th>price</th>\n",
              "      <td>0.185368</td>\n",
              "      <td>0.205365</td>\n",
              "      <td>0.503873</td>\n",
              "      <td>0.472517</td>\n",
              "      <td>0.653607</td>\n",
              "      <td>0.767456</td>\n",
              "      <td>0.811056</td>\n",
              "      <td>1.000000</td>\n",
              "    </tr>\n",
              "  </tbody>\n",
              "</table>\n",
              "</div>\n",
              "      <button class=\"colab-df-convert\" onclick=\"convertToInteractive('df-543929a6-127b-4272-a83f-9492d4073b5a')\"\n",
              "              title=\"Convert this dataframe to an interactive table.\"\n",
              "              style=\"display:none;\">\n",
              "        \n",
              "  <svg xmlns=\"http://www.w3.org/2000/svg\" height=\"24px\"viewBox=\"0 0 24 24\"\n",
              "       width=\"24px\">\n",
              "    <path d=\"M0 0h24v24H0V0z\" fill=\"none\"/>\n",
              "    <path d=\"M18.56 5.44l.94 2.06.94-2.06 2.06-.94-2.06-.94-.94-2.06-.94 2.06-2.06.94zm-11 1L8.5 8.5l.94-2.06 2.06-.94-2.06-.94L8.5 2.5l-.94 2.06-2.06.94zm10 10l.94 2.06.94-2.06 2.06-.94-2.06-.94-.94-2.06-.94 2.06-2.06.94z\"/><path d=\"M17.41 7.96l-1.37-1.37c-.4-.4-.92-.59-1.43-.59-.52 0-1.04.2-1.43.59L10.3 9.45l-7.72 7.72c-.78.78-.78 2.05 0 2.83L4 21.41c.39.39.9.59 1.41.59.51 0 1.02-.2 1.41-.59l7.78-7.78 2.81-2.81c.8-.78.8-2.07 0-2.86zM5.41 20L4 18.59l7.72-7.72 1.47 1.35L5.41 20z\"/>\n",
              "  </svg>\n",
              "      </button>\n",
              "      \n",
              "  <style>\n",
              "    .colab-df-container {\n",
              "      display:flex;\n",
              "      flex-wrap:wrap;\n",
              "      gap: 12px;\n",
              "    }\n",
              "\n",
              "    .colab-df-convert {\n",
              "      background-color: #E8F0FE;\n",
              "      border: none;\n",
              "      border-radius: 50%;\n",
              "      cursor: pointer;\n",
              "      display: none;\n",
              "      fill: #1967D2;\n",
              "      height: 32px;\n",
              "      padding: 0 0 0 0;\n",
              "      width: 32px;\n",
              "    }\n",
              "\n",
              "    .colab-df-convert:hover {\n",
              "      background-color: #E2EBFA;\n",
              "      box-shadow: 0px 1px 2px rgba(60, 64, 67, 0.3), 0px 1px 3px 1px rgba(60, 64, 67, 0.15);\n",
              "      fill: #174EA6;\n",
              "    }\n",
              "\n",
              "    [theme=dark] .colab-df-convert {\n",
              "      background-color: #3B4455;\n",
              "      fill: #D2E3FC;\n",
              "    }\n",
              "\n",
              "    [theme=dark] .colab-df-convert:hover {\n",
              "      background-color: #434B5C;\n",
              "      box-shadow: 0px 1px 3px 1px rgba(0, 0, 0, 0.15);\n",
              "      filter: drop-shadow(0px 1px 2px rgba(0, 0, 0, 0.3));\n",
              "      fill: #FFFFFF;\n",
              "    }\n",
              "  </style>\n",
              "\n",
              "      <script>\n",
              "        const buttonEl =\n",
              "          document.querySelector('#df-543929a6-127b-4272-a83f-9492d4073b5a button.colab-df-convert');\n",
              "        buttonEl.style.display =\n",
              "          google.colab.kernel.accessAllowed ? 'block' : 'none';\n",
              "\n",
              "        async function convertToInteractive(key) {\n",
              "          const element = document.querySelector('#df-543929a6-127b-4272-a83f-9492d4073b5a');\n",
              "          const dataTable =\n",
              "            await google.colab.kernel.invokeFunction('convertToInteractive',\n",
              "                                                     [key], {});\n",
              "          if (!dataTable) return;\n",
              "\n",
              "          const docLinkHtml = 'Like what you see? Visit the ' +\n",
              "            '<a target=\"_blank\" href=https://colab.research.google.com/notebooks/data_table.ipynb>data table notebook</a>'\n",
              "            + ' to learn more about interactive tables.';\n",
              "          element.innerHTML = '';\n",
              "          dataTable['output_type'] = 'display_data';\n",
              "          await google.colab.output.renderOutput(dataTable, element);\n",
              "          const docLink = document.createElement('div');\n",
              "          docLink.innerHTML = docLinkHtml;\n",
              "          element.appendChild(docLink);\n",
              "        }\n",
              "      </script>\n",
              "    </div>\n",
              "  </div>\n",
              "  "
            ]
          },
          "metadata": {},
          "execution_count": 256
        }
      ]
    },
    {
      "cell_type": "markdown",
      "source": [
        "####Exploración precio promedio en base a superficie"
      ],
      "metadata": {
        "id": "4iKBXvT5HQMd"
      }
    },
    {
      "cell_type": "markdown",
      "source": [
        "Para el conjunto a predecir:"
      ],
      "metadata": {
        "id": "dsLmH5pOKCDU"
      }
    },
    {
      "cell_type": "code",
      "source": [
        "df[df.price.isna()].average_price.describe()"
      ],
      "metadata": {
        "colab": {
          "base_uri": "https://localhost:8080/"
        },
        "id": "MFM_SovFGywq",
        "outputId": "0a2f02f4-4ed4-44ce-e6a5-2c45d57c48f5"
      },
      "execution_count": 257,
      "outputs": [
        {
          "output_type": "execute_result",
          "data": {
            "text/plain": [
              "count    1.087000e+03\n",
              "mean     2.484522e+05\n",
              "std      2.380643e+05\n",
              "min      3.074369e+04\n",
              "25%      1.143671e+05\n",
              "50%      1.671875e+05\n",
              "75%      2.832073e+05\n",
              "max      1.856783e+06\n",
              "Name: average_price, dtype: float64"
            ]
          },
          "metadata": {},
          "execution_count": 257
        }
      ]
    },
    {
      "cell_type": "code",
      "source": [
        "df[df.price.isna()].average_price.hist(bins = 40);"
      ],
      "metadata": {
        "colab": {
          "base_uri": "https://localhost:8080/",
          "height": 278
        },
        "id": "FRuXDkYEG_wn",
        "outputId": "5ca6a49e-40b1-4341-d45b-ea4c531a12b7"
      },
      "execution_count": 258,
      "outputs": [
        {
          "output_type": "display_data",
          "data": {
            "text/plain": [
              "<Figure size 432x288 with 1 Axes>"
            ],
            "image/png": "[encoded data removed]"
          },
          "metadata": {
            "needs_background": "light"
          }
        }
      ]
    },
    {
      "cell_type": "markdown",
      "source": [
        "Para el conjunto de entrenamiento: "
      ],
      "metadata": {
        "id": "F-CKYi9LKFsz"
      }
    },
    {
      "cell_type": "code",
      "source": [
        "df[df.price.notna()].plot.scatter(x = 'price', y = 'average_price');"
      ],
      "metadata": {
        "colab": {
          "base_uri": "https://localhost:8080/",
          "height": 290
        },
        "id": "AtcuvQ5CHemL",
        "outputId": "d603fd12-07de-4e76-c28c-5d8281a8ab54"
      },
      "execution_count": 259,
      "outputs": [
        {
          "output_type": "display_data",
          "data": {
            "text/plain": [
              "<Figure size 432x288 with 1 Axes>"
            ],
            "image/png": "[encoded data removed]"
          },
          "metadata": {
            "needs_background": "light"
          }
        }
      ]
    },
    {
      "cell_type": "code",
      "source": [
        "(df[df.price.notna()].price / df[df.price.notna()].average_price).hist(bins = 40);"
      ],
      "metadata": {
        "colab": {
          "base_uri": "https://localhost:8080/",
          "height": 265
        },
        "id": "T0LeBVRII3-U",
        "outputId": "9c3ddbdd-a3a6-4219-eb66-842f7f76654a"
      },
      "execution_count": 260,
      "outputs": [
        {
          "output_type": "display_data",
          "data": {
            "text/plain": [
              "<Figure size 432x288 with 1 Axes>"
            ],
            "image/png": "[encoded data removed]"
          },
          "metadata": {
            "needs_background": "light"
          }
        }
      ]
    },
    {
      "cell_type": "markdown",
      "source": [
        "Hay una relación fuerte entre el precio promedio y el precio real. Para seleccionar los límites de precio basta con tomar el precio promedio máximo para el conjunto a predecir y multiplicarlo por un margen de seguridad (2 a 5?). Con 5000000USD debería estar bien, quizás un poco más."
      ],
      "metadata": {
        "id": "jU8aL_1rIlpb"
      }
    },
    {
      "cell_type": "code",
      "source": [
        "df[df.price.notna()].price.corr(df[df.price.notna()].average_price)"
      ],
      "metadata": {
        "colab": {
          "base_uri": "https://localhost:8080/"
        },
        "id": "JxteBtD6H4VR",
        "outputId": "ff6dba38-ea7f-46b5-adf0-189e87130c72"
      },
      "execution_count": 261,
      "outputs": [
        {
          "output_type": "execute_result",
          "data": {
            "text/plain": [
              "0.8709351715905964"
            ]
          },
          "metadata": {},
          "execution_count": 261
        }
      ]
    },
    {
      "cell_type": "code",
      "source": [
        "mean_squared_error(df[df.price.notna()].price, df[df.price.notna()].average_price, squared = False)"
      ],
      "metadata": {
        "colab": {
          "base_uri": "https://localhost:8080/"
        },
        "id": "yuN6YTVaK6as",
        "outputId": "7035a6ed-12a4-424d-be88-050e21309e3c"
      },
      "execution_count": 262,
      "outputs": [
        {
          "output_type": "execute_result",
          "data": {
            "text/plain": [
              "155422.2369364478"
            ]
          },
          "metadata": {},
          "execution_count": 262
        }
      ]
    },
    {
      "cell_type": "markdown",
      "source": [
        "####Buscando valores atípicos de superficie cubierta dividido número de ambientes"
      ],
      "metadata": {
        "id": "HtIknh4FKLSb"
      }
    },
    {
      "cell_type": "code",
      "source": [
        "df.surfdivrooms.hist(range = (3,100), bins = 40);"
      ],
      "metadata": {
        "colab": {
          "base_uri": "https://localhost:8080/",
          "height": 265
        },
        "id": "MLCxP9VqKdwz",
        "outputId": "93c83c1d-3265-4967-aed1-2f26ec73dd06"
      },
      "execution_count": 263,
      "outputs": [
        {
          "output_type": "display_data",
          "data": {
            "text/plain": [
              "<Figure size 432x288 with 1 Axes>"
            ],
            "image/png": "[encoded data removed]"
          },
          "metadata": {
            "needs_background": "light"
          }
        }
      ]
    },
    {
      "cell_type": "code",
      "source": [
        "for i in [80,100,150,200,250,500]:\n",
        "  print((df.loc[df.price.notna(),'surfdivrooms'] > i).sum())"
      ],
      "metadata": {
        "colab": {
          "base_uri": "https://localhost:8080/"
        },
        "id": "auYxFf-cK8Y3",
        "outputId": "09a4d7c4-38c5-4b54-e450-bb20c8a4207a"
      },
      "execution_count": 264,
      "outputs": [
        {
          "output_type": "stream",
          "name": "stdout",
          "text": [
            "253\n",
            "50\n",
            "17\n",
            "12\n",
            "9\n",
            "0\n"
          ]
        }
      ]
    },
    {
      "cell_type": "code",
      "source": [
        "for i in [80,100,150,200,250,500]:\n",
        "  print((df.loc[df.price.isna(),'surfdivrooms'] > i).sum())"
      ],
      "metadata": {
        "colab": {
          "base_uri": "https://localhost:8080/"
        },
        "id": "7g8odTNYNMCH",
        "outputId": "431f7dc8-a8af-4310-8810-f7cbec042dba"
      },
      "execution_count": 265,
      "outputs": [
        {
          "output_type": "stream",
          "name": "stdout",
          "text": [
            "11\n",
            "4\n",
            "2\n",
            "1\n",
            "1\n",
            "1\n"
          ]
        }
      ]
    },
    {
      "cell_type": "markdown",
      "source": [
        "####Derivados de superficie"
      ],
      "metadata": {
        "id": "cz0gl2UQxHmU"
      }
    },
    {
      "cell_type": "code",
      "source": [
        "df.logsurface_covered.hist(bins = 40);"
      ],
      "metadata": {
        "colab": {
          "base_uri": "https://localhost:8080/",
          "height": 265
        },
        "id": "WE30RB0mxNyS",
        "outputId": "de4b90c0-e03f-49d0-8537-1774cd3821c4"
      },
      "execution_count": 266,
      "outputs": [
        {
          "output_type": "display_data",
          "data": {
            "text/plain": [
              "<Figure size 432x288 with 1 Axes>"
            ],
            "image/png": "[encoded data removed]"
          },
          "metadata": {
            "needs_background": "light"
          }
        }
      ]
    },
    {
      "cell_type": "markdown",
      "source": [
        "##Separo conjunto de entrenamiento y a predecir, filtro de columnas"
      ],
      "metadata": {
        "id": "XYejubpvJ4nc"
      }
    },
    {
      "cell_type": "code",
      "source": [
        "df_t, df_p = unglue(df,'price')#llamar a esta función resetea las columnas dado que no se haya tocado df."
      ],
      "metadata": {
        "id": "Bz34Tyz3KAJT"
      },
      "execution_count": 267,
      "outputs": []
    },
    {
      "cell_type": "code",
      "source": [
        "base = ['lat', 'lon', 'rooms', 'bathrooms', 'surface_total', 'surface_covered'] + ['bedrooms'] #,'price'\n",
        "baselog = ['lat', 'lon', 'rooms', 'bathrooms', 'logsurface_total', 'logsurface_covered'] + ['bedrooms']\n",
        "balcony = ['balcony']\n",
        "parking = ['parking']\n",
        "terrace = ['terrace']\n",
        "USDpersqm = ['USDperm2']\n",
        "p_type = ['PH']\n",
        "l3_expensive = ['Puerto_Madero','Palermo','Núñez','Belgrano','Recoleta']\n",
        "l3_cheap = ['Nueva_Pompeya', 'Versalles', 'Constitución', 'Boca','Villa_Lugano']\n",
        "many_rooms = ['many_rooms']\n",
        "duplex = ['duplex']\n",
        "surfdivrooms = ['surfdivrooms']\n",
        "col = base + USDpersqm + ['Puerto_Madero'] + parking + p_type \n",
        "#base + USDpersqm + ['Puerto_Madero'] + parking + p_type"
      ],
      "metadata": {
        "id": "EautL8nfNSkT"
      },
      "execution_count": 268,
      "outputs": []
    },
    {
      "cell_type": "markdown",
      "source": [
        "##Tercer filtro en base a nuevas variables"
      ],
      "metadata": {
        "id": "z4mF4LRrO5eB"
      }
    },
    {
      "cell_type": "code",
      "source": [
        "filterbysurfdivrooms = False"
      ],
      "metadata": {
        "id": "BrZvcVZYQmTz"
      },
      "execution_count": 269,
      "outputs": []
    },
    {
      "cell_type": "code",
      "source": [
        "if (filterbysurfdivrooms):\n",
        "  df_t = df_t[df_t.surfdivrooms < 150]"
      ],
      "metadata": {
        "id": "lkw_3D2dPBNW"
      },
      "execution_count": 270,
      "outputs": []
    },
    {
      "cell_type": "markdown",
      "source": [
        "##Selección de subconjunto de datos"
      ],
      "metadata": {
        "id": "JH-ht2DYaAp1"
      }
    },
    {
      "cell_type": "markdown",
      "source": [
        "Esta parte es por si se decide utilizar varios modelos, se puede crear modelos y hacer predicciones solo para datos que cumplan ciertas condiciones (en otro lado se prueba combinarlos)."
      ],
      "metadata": {
        "id": "AJrcyYzVaUzm"
      }
    },
    {
      "cell_type": "code",
      "source": [
        "filter_Puerto_Madero = False\n",
        "filter_not_Puerto_Madero = False"
      ],
      "metadata": {
        "id": "BVnXZwrNaKyp"
      },
      "execution_count": 271,
      "outputs": []
    },
    {
      "cell_type": "code",
      "source": [
        "filter_PH = False\n",
        "filter_not_PH = False"
      ],
      "metadata": {
        "id": "7NNf4iTWcjo9"
      },
      "execution_count": 272,
      "outputs": []
    },
    {
      "cell_type": "code",
      "source": [
        "filter_mid = False\n",
        "filter_expensive = False\n",
        "filter_cheap = False"
      ],
      "metadata": {
        "id": "NvgbZbyygl6T"
      },
      "execution_count": 273,
      "outputs": []
    },
    {
      "cell_type": "code",
      "source": [
        "filter_big = False\n",
        "filter_not_big = False"
      ],
      "metadata": {
        "id": "X0OTcZW1o6RU"
      },
      "execution_count": 274,
      "outputs": []
    },
    {
      "cell_type": "code",
      "source": [
        "filter_small = False\n",
        "filter_not_small = False"
      ],
      "metadata": {
        "id": "VEVwcfNRwTl5"
      },
      "execution_count": 275,
      "outputs": []
    },
    {
      "cell_type": "code",
      "source": [
        "filter_mid_size = False"
      ],
      "metadata": {
        "id": "96B5-LvB43To"
      },
      "execution_count": 276,
      "outputs": []
    },
    {
      "cell_type": "code",
      "source": [
        "if (filter_Puerto_Madero):\n",
        "  df_t = df_t[df_t.Puerto_Madero == 1]\n",
        "  df_p = df_p[df_p.Puerto_Madero == 1]\n",
        "if (filter_not_Puerto_Madero):\n",
        "  df_t = df_t[df_t.Puerto_Madero == 0]\n",
        "  df_p = df_p[df_p.Puerto_Madero == 0]"
      ],
      "metadata": {
        "id": "OMCMA7jKaRJm"
      },
      "execution_count": 277,
      "outputs": []
    },
    {
      "cell_type": "code",
      "source": [
        "if (filter_PH):\n",
        "  df_t = df_t[df_t.PH == 1]\n",
        "  df_p = df_p[df_p.PH == 1]\n",
        "if (filter_not_PH):\n",
        "  df_t = df_t[df_t.PH == 0]\n",
        "  df_p = df_p[df_p.PH == 0]"
      ],
      "metadata": {
        "id": "xYDwvzQtcqlt"
      },
      "execution_count": 278,
      "outputs": []
    },
    {
      "cell_type": "code",
      "source": [
        "if(filter_mid):\n",
        "  mask = ((df_t.Puerto_Madero == 1) | (df_t.Palermo == 1) | (df_t.Núñez == 1) | (df_t.Belgrano == 1) | (df_t.Recoleta == 1))\n",
        "  mask = mask | ((df_t.Nueva_Pompeya == 1) | (df_t.Versalles == 1) | (df_t.Constitución == 1) | (df_t.Boca == 1) | (df_t.Villa_Lugano == 1))\n",
        "  df_t = df_t[~mask]\n",
        "  mask = ((df_p.Puerto_Madero == 1) | (df_p.Palermo == 1) | (df_p.Núñez == 1) | (df_p.Belgrano == 1) | (df_p.Recoleta == 1))\n",
        "  mask = mask | ((df_p.Nueva_Pompeya == 1) | (df_p.Versalles == 1) | (df_p.Constitución == 1) | (df_p.Boca == 1) | (df_p.Villa_Lugano == 1))\n",
        "  df_p = df_p[~mask]\n",
        "if(filter_expensive):\n",
        "  mask = ((df_t.Puerto_Madero == 1) | (df_t.Palermo == 1) | (df_t.Núñez == 1) | (df_t.Belgrano == 1) | (df_t.Recoleta == 1))\n",
        "  df_t = df_t[mask]\n",
        "  mask = ((df_p.Puerto_Madero == 1) | (df_p.Palermo == 1) | (df_p.Núñez == 1) | (df_p.Belgrano == 1) | (df_p.Recoleta == 1))\n",
        "  df_p = df_p[mask]\n",
        "if(filter_cheap):\n",
        "  mask = ((df_t.Nueva_Pompeya == 1) | (df_t.Versalles == 1) | (df_t.Constitución == 1) | (df_t.Boca == 1) | (df_t.Villa_Lugano == 1))\n",
        "  df_t = df_t[mask]\n",
        "  mask = ((df_p.Nueva_Pompeya == 1) | (df_p.Versalles == 1) | (df_p.Constitución == 1) | (df_p.Boca == 1) | (df_p.Villa_Lugano == 1))\n",
        "  df_p = df_p[mask]"
      ],
      "metadata": {
        "id": "ezoW_W25gq1R"
      },
      "execution_count": 279,
      "outputs": []
    },
    {
      "cell_type": "code",
      "source": [
        "if(filter_big):\n",
        "  mask = (df_t.surface_covered > 250)\n",
        "  df_t = df_t[mask]\n",
        "  mask = (df_p.surface_covered > 250)\n",
        "  df_p = df_p[mask]\n",
        "if(filter_not_big):\n",
        "  mask = (df_t.surface_covered < 250)\n",
        "  df_t = df_t[mask]\n",
        "  mask = (df_p.surface_covered < 250)\n",
        "  df_p = df_p[mask]"
      ],
      "metadata": {
        "id": "g4tsRmj_o93t"
      },
      "execution_count": 280,
      "outputs": []
    },
    {
      "cell_type": "code",
      "source": [
        "if(filter_small):\n",
        "  mask = (df_t.surface_covered < 50)\n",
        "  df_t = df_t[mask]\n",
        "  mask = (df_p.surface_covered < 50)\n",
        "  df_p = df_p[mask]\n",
        "if(filter_not_small):\n",
        "  mask = (df_t.surface_covered > 50)\n",
        "  df_t = df_t[mask]\n",
        "  mask = (df_p.surface_covered > 50)\n",
        "  df_p = df_p[mask]"
      ],
      "metadata": {
        "id": "XshzNRxiwbwv"
      },
      "execution_count": 281,
      "outputs": []
    },
    {
      "cell_type": "code",
      "source": [
        "if(filter_mid_size):\n",
        "  mask = ((df_t.surface_covered < 200) & (df_t.surface_covered > 50))\n",
        "  df_t = df_t[mask]\n",
        "  mask = ((df_p.surface_covered < 200) & (df_p.surface_covered > 50))\n",
        "  df_p = df_p[mask]"
      ],
      "metadata": {
        "id": "XhqOt_Jd5DE7"
      },
      "execution_count": 282,
      "outputs": []
    },
    {
      "cell_type": "markdown",
      "source": [
        "# Modelización"
      ],
      "metadata": {
        "id": "i2jRJmQ-tD4Z"
      }
    },
    {
      "cell_type": "markdown",
      "source": [
        "##Entrenamiento"
      ],
      "metadata": {
        "id": "VKbpWqPjvkX7"
      }
    },
    {
      "cell_type": "markdown",
      "source": [
        "Puedo convertir precios a logaritmo (aunque no me funcionó demasiado bien, quizás porque no terminé de limpiar bien los datos)"
      ],
      "metadata": {
        "id": "oJ8P8JIfyWV2"
      }
    },
    {
      "cell_type": "code",
      "source": [
        "use_log = False"
      ],
      "metadata": {
        "id": "waub-zM5y8yU"
      },
      "execution_count": 283,
      "outputs": []
    },
    {
      "cell_type": "code",
      "source": [
        "X = df_t[col]\n",
        "#X = X.select_dtypes(include=['float64', 'int64', 'bool'])\n",
        "#df.fillna(0, inplace=True, downcast= \"infer\")"
      ],
      "metadata": {
        "id": "yg8qNxuNrzQp"
      },
      "execution_count": 284,
      "outputs": []
    },
    {
      "cell_type": "code",
      "source": [
        "#X = X[X.columns.drop(['price'])]\n",
        "y = df_t['price']\n",
        "\n",
        "if(use_log):\n",
        "  y = np.log(y + 1)\n",
        "\n",
        "X_train, X_holdout, y_train, y_holdout = train_test_split(X, y, test_size=0.20, random_state = None)#, stratify=df_train.loc[df.index, 'property_type'])\n",
        "\n",
        "n_estimators = 100\n",
        "max_depth = 11\n",
        "\n",
        "#for n_estimators in [100, 500, 1000]:     \n",
        "#    for max_depth in [3, 7, 11]:\n",
        "\n",
        "        ## Tienen que usar RandomForestRegressor si o si o si. Pueden cambiar los parámetros\n",
        "#        reg = sk.ensemble.RandomForestRegressor(n_estimators=n_estimators, max_depth=max_depth, random_state=42, n_jobs=-1)\n",
        "\n",
        "        ## Validación cruzada en 5 partes (lo van a ver en AA), -RMSE. No tocar\n",
        "#        scores = sk.model_selection.cross_val_score(reg, X, y, cv=10, scoring='neg_root_mean_squared_error')\n",
        "\n",
        "        ## Imprimimos scores. Cuando más bajo mejor\n",
        "#        print(f\"n_estimators={n_estimators}, max_depth={max_depth} --> {-scores.mean():.3f} +/- {scores.std():.3f}\")\n",
        "\n",
        "reg = sk.ensemble.RandomForestRegressor(n_estimators=n_estimators, max_depth=max_depth, random_state=42, n_jobs=-1)\n",
        "\n",
        "scores = sk.model_selection.cross_val_score(reg, X_train, y_train, cv=10, scoring='neg_root_mean_squared_error')\n",
        "\n",
        "print(scores.mean(), scores.std())"
      ],
      "metadata": {
        "id": "PoAhfAjlr-rp",
        "colab": {
          "base_uri": "https://localhost:8080/"
        },
        "outputId": "50b50871-d485-4754-b998-d573bc1bb06d"
      },
      "execution_count": 285,
      "outputs": [
        {
          "output_type": "stream",
          "name": "stdout",
          "text": [
            "-89172.63758844636 2822.4739965374906\n"
          ]
        }
      ]
    },
    {
      "cell_type": "code",
      "source": [
        "reg.fit(X_train,y_train)\n",
        "y_holdout_pred = reg.predict(X_holdout)\n",
        "\n",
        "if(use_log):\n",
        "  y_holdout = np.exp(y_holdout)\n",
        "  y_holdout_pred = np.exp(y_holdout_pred)\n",
        "print(-1 * mean_squared_error(y_holdout,y_holdout_pred, squared = False))"
      ],
      "metadata": {
        "colab": {
          "base_uri": "https://localhost:8080/"
        },
        "id": "8r5qHOGh8XPC",
        "outputId": "b6908f20-070b-46e2-8339-f9ceaf44de64"
      },
      "execution_count": 286,
      "outputs": [
        {
          "output_type": "stream",
          "name": "stdout",
          "text": [
            "-87485.71161057208\n"
          ]
        }
      ]
    },
    {
      "cell_type": "code",
      "source": [
        "pd.DataFrame({'atributo': reg.feature_names_in_, 'importancia': reg.feature_importances_}).plot.bar(x=\"atributo\", y=\"importancia\");"
      ],
      "metadata": {
        "colab": {
          "base_uri": "https://localhost:8080/",
          "height": 351
        },
        "id": "oWvJ61G-el-x",
        "outputId": "d7f0222e-f5bc-4b5c-b3de-846bfbbbbe4c"
      },
      "execution_count": 287,
      "outputs": [
        {
          "output_type": "display_data",
          "data": {
            "text/plain": [
              "<Figure size 432x288 with 1 Axes>"
            ],
            "image/png": "[encoded data removed]"
          },
          "metadata": {
            "needs_background": "light"
          }
        }
      ]
    },
    {
      "cell_type": "markdown",
      "source": [
        "##Diagnóstico"
      ],
      "metadata": {
        "id": "IBmBG35DvejJ"
      }
    },
    {
      "cell_type": "code",
      "source": [
        "s_holdout_pred = pd.Series(y_holdout_pred, index = y_holdout.index)"
      ],
      "metadata": {
        "id": "xL5Gm1QnvtX_"
      },
      "execution_count": 288,
      "outputs": []
    },
    {
      "cell_type": "code",
      "source": [
        "mask = (df_t.loc[X_holdout.index,'Puerto_Madero'] == 1)\n",
        "print(-1 * mean_squared_error(y_holdout[mask],y_holdout_pred[mask], squared = False))"
      ],
      "metadata": {
        "colab": {
          "base_uri": "https://localhost:8080/"
        },
        "id": "GXKW8KDVxef4",
        "outputId": "aca678e5-0ee0-45b2-be7a-d35f7c89f494"
      },
      "execution_count": 289,
      "outputs": [
        {
          "output_type": "stream",
          "name": "stdout",
          "text": [
            "-222902.30951681975\n"
          ]
        }
      ]
    },
    {
      "cell_type": "code",
      "source": [
        "mask = ((df_t.loc[X_holdout.index,'Palermo'] == 1) | (df_t.loc[X_holdout.index,'Núñez'] == 1) | (df_t.loc[X_holdout.index,'Belgrano'] == 1) | (df_t.loc[X_holdout.index,'Recoleta'] == 1))\n",
        "print(-1 * mean_squared_error(y_holdout[mask],y_holdout_pred[mask], squared = False))"
      ],
      "metadata": {
        "colab": {
          "base_uri": "https://localhost:8080/"
        },
        "id": "mHksMQ2iyhaI",
        "outputId": "8b73f86f-befd-4051-c21e-56480cae62e9"
      },
      "execution_count": 290,
      "outputs": [
        {
          "output_type": "stream",
          "name": "stdout",
          "text": [
            "-119286.57800521787\n"
          ]
        }
      ]
    },
    {
      "cell_type": "code",
      "source": [
        "mask = (df_t.loc[X_holdout.index,'Villa_Lugano'] == 1)\n",
        "print(-1 * mean_squared_error(y_holdout[mask],y_holdout_pred[mask], squared = False))"
      ],
      "metadata": {
        "colab": {
          "base_uri": "https://localhost:8080/"
        },
        "id": "Yncs9q4azTgT",
        "outputId": "e40943d6-8478-41c6-d7a5-6240e6c84c48"
      },
      "execution_count": 291,
      "outputs": [
        {
          "output_type": "stream",
          "name": "stdout",
          "text": [
            "-16047.667856281985\n"
          ]
        }
      ]
    },
    {
      "cell_type": "code",
      "source": [
        "mask = ((df_t.loc[X_holdout.index,'Nueva_Pompeya'] == 1) | (df_t.loc[X_holdout.index,'Versalles'] == 1) | (df_t.loc[X_holdout.index,'Constitución'] == 1) | (df_t.loc[X_holdout.index,'Boca'] == 1))\n",
        "print(-1 * mean_squared_error(y_holdout[mask],y_holdout_pred[mask], squared = False))"
      ],
      "metadata": {
        "colab": {
          "base_uri": "https://localhost:8080/"
        },
        "id": "CBDtjNhxzTgT",
        "outputId": "6f148415-b031-47e5-a219-ea341ef65bdc"
      },
      "execution_count": 292,
      "outputs": [
        {
          "output_type": "stream",
          "name": "stdout",
          "text": [
            "-25623.18093575225\n"
          ]
        }
      ]
    },
    {
      "cell_type": "code",
      "source": [
        "mask = (df_t.loc[X_holdout.index,'Puerto_Madero'] == 1)\n",
        "mask = mask | ((df_t.loc[X_holdout.index,'Palermo'] == 1) | (df_t.loc[X_holdout.index,'Núñez'] == 1) | (df_t.loc[X_holdout.index,'Belgrano'] == 1) | (df_t.loc[X_holdout.index,'Recoleta'] == 1))\n",
        "mask = mask | ((df_t.loc[X_holdout.index,'Nueva_Pompeya'] == 1) | (df_t.loc[X_holdout.index,'Versalles'] == 1) | (df_t.loc[X_holdout.index,'Constitución'] == 1) | (df_t.loc[X_holdout.index,'Boca'] == 1))\n",
        "mask = mask | (df_t.loc[X_holdout.index,'Villa_Lugano'] == 1)\n",
        "mask = ~mask\n",
        "print(-1 * mean_squared_error(y_holdout[mask],y_holdout_pred[mask], squared = False))"
      ],
      "metadata": {
        "colab": {
          "base_uri": "https://localhost:8080/"
        },
        "id": "heFJJakHWSw8",
        "outputId": "98c1bc0d-ff6e-4ffa-8b72-d21df5e5f8fb"
      },
      "execution_count": 293,
      "outputs": [
        {
          "output_type": "stream",
          "name": "stdout",
          "text": [
            "-37504.52000333614\n"
          ]
        }
      ]
    },
    {
      "cell_type": "code",
      "source": [
        "mask = (df_t.loc[X_holdout.index,'PH'] == 1)\n",
        "print(-1 * mean_squared_error(y_holdout[mask],y_holdout_pred[mask], squared = False))"
      ],
      "metadata": {
        "colab": {
          "base_uri": "https://localhost:8080/"
        },
        "id": "IhpZTdtyzVKJ",
        "outputId": "8547ea6d-0baf-41f1-cc7f-1b07f167ad02"
      },
      "execution_count": 294,
      "outputs": [
        {
          "output_type": "stream",
          "name": "stdout",
          "text": [
            "-56660.06279806287\n"
          ]
        }
      ]
    },
    {
      "cell_type": "code",
      "source": [
        "mask = (df_t.loc[X_holdout.index,'PH'] == 0)\n",
        "print(-1 * mean_squared_error(y_holdout[mask],y_holdout_pred[mask], squared = False))"
      ],
      "metadata": {
        "colab": {
          "base_uri": "https://localhost:8080/"
        },
        "id": "PUh_DpUuzqJH",
        "outputId": "d508b2b9-e9b9-4ffd-92ca-7051d36eb4e9"
      },
      "execution_count": 295,
      "outputs": [
        {
          "output_type": "stream",
          "name": "stdout",
          "text": [
            "-90460.07946631123\n"
          ]
        }
      ]
    },
    {
      "cell_type": "code",
      "source": [
        "mask = (X_holdout.surface_covered > 300)\n",
        "print(-1 * mean_squared_error(y_holdout[mask],y_holdout_pred[mask], squared = False))"
      ],
      "metadata": {
        "colab": {
          "base_uri": "https://localhost:8080/"
        },
        "id": "zdCmiqL3mIWU",
        "outputId": "d213dd8c-c66a-4855-873b-3e5f796414e6"
      },
      "execution_count": 296,
      "outputs": [
        {
          "output_type": "stream",
          "name": "stdout",
          "text": [
            "-378796.9078892039\n"
          ]
        }
      ]
    },
    {
      "cell_type": "code",
      "source": [
        "mask = ((X_holdout.surface_covered < 300) & (X_holdout.surface_covered > 200))\n",
        "print(-1 * mean_squared_error(y_holdout[mask],y_holdout_pred[mask], squared = False))"
      ],
      "metadata": {
        "colab": {
          "base_uri": "https://localhost:8080/"
        },
        "id": "2hXpomFJmWq2",
        "outputId": "b6540482-f987-4748-da82-a0cec8228a75"
      },
      "execution_count": 297,
      "outputs": [
        {
          "output_type": "stream",
          "name": "stdout",
          "text": [
            "-285471.740943558\n"
          ]
        }
      ]
    },
    {
      "cell_type": "code",
      "source": [
        "mask = ((X_holdout.surface_covered < 200) & (X_holdout.surface_covered > 100))\n",
        "print(-1 * mean_squared_error(y_holdout[mask],y_holdout_pred[mask], squared = False))"
      ],
      "metadata": {
        "colab": {
          "base_uri": "https://localhost:8080/"
        },
        "id": "qsR3BvjtmknH",
        "outputId": "1536074f-d590-4b78-9802-60e8a489d171"
      },
      "execution_count": 298,
      "outputs": [
        {
          "output_type": "stream",
          "name": "stdout",
          "text": [
            "-101681.26141162017\n"
          ]
        }
      ]
    },
    {
      "cell_type": "code",
      "source": [
        "mask = ((X_holdout.surface_covered < 150) & (X_holdout.surface_covered > 100))\n",
        "print(-1 * mean_squared_error(y_holdout[mask],y_holdout_pred[mask], squared = False))"
      ],
      "metadata": {
        "colab": {
          "base_uri": "https://localhost:8080/"
        },
        "id": "7k2xJKqpu27M",
        "outputId": "ac7cb4d9-ecd7-4b2b-873b-2c1e18df9582"
      },
      "execution_count": 299,
      "outputs": [
        {
          "output_type": "stream",
          "name": "stdout",
          "text": [
            "-85377.46464439544\n"
          ]
        }
      ]
    },
    {
      "cell_type": "code",
      "source": [
        "mask = ((X_holdout.surface_covered < 100) & (X_holdout.surface_covered > 50))\n",
        "print(-1 * mean_squared_error(y_holdout[mask],y_holdout_pred[mask], squared = False))"
      ],
      "metadata": {
        "colab": {
          "base_uri": "https://localhost:8080/"
        },
        "id": "Sd3F1gPumuwj",
        "outputId": "d2086b62-f367-4a4f-abb7-112bd41eb070"
      },
      "execution_count": 300,
      "outputs": [
        {
          "output_type": "stream",
          "name": "stdout",
          "text": [
            "-40990.70976200467\n"
          ]
        }
      ]
    },
    {
      "cell_type": "code",
      "source": [
        "mask = (X_holdout.surface_covered < 50)\n",
        "print(-1 * mean_squared_error(y_holdout[mask],y_holdout_pred[mask], squared = False))"
      ],
      "metadata": {
        "id": "yQ9I_52fm1RF",
        "colab": {
          "base_uri": "https://localhost:8080/"
        },
        "outputId": "100344aa-ddc4-40f4-f9ef-92c53d2d0ebc"
      },
      "execution_count": 301,
      "outputs": [
        {
          "output_type": "stream",
          "name": "stdout",
          "text": [
            "-22038.727174259147\n"
          ]
        }
      ]
    },
    {
      "cell_type": "markdown",
      "source": [
        "##Predicción"
      ],
      "metadata": {
        "id": "Knf4K22-vplQ"
      }
    },
    {
      "cell_type": "code",
      "source": [
        "#df_p = pd.read_csv('/content/a_predecir.csv', index_col=\"id\")\n",
        "#df_p.fillna(0, inplace=True)"
      ],
      "metadata": {
        "id": "01697gx81F5Z"
      },
      "execution_count": 302,
      "outputs": []
    },
    {
      "cell_type": "code",
      "source": [
        "X_pred = df_p[X.columns]"
      ],
      "metadata": {
        "id": "xzAwUNRA1Fzb"
      },
      "execution_count": 303,
      "outputs": []
    },
    {
      "cell_type": "code",
      "source": [
        "# los mejores hiperparámetros encontrados antes\n",
        "#n_estimators = 100\n",
        "#max_depth = 7\n",
        "\n",
        "# entrenamiento\n",
        "reg = sk.ensemble.RandomForestRegressor(n_estimators=n_estimators, max_depth=max_depth, random_state=42, n_jobs=-1)\n",
        "reg.fit(X, y)\n",
        "\n",
        "# predicción\n",
        "y_pred = reg.predict(X_pred)\n",
        "\n",
        "if(use_log):\n",
        "  y_pred = np.exp(y_pred)\n",
        "\n",
        "df_p[\"price\"] = y_pred"
      ],
      "metadata": {
        "id": "81dOh5WvAPMa",
        "colab": {
          "base_uri": "https://localhost:8080/"
        },
        "outputId": "4f74e955-5d19-4c8c-ee4c-98f1cd199359"
      },
      "execution_count": 304,
      "outputs": [
        {
          "output_type": "stream",
          "name": "stderr",
          "text": [
            "/usr/local/lib/python3.7/dist-packages/ipykernel_launcher.py:15: SettingWithCopyWarning: \n",
            "A value is trying to be set on a copy of a slice from a DataFrame.\n",
            "Try using .loc[row_indexer,col_indexer] = value instead\n",
            "\n",
            "See the caveats in the documentation: https://pandas.pydata.org/pandas-docs/stable/user_guide/indexing.html#returning-a-view-versus-a-copy\n",
            "  from ipykernel import kernelapp as app\n"
          ]
        }
      ]
    },
    {
      "cell_type": "code",
      "source": [
        "pd.DataFrame({'atributo': reg.feature_names_in_, 'importancia': reg.feature_importances_}).plot.bar(x=\"atributo\", y=\"importancia\");"
      ],
      "metadata": {
        "id": "SO17lZ01rD0V",
        "colab": {
          "base_uri": "https://localhost:8080/",
          "height": 351
        },
        "outputId": "fb2d94e8-bc35-4197-b81f-38e4ba5da864"
      },
      "execution_count": 305,
      "outputs": [
        {
          "output_type": "display_data",
          "data": {
            "text/plain": [
              "<Figure size 432x288 with 1 Axes>"
            ],
            "image/png": "[encoded data removed]"
          },
          "metadata": {
            "needs_background": "light"
          }
        }
      ]
    },
    {
      "cell_type": "code",
      "source": [
        "# grabo la solución\n",
        "df_p[[\"price\"]].to_csv(\"solucion.csv\")"
      ],
      "metadata": {
        "id": "mU9iV6cuBwKB"
      },
      "execution_count": 306,
      "outputs": []
    }
  ]
}